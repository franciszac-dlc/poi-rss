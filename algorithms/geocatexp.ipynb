{
 "cells": [
  {
   "cell_type": "markdown",
   "metadata": {},
   "source": [
    "## GeoCat experimental"
   ]
  },
  {
   "cell_type": "code",
   "execution_count": null,
   "metadata": {},
   "outputs": [],
   "source": [
    "import numpy as np\n",
    "import pandas as pd\n",
    "import recommenders as rec\n",
    "import geocat\n",
    "import networkx as nx\n",
    "import matplotlib.pyplot as plt\n",
    "import areamanager\n",
    "import math\n",
    "import timeit\n",
    "%matplotlib inline\n",
    "def string_to_array(string):\n",
    "    if string == '':\n",
    "        return list()\n",
    "    return eval(string)"
   ]
  },
  {
   "cell_type": "code",
   "execution_count": null,
   "metadata": {},
   "outputs": [],
   "source": [
    "df_checkin=pd.read_csv(\"../data/checkin/lasvegas.csv\",nrows=9900,converters={'categories':string_to_array})\n",
    "users=df_checkin['user_id'].drop_duplicates().reset_index(drop=True)\n",
    "df_checkin.set_index(\"user_id\",inplace=True)\n",
    "df_checkin.head()"
   ]
  },
  {
   "cell_type": "code",
   "execution_count": null,
   "metadata": {},
   "outputs": [],
   "source": [
    "df_poi=pd.read_csv(\"../data/poi/lasvegas.csv\",converters={'categories':string_to_array})"
   ]
  },
  {
   "cell_type": "code",
   "execution_count": null,
   "metadata": {},
   "outputs": [],
   "source": [
    "dict_alias_title,category_tree,dict_alias_depth=geocat.category_manipulation_utils()\n",
    "undirected_category_tree=category_tree.to_undirected()"
   ]
  },
  {
   "cell_type": "code",
   "execution_count": null,
   "metadata": {},
   "outputs": [],
   "source": [
    "users.count()"
   ]
  },
  {
   "cell_type": "code",
   "execution_count": null,
   "metadata": {},
   "outputs": [],
   "source": [
    "N=80\n",
    "K=20\n",
    "VERY_SMALL_VALUE=-100\n",
    "i=0\n",
    "\n",
    "# tmp_rec_list=rec.mostpopular(df_checkin,K)\n",
    "# tmp_rec_list['score']=tmp_rec_list['score']/tmp_rec_list['score'].max()\n",
    "# print(tmp_rec_list)\n",
    "\n",
    "for user_id in users:\n",
    "    tmp_rec_list=rec.mostpopular(df_checkin.reset_index(),N)\n",
    "    tmp_rec_list['score']=tmp_rec_list['score']/tmp_rec_list['score'].max()\n",
    "    #print(tmp_rec_list)\n",
    "    # add other columns\n",
    "    tmp_rec_list=pd.merge(tmp_rec_list,df_poi,on='business_id').drop_duplicates(subset=df_poi.columns.difference(['categories'])).reset_index(drop=True)\n",
    "    #print(tmp_rec_list)\n",
    "    \n",
    "    # User visits\n",
    "    df_user_checkin=df_checkin.loc[[user_id]].reset_index(drop=True)\n",
    "\n",
    "    business_cover=dict()\n",
    "    for business_id in df_user_checkin['business_id'].drop_duplicates().reset_index(drop=True):\n",
    "        business_cover[business_id]=0\n",
    "    # Constants\n",
    "    #COVER_OF_POI=len(df_user_review)/len(tmp_rec_list)\n",
    "    div_geo_cat_weight = 0.5 # beta,this is here because of the work to be done on parameter customization for each user\n",
    "    div_weight = 0.75 # lambda, geo vs cat\n",
    "    current_proportionality=0\n",
    "    \n",
    "    rec_list=pd.DataFrame(columns=['business_id','score','latitude','longitude','categories'])\n",
    "    relevant_categories_user=geocat.relevant_categories_to_the_user(df_user_checkin)\n",
    "    \n",
    "    \n",
    "    \n",
    "    # post-processing for diversification\n",
    "    for i in range(K):\n",
    "        start = timeit.default_timer()\n",
    "        #num_current_candidates=len(tmp_rec_list)\n",
    "        poi_to_insert=None\n",
    "        max_objective_value=VERY_SMALL_VALUE\n",
    "        rec_list_categories=geocat.category_in_rec_list(tmp_rec_list)\n",
    "        \n",
    "        for index,poi_candidate in tmp_rec_list.iterrows():\n",
    "            objective_value=geocat.objective_ILD_GC_PR(poi_candidate,df_user_checkin,tmp_rec_list,K,\\\n",
    "                                                business_cover,current_proportionality,\\\n",
    "                                               div_geo_cat_weight,div_weight,dict_alias_title,undirected_category_tree,\\\n",
    "                                                      relevant_categories_user,rec_list_categories)\n",
    "            \n",
    "            if objective_value > max_objective_value:\n",
    "                max_objective_value=objective_value\n",
    "                poi_to_insert=poi_candidate\n",
    "        #print(poi_to_insert)    \n",
    "        stop = timeit.default_timer()\n",
    "        print('Time:', stop - start)\n",
    "        if poi_to_insert is not None:\n",
    "            poi_to_insert['score']=max_objective_value\n",
    "            rec_list=rec_list.append(poi_to_insert)\n",
    "            # remove from tmp_rec_list\n",
    "            tmp_rec_list=tmp_rec_list[tmp_rec_list['business_id']!=poi_to_insert['business_id']].reset_index(drop=True)\n",
    "            \n",
    "            current_proportionality=geocat.update_geo_cov(poi_to_insert,df_user_checkin,K,business_cover)\n",
    "    \n",
    "    print(user_id)        \n",
    "    print(rec_list[['business_id','score']])\n",
    "    break\n",
    "    \n",
    "    if i % 1111 ==10:\n",
    "        break\n",
    "\n"
   ]
  },
  {
   "cell_type": "markdown",
   "metadata": {},
   "source": [
    "0   IMLrj2klosTFvPRLv56cng  0.260358\n",
    "24  ujmEBvifdJM6h6RLv4wQIg  0.050891\n",
    "68  V13IWgZvNps2Vo7WyEnD8A  0.024049\n",
    "0   XXW_OFaYQkkGOGniujZFHg  0.000000\n",
    "0   FvVSy2r7_zDEhZWqLgjXNQ  0.000000\n",
    "0   WRQ-9LluyivReFiQZFUujw  0.000000\n",
    "0   Vs7gc9EE3k9wARuUcN9piA  0.000000\n",
    "0   Os1n1_idfw9vv9kwULGJnQ  0.000000\n",
    "0   qsJkjQoM3Hdg6Gtqp2S9_w  0.000000\n",
    "0   O7UMzd3i-Zk8dMeyY9ZwoA  0.000000\n",
    "0   qmymSqVwHYRqdwfcBatzpQ  0.000000\n",
    "0   pH0BLkL4cbxKzu471VZnuA  0.000000\n",
    "0   78hGCrQ6wLA2yh8zMywnmw  0.000000\n",
    "0   _pBXtjN43eqMV0XZTz7nmw  0.000000\n",
    "0   tMYYSWyTppDcF070Hmy-kQ  0.000000\n",
    "0   dm6sO_Y8JdKTE1ZM955yug  0.000000\n",
    "0   Yiw2jUJzUdFmglHZgj4RaQ  0.000000\n",
    "0   FhIeCF6QrsLaRvAeu0oEPQ  0.000000\n",
    "0   5ma1OUQWy_Ds80xUiP7JPQ  0.000000\n",
    "0   k2b3niokS_tosjah_rzCPw  0.000000"
   ]
  }
 ],
 "metadata": {
  "kernelspec": {
   "display_name": "Python 3",
   "language": "python",
   "name": "python3"
  },
  "language_info": {
   "codemirror_mode": {
    "name": "ipython",
    "version": 3
   },
   "file_extension": ".py",
   "mimetype": "text/x-python",
   "name": "python",
   "nbconvert_exporter": "python",
   "pygments_lexer": "ipython3",
   "version": "3.7.4"
  }
 },
 "nbformat": 4,
 "nbformat_minor": 4
}
