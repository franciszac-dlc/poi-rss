{
 "cells": [
  {
   "cell_type": "markdown",
   "metadata": {},
   "source": [
    "## GeoCat experimental"
   ]
  },
  {
   "cell_type": "code",
   "execution_count": 1,
   "metadata": {},
   "outputs": [],
   "source": [
    "import importlib\n",
    "from collections import defaultdict\n",
    "import numpy as np\n",
    "import pandas as pd\n",
    "import recommenders as rec\n",
    "import geocat\n",
    "import networkx as nx\n",
    "import matplotlib.pyplot as plt\n",
    "import areamanager\n",
    "import math\n",
    "import timeit\n",
    "from IPython.core.debugger import set_trace\n",
    "%matplotlib inline\n",
    "def string_to_array(string):\n",
    "    if string == '':\n",
    "        return list()\n",
    "    return eval(string)\n",
    "importlib.reload(geocat)\n",
    "importlib.reload(rec)\n",
    "CITY=\"madison\"\n",
    "\n"
   ]
  },
  {
   "cell_type": "code",
   "execution_count": 2,
   "metadata": {},
   "outputs": [
    {
     "data": {
      "text/html": [
       "<div>\n",
       "<style scoped>\n",
       "    .dataframe tbody tr th:only-of-type {\n",
       "        vertical-align: middle;\n",
       "    }\n",
       "\n",
       "    .dataframe tbody tr th {\n",
       "        vertical-align: top;\n",
       "    }\n",
       "\n",
       "    .dataframe thead th {\n",
       "        text-align: right;\n",
       "    }\n",
       "</style>\n",
       "<table border=\"1\" class=\"dataframe\">\n",
       "  <thead>\n",
       "    <tr style=\"text-align: right;\">\n",
       "      <th></th>\n",
       "      <th>business_id</th>\n",
       "      <th>date</th>\n",
       "      <th>latitude</th>\n",
       "      <th>longitude</th>\n",
       "      <th>categories</th>\n",
       "      <th>subarea_id</th>\n",
       "    </tr>\n",
       "    <tr>\n",
       "      <th>user_id</th>\n",
       "      <th></th>\n",
       "      <th></th>\n",
       "      <th></th>\n",
       "      <th></th>\n",
       "      <th></th>\n",
       "      <th></th>\n",
       "    </tr>\n",
       "  </thead>\n",
       "  <tbody>\n",
       "    <tr>\n",
       "      <th>0</th>\n",
       "      <td>1744</td>\n",
       "      <td>2017-12-15 14:05:01</td>\n",
       "      <td>43.075012</td>\n",
       "      <td>-89.447498</td>\n",
       "      <td>[desserts, cafes, coffee]</td>\n",
       "      <td>2143.0</td>\n",
       "    </tr>\n",
       "    <tr>\n",
       "      <th>0</th>\n",
       "      <td>2746</td>\n",
       "      <td>2018-01-18 20:57:23</td>\n",
       "      <td>43.106774</td>\n",
       "      <td>-89.497738</td>\n",
       "      <td>[desserts, tradamerican, diners, gastropubs, b...</td>\n",
       "      <td>2641.0</td>\n",
       "    </tr>\n",
       "    <tr>\n",
       "      <th>0</th>\n",
       "      <td>30</td>\n",
       "      <td>2018-01-23 23:14:37</td>\n",
       "      <td>43.072654</td>\n",
       "      <td>-89.384062</td>\n",
       "      <td>[bars, mexican]</td>\n",
       "      <td>2133.0</td>\n",
       "    </tr>\n",
       "    <tr>\n",
       "      <th>0</th>\n",
       "      <td>432</td>\n",
       "      <td>2018-01-27 02:17:06</td>\n",
       "      <td>43.072439</td>\n",
       "      <td>-89.384610</td>\n",
       "      <td>[tradamerican, bars]</td>\n",
       "      <td>2133.0</td>\n",
       "    </tr>\n",
       "    <tr>\n",
       "      <th>0</th>\n",
       "      <td>22</td>\n",
       "      <td>2018-01-27 02:31:26</td>\n",
       "      <td>43.075100</td>\n",
       "      <td>-89.381069</td>\n",
       "      <td>[mexican]</td>\n",
       "      <td>2132.0</td>\n",
       "    </tr>\n",
       "  </tbody>\n",
       "</table>\n",
       "</div>"
      ],
      "text/plain": [
       "         business_id                 date   latitude  longitude  \\\n",
       "user_id                                                           \n",
       "0               1744  2017-12-15 14:05:01  43.075012 -89.447498   \n",
       "0               2746  2018-01-18 20:57:23  43.106774 -89.497738   \n",
       "0                 30  2018-01-23 23:14:37  43.072654 -89.384062   \n",
       "0                432  2018-01-27 02:17:06  43.072439 -89.384610   \n",
       "0                 22  2018-01-27 02:31:26  43.075100 -89.381069   \n",
       "\n",
       "                                                categories  subarea_id  \n",
       "user_id                                                                 \n",
       "0                                [desserts, cafes, coffee]      2143.0  \n",
       "0        [desserts, tradamerican, diners, gastropubs, b...      2641.0  \n",
       "0                                          [bars, mexican]      2133.0  \n",
       "0                                     [tradamerican, bars]      2133.0  \n",
       "0                                                [mexican]      2132.0  "
      ]
     },
     "execution_count": 2,
     "metadata": {},
     "output_type": "execute_result"
    }
   ],
   "source": [
    "df_checkin=pd.read_csv(\"../data/checkin/\"+CITY+\".csv\",converters={'categories':string_to_array})\n",
    "\n",
    "df_checkin_train=pd.read_csv(\"../data/checkin/train/\"+CITY+\".csv\",converters={'categories':string_to_array})\n",
    "\n",
    "\n",
    "users_id=df_checkin['user_id'].drop_duplicates().reset_index(drop=True)\n",
    "pois_id=df_checkin['business_id'].drop_duplicates().reset_index(drop=True)\n",
    "user_num=len(users_id)\n",
    "poi_num=len(pois_id)\n",
    "\n",
    "\n",
    "df_checkin_train=df_checkin_train.set_index('user_id')\n",
    "\n",
    "df_checkin_train.head()"
   ]
  },
  {
   "cell_type": "code",
   "execution_count": 3,
   "metadata": {},
   "outputs": [],
   "source": [
    "df_checkin_test=pd.read_csv(\"../data/checkin/test/\"+CITY+\".csv\",converters={'categories':string_to_array})"
   ]
  },
  {
   "cell_type": "code",
   "execution_count": 4,
   "metadata": {},
   "outputs": [],
   "source": [
    "ground_truth = defaultdict(set)\n",
    "for index,row in df_checkin_test[['user_id','business_id']].drop_duplicates().iterrows():\n",
    "    ground_truth[row['user_id']].add(row['business_id'])"
   ]
  },
  {
   "cell_type": "code",
   "execution_count": 5,
   "metadata": {},
   "outputs": [],
   "source": [
    "poi_coos = {}\n",
    "for lid,latlon in df_checkin[['business_id','latitude','longitude']].reset_index(drop=True).drop_duplicates().set_index('business_id').iterrows():\n",
    "    poi_coos[lid] = tuple(latlon)"
   ]
  },
  {
   "cell_type": "code",
   "execution_count": 6,
   "metadata": {},
   "outputs": [],
   "source": [
    "poi_cats = {}\n",
    "for lid,row in df_checkin[['business_id','categories']].reset_index(drop=True).drop_duplicates(subset=['business_id']).set_index('business_id').iterrows():\n",
    "    poi_cats[lid] = row.categories"
   ]
  },
  {
   "cell_type": "code",
   "execution_count": 7,
   "metadata": {},
   "outputs": [],
   "source": [
    "dict_alias_title,category_tree,dict_alias_depth=geocat.category_manipulation_utils()\n",
    "undirected_category_tree=category_tree.to_undirected()"
   ]
  },
  {
   "cell_type": "code",
   "execution_count": 8,
   "metadata": {},
   "outputs": [],
   "source": [
    "training_matrix = np.zeros((user_num, poi_num))\n",
    "for user_id,poi_id in df_checkin_train.business_id.iteritems():\n",
    "   # print(user_id,poi_id)\n",
    "    training_matrix[user_id,poi_id]+=1"
   ]
  },
  {
   "cell_type": "code",
   "execution_count": 9,
   "metadata": {},
   "outputs": [],
   "source": [
    "all_uids = list(range(user_num))\n",
    "all_lids = list(range(poi_num))"
   ]
  },
  {
   "cell_type": "code",
   "execution_count": 10,
   "metadata": {},
   "outputs": [],
   "source": [
    "np.random.shuffle(all_uids)"
   ]
  },
  {
   "cell_type": "code",
   "execution_count": 115,
   "metadata": {},
   "outputs": [],
   "source": [
    "user_predict={}\n",
    "for index,row in pd.read_csv(\"../data/result/sigir11_top_100.txt\",header=None).iterrows():\n",
    "    user_id=row[0]\n",
    "    lid_list=row[1]\n",
    "    user_predict[user_id]=eval(lid_list)"
   ]
  },
  {
   "cell_type": "code",
   "execution_count": 12,
   "metadata": {},
   "outputs": [],
   "source": [
    "df_poi_neighbor=pd.read_csv(\"../data/neighbor/\"+CITY+\".csv\",converters={'neighbors':string_to_array})\n",
    "df_poi_neighbor=df_poi_neighbor.set_index(\"business_id\")\n",
    "poi_neighbors={}\n",
    "for lid,row in df_poi_neighbor.iterrows():\n",
    "    neighbors=row['neighbors']\n",
    "    poi_neighbors[lid]=neighbors\n",
    "df_poi_neighbor=None"
   ]
  },
  {
   "cell_type": "code",
   "execution_count": 130,
   "metadata": {},
   "outputs": [
    {
     "data": {
      "text/plain": [
       "<module 'objfunction' from '/home/heitor/recsys/algorithms/objfunction.py'>"
      ]
     },
     "execution_count": 130,
     "metadata": {},
     "output_type": "execute_result"
    }
   ],
   "source": [
    "import objfunction\n",
    "importlib.reload(objfunction)"
   ]
  },
  {
   "cell_type": "code",
   "execution_count": 131,
   "metadata": {},
   "outputs": [
    {
     "ename": "NameError",
     "evalue": "name 'log_pois_ids' is not defined",
     "output_type": "error",
     "traceback": [
      "\u001b[0;31m---------------------------------------------------------------------------\u001b[0m",
      "\u001b[0;31mNameError\u001b[0m                                 Traceback (most recent call last)",
      "\u001b[0;32m<ipython-input-131-045754369c45>\u001b[0m in \u001b[0;36m<module>\u001b[0;34m\u001b[0m\n\u001b[1;32m     36\u001b[0m \u001b[0;31m#                 print(objfunction.gc(candidate_poi_id,relevant_cats,poi_cats))\u001b[0m\u001b[0;34m\u001b[0m\u001b[0;34m\u001b[0m\u001b[0;34m\u001b[0m\u001b[0m\n\u001b[1;32m     37\u001b[0m \u001b[0;31m#                 print(objfunction.min_dist_to_list_cat(candidate_poi_id,rec_list,poi_cats,undirected_category_tree))\u001b[0m\u001b[0;34m\u001b[0m\u001b[0;34m\u001b[0m\u001b[0;34m\u001b[0m\u001b[0m\n\u001b[0;32m---> 38\u001b[0;31m                 \u001b[0mprint\u001b[0m\u001b[0;34m(\u001b[0m\u001b[0mobjfunction\u001b[0m\u001b[0;34m.\u001b[0m\u001b[0mupdate_geo_cov\u001b[0m\u001b[0;34m(\u001b[0m\u001b[0mcandidate_poi_id\u001b[0m\u001b[0;34m,\u001b[0m\u001b[0mlog_poi_ids\u001b[0m\u001b[0;34m,\u001b[0m\u001b[0mK\u001b[0m\u001b[0;34m,\u001b[0m\u001b[0mpoi_cover\u001b[0m\u001b[0;34m.\u001b[0m\u001b[0mcopy\u001b[0m\u001b[0;34m(\u001b[0m\u001b[0;34m)\u001b[0m\u001b[0;34m,\u001b[0m\u001b[0mpoi_neighbors\u001b[0m\u001b[0;34m)\u001b[0m\u001b[0;34m)\u001b[0m\u001b[0;34m\u001b[0m\u001b[0;34m\u001b[0m\u001b[0m\n\u001b[0m\u001b[1;32m     39\u001b[0m                 \u001b[0;32mpass\u001b[0m\u001b[0;34m\u001b[0m\u001b[0;34m\u001b[0m\u001b[0m\n\u001b[1;32m     40\u001b[0m \u001b[0;34m\u001b[0m\u001b[0m\n",
      "\u001b[0;32m~/recsys/algorithms/objfunction.py\u001b[0m in \u001b[0;36mupdate_geo_cov\u001b[0;34m(poi_id, log_poi_ids, rec_list_size, poi_cover, poi_neighbors)\u001b[0m\n\u001b[1;32m     73\u001b[0m     \u001b[0mDP\u001b[0m\u001b[0;34m=\u001b[0m\u001b[0;36m0\u001b[0m\u001b[0;34m\u001b[0m\u001b[0;34m\u001b[0m\u001b[0m\n\u001b[1;32m     74\u001b[0m \u001b[0;34m\u001b[0m\u001b[0m\n\u001b[0;32m---> 75\u001b[0;31m     \u001b[0;32mfor\u001b[0m \u001b[0mlid\u001b[0m \u001b[0;32min\u001b[0m \u001b[0mlog_pois_ids\u001b[0m\u001b[0;34m:\u001b[0m\u001b[0;34m\u001b[0m\u001b[0;34m\u001b[0m\u001b[0m\n\u001b[0m\u001b[1;32m     76\u001b[0m         \u001b[0;32mif\u001b[0m \u001b[0mvl\u001b[0m\u001b[0;34m>=\u001b[0m\u001b[0mbusiness_cover\u001b[0m\u001b[0;34m[\u001b[0m\u001b[0mlid\u001b[0m\u001b[0;34m]\u001b[0m\u001b[0;34m:\u001b[0m\u001b[0;34m\u001b[0m\u001b[0;34m\u001b[0m\u001b[0m\n\u001b[1;32m     77\u001b[0m             \u001b[0mDP\u001b[0m\u001b[0;34m+=\u001b[0m\u001b[0;34m(\u001b[0m\u001b[0mvl\u001b[0m\u001b[0;34m-\u001b[0m\u001b[0mbusiness_cover\u001b[0m\u001b[0;34m[\u001b[0m\u001b[0mlid\u001b[0m\u001b[0;34m]\u001b[0m\u001b[0;34m)\u001b[0m\u001b[0;34m**\u001b[0m\u001b[0;36m2\u001b[0m\u001b[0;34m\u001b[0m\u001b[0;34m\u001b[0m\u001b[0m\n",
      "\u001b[0;31mNameError\u001b[0m: name 'log_pois_ids' is not defined"
     ]
    }
   ],
   "source": [
    "N=80\n",
    "K=20\n",
    "range_K=range(K)\n",
    "for cnt, uid in enumerate(all_uids):\n",
    "    if uid in ground_truth:\n",
    "        tmp_rec_list=user_predict[uid][:N]\n",
    "        rec_list=[]\n",
    "        \n",
    "        lids=training_matrix[uid].nonzero()[0]\n",
    "        lid_visits=training_matrix[:,lids].sum(axis=0)\n",
    "        mean_visits=lid_visits.mean()\n",
    "        relevant_lids=lids[lid_visits>mean_visits]\n",
    "        relevant_cats=set()\n",
    "        for lid in relevant_lids:\n",
    "            relevant_cats.update(poi_cats[lid])\n",
    "        # log_size=training_matrix[0,training_matrix[0,:].nonzero()[0]].sum()\n",
    "        user_log=training_matrix[uid]\n",
    "        \n",
    "        \n",
    "        log_poi_ids=list()\n",
    "        poi_cover=list()\n",
    "        for lid in user_log.nonzero()[0]:\n",
    "            for visits in range(int(user_log[lid])):\n",
    "                poi_cover.append(0)\n",
    "                log_poi_ids.append(lid)\n",
    "                \n",
    "        assert user_log[user_log.nonzero()[0]].sum() == len(poi_cover)\n",
    "#         print(uid)\n",
    "#         print(\"Count:\",cnt)\n",
    "        \n",
    "            \n",
    "        for i in range_K:\n",
    "#             print(i)\n",
    "            for j in range(len(tmp_rec_list)):\n",
    "                candidate_poi_id=tmp_rec_list[j]\n",
    "#                 print(objfunction.gc(candidate_poi_id,relevant_cats,poi_cats))\n",
    "#                 print(objfunction.min_dist_to_list_cat(candidate_poi_id,rec_list,poi_cats,undirected_category_tree))\n",
    "                print(objfunction.update_geo_cov(candidate_poi_id,log_poi_ids,K,poi_cover.copy(),poi_neighbors))\n",
    "                pass\n",
    "        "
   ]
  },
  {
   "cell_type": "code",
   "execution_count": null,
   "metadata": {},
   "outputs": [],
   "source": []
  },
  {
   "cell_type": "code",
   "execution_count": null,
   "metadata": {},
   "outputs": [],
   "source": [
    "N=80\n",
    "K=20\n",
    "VERY_SMALL_VALUE=-100\n",
    "i=0\n",
    "\n",
    "# tmp_rec_list=rec.mostpopular(df_checkin,K)\n",
    "# tmp_rec_list['score']=tmp_rec_list['score']/tmp_rec_list['score'].max()\n",
    "# print(tmp_rec_list)\n",
    "dict_rec_list=dict()\n",
    "for user_id in users:\n",
    "    #user_id=\"scaxsfOynKUZEijn_UCTkg\"\n",
    "    #print(user_id)\n",
    "    # User visits\n",
    "    df_user_checkin=df_checkin_train.loc[[user_id]].reset_index(drop=True)\n",
    "    \n",
    "    ####print(df_user_checkin['business_id'])\n",
    "    \n",
    "    list_user_pois=set(df_user_checkin['business_id'].drop_duplicates().values)\n",
    "    \n",
    "    \n",
    "    tmp_rec_list=rec.mostpopular(df_checkin_train.reset_index(),N,num_users,list_user_pois)\n",
    "    \n",
    "    # add other columns\n",
    "    tmp_rec_list=pd.merge(tmp_rec_list,df_poi.reset_index(),on='business_id').drop_duplicates(subset=df_poi.reset_index().columns.difference(['categories'])).reset_index(drop=True)\n",
    "    \n",
    "    \n",
    "    business_cover=list()\n",
    "    pois_id=set()\n",
    "    for business_id in df_user_checkin['business_id'].reset_index(drop=True):\n",
    "        business_cover.append(0)\n",
    "        pois_id.add(business_id)\n",
    "\n",
    "    # Constants\n",
    "    #COVER_OF_POI=len(df_user_review)/len(tmp_rec_list)\n",
    "    div_geo_cat_weight = 0.75 # beta,this is here because of the work to be done on parameter customization for each user\n",
    "    div_weight = 0.5 # lambda, geo vs cat\n",
    "    current_proportionality=0\n",
    "    \n",
    "    rec_list=pd.DataFrame(columns=['business_id','score','latitude','longitude','categories'])\n",
    "#     relevant_categories_user=geocat.relevant_categories_to_the_user(df_user_checkin)\n",
    "\n",
    "    # REPLICATE WRONG CODE\n",
    "    series_user_checkin=df_user_checkin.groupby('business_id').count()['date']\n",
    "    series_user_checkin.name=\"checkin\"\n",
    "\n",
    "    \n",
    "    # This code is to replicate the error in original geocat\n",
    "    mean_poi_visits=(series_poi_checkin[pois_id]*series_user_checkin).sum()/series_user_checkin.sum()\n",
    "    # using entry from java\n",
    "    #####mean_poi_visits=pd.read_csv(\"~/checkinjava.csv\").set_index(\"business_id\")['checkin'].mean()\n",
    "    # Relevant categories\n",
    "\n",
    "    relevant_categories = set()\n",
    "    print(mean_poi_visits)\n",
    "    #pd.read_csv(\"~/checkinjava.csv\").set_index(\"business_id\")['checkin']\n",
    "    ####for poi_id,checkins in series_poi_checkin[business_cover.keys()].iteritems():\n",
    "    \n",
    "    for poi_id,checkins in series_poi_checkin[pois_id].iteritems():\n",
    "        # Check if poi is relevant\n",
    "        if checkins >= mean_poi_visits:\n",
    "            # add relevant categories\n",
    "#             print(poi_id)\n",
    "#             print(df_poi.loc[poi_id]['categories'])\n",
    "            for category in df_poi.loc[poi_id]['categories']:\n",
    "                relevant_categories.add(category)\n",
    "        \n",
    "        \n",
    "\n",
    "    print(\"Number of relevant categories:\",len(relevant_categories))#,\"Number of relevant cat dupl:\",cc)\n",
    "    # REPLICATE WRONG CODE\n",
    "    #for i in relevant_categories:\n",
    "   #     print(dict_alias_title[i])\n",
    "    #print(relevant_categories)\n",
    "\n",
    "    \n",
    "    # post-processing for diversification\n",
    "    for i in range(K):\n",
    "#         start = timeit.default_timer()\n",
    "        #num_current_candidates=len(tmp_rec_list)\n",
    "       # set_trace()\n",
    "        poi_to_insert=None\n",
    "        max_objective_value=VERY_SMALL_VALUE\n",
    "        rec_list_categories=geocat.category_in_rec_list(tmp_rec_list)\n",
    "        print(i)\n",
    "        \n",
    "        for index,poi_candidate in tmp_rec_list.iterrows():\n",
    "            candidate_neighbors=df_poi_neighbor.loc[poi_candidate.business_id].neighbors\n",
    "            \n",
    "            \n",
    "            poi_neighbors=df_poi.loc[set(candidate_neighbors) & list_user_pois]\n",
    "            #print(len(poi_neighbors))\n",
    "            \n",
    "            objective_value=geocat.objective_ILD_GC_PR(poi_candidate,df_user_checkin,rec_list,K,\\\n",
    "                                                business_cover,current_proportionality,\\\n",
    "                                               div_geo_cat_weight,div_weight,dict_alias_title,undirected_category_tree,\\\n",
    "                                                      relevant_categories,rec_list_categories,poi_neighbors)\n",
    "            \n",
    "            if objective_value > max_objective_value:\n",
    "                max_objective_value=objective_value\n",
    "                poi_to_insert=poi_candidate \n",
    "        \n",
    "#         stop = timeit.default_timer()\n",
    "#         print('Time:', stop - start)\n",
    "        \n",
    "        if poi_to_insert is not None:\n",
    "            candidate_neighbors=df_poi_neighbor.loc[poi_to_insert.business_id].neighbors\n",
    "            poi_neighbors=df_poi.loc[set(candidate_neighbors) & list_user_pois]\n",
    "            poi_to_insert['score']=max_objective_value\n",
    "            rec_list=rec_list.append(poi_to_insert)\n",
    "            # remove from tmp_rec_list\n",
    "            tmp_rec_list=tmp_rec_list[tmp_rec_list['business_id']!=poi_to_insert['business_id']].reset_index(drop=True)\n",
    "            \n",
    "            current_proportionality=geocat.update_geo_cov(poi_to_insert,df_user_checkin,K,business_cover,poi_neighbors)\n",
    "            \n",
    "            \n",
    "    \n",
    "    dict_rec_list[user_id]=rec_list[['business_id','score']]\n",
    "    print(rec_list[['business_id','score']].sort_values(by=\"score\",ascending=False).reset_index(drop=True))\n",
    "    \n",
    "    i+=1\n",
    "    if i % num_users==0:\n",
    "        print(i)\n"
   ]
  },
  {
   "cell_type": "code",
   "execution_count": null,
   "metadata": {},
   "outputs": [],
   "source": [
    "pd.read_csv(\"~/teste.csv\",header=None)"
   ]
  },
  {
   "cell_type": "code",
   "execution_count": null,
   "metadata": {},
   "outputs": [],
   "source": [
    "dict_alias_title['']"
   ]
  },
  {
   "cell_type": "code",
   "execution_count": null,
   "metadata": {},
   "outputs": [],
   "source": [
    "pd.merge(pd.read_csv(\"~/a.txt\",header=None),\n",
    "pd.read_csv(\"~/b.txt\",header=None),how='inner')"
   ]
  }
 ],
 "metadata": {
  "kernelspec": {
   "display_name": "Python 3",
   "language": "python",
   "name": "python3"
  },
  "language_info": {
   "codemirror_mode": {
    "name": "ipython",
    "version": 3
   },
   "file_extension": ".py",
   "mimetype": "text/x-python",
   "name": "python",
   "nbconvert_exporter": "python",
   "pygments_lexer": "ipython3",
   "version": "3.7.4"
  }
 },
 "nbformat": 4,
 "nbformat_minor": 4
}
