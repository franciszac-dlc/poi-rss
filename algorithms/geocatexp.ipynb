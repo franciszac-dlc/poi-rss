{
 "cells": [
  {
   "cell_type": "markdown",
   "metadata": {},
   "source": [
    "## GeoCat experimental"
   ]
  },
  {
   "cell_type": "code",
   "execution_count": 3,
   "metadata": {},
   "outputs": [],
   "source": [
    "import numpy as np\n",
    "import pandas as pd\n",
    "import recommenders as rec\n",
    "import geocat\n",
    "import networkx as nx\n",
    "import matplotlib.pyplot as plt\n",
    "import areamanager\n",
    "import math\n",
    "import timeit\n",
    "from IPython.core.debugger import set_trace\n",
    "%matplotlib inline\n",
    "def string_to_array(string):\n",
    "    if string == '':\n",
    "        return list()\n",
    "    return eval(string)\n",
    "\n",
    "CITY=\"madison\"\n"
   ]
  },
  {
   "cell_type": "code",
   "execution_count": 4,
   "metadata": {},
   "outputs": [
    {
     "data": {
      "text/html": [
       "<div>\n",
       "<style scoped>\n",
       "    .dataframe tbody tr th:only-of-type {\n",
       "        vertical-align: middle;\n",
       "    }\n",
       "\n",
       "    .dataframe tbody tr th {\n",
       "        vertical-align: top;\n",
       "    }\n",
       "\n",
       "    .dataframe thead th {\n",
       "        text-align: right;\n",
       "    }\n",
       "</style>\n",
       "<table border=\"1\" class=\"dataframe\">\n",
       "  <thead>\n",
       "    <tr style=\"text-align: right;\">\n",
       "      <th></th>\n",
       "      <th>business_id</th>\n",
       "      <th>date</th>\n",
       "      <th>latitude</th>\n",
       "      <th>longitude</th>\n",
       "      <th>categories</th>\n",
       "      <th>subarea_id</th>\n",
       "    </tr>\n",
       "    <tr>\n",
       "      <th>user_id</th>\n",
       "      <th></th>\n",
       "      <th></th>\n",
       "      <th></th>\n",
       "      <th></th>\n",
       "      <th></th>\n",
       "      <th></th>\n",
       "    </tr>\n",
       "  </thead>\n",
       "  <tbody>\n",
       "    <tr>\n",
       "      <th>MB7Z80PJxNyQM7keDpR2XQ</th>\n",
       "      <td>br1uQbc3YU5jCpYi46nIgQ</td>\n",
       "      <td>2018-04-04 00:09:03</td>\n",
       "      <td>43.069425</td>\n",
       "      <td>-89.389567</td>\n",
       "      <td>[Coffee &amp; Tea, Cafes]</td>\n",
       "      <td>2064.0</td>\n",
       "    </tr>\n",
       "    <tr>\n",
       "      <th>4HwS2oCVQ1-f_kzHCv5X3A</th>\n",
       "      <td>br1uQbc3YU5jCpYi46nIgQ</td>\n",
       "      <td>2018-02-16 20:40:41</td>\n",
       "      <td>43.069425</td>\n",
       "      <td>-89.389567</td>\n",
       "      <td>[Coffee &amp; Tea, Cafes]</td>\n",
       "      <td>2064.0</td>\n",
       "    </tr>\n",
       "    <tr>\n",
       "      <th>OLBH2Ds1wllrzpHlyojzJQ</th>\n",
       "      <td>br1uQbc3YU5jCpYi46nIgQ</td>\n",
       "      <td>2018-04-12 11:31:03</td>\n",
       "      <td>43.069425</td>\n",
       "      <td>-89.389567</td>\n",
       "      <td>[Coffee &amp; Tea, Cafes]</td>\n",
       "      <td>2064.0</td>\n",
       "    </tr>\n",
       "    <tr>\n",
       "      <th>wd3xoNaDLib8dhQ7BxUl6g</th>\n",
       "      <td>br1uQbc3YU5jCpYi46nIgQ</td>\n",
       "      <td>2018-03-07 14:08:41</td>\n",
       "      <td>43.069425</td>\n",
       "      <td>-89.389567</td>\n",
       "      <td>[Coffee &amp; Tea, Cafes]</td>\n",
       "      <td>2064.0</td>\n",
       "    </tr>\n",
       "    <tr>\n",
       "      <th>4HwS2oCVQ1-f_kzHCv5X3A</th>\n",
       "      <td>br1uQbc3YU5jCpYi46nIgQ</td>\n",
       "      <td>2018-02-16 20:48:49</td>\n",
       "      <td>43.069425</td>\n",
       "      <td>-89.389567</td>\n",
       "      <td>[Coffee &amp; Tea, Cafes]</td>\n",
       "      <td>2064.0</td>\n",
       "    </tr>\n",
       "  </tbody>\n",
       "</table>\n",
       "</div>"
      ],
      "text/plain": [
       "                                   business_id                date   latitude  \\\n",
       "user_id                                                                         \n",
       "MB7Z80PJxNyQM7keDpR2XQ  br1uQbc3YU5jCpYi46nIgQ 2018-04-04 00:09:03  43.069425   \n",
       "4HwS2oCVQ1-f_kzHCv5X3A  br1uQbc3YU5jCpYi46nIgQ 2018-02-16 20:40:41  43.069425   \n",
       "OLBH2Ds1wllrzpHlyojzJQ  br1uQbc3YU5jCpYi46nIgQ 2018-04-12 11:31:03  43.069425   \n",
       "wd3xoNaDLib8dhQ7BxUl6g  br1uQbc3YU5jCpYi46nIgQ 2018-03-07 14:08:41  43.069425   \n",
       "4HwS2oCVQ1-f_kzHCv5X3A  br1uQbc3YU5jCpYi46nIgQ 2018-02-16 20:48:49  43.069425   \n",
       "\n",
       "                        longitude             categories  subarea_id  \n",
       "user_id                                                               \n",
       "MB7Z80PJxNyQM7keDpR2XQ -89.389567  [Coffee & Tea, Cafes]      2064.0  \n",
       "4HwS2oCVQ1-f_kzHCv5X3A -89.389567  [Coffee & Tea, Cafes]      2064.0  \n",
       "OLBH2Ds1wllrzpHlyojzJQ -89.389567  [Coffee & Tea, Cafes]      2064.0  \n",
       "wd3xoNaDLib8dhQ7BxUl6g -89.389567  [Coffee & Tea, Cafes]      2064.0  \n",
       "4HwS2oCVQ1-f_kzHCv5X3A -89.389567  [Coffee & Tea, Cafes]      2064.0  "
      ]
     },
     "execution_count": 4,
     "metadata": {},
     "output_type": "execute_result"
    }
   ],
   "source": [
    "df_checkin=pd.read_csv(\"../data/checkin/\"+CITY+\".csv\",converters={'categories':string_to_array})\n",
    "df_checkin['date']=pd.to_datetime(df_checkin['date'])\n",
    "# users=df_checkin['user_id'].drop_duplicates().reset_index(drop=True)\n",
    "# num_users=len(users)\n",
    "df_checkin.set_index(\"user_id\",inplace=True)\n",
    "df_checkin.head()"
   ]
  },
  {
   "cell_type": "code",
   "execution_count": 5,
   "metadata": {},
   "outputs": [],
   "source": [
    "df_poi=pd.read_csv(\"../data/poi/\"+CITY+\".csv\",converters={'categories':string_to_array})\n",
    "df_poi=df_poi.set_index(\"business_id\")"
   ]
  },
  {
   "cell_type": "markdown",
   "metadata": {},
   "source": [
    "# Test and training set"
   ]
  },
  {
   "cell_type": "code",
   "execution_count": 76,
   "metadata": {},
   "outputs": [],
   "source": [
    "df_checkin=df_checkin.sort_values(['user_id','date'])\n",
    "\n",
    "ranks=df_checkin.groupby('user_id')['date'].rank(method='first').reset_index(drop=True)\n",
    "ranks.head()\n",
    "\n",
    "#ranks=df_review.groupby('user_id')['date'].rank(method='first')\n",
    "count=df_checkin.reset_index()['user_id'].map(df_checkin.groupby('user_id')['date'].apply(len))\n",
    "count.head()\n",
    "\n",
    "training_set_delimiter=(ranks/count)<0.70\n",
    "test_set_delimiter=np.logical_not(training_set_delimiter)\n",
    "training_set_delimiter\n",
    "\n",
    "df_checkin_train=df_checkin.reset_index()[training_set_delimiter]\n",
    "df_checkin_train.count()\n",
    "\n",
    "df_checkin_test=df_checkin.reset_index()[test_set_delimiter]\n",
    "df_checkin_test.count()\n",
    "\n",
    "users=df_checkin_train['user_id'].drop_duplicates().reset_index(drop=True)\n",
    "\n"
   ]
  },
  {
   "cell_type": "code",
   "execution_count": 77,
   "metadata": {},
   "outputs": [],
   "source": [
    "dict_alias_title,category_tree,dict_alias_depth=geocat.category_manipulation_utils()\n",
    "undirected_category_tree=category_tree.to_undirected()"
   ]
  },
  {
   "cell_type": "code",
   "execution_count": 78,
   "metadata": {},
   "outputs": [
    {
     "data": {
      "text/plain": [
       "1022"
      ]
     },
     "execution_count": 78,
     "metadata": {},
     "output_type": "execute_result"
    }
   ],
   "source": [
    "num_users=len(users)\n",
    "users.count()"
   ]
  },
  {
   "cell_type": "code",
   "execution_count": 79,
   "metadata": {},
   "outputs": [],
   "source": [
    "#df_checkin_train[['user_id','business_id','date']].groupby(['user_id','business_id']).count().reset_index().to_csv(\"../data/checkin/train/\"+CITY+\".csv\",index=False,header=False)\n",
    "\n",
    "#df_checkin_test[['user_id','business_id','date']].groupby(['user_id','business_id']).count().reset_index().to_csv(\"../data/checkin/test/\"+CITY+\".csv\",index=False,header=False)"
   ]
  },
  {
   "cell_type": "code",
   "execution_count": 80,
   "metadata": {},
   "outputs": [],
   "source": [
    "df_checkin_train=df_checkin_train.set_index('user_id')\n",
    "df_checkin_test=df_checkin_test.set_index('user_id')"
   ]
  },
  {
   "cell_type": "code",
   "execution_count": 81,
   "metadata": {},
   "outputs": [
    {
     "data": {
      "text/plain": [
       "business_id\n",
       "-0Hj1hb_XW6ybWq2M7QhGA    4\n",
       "-0b86isaXMY0v4g-V8GZ9Q    3\n",
       "Name: checkin, dtype: int64"
      ]
     },
     "execution_count": 81,
     "metadata": {},
     "output_type": "execute_result"
    }
   ],
   "source": [
    "series_poi_checkin=df_checkin_train.reset_index().groupby('business_id').count()['user_id']\n",
    "series_poi_checkin.name=\"checkin\"\n",
    "series_poi_checkin.head(2)"
   ]
  },
  {
   "cell_type": "code",
   "execution_count": 82,
   "metadata": {},
   "outputs": [
    {
     "data": {
      "text/plain": [
       "98"
      ]
     },
     "execution_count": 82,
     "metadata": {},
     "output_type": "execute_result"
    }
   ],
   "source": [
    "series_poi_checkin.loc[\"FEH0i7SnTH81k451ZadKIQ\"]"
   ]
  },
  {
   "cell_type": "markdown",
   "metadata": {},
   "source": [
    "### load poi neighbor"
   ]
  },
  {
   "cell_type": "code",
   "execution_count": 83,
   "metadata": {},
   "outputs": [],
   "source": [
    "df_poi_neighbor=pd.read_csv(\"../data/neighbor/\"+CITY+\".csv\",converters={'neighbors':string_to_array})\n",
    "df_poi_neighbor=df_poi_neighbor.set_index(\"business_id\")"
   ]
  },
  {
   "cell_type": "code",
   "execution_count": 87,
   "metadata": {},
   "outputs": [
    {
     "data": {
      "text/plain": [
       "business_id    46\n",
       "date           46\n",
       "latitude       46\n",
       "longitude      46\n",
       "categories     46\n",
       "subarea_id     46\n",
       "dtype: int64"
      ]
     },
     "execution_count": 87,
     "metadata": {},
     "output_type": "execute_result"
    }
   ],
   "source": [
    "df_checkin.loc[\"scaxsfOynKUZEijn_UCTkg\"].count()\n"
   ]
  },
  {
   "cell_type": "code",
   "execution_count": 14,
   "metadata": {},
   "outputs": [
    {
     "data": {
      "text/html": [
       "<div>\n",
       "<style scoped>\n",
       "    .dataframe tbody tr th:only-of-type {\n",
       "        vertical-align: middle;\n",
       "    }\n",
       "\n",
       "    .dataframe tbody tr th {\n",
       "        vertical-align: top;\n",
       "    }\n",
       "\n",
       "    .dataframe thead th {\n",
       "        text-align: right;\n",
       "    }\n",
       "</style>\n",
       "<table border=\"1\" class=\"dataframe\">\n",
       "  <thead>\n",
       "    <tr style=\"text-align: right;\">\n",
       "      <th></th>\n",
       "      <th>business_id</th>\n",
       "      <th>date</th>\n",
       "      <th>latitude</th>\n",
       "      <th>longitude</th>\n",
       "      <th>categories</th>\n",
       "      <th>subarea_id</th>\n",
       "    </tr>\n",
       "    <tr>\n",
       "      <th>user_id</th>\n",
       "      <th></th>\n",
       "      <th></th>\n",
       "      <th></th>\n",
       "      <th></th>\n",
       "      <th></th>\n",
       "      <th></th>\n",
       "    </tr>\n",
       "  </thead>\n",
       "  <tbody>\n",
       "    <tr>\n",
       "      <th>scaxsfOynKUZEijn_UCTkg</th>\n",
       "      <td>OSXb-DOITpDR7nm8wjrZ2w</td>\n",
       "      <td>2017-02-28 00:05:42</td>\n",
       "      <td>43.071577</td>\n",
       "      <td>-89.524585</td>\n",
       "      <td>[Nail Salons]</td>\n",
       "      <td>2086.0</td>\n",
       "    </tr>\n",
       "    <tr>\n",
       "      <th>scaxsfOynKUZEijn_UCTkg</th>\n",
       "      <td>U7G4VBrra439LgGBvV7dcg</td>\n",
       "      <td>2017-02-28 16:23:37</td>\n",
       "      <td>43.123634</td>\n",
       "      <td>-89.350392</td>\n",
       "      <td>[Eyelash Service]</td>\n",
       "      <td>2897.0</td>\n",
       "    </tr>\n",
       "  </tbody>\n",
       "</table>\n",
       "</div>"
      ],
      "text/plain": [
       "                                   business_id                date   latitude  \\\n",
       "user_id                                                                         \n",
       "scaxsfOynKUZEijn_UCTkg  OSXb-DOITpDR7nm8wjrZ2w 2017-02-28 00:05:42  43.071577   \n",
       "scaxsfOynKUZEijn_UCTkg  U7G4VBrra439LgGBvV7dcg 2017-02-28 16:23:37  43.123634   \n",
       "\n",
       "                        longitude         categories  subarea_id  \n",
       "user_id                                                           \n",
       "scaxsfOynKUZEijn_UCTkg -89.524585      [Nail Salons]      2086.0  \n",
       "scaxsfOynKUZEijn_UCTkg -89.350392  [Eyelash Service]      2897.0  "
      ]
     },
     "execution_count": 14,
     "metadata": {},
     "output_type": "execute_result"
    }
   ],
   "source": [
    "user_id=\"scaxsfOynKUZEijn_UCTkg\"\n",
    "df_checkin.loc[[user_id]].head(2)\n"
   ]
  },
  {
   "cell_type": "code",
   "execution_count": 24,
   "metadata": {},
   "outputs": [
    {
     "name": "stdout",
     "output_type": "stream",
     "text": [
      "scaxsfOynKUZEijn_UCTkg\n",
      "business_id\n",
      "OSXb-DOITpDR7nm8wjrZ2w     11\n",
      "U7G4VBrra439LgGBvV7dcg      2\n",
      "_q0ci_oTC-QccjFKVc6CeA     50\n",
      "qAzz1OYoGjwcSdwzu6FgTg      5\n",
      "Iq1P8S3--gqd50xoQJxpqA     15\n",
      "kQ81FVLQWKa9xEqZGQV_ng     11\n",
      "hySu4oYN7R3sSohuSeEsTg      4\n",
      "VfWX3UCKvUnVktdOuR8TwA     89\n",
      "eZ1u1mwjUqb62v9dSiqZaQ      3\n",
      "OlA7h9oOttqTALudvEUzTg      9\n",
      "tVrKuh92l1eGK2fXsGYzaA     27\n",
      "uMZxxZrbM441LnnfqR1WOQ     37\n",
      "TBh4lRgZayACZKK02suaSQ     15\n",
      "bbh8s3xxn5mzYynGayU8wA      5\n",
      "OgwN65jZebPRIPSmNpRP7A     27\n",
      "pyZkGdnTwpRh5tFWfdmQEg     19\n",
      "GVZ2AxHFdGhbFyU-XByScg      6\n",
      "wvCU61bSTtO8Cj7dhyrfMw     21\n",
      "1Os0g2rh6I50ZIXEZSaNkA    215\n",
      "uC3qwaxsOkdJzpOc0v1Mog    113\n",
      "FEH0i7SnTH81k451ZadKIQ     99\n",
      "aWYWNfHuQJyRwDHaHq8X1w    107\n",
      "k9RUMKASTB6QZ-NkfnN8Fg     15\n",
      "9ekn8UkOnJ5kgK-KGg5V7Q      6\n",
      "VTJIw7e4s5MSkg4OdNer6w     45\n",
      "npcnlBIiHvev2WUJpAezpw      2\n",
      "QfWFxmXqRGixztgaZN0gOA     20\n",
      "Name: checkin, dtype: int64\n",
      "29\n",
      "poke\n",
      "bakeries\n",
      "gourmet\n",
      "nightlife\n",
      "tex-mex\n",
      "breakfast_brunch\n",
      "burgers\n",
      "newamerican\n",
      "farmersmarket\n",
      "chinese\n",
      "tradamerican\n",
      "cupcakes\n",
      "gastropubs\n",
      "food\n",
      "customcakes\n",
      "restaurants\n",
      "hawaiian\n",
      "vegan\n",
      "bars\n",
      "mexican\n",
      "belgian\n",
      "vegetarian\n",
      "{'Poke', 'Bakeries', 'Specialty Food', 'Nightlife', 'Tex-Mex', 'Breakfast & Brunch', 'Burgers', 'American (New)', 'Farmers Market', 'Chinese', 'American (Traditional)', 'Cupcakes', 'Gastropubs', 'Food', 'Custom Cakes', 'Restaurants', 'Hawaiian', 'Vegan', 'Bars', 'Mexican', 'Belgian', 'Vegetarian'}\n"
     ]
    }
   ],
   "source": [
    "N=80\n",
    "K=20\n",
    "VERY_SMALL_VALUE=-100\n",
    "i=0\n",
    "\n",
    "# tmp_rec_list=rec.mostpopular(df_checkin,K)\n",
    "# tmp_rec_list['score']=tmp_rec_list['score']/tmp_rec_list['score'].max()\n",
    "# print(tmp_rec_list)\n",
    "dict_rec_list=dict()\n",
    "for user_id in users:\n",
    "    user_id=\"scaxsfOynKUZEijn_UCTkg\"\n",
    "    print(user_id)\n",
    "    # User visits\n",
    "    df_user_checkin=df_checkin_train.loc[[user_id]].reset_index(drop=True)\n",
    "    \n",
    "    list_user_pois=set(df_user_checkin['business_id'].drop_duplicates().values)\n",
    "    \n",
    "    \n",
    "    tmp_rec_list=rec.mostpopular(df_checkin_train.reset_index(),N,num_users,list_user_pois)\n",
    "    \n",
    "    # add other columns\n",
    "    tmp_rec_list=pd.merge(tmp_rec_list,df_poi.reset_index(),on='business_id').drop_duplicates(subset=df_poi.reset_index().columns.difference(['categories'])).reset_index(drop=True)\n",
    "\n",
    "    business_cover=dict()\n",
    "    for business_id in df_user_checkin['business_id'].drop_duplicates().reset_index(drop=True):\n",
    "        business_cover[business_id]=0\n",
    "    # Constants\n",
    "    #COVER_OF_POI=len(df_user_review)/len(tmp_rec_list)\n",
    "    div_geo_cat_weight = 0.5 # beta,this is here because of the work to be done on parameter customization for each user\n",
    "    div_weight = 0.75 # lambda, geo vs cat\n",
    "    current_proportionality=0\n",
    "    \n",
    "    rec_list=pd.DataFrame(columns=['business_id','score','latitude','longitude','categories'])\n",
    "#     relevant_categories_user=geocat.relevant_categories_to_the_user(df_user_checkin)\n",
    "\n",
    "    # REPLICATE WRONG CODE\n",
    "    series_user_checkin=df_user_checkin.groupby('business_id').count()['date']\n",
    "    series_user_checkin.name=\"checkin\"\n",
    "    print(series_poi_checkin[business_cover.keys()])\n",
    "    # This code is to replicate the error in original geocat\n",
    "    mean_poi_visits=(series_poi_checkin[business_cover.keys()]*series_user_checkin).sum()/series_user_checkin.sum()\n",
    "    # Relevant categories\n",
    "    cc=0\n",
    "    relevant_categories = set()\n",
    "    for poi_id,checkins in series_poi_checkin[business_cover.keys()].iteritems():\n",
    "        # Check if poi is relevant\n",
    "        if checkins >= mean_poi_visits:\n",
    "            # add relevant categories\n",
    "            for category in df_poi.loc[poi_id]['categories']:\n",
    "                relevant_categories.add(category)\n",
    "                cc+=1\n",
    "    print(cc)\n",
    "    # REPLICATE WRONG CODE\n",
    "    for i in relevant_categories:\n",
    "        print(dict_alias_title[i])\n",
    "    print(relevant_categories)\n",
    "    break\n",
    "    \n",
    "    # post-processing for diversification\n",
    "    for i in range(K):\n",
    "#         start = timeit.default_timer()\n",
    "        #num_current_candidates=len(tmp_rec_list)\n",
    "        poi_to_insert=None\n",
    "        max_objective_value=VERY_SMALL_VALUE\n",
    "        rec_list_categories=geocat.category_in_rec_list(tmp_rec_list)\n",
    "        \n",
    "        for index,poi_candidate in tmp_rec_list.iterrows():\n",
    "            poi_neighbors=df_poi.loc[df_poi_neighbor.loc[poi_candidate.business_id].neighbors].loc[\n",
    "                set(df_poi_neighbor.loc[poi_candidate.business_id].neighbors) & list_user_pois]\n",
    "            print(poi_neighbors)\n",
    "\n",
    "            objective_value=geocat.objective_ILD_GC_PR(poi_candidate,df_user_checkin,rec_list,K,\\\n",
    "                                                business_cover,current_proportionality,\\\n",
    "                                               div_geo_cat_weight,div_weight,dict_alias_title,undirected_category_tree,\\\n",
    "                                                      relevant_categories_user,rec_list_categories,poi_neighbors)\n",
    "            \n",
    "            if objective_value > max_objective_value:\n",
    "                max_objective_value=objective_value\n",
    "                poi_to_insert=poi_candidate \n",
    "#         stop = timeit.default_timer()\n",
    "#         print('Time:', stop - start)\n",
    "        if poi_to_insert is not None:\n",
    "            poi_neighbors=df_poi_neighbor.loc[poi_to_insert.business_id].neighbors\n",
    "            poi_to_insert['score']=max_objective_value\n",
    "            rec_list=rec_list.append(poi_to_insert)\n",
    "            # remove from tmp_rec_list\n",
    "            tmp_rec_list=tmp_rec_list[tmp_rec_list['business_id']!=poi_to_insert['business_id']].reset_index(drop=True)\n",
    "            \n",
    "            current_proportionality=geocat.update_geo_cov(poi_to_insert,df_user_checkin,K,business_cover,poi_neighbors)\n",
    "    \n",
    "    dict_rec_list[user_id]=rec_list[['business_id','score']]\n",
    "    print(rec_list[['business_id','score']])\n",
    "    break\n",
    "    i+=1\n",
    "    if i % num_users==0:\n",
    "        print(i)"
   ]
  }
 ],
 "metadata": {
  "kernelspec": {
   "display_name": "Python 3",
   "language": "python",
   "name": "python3"
  },
  "language_info": {
   "codemirror_mode": {
    "name": "ipython",
    "version": 3
   },
   "file_extension": ".py",
   "mimetype": "text/x-python",
   "name": "python",
   "nbconvert_exporter": "python",
   "pygments_lexer": "ipython3",
   "version": "3.7.4"
  }
 },
 "nbformat": 4,
 "nbformat_minor": 4
}
