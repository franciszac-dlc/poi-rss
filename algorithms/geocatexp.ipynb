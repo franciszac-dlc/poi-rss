{
 "cells": [
  {
   "cell_type": "markdown",
   "metadata": {},
   "source": [
    "## GeoCat experimental"
   ]
  },
  {
   "cell_type": "code",
   "execution_count": null,
   "metadata": {},
   "outputs": [],
   "source": [
    "import numpy as np\n",
    "import pandas as pd\n",
    "import recommenders as rec\n",
    "import geocat\n",
    "import networkx as nx\n",
    "import matplotlib.pyplot as plt\n",
    "import areamanager\n",
    "import math\n",
    "import timeit\n",
    "%matplotlib inline\n",
    "def string_to_array(string):\n",
    "    if string == '':\n",
    "        return list()\n",
    "    return eval(string)\n",
    "\n",
    "CITY=\"madison\"\n"
   ]
  },
  {
   "cell_type": "code",
   "execution_count": null,
   "metadata": {},
   "outputs": [],
   "source": [
    "df_checkin=pd.read_csv(\"../data/checkin/\"+CITY+\".csv\",converters={'categories':string_to_array})\n",
    "df_checkin['date']=pd.to_datetime(df_checkin['date'])\n",
    "# users=df_checkin['user_id'].drop_duplicates().reset_index(drop=True)\n",
    "# num_users=len(users)\n",
    "df_checkin.set_index(\"user_id\",inplace=True)\n",
    "df_checkin.head()"
   ]
  },
  {
   "cell_type": "code",
   "execution_count": null,
   "metadata": {},
   "outputs": [],
   "source": [
    "df_poi=pd.read_csv(\"../data/poi/\"+CITY+\".csv\",converters={'categories':string_to_array})"
   ]
  },
  {
   "cell_type": "markdown",
   "metadata": {},
   "source": [
    "# Test and training set"
   ]
  },
  {
   "cell_type": "code",
   "execution_count": null,
   "metadata": {},
   "outputs": [],
   "source": [
    "df_checkin=df_checkin.sort_values(['user_id','date'])\n",
    "\n",
    "ranks=df_checkin.groupby('user_id')['date'].rank(method='first').reset_index(drop=True)\n",
    "ranks.head()\n",
    "\n",
    "#ranks=df_review.groupby('user_id')['date'].rank(method='first')\n",
    "count=df_checkin.reset_index()['user_id'].map(df_checkin.groupby('user_id')['date'].apply(len))\n",
    "count.head()\n",
    "\n",
    "training_set_delimiter=(ranks/count)<0.7\n",
    "test_set_delimiter=np.logical_not(training_set_delimiter)\n",
    "training_set_delimiter\n",
    "\n",
    "df_checkin_train=df_checkin.reset_index()[training_set_delimiter]\n",
    "df_checkin_train.count()\n",
    "\n",
    "df_checkin_test=df_checkin.reset_index()[test_set_delimiter]\n",
    "df_checkin_test.count()\n",
    "\n",
    "users=df_checkin_train['user_id'].drop_duplicates().reset_index(drop=True)\n",
    "\n"
   ]
  },
  {
   "cell_type": "code",
   "execution_count": null,
   "metadata": {},
   "outputs": [],
   "source": [
    "dict_alias_title,category_tree,dict_alias_depth=geocat.category_manipulation_utils()\n",
    "undirected_category_tree=category_tree.to_undirected()"
   ]
  },
  {
   "cell_type": "code",
   "execution_count": null,
   "metadata": {},
   "outputs": [],
   "source": [
    "num_users=len(users)\n",
    "users.count()"
   ]
  },
  {
   "cell_type": "code",
   "execution_count": null,
   "metadata": {},
   "outputs": [],
   "source": [
    "#df_checkin_train[['user_id','business_id','date']].groupby(['user_id','business_id']).count().reset_index().to_csv(\"../data/checkin/train/\"+CITY+\".csv\",index=False,header=False)\n",
    "\n",
    "#df_checkin_test[['user_id','business_id','date']].groupby(['user_id','business_id']).count().reset_index().to_csv(\"../data/checkin/test/\"+CITY+\".csv\",index=False,header=False)"
   ]
  },
  {
   "cell_type": "code",
   "execution_count": null,
   "metadata": {},
   "outputs": [],
   "source": [
    "df_checkin_train=df_checkin_train.set_index('user_id')\n",
    "df_checkin_test=df_checkin_test.set_index('user_id')"
   ]
  },
  {
   "cell_type": "markdown",
   "metadata": {},
   "source": [
    "### load poi neighbor"
   ]
  },
  {
   "cell_type": "code",
   "execution_count": null,
   "metadata": {},
   "outputs": [],
   "source": [
    "df_poi_neighbor=pd.read_csv(\"../data/neighbor/\"+CITY+\".csv\",converters={'neighbors':string_to_array})\n",
    "df_poi_neighbor=df_poi_neighbor.set_index(\"business_id\")"
   ]
  },
  {
   "cell_type": "code",
   "execution_count": null,
   "metadata": {},
   "outputs": [],
   "source": [
    "N=80\n",
    "K=20\n",
    "VERY_SMALL_VALUE=-100\n",
    "i=0\n",
    "\n",
    "# tmp_rec_list=rec.mostpopular(df_checkin,K)\n",
    "# tmp_rec_list['score']=tmp_rec_list['score']/tmp_rec_list['score'].max()\n",
    "# print(tmp_rec_list)\n",
    "dict_rec_list=dict()\n",
    "for user_id in users:\n",
    "    print(user_id)\n",
    "    # User visits\n",
    "    df_user_checkin=df_checkin_train.loc[[user_id]].reset_index(drop=True)\n",
    "    \n",
    "    list_user_pois=df_user_checkin['business_id'].drop_duplicates().values\n",
    "    \n",
    "    tmp_rec_list=rec.mostpopular(df_checkin_train.reset_index(),N,df_user_checkin,num_users,list_user_pois)\n",
    "    \n",
    "    # add other columns\n",
    "    tmp_rec_list=pd.merge(tmp_rec_list,df_poi,on='business_id').drop_duplicates(subset=df_poi.columns.difference(['categories'])).reset_index(drop=True)\n",
    "\n",
    "    #print(tmp_rec_list[['business_id','score']].head())\n",
    "\n",
    "    business_cover=dict()\n",
    "    for business_id in df_user_checkin['business_id'].drop_duplicates().reset_index(drop=True):\n",
    "        business_cover[business_id]=0\n",
    "    # Constants\n",
    "    #COVER_OF_POI=len(df_user_review)/len(tmp_rec_list)\n",
    "    div_geo_cat_weight = 0.5 # beta,this is here because of the work to be done on parameter customization for each user\n",
    "    div_weight = 0.75 # lambda, geo vs cat\n",
    "    current_proportionality=0\n",
    "    \n",
    "    rec_list=pd.DataFrame(columns=['business_id','score','latitude','longitude','categories'])\n",
    "    relevant_categories_user=geocat.relevant_categories_to_the_user(df_user_checkin)\n",
    "    \n",
    "    # post-processing for diversification\n",
    "    for i in range(K):\n",
    "#         start = timeit.default_timer()\n",
    "        #num_current_candidates=len(tmp_rec_list)\n",
    "        poi_to_insert=None\n",
    "        max_objective_value=VERY_SMALL_VALUE\n",
    "        rec_list_categories=geocat.category_in_rec_list(tmp_rec_list)\n",
    "        \n",
    "        for index,poi_candidate in tmp_rec_list.iterrows():\n",
    "            poi_neighbors=df_poi_neighbor.loc[poi_candidate.business_id].neighbors\n",
    "            objective_value=geocat.objective_ILD_GC_PR(poi_candidate,df_user_checkin,rec_list,K,\\\n",
    "                                                business_cover,current_proportionality,\\\n",
    "                                               div_geo_cat_weight,div_weight,dict_alias_title,undirected_category_tree,\\\n",
    "                                                      relevant_categories_user,rec_list_categories,poi_neighbors)\n",
    "            \n",
    "            if objective_value > max_objective_value:\n",
    "                max_objective_value=objective_value\n",
    "                poi_to_insert=poi_candidate \n",
    "#         stop = timeit.default_timer()\n",
    "#         print('Time:', stop - start)\n",
    "        if poi_to_insert is not None:\n",
    "            poi_neighbors=df_poi_neighbor.loc[poi_to_insert.business_id].neighbors\n",
    "            poi_to_insert['score']=max_objective_value\n",
    "            rec_list=rec_list.append(poi_to_insert)\n",
    "            # remove from tmp_rec_list\n",
    "            tmp_rec_list=tmp_rec_list[tmp_rec_list['business_id']!=poi_to_insert['business_id']].reset_index(drop=True)\n",
    "            \n",
    "            current_proportionality=geocat.update_geo_cov(poi_to_insert,df_user_checkin,K,business_cover,poi_neighbors)\n",
    "    \n",
    "    dict_rec_list[user_id]=rec_list[['business_id','score']]\n",
    "    i+=1\n",
    "    if i % num_users==0:\n",
    "        print(i)"
   ]
  },
  {
   "cell_type": "markdown",
   "metadata": {},
   "source": [
    "0   IMLrj2klosTFvPRLv56cng  0.260358\n",
    "24  ujmEBvifdJM6h6RLv4wQIg  0.050891\n",
    "68  V13IWgZvNps2Vo7WyEnD8A  0.024049\n",
    "0   XXW_OFaYQkkGOGniujZFHg  0.000000\n",
    "0   FvVSy2r7_zDEhZWqLgjXNQ  0.000000\n",
    "0   WRQ-9LluyivReFiQZFUujw  0.000000\n",
    "0   Vs7gc9EE3k9wARuUcN9piA  0.000000\n",
    "0   Os1n1_idfw9vv9kwULGJnQ  0.000000\n",
    "0   qsJkjQoM3Hdg6Gtqp2S9_w  0.000000\n",
    "0   O7UMzd3i-Zk8dMeyY9ZwoA  0.000000\n",
    "0   qmymSqVwHYRqdwfcBatzpQ  0.000000\n",
    "0   pH0BLkL4cbxKzu471VZnuA  0.000000\n",
    "0   78hGCrQ6wLA2yh8zMywnmw  0.000000\n",
    "0   _pBXtjN43eqMV0XZTz7nmw  0.000000\n",
    "0   tMYYSWyTppDcF070Hmy-kQ  0.000000\n",
    "0   dm6sO_Y8JdKTE1ZM955yug  0.000000\n",
    "0   Yiw2jUJzUdFmglHZgj4RaQ  0.000000\n",
    "0   FhIeCF6QrsLaRvAeu0oEPQ  0.000000\n",
    "0   5ma1OUQWy_Ds80xUiP7JPQ  0.000000\n",
    "0   k2b3niokS_tosjah_rzCPw  0.000000"
   ]
  }
 ],
 "metadata": {
  "kernelspec": {
   "display_name": "Python 3",
   "language": "python",
   "name": "python3"
  },
  "language_info": {
   "codemirror_mode": {
    "name": "ipython",
    "version": 3
   },
   "file_extension": ".py",
   "mimetype": "text/x-python",
   "name": "python",
   "nbconvert_exporter": "python",
   "pygments_lexer": "ipython3",
   "version": "3.7.4"
  }
 },
 "nbformat": 4,
 "nbformat_minor": 4
}
