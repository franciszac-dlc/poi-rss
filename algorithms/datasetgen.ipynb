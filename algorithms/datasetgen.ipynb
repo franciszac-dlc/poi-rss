{
 "cells": [
  {
   "cell_type": "code",
   "execution_count": null,
   "metadata": {},
   "outputs": [],
   "source": [
    "import lib.areamanager as areamanager\n",
    "import pandas as pd\n",
    "import json\n",
    "import time\n",
    "import collections\n",
    "import numpy as np\n",
    "SPLIT_YEAR=2017\n",
    "\n",
    "cities=['lasvegas','phoenix','charlotte','madison']"
   ]
  },
  {
   "cell_type": "code",
   "execution_count": null,
   "metadata": {},
   "outputs": [],
   "source": [
    "fbusiness=open(\"../data/business.json\")\n",
    "poi_data = dict()\n",
    "start_time=time.time()\n",
    "for i, line in enumerate(fbusiness):  \n",
    "    # json to dict\n",
    "    obj_json = json.loads(line)\n",
    "    # add to the data collection\n",
    "    if obj_json['categories'] != None:\n",
    "        poi_data[obj_json['business_id']]={'latitude':obj_json['latitude'],\n",
    "                         'longitude':obj_json['longitude'],\n",
    "                         'categories':obj_json['categories'].split(', ')}\n",
    "    else:\n",
    "        poi_data[obj_json['business_id']]={'latitude':obj_json['latitude'],\n",
    "                 'longitude':obj_json['longitude'],\n",
    "                 'categories':obj_json['categories']}\n",
    "poi_data_list=list(poi_data)\n",
    "print(time.time()-start_time)\n"
   ]
  },
  {
   "cell_type": "code",
   "execution_count": null,
   "metadata": {},
   "outputs": [],
   "source": [
    "areas=dict()\n",
    "for city in cities:\n",
    "    areas[city]=areamanager.delimiter_area(city)"
   ]
  },
  {
   "cell_type": "code",
   "execution_count": null,
   "metadata": {},
   "outputs": [],
   "source": [
    "cities_pid_in_area=dict()\n",
    "start_time=time.time()\n",
    "for city in cities:\n",
    "    area=areas[city]\n",
    "    pid_in_area=collections.defaultdict(bool)\n",
    "    for poi_id in poi_data:\n",
    "        if areamanager.poi_in_area(area,poi_data[poi_id]):\n",
    "            pid_in_area[poi_id]=True\n",
    "    cities_pid_in_area[city]=pid_in_area\n",
    "print(time.time()-start_time)"
   ]
  },
  {
   "cell_type": "code",
   "execution_count": null,
   "metadata": {},
   "outputs": [],
   "source": [
    "fuser=open(\"../data/user.json\")\n",
    "user_data = dict()\n",
    "start_time=time.time()\n",
    "for i, line in enumerate(fuser):  \n",
    "    # json to dict\n",
    "    obj_json = json.loads(line)\n",
    "    # add to the data collection\n",
    "    user_data[obj_json['user_id']]=None#obj_json['friends'].split(', ')\n",
    "user_data_list=list(user_data)\n",
    "print(time.time()-start_time)"
   ]
  },
  {
   "cell_type": "code",
   "execution_count": null,
   "metadata": {},
   "outputs": [],
   "source": [
    "freview=open(\"../data/review.json\")\n",
    "\n",
    "cities_checkin_data=dict()\n",
    "for city in cities:\n",
    "    cities_checkin_data[city]=list()\n",
    "\n",
    "start_time=time.time()\n",
    "\n",
    "for i, line in enumerate(freview):  \n",
    "    # json to dict\n",
    "    obj_json = json.loads(line)\n",
    "    for city in cities:\n",
    "        if cities_pid_in_area[city][obj_json['business_id']]:\n",
    "            # add to the data collection\n",
    "            cities_checkin_data[city].append({'user_id':obj_json['user_id'],\n",
    "                             'poi_id':obj_json['business_id'],\n",
    "                             'date':obj_json['date']})\n",
    "            break\n",
    "    if i % 500000 ==0:\n",
    "        print(i)\n",
    "print(time.time()-start_time)"
   ]
  },
  {
   "cell_type": "code",
   "execution_count": null,
   "metadata": {},
   "outputs": [],
   "source": [
    "ftip=open(\"../data/tip.json\")\n",
    "start_time=time.time()\n",
    "for i, line in enumerate(ftip):  \n",
    "    # json to dict\n",
    "    for city in cities:\n",
    "        if cities_pid_in_area[city][obj_json['business_id']]:\n",
    "            # add to the data collection\n",
    "            cities_checkin_data[city].append({'user_id':obj_json['user_id'],\n",
    "                         'poi_id':obj_json['business_id'],\n",
    "                         'date':obj_json['date']})\n",
    "            break\n",
    "    if i % 500000 ==0:\n",
    "        print(i)\n",
    "print(time.time()-start_time)"
   ]
  },
  {
   "cell_type": "code",
   "execution_count": null,
   "metadata": {},
   "outputs": [],
   "source": [
    "checkin_data=cities_checkin_data['madison']"
   ]
  },
  {
   "cell_type": "code",
   "execution_count": null,
   "metadata": {},
   "outputs": [],
   "source": [
    "users_id = set()\n",
    "for check in checkin_data:\n",
    "    users_id.add(check['user_id'])"
   ]
  },
  {
   "cell_type": "code",
   "execution_count": null,
   "metadata": {},
   "outputs": [],
   "source": [
    "len(users_id)"
   ]
  },
  {
   "cell_type": "code",
   "execution_count": null,
   "metadata": {},
   "outputs": [],
   "source": [
    "pois_id = set()\n",
    "for check in checkin_data:\n",
    "    pois_id.add(check['poi_id'])"
   ]
  },
  {
   "cell_type": "code",
   "execution_count": null,
   "metadata": {},
   "outputs": [],
   "source": [
    "len(pois_id)"
   ]
  },
  {
   "cell_type": "code",
   "execution_count": null,
   "metadata": {},
   "outputs": [],
   "source": [
    "training_matrix = np.zeros((len(users_id),len(pois_id)))"
   ]
  },
  {
   "cell_type": "code",
   "execution_count": null,
   "metadata": {},
   "outputs": [],
   "source": []
  },
  {
   "cell_type": "code",
   "execution_count": null,
   "metadata": {},
   "outputs": [],
   "source": [
    "for check in checkin_data:\n",
    "    training_matrix[user_data_list.index(check['user_id']),poi_data_list.index(check['poi_id']])+=1"
   ]
  },
  {
   "cell_type": "code",
   "execution_count": null,
   "metadata": {},
   "outputs": [],
   "source": [
    "training_matrix"
   ]
  }
 ],
 "metadata": {
  "kernelspec": {
   "display_name": "Python 3",
   "language": "python",
   "name": "python3"
  },
  "language_info": {
   "codemirror_mode": {
    "name": "ipython",
    "version": 3
   },
   "file_extension": ".py",
   "mimetype": "text/x-python",
   "name": "python",
   "nbconvert_exporter": "python",
   "pygments_lexer": "ipython3",
   "version": "3.7.4"
  }
 },
 "nbformat": 4,
 "nbformat_minor": 4
}
