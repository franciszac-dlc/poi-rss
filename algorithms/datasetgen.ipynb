{
 "cells": [
  {
   "cell_type": "code",
   "execution_count": 1,
   "metadata": {},
   "outputs": [],
   "source": [
    "import lib.areamanager as areamanager\n",
    "import pandas as pd\n",
    "import json\n",
    "import time\n",
    "import collections\n",
    "SPLIT_YEAR=2017"
   ]
  },
  {
   "cell_type": "code",
   "execution_count": 2,
   "metadata": {},
   "outputs": [
    {
     "name": "stdout",
     "output_type": "stream",
     "text": [
      "2.911831855773926\n"
     ]
    }
   ],
   "source": [
    "fbusiness=open(\"../data/business.json\")\n",
    "poi_data = dict()\n",
    "start_time=time.time()\n",
    "for i, line in enumerate(fbusiness):  \n",
    "    # json to dict\n",
    "    obj_json = json.loads(line)\n",
    "    # add to the data collection\n",
    "    if obj_json['categories'] != None:\n",
    "        poi_data[obj_json['business_id']]={'latitude':obj_json['latitude'],\n",
    "                         'longitude':obj_json['longitude'],\n",
    "                         'categories':obj_json['categories'].split(', ')}\n",
    "    else:\n",
    "        poi_data[obj_json['business_id']]={'latitude':obj_json['latitude'],\n",
    "                 'longitude':obj_json['longitude'],\n",
    "                 'categories':obj_json['categories']}\n",
    "poi_data_list=list(poi_data)\n",
    "print(time.time()-start_time)\n"
   ]
  },
  {
   "cell_type": "code",
   "execution_count": 3,
   "metadata": {},
   "outputs": [
    {
     "name": "stdout",
     "output_type": "stream",
     "text": [
      "Area selected: Las Vegas\n"
     ]
    }
   ],
   "source": [
    "area=areamanager.delimiter_area('lasvegas')"
   ]
  },
  {
   "cell_type": "code",
   "execution_count": 14,
   "metadata": {},
   "outputs": [],
   "source": [
    "pid_in_area=[]\n",
    "\n",
    "for poi_id in poi_data:\n",
    "    if areamanager.poi_in_area(area,poi_data[poi_id]):\n",
    "        pid_in_area.append(poi_id)"
   ]
  },
  {
   "cell_type": "code",
   "execution_count": 57,
   "metadata": {},
   "outputs": [
    {
     "name": "stdout",
     "output_type": "stream",
     "text": [
      "21.074427127838135\n"
     ]
    }
   ],
   "source": [
    "# fuser=open(\"../data/user.json\")\n",
    "# user_data = dict()\n",
    "# start_time=time.time()\n",
    "# for i, line in enumerate(fuser):  \n",
    "#     # json to dict\n",
    "#     obj_json = json.loads(line)\n",
    "#     # add to the data collection\n",
    "#     user_data[obj_json['user_id']]=None#obj_json['friends'].split(', ')\n",
    "# user_data_list=list(user_data)\n",
    "# print(time.time()-start_time)"
   ]
  },
  {
   "cell_type": "code",
   "execution_count": null,
   "metadata": {},
   "outputs": [
    {
     "name": "stdout",
     "output_type": "stream",
     "text": [
      "0\n",
      "1\n",
      "2\n"
     ]
    }
   ],
   "source": [
    "# fuser=open(\"../data/user.json\")\n",
    "# start_time=time.time()\n",
    "\n",
    "# for i, line in enumerate(fuser):  \n",
    "#     # json to dict\n",
    "#     obj_json = json.loads(line)\n",
    "#     # add to the data collection\n",
    "#     user_data[obj_json['user_id']]=[]\n",
    "#     lfid=user_data[obj_json['user_id']]\n",
    "#     for fid in obj_json['friends'].split(', '):\n",
    "#         try:\n",
    "#             lfid.append(user_data_list.index(fid))\n",
    "#         except:\n",
    "#             pass\n",
    "#     print(i)\n",
    "\n",
    "\n",
    "# print(time.time()-start_time)\n"
   ]
  },
  {
   "cell_type": "code",
   "execution_count": 32,
   "metadata": {},
   "outputs": [
    {
     "ename": "KeyboardInterrupt",
     "evalue": "",
     "output_type": "error",
     "traceback": [
      "\u001b[0;31m---------------------------------------------------------------------------\u001b[0m",
      "\u001b[0;31mKeyboardInterrupt\u001b[0m                         Traceback (most recent call last)",
      "\u001b[0;32m<ipython-input-32-5e2431e7f9db>\u001b[0m in \u001b[0;36m<module>\u001b[0;34m\u001b[0m\n\u001b[1;32m      8\u001b[0m     \u001b[0;31m# add to the data collection\u001b[0m\u001b[0;34m\u001b[0m\u001b[0;34m\u001b[0m\u001b[0;34m\u001b[0m\u001b[0m\n\u001b[1;32m      9\u001b[0m     checkin_data.append({'user_id':obj_json['user_id'],\n\u001b[0;32m---> 10\u001b[0;31m                      \u001b[0;34m'poi_idx'\u001b[0m\u001b[0;34m:\u001b[0m\u001b[0mpoi_data_list\u001b[0m\u001b[0;34m.\u001b[0m\u001b[0mindex\u001b[0m\u001b[0;34m(\u001b[0m\u001b[0mobj_json\u001b[0m\u001b[0;34m[\u001b[0m\u001b[0;34m'business_id'\u001b[0m\u001b[0;34m]\u001b[0m\u001b[0;34m)\u001b[0m\u001b[0;34m,\u001b[0m\u001b[0;34m\u001b[0m\u001b[0;34m\u001b[0m\u001b[0m\n\u001b[0m\u001b[1;32m     11\u001b[0m                      'date':obj_json['date']})\n\u001b[1;32m     12\u001b[0m \u001b[0mprint\u001b[0m\u001b[0;34m(\u001b[0m\u001b[0mtime\u001b[0m\u001b[0;34m.\u001b[0m\u001b[0mtime\u001b[0m\u001b[0;34m(\u001b[0m\u001b[0;34m)\u001b[0m\u001b[0;34m-\u001b[0m\u001b[0mstart_time\u001b[0m\u001b[0;34m)\u001b[0m\u001b[0;34m\u001b[0m\u001b[0;34m\u001b[0m\u001b[0m\n",
      "\u001b[0;31mKeyboardInterrupt\u001b[0m: "
     ]
    }
   ],
   "source": [
    "freview=open(\"../data/review.json\")\n",
    "checkin_data = list()\n",
    "start_time=time.time()\n",
    "\n",
    "for i, line in enumerate(freview):  \n",
    "    # json to dict\n",
    "    obj_json = json.loads(line)\n",
    "    # add to the data collection\n",
    "    checkin_data.append({'user_id':obj_json['user_id'],\n",
    "                     'poi_idx':poi_data_list.index(obj_json['business_id']),\n",
    "                     'date':obj_json['date']})\n",
    "print(time.time()-start_time)"
   ]
  },
  {
   "cell_type": "code",
   "execution_count": null,
   "metadata": {},
   "outputs": [],
   "source": [
    "ftip=open(\"../data/tip.json\")\n",
    "start_time=time.time()\n",
    "for i, line in enumerate(ftip):  \n",
    "    # json to dict\n",
    "    obj_json = json.loads(line)\n",
    "    # add to the data collection\n",
    "    checkin_data.append({'user_id':obj_json['user_id'],\n",
    "                     'poi_idx':poi_data_list.index(obj_json['business_id']),\n",
    "                     'date':obj_json['date']})\n",
    "print(time.time()-start_time)"
   ]
  },
  {
   "cell_type": "code",
   "execution_count": 16,
   "metadata": {},
   "outputs": [],
   "source": []
  }
 ],
 "metadata": {
  "kernelspec": {
   "display_name": "Python 3",
   "language": "python",
   "name": "python3"
  },
  "language_info": {
   "codemirror_mode": {
    "name": "ipython",
    "version": 3
   },
   "file_extension": ".py",
   "mimetype": "text/x-python",
   "name": "python",
   "nbconvert_exporter": "python",
   "pygments_lexer": "ipython3",
   "version": "3.7.4"
  }
 },
 "nbformat": 4,
 "nbformat_minor": 2
}
