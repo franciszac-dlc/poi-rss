{
 "cells": [
  {
   "cell_type": "code",
   "execution_count": 7,
   "metadata": {},
   "outputs": [],
   "source": [
    "import numpy as np\n",
    "import pandas as pd\n",
    "import recommenders as rec"
   ]
  },
  {
   "cell_type": "code",
   "execution_count": 8,
   "metadata": {},
   "outputs": [],
   "source": [
    "#df_business=pd.read_feather(\"../data/business.feather\")\n",
    "df_review=pd.read_feather(\"../data/review.feather\",columns=['business_id','user_id'],use_threads=3)"
   ]
  },
  {
   "cell_type": "code",
   "execution_count": 9,
   "metadata": {},
   "outputs": [
    {
     "name": "stdout",
     "output_type": "stream",
     "text": [
      "                  user_id             business_id\n",
      "0  hG7b0MtEbXx5QzbzE6C_VA  ujmEBvifdJM6h6RLv4wQIg\n",
      "1  yXQM5uF2jS6es16SJzNHfg  NZnhc2sEQy3RmzKTZnqtwQ\n",
      "2  n6-Gk65cPZL6Uz8qRm3NYw  WTqjgwHlXbSFevF32_DJVw\n",
      "3  dacAIZ6fTM6mqwW5uxkskg  ikCg8xy5JIg_NGPx-MSIDA\n",
      "4  ssoyf2_x0EQMed6fgHeMyQ  b1b1eb3uo-w561D0ZfCEiQ\n"
     ]
    }
   ],
   "source": [
    "#print(df_business.head())\n",
    "print(df_review.head())"
   ]
  },
  {
   "cell_type": "code",
   "execution_count": 10,
   "metadata": {},
   "outputs": [
    {
     "data": {
      "text/html": [
       "<div>\n",
       "<style scoped>\n",
       "    .dataframe tbody tr th:only-of-type {\n",
       "        vertical-align: middle;\n",
       "    }\n",
       "\n",
       "    .dataframe tbody tr th {\n",
       "        vertical-align: top;\n",
       "    }\n",
       "\n",
       "    .dataframe thead th {\n",
       "        text-align: right;\n",
       "    }\n",
       "</style>\n",
       "<table border=\"1\" class=\"dataframe\">\n",
       "  <thead>\n",
       "    <tr style=\"text-align: right;\">\n",
       "      <th></th>\n",
       "      <th>business_id</th>\n",
       "      <th>score</th>\n",
       "    </tr>\n",
       "  </thead>\n",
       "  <tbody>\n",
       "    <tr>\n",
       "      <th>0</th>\n",
       "      <td>4JNXUYY8wbaaDmk3BPzlWw</td>\n",
       "      <td>8570</td>\n",
       "    </tr>\n",
       "    <tr>\n",
       "      <th>1</th>\n",
       "      <td>RESDUcs7fIiihp38-d6_6g</td>\n",
       "      <td>8568</td>\n",
       "    </tr>\n",
       "    <tr>\n",
       "      <th>2</th>\n",
       "      <td>K7lWdNUhCbcnEvI0NhGewg</td>\n",
       "      <td>6887</td>\n",
       "    </tr>\n",
       "    <tr>\n",
       "      <th>3</th>\n",
       "      <td>f4x1YBxkLrZg652xt2KR5g</td>\n",
       "      <td>5847</td>\n",
       "    </tr>\n",
       "    <tr>\n",
       "      <th>4</th>\n",
       "      <td>cYwJA2A6I12KNkm2rtXd5g</td>\n",
       "      <td>5575</td>\n",
       "    </tr>\n",
       "    <tr>\n",
       "      <th>5</th>\n",
       "      <td>DkYS3arLOhA8si5uUEmHOw</td>\n",
       "      <td>5206</td>\n",
       "    </tr>\n",
       "    <tr>\n",
       "      <th>6</th>\n",
       "      <td>2weQS-RnoOBhb1KsHKyoSQ</td>\n",
       "      <td>4534</td>\n",
       "    </tr>\n",
       "    <tr>\n",
       "      <th>7</th>\n",
       "      <td>5LNZ67Yw9RD6nf4_UhXOjw</td>\n",
       "      <td>4522</td>\n",
       "    </tr>\n",
       "    <tr>\n",
       "      <th>8</th>\n",
       "      <td>iCQpiavjjPzJ5_3gPD5Ebg</td>\n",
       "      <td>4351</td>\n",
       "    </tr>\n",
       "    <tr>\n",
       "      <th>9</th>\n",
       "      <td>SMPbvZLSMMb7KU76YNYMGg</td>\n",
       "      <td>4350</td>\n",
       "    </tr>\n",
       "  </tbody>\n",
       "</table>\n",
       "</div>"
      ],
      "text/plain": [
       "              business_id  score\n",
       "0  4JNXUYY8wbaaDmk3BPzlWw   8570\n",
       "1  RESDUcs7fIiihp38-d6_6g   8568\n",
       "2  K7lWdNUhCbcnEvI0NhGewg   6887\n",
       "3  f4x1YBxkLrZg652xt2KR5g   5847\n",
       "4  cYwJA2A6I12KNkm2rtXd5g   5575\n",
       "5  DkYS3arLOhA8si5uUEmHOw   5206\n",
       "6  2weQS-RnoOBhb1KsHKyoSQ   4534\n",
       "7  5LNZ67Yw9RD6nf4_UhXOjw   4522\n",
       "8  iCQpiavjjPzJ5_3gPD5Ebg   4351\n",
       "9  SMPbvZLSMMb7KU76YNYMGg   4350"
      ]
     },
     "execution_count": 10,
     "metadata": {},
     "output_type": "execute_result"
    }
   ],
   "source": [
    "rec.mostpopular(df_review,10)"
   ]
  },
  {
   "cell_type": "code",
   "execution_count": 11,
   "metadata": {},
   "outputs": [],
   "source": [
    "df_review=None\n",
    "tmp_rec_list=_"
   ]
  },
  {
   "cell_type": "code",
   "execution_count": 12,
   "metadata": {},
   "outputs": [
    {
     "data": {
      "text/html": [
       "<div>\n",
       "<style scoped>\n",
       "    .dataframe tbody tr th:only-of-type {\n",
       "        vertical-align: middle;\n",
       "    }\n",
       "\n",
       "    .dataframe tbody tr th {\n",
       "        vertical-align: top;\n",
       "    }\n",
       "\n",
       "    .dataframe thead th {\n",
       "        text-align: right;\n",
       "    }\n",
       "</style>\n",
       "<table border=\"1\" class=\"dataframe\">\n",
       "  <thead>\n",
       "    <tr style=\"text-align: right;\">\n",
       "      <th></th>\n",
       "      <th>business_id</th>\n",
       "      <th>score</th>\n",
       "      <th>categories</th>\n",
       "    </tr>\n",
       "  </thead>\n",
       "  <tbody>\n",
       "    <tr>\n",
       "      <th>0</th>\n",
       "      <td>4JNXUYY8wbaaDmk3BPzlWw</td>\n",
       "      <td>8570</td>\n",
       "      <td>Food, French, Breakfast &amp; Brunch, Restaurants,...</td>\n",
       "    </tr>\n",
       "    <tr>\n",
       "      <th>1</th>\n",
       "      <td>RESDUcs7fIiihp38-d6_6g</td>\n",
       "      <td>8568</td>\n",
       "      <td>Restaurants, Buffets, Sandwiches, Food, Breakf...</td>\n",
       "    </tr>\n",
       "    <tr>\n",
       "      <th>2</th>\n",
       "      <td>K7lWdNUhCbcnEvI0NhGewg</td>\n",
       "      <td>6887</td>\n",
       "      <td>Buffets, Breakfast &amp; Brunch, Restaurants</td>\n",
       "    </tr>\n",
       "    <tr>\n",
       "      <th>3</th>\n",
       "      <td>f4x1YBxkLrZg652xt2KR5g</td>\n",
       "      <td>5847</td>\n",
       "      <td>Breakfast &amp; Brunch, Food, Restaurants, America...</td>\n",
       "    </tr>\n",
       "    <tr>\n",
       "      <th>4</th>\n",
       "      <td>cYwJA2A6I12KNkm2rtXd5g</td>\n",
       "      <td>5575</td>\n",
       "      <td>Restaurants, Burgers, American (Traditional)</td>\n",
       "    </tr>\n",
       "    <tr>\n",
       "      <th>5</th>\n",
       "      <td>DkYS3arLOhA8si5uUEmHOw</td>\n",
       "      <td>5206</td>\n",
       "      <td>Food Delivery Services, Salad, Sandwiches, Sou...</td>\n",
       "    </tr>\n",
       "    <tr>\n",
       "      <th>6</th>\n",
       "      <td>2weQS-RnoOBhb1KsHKyoSQ</td>\n",
       "      <td>4534</td>\n",
       "      <td>Beauty &amp; Spas, Food, Event Planning &amp; Services...</td>\n",
       "    </tr>\n",
       "    <tr>\n",
       "      <th>7</th>\n",
       "      <td>5LNZ67Yw9RD6nf4_UhXOjw</td>\n",
       "      <td>4522</td>\n",
       "      <td>Casinos, Hotels, Event Planning &amp; Services, Re...</td>\n",
       "    </tr>\n",
       "    <tr>\n",
       "      <th>8</th>\n",
       "      <td>iCQpiavjjPzJ5_3gPD5Ebg</td>\n",
       "      <td>4351</td>\n",
       "      <td>Pizza, Restaurants</td>\n",
       "    </tr>\n",
       "    <tr>\n",
       "      <th>9</th>\n",
       "      <td>SMPbvZLSMMb7KU76YNYMGg</td>\n",
       "      <td>4350</td>\n",
       "      <td>Hotels &amp; Travel, Arts &amp; Entertainment, Hotels,...</td>\n",
       "    </tr>\n",
       "  </tbody>\n",
       "</table>\n",
       "</div>"
      ],
      "text/plain": [
       "              business_id  score  \\\n",
       "0  4JNXUYY8wbaaDmk3BPzlWw   8570   \n",
       "1  RESDUcs7fIiihp38-d6_6g   8568   \n",
       "2  K7lWdNUhCbcnEvI0NhGewg   6887   \n",
       "3  f4x1YBxkLrZg652xt2KR5g   5847   \n",
       "4  cYwJA2A6I12KNkm2rtXd5g   5575   \n",
       "5  DkYS3arLOhA8si5uUEmHOw   5206   \n",
       "6  2weQS-RnoOBhb1KsHKyoSQ   4534   \n",
       "7  5LNZ67Yw9RD6nf4_UhXOjw   4522   \n",
       "8  iCQpiavjjPzJ5_3gPD5Ebg   4351   \n",
       "9  SMPbvZLSMMb7KU76YNYMGg   4350   \n",
       "\n",
       "                                          categories  \n",
       "0  Food, French, Breakfast & Brunch, Restaurants,...  \n",
       "1  Restaurants, Buffets, Sandwiches, Food, Breakf...  \n",
       "2           Buffets, Breakfast & Brunch, Restaurants  \n",
       "3  Breakfast & Brunch, Food, Restaurants, America...  \n",
       "4       Restaurants, Burgers, American (Traditional)  \n",
       "5  Food Delivery Services, Salad, Sandwiches, Sou...  \n",
       "6  Beauty & Spas, Food, Event Planning & Services...  \n",
       "7  Casinos, Hotels, Event Planning & Services, Re...  \n",
       "8                                 Pizza, Restaurants  \n",
       "9  Hotels & Travel, Arts & Entertainment, Hotels,...  "
      ]
     },
     "execution_count": 12,
     "metadata": {},
     "output_type": "execute_result"
    }
   ],
   "source": [
    "\n",
    "df_business=pd.read_feather(\"../data/business.feather\",columns=['business_id','categories'],use_threads=3)\n",
    "tmp_rec_list=pd.merge(tmp_rec_list,df_business,left_on='business_id',right_on='business_id').drop_duplicates().reset_index(drop=True)\n",
    "df_business=None\n",
    "tmp_rec_list"
   ]
  },
  {
   "cell_type": "code",
   "execution_count": 36,
   "metadata": {},
   "outputs": [
    {
     "name": "stdout",
     "output_type": "stream",
     "text": [
      "Food, French, Breakfast & Brunch, Restaurants, Steakhouses\n",
      "Restaurants, Buffets, Sandwiches, Food, Breakfast & Brunch\n",
      "Buffets, Breakfast & Brunch, Restaurants\n",
      "Breakfast & Brunch, Food, Restaurants, American (New)\n",
      "Restaurants, Burgers, American (Traditional)\n",
      "Food Delivery Services, Salad, Sandwiches, Soup, Food, Event Planning & Services, American (New), Restaurants, Caterers, Wraps\n",
      "Beauty & Spas, Food, Event Planning & Services, Hotels, Buffets, Casinos, Day Spas, Restaurants, Arts & Entertainment, Hotels & Travel\n",
      "Casinos, Hotels, Event Planning & Services, Restaurants, Arts & Entertainment, Hotels & Travel\n",
      "Pizza, Restaurants\n",
      "Hotels & Travel, Arts & Entertainment, Hotels, Event Planning & Services, Resorts, Casinos\n"
     ]
    }
   ],
   "source": [
    "for i in range(len(tmp_rec_list)):\n",
    "    print(tmp_rec_list['categories'].iloc[i])"
   ]
  },
  {
   "cell_type": "markdown",
   "metadata": {},
   "source": [
    "# Categorias relevantes"
   ]
  },
  {
   "cell_type": "code",
   "execution_count": 6,
   "metadata": {},
   "outputs": [],
   "source": [
    "Lambda = 0.5\n",
    "Beta = 0.5"
   ]
  },
  {
   "cell_type": "code",
   "execution_count": 11,
   "metadata": {},
   "outputs": [
    {
     "name": "stdout",
     "output_type": "stream",
     "text": [
      "0\n",
      "1\n",
      "2\n",
      "3\n",
      "4\n",
      "5\n",
      "6\n",
      "7\n",
      "8\n",
      "9\n",
      "0 4JNXUYY8wbaaDmk3BPzlWw 8570\n",
      "1 RESDUcs7fIiihp38-d6_6g 8568\n",
      "2 K7lWdNUhCbcnEvI0NhGewg 6887\n",
      "3 f4x1YBxkLrZg652xt2KR5g 5847\n",
      "4 cYwJA2A6I12KNkm2rtXd5g 5575\n",
      "5 DkYS3arLOhA8si5uUEmHOw 5206\n",
      "6 2weQS-RnoOBhb1KsHKyoSQ 4534\n",
      "7 5LNZ67Yw9RD6nf4_UhXOjw 4522\n",
      "8 iCQpiavjjPzJ5_3gPD5Ebg 4351\n",
      "9 SMPbvZLSMMb7KU76YNYMGg 4350\n"
     ]
    }
   ],
   "source": [
    "# lista temporária e lista final\n",
    "rec_list=pd.DataFrame(columns=['business_id','score'])\n",
    "\n",
    "k=len(tmp_rec_list) ## size of rec list\n",
    "for i in range(k):\n",
    "    print(i)\n",
    "    for index,row in tmp_rec_list.iterrows():\n",
    "        business_id=row['business_id']\n",
    "        score=row['score']\n",
    "        print(index,business_id,score)\n"
   ]
  },
  {
   "cell_type": "code",
   "execution_count": 25,
   "metadata": {},
   "outputs": [
    {
     "name": "stdout",
     "output_type": "stream",
     "text": [
      "0 4JNXUYY8wbaaDmk3BPzlWw Food, French, Breakfast & Brunch, Restaurants, Steakhouses\n",
      "1 RESDUcs7fIiihp38-d6_6g Restaurants, Buffets, Sandwiches, Food, Breakfast & Brunch\n",
      "2 K7lWdNUhCbcnEvI0NhGewg Buffets, Breakfast & Brunch, Restaurants\n",
      "3 f4x1YBxkLrZg652xt2KR5g Breakfast & Brunch, Food, Restaurants, American (New)\n",
      "4 cYwJA2A6I12KNkm2rtXd5g Restaurants, Burgers, American (Traditional)\n",
      "5 DkYS3arLOhA8si5uUEmHOw Food Delivery Services, Salad, Sandwiches, Soup, Food, Event Planning & Services, American (New), Restaurants, Caterers, Wraps\n",
      "6 2weQS-RnoOBhb1KsHKyoSQ Beauty & Spas, Food, Event Planning & Services, Hotels, Buffets, Casinos, Day Spas, Restaurants, Arts & Entertainment, Hotels & Travel\n",
      "7 5LNZ67Yw9RD6nf4_UhXOjw Casinos, Hotels, Event Planning & Services, Restaurants, Arts & Entertainment, Hotels & Travel\n",
      "8 iCQpiavjjPzJ5_3gPD5Ebg Pizza, Restaurants\n",
      "9 SMPbvZLSMMb7KU76YNYMGg Hotels & Travel, Arts & Entertainment, Hotels, Event Planning & Services, Resorts, Casinos\n"
     ]
    }
   ],
   "source": [
    "def shortest_path_length(category1,category2):\n",
    "    spl=0\n",
    "    if category1 == category2:\n",
    "       spl=0\n",
    "    else:\n",
    "        \n",
    "        \n",
    "def category_dis_sim(category1,category2):\n",
    "    dissim=0.0\n",
    "    spd=shortest_path_length(category1,category2)\n",
    "    sim = 1.0 / (1.0 + spd)\n",
    "    dissim=1.0-sim\n",
    "    return dissim\n",
    "    \n",
    "\n",
    "def min_dist_to_list_cat(business,rec_list):\n",
    "    min_dissim=1.0\n",
    "    rec_list_size=len(rec_list)\n",
    "    if rec_list_size==0:\n",
    "        min_dissim=1.0\n",
    "    else:\n",
    "        for index,row in rec_list.iterrows():\n",
    "            local_min_distance=1\n",
    "            cur_distance=0\n",
    "            for category1 in business['categories'].split(','):\n",
    "                for category2 in row['categories'].split(','):\n",
    "                    cur_distance=category_dis_sim(category1,category2)\n",
    "                    local_min_distance=min(local_min_distance,cur_distance)\n",
    "            min_dissim=min(min_dissim,local_min_distance)\n",
    "    return min_dissim\n",
    "        \n",
    "def objective_ild(business_id,rec_list):\n",
    "    # /*(1-_cfg._divWeight) * relevance + */_cfg._divWeight * diversity; where _cfg._divWeight = 0.9\n",
    "    ret_val= 0.0\n",
    "    diversity=0.0\n",
    "    div_weight=0.9\n",
    "    ret_val = div_weight*diversity #+ (1-div_weight)*relevance\n",
    "    return ret_val\n",
    "min_dist_to_list_cat(tmp_rec_list.iloc[0],tmp_rec_list)\n",
    "# for index,row in tmp_rec_list.iterrows():\n",
    "#     business_id=row['business_id']\n",
    "#     score=row['score']\n",
    "#     print(index,business_id,score)"
   ]
  },
  {
   "cell_type": "code",
   "execution_count": 27,
   "metadata": {},
   "outputs": [
    {
     "name": "stdout",
     "output_type": "stream",
     "text": [
      "F\n",
      "o\n",
      "o\n",
      "d\n",
      ",\n",
      " \n",
      "F\n",
      "r\n",
      "e\n",
      "n\n",
      "c\n",
      "h\n",
      ",\n",
      " \n",
      "B\n",
      "r\n",
      "e\n",
      "a\n",
      "k\n",
      "f\n",
      "a\n",
      "s\n",
      "t\n",
      " \n",
      "&\n",
      " \n",
      "B\n",
      "r\n",
      "u\n",
      "n\n",
      "c\n",
      "h\n",
      ",\n",
      " \n",
      "R\n",
      "e\n",
      "s\n",
      "t\n",
      "a\n",
      "u\n",
      "r\n",
      "a\n",
      "n\n",
      "t\n",
      "s\n",
      ",\n",
      " \n",
      "S\n",
      "t\n",
      "e\n",
      "a\n",
      "k\n",
      "h\n",
      "o\n",
      "u\n",
      "s\n",
      "e\n",
      "s\n"
     ]
    }
   ],
   "source": [
    "for a in tmp_rec_list.iloc[0]['categories']:\n",
    "    print(a)"
   ]
  },
  {
   "cell_type": "code",
   "execution_count": 31,
   "metadata": {},
   "outputs": [
    {
     "data": {
      "text/plain": [
       "False"
      ]
     },
     "execution_count": 31,
     "metadata": {},
     "output_type": "execute_result"
    }
   ],
   "source": [
    "tmp_rec_list.iloc[0]['categories'].split(',')\n"
   ]
  }
 ],
 "metadata": {
  "kernelspec": {
   "display_name": "Python 3",
   "language": "python",
   "name": "python3"
  },
  "language_info": {
   "codemirror_mode": {
    "name": "ipython",
    "version": 3
   },
   "file_extension": ".py",
   "mimetype": "text/x-python",
   "name": "python",
   "nbconvert_exporter": "python",
   "pygments_lexer": "ipython3",
   "version": "3.7.4"
  }
 },
 "nbformat": 4,
 "nbformat_minor": 4
}
