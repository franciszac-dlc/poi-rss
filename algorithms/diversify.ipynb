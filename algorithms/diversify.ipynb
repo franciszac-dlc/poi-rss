{
 "cells": [
  {
   "cell_type": "markdown",
   "metadata": {},
   "source": [
    "TO-DO LIST:\n",
    "- [ ] separar training e test set"
   ]
  },
  {
   "cell_type": "code",
   "execution_count": 1,
   "metadata": {},
   "outputs": [],
   "source": [
    "import numpy as np\n",
    "import pandas as pd\n",
    "import recommenders as rec\n",
    "import networkx as nx\n",
    "import matplotlib.pyplot as plt\n",
    "import areamanager\n",
    "%matplotlib inline"
   ]
  },
  {
   "cell_type": "code",
   "execution_count": 2,
   "metadata": {},
   "outputs": [],
   "source": [
    "#df_business=pd.read_feather(\"../data/business.feather\")\n",
    "#df_review=pd.read_feather(\"../data/review.feather\",columns=['business_id','user_id'])\n"
   ]
  },
  {
   "cell_type": "code",
   "execution_count": 3,
   "metadata": {},
   "outputs": [
    {
     "name": "stdout",
     "output_type": "stream",
     "text": [
      "Area selected: Las Vegas\n"
     ]
    }
   ],
   "source": [
    "las_vegas_area=areamanager.delimiter_area(1)\n",
    "df_business=pd.read_csv(\"../data/business.csv\",usecols=['business_id','latitude','longitude','categories'])\n",
    "df_business=areamanager.pois_in_area(las_vegas_area,df_business)"
   ]
  },
  {
   "cell_type": "code",
   "execution_count": 4,
   "metadata": {},
   "outputs": [],
   "source": [
    "df_review=pd.read_csv(\"../data/review.csv\",usecols=['business_id','user_id'])\n",
    "df_review=pd.merge(df_review,df_business,on='business_id')"
   ]
  },
  {
   "cell_type": "code",
   "execution_count": 5,
   "metadata": {},
   "outputs": [
    {
     "data": {
      "text/html": [
       "<div>\n",
       "<style scoped>\n",
       "    .dataframe tbody tr th:only-of-type {\n",
       "        vertical-align: middle;\n",
       "    }\n",
       "\n",
       "    .dataframe tbody tr th {\n",
       "        vertical-align: top;\n",
       "    }\n",
       "\n",
       "    .dataframe thead th {\n",
       "        text-align: right;\n",
       "    }\n",
       "</style>\n",
       "<table border=\"1\" class=\"dataframe\">\n",
       "  <thead>\n",
       "    <tr style=\"text-align: right;\">\n",
       "      <th></th>\n",
       "      <th>user_id</th>\n",
       "      <th>business_id</th>\n",
       "      <th>latitude</th>\n",
       "      <th>longitude</th>\n",
       "      <th>categories</th>\n",
       "    </tr>\n",
       "  </thead>\n",
       "  <tbody>\n",
       "    <tr>\n",
       "      <th>0</th>\n",
       "      <td>hG7b0MtEbXx5QzbzE6C_VA</td>\n",
       "      <td>ujmEBvifdJM6h6RLv4wQIg</td>\n",
       "      <td>36.215546</td>\n",
       "      <td>-115.248798</td>\n",
       "      <td>['Fitness &amp; Instruction', 'Doctors', 'Health &amp;...</td>\n",
       "    </tr>\n",
       "    <tr>\n",
       "      <th>1</th>\n",
       "      <td>RBXSJA372ilErzNwz0jXvQ</td>\n",
       "      <td>ujmEBvifdJM6h6RLv4wQIg</td>\n",
       "      <td>36.215546</td>\n",
       "      <td>-115.248798</td>\n",
       "      <td>['Fitness &amp; Instruction', 'Doctors', 'Health &amp;...</td>\n",
       "    </tr>\n",
       "    <tr>\n",
       "      <th>2</th>\n",
       "      <td>x3brMMbJrAW9PwW5A6YL5w</td>\n",
       "      <td>ujmEBvifdJM6h6RLv4wQIg</td>\n",
       "      <td>36.215546</td>\n",
       "      <td>-115.248798</td>\n",
       "      <td>['Fitness &amp; Instruction', 'Doctors', 'Health &amp;...</td>\n",
       "    </tr>\n",
       "    <tr>\n",
       "      <th>3</th>\n",
       "      <td>Skzdl0sWhW88525a1vr59g</td>\n",
       "      <td>ujmEBvifdJM6h6RLv4wQIg</td>\n",
       "      <td>36.215546</td>\n",
       "      <td>-115.248798</td>\n",
       "      <td>['Fitness &amp; Instruction', 'Doctors', 'Health &amp;...</td>\n",
       "    </tr>\n",
       "    <tr>\n",
       "      <th>4</th>\n",
       "      <td>3Y25VDfnQVcuc33T-U3Z6A</td>\n",
       "      <td>ujmEBvifdJM6h6RLv4wQIg</td>\n",
       "      <td>36.215546</td>\n",
       "      <td>-115.248798</td>\n",
       "      <td>['Fitness &amp; Instruction', 'Doctors', 'Health &amp;...</td>\n",
       "    </tr>\n",
       "  </tbody>\n",
       "</table>\n",
       "</div>"
      ],
      "text/plain": [
       "                  user_id             business_id   latitude   longitude  \\\n",
       "0  hG7b0MtEbXx5QzbzE6C_VA  ujmEBvifdJM6h6RLv4wQIg  36.215546 -115.248798   \n",
       "1  RBXSJA372ilErzNwz0jXvQ  ujmEBvifdJM6h6RLv4wQIg  36.215546 -115.248798   \n",
       "2  x3brMMbJrAW9PwW5A6YL5w  ujmEBvifdJM6h6RLv4wQIg  36.215546 -115.248798   \n",
       "3  Skzdl0sWhW88525a1vr59g  ujmEBvifdJM6h6RLv4wQIg  36.215546 -115.248798   \n",
       "4  3Y25VDfnQVcuc33T-U3Z6A  ujmEBvifdJM6h6RLv4wQIg  36.215546 -115.248798   \n",
       "\n",
       "                                          categories  \n",
       "0  ['Fitness & Instruction', 'Doctors', 'Health &...  \n",
       "1  ['Fitness & Instruction', 'Doctors', 'Health &...  \n",
       "2  ['Fitness & Instruction', 'Doctors', 'Health &...  \n",
       "3  ['Fitness & Instruction', 'Doctors', 'Health &...  \n",
       "4  ['Fitness & Instruction', 'Doctors', 'Health &...  "
      ]
     },
     "execution_count": 5,
     "metadata": {},
     "output_type": "execute_result"
    }
   ],
   "source": [
    "#print(df_business.head())\n",
    "df_review.head()"
   ]
  },
  {
   "cell_type": "code",
   "execution_count": 6,
   "metadata": {},
   "outputs": [
    {
     "data": {
      "text/html": [
       "<div>\n",
       "<style scoped>\n",
       "    .dataframe tbody tr th:only-of-type {\n",
       "        vertical-align: middle;\n",
       "    }\n",
       "\n",
       "    .dataframe tbody tr th {\n",
       "        vertical-align: top;\n",
       "    }\n",
       "\n",
       "    .dataframe thead th {\n",
       "        text-align: right;\n",
       "    }\n",
       "</style>\n",
       "<table border=\"1\" class=\"dataframe\">\n",
       "  <thead>\n",
       "    <tr style=\"text-align: right;\">\n",
       "      <th></th>\n",
       "      <th>business_id</th>\n",
       "      <th>score</th>\n",
       "    </tr>\n",
       "  </thead>\n",
       "  <tbody>\n",
       "    <tr>\n",
       "      <th>0</th>\n",
       "      <td>2weQS-RnoOBhb1KsHKyoSQ</td>\n",
       "      <td>4534</td>\n",
       "    </tr>\n",
       "    <tr>\n",
       "      <th>1</th>\n",
       "      <td>KskYqH1Bi7Z_61pH6Om8pg</td>\n",
       "      <td>4131</td>\n",
       "    </tr>\n",
       "    <tr>\n",
       "      <th>2</th>\n",
       "      <td>g8OnV26ywJlZpezdBnOWUQ</td>\n",
       "      <td>3366</td>\n",
       "    </tr>\n",
       "    <tr>\n",
       "      <th>3</th>\n",
       "      <td>3kdSl5mo9dWC4clrQjEDGg</td>\n",
       "      <td>3350</td>\n",
       "    </tr>\n",
       "    <tr>\n",
       "      <th>4</th>\n",
       "      <td>XXW_OFaYQkkGOGniujZFHg</td>\n",
       "      <td>3330</td>\n",
       "    </tr>\n",
       "    <tr>\n",
       "      <th>5</th>\n",
       "      <td>RwMLuOkImBIqqYj4SSKSPg</td>\n",
       "      <td>3283</td>\n",
       "    </tr>\n",
       "    <tr>\n",
       "      <th>6</th>\n",
       "      <td>MpmFFw0GE_2iRFPdsRpJbA</td>\n",
       "      <td>3212</td>\n",
       "    </tr>\n",
       "    <tr>\n",
       "      <th>7</th>\n",
       "      <td>yfxDa8RFOvJPQh0rNtakHA</td>\n",
       "      <td>3106</td>\n",
       "    </tr>\n",
       "    <tr>\n",
       "      <th>8</th>\n",
       "      <td>fL-b760btOaGa85OJ9ut3w</td>\n",
       "      <td>2952</td>\n",
       "    </tr>\n",
       "    <tr>\n",
       "      <th>9</th>\n",
       "      <td>t-o_Sraneime4DDhWrQRBA</td>\n",
       "      <td>2879</td>\n",
       "    </tr>\n",
       "  </tbody>\n",
       "</table>\n",
       "</div>"
      ],
      "text/plain": [
       "              business_id  score\n",
       "0  2weQS-RnoOBhb1KsHKyoSQ   4534\n",
       "1  KskYqH1Bi7Z_61pH6Om8pg   4131\n",
       "2  g8OnV26ywJlZpezdBnOWUQ   3366\n",
       "3  3kdSl5mo9dWC4clrQjEDGg   3350\n",
       "4  XXW_OFaYQkkGOGniujZFHg   3330\n",
       "5  RwMLuOkImBIqqYj4SSKSPg   3283\n",
       "6  MpmFFw0GE_2iRFPdsRpJbA   3212\n",
       "7  yfxDa8RFOvJPQh0rNtakHA   3106\n",
       "8  fL-b760btOaGa85OJ9ut3w   2952\n",
       "9  t-o_Sraneime4DDhWrQRBA   2879"
      ]
     },
     "execution_count": 6,
     "metadata": {},
     "output_type": "execute_result"
    }
   ],
   "source": [
    "tmp_rec_list=rec.mostpopular(df_review,10)\n",
    "#df_review=None\n",
    "tmp_rec_list"
   ]
  },
  {
   "cell_type": "code",
   "execution_count": 7,
   "metadata": {},
   "outputs": [
    {
     "data": {
      "text/html": [
       "<div>\n",
       "<style scoped>\n",
       "    .dataframe tbody tr th:only-of-type {\n",
       "        vertical-align: middle;\n",
       "    }\n",
       "\n",
       "    .dataframe tbody tr th {\n",
       "        vertical-align: top;\n",
       "    }\n",
       "\n",
       "    .dataframe thead th {\n",
       "        text-align: right;\n",
       "    }\n",
       "</style>\n",
       "<table border=\"1\" class=\"dataframe\">\n",
       "  <thead>\n",
       "    <tr style=\"text-align: right;\">\n",
       "      <th></th>\n",
       "      <th>business_id</th>\n",
       "      <th>score</th>\n",
       "      <th>latitude</th>\n",
       "      <th>longitude</th>\n",
       "      <th>categories</th>\n",
       "    </tr>\n",
       "  </thead>\n",
       "  <tbody>\n",
       "    <tr>\n",
       "      <th>0</th>\n",
       "      <td>2weQS-RnoOBhb1KsHKyoSQ</td>\n",
       "      <td>4534</td>\n",
       "      <td>36.126887</td>\n",
       "      <td>-115.165590</td>\n",
       "      <td>['Beauty &amp; Spas', 'Food', 'Event Planning &amp; Se...</td>\n",
       "    </tr>\n",
       "    <tr>\n",
       "      <th>1</th>\n",
       "      <td>KskYqH1Bi7Z_61pH6Om8pg</td>\n",
       "      <td>4131</td>\n",
       "      <td>36.143664</td>\n",
       "      <td>-115.141891</td>\n",
       "      <td>['Car Dealers', 'Nightlife', 'Automotive', 'Bu...</td>\n",
       "    </tr>\n",
       "    <tr>\n",
       "      <th>2</th>\n",
       "      <td>g8OnV26ywJlZpezdBnOWUQ</td>\n",
       "      <td>3366</td>\n",
       "      <td>36.144713</td>\n",
       "      <td>-115.240092</td>\n",
       "      <td>['American (New)', 'Breakfast &amp; Brunch', 'Rest...</td>\n",
       "    </tr>\n",
       "    <tr>\n",
       "      <th>3</th>\n",
       "      <td>3kdSl5mo9dWC4clrQjEDGg</td>\n",
       "      <td>3350</td>\n",
       "      <td>36.144085</td>\n",
       "      <td>-115.202486</td>\n",
       "      <td>['Breakfast &amp; Brunch', 'Sandwiches', 'Burgers'...</td>\n",
       "    </tr>\n",
       "    <tr>\n",
       "      <th>4</th>\n",
       "      <td>XXW_OFaYQkkGOGniujZFHg</td>\n",
       "      <td>3330</td>\n",
       "      <td>36.133667</td>\n",
       "      <td>-115.163095</td>\n",
       "      <td>['Nightlife', 'Lounges', 'Restaurants', 'Bars'...</td>\n",
       "    </tr>\n",
       "    <tr>\n",
       "      <th>5</th>\n",
       "      <td>RwMLuOkImBIqqYj4SSKSPg</td>\n",
       "      <td>3283</td>\n",
       "      <td>36.131594</td>\n",
       "      <td>-115.164767</td>\n",
       "      <td>['Mexican', 'Tacos', 'Restaurants']</td>\n",
       "    </tr>\n",
       "    <tr>\n",
       "      <th>6</th>\n",
       "      <td>MpmFFw0GE_2iRFPdsRpJbA</td>\n",
       "      <td>3212</td>\n",
       "      <td>36.128050</td>\n",
       "      <td>-115.164869</td>\n",
       "      <td>['Lounges', 'Dance Clubs', 'Bars', 'Nightlife']</td>\n",
       "    </tr>\n",
       "    <tr>\n",
       "      <th>7</th>\n",
       "      <td>yfxDa8RFOvJPQh0rNtakHA</td>\n",
       "      <td>3106</td>\n",
       "      <td>36.126194</td>\n",
       "      <td>-115.193445</td>\n",
       "      <td>['Vietnamese', 'Restaurants', 'Chinese', 'Kore...</td>\n",
       "    </tr>\n",
       "    <tr>\n",
       "      <th>8</th>\n",
       "      <td>fL-b760btOaGa85OJ9ut3w</td>\n",
       "      <td>2952</td>\n",
       "      <td>36.132188</td>\n",
       "      <td>-115.177096</td>\n",
       "      <td>['Food', 'Burgers', 'Caterers', 'Soul Food', '...</td>\n",
       "    </tr>\n",
       "    <tr>\n",
       "      <th>9</th>\n",
       "      <td>t-o_Sraneime4DDhWrQRBA</td>\n",
       "      <td>2879</td>\n",
       "      <td>36.127684</td>\n",
       "      <td>-115.165905</td>\n",
       "      <td>['Active Life', 'Hotels &amp; Travel', 'Casinos', ...</td>\n",
       "    </tr>\n",
       "  </tbody>\n",
       "</table>\n",
       "</div>"
      ],
      "text/plain": [
       "              business_id  score   latitude   longitude  \\\n",
       "0  2weQS-RnoOBhb1KsHKyoSQ   4534  36.126887 -115.165590   \n",
       "1  KskYqH1Bi7Z_61pH6Om8pg   4131  36.143664 -115.141891   \n",
       "2  g8OnV26ywJlZpezdBnOWUQ   3366  36.144713 -115.240092   \n",
       "3  3kdSl5mo9dWC4clrQjEDGg   3350  36.144085 -115.202486   \n",
       "4  XXW_OFaYQkkGOGniujZFHg   3330  36.133667 -115.163095   \n",
       "5  RwMLuOkImBIqqYj4SSKSPg   3283  36.131594 -115.164767   \n",
       "6  MpmFFw0GE_2iRFPdsRpJbA   3212  36.128050 -115.164869   \n",
       "7  yfxDa8RFOvJPQh0rNtakHA   3106  36.126194 -115.193445   \n",
       "8  fL-b760btOaGa85OJ9ut3w   2952  36.132188 -115.177096   \n",
       "9  t-o_Sraneime4DDhWrQRBA   2879  36.127684 -115.165905   \n",
       "\n",
       "                                          categories  \n",
       "0  ['Beauty & Spas', 'Food', 'Event Planning & Se...  \n",
       "1  ['Car Dealers', 'Nightlife', 'Automotive', 'Bu...  \n",
       "2  ['American (New)', 'Breakfast & Brunch', 'Rest...  \n",
       "3  ['Breakfast & Brunch', 'Sandwiches', 'Burgers'...  \n",
       "4  ['Nightlife', 'Lounges', 'Restaurants', 'Bars'...  \n",
       "5                ['Mexican', 'Tacos', 'Restaurants']  \n",
       "6    ['Lounges', 'Dance Clubs', 'Bars', 'Nightlife']  \n",
       "7  ['Vietnamese', 'Restaurants', 'Chinese', 'Kore...  \n",
       "8  ['Food', 'Burgers', 'Caterers', 'Soul Food', '...  \n",
       "9  ['Active Life', 'Hotels & Travel', 'Casinos', ...  "
      ]
     },
     "execution_count": 7,
     "metadata": {},
     "output_type": "execute_result"
    }
   ],
   "source": [
    "tmp_rec_list=pd.merge(tmp_rec_list,df_business,on='business_id').drop_duplicates().reset_index(drop=True)\n",
    "#df_business=None\n",
    "tmp_rec_list"
   ]
  },
  {
   "cell_type": "markdown",
   "metadata": {},
   "source": [
    "# Categorias relevantes"
   ]
  },
  {
   "cell_type": "code",
   "execution_count": 8,
   "metadata": {},
   "outputs": [],
   "source": [
    "Lambda = 0.5\n",
    "Beta = 0.5"
   ]
  },
  {
   "cell_type": "code",
   "execution_count": 9,
   "metadata": {},
   "outputs": [],
   "source": [
    "df_categories=pd.read_json(\"../data/categories.json\")\n",
    "\n",
    "# dicionário alias title 2 way\n",
    "dict_alias_title={}\n",
    "for index, row in df_categories.iterrows():\n",
    "    dict_alias_title[row['alias']]=row['title']\n",
    "    dict_alias_title[row['title']]=row['alias']\n",
    "\n",
    "\n",
    "category_tree= nx.DiGraph()\n",
    "for index, row in df_categories.iterrows():\n",
    "    if not row['parents']:\n",
    "        category_tree.add_edge(row['alias'],'root') # root node if no parents\n",
    "    else:\n",
    "        for parent_label in row['parents']:\n",
    "            category_tree.add_edge(row['alias'],parent_label)\n",
    "\n",
    "undirected_category_tree=category_tree.to_undirected()\n",
    "df_categories=None"
   ]
  },
  {
   "cell_type": "code",
   "execution_count": 10,
   "metadata": {},
   "outputs": [
    {
     "data": {
      "text/plain": [
       "4"
      ]
     },
     "execution_count": 10,
     "metadata": {},
     "output_type": "execute_result"
    }
   ],
   "source": [
    "nx.shortest_path_length(undirected_category_tree,'aircraftdealers','airsoft')"
   ]
  },
  {
   "cell_type": "code",
   "execution_count": 11,
   "metadata": {},
   "outputs": [],
   "source": [
    "# lista temporária e lista final\n",
    "# rec_list=pd.DataFrame(columns=['business_id','score'])\n",
    "\n",
    "# k=len(tmp_rec_list) ## size of rec list\n",
    "# for i in range(k):\n",
    "#     print(i)\n",
    "#     for index,row in tmp_rec_list.iterrows():\n",
    "#         business_id=row['business_id']\n",
    "#         score=row['score']\n",
    "#         print(index,business_id,score)\n"
   ]
  },
  {
   "cell_type": "code",
   "execution_count": 12,
   "metadata": {},
   "outputs": [
    {
     "data": {
      "text/plain": [
       "['Beauty & Spas',\n",
       " 'Food',\n",
       " 'Event Planning & Services',\n",
       " 'Hotels',\n",
       " 'Buffets',\n",
       " 'Casinos',\n",
       " 'Day Spas',\n",
       " 'Restaurants',\n",
       " 'Arts & Entertainment',\n",
       " 'Hotels & Travel']"
      ]
     },
     "execution_count": 12,
     "metadata": {},
     "output_type": "execute_result"
    }
   ],
   "source": [
    "eval(tmp_rec_list.iloc[0]['categories'])"
   ]
  },
  {
   "cell_type": "code",
   "execution_count": 13,
   "metadata": {},
   "outputs": [
    {
     "data": {
      "text/plain": [
       "0.0"
      ]
     },
     "execution_count": 13,
     "metadata": {},
     "output_type": "execute_result"
    }
   ],
   "source": [
    "\n",
    "        \n",
    "def category_dis_sim(category1,category2):\n",
    "    dissim=0.0\n",
    "    spd=nx.shortest_path_length(undirected_category_tree,category1,category2)\n",
    "    sim = 1.0 / (1.0 + spd)\n",
    "    dissim=1.0-sim\n",
    "    return dissim\n",
    "    \n",
    "\n",
    "def min_dist_to_list_cat(business,rec_list):\n",
    "    min_dissim=1.0\n",
    "    rec_list_size=len(rec_list)\n",
    "    if rec_list_size==0:\n",
    "        min_dissim=1.0\n",
    "    else:\n",
    "        for index,row in rec_list.iterrows():\n",
    "            local_min_distance=1\n",
    "            cur_distance=0\n",
    "            for category1 in eval(business['categories']):\n",
    "                for category2 in eval(row['categories']):\n",
    "                    cur_distance=category_dis_sim(\n",
    "                        dict_alias_title[category1],\n",
    "                        dict_alias_title[category2])\n",
    "                    #print(category1,category2,cur_distance,local_min_distance)\n",
    "                    local_min_distance=min(local_min_distance,cur_distance)\n",
    "            min_dissim=min(min_dissim,local_min_distance)\n",
    "    return min_dissim\n",
    "        \n",
    "def objective_ild(business,rec_list):\n",
    "    # /*(1-_cfg._divWeight) * relevance + */_cfg._divWeight * diversity; where _cfg._divWeight = 0.9\n",
    "    ret_val= 0.0\n",
    "    diversity=0.0\n",
    "    div_weight=0.9\n",
    "    diversity=min_dist_to_list_cat(business,rec_list)\n",
    "    ret_val = div_weight*diversity #+ (1-div_weight)*relevance\n",
    "    return ret_val\n",
    "\n",
    "min_dist_to_list_cat(tmp_rec_list.iloc[0],tmp_rec_list.iloc[1:9])"
   ]
  },
  {
   "cell_type": "code",
   "execution_count": 14,
   "metadata": {},
   "outputs": [],
   "source": [
    "# for index,row in tmp_rec_list.iterrows():\n",
    "#     business_id=row['business_id']\n",
    "#     score=row['score']\n",
    "#     print(index,business_id,score)"
   ]
  },
  {
   "cell_type": "code",
   "execution_count": 13,
   "metadata": {},
   "outputs": [],
   "source": [
    "#import pandas as pd\n",
    "#df_review=pd.read_csv('../data/review.csv',usecols=['user_id','business_id'])\n",
    "#df_business=pd.read_csv('../data/business.csv',usecols=['business_id','categories'])"
   ]
  },
  {
   "cell_type": "markdown",
   "metadata": {},
   "source": [
    "$\\frac{\\#RelevantCategoriesInRecList\\cap \\#RelevantCategoriesToUser}{\\#RelevantCategoriesToUser}$"
   ]
  },
  {
   "cell_type": "code",
   "execution_count": 15,
   "metadata": {},
   "outputs": [
    {
     "name": "stdout",
     "output_type": "stream",
     "text": [
      "{'Nightlife', 'Wine Bars', 'Vegan', 'French', 'Vegetarian', 'Pizza', 'Mexican', 'Italian', 'American (New)', 'Bars', 'Seafood', 'Arts & Entertainment', 'American (Traditional)', 'Wineries', 'Food', 'Cafes', 'Restaurants'}\n",
      "Arts & Entertainment\n",
      "Food\n",
      "Restaurants\n"
     ]
    },
    {
     "data": {
      "text/plain": [
       "0.17647058823529413"
      ]
     },
     "execution_count": 15,
     "metadata": {},
     "output_type": "execute_result"
    }
   ],
   "source": [
    "\n",
    "def relevant_categories_to_the_user(user_id,df_review,df_business):\n",
    "    # focus only on one user\n",
    "    df=df_review[df_review['user_id']==user_id].copy()\n",
    "    # number of visits in pois\n",
    "    df['Count']=df.groupby(['business_id','user_id'])['user_id'].transform('count')\n",
    "    # merge to get mean poi visits, a column with Count and another with diffpoisvisited\n",
    "    df_mean_poi_visits=pd.merge(\\\n",
    "    df[['user_id','Count']].groupby('user_id').sum().reset_index(level=0),\\\n",
    "    df[['user_id','business_id']].groupby('user_id').count().reset_index(level=0).rename(columns={\"business_id\":\"diffpoisvisited\"}),\\\n",
    "    left_on='user_id',right_on='user_id')\n",
    "    \n",
    "    df_mean_poi_visits['meanpoivisits']=df_mean_poi_visits['Count']/df_mean_poi_visits['diffpoisvisited']\n",
    "    mean_poi_visits=df_mean_poi_visits['meanpoivisits'].iloc[0]\n",
    "    # print(mean_poi_visits)\n",
    "    \n",
    "    # Relevant categories\n",
    "    relevant_categories = set()    \n",
    "    for index,row in df.iterrows():\n",
    "        # Check if poi is relevant\n",
    "        if row['Count'] > mean_poi_visits:\n",
    "            # add relevant categories\n",
    "            for category in eval(df_business[df_business['business_id']==row['business_id']]['categories'].iloc[0]):\n",
    "                relevant_categories.add(category)\n",
    "            #print(row['business_id'])\n",
    "    return relevant_categories\n",
    "    #print(relevant_pois)\n",
    "    \n",
    "\n",
    "def objective_genre_coverage(user_id,business,rec_list,df_review,df_business):\n",
    "    relevant_categories=relevant_categories_to_the_user(user_id,df_review,df_business)\n",
    "    count_equal=0\n",
    "    categories_in_rec_list=set()\n",
    "    \n",
    "    for index, row in rec_list.iterrows():\n",
    "        for category in eval(row['categories']):\n",
    "            categories_in_rec_list.add(category)\n",
    "    \n",
    "    for category in eval(business['categories']):\n",
    "        categories_in_rec_list.add(category)\n",
    "    \n",
    "    #print(categories_in_rec_list)\n",
    "    \n",
    "    for cat1 in relevant_categories:\n",
    "        for cat2 in eval(business['categories']):\n",
    "            if cat1 == cat2:\n",
    "                print(cat1)\n",
    "                count_equal=count_equal+1\n",
    "    return count_equal/len(relevant_categories)    \n",
    "\n",
    "print(relevant_categories_to_the_user('---1lKK3aKOuomHnwAkAow',df_review,df_business))\n",
    "objective_genre_coverage('---1lKK3aKOuomHnwAkAow',tmp_rec_list.iloc[0],tmp_rec_list,df_review,df_business)"
   ]
  },
  {
   "cell_type": "markdown",
   "metadata": {},
   "source": [
    "# GeoDiv"
   ]
  },
  {
   "cell_type": "code",
   "execution_count": 98,
   "metadata": {},
   "outputs": [
    {
     "data": {
      "text/html": [
       "<div>\n",
       "<style scoped>\n",
       "    .dataframe tbody tr th:only-of-type {\n",
       "        vertical-align: middle;\n",
       "    }\n",
       "\n",
       "    .dataframe tbody tr th {\n",
       "        vertical-align: top;\n",
       "    }\n",
       "\n",
       "    .dataframe thead th {\n",
       "        text-align: right;\n",
       "    }\n",
       "</style>\n",
       "<table border=\"1\" class=\"dataframe\">\n",
       "  <thead>\n",
       "    <tr style=\"text-align: right;\">\n",
       "      <th></th>\n",
       "      <th>business_id</th>\n",
       "      <th>score</th>\n",
       "      <th>latitude</th>\n",
       "      <th>longitude</th>\n",
       "      <th>categories</th>\n",
       "    </tr>\n",
       "  </thead>\n",
       "  <tbody>\n",
       "    <tr>\n",
       "      <th>1</th>\n",
       "      <td>KskYqH1Bi7Z_61pH6Om8pg</td>\n",
       "      <td>4131</td>\n",
       "      <td>36.143664</td>\n",
       "      <td>-115.141891</td>\n",
       "      <td>['Car Dealers', 'Nightlife', 'Automotive', 'Bu...</td>\n",
       "    </tr>\n",
       "    <tr>\n",
       "      <th>2</th>\n",
       "      <td>g8OnV26ywJlZpezdBnOWUQ</td>\n",
       "      <td>3366</td>\n",
       "      <td>36.144713</td>\n",
       "      <td>-115.240092</td>\n",
       "      <td>['American (New)', 'Breakfast &amp; Brunch', 'Rest...</td>\n",
       "    </tr>\n",
       "    <tr>\n",
       "      <th>3</th>\n",
       "      <td>3kdSl5mo9dWC4clrQjEDGg</td>\n",
       "      <td>3350</td>\n",
       "      <td>36.144085</td>\n",
       "      <td>-115.202486</td>\n",
       "      <td>['Breakfast &amp; Brunch', 'Sandwiches', 'Burgers'...</td>\n",
       "    </tr>\n",
       "    <tr>\n",
       "      <th>4</th>\n",
       "      <td>XXW_OFaYQkkGOGniujZFHg</td>\n",
       "      <td>3330</td>\n",
       "      <td>36.133667</td>\n",
       "      <td>-115.163095</td>\n",
       "      <td>['Nightlife', 'Lounges', 'Restaurants', 'Bars'...</td>\n",
       "    </tr>\n",
       "    <tr>\n",
       "      <th>5</th>\n",
       "      <td>RwMLuOkImBIqqYj4SSKSPg</td>\n",
       "      <td>3283</td>\n",
       "      <td>36.131594</td>\n",
       "      <td>-115.164767</td>\n",
       "      <td>['Mexican', 'Tacos', 'Restaurants']</td>\n",
       "    </tr>\n",
       "    <tr>\n",
       "      <th>6</th>\n",
       "      <td>MpmFFw0GE_2iRFPdsRpJbA</td>\n",
       "      <td>3212</td>\n",
       "      <td>36.128050</td>\n",
       "      <td>-115.164869</td>\n",
       "      <td>['Lounges', 'Dance Clubs', 'Bars', 'Nightlife']</td>\n",
       "    </tr>\n",
       "    <tr>\n",
       "      <th>7</th>\n",
       "      <td>yfxDa8RFOvJPQh0rNtakHA</td>\n",
       "      <td>3106</td>\n",
       "      <td>36.126194</td>\n",
       "      <td>-115.193445</td>\n",
       "      <td>['Vietnamese', 'Restaurants', 'Chinese', 'Kore...</td>\n",
       "    </tr>\n",
       "    <tr>\n",
       "      <th>8</th>\n",
       "      <td>fL-b760btOaGa85OJ9ut3w</td>\n",
       "      <td>2952</td>\n",
       "      <td>36.132188</td>\n",
       "      <td>-115.177096</td>\n",
       "      <td>['Food', 'Burgers', 'Caterers', 'Soul Food', '...</td>\n",
       "    </tr>\n",
       "    <tr>\n",
       "      <th>9</th>\n",
       "      <td>t-o_Sraneime4DDhWrQRBA</td>\n",
       "      <td>2879</td>\n",
       "      <td>36.127684</td>\n",
       "      <td>-115.165905</td>\n",
       "      <td>['Active Life', 'Hotels &amp; Travel', 'Casinos', ...</td>\n",
       "    </tr>\n",
       "  </tbody>\n",
       "</table>\n",
       "</div>"
      ],
      "text/plain": [
       "              business_id  score   latitude   longitude  \\\n",
       "1  KskYqH1Bi7Z_61pH6Om8pg   4131  36.143664 -115.141891   \n",
       "2  g8OnV26ywJlZpezdBnOWUQ   3366  36.144713 -115.240092   \n",
       "3  3kdSl5mo9dWC4clrQjEDGg   3350  36.144085 -115.202486   \n",
       "4  XXW_OFaYQkkGOGniujZFHg   3330  36.133667 -115.163095   \n",
       "5  RwMLuOkImBIqqYj4SSKSPg   3283  36.131594 -115.164767   \n",
       "6  MpmFFw0GE_2iRFPdsRpJbA   3212  36.128050 -115.164869   \n",
       "7  yfxDa8RFOvJPQh0rNtakHA   3106  36.126194 -115.193445   \n",
       "8  fL-b760btOaGa85OJ9ut3w   2952  36.132188 -115.177096   \n",
       "9  t-o_Sraneime4DDhWrQRBA   2879  36.127684 -115.165905   \n",
       "\n",
       "                                          categories  \n",
       "1  ['Car Dealers', 'Nightlife', 'Automotive', 'Bu...  \n",
       "2  ['American (New)', 'Breakfast & Brunch', 'Rest...  \n",
       "3  ['Breakfast & Brunch', 'Sandwiches', 'Burgers'...  \n",
       "4  ['Nightlife', 'Lounges', 'Restaurants', 'Bars'...  \n",
       "5                ['Mexican', 'Tacos', 'Restaurants']  \n",
       "6    ['Lounges', 'Dance Clubs', 'Bars', 'Nightlife']  \n",
       "7  ['Vietnamese', 'Restaurants', 'Chinese', 'Kore...  \n",
       "8  ['Food', 'Burgers', 'Caterers', 'Soul Food', '...  \n",
       "9  ['Active Life', 'Hotels & Travel', 'Casinos', ...  "
      ]
     },
     "execution_count": 98,
     "metadata": {},
     "output_type": "execute_result"
    }
   ],
   "source": [
    "tmp_rec_list.iloc[1:10]"
   ]
  },
  {
   "cell_type": "code",
   "execution_count": 100,
   "metadata": {},
   "outputs": [],
   "source": [
    "from math import radians, cos, sin, asin, sqrt\n",
    "\n",
    "def haversine(lon1, lat1, lon2, lat2):\n",
    "    # deg to rad\n",
    "    lon1, lat1, lon2, lat2 = map(np.radians, [lon1, lat1, lon2, lat2])\n",
    "    dlon = lon2-lon1\n",
    "    dlat = lat2-lat1\n",
    "    a = np.sin(dlat/2)**2 + np.cos(lat1)*np.cos(lat2)*np.sin(dlon/2)**2\n",
    "    c = 2*np.arcsin(np.sqrt(a))\n",
    "    r = 6371 # km\n",
    "    return c*r"
   ]
  },
  {
   "cell_type": "code",
   "execution_count": 101,
   "metadata": {},
   "outputs": [
    {
     "data": {
      "text/plain": [
       "0         ujmEBvifdJM6h6RLv4wQIg\n",
       "1         ujmEBvifdJM6h6RLv4wQIg\n",
       "2         ujmEBvifdJM6h6RLv4wQIg\n",
       "3         ujmEBvifdJM6h6RLv4wQIg\n",
       "4         ujmEBvifdJM6h6RLv4wQIg\n",
       "                   ...          \n",
       "891482    lPgE2MIteQVzs39bwfmS6Q\n",
       "891483    lPgE2MIteQVzs39bwfmS6Q\n",
       "891484    slA2sb0Ikn76QzBLKYfiRw\n",
       "891485    slA2sb0Ikn76QzBLKYfiRw\n",
       "891486    slA2sb0Ikn76QzBLKYfiRw\n",
       "Name: business_id, Length: 891487, dtype: object"
      ]
     },
     "execution_count": 101,
     "metadata": {},
     "output_type": "execute_result"
    }
   ],
   "source": [
    "df_review['business_id']"
   ]
  },
  {
   "cell_type": "code",
   "execution_count": 102,
   "metadata": {},
   "outputs": [
    {
     "data": {
      "text/html": [
       "<div>\n",
       "<style scoped>\n",
       "    .dataframe tbody tr th:only-of-type {\n",
       "        vertical-align: middle;\n",
       "    }\n",
       "\n",
       "    .dataframe tbody tr th {\n",
       "        vertical-align: top;\n",
       "    }\n",
       "\n",
       "    .dataframe thead th {\n",
       "        text-align: right;\n",
       "    }\n",
       "</style>\n",
       "<table border=\"1\" class=\"dataframe\">\n",
       "  <thead>\n",
       "    <tr style=\"text-align: right;\">\n",
       "      <th></th>\n",
       "      <th>user_id</th>\n",
       "      <th>business_id</th>\n",
       "      <th>latitude</th>\n",
       "      <th>longitude</th>\n",
       "      <th>categories</th>\n",
       "    </tr>\n",
       "  </thead>\n",
       "  <tbody>\n",
       "  </tbody>\n",
       "</table>\n",
       "</div>"
      ],
      "text/plain": [
       "Empty DataFrame\n",
       "Columns: [user_id, business_id, latitude, longitude, categories]\n",
       "Index: []"
      ]
     },
     "execution_count": 102,
     "metadata": {},
     "output_type": "execute_result"
    }
   ],
   "source": [
    "df_review[(df_review['user_id']=='---1lKK3aKOuomHnwAkAow') \\\n",
    "         & (df_review['business_id']==tmp_rec_list.iloc[0]['business_id'])]"
   ]
  },
  {
   "cell_type": "code",
   "execution_count": 103,
   "metadata": {},
   "outputs": [
    {
     "data": {
      "text/plain": [
       "19158     16.865505\n",
       "37840     15.849784\n",
       "38855     13.381600\n",
       "39074     15.011470\n",
       "51584      7.947663\n",
       "            ...    \n",
       "879428    13.998423\n",
       "879569     2.056108\n",
       "880769    10.813656\n",
       "886249    10.307955\n",
       "888608    13.552017\n",
       "Length: 93, dtype: float64"
      ]
     },
     "execution_count": 103,
     "metadata": {},
     "output_type": "execute_result"
    }
   ],
   "source": [
    "def poi_distance_from_pois(poi,df_poi):\n",
    "    return haversine(poi['latitude'],poi['longitude'],df_poi['latitude'],df_poi['longitude'])\n",
    "poi_distance(tmp_rec_list.iloc[0],df_review[df_review['user_id']=='---1lKK3aKOuomHnwAkAow'])"
   ]
  },
  {
   "cell_type": "code",
   "execution_count": 109,
   "metadata": {},
   "outputs": [
    {
     "data": {
      "text/html": [
       "<div>\n",
       "<style scoped>\n",
       "    .dataframe tbody tr th:only-of-type {\n",
       "        vertical-align: middle;\n",
       "    }\n",
       "\n",
       "    .dataframe tbody tr th {\n",
       "        vertical-align: top;\n",
       "    }\n",
       "\n",
       "    .dataframe thead th {\n",
       "        text-align: right;\n",
       "    }\n",
       "</style>\n",
       "<table border=\"1\" class=\"dataframe\">\n",
       "  <thead>\n",
       "    <tr style=\"text-align: right;\">\n",
       "      <th></th>\n",
       "      <th>user_id</th>\n",
       "      <th>business_id</th>\n",
       "      <th>latitude</th>\n",
       "      <th>longitude</th>\n",
       "      <th>categories</th>\n",
       "    </tr>\n",
       "  </thead>\n",
       "  <tbody>\n",
       "    <tr>\n",
       "      <th>780548</th>\n",
       "      <td>---1lKK3aKOuomHnwAkAow</td>\n",
       "      <td>_cAvID0MXKjD8aveo1Uv0Q</td>\n",
       "      <td>36.131057</td>\n",
       "      <td>-115.173533</td>\n",
       "      <td>['Health &amp; Medical', 'Massage Therapy', 'Chiro...</td>\n",
       "    </tr>\n",
       "  </tbody>\n",
       "</table>\n",
       "</div>"
      ],
      "text/plain": [
       "                       user_id             business_id   latitude   longitude  \\\n",
       "780548  ---1lKK3aKOuomHnwAkAow  _cAvID0MXKjD8aveo1Uv0Q  36.131057 -115.173533   \n",
       "\n",
       "                                               categories  \n",
       "780548  ['Health & Medical', 'Massage Therapy', 'Chiro...  "
      ]
     },
     "execution_count": 109,
     "metadata": {},
     "output_type": "execute_result"
    }
   ],
   "source": [
    "def poi_neighbors(poi,df_poi,distance_km):\n",
    "    return df_poi[poi_distance_from_pois(poi,df_poi)<distance_km]\n",
    "\n",
    "poi_neighbors(tmp_rec_list.iloc[0],df_review[df_review['user_id']=='---1lKK3aKOuomHnwAkAow'],1.9)\n"
   ]
  },
  {
   "cell_type": "code",
   "execution_count": 127,
   "metadata": {},
   "outputs": [
    {
     "name": "stdout",
     "output_type": "stream",
     "text": [
      "2\n",
      "                       user_id             business_id   latitude   longitude  \\\n",
      "501896  ---1lKK3aKOuomHnwAkAow  AxeQEz3-s9_1TyIo-G7UQw  36.153504 -115.151632   \n",
      "517975  ---1lKK3aKOuomHnwAkAow  XJGMgs9Kh4kcgf8Oskiewg  36.154409 -115.151457   \n",
      "666945  ---1lKK3aKOuomHnwAkAow  gJd1jOcl5FdqY020Q19n6Q  36.159147 -115.152728   \n",
      "780548  ---1lKK3aKOuomHnwAkAow  _cAvID0MXKjD8aveo1Uv0Q  36.131057 -115.173533   \n",
      "879569  ---1lKK3aKOuomHnwAkAow  jGv6tpmE7F9CG5qmLHad6A  36.160085 -115.153644   \n",
      "\n",
      "                                               categories  ac_cover_value  \n",
      "501896                ['Barbeque', 'Restaurants', 'Thai']            1.86  \n",
      "517975  ['Art Galleries', 'Shopping', 'Arts & Entertai...            1.86  \n",
      "666945  ['Caterers', 'Restaurants', 'Spanish', 'Breakf...            1.86  \n",
      "780548  ['Health & Medical', 'Massage Therapy', 'Chiro...            1.86  \n",
      "879569          ['Shopping', 'Costumes', 'Arts & Crafts']            1.86  \n"
     ]
    }
   ],
   "source": [
    "\n",
    "\n",
    "def geo_cov(poi,df_visit_log_in_activity_district,num_rec_pois):\n",
    "    df_visit_log_in_activity_district=df_visit_log_in_activity_district.copy()\n",
    "    #df_visit_log_in_activity_district['ac_cover_value']=0\n",
    "    ac_cover_value_not_distributed=0\n",
    "    capacity_per_poi=len(df_visit_log_in_activity_district)/num_rec_pois\n",
    "    neighbors=poi_neighbors(poi,df_visit_log_in_activity_district,2.1).copy()\n",
    "    neighbors['ac_cover_value']=0\n",
    "    if len(neighbors)<1:\n",
    "        print(\"1\")\n",
    "        ac_cover_value_not_distributed=ac_cover_value_not_distributed+capacity_per_poi\n",
    "    else:\n",
    "        print(\"2\")\n",
    "        capacity_per_neighbor=capacity_per_poi/len(neighbors)\n",
    "        neighbors['ac_cover_value']=neighbors['ac_cover_value']+capacity_per_neighbor\n",
    "    \n",
    "geo_cov(tmp_rec_list.iloc[0],df_review[df_review['user_id']=='---1lKK3aKOuomHnwAkAow'],10)"
   ]
  },
  {
   "cell_type": "code",
   "execution_count": 59,
   "metadata": {},
   "outputs": [
    {
     "data": {
      "text/plain": [
       "0.017453292519943295"
      ]
     },
     "execution_count": 59,
     "metadata": {},
     "output_type": "execute_result"
    }
   ],
   "source": []
  }
 ],
 "metadata": {
  "kernelspec": {
   "display_name": "Python 3",
   "language": "python",
   "name": "python3"
  },
  "language_info": {
   "codemirror_mode": {
    "name": "ipython",
    "version": 3
   },
   "file_extension": ".py",
   "mimetype": "text/x-python",
   "name": "python",
   "nbconvert_exporter": "python",
   "pygments_lexer": "ipython3",
   "version": "3.7.4"
  }
 },
 "nbformat": 4,
 "nbformat_minor": 4
}
