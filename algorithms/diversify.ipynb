{
 "cells": [
  {
   "cell_type": "code",
   "execution_count": 1,
   "metadata": {},
   "outputs": [],
   "source": [
    "import numpy as np\n",
    "import pandas as pd\n",
    "import recommenders as rec\n",
    "import networkx as nx\n",
    "import matplotlib.pyplot as plt\n",
    "%matplotlib inline"
   ]
  },
  {
   "cell_type": "code",
   "execution_count": 2,
   "metadata": {},
   "outputs": [],
   "source": [
    "#df_business=pd.read_feather(\"../data/business.feather\")\n",
    "#df_review=pd.read_feather(\"../data/review.feather\",columns=['business_id','user_id'])\n",
    "df_review=pd.read_csv(\"../data/review.csv\",usecols=['business_id','user_id'])"
   ]
  },
  {
   "cell_type": "code",
   "execution_count": 3,
   "metadata": {},
   "outputs": [
    {
     "data": {
      "text/html": [
       "<div>\n",
       "<style scoped>\n",
       "    .dataframe tbody tr th:only-of-type {\n",
       "        vertical-align: middle;\n",
       "    }\n",
       "\n",
       "    .dataframe tbody tr th {\n",
       "        vertical-align: top;\n",
       "    }\n",
       "\n",
       "    .dataframe thead th {\n",
       "        text-align: right;\n",
       "    }\n",
       "</style>\n",
       "<table border=\"1\" class=\"dataframe\">\n",
       "  <thead>\n",
       "    <tr style=\"text-align: right;\">\n",
       "      <th></th>\n",
       "      <th>user_id</th>\n",
       "      <th>business_id</th>\n",
       "    </tr>\n",
       "  </thead>\n",
       "  <tbody>\n",
       "    <tr>\n",
       "      <th>0</th>\n",
       "      <td>hG7b0MtEbXx5QzbzE6C_VA</td>\n",
       "      <td>ujmEBvifdJM6h6RLv4wQIg</td>\n",
       "    </tr>\n",
       "    <tr>\n",
       "      <th>1</th>\n",
       "      <td>yXQM5uF2jS6es16SJzNHfg</td>\n",
       "      <td>NZnhc2sEQy3RmzKTZnqtwQ</td>\n",
       "    </tr>\n",
       "    <tr>\n",
       "      <th>2</th>\n",
       "      <td>n6-Gk65cPZL6Uz8qRm3NYw</td>\n",
       "      <td>WTqjgwHlXbSFevF32_DJVw</td>\n",
       "    </tr>\n",
       "    <tr>\n",
       "      <th>3</th>\n",
       "      <td>dacAIZ6fTM6mqwW5uxkskg</td>\n",
       "      <td>ikCg8xy5JIg_NGPx-MSIDA</td>\n",
       "    </tr>\n",
       "    <tr>\n",
       "      <th>4</th>\n",
       "      <td>ssoyf2_x0EQMed6fgHeMyQ</td>\n",
       "      <td>b1b1eb3uo-w561D0ZfCEiQ</td>\n",
       "    </tr>\n",
       "  </tbody>\n",
       "</table>\n",
       "</div>"
      ],
      "text/plain": [
       "                  user_id             business_id\n",
       "0  hG7b0MtEbXx5QzbzE6C_VA  ujmEBvifdJM6h6RLv4wQIg\n",
       "1  yXQM5uF2jS6es16SJzNHfg  NZnhc2sEQy3RmzKTZnqtwQ\n",
       "2  n6-Gk65cPZL6Uz8qRm3NYw  WTqjgwHlXbSFevF32_DJVw\n",
       "3  dacAIZ6fTM6mqwW5uxkskg  ikCg8xy5JIg_NGPx-MSIDA\n",
       "4  ssoyf2_x0EQMed6fgHeMyQ  b1b1eb3uo-w561D0ZfCEiQ"
      ]
     },
     "execution_count": 3,
     "metadata": {},
     "output_type": "execute_result"
    }
   ],
   "source": [
    "#print(df_business.head())\n",
    "df_review.head()"
   ]
  },
  {
   "cell_type": "code",
   "execution_count": 4,
   "metadata": {},
   "outputs": [
    {
     "data": {
      "text/html": [
       "<div>\n",
       "<style scoped>\n",
       "    .dataframe tbody tr th:only-of-type {\n",
       "        vertical-align: middle;\n",
       "    }\n",
       "\n",
       "    .dataframe tbody tr th {\n",
       "        vertical-align: top;\n",
       "    }\n",
       "\n",
       "    .dataframe thead th {\n",
       "        text-align: right;\n",
       "    }\n",
       "</style>\n",
       "<table border=\"1\" class=\"dataframe\">\n",
       "  <thead>\n",
       "    <tr style=\"text-align: right;\">\n",
       "      <th></th>\n",
       "      <th>business_id</th>\n",
       "      <th>score</th>\n",
       "    </tr>\n",
       "  </thead>\n",
       "  <tbody>\n",
       "    <tr>\n",
       "      <th>0</th>\n",
       "      <td>4JNXUYY8wbaaDmk3BPzlWw</td>\n",
       "      <td>8570</td>\n",
       "    </tr>\n",
       "    <tr>\n",
       "      <th>1</th>\n",
       "      <td>RESDUcs7fIiihp38-d6_6g</td>\n",
       "      <td>8568</td>\n",
       "    </tr>\n",
       "    <tr>\n",
       "      <th>2</th>\n",
       "      <td>K7lWdNUhCbcnEvI0NhGewg</td>\n",
       "      <td>6887</td>\n",
       "    </tr>\n",
       "    <tr>\n",
       "      <th>3</th>\n",
       "      <td>f4x1YBxkLrZg652xt2KR5g</td>\n",
       "      <td>5847</td>\n",
       "    </tr>\n",
       "    <tr>\n",
       "      <th>4</th>\n",
       "      <td>cYwJA2A6I12KNkm2rtXd5g</td>\n",
       "      <td>5575</td>\n",
       "    </tr>\n",
       "    <tr>\n",
       "      <th>5</th>\n",
       "      <td>DkYS3arLOhA8si5uUEmHOw</td>\n",
       "      <td>5206</td>\n",
       "    </tr>\n",
       "    <tr>\n",
       "      <th>6</th>\n",
       "      <td>2weQS-RnoOBhb1KsHKyoSQ</td>\n",
       "      <td>4534</td>\n",
       "    </tr>\n",
       "    <tr>\n",
       "      <th>7</th>\n",
       "      <td>5LNZ67Yw9RD6nf4_UhXOjw</td>\n",
       "      <td>4522</td>\n",
       "    </tr>\n",
       "    <tr>\n",
       "      <th>8</th>\n",
       "      <td>iCQpiavjjPzJ5_3gPD5Ebg</td>\n",
       "      <td>4351</td>\n",
       "    </tr>\n",
       "    <tr>\n",
       "      <th>9</th>\n",
       "      <td>SMPbvZLSMMb7KU76YNYMGg</td>\n",
       "      <td>4350</td>\n",
       "    </tr>\n",
       "  </tbody>\n",
       "</table>\n",
       "</div>"
      ],
      "text/plain": [
       "              business_id  score\n",
       "0  4JNXUYY8wbaaDmk3BPzlWw   8570\n",
       "1  RESDUcs7fIiihp38-d6_6g   8568\n",
       "2  K7lWdNUhCbcnEvI0NhGewg   6887\n",
       "3  f4x1YBxkLrZg652xt2KR5g   5847\n",
       "4  cYwJA2A6I12KNkm2rtXd5g   5575\n",
       "5  DkYS3arLOhA8si5uUEmHOw   5206\n",
       "6  2weQS-RnoOBhb1KsHKyoSQ   4534\n",
       "7  5LNZ67Yw9RD6nf4_UhXOjw   4522\n",
       "8  iCQpiavjjPzJ5_3gPD5Ebg   4351\n",
       "9  SMPbvZLSMMb7KU76YNYMGg   4350"
      ]
     },
     "execution_count": 4,
     "metadata": {},
     "output_type": "execute_result"
    }
   ],
   "source": [
    "rec.mostpopular(df_review,10)"
   ]
  },
  {
   "cell_type": "code",
   "execution_count": 5,
   "metadata": {},
   "outputs": [],
   "source": [
    "df_review=None\n",
    "tmp_rec_list=_"
   ]
  },
  {
   "cell_type": "code",
   "execution_count": 6,
   "metadata": {},
   "outputs": [
    {
     "data": {
      "text/html": [
       "<div>\n",
       "<style scoped>\n",
       "    .dataframe tbody tr th:only-of-type {\n",
       "        vertical-align: middle;\n",
       "    }\n",
       "\n",
       "    .dataframe tbody tr th {\n",
       "        vertical-align: top;\n",
       "    }\n",
       "\n",
       "    .dataframe thead th {\n",
       "        text-align: right;\n",
       "    }\n",
       "</style>\n",
       "<table border=\"1\" class=\"dataframe\">\n",
       "  <thead>\n",
       "    <tr style=\"text-align: right;\">\n",
       "      <th></th>\n",
       "      <th>business_id</th>\n",
       "      <th>score</th>\n",
       "      <th>categories</th>\n",
       "    </tr>\n",
       "  </thead>\n",
       "  <tbody>\n",
       "    <tr>\n",
       "      <th>0</th>\n",
       "      <td>4JNXUYY8wbaaDmk3BPzlWw</td>\n",
       "      <td>8570</td>\n",
       "      <td>['Food', 'French', 'Breakfast &amp; Brunch', 'Rest...</td>\n",
       "    </tr>\n",
       "    <tr>\n",
       "      <th>1</th>\n",
       "      <td>RESDUcs7fIiihp38-d6_6g</td>\n",
       "      <td>8568</td>\n",
       "      <td>['Restaurants', 'Buffets', 'Sandwiches', 'Food...</td>\n",
       "    </tr>\n",
       "    <tr>\n",
       "      <th>2</th>\n",
       "      <td>K7lWdNUhCbcnEvI0NhGewg</td>\n",
       "      <td>6887</td>\n",
       "      <td>['Buffets', 'Breakfast &amp; Brunch', 'Restaurants']</td>\n",
       "    </tr>\n",
       "    <tr>\n",
       "      <th>3</th>\n",
       "      <td>f4x1YBxkLrZg652xt2KR5g</td>\n",
       "      <td>5847</td>\n",
       "      <td>['Breakfast &amp; Brunch', 'Food', 'Restaurants', ...</td>\n",
       "    </tr>\n",
       "    <tr>\n",
       "      <th>4</th>\n",
       "      <td>cYwJA2A6I12KNkm2rtXd5g</td>\n",
       "      <td>5575</td>\n",
       "      <td>['Restaurants', 'Burgers', 'American (Traditio...</td>\n",
       "    </tr>\n",
       "    <tr>\n",
       "      <th>5</th>\n",
       "      <td>DkYS3arLOhA8si5uUEmHOw</td>\n",
       "      <td>5206</td>\n",
       "      <td>['Food Delivery Services', 'Salad', 'Sandwiche...</td>\n",
       "    </tr>\n",
       "    <tr>\n",
       "      <th>6</th>\n",
       "      <td>2weQS-RnoOBhb1KsHKyoSQ</td>\n",
       "      <td>4534</td>\n",
       "      <td>['Beauty &amp; Spas', 'Food', 'Event Planning &amp; Se...</td>\n",
       "    </tr>\n",
       "    <tr>\n",
       "      <th>7</th>\n",
       "      <td>5LNZ67Yw9RD6nf4_UhXOjw</td>\n",
       "      <td>4522</td>\n",
       "      <td>['Casinos', 'Hotels', 'Event Planning &amp; Servic...</td>\n",
       "    </tr>\n",
       "    <tr>\n",
       "      <th>8</th>\n",
       "      <td>iCQpiavjjPzJ5_3gPD5Ebg</td>\n",
       "      <td>4351</td>\n",
       "      <td>['Pizza', 'Restaurants']</td>\n",
       "    </tr>\n",
       "    <tr>\n",
       "      <th>9</th>\n",
       "      <td>SMPbvZLSMMb7KU76YNYMGg</td>\n",
       "      <td>4350</td>\n",
       "      <td>['Hotels &amp; Travel', 'Arts &amp; Entertainment', 'H...</td>\n",
       "    </tr>\n",
       "  </tbody>\n",
       "</table>\n",
       "</div>"
      ],
      "text/plain": [
       "              business_id  score  \\\n",
       "0  4JNXUYY8wbaaDmk3BPzlWw   8570   \n",
       "1  RESDUcs7fIiihp38-d6_6g   8568   \n",
       "2  K7lWdNUhCbcnEvI0NhGewg   6887   \n",
       "3  f4x1YBxkLrZg652xt2KR5g   5847   \n",
       "4  cYwJA2A6I12KNkm2rtXd5g   5575   \n",
       "5  DkYS3arLOhA8si5uUEmHOw   5206   \n",
       "6  2weQS-RnoOBhb1KsHKyoSQ   4534   \n",
       "7  5LNZ67Yw9RD6nf4_UhXOjw   4522   \n",
       "8  iCQpiavjjPzJ5_3gPD5Ebg   4351   \n",
       "9  SMPbvZLSMMb7KU76YNYMGg   4350   \n",
       "\n",
       "                                          categories  \n",
       "0  ['Food', 'French', 'Breakfast & Brunch', 'Rest...  \n",
       "1  ['Restaurants', 'Buffets', 'Sandwiches', 'Food...  \n",
       "2   ['Buffets', 'Breakfast & Brunch', 'Restaurants']  \n",
       "3  ['Breakfast & Brunch', 'Food', 'Restaurants', ...  \n",
       "4  ['Restaurants', 'Burgers', 'American (Traditio...  \n",
       "5  ['Food Delivery Services', 'Salad', 'Sandwiche...  \n",
       "6  ['Beauty & Spas', 'Food', 'Event Planning & Se...  \n",
       "7  ['Casinos', 'Hotels', 'Event Planning & Servic...  \n",
       "8                           ['Pizza', 'Restaurants']  \n",
       "9  ['Hotels & Travel', 'Arts & Entertainment', 'H...  "
      ]
     },
     "execution_count": 6,
     "metadata": {},
     "output_type": "execute_result"
    }
   ],
   "source": [
    "\n",
    "df_business=pd.read_csv(\"../data/business.csv\",usecols=['business_id','categories'])\n",
    "tmp_rec_list=pd.merge(tmp_rec_list,df_business,left_on='business_id',right_on='business_id').drop_duplicates().reset_index(drop=True)\n",
    "df_business=None\n",
    "tmp_rec_list"
   ]
  },
  {
   "cell_type": "markdown",
   "metadata": {},
   "source": [
    "# Categorias relevantes"
   ]
  },
  {
   "cell_type": "code",
   "execution_count": 7,
   "metadata": {},
   "outputs": [],
   "source": [
    "Lambda = 0.5\n",
    "Beta = 0.5"
   ]
  },
  {
   "cell_type": "code",
   "execution_count": 8,
   "metadata": {},
   "outputs": [],
   "source": [
    "df_categories=pd.read_json(\"../data/categories.json\")\n",
    "\n",
    "# dicionário alias title 2 way\n",
    "dict_alias_title={}\n",
    "for index, row in df_categories.iterrows():\n",
    "    dict_alias_title[row['alias']]=row['title']\n",
    "    dict_alias_title[row['title']]=row['alias']\n",
    "\n",
    "\n",
    "category_tree= nx.DiGraph()\n",
    "for index, row in df_categories.iterrows():\n",
    "    if not row['parents']:\n",
    "        category_tree.add_edge(row['alias'],'root') # root node if no parents\n",
    "    else:\n",
    "        for parent_label in row['parents']:\n",
    "            category_tree.add_edge(row['alias'],parent_label)\n",
    "\n",
    "undirected_category_tree=category_tree.to_undirected()\n",
    "df_categories=None"
   ]
  },
  {
   "cell_type": "code",
   "execution_count": 9,
   "metadata": {},
   "outputs": [
    {
     "data": {
      "text/plain": [
       "4"
      ]
     },
     "execution_count": 9,
     "metadata": {},
     "output_type": "execute_result"
    }
   ],
   "source": [
    "nx.shortest_path_length(undirected_category_tree,'aircraftdealers','airsoft')"
   ]
  },
  {
   "cell_type": "code",
   "execution_count": 15,
   "metadata": {},
   "outputs": [],
   "source": [
    "# lista temporária e lista final\n",
    "# rec_list=pd.DataFrame(columns=['business_id','score'])\n",
    "\n",
    "# k=len(tmp_rec_list) ## size of rec list\n",
    "# for i in range(k):\n",
    "#     print(i)\n",
    "#     for index,row in tmp_rec_list.iterrows():\n",
    "#         business_id=row['business_id']\n",
    "#         score=row['score']\n",
    "#         print(index,business_id,score)\n"
   ]
  },
  {
   "cell_type": "code",
   "execution_count": 10,
   "metadata": {},
   "outputs": [
    {
     "data": {
      "text/plain": [
       "['Food', 'French', 'Breakfast & Brunch', 'Restaurants', 'Steakhouses']"
      ]
     },
     "execution_count": 10,
     "metadata": {},
     "output_type": "execute_result"
    }
   ],
   "source": [
    "eval(tmp_rec_list.iloc[0]['categories'])"
   ]
  },
  {
   "cell_type": "code",
   "execution_count": 25,
   "metadata": {},
   "outputs": [
    {
     "data": {
      "text/plain": [
       "0.0"
      ]
     },
     "execution_count": 25,
     "metadata": {},
     "output_type": "execute_result"
    }
   ],
   "source": [
    "\n",
    "        \n",
    "def category_dis_sim(category1,category2):\n",
    "    dissim=0.0\n",
    "    spd=nx.shortest_path_length(undirected_category_tree,category1,category2)\n",
    "    sim = 1.0 / (1.0 + spd)\n",
    "    dissim=1.0-sim\n",
    "    return dissim\n",
    "    \n",
    "\n",
    "def min_dist_to_list_cat(business,rec_list):\n",
    "    min_dissim=1.0\n",
    "    rec_list_size=len(rec_list)\n",
    "    if rec_list_size==0:\n",
    "        min_dissim=1.0\n",
    "    else:\n",
    "        for index,row in rec_list.iterrows():\n",
    "            local_min_distance=1\n",
    "            cur_distance=0\n",
    "            for category1 in eval(business['categories']):\n",
    "                for category2 in eval(row['categories']):\n",
    "                    cur_distance=category_dis_sim(\n",
    "                        dict_alias_title[category1],\n",
    "                        dict_alias_title[category2])\n",
    "                    #print(category1,category2,cur_distance,local_min_distance)\n",
    "                    local_min_distance=min(local_min_distance,cur_distance)\n",
    "            min_dissim=min(min_dissim,local_min_distance)\n",
    "    return min_dissim\n",
    "        \n",
    "def objective_ild(business,rec_list):\n",
    "    # /*(1-_cfg._divWeight) * relevance + */_cfg._divWeight * diversity; where _cfg._divWeight = 0.9\n",
    "    ret_val= 0.0\n",
    "    diversity=0.0\n",
    "    div_weight=0.9\n",
    "    diversity=min_dist_to_list_cat(business,rec_list)\n",
    "    ret_val = div_weight*diversity #+ (1-div_weight)*relevance\n",
    "    return ret_val\n",
    "\n",
    "min_dist_to_list_cat(tmp_rec_list.iloc[0],tmp_rec_list.iloc[1:9])"
   ]
  },
  {
   "cell_type": "code",
   "execution_count": null,
   "metadata": {},
   "outputs": [],
   "source": [
    "# for index,row in tmp_rec_list.iterrows():\n",
    "#     business_id=row['business_id']\n",
    "#     score=row['score']\n",
    "#     print(index,business_id,score)"
   ]
  },
  {
   "cell_type": "code",
   "execution_count": 24,
   "metadata": {},
   "outputs": [
    {
     "data": {
      "text/plain": [
       "\"['Food', 'French', 'Breakfast & Brunch', 'Restaurants', 'Steakhouses']['Restaurants', 'Buffets', 'Sandwiches', 'Food', 'Breakfast & Brunch']\""
      ]
     },
     "execution_count": 24,
     "metadata": {},
     "output_type": "execute_result"
    }
   ],
   "source": [
    "tmp_rec_list.iloc[0]['categories']+ tmp_rec_list.iloc[1]['categories']"
   ]
  }
 ],
 "metadata": {
  "kernelspec": {
   "display_name": "Python 3",
   "language": "python",
   "name": "python3"
  },
  "language_info": {
   "codemirror_mode": {
    "name": "ipython",
    "version": 3
   },
   "file_extension": ".py",
   "mimetype": "text/x-python",
   "name": "python",
   "nbconvert_exporter": "python",
   "pygments_lexer": "ipython3",
   "version": "3.7.4"
  }
 },
 "nbformat": 4,
 "nbformat_minor": 4
}
