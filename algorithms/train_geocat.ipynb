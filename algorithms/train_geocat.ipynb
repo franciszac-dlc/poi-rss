{
 "cells": [
  {
   "cell_type": "code",
   "execution_count": 3,
   "metadata": {},
   "outputs": [],
   "source": [
    "import sys\n",
    "import numpy as np\n",
    "import pandas as pd\n",
    "import networkx as nx\n",
    "import matplotlib.pyplot as plt\n",
    "import geocat\n",
    "import geo_utils\n",
    "from constants import geocat_constants\n",
    "def string_to_array(string):\n",
    "    if string == '':\n",
    "        return list()\n",
    "    return eval(string)\n",
    "%matplotlib inline\n",
    "cities=['madison','lasvegas','phoenix','charlotte']\n",
    "cities=['madison']"
   ]
  },
  {
   "cell_type": "markdown",
   "metadata": {},
   "source": [
    "# neighbor of pois"
   ]
  },
  {
   "cell_type": "code",
   "execution_count": 4,
   "metadata": {},
   "outputs": [],
   "source": [
    "for city in cities:\n",
    "    df_poi=pd.read_csv(\"../data/poi/\"+city+\".csv\",converters={'categories':string_to_array})\n",
    "\n",
    "    df_poi_neighbors=pd.DataFrame(columns=['business_id','neighbors'])\n",
    "\n",
    "    i=0\n",
    "\n",
    "    for index,poi in df_poi.iterrows():\n",
    "        \n",
    "        df_other_pois=df_poi[df_poi.business_id!=poi['business_id']]\n",
    "        poi_neighbors=geocat.poi_neighbors(poi,df_other_pois,geocat_constants.get_neighbor_distance())\n",
    "        df_poi_neighbors=df_poi_neighbors.append({'business_id':poi.business_id\n",
    "                                                  ,'neighbors':poi_neighbors['business_id'].values.tolist()},ignore_index=True)\n",
    "        \n",
    "    \n",
    "    df_poi_neighbors.to_csv(\"../data/neighbor/\"+city+\".csv\",index=False)"
   ]
  },
  {
   "cell_type": "code",
   "execution_count": 116,
   "metadata": {},
   "outputs": [
    {
     "data": {
      "text/html": [
       "<div>\n",
       "<style scoped>\n",
       "    .dataframe tbody tr th:only-of-type {\n",
       "        vertical-align: middle;\n",
       "    }\n",
       "\n",
       "    .dataframe tbody tr th {\n",
       "        vertical-align: top;\n",
       "    }\n",
       "\n",
       "    .dataframe thead th {\n",
       "        text-align: right;\n",
       "    }\n",
       "</style>\n",
       "<table border=\"1\" class=\"dataframe\">\n",
       "  <thead>\n",
       "    <tr style=\"text-align: right;\">\n",
       "      <th></th>\n",
       "      <th>latitude</th>\n",
       "      <th>longitude</th>\n",
       "      <th>categories</th>\n",
       "      <th>subarea_id</th>\n",
       "    </tr>\n",
       "    <tr>\n",
       "      <th>business_id</th>\n",
       "      <th></th>\n",
       "      <th></th>\n",
       "      <th></th>\n",
       "      <th></th>\n",
       "    </tr>\n",
       "  </thead>\n",
       "  <tbody>\n",
       "    <tr>\n",
       "      <th>5p5YW_5bMOSuLIQjkJPO3w</th>\n",
       "      <td>43.077209</td>\n",
       "      <td>-89.381527</td>\n",
       "      <td>[Italian, Pizza, American (New)]</td>\n",
       "      <td>2202.0</td>\n",
       "    </tr>\n",
       "    <tr>\n",
       "      <th>ne9Nm8lgK6ZiYkVzrK7-Ig</th>\n",
       "      <td>43.072994</td>\n",
       "      <td>-89.383803</td>\n",
       "      <td>[Real Estate]</td>\n",
       "      <td>2133.0</td>\n",
       "    </tr>\n",
       "  </tbody>\n",
       "</table>\n",
       "</div>"
      ],
      "text/plain": [
       "                         latitude  longitude  \\\n",
       "business_id                                    \n",
       "5p5YW_5bMOSuLIQjkJPO3w  43.077209 -89.381527   \n",
       "ne9Nm8lgK6ZiYkVzrK7-Ig  43.072994 -89.383803   \n",
       "\n",
       "                                              categories  subarea_id  \n",
       "business_id                                                           \n",
       "5p5YW_5bMOSuLIQjkJPO3w  [Italian, Pizza, American (New)]      2202.0  \n",
       "ne9Nm8lgK6ZiYkVzrK7-Ig                     [Real Estate]      2133.0  "
      ]
     },
     "execution_count": 116,
     "metadata": {},
     "output_type": "execute_result"
    }
   ],
   "source": [
    "df_poi=pd.read_csv(\"../data/poi/madison.csv\",converters={'categories':string_to_array})\n",
    "\n",
    "df_poi_neighbors=pd.DataFrame(columns=['business_id','neighbors'])\n",
    "\n",
    "i=0\n",
    "\n",
    "for index,poi in df_poi.iterrows():\n",
    "    if poi['business_id'] == \"RJNAeNA-209sctUO0dmwuA\":\n",
    "        df_other_pois=df_poi[df_poi.business_id!=poi['business_id']]\n",
    "\n",
    "        poi_neighbors=geocat.poi_neighbors(poi,df_other_pois,geocat_constants.get_neighbor_distance())\n",
    "poi=cpoi \n",
    "poi_neighbors.set_index('business_id',inplace=True)\n",
    "poi_neighbors.head(2)"
   ]
  },
  {
   "cell_type": "code",
   "execution_count": 103,
   "metadata": {},
   "outputs": [
    {
     "data": {
      "text/plain": [
       "latitude                                43.075\n",
       "longitude                             -89.3841\n",
       "categories    [Specialty Food, Farmers Market]\n",
       "subarea_id                                2133\n",
       "Name: FEH0i7SnTH81k451ZadKIQ, dtype: object"
      ]
     },
     "execution_count": 103,
     "metadata": {},
     "output_type": "execute_result"
    }
   ],
   "source": [
    "df_poi[df_poi.business_id!=\"RJNAeNA-209sctUO0dmwuA\"][(geo_utils.haversine(poi['latitude'],poi['longitude'],\n",
    "                            df_poi[df_poi.business_id!=\"RJNAeNA-209sctUO0dmwuA\"].latitude,\n",
    "                            df_poi[df_poi.business_id!=\"RJNAeNA-209sctUO0dmwuA\"].longitude) <= 0.5)].set_index(\"business_id\").loc[\"FEH0i7SnTH81k451ZadKIQ\"]"
   ]
  },
  {
   "cell_type": "code",
   "execution_count": 58,
   "metadata": {},
   "outputs": [
    {
     "data": {
      "text/html": [
       "<div>\n",
       "<style scoped>\n",
       "    .dataframe tbody tr th:only-of-type {\n",
       "        vertical-align: middle;\n",
       "    }\n",
       "\n",
       "    .dataframe tbody tr th {\n",
       "        vertical-align: top;\n",
       "    }\n",
       "\n",
       "    .dataframe thead th {\n",
       "        text-align: right;\n",
       "    }\n",
       "</style>\n",
       "<table border=\"1\" class=\"dataframe\">\n",
       "  <thead>\n",
       "    <tr style=\"text-align: right;\">\n",
       "      <th></th>\n",
       "      <th>business_id</th>\n",
       "      <th>latitude</th>\n",
       "      <th>longitude</th>\n",
       "      <th>categories</th>\n",
       "      <th>subarea_id</th>\n",
       "    </tr>\n",
       "  </thead>\n",
       "  <tbody>\n",
       "    <tr>\n",
       "      <th>0</th>\n",
       "      <td>nkoie_y3fbaQGjZqFGqsrg</td>\n",
       "      <td>42.986420</td>\n",
       "      <td>-89.547928</td>\n",
       "      <td>[Auto Glass Services, Windows Installation, Wi...</td>\n",
       "      <td>829.0</td>\n",
       "    </tr>\n",
       "    <tr>\n",
       "      <th>1</th>\n",
       "      <td>3d6ys6yvpF3svKa4HtUnoA</td>\n",
       "      <td>43.054188</td>\n",
       "      <td>-89.390218</td>\n",
       "      <td>[Life Coach]</td>\n",
       "      <td>1854.0</td>\n",
       "    </tr>\n",
       "    <tr>\n",
       "      <th>2</th>\n",
       "      <td>xXdRivb3LjGCl8HiuUa22g</td>\n",
       "      <td>43.073052</td>\n",
       "      <td>-89.401230</td>\n",
       "      <td>[Insurance]</td>\n",
       "      <td>2136.0</td>\n",
       "    </tr>\n",
       "    <tr>\n",
       "      <th>3</th>\n",
       "      <td>wOS6masGoY5JszRAF3goLQ</td>\n",
       "      <td>43.075024</td>\n",
       "      <td>-89.326698</td>\n",
       "      <td>[Antiques, Thrift Stores, Community Service/No...</td>\n",
       "      <td>2123.0</td>\n",
       "    </tr>\n",
       "    <tr>\n",
       "      <th>4</th>\n",
       "      <td>y-1sMhUMubrHWdIW4FaE8w</td>\n",
       "      <td>43.062872</td>\n",
       "      <td>-89.308293</td>\n",
       "      <td>[Fast Food, Sandwiches, Burgers]</td>\n",
       "      <td>1910.0</td>\n",
       "    </tr>\n",
       "  </tbody>\n",
       "</table>\n",
       "</div>"
      ],
      "text/plain": [
       "              business_id   latitude  longitude  \\\n",
       "0  nkoie_y3fbaQGjZqFGqsrg  42.986420 -89.547928   \n",
       "1  3d6ys6yvpF3svKa4HtUnoA  43.054188 -89.390218   \n",
       "2  xXdRivb3LjGCl8HiuUa22g  43.073052 -89.401230   \n",
       "3  wOS6masGoY5JszRAF3goLQ  43.075024 -89.326698   \n",
       "4  y-1sMhUMubrHWdIW4FaE8w  43.062872 -89.308293   \n",
       "\n",
       "                                          categories  subarea_id  \n",
       "0  [Auto Glass Services, Windows Installation, Wi...       829.0  \n",
       "1                                       [Life Coach]      1854.0  \n",
       "2                                        [Insurance]      2136.0  \n",
       "3  [Antiques, Thrift Stores, Community Service/No...      2123.0  \n",
       "4                   [Fast Food, Sandwiches, Burgers]      1910.0  "
      ]
     },
     "execution_count": 58,
     "metadata": {},
     "output_type": "execute_result"
    }
   ],
   "source": [
    "df_poi.head()"
   ]
  },
  {
   "cell_type": "code",
   "execution_count": 120,
   "metadata": {},
   "outputs": [
    {
     "data": {
      "text/html": [
       "<div>\n",
       "<style scoped>\n",
       "    .dataframe tbody tr th:only-of-type {\n",
       "        vertical-align: middle;\n",
       "    }\n",
       "\n",
       "    .dataframe tbody tr th {\n",
       "        vertical-align: top;\n",
       "    }\n",
       "\n",
       "    .dataframe thead th {\n",
       "        text-align: right;\n",
       "    }\n",
       "</style>\n",
       "<table border=\"1\" class=\"dataframe\">\n",
       "  <thead>\n",
       "    <tr style=\"text-align: right;\">\n",
       "      <th></th>\n",
       "      <th>business_id</th>\n",
       "      <th>latitude</th>\n",
       "      <th>longitude</th>\n",
       "      <th>categories</th>\n",
       "      <th>subarea_id</th>\n",
       "    </tr>\n",
       "  </thead>\n",
       "  <tbody>\n",
       "    <tr>\n",
       "      <th>1861</th>\n",
       "      <td>FEH0i7SnTH81k451ZadKIQ</td>\n",
       "      <td>43.074967</td>\n",
       "      <td>-89.384098</td>\n",
       "      <td>[Specialty Food, Farmers Market]</td>\n",
       "      <td>2133.0</td>\n",
       "    </tr>\n",
       "    <tr>\n",
       "      <th>2272</th>\n",
       "      <td>RJNAeNA-209sctUO0dmwuA</td>\n",
       "      <td>43.076186</td>\n",
       "      <td>-89.383757</td>\n",
       "      <td>[German, Bars, American (New), Steakhouses, Sa...</td>\n",
       "      <td>2133.0</td>\n",
       "    </tr>\n",
       "  </tbody>\n",
       "</table>\n",
       "</div>"
      ],
      "text/plain": [
       "                 business_id   latitude  longitude  \\\n",
       "1861  FEH0i7SnTH81k451ZadKIQ  43.074967 -89.384098   \n",
       "2272  RJNAeNA-209sctUO0dmwuA  43.076186 -89.383757   \n",
       "\n",
       "                                             categories  subarea_id  \n",
       "1861                   [Specialty Food, Farmers Market]      2133.0  \n",
       "2272  [German, Bars, American (New), Steakhouses, Sa...      2133.0  "
      ]
     },
     "execution_count": 120,
     "metadata": {},
     "output_type": "execute_result"
    }
   ],
   "source": [
    "df_poi[(df_poi.business_id==\"RJNAeNA-209sctUO0dmwuA\") | (df_poi.business_id==\"FEH0i7SnTH81k451ZadKIQ\")]"
   ]
  },
  {
   "cell_type": "code",
   "execution_count": 59,
   "metadata": {},
   "outputs": [
    {
     "ename": "SyntaxError",
     "evalue": "invalid syntax (<ipython-input-59-cac1ea6ca4f6>, line 5)",
     "output_type": "error",
     "traceback": [
      "\u001b[0;36m  File \u001b[0;32m\"<ipython-input-59-cac1ea6ca4f6>\"\u001b[0;36m, line \u001b[0;32m5\u001b[0m\n\u001b[0;31m    1Os0g2rh6I50ZIXEZSaNkA\u001b[0m\n\u001b[0m                         ^\u001b[0m\n\u001b[0;31mSyntaxError\u001b[0m\u001b[0;31m:\u001b[0m invalid syntax\n"
     ]
    }
   ],
   "source": [
    "k9RUMKASTB6QZ-NkfnN8Fg\n",
    "FEH0i7SnTH81k451ZadKIQ\n",
    "FEH0i7SnTH81k451ZadKIQ\n",
    "FEH0i7SnTH81k451ZadKIQ\n",
    "1Os0g2rh6I50ZIXEZSaNkA\n",
    "bbh8s3xxn5mzYynGayU8wA"
   ]
  },
  {
   "cell_type": "code",
   "execution_count": null,
   "metadata": {},
   "outputs": [],
   "source": [
    "poi_neighbors.loc[\"FEH0i7SnTH81k451ZadKIQ\"]"
   ]
  },
  {
   "cell_type": "code",
   "execution_count": 61,
   "metadata": {},
   "outputs": [
    {
     "data": {
      "text/html": [
       "<div>\n",
       "<style scoped>\n",
       "    .dataframe tbody tr th:only-of-type {\n",
       "        vertical-align: middle;\n",
       "    }\n",
       "\n",
       "    .dataframe tbody tr th {\n",
       "        vertical-align: top;\n",
       "    }\n",
       "\n",
       "    .dataframe thead th {\n",
       "        text-align: right;\n",
       "    }\n",
       "</style>\n",
       "<table border=\"1\" class=\"dataframe\">\n",
       "  <thead>\n",
       "    <tr style=\"text-align: right;\">\n",
       "      <th></th>\n",
       "      <th>business_id</th>\n",
       "      <th>latitude</th>\n",
       "      <th>longitude</th>\n",
       "      <th>categories</th>\n",
       "      <th>subarea_id</th>\n",
       "    </tr>\n",
       "  </thead>\n",
       "  <tbody>\n",
       "    <tr>\n",
       "      <th>0</th>\n",
       "      <td>nkoie_y3fbaQGjZqFGqsrg</td>\n",
       "      <td>42.98642</td>\n",
       "      <td>-89.547928</td>\n",
       "      <td>[Auto Glass Services, Windows Installation, Wi...</td>\n",
       "      <td>829.0</td>\n",
       "    </tr>\n",
       "  </tbody>\n",
       "</table>\n",
       "</div>"
      ],
      "text/plain": [
       "              business_id  latitude  longitude  \\\n",
       "0  nkoie_y3fbaQGjZqFGqsrg  42.98642 -89.547928   \n",
       "\n",
       "                                          categories  subarea_id  \n",
       "0  [Auto Glass Services, Windows Installation, Wi...       829.0  "
      ]
     },
     "execution_count": 61,
     "metadata": {},
     "output_type": "execute_result"
    }
   ],
   "source": [
    "df_poi.head(1)"
   ]
  },
  {
   "cell_type": "code",
   "execution_count": 62,
   "metadata": {},
   "outputs": [],
   "source": [
    "import geo_utils"
   ]
  },
  {
   "cell_type": "code",
   "execution_count": 63,
   "metadata": {},
   "outputs": [
    {
     "data": {
      "text/plain": [
       "111.19492664455873"
      ]
     },
     "execution_count": 63,
     "metadata": {},
     "output_type": "execute_result"
    }
   ],
   "source": [
    "geo_utils.haversine(0,0,0,1)"
   ]
  },
  {
   "cell_type": "code",
   "execution_count": 64,
   "metadata": {},
   "outputs": [],
   "source": [
    "df_poi.set_index('business_id',inplace=True)"
   ]
  },
  {
   "cell_type": "code",
   "execution_count": 65,
   "metadata": {},
   "outputs": [],
   "source": [
    "a=[\"k9RUMKASTB6QZ-NkfnN8Fg\",\n",
    "\"FEH0i7SnTH81k451ZadKIQ\",\n",
    "\"1Os0g2rh6I50ZIXEZSaNkA\",\n",
    "\"bbh8s3xxn5mzYynGayU8wA\"]"
   ]
  },
  {
   "cell_type": "code",
   "execution_count": 66,
   "metadata": {},
   "outputs": [
    {
     "data": {
      "text/plain": [
       "business_id\n",
       "k9RUMKASTB6QZ-NkfnN8Fg    43.076452\n",
       "FEH0i7SnTH81k451ZadKIQ    43.074967\n",
       "1Os0g2rh6I50ZIXEZSaNkA    43.073563\n",
       "bbh8s3xxn5mzYynGayU8wA    43.076819\n",
       "Name: latitude, dtype: float64"
      ]
     },
     "execution_count": 66,
     "metadata": {},
     "output_type": "execute_result"
    }
   ],
   "source": [
    "df_poi.loc[a].latitude"
   ]
  },
  {
   "cell_type": "code",
   "execution_count": 67,
   "metadata": {},
   "outputs": [
    {
     "data": {
      "text/plain": [
       "business_id\n",
       "k9RUMKASTB6QZ-NkfnN8Fg    0.120848\n",
       "FEH0i7SnTH81k451ZadKIQ    0.138423\n",
       "1Os0g2rh6I50ZIXEZSaNkA    0.309926\n",
       "bbh8s3xxn5mzYynGayU8wA    0.072309\n",
       "dtype: float64"
      ]
     },
     "execution_count": 67,
     "metadata": {},
     "output_type": "execute_result"
    }
   ],
   "source": [
    "geo_utils.haversine(df_poi.loc[[\"RJNAeNA-209sctUO0dmwuA\"]].latitude.iloc[0],df_poi.loc[[\"RJNAeNA-209sctUO0dmwuA\"]].longitude.iloc[0],\\\n",
    "                    df_poi.loc[a].latitude,df_poi.loc[a].longitude)"
   ]
  },
  {
   "cell_type": "code",
   "execution_count": null,
   "metadata": {},
   "outputs": [],
   "source": []
  }
 ],
 "metadata": {
  "kernelspec": {
   "display_name": "Python 3",
   "language": "python",
   "name": "python3"
  },
  "language_info": {
   "codemirror_mode": {
    "name": "ipython",
    "version": 3
   },
   "file_extension": ".py",
   "mimetype": "text/x-python",
   "name": "python",
   "nbconvert_exporter": "python",
   "pygments_lexer": "ipython3",
   "version": "3.7.4"
  }
 },
 "nbformat": 4,
 "nbformat_minor": 4
}
