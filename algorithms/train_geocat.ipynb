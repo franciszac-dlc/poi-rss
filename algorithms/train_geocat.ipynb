{
 "cells": [
  {
   "cell_type": "code",
   "execution_count": 1,
   "metadata": {},
   "outputs": [],
   "source": [
    "import sys\n",
    "import numpy as np\n",
    "import pandas as pd\n",
    "import networkx as nx\n",
    "import matplotlib.pyplot as plt\n",
    "import geocat\n",
    "import geo_utils\n",
    "from constants import geocat_constants\n",
    "def string_to_array(string):\n",
    "    if string == '':\n",
    "        return list()\n",
    "    return eval(string)\n",
    "%matplotlib inline\n",
    "cities=['lasvegas','phoenix','charlotte','madison']"
   ]
  },
  {
   "cell_type": "markdown",
   "metadata": {},
   "source": [
    "# neighbor of pois"
   ]
  },
  {
   "cell_type": "code",
   "execution_count": 2,
   "metadata": {},
   "outputs": [],
   "source": [
    "for city in cities:\n",
    "    df_poi=pd.read_csv(\"../data/poi/\"+city+\".csv\",converters={'categories':string_to_array})\n",
    "\n",
    "    df_poi_neighbors=pd.DataFrame(columns=['business_id','neighbors'])\n",
    "\n",
    "    i=0\n",
    "\n",
    "    for index,poi in df_poi.iterrows():\n",
    "        \n",
    "        df_other_pois=df_poi.iloc[index+1:]\n",
    "        poi_neighbors=geocat.poi_neighbors(poi,df_other_pois,geocat_constants.get_neighbor_distance())\n",
    "        df_poi_neighbors=df_poi_neighbors.append({'business_id':poi.business_id\n",
    "                                                  ,'neighbors':poi_neighbors['business_id'].values.tolist()},ignore_index=True)\n",
    "        \n",
    "    \n",
    "    df_poi_neighbors.to_csv(\"../data/neighbor/\"+city+\".csv\",index=False)"
   ]
  }
 ],
 "metadata": {
  "kernelspec": {
   "display_name": "Python 3",
   "language": "python",
   "name": "python3"
  },
  "language_info": {
   "codemirror_mode": {
    "name": "ipython",
    "version": 3
   },
   "file_extension": ".py",
   "mimetype": "text/x-python",
   "name": "python",
   "nbconvert_exporter": "python",
   "pygments_lexer": "ipython3",
   "version": "3.7.4"
  }
 },
 "nbformat": 4,
 "nbformat_minor": 2
}
