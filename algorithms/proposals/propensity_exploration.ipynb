{
 "cells": [
  {
   "cell_type": "code",
   "execution_count": null,
   "metadata": {},
   "outputs": [],
   "source": [
    "import sys\n",
    "sys.path.append('../')"
   ]
  },
  {
   "cell_type": "code",
   "execution_count": null,
   "metadata": {},
   "outputs": [],
   "source": [
    "import importlib\n",
    "from collections import defaultdict\n",
    "import numpy as np\n",
    "import pandas as pd\n",
    "import lib.recommenders as rec\n",
    "import networkx as nx\n",
    "import matplotlib.pyplot as plt\n",
    "import lib.areamanager\n",
    "import math\n",
    "import time\n",
    "from IPython.core.debugger import set_trace\n",
    "import lib.geocat.objfunc as gcobjfunc\n",
    "import lib.cat_utils as cat_utils\n",
    "\n",
    "from lib.constants import experiment_constants\n",
    "import lib.metrics as metrics\n",
    "import pickle\n",
    "%matplotlib inline\n",
    "import scipy.stats\n",
    "from lib.metricscontroller import MetricsController\n",
    "\n",
    "import lib.pgc.pgc as pgc\n",
    "\n",
    "def string_to_array(string):\n",
    "    if string == '':\n",
    "        return list()\n",
    "    return eval(string)\n",
    "importlib.reload(pgc)\n",
    "importlib.reload(lib.metricscontroller)\n",
    "importlib.reload(lib.constants)\n",
    "importlib.reload(rec)\n",
    "importlib.reload(gcobjfunc)\n",
    "importlib.reload(cat_utils)\n",
    "importlib.reload(lib.metricscontroller)\n",
    "N=experiment_constants.N\n",
    "K=experiment_constants.K\n",
    "CITY=experiment_constants.CITY\n",
    "METRICS_K=experiment_constants.METRICS_K"
   ]
  },
  {
   "cell_type": "code",
   "execution_count": null,
   "metadata": {},
   "outputs": [],
   "source": [
    "#Train load\n",
    "data_checkin_train = pickle.load(open(\"../../data/checkin/train/\"+CITY+\".pickle\",\"rb\"))\n",
    "\n",
    "#Test load\n",
    "ground_truth = defaultdict(set)\n",
    "for checkin in pickle.load(open(\"../../data/checkin/test/\"+CITY+\".pickle\",\"rb\")):\n",
    "    ground_truth[checkin['user_id']].add(checkin['poi_id'])\n",
    "#Pois load\n",
    "poi_coos = {}\n",
    "poi_cats = {}\n",
    "for poi_id,poi in pickle.load(open(\"../../data/poi/\"+CITY+\".pickle\",\"rb\")).items():\n",
    "    poi_coos[poi_id] = tuple([poi['latitude'],poi['longitude']])\n",
    "    poi_cats[poi_id] = poi['categories']\n",
    "    \n",
    "#Social relations load\n",
    "social_relations = defaultdict(list)\n",
    "for user_id,friends in pickle.load(open(\"../../data/user/\"+CITY+\".pickle\",\"rb\")).items():\n",
    "    social_relations[user_id]=friends\n",
    "\n",
    "user_num = len(social_relations)\n",
    "poi_num = len(poi_coos)\n",
    "user_num,poi_num\n",
    "\n",
    "# Cat Hierarchy load\n",
    "dict_alias_title,category_tree,dict_alias_depth=cat_utils.cat_structs(\"../../data/categories.json\")\n",
    "undirected_category_tree=category_tree.to_undirected()\n",
    "\n",
    "# Training matrix create\n",
    "training_matrix = np.zeros((user_num, poi_num))\n",
    "for checkin in data_checkin_train:\n",
    "    training_matrix[checkin['user_id'],checkin['poi_id']]+=1\n",
    "\n",
    "# poi neighbors load\n",
    "poi_neighbors=pickle.load(open(\"../../data/neighbor/\"+CITY+\".pickle\",\"rb\"))"
   ]
  },
  {
   "cell_type": "code",
   "execution_count": null,
   "metadata": {},
   "outputs": [],
   "source": [
    "importlib.reload(pgc)\n",
    "users_cmean_dist=pgc.cmedian_dist_users(training_matrix,poi_coos)\n",
    "users_cmean_dist=np.array(users_cmean_dist)\n",
    "city_cmean_dist=pgc.cmedian_dist_pois(poi_coos)\n",
    "\n",
    "geo_div_prop=pgc.geo_div_propensity(users_cmean_dist,city_cmean_dist)\n",
    "user_rank_geo_div_prop=np.argsort(users_cmean_dist)\n",
    "users_cmean_dist=users_cmean_dist[user_rank_geo_div_prop]\n",
    "geo_div_prop=geo_div_prop[user_rank_geo_div_prop]"
   ]
  },
  {
   "cell_type": "code",
   "execution_count": null,
   "metadata": {},
   "outputs": [],
   "source": [
    "#Median\n",
    "\n",
    "uupper=np.ma.masked_where(users_cmean_dist >= city_cmean_dist, users_cmean_dist)\n",
    "ulower=np.ma.masked_where(users_cmean_dist < city_cmean_dist, users_cmean_dist)\n",
    "t=np.arange(0,training_matrix.shape[0],1)\n",
    "plt.plot(t, ulower, t, uupper,t,[city_cmean_dist]*training_matrix.shape[0])\n",
    "\n",
    "plt.annotate('\"Max\" geographical diversification', xy=(1, 1), xytext=(1, city_cmean_dist+0.1))\n",
    "plt.annotate(\"Users below: \"+str(len(ulower[ulower.mask == False]))+\", users above:\"+str(len(uupper[uupper.mask == False])), xy=(0, 0), xytext=(0,0))\n",
    "# plt.plot(np.sort(users_cmean_dist))\n",
    "plt.legend(('Users above upper bound', 'Users below upper bound', 'Upper bound distance'))\n",
    "plt.xlabel(\"User id\")\n",
    "plt.ylabel(\"centroid mean distance\")\n",
    "plt.savefig('cmd_madison.png')\n",
    "plt.show()"
   ]
  },
  {
   "cell_type": "code",
   "execution_count": null,
   "metadata": {},
   "outputs": [],
   "source": [
    "plt.plot(geo_div_prop)\n",
    "plt.xlabel(\"User id\")\n",
    "plt.ylabel(\"Geographical diversification propensity\")\n",
    "plt.title(\"Users geographical diversification propensity\")\n",
    "plt.savefig('gdp_madison.png')\n",
    "plt.show()"
   ]
  },
  {
   "cell_type": "code",
   "execution_count": null,
   "metadata": {
    "scrolled": true
   },
   "outputs": [],
   "source": [
    "%%time\n",
    "importlib.reload(cat_utils)\n",
    "importlib.reload(pgc)\n",
    "uid_cat_visits=cat_utils.get_users_cat_visits(training_matrix,poi_cats)\n",
    "cat_div_prop=np.array(pgc.cat_div_propensity(uid_cat_visits,method='cat_div_ld'))[user_rank_geo_div_prop]"
   ]
  },
  {
   "cell_type": "code",
   "execution_count": null,
   "metadata": {},
   "outputs": [],
   "source": [
    "plt.plot(np.sort(cat_div_prop))\n",
    "plt.xlabel(\"User id\")\n",
    "plt.ylabel(\"Categorical diversification propensity\")\n",
    "plt.title(\"Users categorical diversification propensity\")\n",
    "plt.savefig('cdp_madison.png')\n",
    "plt.show()"
   ]
  },
  {
   "cell_type": "code",
   "execution_count": null,
   "metadata": {},
   "outputs": [],
   "source": [
    "%%time\n",
    "cat_div_prop=np.array(pgc.cat_div_propensity(uid_cat_visits,method='cat_div_ld'))"
   ]
  },
  {
   "cell_type": "code",
   "execution_count": null,
   "metadata": {},
   "outputs": [],
   "source": [
    "uid_cat_visits[uid],uid_cat_visits[uid].values()"
   ]
  },
  {
   "cell_type": "code",
   "execution_count": null,
   "metadata": {},
   "outputs": [],
   "source": [
    "uids=dict()\n",
    "uids['user min']=(np.argmin(cat_div_prop))\n",
    "uids['user median']=(np.argsort(cat_div_prop)[len(cat_div_prop)//2])\n",
    "uids['user max']=(np.argmax(cat_div_prop))\n",
    "for user_type in uids:\n",
    "    uid=uids[user_type]\n",
    "    print(user_type)\n",
    "    visits=list(uid_cat_visits[uid].values())\n",
    "    plt.subplot(1, 2, 1)\n",
    "    plt.plot(visits)\n",
    "    plt.xlabel(\"Category 'id'\")\n",
    "    plt.ylabel(\"Visits\")\n",
    "    print(f\"\"\"std={np.std(visits)}\n",
    "skew={scipy.stats.skew(visits)}\n",
    "kurtosis={scipy.stats.kurtosis(visits)}\n",
    "Frequency hist skew={scipy.stats.skew(np.bincount(visits))}\n",
    "Frequency hist kurtosis={scipy.stats.kurtosis(visits)}\n",
    "different categories visited={len(visits)}\n",
    "\"\"\")\n",
    "    \n",
    "    plt.subplot(1, 2, 2)\n",
    "    plt.hist(visits)\n",
    "    plt.xlabel(\"Visits\")\n",
    "    plt.ylabel(\"Count\")\n",
    "    \n",
    "    plt.show()\n",
    "    \n",
    "# for user_type in uids:\n",
    "#     uid=uids[user_type]\n",
    "#     mu = np.mean(uid_cat_visits[uid])\n",
    "\n",
    "#     sigma = np.std(uid_cat_visits[uid])\n",
    "#     x = np.linspace(mu - 3*sigma, mu + 3*sigma, 100)\n",
    "#     plt.plot(x, scipy.stats.norm.pdf(x, mu, sigma))\n",
    "# plt.legend(list(uids.keys()))\n",
    "# plt.show()\n"
   ]
  },
  {
   "cell_type": "code",
   "execution_count": null,
   "metadata": {},
   "outputs": [],
   "source": [
    "argres=np.argsort(cat_div_prop)\n",
    "uid_cats=np.array(list(map(len,uid_cat_visits)))[argres]\n",
    "\n",
    "\n",
    "plt.plot(uid_cats/np.max(uid_cats))\n",
    "plt.plot(cat_div_prop[argres])\n",
    "plt.annotate('Correlation='+f\"{np.corrcoef(cat_div_prop[argres],uid_cats)[0,1]:.2f}\", xy=(0, 1))\n",
    "plt.legend([\"Number of categories visited\",\"$\\delta$ CatDivProp\"])\n",
    "plt.savefig('cdp_nc_madison.png')\n",
    "plt.show()"
   ]
  },
  {
   "cell_type": "code",
   "execution_count": null,
   "metadata": {},
   "outputs": [],
   "source": [
    "plt.plot(t,geo_div_prop,t,cat_div_prop)\n",
    "plt.legend((\"Geographical diversification\",\"Categorical diversification\"))\n",
    "plt.xlabel(\"User id\")\n",
    "plt.ylabel(\"Diversification propensity\")\n",
    "plt.title(\"Users cat and geo diversification propensity\")\n",
    "plt.savefig('gcdp_madison.png')\n",
    "plt.show()"
   ]
  },
  {
   "cell_type": "markdown",
   "metadata": {},
   "source": [
    "$div_{geo-cat}(i,R)=\\beta\\cdot div_{geo}(i,R)+(1-\\beta)\\cdot div_{cat}(i,R)$\n",
    "\n",
    "$div_{geo-cat}(i,R)=\\frac{\\gamma}{\\gamma+\\delta}\\cdot div_{geo}(i,R)+(1-\\frac{\\gamma}{\\gamma+\\delta})\\cdot div_{cat}(i,R)$\n",
    "\n",
    "$div_{geo-cat}(i,R)=\\frac{\\gamma}{\\gamma+\\delta}\\cdot div_{geo}(i,R)+\\frac{\\delta}{\\gamma+\\delta}\\cdot div_{cat}(i,R)$\n",
    "\n",
    "$\\gamma+\\delta = 0 \\implies \\gamma=0 \\land \\delta=0$\n",
    "\n",
    "$Visit: U\\times L \\implies \\{0,1\\}$\n",
    "\n",
    "$u\\in U$\n",
    "\n",
    "$Lat = Latitude$\n",
    "\n",
    "$Lon = Longitude$\n",
    "\n",
    "$CLat_u=\\frac{\\sum_{i=0}^{|L|-1} Visit(u,L_i)\\cdot Lat(L_i)}\n",
    "{\\sum_{i=0}^{|L|-1}Visit(u,L_i)}$\n",
    "\n",
    "$CLon_u=\\frac{\\sum_{i=0}^{|L|-1} Visit(u,L_i)\\cdot Lon(L_i)}\n",
    "{\\sum_{i=0}^{|L|-1}Visit(u,L_i)}$\n",
    "\n",
    "$Centroid=C_u=(CLat_u,CLon_u)$\n",
    "\n",
    "$Dist: (\\mathbb{R},\\mathbb{R}) \\implies \\mathbb{R} = $ Geographical distance\n",
    "\n",
    "$D \\in \\mathbb{R}$\n",
    "\n",
    "$D_u=\\frac{\\sum_{i=0}^{|L|-1} Visit(u,L_i)\\cdot Dist(C_u,(Lat(L_i),Lon(L_i)))}\n",
    "{\\sum_{i=0}^{|L|-1}Visit(u,L_i)}$\n",
    "\n",
    "\n",
    "$GeoDivProp=\\gamma_u=\\frac{D_u}{{\\sum_{i=0}^{|L|-1} Dist(C_u,(Lat(L_i),Lon(L_i)))}}$\n",
    "\n",
    "$CatDivProp=\\delta_u=\\frac{2\\cdot s}{max(d)-min(d)}$\n",
    "\n",
    "$s^2_u = 0 \\implies \\delta_u=0$"
   ]
  },
  {
   "cell_type": "code",
   "execution_count": null,
   "metadata": {},
   "outputs": [],
   "source": [
    "# plt.plot(geo_div_prop/(geo_div_prop+cat_div_prop))\n",
    "plt.xlabel(\"User id\")\n",
    "plt.ylabel(\"Value of $\\\\beta$\")\n",
    "plt.title(\"Value of $\\\\beta$ in the original formula $div_{geo-cat}(i,R)=\\\\beta\\cdot div_{geo}(i,R)+(1-\\\\beta)\\cdot div_{cat}(i,R)$\")\n",
    "\n",
    "plt.text(training_matrix.shape[0]/2,0.5,\"median $\\\\beta$=\"+str(np.median(geo_div_prop/(geo_div_prop+cat_div_prop))))\n",
    "plt.savefig('beta_madison.png')\n",
    "plt.show()"
   ]
  }
 ],
 "metadata": {
  "kernelspec": {
   "display_name": "Python 3",
   "language": "python",
   "name": "python3"
  },
  "language_info": {
   "codemirror_mode": {
    "name": "ipython",
    "version": 3
   },
   "file_extension": ".py",
   "mimetype": "text/x-python",
   "name": "python",
   "nbconvert_exporter": "python",
   "pygments_lexer": "ipython3",
   "version": "3.8.0"
  }
 },
 "nbformat": 4,
 "nbformat_minor": 2
}
