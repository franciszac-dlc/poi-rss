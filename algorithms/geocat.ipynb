{
 "cells": [
  {
   "cell_type": "markdown",
   "metadata": {},
   "source": [
    "- [x] não usar categorias abaixo do nível 2. primeira alternativa) remover as categorias do dataframe; segunda alternativa) fazer checagem se a categoria esta acima do nivel 3 ou não e assim realizar o cálculo da distância.\n",
    "- [x] retVal = Math.pow(rel, (1.0 - _cfg._divWeight)) * Math.pow(div, _cfg._divWeight); Ta certo, esta errado no artigo\n",
    "- [ ] calculo do pr errado?? passando pelos vizinhos nao pelos log vizinhos????\n",
    "- [x] score range? $score \\in [0,1]?$"
   ]
  },
  {
   "cell_type": "code",
   "execution_count": 1,
   "metadata": {},
   "outputs": [],
   "source": [
    "import numpy as np\n",
    "import pandas as pd\n",
    "import recommenders as rec\n",
    "import networkx as nx\n",
    "import matplotlib.pyplot as plt\n",
    "import areamanager\n",
    "import math\n",
    "\n",
    "%matplotlib inline"
   ]
  },
  {
   "cell_type": "markdown",
   "metadata": {},
   "source": [
    "# Category tree"
   ]
  },
  {
   "cell_type": "code",
   "execution_count": 2,
   "metadata": {},
   "outputs": [],
   "source": [
    "df_categories=pd.read_json(\"../data/categories.json\")\n",
    "\n",
    "# dicionário alias title 2 way\n",
    "dict_alias_title=dict()\n",
    "for index, row in df_categories.iterrows():\n",
    "    dict_alias_title[row['alias']]=row['title']\n",
    "    dict_alias_title[row['title']]=row['alias']\n",
    "\n",
    "\n",
    "category_tree= nx.DiGraph()\n",
    "for index, row in df_categories.iterrows():\n",
    "    if not row['parents']:\n",
    "        category_tree.add_edge(row['alias'],'root') # root node if no parents\n",
    "    else:\n",
    "        for parent_label in row['parents']:\n",
    "            category_tree.add_edge(row['alias'],parent_label)\n",
    "\n",
    "undirected_category_tree=category_tree.to_undirected()\n",
    "# dict alias depth\n",
    "dict_alias_depth=dict()\n",
    "for index, row in df_categories.iterrows():\n",
    "    dict_alias_depth[row['alias']]=nx.shortest_path_length(category_tree,row['alias'],'root')\n",
    "\n",
    "df_categories=None"
   ]
  },
  {
   "cell_type": "markdown",
   "metadata": {},
   "source": [
    "# Load check-ins/reviews and treat the dataset"
   ]
  },
  {
   "cell_type": "code",
   "execution_count": 3,
   "metadata": {},
   "outputs": [
    {
     "name": "stdout",
     "output_type": "stream",
     "text": [
      "Area selected: Las Vegas\n"
     ]
    },
    {
     "data": {
      "text/html": [
       "<div>\n",
       "<style scoped>\n",
       "    .dataframe tbody tr th:only-of-type {\n",
       "        vertical-align: middle;\n",
       "    }\n",
       "\n",
       "    .dataframe tbody tr th {\n",
       "        vertical-align: top;\n",
       "    }\n",
       "\n",
       "    .dataframe thead th {\n",
       "        text-align: right;\n",
       "    }\n",
       "</style>\n",
       "<table border=\"1\" class=\"dataframe\">\n",
       "  <thead>\n",
       "    <tr style=\"text-align: right;\">\n",
       "      <th></th>\n",
       "      <th>user_id</th>\n",
       "      <th>business_id</th>\n",
       "      <th>date</th>\n",
       "      <th>latitude</th>\n",
       "      <th>longitude</th>\n",
       "      <th>categories</th>\n",
       "    </tr>\n",
       "  </thead>\n",
       "  <tbody>\n",
       "    <tr>\n",
       "      <th>0</th>\n",
       "      <td>hG7b0MtEbXx5QzbzE6C_VA</td>\n",
       "      <td>ujmEBvifdJM6h6RLv4wQIg</td>\n",
       "      <td>2013-05-07 04:34:36</td>\n",
       "      <td>36.215546</td>\n",
       "      <td>-115.248798</td>\n",
       "      <td>[Fitness &amp; Instruction, Doctors, Gyms, Emergen...</td>\n",
       "    </tr>\n",
       "    <tr>\n",
       "      <th>1</th>\n",
       "      <td>RBXSJA372ilErzNwz0jXvQ</td>\n",
       "      <td>ujmEBvifdJM6h6RLv4wQIg</td>\n",
       "      <td>2017-02-09 06:45:18</td>\n",
       "      <td>36.215546</td>\n",
       "      <td>-115.248798</td>\n",
       "      <td>[Fitness &amp; Instruction, Doctors, Gyms, Emergen...</td>\n",
       "    </tr>\n",
       "    <tr>\n",
       "      <th>2</th>\n",
       "      <td>x3brMMbJrAW9PwW5A6YL5w</td>\n",
       "      <td>ujmEBvifdJM6h6RLv4wQIg</td>\n",
       "      <td>2018-08-14 05:25:33</td>\n",
       "      <td>36.215546</td>\n",
       "      <td>-115.248798</td>\n",
       "      <td>[Fitness &amp; Instruction, Doctors, Gyms, Emergen...</td>\n",
       "    </tr>\n",
       "    <tr>\n",
       "      <th>3</th>\n",
       "      <td>Skzdl0sWhW88525a1vr59g</td>\n",
       "      <td>ujmEBvifdJM6h6RLv4wQIg</td>\n",
       "      <td>2018-05-08 19:27:59</td>\n",
       "      <td>36.215546</td>\n",
       "      <td>-115.248798</td>\n",
       "      <td>[Fitness &amp; Instruction, Doctors, Gyms, Emergen...</td>\n",
       "    </tr>\n",
       "    <tr>\n",
       "      <th>4</th>\n",
       "      <td>3Y25VDfnQVcuc33T-U3Z6A</td>\n",
       "      <td>ujmEBvifdJM6h6RLv4wQIg</td>\n",
       "      <td>2014-10-11 06:57:18</td>\n",
       "      <td>36.215546</td>\n",
       "      <td>-115.248798</td>\n",
       "      <td>[Fitness &amp; Instruction, Doctors, Gyms, Emergen...</td>\n",
       "    </tr>\n",
       "  </tbody>\n",
       "</table>\n",
       "</div>"
      ],
      "text/plain": [
       "                  user_id             business_id                date  \\\n",
       "0  hG7b0MtEbXx5QzbzE6C_VA  ujmEBvifdJM6h6RLv4wQIg 2013-05-07 04:34:36   \n",
       "1  RBXSJA372ilErzNwz0jXvQ  ujmEBvifdJM6h6RLv4wQIg 2017-02-09 06:45:18   \n",
       "2  x3brMMbJrAW9PwW5A6YL5w  ujmEBvifdJM6h6RLv4wQIg 2018-08-14 05:25:33   \n",
       "3  Skzdl0sWhW88525a1vr59g  ujmEBvifdJM6h6RLv4wQIg 2018-05-08 19:27:59   \n",
       "4  3Y25VDfnQVcuc33T-U3Z6A  ujmEBvifdJM6h6RLv4wQIg 2014-10-11 06:57:18   \n",
       "\n",
       "    latitude   longitude                                         categories  \n",
       "0  36.215546 -115.248798  [Fitness & Instruction, Doctors, Gyms, Emergen...  \n",
       "1  36.215546 -115.248798  [Fitness & Instruction, Doctors, Gyms, Emergen...  \n",
       "2  36.215546 -115.248798  [Fitness & Instruction, Doctors, Gyms, Emergen...  \n",
       "3  36.215546 -115.248798  [Fitness & Instruction, Doctors, Gyms, Emergen...  \n",
       "4  36.215546 -115.248798  [Fitness & Instruction, Doctors, Gyms, Emergen...  "
      ]
     },
     "execution_count": 3,
     "metadata": {},
     "output_type": "execute_result"
    }
   ],
   "source": [
    "las_vegas_area=areamanager.delimiter_area('lasvegas')\n",
    "def string_to_array(string):\n",
    "    if string == '':\n",
    "        return list()\n",
    "    return eval(string)\n",
    "def category_filter(categories):\n",
    "    tmp_cat_list=list()\n",
    "    for category in categories:\n",
    "        try:\n",
    "            if dict_alias_depth[dict_alias_title[category]] >= 2:\n",
    "                tmp_cat_list.append(category)\n",
    "        except:\n",
    "            pass\n",
    "#             print(\"Error: Category \\\"\"+category+\"\\\" without alias name.\")\n",
    "    return tmp_cat_list\n",
    "\n",
    "\n",
    "# read business and do some filterings\n",
    "df_business=pd.read_csv(\"../data/business.csv\",usecols=['business_id','latitude','longitude','categories'],converters={'categories':string_to_array})\n",
    "df_business=areamanager.pois_in_area(las_vegas_area,df_business)\n",
    "df_business.categories=df_business.categories.apply(category_filter)\n",
    "# read review and merge with business\n",
    "df_review=pd.read_csv(\"../data/review.csv\",usecols=['business_id','user_id','date'])\n",
    "df_review=pd.merge(df_review,df_business,on='business_id')\n",
    "df_review['date']=pd.to_datetime(df_review['date'])\n",
    "df_review.head()"
   ]
  },
  {
   "cell_type": "markdown",
   "metadata": {},
   "source": [
    "Filtragem dos POIs que foram visitados por cinco ou mais usuários"
   ]
  },
  {
   "cell_type": "code",
   "execution_count": 4,
   "metadata": {},
   "outputs": [
    {
     "data": {
      "text/plain": [
       "user_id        878996\n",
       "business_id    878996\n",
       "date           878996\n",
       "latitude       878996\n",
       "longitude      878996\n",
       "categories     878996\n",
       "dtype: int64"
      ]
     },
     "execution_count": 4,
     "metadata": {},
     "output_type": "execute_result"
    }
   ],
   "source": [
    "df_diff_users_visited=df_review[['user_id','business_id']].drop_duplicates().reset_index(drop=True).\\\n",
    "groupby('business_id').count().reset_index().rename(columns={\"user_id\":\"diffusersvisited\"})\n",
    "\n",
    "df_diff_users_visited=df_diff_users_visited[df_diff_users_visited['diffusersvisited']>=5]\n",
    "del df_diff_users_visited['diffusersvisited']\n",
    "df_review=pd.merge(df_review,df_diff_users_visited,on='business_id',how='inner')\n",
    "df_review.count()"
   ]
  },
  {
   "cell_type": "markdown",
   "metadata": {},
   "source": [
    "Filtragem dos usuários que realizaram vinte ou mais check-ins"
   ]
  },
  {
   "cell_type": "code",
   "execution_count": 5,
   "metadata": {},
   "outputs": [
    {
     "data": {
      "text/plain": [
       "user_id        194427\n",
       "business_id    194427\n",
       "date           194427\n",
       "latitude       194427\n",
       "longitude      194427\n",
       "categories     194427\n",
       "dtype: int64"
      ]
     },
     "execution_count": 5,
     "metadata": {},
     "output_type": "execute_result"
    }
   ],
   "source": [
    "df_review['Count']=df_review.groupby(['user_id'])['user_id'].transform('count')\n",
    "df_review=df_review[df_review['Count']>=20]\n",
    "del df_review['Count']\n",
    "df_review.count()"
   ]
  },
  {
   "cell_type": "markdown",
   "metadata": {},
   "source": [
    "## Add subarea information to poi"
   ]
  },
  {
   "cell_type": "code",
   "execution_count": 6,
   "metadata": {},
   "outputs": [
    {
     "data": {
      "text/html": [
       "<div>\n",
       "<style scoped>\n",
       "    .dataframe tbody tr th:only-of-type {\n",
       "        vertical-align: middle;\n",
       "    }\n",
       "\n",
       "    .dataframe tbody tr th {\n",
       "        vertical-align: top;\n",
       "    }\n",
       "\n",
       "    .dataframe thead th {\n",
       "        text-align: right;\n",
       "    }\n",
       "</style>\n",
       "<table border=\"1\" class=\"dataframe\">\n",
       "  <thead>\n",
       "    <tr style=\"text-align: right;\">\n",
       "      <th></th>\n",
       "      <th>user_id</th>\n",
       "      <th>business_id</th>\n",
       "      <th>date</th>\n",
       "      <th>latitude</th>\n",
       "      <th>longitude</th>\n",
       "      <th>categories</th>\n",
       "      <th>subarea_id</th>\n",
       "    </tr>\n",
       "  </thead>\n",
       "  <tbody>\n",
       "    <tr>\n",
       "      <th>9</th>\n",
       "      <td>46TNf-5T5EcNFRJPYv_nrw</td>\n",
       "      <td>ujmEBvifdJM6h6RLv4wQIg</td>\n",
       "      <td>2015-08-19 16:39:53</td>\n",
       "      <td>36.215546</td>\n",
       "      <td>-115.248798</td>\n",
       "      <td>[Fitness &amp; Instruction, Doctors, Gyms, Emergen...</td>\n",
       "      <td>1415.0</td>\n",
       "    </tr>\n",
       "    <tr>\n",
       "      <th>10</th>\n",
       "      <td>56iEnLi8jR--2ranjPSQ4w</td>\n",
       "      <td>ujmEBvifdJM6h6RLv4wQIg</td>\n",
       "      <td>2013-08-04 10:55:04</td>\n",
       "      <td>36.215546</td>\n",
       "      <td>-115.248798</td>\n",
       "      <td>[Fitness &amp; Instruction, Doctors, Gyms, Emergen...</td>\n",
       "      <td>1415.0</td>\n",
       "    </tr>\n",
       "    <tr>\n",
       "      <th>14</th>\n",
       "      <td>UDKqdVT0FrpL19shSOqgow</td>\n",
       "      <td>ujmEBvifdJM6h6RLv4wQIg</td>\n",
       "      <td>2017-03-15 23:27:38</td>\n",
       "      <td>36.215546</td>\n",
       "      <td>-115.248798</td>\n",
       "      <td>[Fitness &amp; Instruction, Doctors, Gyms, Emergen...</td>\n",
       "      <td>1415.0</td>\n",
       "    </tr>\n",
       "    <tr>\n",
       "      <th>20</th>\n",
       "      <td>Nw6Jza_cb0aqd4PT769Vzw</td>\n",
       "      <td>ujmEBvifdJM6h6RLv4wQIg</td>\n",
       "      <td>2013-01-04 22:04:02</td>\n",
       "      <td>36.215546</td>\n",
       "      <td>-115.248798</td>\n",
       "      <td>[Fitness &amp; Instruction, Doctors, Gyms, Emergen...</td>\n",
       "      <td>1415.0</td>\n",
       "    </tr>\n",
       "    <tr>\n",
       "      <th>26</th>\n",
       "      <td>3b5EsiTkqgdbxPXz7LfBpA</td>\n",
       "      <td>ujmEBvifdJM6h6RLv4wQIg</td>\n",
       "      <td>2014-08-11 23:57:54</td>\n",
       "      <td>36.215546</td>\n",
       "      <td>-115.248798</td>\n",
       "      <td>[Fitness &amp; Instruction, Doctors, Gyms, Emergen...</td>\n",
       "      <td>1415.0</td>\n",
       "    </tr>\n",
       "  </tbody>\n",
       "</table>\n",
       "</div>"
      ],
      "text/plain": [
       "                   user_id             business_id                date  \\\n",
       "9   46TNf-5T5EcNFRJPYv_nrw  ujmEBvifdJM6h6RLv4wQIg 2015-08-19 16:39:53   \n",
       "10  56iEnLi8jR--2ranjPSQ4w  ujmEBvifdJM6h6RLv4wQIg 2013-08-04 10:55:04   \n",
       "14  UDKqdVT0FrpL19shSOqgow  ujmEBvifdJM6h6RLv4wQIg 2017-03-15 23:27:38   \n",
       "20  Nw6Jza_cb0aqd4PT769Vzw  ujmEBvifdJM6h6RLv4wQIg 2013-01-04 22:04:02   \n",
       "26  3b5EsiTkqgdbxPXz7LfBpA  ujmEBvifdJM6h6RLv4wQIg 2014-08-11 23:57:54   \n",
       "\n",
       "     latitude   longitude                                         categories  \\\n",
       "9   36.215546 -115.248798  [Fitness & Instruction, Doctors, Gyms, Emergen...   \n",
       "10  36.215546 -115.248798  [Fitness & Instruction, Doctors, Gyms, Emergen...   \n",
       "14  36.215546 -115.248798  [Fitness & Instruction, Doctors, Gyms, Emergen...   \n",
       "20  36.215546 -115.248798  [Fitness & Instruction, Doctors, Gyms, Emergen...   \n",
       "26  36.215546 -115.248798  [Fitness & Instruction, Doctors, Gyms, Emergen...   \n",
       "\n",
       "    subarea_id  \n",
       "9       1415.0  \n",
       "10      1415.0  \n",
       "14      1415.0  \n",
       "20      1415.0  \n",
       "26      1415.0  "
      ]
     },
     "execution_count": 6,
     "metadata": {},
     "output_type": "execute_result"
    }
   ],
   "source": [
    "areamanager.poi_set_subarea(las_vegas_area,df_review,0.5).head()"
   ]
  },
  {
   "cell_type": "code",
   "execution_count": 7,
   "metadata": {},
   "outputs": [],
   "source": [
    "# salvar aqui no arquivo .dat"
   ]
  },
  {
   "cell_type": "markdown",
   "metadata": {},
   "source": [
    "# Test and training set"
   ]
  },
  {
   "cell_type": "code",
   "execution_count": 8,
   "metadata": {},
   "outputs": [],
   "source": [
    "df_review=df_review.sort_values(['user_id','date']).reset_index(drop=True)"
   ]
  },
  {
   "cell_type": "code",
   "execution_count": 9,
   "metadata": {},
   "outputs": [
    {
     "data": {
      "text/plain": [
       "0    1.0\n",
       "1    2.0\n",
       "2    3.0\n",
       "3    4.0\n",
       "4    5.0\n",
       "Name: date, dtype: float64"
      ]
     },
     "execution_count": 9,
     "metadata": {},
     "output_type": "execute_result"
    }
   ],
   "source": [
    "ranks=df_review.groupby('user_id')['date'].rank(method='first')\n",
    "ranks.head()"
   ]
  },
  {
   "cell_type": "code",
   "execution_count": 10,
   "metadata": {},
   "outputs": [
    {
     "data": {
      "text/plain": [
       "0    88\n",
       "1    88\n",
       "2    88\n",
       "3    88\n",
       "4    88\n",
       "Name: user_id, dtype: int64"
      ]
     },
     "execution_count": 10,
     "metadata": {},
     "output_type": "execute_result"
    }
   ],
   "source": [
    "#ranks=df_review.groupby('user_id')['date'].rank(method='first')\n",
    "count=df_review['user_id'].map(df_review.groupby('user_id')['date'].apply(len))\n",
    "count.head()"
   ]
  },
  {
   "cell_type": "code",
   "execution_count": 11,
   "metadata": {},
   "outputs": [
    {
     "data": {
      "text/plain": [
       "0          True\n",
       "1          True\n",
       "2          True\n",
       "3          True\n",
       "4          True\n",
       "          ...  \n",
       "194422    False\n",
       "194423    False\n",
       "194424    False\n",
       "194425    False\n",
       "194426    False\n",
       "Length: 194427, dtype: bool"
      ]
     },
     "execution_count": 11,
     "metadata": {},
     "output_type": "execute_result"
    }
   ],
   "source": [
    "training_set_delimiter=(ranks/count)<0.8\n",
    "test_set_delimiter=np.logical_not(training_set_delimiter)\n",
    "training_set_delimiter"
   ]
  },
  {
   "cell_type": "code",
   "execution_count": 12,
   "metadata": {},
   "outputs": [
    {
     "data": {
      "text/plain": [
       "user_id        152755\n",
       "business_id    152755\n",
       "date           152755\n",
       "latitude       152755\n",
       "longitude      152755\n",
       "categories     152755\n",
       "subarea_id     152755\n",
       "dtype: int64"
      ]
     },
     "execution_count": 12,
     "metadata": {},
     "output_type": "execute_result"
    }
   ],
   "source": [
    "df_review_training=df_review[training_set_delimiter]\n",
    "df_review_training.count()"
   ]
  },
  {
   "cell_type": "code",
   "execution_count": 13,
   "metadata": {},
   "outputs": [
    {
     "data": {
      "text/plain": [
       "user_id        41672\n",
       "business_id    41672\n",
       "date           41672\n",
       "latitude       41672\n",
       "longitude      41672\n",
       "categories     41672\n",
       "subarea_id     41672\n",
       "dtype: int64"
      ]
     },
     "execution_count": 13,
     "metadata": {},
     "output_type": "execute_result"
    }
   ],
   "source": [
    "df_review_test=df_review[test_set_delimiter]\n",
    "df_review_test.count()"
   ]
  },
  {
   "cell_type": "code",
   "execution_count": 14,
   "metadata": {},
   "outputs": [],
   "source": [
    "users=df_review_training['user_id'].drop_duplicates().reset_index(drop=True)\n",
    "K = 10 # size of the recommendation list"
   ]
  },
  {
   "cell_type": "code",
   "execution_count": 15,
   "metadata": {},
   "outputs": [],
   "source": [
    "VERY_SMALL_VALUE=-100.0"
   ]
  },
  {
   "cell_type": "markdown",
   "metadata": {},
   "source": [
    "# ILD"
   ]
  },
  {
   "cell_type": "code",
   "execution_count": 16,
   "metadata": {},
   "outputs": [],
   "source": [
    "def category_dis_sim(category1,category2):\n",
    "    dissim=0.0\n",
    "    spd=nx.shortest_path_length(undirected_category_tree,category1,category2)\n",
    "    sim = 1.0 / (1.0 + spd)\n",
    "    dissim=1.0-sim\n",
    "    return dissim\n",
    "    \n",
    "\n",
    "def min_dist_to_list_cat(business,rec_list):\n",
    "    \n",
    "    min_dissim=1.0\n",
    "    rec_list_size=len(rec_list)\n",
    "    if rec_list_size==0:\n",
    "        min_dissim=1.0\n",
    "    else:\n",
    "        for index,row in rec_list.iterrows():\n",
    "            local_min_distance=1\n",
    "            cur_distance=0\n",
    "            for category1 in business['categories']:\n",
    "                for category2 in row['categories']:\n",
    "                    cur_distance=category_dis_sim(\n",
    "                        dict_alias_title[category1],\n",
    "                        dict_alias_title[category2])\n",
    "                    #print(category1,category2,cur_distance,local_min_distance)\n",
    "                    local_min_distance=min(local_min_distance,cur_distance)\n",
    "            min_dissim=min(min_dissim,local_min_distance)\n",
    "    return min_dissim\n",
    "        \n",
    "def objective_ild(business,rec_list):\n",
    "    # /*(1-_cfg._divWeight) * relevance + */_cfg._divWeight * diversity; where _cfg._divWeight = 0.9\n",
    "    ret_val= 0.0\n",
    "    diversity=0.0\n",
    "    diversity=min_dist_to_list_cat(business,rec_list)\n",
    "    ret_val = diversity #+ (1-div_weight)*relevance\n",
    "    return ret_val"
   ]
  },
  {
   "cell_type": "markdown",
   "metadata": {},
   "source": [
    "# Genre Coverage"
   ]
  },
  {
   "cell_type": "code",
   "execution_count": 17,
   "metadata": {},
   "outputs": [],
   "source": [
    "def relevant_categories_to_the_user(df_user_review):\n",
    "    df_user_review=df_user_review.copy()\n",
    "    # number of visits in pois\n",
    "    df_user_review['Count']=df_user_review.groupby(['business_id','user_id'])['user_id'].transform('count')\n",
    "    # merge to get mean poi visits, a column with Count and another with diffpoisvisited\n",
    "    df_mean_poi_visits=pd.merge(\\\n",
    "    df_user_review[['user_id','Count']].groupby('user_id').sum().reset_index(level=0),\\\n",
    "    df_user_review[['user_id','business_id']].groupby('user_id').count().reset_index(level=0).rename(columns={\"business_id\":\"diffpoisvisited\"}),\\\n",
    "    on='user_id')\n",
    "    \n",
    "    df_mean_poi_visits['meanpoivisits']=df_mean_poi_visits['Count']/df_mean_poi_visits['diffpoisvisited']\n",
    "    mean_poi_visits=df_mean_poi_visits['meanpoivisits'].iloc[0]\n",
    "    # print(mean_poi_visits)\n",
    "    \n",
    "    # Relevant categories\n",
    "    relevant_categories = set()    \n",
    "    for index,row in df_user_review.iterrows():\n",
    "        # Check if poi is relevant\n",
    "        if row['Count'] > mean_poi_visits:\n",
    "            # add relevant categories\n",
    "            for category in row['categories']:\n",
    "                relevant_categories.add(category)\n",
    "            #print(row['business_id'])\n",
    "    return relevant_categories\n",
    "    #print(relevant_pois)\n",
    "    \n",
    "\n",
    "def objective_genre_coverage(poi,rec_list,df_user_review):\n",
    "    relevant_categories=relevant_categories_to_the_user(df_user_review)\n",
    "    count_equal=0\n",
    "    categories_in_rec_list=set()\n",
    "    \n",
    "    for index, row in rec_list.iterrows():\n",
    "        for category in row['categories']:\n",
    "            categories_in_rec_list.add(category)\n",
    "    \n",
    "    for category in poi['categories']:\n",
    "        categories_in_rec_list.add(category)\n",
    "    \n",
    "    #print(categories_in_rec_list)\n",
    "    \n",
    "    for cat1 in relevant_categories:\n",
    "        for cat2 in poi['categories']:\n",
    "            if cat1 == cat2:\n",
    "                #print(cat1)\n",
    "                count_equal=count_equal+1\n",
    "    return count_equal/len(relevant_categories)\n"
   ]
  },
  {
   "cell_type": "markdown",
   "metadata": {},
   "source": [
    "# PR/Proportionality metric"
   ]
  },
  {
   "cell_type": "code",
   "execution_count": 18,
   "metadata": {},
   "outputs": [],
   "source": [
    "def haversine(lat1, lon1, lat2, lon2):\n",
    "    # deg to rad\n",
    "    lon1, lat1, lon2, lat2 = map(np.radians, [lon1, lat1, lon2, lat2])\n",
    "    dlon = lon2-lon1\n",
    "    dlat = lat2-lat1\n",
    "    a = np.sin(dlat/2)**2 + np.cos(lat1)*np.cos(lat2)*np.sin(dlon/2)**2\n",
    "    c = 2*np.arcsin(np.sqrt(a))\n",
    "    r = 6371 # km\n",
    "    return c*r\n",
    "\n",
    "def poi_distance_from_pois(poi,df_poi):\n",
    "    return haversine(poi['latitude'],poi['longitude'],df_poi['latitude'],df_poi['longitude'])\n",
    "\n",
    "def poi_neighbors(poi,df_poi,distance_km):\n",
    "    return df_poi[poi_distance_from_pois(poi,df_poi)<distance_km]\n",
    "\n",
    "def update_geo_cov(poi,df_user_review,rec_list_size,business_cover):\n",
    "    user_log_size=len(df_user_review)\n",
    "    neighbors=poi_neighbors(poi,df_user_review,0.1)\n",
    "    num_neighbors=len(neighbors)\n",
    "    vl=1\n",
    "    COVER_OF_POI=user_log_size/rec_list_size\n",
    "    accumulated_cover=0\n",
    "    # Cover calc\n",
    "    if num_neighbors<1:\n",
    "        accumulated_cover=accumulated_cover+COVER_OF_POI\n",
    "    else:\n",
    "        cover_of_neighbor=COVER_OF_POI/num_neighbors\n",
    "        for business_id in neighbors['business_id']:\n",
    "            business_cover[business_id]=business_cover[business_id]+cover_of_neighbor\n",
    "    accumulated_cover=accumulated_cover/user_log_size\n",
    "    # end PR and DP\n",
    "    DP=(accumulated_cover**2)/2\n",
    "    \n",
    "    for business_id in df_user_review['business_id']:\n",
    "        if vl>=business_cover[business_id]:\n",
    "            DP=DP+(vl-business_cover[business_id])**2    \n",
    "    DP_IDEAL=user_log_size+0.5\n",
    "    PR=1-DP/(DP_IDEAL)\n",
    "    \n",
    "    return PR\n",
    "\n",
    "\n"
   ]
  },
  {
   "cell_type": "markdown",
   "metadata": {},
   "source": [
    "# GeoCat"
   ]
  },
  {
   "cell_type": "code",
   "execution_count": 19,
   "metadata": {},
   "outputs": [],
   "source": [
    "def objective_ILD_GC_PR(poi,df_user_review,rec_list,rec_list_size,business_cover,current_proportionality,div_geo_cat_weight,div_weight):\n",
    "    ild_div=objective_ild(poi,rec_list)\n",
    "    \n",
    "    gc_div=objective_genre_coverage(poi,rec_list,df_user_review)\n",
    "    \n",
    "    delta_proportionality=max(0,update_geo_cov(poi,df_user_review,rec_list_size,business_cover.copy())-current_proportionality)\n",
    "    if delta_proportionality<0:\n",
    "        delta_proportionality=0\n",
    "    div_cat = gc_div+ild_div/rec_list_size\n",
    "    div_geo = delta_proportionality\n",
    "    div=div_geo_cat_weight*div_geo+(1-div_geo_cat_weight)*div_cat\n",
    "    return (poi['score']**(1-div_weight))*(div**div_weight)"
   ]
  },
  {
   "cell_type": "markdown",
   "metadata": {},
   "source": [
    "# GeoDiv/PR/GeoSoCa/Adaptative Kernel Estimation\n",
    "Used by GeoDiv, Activity Density, Activity District"
   ]
  },
  {
   "cell_type": "code",
   "execution_count": 20,
   "metadata": {
    "scrolled": true
   },
   "outputs": [],
   "source": [
    "\n",
    "# def band_width_h1(df_user_poi_count,N,n):\n",
    "#     sum_latitude_pois_weighted=df_user_poi_count[['count','latitude']].\\\n",
    "#     apply(lambda x: x['count']*x['latitude'],axis=1).sum()\n",
    "    \n",
    "#     sum_latitude_pois_weighted_normalized=sum_latitude_pois_weighted/N\n",
    "    \n",
    "#     sum_latitude_pois_weighted_squared=df_user_poi_count[['count','latitude']].apply(\n",
    "#         lambda x: (x['count']*x['latitude']-sum_latitude_pois_weighted_normalized)**2,axis=1).sum()\n",
    "    \n",
    "#     return 1.06*(n**(-1/5))*math.sqrt(sum_latitude_pois_weighted_squared/N)\n",
    "\n",
    "# def band_width_h2(df_user_poi_count,N,n):\n",
    "#     sum_latitude_pois_weighted=df_user_poi_count[['count','longitude']].\\\n",
    "#     apply(lambda x: x['count']*x['longitude'],axis=1).sum()\n",
    "    \n",
    "#     sum_latitude_pois_weighted_normalized=sum_latitude_pois_weighted/N\n",
    "    \n",
    "#     sum_latitude_pois_weighted_squared=df_user_poi_count[['count','longitude']].apply(\n",
    "#         lambda x: (x['count']*x['longitude']-sum_latitude_pois_weighted_normalized)**2,axis=1).sum()\n",
    "    \n",
    "#     return 1.06*(n**(-1/5))*math.sqrt(sum_latitude_pois_weighted_squared/N)\n",
    "\n",
    "# def normal_kernel_kh(poi,poii,h1,h2):\n",
    "#     return (1/(2*math.pi*h1*h2))*math.exp(\n",
    "#         -(poi['latitude']-poii['latitude'])**2/(2*(h1**2))-(poi['longitude']-poii['longitude'])**2/(2*(h2**2))\n",
    "#     )\n",
    "# def kernel_density_estimation_geo(poi,df_user_poi_count,N,n,h1,h2):\n",
    "#     return df_user_poi_count[['count','latitude','longitude']].apply(\n",
    "#         lambda poii: poii['count']*normal_kernel_kh(poi,poii,h1,h2),axis=1).sum()/N\n",
    "\n",
    "# def local_bandwith_hi(poi,df_user_poi_count,N,n,h1,h2,sensivity_parameter):\n",
    "#     ''' sensivity_parameter \\in [0,1]'''\n",
    "#     geometric_mean=df_user_poi_count[['count','latitude','longitude']].apply(\n",
    "#     lambda x: kernel_density_estimation_geo(x,df_user_poi_count,N,n,h1,h2),axis=1).prod()**(1/n)\n",
    "#     return ((geometric_mean**(-1))*kernel_density_estimation_geo(poi,df_user_poi_count,N,n,h1,h2))**(-sensivity_parameter)\n",
    "\n",
    "# def adaptative_kernel_kh_hi(poi,poii,df_user_poi_count,N,n,h1,h2,sensivity_parameter):\n",
    "#     local_bandwith=local_bandwith_hi(poii,df_user_poi_count,N,n,h1,h2,sensivity_parameter)\n",
    "#     return (1/(2*math.pi*h1*h2*(local_bandwith**2)))*math.exp(\n",
    "#         -(poi['latitude']-poii['latitude'])**2/(2*((h1**2)*(local_bandwith**2)))\\\n",
    "#         -(poi['longitude']-poii['longitude'])**2/(2*((h2**2)*(local_bandwith**2))))\n",
    "\n",
    "# def variables_adaptative_kernel_estimation_geo(df_user_review):\n",
    "#     # N: total of checkins of user, n: total unique checkins of user\n",
    "#     N=df_user_review.business_id.count()\n",
    "#     n=df_user_review.business_id.nunique()\n",
    "#     # dataframe with count column, count: number of visits\n",
    "#     df_user_poi_count=df_user_review.copy()\n",
    "#     df_user_poi_count.drop_duplicates(subset=['business_id'],inplace=True)\n",
    "#     df_user_poi_count['count']=df_user_review.groupby('business_id')['user_id'].transform('count')\n",
    "#     # band width calculation\n",
    "#     h1=band_width_h1(df_user_poi_count,N,n)\n",
    "#     h2=band_width_h2(df_user_poi_count,N,n)\n",
    "#     return [df_user_poi_count,N,n,h1,h2]\n",
    "\n",
    "# def adaptative_kernel_estimation_geo(poi,df_user_poi_count,N,n,h1,h2,sensivity_parameter):\n",
    "    \n",
    "#     return df_user_poi_count[['count','latitude','longitude']].apply(\n",
    "#         lambda poii: poii['count']*adaptative_kernel_kh_hi(poi,poii,df_user_poi_count,N,n,h1,h2,sensivity_parameter)\n",
    "#         ,axis=1).sum()/N\n",
    "\n",
    "# SENSIVITY_PARAMETER=0.5"
   ]
  },
  {
   "cell_type": "markdown",
   "metadata": {},
   "source": [
    "# Activity Density/Activity District"
   ]
  },
  {
   "cell_type": "code",
   "execution_count": 21,
   "metadata": {
    "scrolled": false
   },
   "outputs": [],
   "source": [
    "# def subarea_visit_probability(subarea_pois,df_user_poi_count,N,n,h1,h2):\n",
    "#     return subarea_pois.apply(\n",
    "#         lambda poi:adaptative_kernel_estimation_geo(poi,df_user_poi_count,N,n,h1,h2,SENSIVITY_PARAMETER),axis=1).sum()\n",
    "\n",
    "# user_id=users[0]\n",
    "\n",
    "# df_user_review=df_review_training[df_review_training['user_id']==user_id]\n",
    "\n",
    "# vars_ake_geo=variables_adaptative_kernel_estimation_geo(df_user_review)\n",
    "# vars_ake_geo[0]=vars_ake_geo[0].loc[0:6]\n",
    "# # Visit probability to subareas\n",
    "# subareas_visit_probability=vars_ake_geo[0].groupby('subarea_id').apply(\n",
    "#     subarea_visit_probability,*vars_ake_geo).to_frame().rename(columns={0:\"probability\"})\n",
    "\n"
   ]
  },
  {
   "cell_type": "code",
   "execution_count": 22,
   "metadata": {},
   "outputs": [
    {
     "data": {
      "text/html": [
       "<div>\n",
       "<style scoped>\n",
       "    .dataframe tbody tr th:only-of-type {\n",
       "        vertical-align: middle;\n",
       "    }\n",
       "\n",
       "    .dataframe tbody tr th {\n",
       "        vertical-align: top;\n",
       "    }\n",
       "\n",
       "    .dataframe thead th {\n",
       "        text-align: right;\n",
       "    }\n",
       "</style>\n",
       "<table border=\"1\" class=\"dataframe\">\n",
       "  <thead>\n",
       "    <tr style=\"text-align: right;\">\n",
       "      <th></th>\n",
       "      <th>probability</th>\n",
       "      <th>activity_density</th>\n",
       "      <th>activity_district</th>\n",
       "    </tr>\n",
       "    <tr>\n",
       "      <th>subarea_id</th>\n",
       "      <th></th>\n",
       "      <th></th>\n",
       "      <th></th>\n",
       "    </tr>\n",
       "  </thead>\n",
       "  <tbody>\n",
       "    <tr>\n",
       "      <th>309.0</th>\n",
       "      <td>3.815628e-07</td>\n",
       "      <td>1.0</td>\n",
       "      <td>True</td>\n",
       "    </tr>\n",
       "    <tr>\n",
       "      <th>370.0</th>\n",
       "      <td>3.815628e-07</td>\n",
       "      <td>1.0</td>\n",
       "      <td>True</td>\n",
       "    </tr>\n",
       "    <tr>\n",
       "      <th>525.0</th>\n",
       "      <td>3.815628e-07</td>\n",
       "      <td>1.0</td>\n",
       "      <td>True</td>\n",
       "    </tr>\n",
       "    <tr>\n",
       "      <th>595.0</th>\n",
       "      <td>7.631256e-07</td>\n",
       "      <td>-0.0</td>\n",
       "      <td>False</td>\n",
       "    </tr>\n",
       "    <tr>\n",
       "      <th>602.0</th>\n",
       "      <td>3.815628e-07</td>\n",
       "      <td>1.0</td>\n",
       "      <td>True</td>\n",
       "    </tr>\n",
       "    <tr>\n",
       "      <th>646.0</th>\n",
       "      <td>3.815628e-07</td>\n",
       "      <td>1.0</td>\n",
       "      <td>True</td>\n",
       "    </tr>\n",
       "  </tbody>\n",
       "</table>\n",
       "</div>"
      ],
      "text/plain": [
       "             probability  activity_density  activity_district\n",
       "subarea_id                                                   \n",
       "309.0       3.815628e-07               1.0               True\n",
       "370.0       3.815628e-07               1.0               True\n",
       "525.0       3.815628e-07               1.0               True\n",
       "595.0       7.631256e-07              -0.0              False\n",
       "602.0       3.815628e-07               1.0               True\n",
       "646.0       3.815628e-07               1.0               True"
      ]
     },
     "execution_count": 22,
     "metadata": {},
     "output_type": "execute_result"
    }
   ],
   "source": [
    "\n",
    "# def user_activity_density_to_area(subarea_id,subareas_visit_probability):\n",
    "#     subarea_visit_probability=subareas_visit_probability.loc[subarea_id]['probability']\n",
    "#     min_visit_probability=subareas_visit_probability['probability'].max()\n",
    "#     max_visit_probability=subareas_visit_probability['probability'].min()\n",
    "#     return math.log(subarea_visit_probability-min_visit_probability+1)/math.log(\n",
    "#     max_visit_probability-min_visit_probability+1)\n",
    "\n",
    "# subareas_visit_probability['activity_density']=subareas_visit_probability.apply(\n",
    "#     lambda subarea: user_activity_density_to_area(subarea.name,subareas_visit_probability),axis=1)\n",
    "# subareas_visit_probability['activity_district']=subareas_visit_probability.apply(\n",
    "#     lambda subarea: True if subarea['activity_density']>=0.9 else False,axis=1)\n",
    "# subareas_visit_probability\n"
   ]
  },
  {
   "cell_type": "code",
   "execution_count": 23,
   "metadata": {},
   "outputs": [
    {
     "name": "stdout",
     "output_type": "stream",
     "text": [
      "---1lKK3aKOuomHnwAkAow\n",
      "              business_id     score   latitude   longitude  \\\n",
      "3  KskYqH1Bi7Z_61pH6Om8pg  0.357619  36.143664 -115.141891   \n",
      "5  IMLrj2klosTFvPRLv56cng  0.258668  36.160577 -115.292996   \n",
      "0  g8OnV26ywJlZpezdBnOWUQ  0.229308  36.144713 -115.240092   \n",
      "4  zdE82PiD6wquvjYLyhOJNA  0.182408  36.179939 -115.206417   \n",
      "0  igHYkXZMLAc9UdV5VnR_AA  0.082288  36.166576 -115.286232   \n",
      "0  UPIYuRaZvknINOd1w8kqRQ  0.000000  36.127034 -115.209819   \n",
      "0  yfxDa8RFOvJPQh0rNtakHA  0.000000  36.126194 -115.193445   \n",
      "0  fL-b760btOaGa85OJ9ut3w  0.000000  36.132188 -115.177096   \n",
      "0  vl2IZrNJEA8npSjqXbdwxw  0.000000  36.204189 -115.260244   \n",
      "0  3GEEy7RP6e4bT4LAiWFMFQ  0.000000  36.171618 -115.142267   \n",
      "\n",
      "                                          categories  \n",
      "3  [Car Dealers, Buffets, Wine Bars, Bars, Thai, ...  \n",
      "5                            [Cafes, American (New)]  \n",
      "0               [American (New), Breakfast & Brunch]  \n",
      "4                    [Asian Fusion, Korean, Mexican]  \n",
      "0  [Meat Shops, Butcher, Steakhouses, Specialty F...  \n",
      "0                         [Noodles, Ramen, Japanese]  \n",
      "0                      [Vietnamese, Chinese, Korean]  \n",
      "0  [Burgers, Caterers, Soul Food, American (Tradi...  \n",
      "0  [Coffee & Tea, American (Traditional), Breakfa...  \n",
      "0                                            [Pizza]  \n"
     ]
    }
   ],
   "source": [
    "\n",
    "\n",
    "for user_id in users:\n",
    "\n",
    "    tmp_rec_list=rec.mostpopular(df_review_training,K)\n",
    "    tmp_rec_list['score']=tmp_rec_list['score']/tmp_rec_list['score'].max()\n",
    "    \n",
    "    \n",
    "    # add other columns\n",
    "    tmp_rec_list=pd.merge(tmp_rec_list,df_business,on='business_id').drop_duplicates(subset=df_business.columns.difference(['categories'])).reset_index(drop=True)\n",
    "    #print(tmp_rec_list)\n",
    "    \n",
    "    \n",
    "    # User visits\n",
    "    df_user_review=df_review_training[df_review_training['user_id']==user_id]\n",
    "    #user_log_size=len(df_user_review)\n",
    "    business_cover=dict()\n",
    "    for business_id in df_user_review['business_id'].drop_duplicates().reset_index(drop=True):\n",
    "        business_cover[business_id]=0\n",
    "    # Constants\n",
    "    #COVER_OF_POI=len(df_user_review)/len(tmp_rec_list)\n",
    "    div_geo_cat_weight = 0.5 # beta,this is here because of the work to be done on parameter customization for each user\n",
    "    div_weight = 0.5 # lambda\n",
    "    current_proportionality=0\n",
    "    \n",
    "    #print(adaptative_kernel_estimation_geo(df_user_review.loc[0],df_user_review,SENSIVITY_PARAMETER))\n",
    "    \n",
    "    rec_list=pd.DataFrame(columns=['business_id','score','latitude','longitude','categories'])\n",
    "    \n",
    "    # post-processing for diversification\n",
    "    for i in range(K):\n",
    "        #num_current_candidates=len(tmp_rec_list)\n",
    "        poi_to_insert=None\n",
    "        max_objective_value=VERY_SMALL_VALUE\n",
    "        for index,poi_candidate in tmp_rec_list.iterrows():\n",
    "            objective_value=objective_ILD_GC_PR(poi_candidate,df_user_review,tmp_rec_list,K,\\\n",
    "                                                business_cover,current_proportionality,\\\n",
    "                                               div_geo_cat_weight,div_weight)\n",
    "            \n",
    "            if objective_value > max_objective_value:\n",
    "                max_objective_value=objective_value\n",
    "                poi_to_insert=poi_candidate\n",
    "        #print(poi_to_insert)    \n",
    "        \n",
    "        if poi_to_insert is not None:\n",
    "            poi_to_insert['score']=max_objective_value\n",
    "            rec_list=rec_list.append(poi_to_insert)\n",
    "            # remove from tmp_rec_list\n",
    "            tmp_rec_list=tmp_rec_list[tmp_rec_list['business_id']!=poi_to_insert['business_id']].reset_index(drop=True)\n",
    "            \n",
    "            current_proportionality=update_geo_cov(poi_to_insert,df_user_review,K,business_cover)\n",
    "        \n",
    "    print(user_id)        \n",
    "    print(rec_list)\n",
    "    \n",
    "    break"
   ]
  }
 ],
 "metadata": {
  "kernelspec": {
   "display_name": "Python 3",
   "language": "python",
   "name": "python3"
  },
  "language_info": {
   "codemirror_mode": {
    "name": "ipython",
    "version": 3
   },
   "file_extension": ".py",
   "mimetype": "text/x-python",
   "name": "python",
   "nbconvert_exporter": "python",
   "pygments_lexer": "ipython3",
   "version": "3.7.4"
  }
 },
 "nbformat": 4,
 "nbformat_minor": 4
}
