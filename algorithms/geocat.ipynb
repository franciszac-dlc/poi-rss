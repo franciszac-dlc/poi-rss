{
 "cells": [
  {
   "cell_type": "markdown",
   "metadata": {},
   "source": [
    "- [ ] não usar categorias abaixo do nível 2.\n",
    "- retVal = Math.pow(rel, (1.0 - _cfg._divWeight)) * Math.pow(div, _cfg._divWeight);\n",
    "- calculo do pr errado?? passando pelos vizinhos nao pelos log vizinhos????"
   ]
  },
  {
   "cell_type": "code",
   "execution_count": 2,
   "metadata": {},
   "outputs": [],
   "source": [
    "import numpy as np\n",
    "import pandas as pd\n",
    "import recommenders as rec\n",
    "import networkx as nx\n",
    "import matplotlib.pyplot as plt\n",
    "import areamanager\n",
    "%matplotlib inline"
   ]
  },
  {
   "cell_type": "markdown",
   "metadata": {},
   "source": [
    "# Category tree"
   ]
  },
  {
   "cell_type": "code",
   "execution_count": 3,
   "metadata": {},
   "outputs": [],
   "source": [
    "df_categories=pd.read_json(\"../data/categories.json\")\n",
    "\n",
    "# dicionário alias title 2 way\n",
    "dict_alias_title={}\n",
    "for index, row in df_categories.iterrows():\n",
    "    dict_alias_title[row['alias']]=row['title']\n",
    "    dict_alias_title[row['title']]=row['alias']\n",
    "\n",
    "\n",
    "category_tree= nx.DiGraph()\n",
    "for index, row in df_categories.iterrows():\n",
    "    if not row['parents']:\n",
    "        category_tree.add_edge(row['alias'],'root') # root node if no parents\n",
    "    else:\n",
    "        for parent_label in row['parents']:\n",
    "            category_tree.add_edge(row['alias'],parent_label)\n",
    "\n",
    "undirected_category_tree=category_tree.to_undirected()\n",
    "df_categories=None"
   ]
  },
  {
   "cell_type": "markdown",
   "metadata": {},
   "source": [
    "## Remove lower levels than second in tree"
   ]
  },
  {
   "cell_type": "code",
   "execution_count": null,
   "metadata": {},
   "outputs": [],
   "source": []
  },
  {
   "cell_type": "markdown",
   "metadata": {},
   "source": [
    "# Load check-ins/reviews and treat the dataset"
   ]
  },
  {
   "cell_type": "code",
   "execution_count": 4,
   "metadata": {},
   "outputs": [
    {
     "name": "stdout",
     "output_type": "stream",
     "text": [
      "Area selected: Las Vegas\n"
     ]
    },
    {
     "data": {
      "text/html": [
       "<div>\n",
       "<style scoped>\n",
       "    .dataframe tbody tr th:only-of-type {\n",
       "        vertical-align: middle;\n",
       "    }\n",
       "\n",
       "    .dataframe tbody tr th {\n",
       "        vertical-align: top;\n",
       "    }\n",
       "\n",
       "    .dataframe thead th {\n",
       "        text-align: right;\n",
       "    }\n",
       "</style>\n",
       "<table border=\"1\" class=\"dataframe\">\n",
       "  <thead>\n",
       "    <tr style=\"text-align: right;\">\n",
       "      <th></th>\n",
       "      <th>user_id</th>\n",
       "      <th>business_id</th>\n",
       "      <th>date</th>\n",
       "      <th>latitude</th>\n",
       "      <th>longitude</th>\n",
       "      <th>categories</th>\n",
       "    </tr>\n",
       "  </thead>\n",
       "  <tbody>\n",
       "    <tr>\n",
       "      <th>0</th>\n",
       "      <td>hG7b0MtEbXx5QzbzE6C_VA</td>\n",
       "      <td>ujmEBvifdJM6h6RLv4wQIg</td>\n",
       "      <td>2013-05-07 04:34:36</td>\n",
       "      <td>36.215546</td>\n",
       "      <td>-115.248798</td>\n",
       "      <td>['Fitness &amp; Instruction', 'Doctors', 'Health &amp;...</td>\n",
       "    </tr>\n",
       "    <tr>\n",
       "      <th>1</th>\n",
       "      <td>RBXSJA372ilErzNwz0jXvQ</td>\n",
       "      <td>ujmEBvifdJM6h6RLv4wQIg</td>\n",
       "      <td>2017-02-09 06:45:18</td>\n",
       "      <td>36.215546</td>\n",
       "      <td>-115.248798</td>\n",
       "      <td>['Fitness &amp; Instruction', 'Doctors', 'Health &amp;...</td>\n",
       "    </tr>\n",
       "    <tr>\n",
       "      <th>2</th>\n",
       "      <td>x3brMMbJrAW9PwW5A6YL5w</td>\n",
       "      <td>ujmEBvifdJM6h6RLv4wQIg</td>\n",
       "      <td>2018-08-14 05:25:33</td>\n",
       "      <td>36.215546</td>\n",
       "      <td>-115.248798</td>\n",
       "      <td>['Fitness &amp; Instruction', 'Doctors', 'Health &amp;...</td>\n",
       "    </tr>\n",
       "    <tr>\n",
       "      <th>3</th>\n",
       "      <td>Skzdl0sWhW88525a1vr59g</td>\n",
       "      <td>ujmEBvifdJM6h6RLv4wQIg</td>\n",
       "      <td>2018-05-08 19:27:59</td>\n",
       "      <td>36.215546</td>\n",
       "      <td>-115.248798</td>\n",
       "      <td>['Fitness &amp; Instruction', 'Doctors', 'Health &amp;...</td>\n",
       "    </tr>\n",
       "    <tr>\n",
       "      <th>4</th>\n",
       "      <td>3Y25VDfnQVcuc33T-U3Z6A</td>\n",
       "      <td>ujmEBvifdJM6h6RLv4wQIg</td>\n",
       "      <td>2014-10-11 06:57:18</td>\n",
       "      <td>36.215546</td>\n",
       "      <td>-115.248798</td>\n",
       "      <td>['Fitness &amp; Instruction', 'Doctors', 'Health &amp;...</td>\n",
       "    </tr>\n",
       "  </tbody>\n",
       "</table>\n",
       "</div>"
      ],
      "text/plain": [
       "                  user_id             business_id                date  \\\n",
       "0  hG7b0MtEbXx5QzbzE6C_VA  ujmEBvifdJM6h6RLv4wQIg 2013-05-07 04:34:36   \n",
       "1  RBXSJA372ilErzNwz0jXvQ  ujmEBvifdJM6h6RLv4wQIg 2017-02-09 06:45:18   \n",
       "2  x3brMMbJrAW9PwW5A6YL5w  ujmEBvifdJM6h6RLv4wQIg 2018-08-14 05:25:33   \n",
       "3  Skzdl0sWhW88525a1vr59g  ujmEBvifdJM6h6RLv4wQIg 2018-05-08 19:27:59   \n",
       "4  3Y25VDfnQVcuc33T-U3Z6A  ujmEBvifdJM6h6RLv4wQIg 2014-10-11 06:57:18   \n",
       "\n",
       "    latitude   longitude                                         categories  \n",
       "0  36.215546 -115.248798  ['Fitness & Instruction', 'Doctors', 'Health &...  \n",
       "1  36.215546 -115.248798  ['Fitness & Instruction', 'Doctors', 'Health &...  \n",
       "2  36.215546 -115.248798  ['Fitness & Instruction', 'Doctors', 'Health &...  \n",
       "3  36.215546 -115.248798  ['Fitness & Instruction', 'Doctors', 'Health &...  \n",
       "4  36.215546 -115.248798  ['Fitness & Instruction', 'Doctors', 'Health &...  "
      ]
     },
     "execution_count": 4,
     "metadata": {},
     "output_type": "execute_result"
    }
   ],
   "source": [
    "las_vegas_area=areamanager.delimiter_area(1)\n",
    "df_business=pd.read_csv(\"../data/business.csv\",usecols=['business_id','latitude','longitude','categories'])\n",
    "df_business=areamanager.pois_in_area(las_vegas_area,df_business)\n",
    "df_review=pd.read_csv(\"../data/review.csv\",usecols=['business_id','user_id','date'])\n",
    "df_review=pd.merge(df_review,df_business,on='business_id')\n",
    "df_review['date']=pd.to_datetime(df_review['date'])\n",
    "df_review.head()"
   ]
  },
  {
   "cell_type": "markdown",
   "metadata": {},
   "source": [
    "Filtragem dos POIs que foram visitados por cinco ou mais usuários"
   ]
  },
  {
   "cell_type": "code",
   "execution_count": 5,
   "metadata": {},
   "outputs": [
    {
     "data": {
      "text/plain": [
       "user_id        878996\n",
       "business_id    878996\n",
       "date           878996\n",
       "latitude       878996\n",
       "longitude      878996\n",
       "categories     878900\n",
       "dtype: int64"
      ]
     },
     "execution_count": 5,
     "metadata": {},
     "output_type": "execute_result"
    }
   ],
   "source": [
    "df_diff_users_visited=df_review[['user_id','business_id']].drop_duplicates().reset_index(drop=True).\\\n",
    "groupby('business_id').count().reset_index().rename(columns={\"user_id\":\"diffusersvisited\"})\n",
    "\n",
    "df_diff_users_visited=df_diff_users_visited[df_diff_users_visited['diffusersvisited']>=5]\n",
    "del df_diff_users_visited['diffusersvisited']\n",
    "df_review=pd.merge(df_review,df_diff_users_visited,on='business_id',how='inner')\n",
    "df_review.count()"
   ]
  },
  {
   "cell_type": "markdown",
   "metadata": {},
   "source": [
    "Filtragem dos usuários que realizaram vinte ou mais check-ins"
   ]
  },
  {
   "cell_type": "code",
   "execution_count": 6,
   "metadata": {},
   "outputs": [
    {
     "data": {
      "text/plain": [
       "user_id        194427\n",
       "business_id    194427\n",
       "date           194427\n",
       "latitude       194427\n",
       "longitude      194427\n",
       "categories     194416\n",
       "dtype: int64"
      ]
     },
     "execution_count": 6,
     "metadata": {},
     "output_type": "execute_result"
    }
   ],
   "source": [
    "df_review['Count']=df_review.groupby(['user_id'])['user_id'].transform('count')\n",
    "df_review=df_review[df_review['Count']>=20]\n",
    "del df_review['Count']\n",
    "df_review.count()"
   ]
  },
  {
   "cell_type": "markdown",
   "metadata": {},
   "source": [
    "# Test and training set"
   ]
  },
  {
   "cell_type": "code",
   "execution_count": 7,
   "metadata": {},
   "outputs": [],
   "source": [
    "df_review=df_review.sort_values(['user_id','date']).reset_index(drop=True)"
   ]
  },
  {
   "cell_type": "code",
   "execution_count": 8,
   "metadata": {},
   "outputs": [
    {
     "data": {
      "text/plain": [
       "0    1.0\n",
       "1    2.0\n",
       "2    3.0\n",
       "3    4.0\n",
       "4    5.0\n",
       "Name: date, dtype: float64"
      ]
     },
     "execution_count": 8,
     "metadata": {},
     "output_type": "execute_result"
    }
   ],
   "source": [
    "ranks=df_review.groupby('user_id')['date'].rank(method='first')\n",
    "ranks.head()"
   ]
  },
  {
   "cell_type": "code",
   "execution_count": 9,
   "metadata": {},
   "outputs": [
    {
     "data": {
      "text/plain": [
       "0    88\n",
       "1    88\n",
       "2    88\n",
       "3    88\n",
       "4    88\n",
       "Name: user_id, dtype: int64"
      ]
     },
     "execution_count": 9,
     "metadata": {},
     "output_type": "execute_result"
    }
   ],
   "source": [
    "#ranks=df_review.groupby('user_id')['date'].rank(method='first')\n",
    "count=df_review['user_id'].map(df_review.groupby('user_id')['date'].apply(len))\n",
    "count.head()"
   ]
  },
  {
   "cell_type": "code",
   "execution_count": 10,
   "metadata": {},
   "outputs": [
    {
     "data": {
      "text/plain": [
       "0          True\n",
       "1          True\n",
       "2          True\n",
       "3          True\n",
       "4          True\n",
       "          ...  \n",
       "194422    False\n",
       "194423    False\n",
       "194424    False\n",
       "194425    False\n",
       "194426    False\n",
       "Length: 194427, dtype: bool"
      ]
     },
     "execution_count": 10,
     "metadata": {},
     "output_type": "execute_result"
    }
   ],
   "source": [
    "training_set_delimiter=(ranks/count)<0.8\n",
    "test_set_delimiter=np.logical_not(training_set_delimiter)\n",
    "training_set_delimiter"
   ]
  },
  {
   "cell_type": "code",
   "execution_count": 11,
   "metadata": {},
   "outputs": [
    {
     "data": {
      "text/plain": [
       "user_id        152755\n",
       "business_id    152755\n",
       "date           152755\n",
       "latitude       152755\n",
       "longitude      152755\n",
       "categories     152751\n",
       "dtype: int64"
      ]
     },
     "execution_count": 11,
     "metadata": {},
     "output_type": "execute_result"
    }
   ],
   "source": [
    "df_review_training=df_review[training_set_delimiter]\n",
    "df_review_training.count()"
   ]
  },
  {
   "cell_type": "code",
   "execution_count": 12,
   "metadata": {},
   "outputs": [
    {
     "data": {
      "text/plain": [
       "user_id        41672\n",
       "business_id    41672\n",
       "date           41672\n",
       "latitude       41672\n",
       "longitude      41672\n",
       "categories     41665\n",
       "dtype: int64"
      ]
     },
     "execution_count": 12,
     "metadata": {},
     "output_type": "execute_result"
    }
   ],
   "source": [
    "df_review_test=df_review[test_set_delimiter]\n",
    "df_review_test.count()"
   ]
  },
  {
   "cell_type": "code",
   "execution_count": 13,
   "metadata": {},
   "outputs": [],
   "source": [
    "users=df_review_training['user_id'].drop_duplicates().reset_index(drop=True)\n",
    "K = 10 # size of the recommendation list"
   ]
  },
  {
   "cell_type": "code",
   "execution_count": 65,
   "metadata": {},
   "outputs": [],
   "source": [
    "VERY_SMALL_VALUE=-100.0\n",
    "\n",
    "rec_list=pd.DataFrame(columns=['business_id','score','latitude','longitude','categories'])"
   ]
  },
  {
   "cell_type": "markdown",
   "metadata": {},
   "source": [
    "# ILD"
   ]
  },
  {
   "cell_type": "code",
   "execution_count": 66,
   "metadata": {},
   "outputs": [],
   "source": [
    "def category_dis_sim(category1,category2):\n",
    "    dissim=0.0\n",
    "    spd=nx.shortest_path_length(undirected_category_tree,category1,category2)\n",
    "    sim = 1.0 / (1.0 + spd)\n",
    "    dissim=1.0-sim\n",
    "    return dissim\n",
    "    \n",
    "\n",
    "def min_dist_to_list_cat(business,rec_list):\n",
    "    min_dissim=1.0\n",
    "    rec_list_size=len(rec_list)\n",
    "    if rec_list_size==0:\n",
    "        min_dissim=1.0\n",
    "    else:\n",
    "        for index,row in rec_list.iterrows():\n",
    "            local_min_distance=1\n",
    "            cur_distance=0\n",
    "            for category1 in eval(business['categories']):\n",
    "                for category2 in eval(row['categories']):\n",
    "                    cur_distance=category_dis_sim(\n",
    "                        dict_alias_title[category1],\n",
    "                        dict_alias_title[category2])\n",
    "                    #print(category1,category2,cur_distance,local_min_distance)\n",
    "                    local_min_distance=min(local_min_distance,cur_distance)\n",
    "            min_dissim=min(min_dissim,local_min_distance)\n",
    "    return min_dissim\n",
    "        \n",
    "def objective_ild(business,rec_list):\n",
    "    # /*(1-_cfg._divWeight) * relevance + */_cfg._divWeight * diversity; where _cfg._divWeight = 0.9\n",
    "    ret_val= 0.0\n",
    "    diversity=0.0\n",
    "    div_weight=0.9\n",
    "    diversity=min_dist_to_list_cat(business,rec_list)\n",
    "    ret_val = div_weight*diversity #+ (1-div_weight)*relevance\n",
    "    return ret_val"
   ]
  },
  {
   "cell_type": "markdown",
   "metadata": {},
   "source": [
    "# Genre Coverage"
   ]
  },
  {
   "cell_type": "code",
   "execution_count": 67,
   "metadata": {},
   "outputs": [],
   "source": [
    "def relevant_categories_to_the_user(df_user_review):\n",
    "    df=df_user_review\n",
    "    # number of visits in pois\n",
    "    df['Count']=df.groupby(['business_id','user_id'])['user_id'].transform('count')\n",
    "    # merge to get mean poi visits, a column with Count and another with diffpoisvisited\n",
    "    df_mean_poi_visits=pd.merge(\\\n",
    "    df[['user_id','Count']].groupby('user_id').sum().reset_index(level=0),\\\n",
    "    df[['user_id','business_id']].groupby('user_id').count().reset_index(level=0).rename(columns={\"business_id\":\"diffpoisvisited\"}),\\\n",
    "    on='user_id')\n",
    "    \n",
    "    df_mean_poi_visits['meanpoivisits']=df_mean_poi_visits['Count']/df_mean_poi_visits['diffpoisvisited']\n",
    "    mean_poi_visits=df_mean_poi_visits['meanpoivisits'].iloc[0]\n",
    "    # print(mean_poi_visits)\n",
    "    \n",
    "    # Relevant categories\n",
    "    relevant_categories = set()    \n",
    "    for index,row in df.iterrows():\n",
    "        # Check if poi is relevant\n",
    "        if row['Count'] > mean_poi_visits:\n",
    "            # add relevant categories\n",
    "            for category in eval(row['categories']):\n",
    "                relevant_categories.add(category)\n",
    "            #print(row['business_id'])\n",
    "    return relevant_categories\n",
    "    #print(relevant_pois)\n",
    "    \n",
    "\n",
    "def objective_genre_coverage(poi,rec_list,df_user_review):\n",
    "    relevant_categories=relevant_categories_to_the_user(df_user_review)\n",
    "    count_equal=0\n",
    "    categories_in_rec_list=set()\n",
    "    \n",
    "    for index, row in rec_list.iterrows():\n",
    "        for category in eval(row['categories']):\n",
    "            categories_in_rec_list.add(category)\n",
    "    \n",
    "    for category in eval(poi['categories']):\n",
    "        categories_in_rec_list.add(category)\n",
    "    \n",
    "    #print(categories_in_rec_list)\n",
    "    \n",
    "    for cat1 in relevant_categories:\n",
    "        for cat2 in eval(poi['categories']):\n",
    "            if cat1 == cat2:\n",
    "                print(cat1)\n",
    "                count_equal=count_equal+1\n",
    "    return count_equal/len(relevant_categories)\n"
   ]
  },
  {
   "cell_type": "markdown",
   "metadata": {},
   "source": [
    "# PR/Proportionality metric"
   ]
  },
  {
   "cell_type": "code",
   "execution_count": 68,
   "metadata": {},
   "outputs": [],
   "source": [
    "def poi_distance_from_pois(poi,df_poi):\n",
    "    return haversine(poi['latitude'],poi['longitude'],df_poi['latitude'],df_poi['longitude'])\n",
    "\n",
    "def poi_neighbors(poi,df_poi,distance_km):\n",
    "    return df_poi[poi_distance_from_pois(poi,df_poi)<distance_km]\n",
    "\n",
    "def update_geo_cov(poi,df_user_review,rec_list_size,business_cover):\n",
    "    user_log_size=len(df_user_review)\n",
    "    neighbors=poi_neighbors(poi,df_user_review,0.1)\n",
    "    num_neighbors=len(neighbors)\n",
    "    vl=1\n",
    "    COVER_OF_POI=user_log_size/rec_list_size\n",
    "    accumulated_cover=0\n",
    "    # Cover calc\n",
    "    if num_neighbors<1:\n",
    "        accumulated_cover=accumulated_cover+COVER_OF_POI\n",
    "    else:\n",
    "        cover_of_neighbor=COVER_OF_POI/num_neighbors\n",
    "        for business_id in neighbors['business_id']:\n",
    "            business_cover[business_id]=business_cover[business_id]+cover_of_neighbor\n",
    "    accumulated_cover=accumulated_cover/user_log_size\n",
    "    # end PR and DP\n",
    "    DP=(accumulated_cover**2)/2\n",
    "    \n",
    "    for business_id in df_user_review['business_id']:\n",
    "        if vl>=business_cover[business_id]:\n",
    "            DP=DP+(vl-business_cover[business_id])**2    \n",
    "    DP_IDEAL=user_log_size+0.5\n",
    "    PR=1-DP/(DP_IDEAL)\n",
    "    \n",
    "    return PR\n",
    "\n",
    "\n"
   ]
  },
  {
   "cell_type": "markdown",
   "metadata": {},
   "source": [
    "# GeoCat"
   ]
  },
  {
   "cell_type": "code",
   "execution_count": 69,
   "metadata": {},
   "outputs": [],
   "source": [
    "def objective_ILD_GC_PR(poi,df_user_review,rec_list,rec_list_size,business_cover,current_proportionality,div_geo_cat_weight,div_weight):\n",
    "    ild_div=objective_ild(poi,rec_list)\n",
    "    gc_div=objective_genre_coverage(poi,rec_list,df_user_review)\n",
    "    delta_proportionality=update_geo_cov(poi,df_user_review,rec_list_size,business_cover.copy())-current_proportionality\n",
    "    if delta_proportionality<0:\n",
    "        delta_proportionality=0\n",
    "    div_cat = gc_div+ild_div/rec_list_size\n",
    "    div_geo = delta_proportionality\n",
    "    div=div_geo_cat_weight*div_geo+(1-div_geo_cat_weight)*div_cat\n",
    "    return poi['score']**(1-div_weight)+div**div_weight"
   ]
  },
  {
   "cell_type": "code",
   "execution_count": 2,
   "metadata": {},
   "outputs": [
    {
     "ename": "NameError",
     "evalue": "name 'users' is not defined",
     "output_type": "error",
     "traceback": [
      "\u001b[0;31m---------------------------------------------------------------------------\u001b[0m",
      "\u001b[0;31mNameError\u001b[0m                                 Traceback (most recent call last)",
      "\u001b[0;32m<ipython-input-2-f19eb3d43f98>\u001b[0m in \u001b[0;36m<module>\u001b[0;34m\u001b[0m\n\u001b[0;32m----> 1\u001b[0;31m \u001b[0;32mfor\u001b[0m \u001b[0muser_id\u001b[0m \u001b[0;32min\u001b[0m \u001b[0musers\u001b[0m\u001b[0;34m:\u001b[0m\u001b[0;34m\u001b[0m\u001b[0;34m\u001b[0m\u001b[0m\n\u001b[0m\u001b[1;32m      2\u001b[0m     \u001b[0mtmp_rec_list\u001b[0m\u001b[0;34m=\u001b[0m\u001b[0mrec\u001b[0m\u001b[0;34m.\u001b[0m\u001b[0mmostpopular\u001b[0m\u001b[0;34m(\u001b[0m\u001b[0mdf_review_training\u001b[0m\u001b[0;34m,\u001b[0m\u001b[0mK\u001b[0m\u001b[0;34m)\u001b[0m\u001b[0;34m\u001b[0m\u001b[0;34m\u001b[0m\u001b[0m\n\u001b[1;32m      3\u001b[0m     \u001b[0mtmp_rec_list\u001b[0m\u001b[0;34m[\u001b[0m\u001b[0;34m'score'\u001b[0m\u001b[0;34m]\u001b[0m\u001b[0;34m=\u001b[0m\u001b[0mtmp_rec_list\u001b[0m\u001b[0;34m[\u001b[0m\u001b[0;34m'score'\u001b[0m\u001b[0;34m]\u001b[0m\u001b[0;34m/\u001b[0m\u001b[0mtmp_rec_list\u001b[0m\u001b[0;34m[\u001b[0m\u001b[0;34m'score'\u001b[0m\u001b[0;34m]\u001b[0m\u001b[0;34m.\u001b[0m\u001b[0mmax\u001b[0m\u001b[0;34m(\u001b[0m\u001b[0;34m)\u001b[0m\u001b[0;34m\u001b[0m\u001b[0;34m\u001b[0m\u001b[0m\n\u001b[1;32m      4\u001b[0m     \u001b[0mprint\u001b[0m\u001b[0;34m(\u001b[0m\u001b[0mtmp_rec_list\u001b[0m\u001b[0;34m)\u001b[0m\u001b[0;34m\u001b[0m\u001b[0;34m\u001b[0m\u001b[0m\n\u001b[1;32m      5\u001b[0m     \u001b[0;32mbreak\u001b[0m\u001b[0;34m\u001b[0m\u001b[0;34m\u001b[0m\u001b[0m\n",
      "\u001b[0;31mNameError\u001b[0m: name 'users' is not defined"
     ]
    }
   ],
   "source": [
    "\n",
    "for user_id in users:\n",
    "    tmp_rec_list=rec.mostpopular(df_review_training,K)\n",
    "    tmp_rec_list['score']=tmp_rec_list['score']/tmp_rec_list['score'].max()\n",
    "    print(tmp_rec_list)\n",
    "    break\n",
    "    # add other columns\n",
    "    tmp_rec_list=pd.merge(tmp_rec_list,df_business,on='business_id').drop_duplicates().reset_index(drop=True)\n",
    "\n",
    "    \n",
    "    # User visits\n",
    "    df_user_review=df_review_training[df_review_training['user_id']==user_id]\n",
    "    #user_log_size=len(df_user_review)\n",
    "    business_cover=dict()\n",
    "    for business_id in df_user_review['business_id'].drop_duplicates().reset_index(drop=True):\n",
    "        business_cover[business_id]=0\n",
    "    # Constants\n",
    "    #COVER_OF_POI=len(df_user_review)/len(tmp_rec_list)\n",
    "    div_geo_cat_weight = 0.5 # beta,this is here because of the work to be done on parameter customization for each user\n",
    "    div_weight = 0.5 # lambda\n",
    "    current_proportionality=0\n",
    "    break\n",
    "    # post-processing for diversification\n",
    "    for i in range(K):\n",
    "        num_current_candidates=len(tmp_rec_list)\n",
    "        poi_to_insert=None\n",
    "        max_objective_value=VERY_SMALL_VALUE\n",
    "        for index,poi_candidate in tmp_rec_list.iterrows():\n",
    "            objective_value=objective_ILD_GC_PR(poi_to_insert,df_user_review,tmp_rec_list,K,\\\n",
    "                                                business_cover,current_proportionality,\\\n",
    "                                               div_geo_cat_weight,div_weight)\n",
    "            \n",
    "            if objective_value > max_objective_value:\n",
    "                max_objective_value=objective_value\n",
    "                poi_to_insert=poi_candidate\n",
    "\n",
    "        if poi_to_insert is not None:\n",
    "            rec_list=rec_list.append(poi_to_insert)\n",
    "            # remove from tmp_rec_list\n",
    "            tmp_rec_list=tmp_rec_list[tmp_rec_list['business_id']!=poi_to_insert['business_id']].reset_index(drop=True)\n",
    "            \n",
    "            current_proportionality=update_geo_cov(poi_to_insert,df_user_review,K,business_cover)\n",
    "            \n",
    "    \n",
    "    print(user_id)\n",
    "    break"
   ]
  }
 ],
 "metadata": {
  "kernelspec": {
   "display_name": "Python 3",
   "language": "python",
   "name": "python3"
  },
  "language_info": {
   "codemirror_mode": {
    "name": "ipython",
    "version": 3
   },
   "file_extension": ".py",
   "mimetype": "text/x-python",
   "name": "python",
   "nbconvert_exporter": "python",
   "pygments_lexer": "ipython3",
   "version": "3.7.4"
  }
 },
 "nbformat": 4,
 "nbformat_minor": 4
}
