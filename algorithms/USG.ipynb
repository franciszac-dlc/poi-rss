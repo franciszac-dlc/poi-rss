{
 "cells": [
  {
   "cell_type": "code",
   "execution_count": 1,
   "metadata": {
    "autoscroll": false,
    "ein.hycell": false,
    "ein.tags": "worksheet-0",
    "slideshow": {
     "slide_type": "-"
    }
   },
   "outputs": [],
   "source": [
    "import numpy as np\n",
    "import pandas as pd\n",
    "import recommenders as rec\n",
    "import networkx as nx\n",
    "import matplotlib.pyplot as plt\n",
    "import areamanager\n",
    "import math\n",
    "import timeit\n",
    "import geo_utils\n",
    "from constants import geocat_constants\n",
    "from constants import experiment_constants\n",
    "from constants import usg_constants\n",
    "from collections import defaultdict\n",
    "from utils import transform_id_to_int\n",
    "def string_to_array(string):\n",
    "    if string == '':\n",
    "        return list()\n",
    "    return eval(string)\n",
    "%matplotlib inline\n",
    "\n",
    "# poi_int_id=df_city_checkin['business_id'].drop_duplicates().reset_index(drop=True).to_dict()\n",
    "# poi_num=len(poi_int_to_id)\n",
    "# user_int_id=df_city_checkin.reset_index().user_id.drop_duplicates().reset_index(drop=True).to_dict()\n",
    "# user_num=len(user_int_to_id)\n",
    "# for i,j in poi_int_id.copy().items():\n",
    "#     poi_int_id[j]=i\n",
    "# for i,j in user_int_id.copy().items():\n",
    "#     user_int_id[j]=i\n",
    "# def user_id_to_int(user_id):\n",
    "#     return user_int_id[user_id]\n",
    "# def poi_id_to_int(user_id):\n",
    "#     return poi_int_id[user_id]\n",
    "\n",
    "CITY=experiment_constants.get_city()"
   ]
  },
  {
   "cell_type": "code",
   "execution_count": 2,
   "metadata": {
    "autoscroll": false,
    "ein.hycell": false,
    "ein.tags": "worksheet-0",
    "slideshow": {
     "slide_type": "-"
    }
   },
   "outputs": [
    {
     "data": {
      "text/html": [
       "<div>\n",
       "<style scoped>\n",
       "    .dataframe tbody tr th:only-of-type {\n",
       "        vertical-align: middle;\n",
       "    }\n",
       "\n",
       "    .dataframe tbody tr th {\n",
       "        vertical-align: top;\n",
       "    }\n",
       "\n",
       "    .dataframe thead th {\n",
       "        text-align: right;\n",
       "    }\n",
       "</style>\n",
       "<table border=\"1\" class=\"dataframe\">\n",
       "  <thead>\n",
       "    <tr style=\"text-align: right;\">\n",
       "      <th></th>\n",
       "      <th>business_id</th>\n",
       "      <th>date</th>\n",
       "      <th>latitude</th>\n",
       "      <th>longitude</th>\n",
       "      <th>categories</th>\n",
       "    </tr>\n",
       "    <tr>\n",
       "      <th>user_id</th>\n",
       "      <th></th>\n",
       "      <th></th>\n",
       "      <th></th>\n",
       "      <th></th>\n",
       "      <th></th>\n",
       "    </tr>\n",
       "  </thead>\n",
       "  <tbody>\n",
       "    <tr>\n",
       "      <th>0</th>\n",
       "      <td>0</td>\n",
       "      <td>2014-11-23 18:53:45</td>\n",
       "      <td>43.084781</td>\n",
       "      <td>-89.376208</td>\n",
       "      <td>[Bars, Breakfast &amp; Brunch, Coffee &amp; Tea]</td>\n",
       "    </tr>\n",
       "    <tr>\n",
       "      <th>0</th>\n",
       "      <td>1</td>\n",
       "      <td>2014-11-23 18:56:31</td>\n",
       "      <td>43.085365</td>\n",
       "      <td>-89.361722</td>\n",
       "      <td>[Cafes, Breakfast &amp; Brunch, Bakeries, Soup]</td>\n",
       "    </tr>\n",
       "    <tr>\n",
       "      <th>0</th>\n",
       "      <td>2</td>\n",
       "      <td>2014-11-23 19:04:55</td>\n",
       "      <td>43.080060</td>\n",
       "      <td>-89.369480</td>\n",
       "      <td>[Breakfast &amp; Brunch, Patisserie/Cake Shop, Bak...</td>\n",
       "    </tr>\n",
       "    <tr>\n",
       "      <th>0</th>\n",
       "      <td>3</td>\n",
       "      <td>2014-11-23 19:06:24</td>\n",
       "      <td>43.081899</td>\n",
       "      <td>-89.365758</td>\n",
       "      <td>[Coffee &amp; Tea, Vegan]</td>\n",
       "    </tr>\n",
       "    <tr>\n",
       "      <th>0</th>\n",
       "      <td>4</td>\n",
       "      <td>2014-11-23 19:35:08</td>\n",
       "      <td>43.074970</td>\n",
       "      <td>-89.381231</td>\n",
       "      <td>[Bars]</td>\n",
       "    </tr>\n",
       "  </tbody>\n",
       "</table>\n",
       "</div>"
      ],
      "text/plain": [
       "         business_id                 date   latitude  longitude  \\\n",
       "user_id                                                           \n",
       "0                  0  2014-11-23 18:53:45  43.084781 -89.376208   \n",
       "0                  1  2014-11-23 18:56:31  43.085365 -89.361722   \n",
       "0                  2  2014-11-23 19:04:55  43.080060 -89.369480   \n",
       "0                  3  2014-11-23 19:06:24  43.081899 -89.365758   \n",
       "0                  4  2014-11-23 19:35:08  43.074970 -89.381231   \n",
       "\n",
       "                                                categories  \n",
       "user_id                                                     \n",
       "0                 [Bars, Breakfast & Brunch, Coffee & Tea]  \n",
       "0              [Cafes, Breakfast & Brunch, Bakeries, Soup]  \n",
       "0        [Breakfast & Brunch, Patisserie/Cake Shop, Bak...  \n",
       "0                                    [Coffee & Tea, Vegan]  \n",
       "0                                                   [Bars]  "
      ]
     },
     "execution_count": 2,
     "metadata": {},
     "output_type": "execute_result"
    }
   ],
   "source": [
    "df_city_checkin=pd.read_csv(\"../data/checkin/cities/train/\"+CITY+\".csv\",converters={'categories':string_to_array})\n",
    "user_int_id,poi_int_id=transform_id_to_int(df_city_checkin)\n",
    "users_id=df_city_checkin['user_id'].drop_duplicates().reset_index(drop=True)\n",
    "\n",
    "user_num=int(len(user_int_id)/2)\n",
    "poi_num=int(len(poi_int_id)/2)\n",
    "# USG uses unique checkins cij = 1 or cij = 0\n",
    "#df_city_checkin=df_city_checkin.drop_duplicates(subset=['user_id','business_id']).reset_index(drop=True)\n",
    "\n",
    "df_city_checkin=df_city_checkin.set_index('user_id')\n",
    "df_city_checkin.head()"
   ]
  },
  {
   "cell_type": "code",
   "execution_count": 3,
   "metadata": {},
   "outputs": [],
   "source": [
    "df_user_friends=pd.read_csv(\"../data/user/\"+CITY+\".csv\",converters={'friends':string_to_array})"
   ]
  },
  {
   "cell_type": "code",
   "execution_count": 39,
   "metadata": {},
   "outputs": [],
   "source": [
    "poi_coos = {}\n",
    "for lid,latlon in df_city_checkin[['business_id','latitude','longitude']].reset_index(drop=True).set_index(\"business_id\").drop_duplicates().iterrows():\n",
    "    poi_coos[lid] = tuple(latlon)"
   ]
  },
  {
   "cell_type": "code",
   "execution_count": 4,
   "metadata": {},
   "outputs": [],
   "source": [
    "# df_poi=pd.read_csv(\"../data/poi.csv\",converters={'categories':string_to_array})\n",
    "# df_poi=df_poi.set_index(\"business_id\")\n",
    "# df_poi.head(1)"
   ]
  },
  {
   "cell_type": "code",
   "execution_count": 5,
   "metadata": {},
   "outputs": [],
   "source": [
    "training_matrix = np.zeros((user_num, poi_num))"
   ]
  },
  {
   "cell_type": "code",
   "execution_count": 6,
   "metadata": {},
   "outputs": [],
   "source": [
    "for user_id,poi_id in df_city_checkin.business_id.iteritems():\n",
    "   # print(user_id,poi_id)\n",
    "    training_matrix[user_id,poi_id]=1"
   ]
  },
  {
   "cell_type": "code",
   "execution_count": 7,
   "metadata": {},
   "outputs": [],
   "source": [
    "sim=training_matrix.dot(training_matrix.T)"
   ]
  },
  {
   "cell_type": "code",
   "execution_count": 8,
   "metadata": {},
   "outputs": [],
   "source": [
    "norms=[np.linalg.norm(training_matrix[i]) for i in range(training_matrix.shape[0])]"
   ]
  },
  {
   "cell_type": "code",
   "execution_count": 9,
   "metadata": {},
   "outputs": [],
   "source": [
    "for i in range(training_matrix.shape[0]):\n",
    "    sim[i][i] = 0.0\n",
    "    for j in range(i+1, training_matrix.shape[0]):\n",
    "        sim[i][j] /= (norms[i] * norms[j])\n",
    "        sim[j][i] /= (norms[i] * norms[j])"
   ]
  },
  {
   "cell_type": "code",
   "execution_count": 10,
   "metadata": {},
   "outputs": [],
   "source": [
    "social_relations = defaultdict(list)\n",
    "for user_id,friends in pd.read_csv(\"../data/user/\"+CITY+\".csv\",converters={'friends':string_to_array}).set_index(\"user_id\").friends.iteritems():\n",
    "    social_relations[user_int_id[user_id]]=[user_int_id[uid] for uid in friends]"
   ]
  },
  {
   "cell_type": "code",
   "execution_count": 20,
   "metadata": {},
   "outputs": [],
   "source": [
    "social_proximity = defaultdict(list)\n",
    "check_in_matrix=training_matrix\n",
    "for uid in social_relations:\n",
    "    for fid in social_relations[uid]:\n",
    "        if uid < fid:\n",
    "            u_social_neighbors = set(social_relations[uid])\n",
    "            f_social_neighbors = set(social_relations[fid])\n",
    "            jaccard_friend = (1.0 * len(u_social_neighbors.intersection(f_social_neighbors)) /\n",
    "                              len(u_social_neighbors.union(f_social_neighbors)))\n",
    "\n",
    "            u_check_in_neighbors = set(check_in_matrix[uid, :].nonzero()[0])\n",
    "            f_check_in_neighbors = set(check_in_matrix[fid, :].nonzero()[0])\n",
    "            jaccard_check_in = (1.0 * len(u_check_in_neighbors.intersection(f_check_in_neighbors)) /\n",
    "                                len(u_check_in_neighbors.union(f_check_in_neighbors)))\n",
    "            if jaccard_friend > 0 and jaccard_check_in > 0:\n",
    "                social_proximity[uid].append([fid, jaccard_friend, jaccard_check_in])\n"
   ]
  },
  {
   "cell_type": "code",
   "execution_count": null,
   "metadata": {},
   "outputs": [],
   "source": []
  },
  {
   "cell_type": "markdown",
   "metadata": {
    "ein.tags": "worksheet-0",
    "slideshow": {
     "slide_type": "-"
    }
   },
   "source": [
    "# U: preference\n",
    "\n",
    "$CosineSimilarity = cos(\\pmb x, \\pmb y) = \\frac {\\pmb x \\cdot \\pmb y}{||\\pmb x|| \\cdot ||\\pmb y||}$"
   ]
  },
  {
   "cell_type": "code",
   "execution_count": 3,
   "metadata": {
    "autoscroll": false,
    "ein.hycell": false,
    "ein.tags": "worksheet-0",
    "slideshow": {
     "slide_type": "-"
    }
   },
   "outputs": [],
   "source": [
    "def user_similarity(user_checkin_1,user_checkin_2):\n",
    "    common_checkin=pd.merge(user_checkin_1,user_checkin_2,on='business_id')\n",
    "    return common_checkin.date_x.count()/(math.sqrt(user_checkin_1.date.count())\n",
    "                                   *math.sqrt(user_checkin_2.date.count()))\n",
    "\n",
    "# user_similarity(df_city_checkin.loc['46TNf-5T5EcNFRJPYv_nrw'],\n",
    "#                 df_city_checkin.loc['56iEnLi8jR--2ranjPSQ4w'])"
   ]
  },
  {
   "cell_type": "markdown",
   "metadata": {
    "ein.tags": "worksheet-0",
    "slideshow": {
     "slide_type": "-"
    }
   },
   "source": [
    "$\\#df\\_user\\_similarity=\\frac{\\#usuarios\\cdot (\\#usuarios-1)}{2}=\\sum_{i=1}^{\\#usuarios}{i}$"
   ]
  },
  {
   "cell_type": "code",
   "execution_count": 4,
   "metadata": {},
   "outputs": [
    {
     "name": "stdout",
     "output_type": "stream",
     "text": [
      "1022 521731.0\n"
     ]
    }
   ],
   "source": [
    "print(users_id.count(),users_id.count()*(users_id.count()-1)/2)"
   ]
  },
  {
   "cell_type": "code",
   "execution_count": 5,
   "metadata": {
    "autoscroll": false,
    "ein.hycell": false,
    "ein.tags": "worksheet-0",
    "slideshow": {
     "slide_type": "-"
    }
   },
   "outputs": [
    {
     "name": "stdout",
     "output_type": "stream",
     "text": [
      "0.0\n",
      "0.009784735812133072\n",
      "0.019569471624266144\n",
      "0.029354207436399216\n",
      "0.03913894324853229\n",
      "0.04892367906066536\n",
      "0.05870841487279843\n",
      "0.0684931506849315\n",
      "0.07827788649706457\n",
      "0.08806262230919765\n",
      "0.09784735812133072\n",
      "0.10763209393346379\n",
      "0.11741682974559686\n",
      "0.12720156555772993\n",
      "0.136986301369863\n",
      "0.14677103718199608\n",
      "0.15655577299412915\n",
      "0.16634050880626222\n",
      "0.1761252446183953\n",
      "0.18590998043052837\n",
      "0.19569471624266144\n",
      "0.2054794520547945\n",
      "0.21526418786692758\n",
      "0.22504892367906065\n",
      "0.23483365949119372\n",
      "0.2446183953033268\n",
      "0.25440313111545987\n",
      "0.26418786692759294\n",
      "0.273972602739726\n",
      "0.2837573385518591\n",
      "0.29354207436399216\n",
      "0.30332681017612523\n",
      "0.3131115459882583\n",
      "0.32289628180039137\n",
      "0.33268101761252444\n",
      "0.3424657534246575\n",
      "0.3522504892367906\n",
      "0.36203522504892366\n",
      "0.37181996086105673\n"
     ]
    },
    {
     "ename": "KeyboardInterrupt",
     "evalue": "",
     "output_type": "error",
     "traceback": [
      "\u001b[0;31m---------------------------------------------------------------------------\u001b[0m",
      "\u001b[0;31mKeyboardInterrupt\u001b[0m                         Traceback (most recent call last)",
      "\u001b[0;32m<ipython-input-5-5d7b47642885>\u001b[0m in \u001b[0;36m<module>\u001b[0;34m\u001b[0m\n\u001b[1;32m     17\u001b[0m         \u001b[0;31m#print(df_user_checkin_1)\u001b[0m\u001b[0;34m\u001b[0m\u001b[0;34m\u001b[0m\u001b[0;34m\u001b[0m\u001b[0m\n\u001b[1;32m     18\u001b[0m         \u001b[0msim\u001b[0m\u001b[0;34m=\u001b[0m\u001b[0muser_similarity\u001b[0m\u001b[0;34m(\u001b[0m\u001b[0mdf_user_checkin_1\u001b[0m\u001b[0;34m,\u001b[0m\u001b[0mdf_user_checkin_2\u001b[0m\u001b[0;34m)\u001b[0m\u001b[0;34m\u001b[0m\u001b[0;34m\u001b[0m\u001b[0m\n\u001b[0;32m---> 19\u001b[0;31m         \u001b[0mdf_user_similarity\u001b[0m\u001b[0;34m=\u001b[0m\u001b[0mdf_user_similarity\u001b[0m\u001b[0;34m.\u001b[0m\u001b[0mappend\u001b[0m\u001b[0;34m(\u001b[0m\u001b[0;34m{\u001b[0m\u001b[0;34m'user_id_1'\u001b[0m\u001b[0;34m:\u001b[0m\u001b[0muser_id_1\u001b[0m\u001b[0;34m,\u001b[0m\u001b[0;34m'user_id_2'\u001b[0m\u001b[0;34m:\u001b[0m\u001b[0muser_id_2\u001b[0m\u001b[0;34m,\u001b[0m\u001b[0;34m'similarity'\u001b[0m\u001b[0;34m:\u001b[0m\u001b[0msim\u001b[0m\u001b[0;34m}\u001b[0m\u001b[0;34m,\u001b[0m\u001b[0mignore_index\u001b[0m\u001b[0;34m=\u001b[0m\u001b[0;32mTrue\u001b[0m\u001b[0;34m)\u001b[0m\u001b[0;34m\u001b[0m\u001b[0;34m\u001b[0m\u001b[0m\n\u001b[0m\u001b[1;32m     20\u001b[0m \u001b[0;34m\u001b[0m\u001b[0m\n\u001b[1;32m     21\u001b[0m     \u001b[0mdf_city_checkin\u001b[0m\u001b[0;34m=\u001b[0m\u001b[0mdf_city_checkin\u001b[0m\u001b[0;34m.\u001b[0m\u001b[0mloc\u001b[0m\u001b[0;34m[\u001b[0m\u001b[0musers_id_removable\u001b[0m\u001b[0;34m]\u001b[0m\u001b[0;34m\u001b[0m\u001b[0;34m\u001b[0m\u001b[0m\n",
      "\u001b[0;32m/usr/lib/python3.7/site-packages/pandas/core/frame.py\u001b[0m in \u001b[0;36mappend\u001b[0;34m(self, other, ignore_index, verify_integrity, sort)\u001b[0m\n\u001b[1;32m   7096\u001b[0m                 \u001b[0mcolumns\u001b[0m\u001b[0;34m=\u001b[0m\u001b[0mcombined_columns\u001b[0m\u001b[0;34m,\u001b[0m\u001b[0;34m\u001b[0m\u001b[0;34m\u001b[0m\u001b[0m\n\u001b[1;32m   7097\u001b[0m             )\n\u001b[0;32m-> 7098\u001b[0;31m             \u001b[0mother\u001b[0m \u001b[0;34m=\u001b[0m \u001b[0mother\u001b[0m\u001b[0;34m.\u001b[0m\u001b[0m_convert\u001b[0m\u001b[0;34m(\u001b[0m\u001b[0mdatetime\u001b[0m\u001b[0;34m=\u001b[0m\u001b[0;32mTrue\u001b[0m\u001b[0;34m,\u001b[0m \u001b[0mtimedelta\u001b[0m\u001b[0;34m=\u001b[0m\u001b[0;32mTrue\u001b[0m\u001b[0;34m)\u001b[0m\u001b[0;34m\u001b[0m\u001b[0;34m\u001b[0m\u001b[0m\n\u001b[0m\u001b[1;32m   7099\u001b[0m             \u001b[0;32mif\u001b[0m \u001b[0;32mnot\u001b[0m \u001b[0mself\u001b[0m\u001b[0;34m.\u001b[0m\u001b[0mcolumns\u001b[0m\u001b[0;34m.\u001b[0m\u001b[0mequals\u001b[0m\u001b[0;34m(\u001b[0m\u001b[0mcombined_columns\u001b[0m\u001b[0;34m)\u001b[0m\u001b[0;34m:\u001b[0m\u001b[0;34m\u001b[0m\u001b[0;34m\u001b[0m\u001b[0m\n\u001b[1;32m   7100\u001b[0m                 \u001b[0mself\u001b[0m \u001b[0;34m=\u001b[0m \u001b[0mself\u001b[0m\u001b[0;34m.\u001b[0m\u001b[0mreindex\u001b[0m\u001b[0;34m(\u001b[0m\u001b[0mcolumns\u001b[0m\u001b[0;34m=\u001b[0m\u001b[0mcombined_columns\u001b[0m\u001b[0;34m)\u001b[0m\u001b[0;34m\u001b[0m\u001b[0;34m\u001b[0m\u001b[0m\n",
      "\u001b[0;32m/usr/lib/python3.7/site-packages/pandas/core/generic.py\u001b[0m in \u001b[0;36m_convert\u001b[0;34m(self, datetime, numeric, timedelta, coerce, copy)\u001b[0m\n\u001b[1;32m   6045\u001b[0m                 \u001b[0mtimedelta\u001b[0m\u001b[0;34m=\u001b[0m\u001b[0mtimedelta\u001b[0m\u001b[0;34m,\u001b[0m\u001b[0;34m\u001b[0m\u001b[0;34m\u001b[0m\u001b[0m\n\u001b[1;32m   6046\u001b[0m                 \u001b[0mcoerce\u001b[0m\u001b[0;34m=\u001b[0m\u001b[0mcoerce\u001b[0m\u001b[0;34m,\u001b[0m\u001b[0;34m\u001b[0m\u001b[0;34m\u001b[0m\u001b[0m\n\u001b[0;32m-> 6047\u001b[0;31m                 \u001b[0mcopy\u001b[0m\u001b[0;34m=\u001b[0m\u001b[0mcopy\u001b[0m\u001b[0;34m,\u001b[0m\u001b[0;34m\u001b[0m\u001b[0;34m\u001b[0m\u001b[0m\n\u001b[0m\u001b[1;32m   6048\u001b[0m             )\n\u001b[1;32m   6049\u001b[0m         ).__finalize__(self)\n",
      "\u001b[0;32m/usr/lib/python3.7/site-packages/pandas/core/internals/managers.py\u001b[0m in \u001b[0;36mconvert\u001b[0;34m(self, **kwargs)\u001b[0m\n\u001b[1;32m    582\u001b[0m \u001b[0;34m\u001b[0m\u001b[0m\n\u001b[1;32m    583\u001b[0m     \u001b[0;32mdef\u001b[0m \u001b[0mconvert\u001b[0m\u001b[0;34m(\u001b[0m\u001b[0mself\u001b[0m\u001b[0;34m,\u001b[0m \u001b[0;34m**\u001b[0m\u001b[0mkwargs\u001b[0m\u001b[0;34m)\u001b[0m\u001b[0;34m:\u001b[0m\u001b[0;34m\u001b[0m\u001b[0;34m\u001b[0m\u001b[0m\n\u001b[0;32m--> 584\u001b[0;31m         \u001b[0;32mreturn\u001b[0m \u001b[0mself\u001b[0m\u001b[0;34m.\u001b[0m\u001b[0mapply\u001b[0m\u001b[0;34m(\u001b[0m\u001b[0;34m\"convert\"\u001b[0m\u001b[0;34m,\u001b[0m \u001b[0;34m**\u001b[0m\u001b[0mkwargs\u001b[0m\u001b[0;34m)\u001b[0m\u001b[0;34m\u001b[0m\u001b[0;34m\u001b[0m\u001b[0m\n\u001b[0m\u001b[1;32m    585\u001b[0m \u001b[0;34m\u001b[0m\u001b[0m\n\u001b[1;32m    586\u001b[0m     \u001b[0;32mdef\u001b[0m \u001b[0mreplace\u001b[0m\u001b[0;34m(\u001b[0m\u001b[0mself\u001b[0m\u001b[0;34m,\u001b[0m \u001b[0mvalue\u001b[0m\u001b[0;34m,\u001b[0m \u001b[0;34m**\u001b[0m\u001b[0mkwargs\u001b[0m\u001b[0;34m)\u001b[0m\u001b[0;34m:\u001b[0m\u001b[0;34m\u001b[0m\u001b[0;34m\u001b[0m\u001b[0m\n",
      "\u001b[0;32m/usr/lib/python3.7/site-packages/pandas/core/internals/managers.py\u001b[0m in \u001b[0;36mapply\u001b[0;34m(self, f, axes, filter, do_integrity_check, consolidate, **kwargs)\u001b[0m\n\u001b[1;32m    436\u001b[0m                     \u001b[0mkwargs\u001b[0m\u001b[0;34m[\u001b[0m\u001b[0mk\u001b[0m\u001b[0;34m]\u001b[0m \u001b[0;34m=\u001b[0m \u001b[0mobj\u001b[0m\u001b[0;34m.\u001b[0m\u001b[0mreindex\u001b[0m\u001b[0;34m(\u001b[0m\u001b[0mb_items\u001b[0m\u001b[0;34m,\u001b[0m \u001b[0maxis\u001b[0m\u001b[0;34m=\u001b[0m\u001b[0maxis\u001b[0m\u001b[0;34m,\u001b[0m \u001b[0mcopy\u001b[0m\u001b[0;34m=\u001b[0m\u001b[0malign_copy\u001b[0m\u001b[0;34m)\u001b[0m\u001b[0;34m\u001b[0m\u001b[0;34m\u001b[0m\u001b[0m\n\u001b[1;32m    437\u001b[0m \u001b[0;34m\u001b[0m\u001b[0m\n\u001b[0;32m--> 438\u001b[0;31m             \u001b[0mapplied\u001b[0m \u001b[0;34m=\u001b[0m \u001b[0mgetattr\u001b[0m\u001b[0;34m(\u001b[0m\u001b[0mb\u001b[0m\u001b[0;34m,\u001b[0m \u001b[0mf\u001b[0m\u001b[0;34m)\u001b[0m\u001b[0;34m(\u001b[0m\u001b[0;34m**\u001b[0m\u001b[0mkwargs\u001b[0m\u001b[0;34m)\u001b[0m\u001b[0;34m\u001b[0m\u001b[0;34m\u001b[0m\u001b[0m\n\u001b[0m\u001b[1;32m    439\u001b[0m             \u001b[0mresult_blocks\u001b[0m \u001b[0;34m=\u001b[0m \u001b[0m_extend_blocks\u001b[0m\u001b[0;34m(\u001b[0m\u001b[0mapplied\u001b[0m\u001b[0;34m,\u001b[0m \u001b[0mresult_blocks\u001b[0m\u001b[0;34m)\u001b[0m\u001b[0;34m\u001b[0m\u001b[0;34m\u001b[0m\u001b[0m\n\u001b[1;32m    440\u001b[0m \u001b[0;34m\u001b[0m\u001b[0m\n",
      "\u001b[0;32m/usr/lib/python3.7/site-packages/pandas/core/internals/blocks.py\u001b[0m in \u001b[0;36mconvert\u001b[0;34m(self, *args, **kwargs)\u001b[0m\n\u001b[1;32m   2819\u001b[0m \u001b[0;34m\u001b[0m\u001b[0m\n\u001b[1;32m   2820\u001b[0m         \u001b[0;32mif\u001b[0m \u001b[0mby_item\u001b[0m \u001b[0;32mand\u001b[0m \u001b[0;32mnot\u001b[0m \u001b[0mself\u001b[0m\u001b[0;34m.\u001b[0m\u001b[0m_is_single_block\u001b[0m\u001b[0;34m:\u001b[0m\u001b[0;34m\u001b[0m\u001b[0;34m\u001b[0m\u001b[0m\n\u001b[0;32m-> 2821\u001b[0;31m             \u001b[0mblocks\u001b[0m \u001b[0;34m=\u001b[0m \u001b[0mself\u001b[0m\u001b[0;34m.\u001b[0m\u001b[0msplit_and_operate\u001b[0m\u001b[0;34m(\u001b[0m\u001b[0;32mNone\u001b[0m\u001b[0;34m,\u001b[0m \u001b[0mf\u001b[0m\u001b[0;34m,\u001b[0m \u001b[0;32mFalse\u001b[0m\u001b[0;34m)\u001b[0m\u001b[0;34m\u001b[0m\u001b[0;34m\u001b[0m\u001b[0m\n\u001b[0m\u001b[1;32m   2822\u001b[0m         \u001b[0;32melse\u001b[0m\u001b[0;34m:\u001b[0m\u001b[0;34m\u001b[0m\u001b[0;34m\u001b[0m\u001b[0m\n\u001b[1;32m   2823\u001b[0m             \u001b[0mvalues\u001b[0m \u001b[0;34m=\u001b[0m \u001b[0mf\u001b[0m\u001b[0;34m(\u001b[0m\u001b[0;32mNone\u001b[0m\u001b[0;34m,\u001b[0m \u001b[0mself\u001b[0m\u001b[0;34m.\u001b[0m\u001b[0mvalues\u001b[0m\u001b[0;34m.\u001b[0m\u001b[0mravel\u001b[0m\u001b[0;34m(\u001b[0m\u001b[0;34m)\u001b[0m\u001b[0;34m,\u001b[0m \u001b[0;32mNone\u001b[0m\u001b[0;34m)\u001b[0m\u001b[0;34m\u001b[0m\u001b[0;34m\u001b[0m\u001b[0m\n",
      "\u001b[0;32m/usr/lib/python3.7/site-packages/pandas/core/internals/blocks.py\u001b[0m in \u001b[0;36msplit_and_operate\u001b[0;34m(self, mask, f, inplace)\u001b[0m\n\u001b[1;32m    493\u001b[0m                 \u001b[0mnv\u001b[0m \u001b[0;34m=\u001b[0m \u001b[0mv\u001b[0m \u001b[0;32mif\u001b[0m \u001b[0minplace\u001b[0m \u001b[0;32melse\u001b[0m \u001b[0mv\u001b[0m\u001b[0;34m.\u001b[0m\u001b[0mcopy\u001b[0m\u001b[0;34m(\u001b[0m\u001b[0;34m)\u001b[0m\u001b[0;34m\u001b[0m\u001b[0;34m\u001b[0m\u001b[0m\n\u001b[1;32m    494\u001b[0m \u001b[0;34m\u001b[0m\u001b[0m\n\u001b[0;32m--> 495\u001b[0;31m             \u001b[0mblock\u001b[0m \u001b[0;34m=\u001b[0m \u001b[0mmake_a_block\u001b[0m\u001b[0;34m(\u001b[0m\u001b[0mnv\u001b[0m\u001b[0;34m,\u001b[0m \u001b[0;34m[\u001b[0m\u001b[0mref_loc\u001b[0m\u001b[0;34m]\u001b[0m\u001b[0;34m)\u001b[0m\u001b[0;34m\u001b[0m\u001b[0;34m\u001b[0m\u001b[0m\n\u001b[0m\u001b[1;32m    496\u001b[0m             \u001b[0mnew_blocks\u001b[0m\u001b[0;34m.\u001b[0m\u001b[0mappend\u001b[0m\u001b[0;34m(\u001b[0m\u001b[0mblock\u001b[0m\u001b[0;34m)\u001b[0m\u001b[0;34m\u001b[0m\u001b[0;34m\u001b[0m\u001b[0m\n\u001b[1;32m    497\u001b[0m \u001b[0;34m\u001b[0m\u001b[0m\n",
      "\u001b[0;32m/usr/lib/python3.7/site-packages/pandas/core/internals/blocks.py\u001b[0m in \u001b[0;36mmake_a_block\u001b[0;34m(nv, ref_loc)\u001b[0m\n\u001b[1;32m    469\u001b[0m                 \u001b[0;31m# a block out of the result.\u001b[0m\u001b[0;34m\u001b[0m\u001b[0;34m\u001b[0m\u001b[0;34m\u001b[0m\u001b[0m\n\u001b[1;32m    470\u001b[0m                 \u001b[0mnv\u001b[0m \u001b[0;34m=\u001b[0m \u001b[0m_block_shape\u001b[0m\u001b[0;34m(\u001b[0m\u001b[0mnv\u001b[0m\u001b[0;34m,\u001b[0m \u001b[0mndim\u001b[0m\u001b[0;34m=\u001b[0m\u001b[0mself\u001b[0m\u001b[0;34m.\u001b[0m\u001b[0mndim\u001b[0m\u001b[0;34m)\u001b[0m\u001b[0;34m\u001b[0m\u001b[0;34m\u001b[0m\u001b[0m\n\u001b[0;32m--> 471\u001b[0;31m                 \u001b[0mblock\u001b[0m \u001b[0;34m=\u001b[0m \u001b[0mself\u001b[0m\u001b[0;34m.\u001b[0m\u001b[0mmake_block\u001b[0m\u001b[0;34m(\u001b[0m\u001b[0mvalues\u001b[0m\u001b[0;34m=\u001b[0m\u001b[0mnv\u001b[0m\u001b[0;34m,\u001b[0m \u001b[0mplacement\u001b[0m\u001b[0;34m=\u001b[0m\u001b[0mref_loc\u001b[0m\u001b[0;34m)\u001b[0m\u001b[0;34m\u001b[0m\u001b[0;34m\u001b[0m\u001b[0m\n\u001b[0m\u001b[1;32m    472\u001b[0m             \u001b[0;32mreturn\u001b[0m \u001b[0mblock\u001b[0m\u001b[0;34m\u001b[0m\u001b[0;34m\u001b[0m\u001b[0m\n\u001b[1;32m    473\u001b[0m \u001b[0;34m\u001b[0m\u001b[0m\n",
      "\u001b[0;32m/usr/lib/python3.7/site-packages/pandas/core/internals/blocks.py\u001b[0m in \u001b[0;36mmake_block\u001b[0;34m(self, values, placement)\u001b[0m\n\u001b[1;32m    260\u001b[0m         \u001b[0;32mnot\u001b[0m \u001b[0mspecified\u001b[0m\u001b[0;34m\u001b[0m\u001b[0;34m\u001b[0m\u001b[0m\n\u001b[1;32m    261\u001b[0m         \"\"\"\n\u001b[0;32m--> 262\u001b[0;31m         \u001b[0;32mif\u001b[0m \u001b[0mplacement\u001b[0m \u001b[0;32mis\u001b[0m \u001b[0;32mNone\u001b[0m\u001b[0;34m:\u001b[0m\u001b[0;34m\u001b[0m\u001b[0;34m\u001b[0m\u001b[0m\n\u001b[0m\u001b[1;32m    263\u001b[0m             \u001b[0mplacement\u001b[0m \u001b[0;34m=\u001b[0m \u001b[0mself\u001b[0m\u001b[0;34m.\u001b[0m\u001b[0mmgr_locs\u001b[0m\u001b[0;34m\u001b[0m\u001b[0;34m\u001b[0m\u001b[0m\n\u001b[1;32m    264\u001b[0m \u001b[0;34m\u001b[0m\u001b[0m\n",
      "\u001b[0;31mKeyboardInterrupt\u001b[0m: "
     ]
    }
   ],
   "source": [
    "df_user_similarity=pd.DataFrame(columns=['user_id_1','user_id_2','similarity'])\n",
    "i=0\n",
    "start = timeit.default_timer()\n",
    "users_id_removable=users_id.copy()\n",
    "# loop sobre os ids dos usuarios\n",
    "for index_1,user_id_1 in users_id.iteritems():\n",
    "    # lista de checkins do usuario\n",
    "    df_user_checkin_1=df_city_checkin.loc[[user_id_1]]\n",
    "    # Exclui o proprio usuario\n",
    "    users_id_removable.drop(index_1,inplace=True)\n",
    "    for index_2,user_id_2 in users_id_removable.iteritems():\n",
    "#         if len(df_user_similarity[((df_user_similarity.user_id_1==user_id_1) | (df_user_similarity.user_id_1==user_id_2)) &\n",
    "#                         ((df_user_similarity.user_id_2==user_id_1) | (df_user_similarity.user_id_2==user_id_2))])!=0:\n",
    "#             continue\n",
    "            \n",
    "        df_user_checkin_2=df_city_checkin.loc[[user_id_2]]\n",
    "        #print(df_user_checkin_1)\n",
    "        sim=user_similarity(df_user_checkin_1,df_user_checkin_2)\n",
    "        df_user_similarity=df_user_similarity.append({'user_id_1':user_id_1,'user_id_2':user_id_2,'similarity':sim},ignore_index=True)\n",
    "    \n",
    "    df_city_checkin=df_city_checkin.loc[users_id_removable]\n",
    "    \n",
    "    if i % 10 == 0:\n",
    "        print(i/users_id.count())\n",
    "    i=i+1\n",
    "\n",
    "stop = timeit.default_timer()\n",
    "print('Time:', stop - start)\n",
    "df_user_similarity"
   ]
  },
  {
   "cell_type": "code",
   "execution_count": null,
   "metadata": {},
   "outputs": [],
   "source": [
    "df_user_similarity.to_csv(\"../data/usg/user_similarity/\"+CITY+\".csv\",index=False)"
   ]
  },
  {
   "cell_type": "code",
   "execution_count": null,
   "metadata": {
    "autoscroll": false,
    "ein.hycell": false,
    "ein.tags": "worksheet-0",
    "slideshow": {
     "slide_type": "-"
    }
   },
   "outputs": [],
   "source": [
    "def user_cf(user_id,user_checkin,business_id,df_checkin):\n",
    "    df_business_checkin=df_checkin[df_checkin['business_id']==business_id]\n",
    "    df_checkin=df_checkin[df_city_checkin['user_id']!=user_id]\n",
    "    return df_checkin.apply(lambda checkin: user_similarity(user_checkin,df_checkin[df_checkin['user_id']==checkin['user_id']]),axis=1)\n",
    "\n",
    "user_cf('46TNf-5T5EcNFRJPYv_nrw',df_city_checkin[df_city_checkin.user_id=='46TNf-5T5EcNFRJPYv_nrw'],'ujmEBvifdJM6h6RLv4wQIg',df_city_checkin)"
   ]
  },
  {
   "cell_type": "code",
   "execution_count": null,
   "metadata": {
    "autoscroll": false,
    "ein.hycell": false,
    "ein.tags": "worksheet-0",
    "slideshow": {
     "slide_type": "-"
    }
   },
   "outputs": [],
   "source": [
    "for index,user_id in users_id.iteritems():\n",
    "    print(user_id)\n",
    "    df_user_checkin=df_city_checkin[df_city_checkin[.index]==user_id]\n",
    "    print(df_user_checkin)\n",
    "    break"
   ]
  },
  {
   "cell_type": "markdown",
   "metadata": {
    "ein.tags": "worksheet-0",
    "slideshow": {
     "slide_type": "-"
    }
   },
   "source": [
    "# S: social"
   ]
  },
  {
   "cell_type": "code",
   "execution_count": 7,
   "metadata": {
    "autoscroll": false,
    "ein.hycell": false,
    "ein.tags": "worksheet-0",
    "slideshow": {
     "slide_type": "-"
    }
   },
   "outputs": [],
   "source": [
    "df_city_user=pd.read_csv(\"../data/user/\"+CITY+\".csv\",converters={'friends':string_to_array})"
   ]
  },
  {
   "cell_type": "code",
   "execution_count": 8,
   "metadata": {
    "autoscroll": false,
    "ein.hycell": false,
    "ein.tags": "worksheet-0",
    "slideshow": {
     "slide_type": "-"
    }
   },
   "outputs": [
    {
     "data": {
      "text/html": [
       "<div>\n",
       "<style scoped>\n",
       "    .dataframe tbody tr th:only-of-type {\n",
       "        vertical-align: middle;\n",
       "    }\n",
       "\n",
       "    .dataframe tbody tr th {\n",
       "        vertical-align: top;\n",
       "    }\n",
       "\n",
       "    .dataframe thead th {\n",
       "        text-align: right;\n",
       "    }\n",
       "</style>\n",
       "<table border=\"1\" class=\"dataframe\">\n",
       "  <thead>\n",
       "    <tr style=\"text-align: right;\">\n",
       "      <th></th>\n",
       "      <th>friends</th>\n",
       "    </tr>\n",
       "    <tr>\n",
       "      <th>user_id</th>\n",
       "      <th></th>\n",
       "    </tr>\n",
       "  </thead>\n",
       "  <tbody>\n",
       "    <tr>\n",
       "      <th>scaxsfOynKUZEijn_UCTkg</th>\n",
       "      <td>[XmUoErm8KkfP_ti71nXgAg, JOd9BEaOuPRGEc5LOFB6M...</td>\n",
       "    </tr>\n",
       "    <tr>\n",
       "      <th>CY9iLsE2z_yLhLqJdD1WGw</th>\n",
       "      <td>[5oM7gXmeX7s6T1_KlL30yQ, wm61ALFiZ-7BCbX57evHP...</td>\n",
       "    </tr>\n",
       "    <tr>\n",
       "      <th>HNycc5PctOiR2PXb-TFCIQ</th>\n",
       "      <td>[btwW4jGa1zFCBu5q5cCnEg, BVHZ6w_YgA1lt8Rnq4NSC...</td>\n",
       "    </tr>\n",
       "    <tr>\n",
       "      <th>claV_wXYEgojvBrRodrSGQ</th>\n",
       "      <td>[b-0Kk5zzCdJuU30xAVzZdQ, wd3xoNaDLib8dhQ7BxUl6...</td>\n",
       "    </tr>\n",
       "    <tr>\n",
       "      <th>XK1Qd9M8XjgoqT1FLfW6bQ</th>\n",
       "      <td>[d5WLqmTMvmL7-RmUDVKqqQ, XmUoErm8KkfP_ti71nXgA...</td>\n",
       "    </tr>\n",
       "  </tbody>\n",
       "</table>\n",
       "</div>"
      ],
      "text/plain": [
       "                                                                  friends\n",
       "user_id                                                                  \n",
       "scaxsfOynKUZEijn_UCTkg  [XmUoErm8KkfP_ti71nXgAg, JOd9BEaOuPRGEc5LOFB6M...\n",
       "CY9iLsE2z_yLhLqJdD1WGw  [5oM7gXmeX7s6T1_KlL30yQ, wm61ALFiZ-7BCbX57evHP...\n",
       "HNycc5PctOiR2PXb-TFCIQ  [btwW4jGa1zFCBu5q5cCnEg, BVHZ6w_YgA1lt8Rnq4NSC...\n",
       "claV_wXYEgojvBrRodrSGQ  [b-0Kk5zzCdJuU30xAVzZdQ, wd3xoNaDLib8dhQ7BxUl6...\n",
       "XK1Qd9M8XjgoqT1FLfW6bQ  [d5WLqmTMvmL7-RmUDVKqqQ, XmUoErm8KkfP_ti71nXgA..."
      ]
     },
     "execution_count": 8,
     "metadata": {},
     "output_type": "execute_result"
    }
   ],
   "source": [
    "df_city_user.set_index('user_id',inplace=True)\n",
    "\n",
    "df_city_user.head()"
   ]
  },
  {
   "cell_type": "markdown",
   "metadata": {
    "ein.tags": "worksheet-0",
    "slideshow": {
     "slide_type": "-"
    }
   },
   "source": [
    "$SI_{k,i}=\\eta\\cdot\\frac{|F_k\\cap F_i|}{|F_k\\cup F_i|} + (1-\\eta)\\cdot\\frac{|L_k\\cap L_i|}{|L_k\\cup L_i|}$\n",
    "\n",
    "$F_k:$ is the friend set of user k\n",
    "\n",
    "$L_k:$ denote the POI set of user k\n",
    "\n",
    "$\\eta:$ tuning parameter, smaller than 0.05 gives optimal result.(optimal setting)"
   ]
  },
  {
   "cell_type": "code",
   "execution_count": 9,
   "metadata": {
    "autoscroll": false,
    "ein.hycell": false,
    "ein.tags": "worksheet-0",
    "slideshow": {
     "slide_type": "-"
    }
   },
   "outputs": [],
   "source": [
    "def social_influence(df_friends_1,df_friends_2,df_user_poi_1,df_user_poi_2,tuning_parameter):\n",
    "    common_friends=len(pd.merge(df_friends_1,df_friends_2))\n",
    "    union_friends=len(pd.concat([df_friends_1,df_friends_2]).drop_duplicates())\n",
    "    common_pois=len(pd.merge(df_user_poi_1,df_user_poi_2))\n",
    "    union_pois=len(pd.concat([df_user_poi_1,df_user_poi_2]).drop_duplicates())\n",
    "    return tuning_parameter*common_friends/union_friends+(1-tuning_parameter)*common_pois/union_pois\n",
    "# df_friends_1=df_city_user.loc['56iEnLi8jR--2ranjPSQ4w']\n",
    "# df_friends_2=df_city_user.loc['Nw6Jza_cb0aqd4PT769Vzw']\n",
    "\n",
    "# df_friends_1=pd.DataFrame(df_friends_1['friends'],columns=['user_id'])\n",
    "# df_friends_2=pd.DataFrame(df_friends_2['friends'],columns=['user_id'])\n",
    "# df_user_poi_1=df_city_checkin.loc['56iEnLi8jR--2ranjPSQ4w']['business_id'].drop_duplicates()\n",
    "# df_user_poi_2=df_city_checkin.loc['Nw6Jza_cb0aqd4PT769Vzw']['business_id'].drop_duplicates()\n",
    "\n",
    "\n",
    "# social_influence(df_friends_1,df_friends_2,df_user_poi_1,df_user_poi_2,usg_constants.get_eta())"
   ]
  },
  {
   "cell_type": "code",
   "execution_count": 10,
   "metadata": {},
   "outputs": [
    {
     "data": {
      "text/html": [
       "<div>\n",
       "<style scoped>\n",
       "    .dataframe tbody tr th:only-of-type {\n",
       "        vertical-align: middle;\n",
       "    }\n",
       "\n",
       "    .dataframe tbody tr th {\n",
       "        vertical-align: top;\n",
       "    }\n",
       "\n",
       "    .dataframe thead th {\n",
       "        text-align: right;\n",
       "    }\n",
       "</style>\n",
       "<table border=\"1\" class=\"dataframe\">\n",
       "  <thead>\n",
       "    <tr style=\"text-align: right;\">\n",
       "      <th></th>\n",
       "      <th>business_id</th>\n",
       "      <th>date</th>\n",
       "      <th>latitude</th>\n",
       "      <th>longitude</th>\n",
       "      <th>categories</th>\n",
       "      <th>subarea_id</th>\n",
       "    </tr>\n",
       "    <tr>\n",
       "      <th>user_id</th>\n",
       "      <th></th>\n",
       "      <th></th>\n",
       "      <th></th>\n",
       "      <th></th>\n",
       "      <th></th>\n",
       "      <th></th>\n",
       "    </tr>\n",
       "  </thead>\n",
       "  <tbody>\n",
       "    <tr>\n",
       "      <th>MB7Z80PJxNyQM7keDpR2XQ</th>\n",
       "      <td>br1uQbc3YU5jCpYi46nIgQ</td>\n",
       "      <td>2018-04-04 00:09:03</td>\n",
       "      <td>43.069425</td>\n",
       "      <td>-89.389567</td>\n",
       "      <td>[Coffee &amp; Tea, Cafes]</td>\n",
       "      <td>2064.0</td>\n",
       "    </tr>\n",
       "    <tr>\n",
       "      <th>4HwS2oCVQ1-f_kzHCv5X3A</th>\n",
       "      <td>br1uQbc3YU5jCpYi46nIgQ</td>\n",
       "      <td>2018-02-16 20:40:41</td>\n",
       "      <td>43.069425</td>\n",
       "      <td>-89.389567</td>\n",
       "      <td>[Coffee &amp; Tea, Cafes]</td>\n",
       "      <td>2064.0</td>\n",
       "    </tr>\n",
       "    <tr>\n",
       "      <th>OLBH2Ds1wllrzpHlyojzJQ</th>\n",
       "      <td>br1uQbc3YU5jCpYi46nIgQ</td>\n",
       "      <td>2018-04-12 11:31:03</td>\n",
       "      <td>43.069425</td>\n",
       "      <td>-89.389567</td>\n",
       "      <td>[Coffee &amp; Tea, Cafes]</td>\n",
       "      <td>2064.0</td>\n",
       "    </tr>\n",
       "    <tr>\n",
       "      <th>wd3xoNaDLib8dhQ7BxUl6g</th>\n",
       "      <td>br1uQbc3YU5jCpYi46nIgQ</td>\n",
       "      <td>2018-03-07 14:08:41</td>\n",
       "      <td>43.069425</td>\n",
       "      <td>-89.389567</td>\n",
       "      <td>[Coffee &amp; Tea, Cafes]</td>\n",
       "      <td>2064.0</td>\n",
       "    </tr>\n",
       "    <tr>\n",
       "      <th>qp-z1copnYQq7NPubYlNLw</th>\n",
       "      <td>uLnPW9K1yhNpgzvodCumbQ</td>\n",
       "      <td>2014-10-27 04:19:36</td>\n",
       "      <td>42.979252</td>\n",
       "      <td>-89.516184</td>\n",
       "      <td>[Breweries, Beer Bar, Bars, Burgers, American ...</td>\n",
       "      <td>684.0</td>\n",
       "    </tr>\n",
       "  </tbody>\n",
       "</table>\n",
       "</div>"
      ],
      "text/plain": [
       "                                   business_id                 date  \\\n",
       "user_id                                                               \n",
       "MB7Z80PJxNyQM7keDpR2XQ  br1uQbc3YU5jCpYi46nIgQ  2018-04-04 00:09:03   \n",
       "4HwS2oCVQ1-f_kzHCv5X3A  br1uQbc3YU5jCpYi46nIgQ  2018-02-16 20:40:41   \n",
       "OLBH2Ds1wllrzpHlyojzJQ  br1uQbc3YU5jCpYi46nIgQ  2018-04-12 11:31:03   \n",
       "wd3xoNaDLib8dhQ7BxUl6g  br1uQbc3YU5jCpYi46nIgQ  2018-03-07 14:08:41   \n",
       "qp-z1copnYQq7NPubYlNLw  uLnPW9K1yhNpgzvodCumbQ  2014-10-27 04:19:36   \n",
       "\n",
       "                         latitude  longitude  \\\n",
       "user_id                                        \n",
       "MB7Z80PJxNyQM7keDpR2XQ  43.069425 -89.389567   \n",
       "4HwS2oCVQ1-f_kzHCv5X3A  43.069425 -89.389567   \n",
       "OLBH2Ds1wllrzpHlyojzJQ  43.069425 -89.389567   \n",
       "wd3xoNaDLib8dhQ7BxUl6g  43.069425 -89.389567   \n",
       "qp-z1copnYQq7NPubYlNLw  42.979252 -89.516184   \n",
       "\n",
       "                                                               categories  \\\n",
       "user_id                                                                     \n",
       "MB7Z80PJxNyQM7keDpR2XQ                              [Coffee & Tea, Cafes]   \n",
       "4HwS2oCVQ1-f_kzHCv5X3A                              [Coffee & Tea, Cafes]   \n",
       "OLBH2Ds1wllrzpHlyojzJQ                              [Coffee & Tea, Cafes]   \n",
       "wd3xoNaDLib8dhQ7BxUl6g                              [Coffee & Tea, Cafes]   \n",
       "qp-z1copnYQq7NPubYlNLw  [Breweries, Beer Bar, Bars, Burgers, American ...   \n",
       "\n",
       "                        subarea_id  \n",
       "user_id                             \n",
       "MB7Z80PJxNyQM7keDpR2XQ      2064.0  \n",
       "4HwS2oCVQ1-f_kzHCv5X3A      2064.0  \n",
       "OLBH2Ds1wllrzpHlyojzJQ      2064.0  \n",
       "wd3xoNaDLib8dhQ7BxUl6g      2064.0  \n",
       "qp-z1copnYQq7NPubYlNLw       684.0  "
      ]
     },
     "execution_count": 10,
     "metadata": {},
     "output_type": "execute_result"
    }
   ],
   "source": [
    "df_city_checkin=pd.read_csv(\"../data/checkin/\"+CITY+\".csv\",converters={'categories':string_to_array})\n",
    "users_id=df_city_checkin['user_id'].drop_duplicates().reset_index(drop=True)\n",
    "# USG uses unique checkins cij = 1 or cij = 0\n",
    "df_city_checkin=df_city_checkin.drop_duplicates(subset=['user_id','business_id']).reset_index(drop=True)\n",
    "df_city_checkin=df_city_checkin.set_index('user_id')\n",
    "df_city_checkin.head()"
   ]
  },
  {
   "cell_type": "code",
   "execution_count": 12,
   "metadata": {
    "autoscroll": false,
    "ein.hycell": false,
    "ein.tags": "worksheet-0",
    "slideshow": {
     "slide_type": "-"
    }
   },
   "outputs": [
    {
     "name": "stdout",
     "output_type": "stream",
     "text": [
      "0.0%\n",
      "12.230919765166341%\n",
      "24.461839530332682%\n",
      "36.69275929549902%\n",
      "48.923679060665364%\n",
      "61.154598825831705%\n",
      "73.38551859099805%\n",
      "85.61643835616438%\n",
      "97.84735812133073%\n",
      "Time: 1.746310833733393 minutes\n"
     ]
    }
   ],
   "source": [
    "df_user_social_influence=pd.DataFrame(columns=['user_id_1','user_id_2','social_influence'])\n",
    "num_users=len(users_id)\n",
    "\n",
    "\n",
    "start = timeit.default_timer()\n",
    "for index_1,user_id_1 in users_id.iteritems():\n",
    "    # lista de checkins do usuario\n",
    "    #df_user_checkin_1=df_city_checkin[df_city_checkin.user_id==user_id_1]\n",
    "    #df_city_user\n",
    "    friends_list=df_city_user.loc[user_id_1]['friends']\n",
    "    df_friends_1=pd.DataFrame(friends_list,columns=['user_id'])\n",
    "    #print(df_city_checkin)\n",
    "    df_user_poi_1=df_city_checkin.loc[user_id_1]['business_id'].drop_duplicates()\n",
    "    for user_id_2 in friends_list:\n",
    "        df_friends_2=pd.DataFrame(df_city_user.loc[user_id_2]['friends'],columns=['user_id'])\n",
    "        df_user_poi_2=df_city_checkin.loc[user_id_2]['business_id'].drop_duplicates()\n",
    "        si=social_influence(df_friends_1,df_friends_2,df_user_poi_1,df_user_poi_2,usg_constants.get_eta())\n",
    "        df_user_social_influence=df_user_social_influence.append({'user_id_1':user_id_1,'user_id_2':user_id_2,'social_influence':si},ignore_index=True)\n",
    "    if index_1%125==0:\n",
    "        print(str(100*index_1/num_users)+\"%\")\n",
    "\n",
    "stop = timeit.default_timer()\n",
    "print('Time:', (stop - start)/60,'minutes')"
   ]
  },
  {
   "cell_type": "code",
   "execution_count": 15,
   "metadata": {},
   "outputs": [
    {
     "data": {
      "text/html": [
       "<div>\n",
       "<style scoped>\n",
       "    .dataframe tbody tr th:only-of-type {\n",
       "        vertical-align: middle;\n",
       "    }\n",
       "\n",
       "    .dataframe tbody tr th {\n",
       "        vertical-align: top;\n",
       "    }\n",
       "\n",
       "    .dataframe thead th {\n",
       "        text-align: right;\n",
       "    }\n",
       "</style>\n",
       "<table border=\"1\" class=\"dataframe\">\n",
       "  <thead>\n",
       "    <tr style=\"text-align: right;\">\n",
       "      <th></th>\n",
       "      <th>user_id_1</th>\n",
       "      <th>user_id_2</th>\n",
       "      <th>social_influence</th>\n",
       "    </tr>\n",
       "  </thead>\n",
       "  <tbody>\n",
       "    <tr>\n",
       "      <th>0</th>\n",
       "      <td>MB7Z80PJxNyQM7keDpR2XQ</td>\n",
       "      <td>Ff3tzelMfkB033i8s3yGvg</td>\n",
       "      <td>0.016323</td>\n",
       "    </tr>\n",
       "  </tbody>\n",
       "</table>\n",
       "</div>"
      ],
      "text/plain": [
       "                user_id_1               user_id_2  social_influence\n",
       "0  MB7Z80PJxNyQM7keDpR2XQ  Ff3tzelMfkB033i8s3yGvg          0.016323"
      ]
     },
     "execution_count": 15,
     "metadata": {},
     "output_type": "execute_result"
    }
   ],
   "source": [
    "df_user_social_influence.to_csv(\"../data/usg/social_influence/\"+CITY+\".csv\",index=False)\n",
    "df_user_social_influence.head(1)"
   ]
  },
  {
   "cell_type": "code",
   "execution_count": null,
   "metadata": {
    "autoscroll": false,
    "ein.hycell": false,
    "ein.tags": "worksheet-0",
    "slideshow": {
     "slide_type": "-"
    }
   },
   "outputs": [],
   "source": [
    "df_city_user.head()"
   ]
  },
  {
   "cell_type": "code",
   "execution_count": null,
   "metadata": {
    "autoscroll": false,
    "ein.hycell": false,
    "ein.tags": "worksheet-0",
    "slideshow": {
     "slide_type": "-"
    }
   },
   "outputs": [],
   "source": [
    "i=0\n",
    "df_city_checkin[df_city_checkin.index=='46TNf-5T5EcNFRJPYv_nrw']\n",
    "for index,checkin in df_city_checkin.iteritems():\n",
    "    print(index)\n",
    "    print(checkin)\n",
    "    if i%22==0:\n",
    "        print(i)\n",
    "        break\n",
    "    i=i+1"
   ]
  },
  {
   "cell_type": "markdown",
   "metadata": {
    "ein.tags": "worksheet-0",
    "slideshow": {
     "slide_type": "-"
    }
   },
   "source": [
    "# G: geographical\n",
    "\n",
    "\n",
    "\n",
    "$y'(x',w)=w_0+w_1\\cdot x'$"
   ]
  },
  {
   "cell_type": "code",
   "execution_count": 16,
   "metadata": {},
   "outputs": [
    {
     "data": {
      "text/plain": [
       "array(['yvqMh9kTv3Kx-tocc0DFBQ', '-rLP6lfoQmOO_5Pf2bTkqg',\n",
       "       'naPGOTVEpRZavvn9-sFg8A', ..., '0lz6c4BSzgmURYsGBcb7AA',\n",
       "       'kf6nKMhifgfL0sYv71drQw', '2-lQciafxGahq4CBVr2xug'], dtype=object)"
      ]
     },
     "execution_count": 16,
     "metadata": {},
     "output_type": "execute_result"
    }
   ],
   "source": [
    "df_city_checkin['business_id'].drop_duplicates().values"
   ]
  },
  {
   "cell_type": "code",
   "execution_count": 3,
   "metadata": {
    "autoscroll": false,
    "ein.hycell": false,
    "ein.tags": "worksheet-0",
    "slideshow": {
     "slide_type": "-"
    }
   },
   "outputs": [],
   "source": [
    "def checkin_probability(a,b,dist_km):\n",
    "    get_dist_new_unit(dist_km) # 100m unit\n",
    "    probability=a*(dist_km**b)\n",
    "    return min(probability,1.0)\n",
    "    \n",
    "def get_dist_new_unit(dist_km):\n",
    "    dist_new_unit=dist_km*10\n",
    "    dist_new_unit=max(dist_new_unit,1.0)\n",
    "    dist_new_unit=dist_new_unit+1\n",
    "    return dist_new_unit\n"
   ]
  },
  {
   "cell_type": "code",
   "execution_count": 17,
   "metadata": {
    "autoscroll": false,
    "ein.hycell": false,
    "ein.tags": "worksheet-0",
    "scrolled": false,
    "slideshow": {
     "slide_type": "-"
    }
   },
   "outputs": [
    {
     "name": "stdout",
     "output_type": "stream",
     "text": [
      "0\n"
     ]
    },
    {
     "ename": "KeyboardInterrupt",
     "evalue": "",
     "output_type": "error",
     "traceback": [
      "\u001b[0;31m---------------------------------------------------------------------------\u001b[0m",
      "\u001b[0;31mKeyboardInterrupt\u001b[0m                         Traceback (most recent call last)",
      "\u001b[0;32m<ipython-input-17-f083f8a00cc8>\u001b[0m in \u001b[0;36m<module>\u001b[0;34m\u001b[0m\n\u001b[1;32m     26\u001b[0m \u001b[0;34m\u001b[0m\u001b[0m\n\u001b[1;32m     27\u001b[0m \u001b[0mstart\u001b[0m \u001b[0;34m=\u001b[0m \u001b[0mtimeit\u001b[0m\u001b[0;34m.\u001b[0m\u001b[0mdefault_timer\u001b[0m\u001b[0;34m(\u001b[0m\u001b[0;34m)\u001b[0m\u001b[0;34m\u001b[0m\u001b[0;34m\u001b[0m\u001b[0m\n\u001b[0;32m---> 28\u001b[0;31m \u001b[0mx\u001b[0m\u001b[0;34m,\u001b[0m\u001b[0mt\u001b[0m\u001b[0;34m=\u001b[0m\u001b[0mcompute_distance_distribution\u001b[0m\u001b[0;34m(\u001b[0m\u001b[0mdf_city_checkin\u001b[0m\u001b[0;34m[\u001b[0m\u001b[0;34m[\u001b[0m\u001b[0;34m'business_id'\u001b[0m\u001b[0;34m,\u001b[0m\u001b[0;34m'longitude'\u001b[0m\u001b[0;34m,\u001b[0m\u001b[0;34m'latitude'\u001b[0m\u001b[0;34m]\u001b[0m\u001b[0;34m]\u001b[0m\u001b[0;34m)\u001b[0m\u001b[0;34m\u001b[0m\u001b[0;34m\u001b[0m\u001b[0m\n\u001b[0m\u001b[1;32m     29\u001b[0m \u001b[0mstop\u001b[0m \u001b[0;34m=\u001b[0m \u001b[0mtimeit\u001b[0m\u001b[0;34m.\u001b[0m\u001b[0mdefault_timer\u001b[0m\u001b[0;34m(\u001b[0m\u001b[0;34m)\u001b[0m\u001b[0;34m\u001b[0m\u001b[0;34m\u001b[0m\u001b[0m\n\u001b[1;32m     30\u001b[0m \u001b[0mprint\u001b[0m\u001b[0;34m(\u001b[0m\u001b[0;34m'Time:'\u001b[0m\u001b[0;34m,\u001b[0m \u001b[0mstop\u001b[0m \u001b[0;34m-\u001b[0m \u001b[0mstart\u001b[0m\u001b[0;34m)\u001b[0m\u001b[0;34m\u001b[0m\u001b[0;34m\u001b[0m\u001b[0m\n",
      "\u001b[0;32m<ipython-input-17-f083f8a00cc8>\u001b[0m in \u001b[0;36mcompute_distance_distribution\u001b[0;34m(df_city_checkin)\u001b[0m\n\u001b[1;32m     14\u001b[0m             \u001b[0;32mfor\u001b[0m \u001b[0mj\u001b[0m \u001b[0;32min\u001b[0m \u001b[0mrange\u001b[0m\u001b[0;34m(\u001b[0m\u001b[0mi\u001b[0m\u001b[0;34m+\u001b[0m\u001b[0;36m1\u001b[0m\u001b[0;34m,\u001b[0m\u001b[0mlen\u001b[0m\u001b[0;34m(\u001b[0m\u001b[0mdf_user_checkins\u001b[0m\u001b[0;34m)\u001b[0m\u001b[0;34m)\u001b[0m\u001b[0;34m:\u001b[0m\u001b[0;34m\u001b[0m\u001b[0;34m\u001b[0m\u001b[0m\n\u001b[1;32m     15\u001b[0m                 \u001b[0mlat1\u001b[0m\u001b[0;34m,\u001b[0m\u001b[0mlon1\u001b[0m\u001b[0;34m=\u001b[0m\u001b[0mdf_user_checkins\u001b[0m\u001b[0;34m.\u001b[0m\u001b[0miloc\u001b[0m\u001b[0;34m[\u001b[0m\u001b[0mi\u001b[0m\u001b[0;34m]\u001b[0m\u001b[0;34m.\u001b[0m\u001b[0mlatitude\u001b[0m\u001b[0;34m,\u001b[0m\u001b[0mdf_user_checkins\u001b[0m\u001b[0;34m.\u001b[0m\u001b[0miloc\u001b[0m\u001b[0;34m[\u001b[0m\u001b[0mi\u001b[0m\u001b[0;34m]\u001b[0m\u001b[0;34m.\u001b[0m\u001b[0mlongitude\u001b[0m\u001b[0;34m\u001b[0m\u001b[0;34m\u001b[0m\u001b[0m\n\u001b[0;32m---> 16\u001b[0;31m                 \u001b[0mlat2\u001b[0m\u001b[0;34m,\u001b[0m\u001b[0mlon2\u001b[0m\u001b[0;34m=\u001b[0m\u001b[0mdf_user_checkins\u001b[0m\u001b[0;34m.\u001b[0m\u001b[0miloc\u001b[0m\u001b[0;34m[\u001b[0m\u001b[0mj\u001b[0m\u001b[0;34m]\u001b[0m\u001b[0;34m.\u001b[0m\u001b[0mlatitude\u001b[0m\u001b[0;34m,\u001b[0m\u001b[0mdf_user_checkins\u001b[0m\u001b[0;34m.\u001b[0m\u001b[0miloc\u001b[0m\u001b[0;34m[\u001b[0m\u001b[0mj\u001b[0m\u001b[0;34m]\u001b[0m\u001b[0;34m.\u001b[0m\u001b[0mlongitude\u001b[0m\u001b[0;34m\u001b[0m\u001b[0;34m\u001b[0m\u001b[0m\n\u001b[0m\u001b[1;32m     17\u001b[0m                 \u001b[0mdistance\u001b[0m\u001b[0;34m=\u001b[0m\u001b[0mint\u001b[0m\u001b[0;34m(\u001b[0m\u001b[0mgeo_utils\u001b[0m\u001b[0;34m.\u001b[0m\u001b[0mmercator\u001b[0m\u001b[0;34m(\u001b[0m\u001b[0mlat1\u001b[0m\u001b[0;34m,\u001b[0m\u001b[0mlon1\u001b[0m\u001b[0;34m,\u001b[0m\u001b[0mlat2\u001b[0m\u001b[0;34m,\u001b[0m\u001b[0mlon2\u001b[0m\u001b[0;34m)\u001b[0m\u001b[0;34m)\u001b[0m\u001b[0;34m\u001b[0m\u001b[0;34m\u001b[0m\u001b[0m\n\u001b[1;32m     18\u001b[0m                 \u001b[0mdistribution\u001b[0m\u001b[0;34m[\u001b[0m\u001b[0mdistance\u001b[0m\u001b[0;34m]\u001b[0m \u001b[0;34m+=\u001b[0m \u001b[0;36m1\u001b[0m\u001b[0;34m\u001b[0m\u001b[0;34m\u001b[0m\u001b[0m\n",
      "\u001b[0;32m/usr/lib/python3.7/site-packages/pandas/core/indexing.py\u001b[0m in \u001b[0;36m__getitem__\u001b[0;34m(self, key)\u001b[0m\n\u001b[1;32m   1408\u001b[0m \u001b[0;34m\u001b[0m\u001b[0m\n\u001b[1;32m   1409\u001b[0m             \u001b[0mmaybe_callable\u001b[0m \u001b[0;34m=\u001b[0m \u001b[0mcom\u001b[0m\u001b[0;34m.\u001b[0m\u001b[0mapply_if_callable\u001b[0m\u001b[0;34m(\u001b[0m\u001b[0mkey\u001b[0m\u001b[0;34m,\u001b[0m \u001b[0mself\u001b[0m\u001b[0;34m.\u001b[0m\u001b[0mobj\u001b[0m\u001b[0;34m)\u001b[0m\u001b[0;34m\u001b[0m\u001b[0;34m\u001b[0m\u001b[0m\n\u001b[0;32m-> 1410\u001b[0;31m             \u001b[0;32mreturn\u001b[0m \u001b[0mself\u001b[0m\u001b[0;34m.\u001b[0m\u001b[0m_getitem_axis\u001b[0m\u001b[0;34m(\u001b[0m\u001b[0mmaybe_callable\u001b[0m\u001b[0;34m,\u001b[0m \u001b[0maxis\u001b[0m\u001b[0;34m=\u001b[0m\u001b[0maxis\u001b[0m\u001b[0;34m)\u001b[0m\u001b[0;34m\u001b[0m\u001b[0;34m\u001b[0m\u001b[0m\n\u001b[0m\u001b[1;32m   1411\u001b[0m \u001b[0;34m\u001b[0m\u001b[0m\n\u001b[1;32m   1412\u001b[0m     \u001b[0;32mdef\u001b[0m \u001b[0m_is_scalar_access\u001b[0m\u001b[0;34m(\u001b[0m\u001b[0mself\u001b[0m\u001b[0;34m,\u001b[0m \u001b[0mkey\u001b[0m\u001b[0;34m:\u001b[0m \u001b[0mTuple\u001b[0m\u001b[0;34m)\u001b[0m\u001b[0;34m:\u001b[0m\u001b[0;34m\u001b[0m\u001b[0;34m\u001b[0m\u001b[0m\n",
      "\u001b[0;32m/usr/lib/python3.7/site-packages/pandas/core/indexing.py\u001b[0m in \u001b[0;36m_getitem_axis\u001b[0;34m(self, key, axis)\u001b[0m\n\u001b[1;32m   2132\u001b[0m             \u001b[0mself\u001b[0m\u001b[0;34m.\u001b[0m\u001b[0m_validate_integer\u001b[0m\u001b[0;34m(\u001b[0m\u001b[0mkey\u001b[0m\u001b[0;34m,\u001b[0m \u001b[0maxis\u001b[0m\u001b[0;34m)\u001b[0m\u001b[0;34m\u001b[0m\u001b[0;34m\u001b[0m\u001b[0m\n\u001b[1;32m   2133\u001b[0m \u001b[0;34m\u001b[0m\u001b[0m\n\u001b[0;32m-> 2134\u001b[0;31m             \u001b[0;32mreturn\u001b[0m \u001b[0mself\u001b[0m\u001b[0;34m.\u001b[0m\u001b[0m_get_loc\u001b[0m\u001b[0;34m(\u001b[0m\u001b[0mkey\u001b[0m\u001b[0;34m,\u001b[0m \u001b[0maxis\u001b[0m\u001b[0;34m=\u001b[0m\u001b[0maxis\u001b[0m\u001b[0;34m)\u001b[0m\u001b[0;34m\u001b[0m\u001b[0;34m\u001b[0m\u001b[0m\n\u001b[0m\u001b[1;32m   2135\u001b[0m \u001b[0;34m\u001b[0m\u001b[0m\n\u001b[1;32m   2136\u001b[0m     \u001b[0;31m# raise_missing is included for compat with the parent class signature\u001b[0m\u001b[0;34m\u001b[0m\u001b[0;34m\u001b[0m\u001b[0;34m\u001b[0m\u001b[0m\n",
      "\u001b[0;32m/usr/lib/python3.7/site-packages/pandas/core/indexing.py\u001b[0m in \u001b[0;36m_get_loc\u001b[0;34m(self, key, axis)\u001b[0m\n\u001b[1;32m    158\u001b[0m \u001b[0;34m\u001b[0m\u001b[0m\n\u001b[1;32m    159\u001b[0m     \u001b[0;32mdef\u001b[0m \u001b[0m_get_loc\u001b[0m\u001b[0;34m(\u001b[0m\u001b[0mself\u001b[0m\u001b[0;34m,\u001b[0m \u001b[0mkey\u001b[0m\u001b[0;34m:\u001b[0m \u001b[0mint\u001b[0m\u001b[0;34m,\u001b[0m \u001b[0maxis\u001b[0m\u001b[0;34m:\u001b[0m \u001b[0mint\u001b[0m\u001b[0;34m)\u001b[0m\u001b[0;34m:\u001b[0m\u001b[0;34m\u001b[0m\u001b[0;34m\u001b[0m\u001b[0m\n\u001b[0;32m--> 160\u001b[0;31m         \u001b[0;32mreturn\u001b[0m \u001b[0mself\u001b[0m\u001b[0;34m.\u001b[0m\u001b[0mobj\u001b[0m\u001b[0;34m.\u001b[0m\u001b[0m_ixs\u001b[0m\u001b[0;34m(\u001b[0m\u001b[0mkey\u001b[0m\u001b[0;34m,\u001b[0m \u001b[0maxis\u001b[0m\u001b[0;34m=\u001b[0m\u001b[0maxis\u001b[0m\u001b[0;34m)\u001b[0m\u001b[0;34m\u001b[0m\u001b[0;34m\u001b[0m\u001b[0m\n\u001b[0m\u001b[1;32m    161\u001b[0m \u001b[0;34m\u001b[0m\u001b[0m\n\u001b[1;32m    162\u001b[0m     \u001b[0;32mdef\u001b[0m \u001b[0m_slice\u001b[0m\u001b[0;34m(\u001b[0m\u001b[0mself\u001b[0m\u001b[0;34m,\u001b[0m \u001b[0mobj\u001b[0m\u001b[0;34m,\u001b[0m \u001b[0maxis\u001b[0m\u001b[0;34m:\u001b[0m \u001b[0mint\u001b[0m\u001b[0;34m,\u001b[0m \u001b[0mkind\u001b[0m\u001b[0;34m=\u001b[0m\u001b[0;32mNone\u001b[0m\u001b[0;34m)\u001b[0m\u001b[0;34m:\u001b[0m\u001b[0;34m\u001b[0m\u001b[0;34m\u001b[0m\u001b[0m\n",
      "\u001b[0;32m/usr/lib/python3.7/site-packages/pandas/core/frame.py\u001b[0m in \u001b[0;36m_ixs\u001b[0;34m(self, i, axis)\u001b[0m\n\u001b[1;32m   2918\u001b[0m                 \u001b[0mindex\u001b[0m\u001b[0;34m=\u001b[0m\u001b[0mself\u001b[0m\u001b[0;34m.\u001b[0m\u001b[0mcolumns\u001b[0m\u001b[0;34m,\u001b[0m\u001b[0;34m\u001b[0m\u001b[0;34m\u001b[0m\u001b[0m\n\u001b[1;32m   2919\u001b[0m                 \u001b[0mname\u001b[0m\u001b[0;34m=\u001b[0m\u001b[0mself\u001b[0m\u001b[0;34m.\u001b[0m\u001b[0mindex\u001b[0m\u001b[0;34m[\u001b[0m\u001b[0mi\u001b[0m\u001b[0;34m]\u001b[0m\u001b[0;34m,\u001b[0m\u001b[0;34m\u001b[0m\u001b[0;34m\u001b[0m\u001b[0m\n\u001b[0;32m-> 2920\u001b[0;31m                 \u001b[0mdtype\u001b[0m\u001b[0;34m=\u001b[0m\u001b[0mnew_values\u001b[0m\u001b[0;34m.\u001b[0m\u001b[0mdtype\u001b[0m\u001b[0;34m,\u001b[0m\u001b[0;34m\u001b[0m\u001b[0;34m\u001b[0m\u001b[0m\n\u001b[0m\u001b[1;32m   2921\u001b[0m             )\n\u001b[1;32m   2922\u001b[0m             \u001b[0mresult\u001b[0m\u001b[0;34m.\u001b[0m\u001b[0m_set_is_copy\u001b[0m\u001b[0;34m(\u001b[0m\u001b[0mself\u001b[0m\u001b[0;34m,\u001b[0m \u001b[0mcopy\u001b[0m\u001b[0;34m=\u001b[0m\u001b[0mcopy\u001b[0m\u001b[0;34m)\u001b[0m\u001b[0;34m\u001b[0m\u001b[0;34m\u001b[0m\u001b[0m\n",
      "\u001b[0;32m/usr/lib/python3.7/site-packages/pandas/core/series.py\u001b[0m in \u001b[0;36m__init__\u001b[0;34m(self, data, index, dtype, name, copy, fastpath)\u001b[0m\n\u001b[1;32m    309\u001b[0m                     \u001b[0mdata\u001b[0m \u001b[0;34m=\u001b[0m \u001b[0mdata\u001b[0m\u001b[0;34m.\u001b[0m\u001b[0mcopy\u001b[0m\u001b[0;34m(\u001b[0m\u001b[0;34m)\u001b[0m\u001b[0;34m\u001b[0m\u001b[0;34m\u001b[0m\u001b[0m\n\u001b[1;32m    310\u001b[0m             \u001b[0;32melse\u001b[0m\u001b[0;34m:\u001b[0m\u001b[0;34m\u001b[0m\u001b[0;34m\u001b[0m\u001b[0m\n\u001b[0;32m--> 311\u001b[0;31m                 \u001b[0mdata\u001b[0m \u001b[0;34m=\u001b[0m \u001b[0msanitize_array\u001b[0m\u001b[0;34m(\u001b[0m\u001b[0mdata\u001b[0m\u001b[0;34m,\u001b[0m \u001b[0mindex\u001b[0m\u001b[0;34m,\u001b[0m \u001b[0mdtype\u001b[0m\u001b[0;34m,\u001b[0m \u001b[0mcopy\u001b[0m\u001b[0;34m,\u001b[0m \u001b[0mraise_cast_failure\u001b[0m\u001b[0;34m=\u001b[0m\u001b[0;32mTrue\u001b[0m\u001b[0;34m)\u001b[0m\u001b[0;34m\u001b[0m\u001b[0;34m\u001b[0m\u001b[0m\n\u001b[0m\u001b[1;32m    312\u001b[0m \u001b[0;34m\u001b[0m\u001b[0m\n\u001b[1;32m    313\u001b[0m                 \u001b[0mdata\u001b[0m \u001b[0;34m=\u001b[0m \u001b[0mSingleBlockManager\u001b[0m\u001b[0;34m(\u001b[0m\u001b[0mdata\u001b[0m\u001b[0;34m,\u001b[0m \u001b[0mindex\u001b[0m\u001b[0;34m,\u001b[0m \u001b[0mfastpath\u001b[0m\u001b[0;34m=\u001b[0m\u001b[0;32mTrue\u001b[0m\u001b[0;34m)\u001b[0m\u001b[0;34m\u001b[0m\u001b[0;34m\u001b[0m\u001b[0m\n",
      "\u001b[0;32m/usr/lib/python3.7/site-packages/pandas/core/internals/construction.py\u001b[0m in \u001b[0;36msanitize_array\u001b[0;34m(data, index, dtype, copy, raise_cast_failure)\u001b[0m\n\u001b[1;32m    743\u001b[0m \u001b[0;34m\u001b[0m\u001b[0m\n\u001b[1;32m    744\u001b[0m     if (\n\u001b[0;32m--> 745\u001b[0;31m         \u001b[0;32mnot\u001b[0m \u001b[0;34m(\u001b[0m\u001b[0mis_extension_array_dtype\u001b[0m\u001b[0;34m(\u001b[0m\u001b[0msubarr\u001b[0m\u001b[0;34m.\u001b[0m\u001b[0mdtype\u001b[0m\u001b[0;34m)\u001b[0m \u001b[0;32mor\u001b[0m \u001b[0mis_extension_array_dtype\u001b[0m\u001b[0;34m(\u001b[0m\u001b[0mdtype\u001b[0m\u001b[0;34m)\u001b[0m\u001b[0;34m)\u001b[0m\u001b[0;34m\u001b[0m\u001b[0;34m\u001b[0m\u001b[0m\n\u001b[0m\u001b[1;32m    746\u001b[0m         \u001b[0;32mand\u001b[0m \u001b[0mis_object_dtype\u001b[0m\u001b[0;34m(\u001b[0m\u001b[0msubarr\u001b[0m\u001b[0;34m.\u001b[0m\u001b[0mdtype\u001b[0m\u001b[0;34m)\u001b[0m\u001b[0;34m\u001b[0m\u001b[0;34m\u001b[0m\u001b[0m\n\u001b[1;32m    747\u001b[0m         \u001b[0;32mand\u001b[0m \u001b[0;32mnot\u001b[0m \u001b[0mis_object_dtype\u001b[0m\u001b[0;34m(\u001b[0m\u001b[0mdtype\u001b[0m\u001b[0;34m)\u001b[0m\u001b[0;34m\u001b[0m\u001b[0;34m\u001b[0m\u001b[0m\n",
      "\u001b[0;32m/usr/lib/python3.7/site-packages/pandas/core/dtypes/common.py\u001b[0m in \u001b[0;36mis_extension_array_dtype\u001b[0;34m(arr_or_dtype)\u001b[0m\n\u001b[1;32m   1787\u001b[0m     \"\"\"\n\u001b[1;32m   1788\u001b[0m     \u001b[0mdtype\u001b[0m \u001b[0;34m=\u001b[0m \u001b[0mgetattr\u001b[0m\u001b[0;34m(\u001b[0m\u001b[0marr_or_dtype\u001b[0m\u001b[0;34m,\u001b[0m \u001b[0;34m\"dtype\"\u001b[0m\u001b[0;34m,\u001b[0m \u001b[0marr_or_dtype\u001b[0m\u001b[0;34m)\u001b[0m\u001b[0;34m\u001b[0m\u001b[0;34m\u001b[0m\u001b[0m\n\u001b[0;32m-> 1789\u001b[0;31m     \u001b[0;32mreturn\u001b[0m \u001b[0misinstance\u001b[0m\u001b[0;34m(\u001b[0m\u001b[0mdtype\u001b[0m\u001b[0;34m,\u001b[0m \u001b[0mExtensionDtype\u001b[0m\u001b[0;34m)\u001b[0m \u001b[0;32mor\u001b[0m \u001b[0mregistry\u001b[0m\u001b[0;34m.\u001b[0m\u001b[0mfind\u001b[0m\u001b[0;34m(\u001b[0m\u001b[0mdtype\u001b[0m\u001b[0;34m)\u001b[0m \u001b[0;32mis\u001b[0m \u001b[0;32mnot\u001b[0m \u001b[0;32mNone\u001b[0m\u001b[0;34m\u001b[0m\u001b[0;34m\u001b[0m\u001b[0m\n\u001b[0m\u001b[1;32m   1790\u001b[0m \u001b[0;34m\u001b[0m\u001b[0m\n\u001b[1;32m   1791\u001b[0m \u001b[0;34m\u001b[0m\u001b[0m\n",
      "\u001b[0;31mKeyboardInterrupt\u001b[0m: "
     ]
    }
   ],
   "source": [
    "\n",
    "def compute_distance_distribution(df_city_checkin):\n",
    "    ic=0\n",
    "    distribution = defaultdict(int)\n",
    "    for user_id in users_id:\n",
    "        if ic % 100 == 0:\n",
    "            print(ic)\n",
    "        ic=ic+1\n",
    "        #print(user_id)\n",
    "        df_user_checkins=df_city_checkin.loc[user_id]\n",
    "        user_pois=df_user_checkins['business_id'].drop_duplicates().values\n",
    "        #print(\"quantidade de checkins do usuario:\",len(df_user_checkins),\", combinações:\",len(df_user_checkins)*(len(df_user_checkins)-1)/2)\n",
    "    #    print(df_user_checkins)\n",
    "        for i in range(len(user_pois)):\n",
    "            for j in range(i+1,len(user_pois)):\n",
    "                df_poi.loc[user_pois[i]]\n",
    "                lat1,lon1=df_poi.loc[user_pois[i]].latitude,df_poi.loc[user_pois[i]].longitude\n",
    "                lat2,lon2=df_poi.loc[user_pois[j]].latitude,df_poi.loc[user_pois[j]].longitude\n",
    "                distance=int(geo_utils.mercator(lat1,lon1,lat2,lon2))\n",
    "                distribution[distance] += 1\n",
    "    total=sum(distribution.values())\n",
    "    for distance in distribution:\n",
    "        distribution[distance] /= total\n",
    "    distribution=sorted(distribution.items(),key=lambda k: k[0])\n",
    "    return zip(*distribution[1:]) # x and ground truth\n",
    "\n",
    "\n",
    "\n",
    "start = timeit.default_timer()\n",
    "x,t=compute_distance_distribution(df_city_checkin[['business_id','longitude','latitude']])\n",
    "stop = timeit.default_timer()\n",
    "print('Time:', stop - start)"
   ]
  },
  {
   "cell_type": "code",
   "execution_count": null,
   "metadata": {},
   "outputs": [],
   "source": [
    "x=np.log10(x)\n",
    "t=np.log10(t)\n",
    "\n",
    "w0, w1 = np.random.random(), np.random.random()\n",
    "max_iterations = 2000\n",
    "lambda_w = 0.1\n",
    "alpha = 1e-5 # learning rate\n",
    "for iteration in range(max_iterations):\n",
    "    Ew = 0.0\n",
    "    d_w0, d_w1 = 0.0, 0.0\n",
    "    for n in range(len(x)):\n",
    "        d_w0 += (w0 + w1 * x[n] - t[n])\n",
    "        d_w1 += (w0 + w1 * x[n] - t[n]) * x[n]\n",
    "    w0 -= alpha * (d_w0 + lambda_w * w0)\n",
    "    w1 -= alpha * (d_w1 + lambda_w * w1)\n",
    "    for n in range(len(x)):\n",
    "        Ew += 0.5 * (w0 + w1 * x[n] - t[n])**2\n",
    "    Ew += 0.5 * lambda_w * (w0**2 + w1**2)\n",
    "\n",
    "a,b=10**w0,w1\n",
    "\n",
    "\n",
    "\n"
   ]
  }
 ],
 "metadata": {
  "kernelspec": {
   "display_name": "Python 3",
   "language": "python",
   "name": "python3"
  },
  "language_info": {
   "codemirror_mode": {
    "name": "ipython",
    "version": 3
   },
   "file_extension": ".py",
   "mimetype": "text/x-python",
   "name": "python",
   "nbconvert_exporter": "python",
   "pygments_lexer": "ipython3",
   "version": "3.7.4"
  },
  "name": "USG.ipynb"
 },
 "nbformat": 4,
 "nbformat_minor": 4
}
