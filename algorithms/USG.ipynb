{
 "cells": [
  {
   "cell_type": "code",
   "execution_count": 1,
   "metadata": {},
   "outputs": [],
   "source": [
    "import numpy as np\n",
    "import pandas as pd\n",
    "import recommenders as rec\n",
    "import networkx as nx\n",
    "import matplotlib.pyplot as plt\n",
    "import areamanager\n",
    "import math\n",
    "import timeit\n",
    "\n",
    "%matplotlib inline"
   ]
  },
  {
   "cell_type": "code",
   "execution_count": 2,
   "metadata": {},
   "outputs": [],
   "source": [
    "def string_to_array(string):\n",
    "    if string == '':\n",
    "        return list()\n",
    "    return eval(string)\n",
    "df_city_checkin=pd.read_csv(\"../data/checkin/lasvegas.csv\",converters={'categories':string_to_array})\n",
    "users_id=df_city_checkin['user_id'].drop_duplicates().reset_index(drop=True)\n",
    "\n",
    "# USG uses unique checkins cij = 1 or cij = 0\n",
    "df_city_checkin=df_city_checkin.drop_duplicates(subset=['user_id','business_id']).reset_index(drop=True)"
   ]
  },
  {
   "cell_type": "code",
   "execution_count": 3,
   "metadata": {},
   "outputs": [
    {
     "data": {
      "text/html": [
       "<div>\n",
       "<style scoped>\n",
       "    .dataframe tbody tr th:only-of-type {\n",
       "        vertical-align: middle;\n",
       "    }\n",
       "\n",
       "    .dataframe tbody tr th {\n",
       "        vertical-align: top;\n",
       "    }\n",
       "\n",
       "    .dataframe thead th {\n",
       "        text-align: right;\n",
       "    }\n",
       "</style>\n",
       "<table border=\"1\" class=\"dataframe\">\n",
       "  <thead>\n",
       "    <tr style=\"text-align: right;\">\n",
       "      <th></th>\n",
       "      <th>user_id</th>\n",
       "      <th>business_id</th>\n",
       "      <th>date</th>\n",
       "      <th>latitude</th>\n",
       "      <th>longitude</th>\n",
       "      <th>categories</th>\n",
       "      <th>subarea_id</th>\n",
       "    </tr>\n",
       "  </thead>\n",
       "  <tbody>\n",
       "    <tr>\n",
       "      <th>0</th>\n",
       "      <td>46TNf-5T5EcNFRJPYv_nrw</td>\n",
       "      <td>ujmEBvifdJM6h6RLv4wQIg</td>\n",
       "      <td>2015-08-19 16:39:53</td>\n",
       "      <td>36.215546</td>\n",
       "      <td>-115.248798</td>\n",
       "      <td>[Fitness &amp; Instruction, Doctors, Gyms, Emergen...</td>\n",
       "      <td>1415.0</td>\n",
       "    </tr>\n",
       "    <tr>\n",
       "      <th>1</th>\n",
       "      <td>56iEnLi8jR--2ranjPSQ4w</td>\n",
       "      <td>ujmEBvifdJM6h6RLv4wQIg</td>\n",
       "      <td>2013-08-04 10:55:04</td>\n",
       "      <td>36.215546</td>\n",
       "      <td>-115.248798</td>\n",
       "      <td>[Fitness &amp; Instruction, Doctors, Gyms, Emergen...</td>\n",
       "      <td>1415.0</td>\n",
       "    </tr>\n",
       "    <tr>\n",
       "      <th>2</th>\n",
       "      <td>UDKqdVT0FrpL19shSOqgow</td>\n",
       "      <td>ujmEBvifdJM6h6RLv4wQIg</td>\n",
       "      <td>2017-03-15 23:27:38</td>\n",
       "      <td>36.215546</td>\n",
       "      <td>-115.248798</td>\n",
       "      <td>[Fitness &amp; Instruction, Doctors, Gyms, Emergen...</td>\n",
       "      <td>1415.0</td>\n",
       "    </tr>\n",
       "    <tr>\n",
       "      <th>3</th>\n",
       "      <td>Nw6Jza_cb0aqd4PT769Vzw</td>\n",
       "      <td>ujmEBvifdJM6h6RLv4wQIg</td>\n",
       "      <td>2013-01-04 22:04:02</td>\n",
       "      <td>36.215546</td>\n",
       "      <td>-115.248798</td>\n",
       "      <td>[Fitness &amp; Instruction, Doctors, Gyms, Emergen...</td>\n",
       "      <td>1415.0</td>\n",
       "    </tr>\n",
       "    <tr>\n",
       "      <th>4</th>\n",
       "      <td>3b5EsiTkqgdbxPXz7LfBpA</td>\n",
       "      <td>ujmEBvifdJM6h6RLv4wQIg</td>\n",
       "      <td>2014-08-11 23:57:54</td>\n",
       "      <td>36.215546</td>\n",
       "      <td>-115.248798</td>\n",
       "      <td>[Fitness &amp; Instruction, Doctors, Gyms, Emergen...</td>\n",
       "      <td>1415.0</td>\n",
       "    </tr>\n",
       "  </tbody>\n",
       "</table>\n",
       "</div>"
      ],
      "text/plain": [
       "                  user_id             business_id                 date  \\\n",
       "0  46TNf-5T5EcNFRJPYv_nrw  ujmEBvifdJM6h6RLv4wQIg  2015-08-19 16:39:53   \n",
       "1  56iEnLi8jR--2ranjPSQ4w  ujmEBvifdJM6h6RLv4wQIg  2013-08-04 10:55:04   \n",
       "2  UDKqdVT0FrpL19shSOqgow  ujmEBvifdJM6h6RLv4wQIg  2017-03-15 23:27:38   \n",
       "3  Nw6Jza_cb0aqd4PT769Vzw  ujmEBvifdJM6h6RLv4wQIg  2013-01-04 22:04:02   \n",
       "4  3b5EsiTkqgdbxPXz7LfBpA  ujmEBvifdJM6h6RLv4wQIg  2014-08-11 23:57:54   \n",
       "\n",
       "    latitude   longitude                                         categories  \\\n",
       "0  36.215546 -115.248798  [Fitness & Instruction, Doctors, Gyms, Emergen...   \n",
       "1  36.215546 -115.248798  [Fitness & Instruction, Doctors, Gyms, Emergen...   \n",
       "2  36.215546 -115.248798  [Fitness & Instruction, Doctors, Gyms, Emergen...   \n",
       "3  36.215546 -115.248798  [Fitness & Instruction, Doctors, Gyms, Emergen...   \n",
       "4  36.215546 -115.248798  [Fitness & Instruction, Doctors, Gyms, Emergen...   \n",
       "\n",
       "   subarea_id  \n",
       "0      1415.0  \n",
       "1      1415.0  \n",
       "2      1415.0  \n",
       "3      1415.0  \n",
       "4      1415.0  "
      ]
     },
     "execution_count": 3,
     "metadata": {},
     "output_type": "execute_result"
    }
   ],
   "source": [
    "df_city_checkin.head()"
   ]
  },
  {
   "cell_type": "markdown",
   "metadata": {},
   "source": [
    "# U: preference\n",
    "\n",
    "$CosineSimilarity = cos(\\pmb x, \\pmb y) = \\frac {\\pmb x \\cdot \\pmb y}{||\\pmb x|| \\cdot ||\\pmb y||}$"
   ]
  },
  {
   "cell_type": "code",
   "execution_count": 4,
   "metadata": {},
   "outputs": [
    {
     "data": {
      "text/plain": [
       "0.02973505167250263"
      ]
     },
     "execution_count": 4,
     "metadata": {},
     "output_type": "execute_result"
    }
   ],
   "source": [
    "def user_similarity(user_checkin_1,user_checkin_2):\n",
    "    common_checkin=pd.merge(user_checkin_1,user_checkin_2,on='business_id')\n",
    "    return common_checkin.date_x.count()/(math.sqrt(user_checkin_1.date.count())\n",
    "                                   *math.sqrt(user_checkin_2.date.count()))\n",
    "\n",
    "user_similarity(df_city_checkin[df_city_checkin.user_id=='46TNf-5T5EcNFRJPYv_nrw'],\n",
    "                df_city_checkin[df_city_checkin.user_id=='56iEnLi8jR--2ranjPSQ4w'])"
   ]
  },
  {
   "cell_type": "markdown",
   "metadata": {},
   "source": [
    "$\\#df\\_user\\_similarity=\\frac{\\#usuarios\\cdot (\\#usuarios-1)}{2}=\\sum_{i=1}^{\\#usuarios}{i}$"
   ]
  },
  {
   "cell_type": "code",
   "execution_count": null,
   "metadata": {},
   "outputs": [
    {
     "name": "stdout",
     "output_type": "stream",
     "text": [
      "user 0\n",
      "user 100000\n"
     ]
    }
   ],
   "source": [
    "df_user_similarity=pd.DataFrame(columns=['user_id_1','user_id_2','similarity'])\n",
    "i=0\n",
    "start = timeit.default_timer()\n",
    "# loop sobre os ids dos usuarios\n",
    "for index_1,user_id_1 in users_id.iteritems():\n",
    "    # lista de checkins do usuario\n",
    "    df_user_checkin_1=df_city_checkin[df_city_checkin.user_id==user_id_1]\n",
    "    # Exclui o proprio usuario\n",
    "    for index_2,user_id_2 in users_id.drop(index_1).iteritems():\n",
    "#         if df_city_checkin[(df_user_similarity.user_id_1==user_id_1 | df_user_similarity.user_id_1==user_id_2) &\n",
    "#                             (df_user_similarity.user_id_2==user_id_1 | df_user_similarity.user_id_2==user_id_2)]:\n",
    "#             pass\n",
    "\n",
    "        if len(df_user_similarity[((df_user_similarity.user_id_1==user_id_1) | (df_user_similarity.user_id_1==user_id_2)) &\n",
    "                        ((df_user_similarity.user_id_2==user_id_1) | (df_user_similarity.user_id_2==user_id_2))])!=0:\n",
    "            continue\n",
    "            \n",
    "        df_user_checkin_2=df_city_checkin[df_city_checkin.user_id==user_id_2]\n",
    "        sim=user_similarity(df_user_checkin_1,df_user_checkin_2)\n",
    "        df_user_similarity=df_user_similarity.append({'user_id_1':user_id_1,'user_id_2':user_id_2,'similarity':sim},ignore_index=True)\n",
    "        if i % 100000 == 0:\n",
    "            print(\"user\",i)\n",
    "        i=i+1\n",
    "#         print(user_id)\n",
    "#         df_user_checkin=df_city_checkin[df_city_checkin[.index]==user_id]\n",
    "#         print(df_user_checkin)\n",
    "stop = timeit.default_timer()\n",
    "print('Time:', stop - start)\n",
    "df_user_similarity"
   ]
  },
  {
   "cell_type": "code",
   "execution_count": null,
   "metadata": {},
   "outputs": [],
   "source": [
    "def user_cf(user_id,user_checkin,business_id,df_checkin):\n",
    "    df_business_checkin=df_checkin[df_checkin['business_id']==business_id]\n",
    "    df_checkin=df_checkin[df_city_checkin['user_id']!=user_id]\n",
    "    return df_checkin.apply(lambda checkin: user_similarity(user_checkin,df_checkin[df_checkin['user_id']==checkin['user_id']]),axis=1)\n",
    "\n",
    "user_cf('46TNf-5T5EcNFRJPYv_nrw',df_city_checkin[df_city_checkin.user_id=='46TNf-5T5EcNFRJPYv_nrw'],'ujmEBvifdJM6h6RLv4wQIg',df_city_checkin)"
   ]
  },
  {
   "cell_type": "code",
   "execution_count": null,
   "metadata": {},
   "outputs": [],
   "source": []
  },
  {
   "cell_type": "code",
   "execution_count": 40,
   "metadata": {},
   "outputs": [
    {
     "name": "stdout",
     "output_type": "stream",
     "text": [
      "46TNf-5T5EcNFRJPYv_nrw\n",
      "                  user_id             business_id                 date  \\\n",
      "0  46TNf-5T5EcNFRJPYv_nrw  ujmEBvifdJM6h6RLv4wQIg  2015-08-19 16:39:53   \n",
      "\n",
      "    latitude   longitude                                         categories  \\\n",
      "0  36.215546 -115.248798  [Fitness & Instruction, Doctors, Gyms, Emergen...   \n",
      "\n",
      "   subarea_id  \n",
      "0      1415.0  \n"
     ]
    }
   ],
   "source": [
    "for index,user_id in users_id.iteritems():\n",
    "    print(user_id)\n",
    "    df_user_checkin=df_city_checkin[df_city_checkin[.index]==user_id]\n",
    "    print(df_user_checkin)\n",
    "    break"
   ]
  },
  {
   "cell_type": "markdown",
   "metadata": {},
   "source": [
    "# S: social"
   ]
  },
  {
   "cell_type": "code",
   "execution_count": null,
   "metadata": {},
   "outputs": [],
   "source": []
  },
  {
   "cell_type": "code",
   "execution_count": 10,
   "metadata": {},
   "outputs": [
    {
     "name": "stdout",
     "output_type": "stream",
     "text": [
      "business_id\n",
      "user_id\n",
      "46TNf-5T5EcNFRJPYv_nrw    ujmEBvifdJM6h6RLv4wQIg\n",
      "56iEnLi8jR--2ranjPSQ4w    ujmEBvifdJM6h6RLv4wQIg\n",
      "UDKqdVT0FrpL19shSOqgow    ujmEBvifdJM6h6RLv4wQIg\n",
      "Nw6Jza_cb0aqd4PT769Vzw    ujmEBvifdJM6h6RLv4wQIg\n",
      "3b5EsiTkqgdbxPXz7LfBpA    ujmEBvifdJM6h6RLv4wQIg\n",
      "                                   ...          \n",
      "i7K3PDFJzXJSebzCj8UYJw    7BIH7ga7YotCM_Bh6qplIA\n",
      "i7K3PDFJzXJSebzCj8UYJw    7BIH7ga7YotCM_Bh6qplIA\n",
      "I3E0WQMyDhkvfrLHVot00w    lPgE2MIteQVzs39bwfmS6Q\n",
      "vWUj8ed8ojO8CctKP-mwxQ    lPgE2MIteQVzs39bwfmS6Q\n",
      "vWUj8ed8ojO8CctKP-mwxQ    lPgE2MIteQVzs39bwfmS6Q\n",
      "Name: business_id, Length: 311191, dtype: object\n",
      "0\n"
     ]
    }
   ],
   "source": [
    "i=0\n",
    "df_city_checkin[df_city_checkin.index=='46TNf-5T5EcNFRJPYv_nrw']\n",
    "for index,checkin in df_city_checkin.iteritems():\n",
    "    print(index)\n",
    "    print(checkin)\n",
    "    if i%22==0:\n",
    "        print(i)\n",
    "        break\n",
    "    i=i+1"
   ]
  }
 ],
 "metadata": {
  "kernelspec": {
   "display_name": "Python 3",
   "language": "python",
   "name": "python3"
  },
  "language_info": {
   "codemirror_mode": {
    "name": "ipython",
    "version": 3
   },
   "file_extension": ".py",
   "mimetype": "text/x-python",
   "name": "python",
   "nbconvert_exporter": "python",
   "pygments_lexer": "ipython3",
   "version": "3.7.4"
  }
 },
 "nbformat": 4,
 "nbformat_minor": 4
}
