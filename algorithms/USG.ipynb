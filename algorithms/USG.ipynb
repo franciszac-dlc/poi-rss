{
 "cells": [
  {
   "cell_type": "code",
   "execution_count": 84,
   "metadata": {},
   "outputs": [],
   "source": [
    "import numpy as np\n",
    "import pandas as pd\n",
    "import recommenders as rec\n",
    "import networkx as nx\n",
    "import matplotlib.pyplot as plt\n",
    "import areamanager\n",
    "import math\n",
    "import timeit\n",
    "def string_to_array(string):\n",
    "    if string == '':\n",
    "        return list()\n",
    "    return eval(string)\n",
    "%matplotlib inline"
   ]
  },
  {
   "cell_type": "code",
   "execution_count": 85,
   "metadata": {},
   "outputs": [],
   "source": [
    "df_city_checkin=pd.read_csv(\"../data/checkin/lasvegas.csv\",converters={'categories':string_to_array})\n",
    "users_id=df_city_checkin['user_id'].drop_duplicates().reset_index(drop=True)\n",
    "\n",
    "# USG uses unique checkins cij = 1 or cij = 0\n",
    "df_city_checkin=df_city_checkin.drop_duplicates(subset=['user_id','business_id']).reset_index(drop=True)"
   ]
  },
  {
   "cell_type": "code",
   "execution_count": 88,
   "metadata": {},
   "outputs": [
    {
     "data": {
      "text/html": [
       "<div>\n",
       "<style scoped>\n",
       "    .dataframe tbody tr th:only-of-type {\n",
       "        vertical-align: middle;\n",
       "    }\n",
       "\n",
       "    .dataframe tbody tr th {\n",
       "        vertical-align: top;\n",
       "    }\n",
       "\n",
       "    .dataframe thead th {\n",
       "        text-align: right;\n",
       "    }\n",
       "</style>\n",
       "<table border=\"1\" class=\"dataframe\">\n",
       "  <thead>\n",
       "    <tr style=\"text-align: right;\">\n",
       "      <th></th>\n",
       "      <th>business_id</th>\n",
       "      <th>date</th>\n",
       "      <th>latitude</th>\n",
       "      <th>longitude</th>\n",
       "      <th>categories</th>\n",
       "      <th>subarea_id</th>\n",
       "    </tr>\n",
       "    <tr>\n",
       "      <th>user_id</th>\n",
       "      <th></th>\n",
       "      <th></th>\n",
       "      <th></th>\n",
       "      <th></th>\n",
       "      <th></th>\n",
       "      <th></th>\n",
       "    </tr>\n",
       "  </thead>\n",
       "  <tbody>\n",
       "    <tr>\n",
       "      <th>46TNf-5T5EcNFRJPYv_nrw</th>\n",
       "      <td>ujmEBvifdJM6h6RLv4wQIg</td>\n",
       "      <td>2015-08-19 16:39:53</td>\n",
       "      <td>36.215546</td>\n",
       "      <td>-115.248798</td>\n",
       "      <td>[Fitness &amp; Instruction, Doctors, Gyms, Emergen...</td>\n",
       "      <td>1415.0</td>\n",
       "    </tr>\n",
       "    <tr>\n",
       "      <th>56iEnLi8jR--2ranjPSQ4w</th>\n",
       "      <td>ujmEBvifdJM6h6RLv4wQIg</td>\n",
       "      <td>2013-08-04 10:55:04</td>\n",
       "      <td>36.215546</td>\n",
       "      <td>-115.248798</td>\n",
       "      <td>[Fitness &amp; Instruction, Doctors, Gyms, Emergen...</td>\n",
       "      <td>1415.0</td>\n",
       "    </tr>\n",
       "    <tr>\n",
       "      <th>UDKqdVT0FrpL19shSOqgow</th>\n",
       "      <td>ujmEBvifdJM6h6RLv4wQIg</td>\n",
       "      <td>2017-03-15 23:27:38</td>\n",
       "      <td>36.215546</td>\n",
       "      <td>-115.248798</td>\n",
       "      <td>[Fitness &amp; Instruction, Doctors, Gyms, Emergen...</td>\n",
       "      <td>1415.0</td>\n",
       "    </tr>\n",
       "    <tr>\n",
       "      <th>Nw6Jza_cb0aqd4PT769Vzw</th>\n",
       "      <td>ujmEBvifdJM6h6RLv4wQIg</td>\n",
       "      <td>2013-01-04 22:04:02</td>\n",
       "      <td>36.215546</td>\n",
       "      <td>-115.248798</td>\n",
       "      <td>[Fitness &amp; Instruction, Doctors, Gyms, Emergen...</td>\n",
       "      <td>1415.0</td>\n",
       "    </tr>\n",
       "    <tr>\n",
       "      <th>3b5EsiTkqgdbxPXz7LfBpA</th>\n",
       "      <td>ujmEBvifdJM6h6RLv4wQIg</td>\n",
       "      <td>2014-08-11 23:57:54</td>\n",
       "      <td>36.215546</td>\n",
       "      <td>-115.248798</td>\n",
       "      <td>[Fitness &amp; Instruction, Doctors, Gyms, Emergen...</td>\n",
       "      <td>1415.0</td>\n",
       "    </tr>\n",
       "  </tbody>\n",
       "</table>\n",
       "</div>"
      ],
      "text/plain": [
       "                                   business_id                 date  \\\n",
       "user_id                                                               \n",
       "46TNf-5T5EcNFRJPYv_nrw  ujmEBvifdJM6h6RLv4wQIg  2015-08-19 16:39:53   \n",
       "56iEnLi8jR--2ranjPSQ4w  ujmEBvifdJM6h6RLv4wQIg  2013-08-04 10:55:04   \n",
       "UDKqdVT0FrpL19shSOqgow  ujmEBvifdJM6h6RLv4wQIg  2017-03-15 23:27:38   \n",
       "Nw6Jza_cb0aqd4PT769Vzw  ujmEBvifdJM6h6RLv4wQIg  2013-01-04 22:04:02   \n",
       "3b5EsiTkqgdbxPXz7LfBpA  ujmEBvifdJM6h6RLv4wQIg  2014-08-11 23:57:54   \n",
       "\n",
       "                         latitude   longitude  \\\n",
       "user_id                                         \n",
       "46TNf-5T5EcNFRJPYv_nrw  36.215546 -115.248798   \n",
       "56iEnLi8jR--2ranjPSQ4w  36.215546 -115.248798   \n",
       "UDKqdVT0FrpL19shSOqgow  36.215546 -115.248798   \n",
       "Nw6Jza_cb0aqd4PT769Vzw  36.215546 -115.248798   \n",
       "3b5EsiTkqgdbxPXz7LfBpA  36.215546 -115.248798   \n",
       "\n",
       "                                                               categories  \\\n",
       "user_id                                                                     \n",
       "46TNf-5T5EcNFRJPYv_nrw  [Fitness & Instruction, Doctors, Gyms, Emergen...   \n",
       "56iEnLi8jR--2ranjPSQ4w  [Fitness & Instruction, Doctors, Gyms, Emergen...   \n",
       "UDKqdVT0FrpL19shSOqgow  [Fitness & Instruction, Doctors, Gyms, Emergen...   \n",
       "Nw6Jza_cb0aqd4PT769Vzw  [Fitness & Instruction, Doctors, Gyms, Emergen...   \n",
       "3b5EsiTkqgdbxPXz7LfBpA  [Fitness & Instruction, Doctors, Gyms, Emergen...   \n",
       "\n",
       "                        subarea_id  \n",
       "user_id                             \n",
       "46TNf-5T5EcNFRJPYv_nrw      1415.0  \n",
       "56iEnLi8jR--2ranjPSQ4w      1415.0  \n",
       "UDKqdVT0FrpL19shSOqgow      1415.0  \n",
       "Nw6Jza_cb0aqd4PT769Vzw      1415.0  \n",
       "3b5EsiTkqgdbxPXz7LfBpA      1415.0  "
      ]
     },
     "execution_count": 88,
     "metadata": {},
     "output_type": "execute_result"
    }
   ],
   "source": [
    "df_city_checkin=df_city_checkin.set_index('user_id')\n",
    "df_city_checkin.head()"
   ]
  },
  {
   "cell_type": "markdown",
   "metadata": {},
   "source": [
    "# U: preference\n",
    "\n",
    "$CosineSimilarity = cos(\\pmb x, \\pmb y) = \\frac {\\pmb x \\cdot \\pmb y}{||\\pmb x|| \\cdot ||\\pmb y||}$"
   ]
  },
  {
   "cell_type": "code",
   "execution_count": 89,
   "metadata": {},
   "outputs": [
    {
     "data": {
      "text/plain": [
       "0.02973505167250263"
      ]
     },
     "execution_count": 89,
     "metadata": {},
     "output_type": "execute_result"
    }
   ],
   "source": [
    "def user_similarity(user_checkin_1,user_checkin_2):\n",
    "    common_checkin=pd.merge(user_checkin_1,user_checkin_2,on='business_id')\n",
    "    return common_checkin.date_x.count()/(math.sqrt(user_checkin_1.date.count())\n",
    "                                   *math.sqrt(user_checkin_2.date.count()))\n",
    "\n",
    "user_similarity(df_city_checkin.loc['46TNf-5T5EcNFRJPYv_nrw'],\n",
    "                df_city_checkin.loc['56iEnLi8jR--2ranjPSQ4w'])"
   ]
  },
  {
   "cell_type": "markdown",
   "metadata": {},
   "source": [
    "$\\#df\\_user\\_similarity=\\frac{\\#usuarios\\cdot (\\#usuarios-1)}{2}=\\sum_{i=1}^{\\#usuarios}{i}$"
   ]
  },
  {
   "cell_type": "code",
   "execution_count": null,
   "metadata": {},
   "outputs": [],
   "source": [
    "df_user_similarity=pd.DataFrame(columns=['user_id_1','user_id_2','similarity'])\n",
    "i=0\n",
    "start = timeit.default_timer()\n",
    "# loop sobre os ids dos usuarios\n",
    "for index_1,user_id_1 in users_id.iteritems():\n",
    "    # lista de checkins do usuario\n",
    "    df_user_checkin_1=df_city_checkin.loc[user_id_1]\n",
    "    # Exclui o proprio usuario\n",
    "    for index_2,user_id_2 in users_id.drop(index_1).iteritems():\n",
    "        if len(df_user_similarity[((df_user_similarity.user_id_1==user_id_1) | (df_user_similarity.user_id_1==user_id_2)) &\n",
    "                        ((df_user_similarity.user_id_2==user_id_1) | (df_user_similarity.user_id_2==user_id_2))])!=0:\n",
    "            continue\n",
    "            \n",
    "        df_user_checkin_2=df_city_checkin.loc[user_id_2]\n",
    "        sim=user_similarity(df_user_checkin_1,df_user_checkin_2)\n",
    "        df_user_similarity=df_user_similarity.append({'user_id_1':user_id_1,'user_id_2':user_id_2,'similarity':sim},ignore_index=True)\n",
    "    if i % 10 == 0:\n",
    "        print(\"user\",i)\n",
    "    i=i+1\n",
    "\n",
    "stop = timeit.default_timer()\n",
    "print('Time:', stop - start)\n",
    "df_user_similarity"
   ]
  },
  {
   "cell_type": "code",
   "execution_count": null,
   "metadata": {},
   "outputs": [],
   "source": [
    "def user_cf(user_id,user_checkin,business_id,df_checkin):\n",
    "    df_business_checkin=df_checkin[df_checkin['business_id']==business_id]\n",
    "    df_checkin=df_checkin[df_city_checkin['user_id']!=user_id]\n",
    "    return df_checkin.apply(lambda checkin: user_similarity(user_checkin,df_checkin[df_checkin['user_id']==checkin['user_id']]),axis=1)\n",
    "\n",
    "user_cf('46TNf-5T5EcNFRJPYv_nrw',df_city_checkin[df_city_checkin.user_id=='46TNf-5T5EcNFRJPYv_nrw'],'ujmEBvifdJM6h6RLv4wQIg',df_city_checkin)"
   ]
  },
  {
   "cell_type": "code",
   "execution_count": 40,
   "metadata": {},
   "outputs": [
    {
     "name": "stdout",
     "output_type": "stream",
     "text": [
      "46TNf-5T5EcNFRJPYv_nrw\n",
      "                  user_id             business_id                 date  \\\n",
      "0  46TNf-5T5EcNFRJPYv_nrw  ujmEBvifdJM6h6RLv4wQIg  2015-08-19 16:39:53   \n",
      "\n",
      "    latitude   longitude                                         categories  \\\n",
      "0  36.215546 -115.248798  [Fitness & Instruction, Doctors, Gyms, Emergen...   \n",
      "\n",
      "   subarea_id  \n",
      "0      1415.0  \n"
     ]
    }
   ],
   "source": [
    "for index,user_id in users_id.iteritems():\n",
    "    print(user_id)\n",
    "    df_user_checkin=df_city_checkin[df_city_checkin[.index]==user_id]\n",
    "    print(df_user_checkin)\n",
    "    break"
   ]
  },
  {
   "cell_type": "markdown",
   "metadata": {},
   "source": [
    "# S: social"
   ]
  },
  {
   "cell_type": "code",
   "execution_count": 61,
   "metadata": {},
   "outputs": [],
   "source": [
    "df_city_user=pd.read_csv(\"../data/user/lasvegas.csv\",converters={'friends':string_to_array})"
   ]
  },
  {
   "cell_type": "code",
   "execution_count": 62,
   "metadata": {},
   "outputs": [
    {
     "data": {
      "text/html": [
       "<div>\n",
       "<style scoped>\n",
       "    .dataframe tbody tr th:only-of-type {\n",
       "        vertical-align: middle;\n",
       "    }\n",
       "\n",
       "    .dataframe tbody tr th {\n",
       "        vertical-align: top;\n",
       "    }\n",
       "\n",
       "    .dataframe thead th {\n",
       "        text-align: right;\n",
       "    }\n",
       "</style>\n",
       "<table border=\"1\" class=\"dataframe\">\n",
       "  <thead>\n",
       "    <tr style=\"text-align: right;\">\n",
       "      <th></th>\n",
       "      <th>friends</th>\n",
       "    </tr>\n",
       "    <tr>\n",
       "      <th>user_id</th>\n",
       "      <th></th>\n",
       "    </tr>\n",
       "  </thead>\n",
       "  <tbody>\n",
       "    <tr>\n",
       "      <th>bc8C_eETBWL0olvFSJJd0w</th>\n",
       "      <td>[4N-HU_T32hLENLntsNKNBg, lwhksSpgIyeYZor_HlN93...</td>\n",
       "    </tr>\n",
       "    <tr>\n",
       "      <th>QiDtS54JwTGeH81c-a84WQ</th>\n",
       "      <td>[s-591-mtIyP7F1Lffw98jw, Nh-ztLj1IxS8ROHQqDFSi...</td>\n",
       "    </tr>\n",
       "    <tr>\n",
       "      <th>NcUMNz6tAahD6mDmuKwYIA</th>\n",
       "      <td>[jviCbPOvb08T6nZu5R1tkw, KyMkKb5IohKb0S7v4Jv-o...</td>\n",
       "    </tr>\n",
       "    <tr>\n",
       "      <th>i3dgAM1hWY9UdUCNMDnLXQ</th>\n",
       "      <td>[pxzs-Dy2hXTis-PuNCV37Q, uZCy7wuptQo3arWvhpqZA...</td>\n",
       "    </tr>\n",
       "    <tr>\n",
       "      <th>U4INQZOPSUaj8hMjLlZ3KA</th>\n",
       "      <td>[01prx46XR0mMJpNjpGeS6Q, -C-l8EHSLXtZZVfUAUhsP...</td>\n",
       "    </tr>\n",
       "  </tbody>\n",
       "</table>\n",
       "</div>"
      ],
      "text/plain": [
       "                                                                  friends\n",
       "user_id                                                                  \n",
       "bc8C_eETBWL0olvFSJJd0w  [4N-HU_T32hLENLntsNKNBg, lwhksSpgIyeYZor_HlN93...\n",
       "QiDtS54JwTGeH81c-a84WQ  [s-591-mtIyP7F1Lffw98jw, Nh-ztLj1IxS8ROHQqDFSi...\n",
       "NcUMNz6tAahD6mDmuKwYIA  [jviCbPOvb08T6nZu5R1tkw, KyMkKb5IohKb0S7v4Jv-o...\n",
       "i3dgAM1hWY9UdUCNMDnLXQ  [pxzs-Dy2hXTis-PuNCV37Q, uZCy7wuptQo3arWvhpqZA...\n",
       "U4INQZOPSUaj8hMjLlZ3KA  [01prx46XR0mMJpNjpGeS6Q, -C-l8EHSLXtZZVfUAUhsP..."
      ]
     },
     "execution_count": 62,
     "metadata": {},
     "output_type": "execute_result"
    }
   ],
   "source": [
    "df_city_user.set_index('user_id',inplace=True)\n",
    "df_city_user.head()"
   ]
  },
  {
   "cell_type": "markdown",
   "metadata": {},
   "source": [
    "$SI_{k,i}=\\eta\\cdot\\frac{|F_k\\cap F_i|}{|F_k\\cup F_i|} + (1-\\eta)\\cdot\\frac{|L_k\\cap L_i|}{|L_k\\cup L_i|}$\n",
    "\n",
    "$F_k:$ is the friend set of user k\n",
    "\n",
    "$L_k:$ denote the POI set of user k\n",
    "\n",
    "$\\eta:$ tuning parameter, smaller than 0.05 gives optimal result.(optimal setting)"
   ]
  },
  {
   "cell_type": "code",
   "execution_count": 96,
   "metadata": {},
   "outputs": [
    {
     "data": {
      "text/plain": [
       "0.02289156626506024"
      ]
     },
     "execution_count": 96,
     "metadata": {},
     "output_type": "execute_result"
    }
   ],
   "source": [
    "def social_influence(df_friends_1,df_friends_2,df_user_poi_1,df_user_poi_2,tuning_parameter):\n",
    "    common_friends=len(pd.merge(df_friends_1,df_friends_2))\n",
    "    union_friends=len(pd.concat([df_friends_1,df_friends_2]).drop_duplicates())\n",
    "    common_pois=len(pd.merge(df_user_poi_1,df_user_poi_2))\n",
    "    union_pois=len(pd.concat([df_user_poi_1,df_user_poi_2]).drop_duplicates())\n",
    "    return tuning_parameter*common_friends/union_friends+(1-tuning_parameter)*common_pois/union_pois\n",
    "df_friends_1=df_city_user.loc['56iEnLi8jR--2ranjPSQ4w']\n",
    "df_friends_2=df_city_user.loc['Nw6Jza_cb0aqd4PT769Vzw']\n",
    "\n",
    "df_friends_1=pd.DataFrame(df_friends_1['friends'],columns=['user_id'])\n",
    "df_friends_2=pd.DataFrame(df_friends_2['friends'],columns=['user_id'])\n",
    "df_user_poi_1=df_city_checkin.loc['56iEnLi8jR--2ranjPSQ4w']['business_id'].drop_duplicates()\n",
    "df_user_poi_2=df_city_checkin.loc['Nw6Jza_cb0aqd4PT769Vzw']['business_id'].drop_duplicates()\n",
    "\n",
    "\n",
    "social_influence(df_friends_1,df_friends_2,df_user_poi_1,df_user_poi_2,0.05)"
   ]
  },
  {
   "cell_type": "code",
   "execution_count": 135,
   "metadata": {},
   "outputs": [
    {
     "name": "stdout",
     "output_type": "stream",
     "text": [
      "0.0%\n",
      "0.8078849571820973%\n",
      "1.6157699143641946%\n",
      "2.423654871546292%\n",
      "3.231539828728389%\n",
      "4.039424785910486%\n",
      "4.847309743092584%\n",
      "5.655194700274681%\n",
      "6.463079657456778%\n",
      "7.270964614638875%\n",
      "8.078849571820973%\n",
      "8.88673452900307%\n",
      "9.694619486185168%\n",
      "10.502504443367265%\n",
      "11.310389400549361%\n",
      "12.118274357731458%\n",
      "12.926159314913557%\n",
      "13.734044272095653%\n",
      "14.54192922927775%\n",
      "15.349814186459849%\n",
      "16.157699143641945%\n",
      "16.965584100824042%\n",
      "17.77346905800614%\n",
      "18.581354015188236%\n",
      "19.389238972370336%\n",
      "20.197123929552433%\n",
      "21.00500888673453%\n",
      "21.812893843916626%\n",
      "22.620778801098723%\n",
      "23.42866375828082%\n",
      "24.236548715462916%\n",
      "25.044433672645017%\n",
      "25.852318629827113%\n",
      "26.66020358700921%\n",
      "27.468088544191307%\n",
      "28.275973501373404%\n",
      "29.0838584585555%\n",
      "29.8917434157376%\n",
      "30.699628372919697%\n",
      "31.507513330101794%\n",
      "32.31539828728389%\n",
      "33.12328324446599%\n",
      "33.931168201648084%\n",
      "34.73905315883018%\n",
      "35.54693811601228%\n",
      "36.354823073194375%\n",
      "37.16270803037647%\n",
      "37.97059298755857%\n",
      "38.77847794474067%\n",
      "39.58636290192277%\n",
      "40.394247859104865%\n",
      "41.20213281628696%\n",
      "42.01001777346906%\n",
      "42.817902730651156%\n",
      "43.62578768783325%\n",
      "44.43367264501535%\n",
      "45.241557602197446%\n",
      "46.04944255937954%\n",
      "46.85732751656164%\n",
      "47.665212473743736%\n",
      "48.47309743092583%\n",
      "49.28098238810794%\n",
      "50.08886734529003%\n",
      "50.89675230247213%\n",
      "51.70463725965423%\n",
      "52.512522216836324%\n",
      "53.32040717401842%\n",
      "54.12829213120052%\n",
      "54.936177088382614%\n",
      "55.74406204556471%\n",
      "56.55194700274681%\n",
      "57.359831959928904%\n",
      "58.167716917111%\n",
      "58.9756018742931%\n",
      "59.7834868314752%\n",
      "60.5913717886573%\n",
      "61.399256745839395%\n",
      "62.20714170302149%\n",
      "63.01502666020359%\n",
      "63.822911617385685%\n",
      "64.63079657456778%\n",
      "65.43868153174988%\n",
      "66.24656648893198%\n",
      "67.05445144611407%\n",
      "67.86233640329617%\n",
      "68.67022136047827%\n",
      "69.47810631766036%\n",
      "70.28599127484246%\n",
      "71.09387623202456%\n",
      "71.90176118920665%\n",
      "72.70964614638875%\n",
      "73.51753110357085%\n",
      "74.32541606075294%\n",
      "75.13330101793504%\n",
      "75.94118597511714%\n",
      "76.74907093229925%\n",
      "77.55695588948134%\n",
      "78.36484084666344%\n",
      "79.17272580384554%\n",
      "79.98061076102763%\n",
      "80.78849571820973%\n",
      "81.59638067539183%\n",
      "82.40426563257392%\n",
      "83.21215058975602%\n",
      "84.02003554693812%\n",
      "84.82792050412021%\n",
      "85.63580546130231%\n",
      "86.44369041848441%\n",
      "87.2515753756665%\n",
      "88.0594603328486%\n",
      "88.8673452900307%\n",
      "89.6752302472128%\n",
      "90.48311520439489%\n",
      "91.29100016157699%\n",
      "92.09888511875909%\n",
      "92.90677007594118%\n",
      "93.71465503312328%\n",
      "94.52253999030538%\n",
      "95.33042494748747%\n",
      "96.13830990466957%\n",
      "96.94619486185167%\n",
      "97.75407981903376%\n",
      "98.56196477621587%\n",
      "99.36984973339797%\n",
      "Time: 3179.532260642969\n"
     ]
    }
   ],
   "source": [
    "df_user_social_influence=pd.DataFrame(columns=['user_id_1','user_id_2','social_influence'])\n",
    "num_users=len(users_id)\n",
    "\n",
    "\n",
    "start = timeit.default_timer()\n",
    "for index_1,user_id_1 in users_id.iteritems():\n",
    "    # lista de checkins do usuario\n",
    "    #df_user_checkin_1=df_city_checkin[df_city_checkin.user_id==user_id_1]\n",
    "    #df_city_user\n",
    "    friends_list=df_city_user.loc[user_id_1]['friends']\n",
    "    df_friends_1=pd.DataFrame(friends_list,columns=['user_id'])\n",
    "    df_user_poi_1=df_city_checkin.loc[user_id_1]['business_id'].drop_duplicates()\n",
    "    for user_id_2 in friends_list:\n",
    "        df_friends_2=pd.DataFrame(df_city_user.loc[user_id_2]['friends'],columns=['user_id'])\n",
    "        df_user_poi_2=df_city_checkin.loc[user_id_2]['business_id'].drop_duplicates()\n",
    "        si=social_influence(df_friends_1,df_friends_2,df_user_poi_1,df_user_poi_2,0.05)\n",
    "        df_user_social_influence=df_user_social_influence.append({'user_id_1':user_id_1,'user_id_2':user_id_2,'social_influence':si},ignore_index=True)\n",
    "    if index_1%125==0:\n",
    "        print(str(100*index_1/num_users)+\"%\")\n",
    "stop = timeit.default_timer()\n",
    "print('Time:', stop - start)"
   ]
  },
  {
   "cell_type": "code",
   "execution_count": 9,
   "metadata": {},
   "outputs": [
    {
     "data": {
      "text/html": [
       "<div>\n",
       "<style scoped>\n",
       "    .dataframe tbody tr th:only-of-type {\n",
       "        vertical-align: middle;\n",
       "    }\n",
       "\n",
       "    .dataframe tbody tr th {\n",
       "        vertical-align: top;\n",
       "    }\n",
       "\n",
       "    .dataframe thead th {\n",
       "        text-align: right;\n",
       "    }\n",
       "</style>\n",
       "<table border=\"1\" class=\"dataframe\">\n",
       "  <thead>\n",
       "    <tr style=\"text-align: right;\">\n",
       "      <th></th>\n",
       "      <th>user_id</th>\n",
       "      <th>friends</th>\n",
       "    </tr>\n",
       "  </thead>\n",
       "  <tbody>\n",
       "    <tr>\n",
       "      <th>0</th>\n",
       "      <td>bc8C_eETBWL0olvFSJJd0w</td>\n",
       "      <td>[4N-HU_T32hLENLntsNKNBg, lwhksSpgIyeYZor_HlN93...</td>\n",
       "    </tr>\n",
       "    <tr>\n",
       "      <th>1</th>\n",
       "      <td>QiDtS54JwTGeH81c-a84WQ</td>\n",
       "      <td>[s-591-mtIyP7F1Lffw98jw, Nh-ztLj1IxS8ROHQqDFSi...</td>\n",
       "    </tr>\n",
       "    <tr>\n",
       "      <th>2</th>\n",
       "      <td>NcUMNz6tAahD6mDmuKwYIA</td>\n",
       "      <td>[jviCbPOvb08T6nZu5R1tkw, KyMkKb5IohKb0S7v4Jv-o...</td>\n",
       "    </tr>\n",
       "    <tr>\n",
       "      <th>3</th>\n",
       "      <td>i3dgAM1hWY9UdUCNMDnLXQ</td>\n",
       "      <td>[pxzs-Dy2hXTis-PuNCV37Q, uZCy7wuptQo3arWvhpqZA...</td>\n",
       "    </tr>\n",
       "    <tr>\n",
       "      <th>4</th>\n",
       "      <td>U4INQZOPSUaj8hMjLlZ3KA</td>\n",
       "      <td>[01prx46XR0mMJpNjpGeS6Q, -C-l8EHSLXtZZVfUAUhsP...</td>\n",
       "    </tr>\n",
       "  </tbody>\n",
       "</table>\n",
       "</div>"
      ],
      "text/plain": [
       "                  user_id                                            friends\n",
       "0  bc8C_eETBWL0olvFSJJd0w  [4N-HU_T32hLENLntsNKNBg, lwhksSpgIyeYZor_HlN93...\n",
       "1  QiDtS54JwTGeH81c-a84WQ  [s-591-mtIyP7F1Lffw98jw, Nh-ztLj1IxS8ROHQqDFSi...\n",
       "2  NcUMNz6tAahD6mDmuKwYIA  [jviCbPOvb08T6nZu5R1tkw, KyMkKb5IohKb0S7v4Jv-o...\n",
       "3  i3dgAM1hWY9UdUCNMDnLXQ  [pxzs-Dy2hXTis-PuNCV37Q, uZCy7wuptQo3arWvhpqZA...\n",
       "4  U4INQZOPSUaj8hMjLlZ3KA  [01prx46XR0mMJpNjpGeS6Q, -C-l8EHSLXtZZVfUAUhsP..."
      ]
     },
     "execution_count": 9,
     "metadata": {},
     "output_type": "execute_result"
    }
   ],
   "source": [
    "df_city_user.head()"
   ]
  },
  {
   "cell_type": "code",
   "execution_count": 10,
   "metadata": {},
   "outputs": [
    {
     "name": "stdout",
     "output_type": "stream",
     "text": [
      "business_id\n",
      "user_id\n",
      "46TNf-5T5EcNFRJPYv_nrw    ujmEBvifdJM6h6RLv4wQIg\n",
      "56iEnLi8jR--2ranjPSQ4w    ujmEBvifdJM6h6RLv4wQIg\n",
      "UDKqdVT0FrpL19shSOqgow    ujmEBvifdJM6h6RLv4wQIg\n",
      "Nw6Jza_cb0aqd4PT769Vzw    ujmEBvifdJM6h6RLv4wQIg\n",
      "3b5EsiTkqgdbxPXz7LfBpA    ujmEBvifdJM6h6RLv4wQIg\n",
      "                                   ...          \n",
      "i7K3PDFJzXJSebzCj8UYJw    7BIH7ga7YotCM_Bh6qplIA\n",
      "i7K3PDFJzXJSebzCj8UYJw    7BIH7ga7YotCM_Bh6qplIA\n",
      "I3E0WQMyDhkvfrLHVot00w    lPgE2MIteQVzs39bwfmS6Q\n",
      "vWUj8ed8ojO8CctKP-mwxQ    lPgE2MIteQVzs39bwfmS6Q\n",
      "vWUj8ed8ojO8CctKP-mwxQ    lPgE2MIteQVzs39bwfmS6Q\n",
      "Name: business_id, Length: 311191, dtype: object\n",
      "0\n"
     ]
    }
   ],
   "source": [
    "i=0\n",
    "df_city_checkin[df_city_checkin.index=='46TNf-5T5EcNFRJPYv_nrw']\n",
    "for index,checkin in df_city_checkin.iteritems():\n",
    "    print(index)\n",
    "    print(checkin)\n",
    "    if i%22==0:\n",
    "        print(i)\n",
    "        break\n",
    "    i=i+1"
   ]
  },
  {
   "cell_type": "markdown",
   "metadata": {},
   "source": [
    "# G: geographical\n",
    "\n",
    "\n",
    "\n",
    "$y'(x',w)=w_0+w_1\\cdot x'$"
   ]
  },
  {
   "cell_type": "code",
   "execution_count": null,
   "metadata": {},
   "outputs": [],
   "source": []
  }
 ],
 "metadata": {
  "kernelspec": {
   "display_name": "Python 3",
   "language": "python",
   "name": "python3"
  },
  "language_info": {
   "codemirror_mode": {
    "name": "ipython",
    "version": 3
   },
   "file_extension": ".py",
   "mimetype": "text/x-python",
   "name": "python",
   "nbconvert_exporter": "python",
   "pygments_lexer": "ipython3",
   "version": "3.7.4"
  }
 },
 "nbformat": 4,
 "nbformat_minor": 4
}
