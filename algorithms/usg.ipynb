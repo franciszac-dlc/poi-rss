{
 "cells": [
  {
   "cell_type": "code",
   "execution_count": null,
   "metadata": {
    "autoscroll": false,
    "ein.hycell": false,
    "ein.tags": "worksheet-0",
    "slideshow": {
     "slide_type": "-"
    }
   },
   "outputs": [],
   "source": [
    "import numpy as np\n",
    "import pandas as pd\n",
    "import lib.recommenders as rec\n",
    "import networkx as nx\n",
    "import matplotlib.pyplot as plt\n",
    "import lib.areamanager\n",
    "import math\n",
    "import timeit\n",
    "import lib.geo_utils\n",
    "from collections import defaultdict\n",
    "from lib.constants import experiment_constants\n",
    "import lib.geocat.cat_utils as cat_utils\n",
    "def string_to_array(string):\n",
    "    if string == '':\n",
    "        return list()\n",
    "    return eval(string)\n",
    "%matplotlib inline\n",
    "\n",
    "from lib.usg.UserBasedCF import UserBasedCF\n",
    "from lib.usg.FriendBasedCF import FriendBasedCF\n",
    "from lib.usg.PowerLaw import PowerLaw\n",
    "\n",
    "from lib.metrics import precisionk, recallk, ildk,gck,prk\n",
    "\n",
    "# poi_int_id=df_checkin_train['business_id'].drop_duplicates().reset_index(drop=True).to_dict()\n",
    "# poi_num=len(poi_int_to_id)\n",
    "# user_int_id=df_checkin_train.reset_index().user_id.drop_duplicates().reset_index(drop=True).to_dict()\n",
    "# user_num=len(user_int_to_id)\n",
    "# for i,j in poi_int_id.copy().items():\n",
    "#     poi_int_id[j]=i\n",
    "# for i,j in user_int_id.copy().items():\n",
    "#     user_int_id[j]=i\n",
    "# def user_id_to_int(user_id):\n",
    "#     return user_int_id[user_id]\n",
    "# def poi_id_to_int(user_id):\n",
    "#     return poi_int_id[user_id]\n",
    "\n",
    "CITY=experiment_constants.get_city()"
   ]
  },
  {
   "cell_type": "code",
   "execution_count": null,
   "metadata": {},
   "outputs": [],
   "source": [
    "df_checkin=pd.read_csv(\"../data/checkin/\"+CITY+\".csv\",converters={'categories':string_to_array})\n",
    "\n",
    "df_checkin_train=pd.read_csv(\"../data/checkin/train/\"+CITY+\".csv\",converters={'categories':string_to_array})\n",
    "\n",
    "\n",
    "users_id=df_checkin['user_id'].drop_duplicates().reset_index(drop=True)\n",
    "pois_id=df_checkin['business_id'].drop_duplicates().reset_index(drop=True)\n",
    "user_num=len(users_id)\n",
    "poi_num=len(pois_id)\n",
    "# USG uses unique checkins cij = 1 or cij = 0\n",
    "#df_checkin_train=df_checkin_train.drop_duplicates(subset=['user_id','business_id']).reset_index(drop=True)\n",
    "\n",
    "df_checkin_train=df_checkin_train.set_index('user_id')\n",
    "df_checkin_train.head()"
   ]
  },
  {
   "cell_type": "code",
   "execution_count": null,
   "metadata": {},
   "outputs": [],
   "source": [
    "df_checkin_test=pd.read_csv(\"../data/checkin/test/\"+CITY+\".csv\",converters={'categories':string_to_array})\n"
   ]
  },
  {
   "cell_type": "code",
   "execution_count": null,
   "metadata": {},
   "outputs": [],
   "source": [
    "ground_truth = defaultdict(set)\n",
    "for index,row in df_checkin_test[['user_id','business_id']].drop_duplicates().iterrows():\n",
    "    ground_truth[row['user_id']].add(row['business_id'])"
   ]
  },
  {
   "cell_type": "code",
   "execution_count": null,
   "metadata": {},
   "outputs": [],
   "source": [
    "df_user_friends=pd.read_csv(\"../data/user/\"+CITY+\".csv\",converters={'friends':string_to_array})"
   ]
  },
  {
   "cell_type": "code",
   "execution_count": null,
   "metadata": {},
   "outputs": [],
   "source": [
    "poi_coos = {}\n",
    "for lid,latlon in df_checkin[['business_id','latitude','longitude']].reset_index(drop=True).drop_duplicates().set_index('business_id').iterrows():\n",
    "    poi_coos[lid] = tuple(latlon)"
   ]
  },
  {
   "cell_type": "code",
   "execution_count": null,
   "metadata": {},
   "outputs": [],
   "source": [
    "poi_cats = {}\n",
    "for lid,row in df_checkin[['business_id','categories']].reset_index(drop=True).drop_duplicates(subset=['business_id']).set_index('business_id').iterrows():\n",
    "    poi_cats[lid] = row.categories\n"
   ]
  },
  {
   "cell_type": "code",
   "execution_count": null,
   "metadata": {},
   "outputs": [],
   "source": [
    "\n",
    "dict_alias_title,category_tree,dict_alias_depth=cat_utils.cat_structs()\n",
    "undirected_category_tree=category_tree.to_undirected()"
   ]
  },
  {
   "cell_type": "code",
   "execution_count": null,
   "metadata": {},
   "outputs": [],
   "source": [
    "training_matrix = np.zeros((user_num, poi_num))\n"
   ]
  },
  {
   "cell_type": "code",
   "execution_count": null,
   "metadata": {},
   "outputs": [],
   "source": [
    "for user_id,poi_id in df_checkin_train.business_id.iteritems():\n",
    "   # print(user_id,poi_id)\n",
    "    training_matrix[user_id,poi_id]=1"
   ]
  },
  {
   "cell_type": "code",
   "execution_count": null,
   "metadata": {},
   "outputs": [],
   "source": [
    "social_relations = defaultdict(list)\n",
    "for user_id,friends in df_user_friends.set_index(\"user_id\").friends.iteritems():\n",
    "    social_relations[user_int_id[user_id]]=[user_int_id[uid] for uid in friends]"
   ]
  },
  {
   "cell_type": "code",
   "execution_count": null,
   "metadata": {},
   "outputs": [],
   "source": [
    "top_k = 100\n",
    "alpha = 0.1\n",
    "beta = 0.1\n",
    "\n",
    "U = UserBasedCF()\n",
    "S = FriendBasedCF(eta=0.05)\n",
    "G = PowerLaw()\n",
    "\n",
    "U.pre_compute_rec_scores(training_matrix)\n",
    "S.compute_friend_sim(social_relations, training_matrix)\n",
    "G.fit_distance_distribution(training_matrix, poi_coos)"
   ]
  },
  {
   "cell_type": "code",
   "execution_count": null,
   "metadata": {},
   "outputs": [],
   "source": [
    "result_out = open(\"../data/result/sigir11_top_\" + str(top_k) + \".txt\", 'w')\n",
    "\n",
    "all_uids = list(range(user_num))\n",
    "all_lids = list(range(poi_num))\n",
    "\n"
   ]
  },
  {
   "cell_type": "code",
   "execution_count": null,
   "metadata": {},
   "outputs": [],
   "source": [
    "np.random.shuffle(all_uids)"
   ]
  },
  {
   "cell_type": "code",
   "execution_count": null,
   "metadata": {},
   "outputs": [],
   "source": [
    "precision, recall = [], []"
   ]
  },
  {
   "cell_type": "code",
   "execution_count": null,
   "metadata": {},
   "outputs": [],
   "source": [
    "def normalize(scores):\n",
    "    max_score = max(scores)\n",
    "    if not max_score == 0:\n",
    "        scores = [s / max_score for s in scores]\n",
    "    return scores\n"
   ]
  },
  {
   "cell_type": "code",
   "execution_count": null,
   "metadata": {},
   "outputs": [],
   "source": [
    "ild, gc = [],[]"
   ]
  },
  {
   "cell_type": "code",
   "execution_count": null,
   "metadata": {},
   "outputs": [],
   "source": [
    "# df_poi_neighbor=pd.read_csv(\"../data/neighbor/\"+CITY+\".csv\",converters={'neighbors':string_to_array})\n",
    "# df_poi_neighbor=df_poi_neighbor.set_index(\"business_id\")"
   ]
  },
  {
   "cell_type": "code",
   "execution_count": null,
   "metadata": {},
   "outputs": [],
   "source": [
    "# poi_neighbors={}\n",
    "# for lid,row in df_poi_neighbor.iterrows():\n",
    "#     neighbors=row['neighbors']\n",
    "#     poi_neighbors[lid]=neighbors"
   ]
  },
  {
   "cell_type": "code",
   "execution_count": null,
   "metadata": {},
   "outputs": [],
   "source": [
    "#log_size=training_matrix[0,training_matrix[0,:].nonzero()[0]].sum()"
   ]
  },
  {
   "cell_type": "code",
   "execution_count": null,
   "metadata": {},
   "outputs": [],
   "source": [
    "pr=[]"
   ]
  },
  {
   "cell_type": "code",
   "execution_count": null,
   "metadata": {},
   "outputs": [],
   "source": [
    "df_poi_neighbor=pd.read_csv(\"../data/neighbor/\"+CITY+\".csv\",converters={'neighbors':string_to_array})\n",
    "df_poi_neighbor=df_poi_neighbor.set_index(\"business_id\")\n",
    "poi_neighbors={}\n",
    "for lid,row in df_poi_neighbor.iterrows():\n",
    "    neighbors=row['neighbors']\n",
    "    poi_neighbors[lid]=neighbors\n",
    "df_poi_neighbor=None"
   ]
  },
  {
   "cell_type": "code",
   "execution_count": null,
   "metadata": {},
   "outputs": [],
   "source": [
    "for cnt, uid in enumerate(all_uids):\n",
    "    if uid in ground_truth:\n",
    "        U_scores = normalize([U.predict(uid, lid)\n",
    "                              if training_matrix[uid, lid] == 0 else -1\n",
    "                              for lid in all_lids])\n",
    "        S_scores = normalize([S.predict(uid, lid)\n",
    "                              if training_matrix[uid, lid] == 0 else -1\n",
    "                              for lid in all_lids])\n",
    "        G_scores = normalize([G.predict(uid, lid)\n",
    "                              if training_matrix[uid, lid] == 0 else -1\n",
    "                              for lid in all_lids])\n",
    "        \n",
    "        U_scores = np.array(U_scores)\n",
    "        S_scores = np.array(S_scores)\n",
    "        G_scores = np.array(G_scores)\n",
    "        \n",
    "        overall_scores = (1.0 - alpha - beta) * U_scores + alpha * S_scores + beta * G_scores\n",
    "        \n",
    "        predicted = list(reversed(overall_scores.argsort()))[:top_k]\n",
    "        actual = ground_truth[uid]\n",
    "        \n",
    "        precision.append(precisionk(actual, predicted[:10]))\n",
    "        recall.append(recallk(actual, predicted[:10]))\n",
    "\n",
    "        pr.append(prk(training_matrix[uid],predicted[:10],poi_neighbors))\n",
    "        \n",
    "        ild.append(ildk(predicted[:10],poi_cats,undirected_category_tree))\n",
    "        gc.append(gck(uid,training_matrix,poi_cats,predicted[:10]))\n",
    "        print(cnt, uid, \"pre@10:\", np.mean(precision), \"rec@10:\", np.mean(recall),\"ild@10:\",np.mean(ild),\"gc@10:\",np.mean(gc),\"pr@10:\",np.mean(pr))\n",
    "        \n",
    "        result_out.write(str(uid)+',\"'+str(predicted)+'\"\\n')\n",
    "        \n",
    "result_out.close()"
   ]
  },
  {
   "cell_type": "code",
   "execution_count": null,
   "metadata": {},
   "outputs": [],
   "source": [
    "df_metrics=pd.DataFrame([ild,gc,pr]).T\n",
    "df_metrics.columns=['ild','gc','pr']"
   ]
  },
  {
   "cell_type": "code",
   "execution_count": null,
   "metadata": {},
   "outputs": [],
   "source": [
    "df_metrics.plot()"
   ]
  },
  {
   "cell_type": "code",
   "execution_count": null,
   "metadata": {},
   "outputs": [],
   "source": [
    "df_metrics.corr()"
   ]
  },
  {
   "cell_type": "code",
   "execution_count": null,
   "metadata": {},
   "outputs": [],
   "source": [
    "import itertools\n",
    "for m1,m2 in itertools.combinations(df_metrics.columns,2):\n",
    "    df_metrics=df_metrics.sort_values(m1)\n",
    "    df_metrics=df_metrics.reset_index(drop=True)\n",
    "    df_metrics[[m1,m2]].plot()\n",
    "    df_metrics=df_metrics.sort_values(m2)\n",
    "    df_metrics=df_metrics.reset_index(drop=True)\n",
    "    df_metrics[[m1,m2]].plot()"
   ]
  }
 ],
 "metadata": {
  "kernelspec": {
   "display_name": "Python 3",
   "language": "python",
   "name": "python3"
  },
  "language_info": {
   "codemirror_mode": {
    "name": "ipython",
    "version": 3
   },
   "file_extension": ".py",
   "mimetype": "text/x-python",
   "name": "python",
   "nbconvert_exporter": "python",
   "pygments_lexer": "ipython3",
   "version": "3.7.4"
  },
  "name": "USG.ipynb"
 },
 "nbformat": 4,
 "nbformat_minor": 4
}
