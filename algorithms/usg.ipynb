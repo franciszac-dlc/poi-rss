{
 "cells": [
  {
   "cell_type": "code",
   "execution_count": 1,
   "metadata": {
    "autoscroll": false,
    "ein.hycell": false,
    "ein.tags": "worksheet-0",
    "slideshow": {
     "slide_type": "-"
    }
   },
   "outputs": [],
   "source": [
    "import numpy as np\n",
    "import pandas as pd\n",
    "import recommenders as rec\n",
    "import networkx as nx\n",
    "import matplotlib.pyplot as plt\n",
    "import areamanager\n",
    "import math\n",
    "import timeit\n",
    "import geo_utils\n",
    "from constants import geocat_constants\n",
    "from constants import experiment_constants\n",
    "from constants import usg_constants\n",
    "from collections import defaultdict\n",
    "import utils\n",
    "def string_to_array(string):\n",
    "    if string == '':\n",
    "        return list()\n",
    "    return eval(string)\n",
    "%matplotlib inline\n",
    "\n",
    "from lib.UserBasedCF import UserBasedCF\n",
    "from lib.FriendBasedCF import FriendBasedCF\n",
    "from lib.PowerLaw import PowerLaw\n",
    "\n",
    "from lib.metrics import precisionk, recallk, ildk,gck\n",
    "\n",
    "# poi_int_id=df_checkin_train['business_id'].drop_duplicates().reset_index(drop=True).to_dict()\n",
    "# poi_num=len(poi_int_to_id)\n",
    "# user_int_id=df_checkin_train.reset_index().user_id.drop_duplicates().reset_index(drop=True).to_dict()\n",
    "# user_num=len(user_int_to_id)\n",
    "# for i,j in poi_int_id.copy().items():\n",
    "#     poi_int_id[j]=i\n",
    "# for i,j in user_int_id.copy().items():\n",
    "#     user_int_id[j]=i\n",
    "# def user_id_to_int(user_id):\n",
    "#     return user_int_id[user_id]\n",
    "# def poi_id_to_int(user_id):\n",
    "#     return poi_int_id[user_id]\n",
    "\n",
    "CITY=experiment_constants.get_city()"
   ]
  },
  {
   "cell_type": "code",
   "execution_count": 2,
   "metadata": {},
   "outputs": [
    {
     "data": {
      "text/html": [
       "<div>\n",
       "<style scoped>\n",
       "    .dataframe tbody tr th:only-of-type {\n",
       "        vertical-align: middle;\n",
       "    }\n",
       "\n",
       "    .dataframe tbody tr th {\n",
       "        vertical-align: top;\n",
       "    }\n",
       "\n",
       "    .dataframe thead th {\n",
       "        text-align: right;\n",
       "    }\n",
       "</style>\n",
       "<table border=\"1\" class=\"dataframe\">\n",
       "  <thead>\n",
       "    <tr style=\"text-align: right;\">\n",
       "      <th></th>\n",
       "      <th>business_id</th>\n",
       "      <th>date</th>\n",
       "      <th>latitude</th>\n",
       "      <th>longitude</th>\n",
       "      <th>categories</th>\n",
       "      <th>subarea_id</th>\n",
       "    </tr>\n",
       "    <tr>\n",
       "      <th>user_id</th>\n",
       "      <th></th>\n",
       "      <th></th>\n",
       "      <th></th>\n",
       "      <th></th>\n",
       "      <th></th>\n",
       "      <th></th>\n",
       "    </tr>\n",
       "  </thead>\n",
       "  <tbody>\n",
       "    <tr>\n",
       "      <th>0</th>\n",
       "      <td>1744</td>\n",
       "      <td>2017-12-15 14:05:01</td>\n",
       "      <td>43.075012</td>\n",
       "      <td>-89.447498</td>\n",
       "      <td>[desserts, cafes, coffee]</td>\n",
       "      <td>2143.0</td>\n",
       "    </tr>\n",
       "    <tr>\n",
       "      <th>0</th>\n",
       "      <td>2746</td>\n",
       "      <td>2018-01-18 20:57:23</td>\n",
       "      <td>43.106774</td>\n",
       "      <td>-89.497738</td>\n",
       "      <td>[desserts, tradamerican, diners, gastropubs, b...</td>\n",
       "      <td>2641.0</td>\n",
       "    </tr>\n",
       "    <tr>\n",
       "      <th>0</th>\n",
       "      <td>30</td>\n",
       "      <td>2018-01-23 23:14:37</td>\n",
       "      <td>43.072654</td>\n",
       "      <td>-89.384062</td>\n",
       "      <td>[bars, mexican]</td>\n",
       "      <td>2133.0</td>\n",
       "    </tr>\n",
       "    <tr>\n",
       "      <th>0</th>\n",
       "      <td>432</td>\n",
       "      <td>2018-01-27 02:17:06</td>\n",
       "      <td>43.072439</td>\n",
       "      <td>-89.384610</td>\n",
       "      <td>[tradamerican, bars]</td>\n",
       "      <td>2133.0</td>\n",
       "    </tr>\n",
       "    <tr>\n",
       "      <th>0</th>\n",
       "      <td>22</td>\n",
       "      <td>2018-01-27 02:31:26</td>\n",
       "      <td>43.075100</td>\n",
       "      <td>-89.381069</td>\n",
       "      <td>[mexican]</td>\n",
       "      <td>2132.0</td>\n",
       "    </tr>\n",
       "  </tbody>\n",
       "</table>\n",
       "</div>"
      ],
      "text/plain": [
       "         business_id                 date   latitude  longitude  \\\n",
       "user_id                                                           \n",
       "0               1744  2017-12-15 14:05:01  43.075012 -89.447498   \n",
       "0               2746  2018-01-18 20:57:23  43.106774 -89.497738   \n",
       "0                 30  2018-01-23 23:14:37  43.072654 -89.384062   \n",
       "0                432  2018-01-27 02:17:06  43.072439 -89.384610   \n",
       "0                 22  2018-01-27 02:31:26  43.075100 -89.381069   \n",
       "\n",
       "                                                categories  subarea_id  \n",
       "user_id                                                                 \n",
       "0                                [desserts, cafes, coffee]      2143.0  \n",
       "0        [desserts, tradamerican, diners, gastropubs, b...      2641.0  \n",
       "0                                          [bars, mexican]      2133.0  \n",
       "0                                     [tradamerican, bars]      2133.0  \n",
       "0                                                [mexican]      2132.0  "
      ]
     },
     "execution_count": 2,
     "metadata": {},
     "output_type": "execute_result"
    }
   ],
   "source": [
    "df_checkin=pd.read_csv(\"../data/checkin/\"+CITY+\".csv\",converters={'categories':string_to_array})\n",
    "\n",
    "df_checkin_train=pd.read_csv(\"../data/checkin/train/\"+CITY+\".csv\",converters={'categories':string_to_array})\n",
    "\n",
    "\n",
    "users_id=df_checkin['user_id'].drop_duplicates().reset_index(drop=True)\n",
    "pois_id=df_checkin['business_id'].drop_duplicates().reset_index(drop=True)\n",
    "user_num=len(users_id)\n",
    "poi_num=len(pois_id)\n",
    "# USG uses unique checkins cij = 1 or cij = 0\n",
    "#df_checkin_train=df_checkin_train.drop_duplicates(subset=['user_id','business_id']).reset_index(drop=True)\n",
    "\n",
    "df_checkin_train=df_checkin_train.set_index('user_id')\n",
    "df_checkin_train.head()"
   ]
  },
  {
   "cell_type": "code",
   "execution_count": 3,
   "metadata": {},
   "outputs": [],
   "source": [
    "df_checkin_test=pd.read_csv(\"../data/checkin/test/\"+CITY+\".csv\",converters={'categories':string_to_array})\n"
   ]
  },
  {
   "cell_type": "code",
   "execution_count": 4,
   "metadata": {},
   "outputs": [],
   "source": [
    "ground_truth = defaultdict(set)\n",
    "for index,row in df_checkin_test[['user_id','business_id']].drop_duplicates().iterrows():\n",
    "    ground_truth[row['user_id']].add(row['business_id'])"
   ]
  },
  {
   "cell_type": "code",
   "execution_count": 5,
   "metadata": {},
   "outputs": [],
   "source": [
    "df_user_friends=pd.read_csv(\"../data/user/\"+CITY+\".csv\",converters={'friends':string_to_array})"
   ]
  },
  {
   "cell_type": "code",
   "execution_count": 6,
   "metadata": {},
   "outputs": [],
   "source": [
    "poi_coos = {}\n",
    "for lid,latlon in df_checkin[['business_id','latitude','longitude']].reset_index(drop=True).drop_duplicates().set_index('business_id').iterrows():\n",
    "    poi_coos[lid] = tuple(latlon)"
   ]
  },
  {
   "cell_type": "code",
   "execution_count": 7,
   "metadata": {},
   "outputs": [],
   "source": [
    "poi_cats = {}\n",
    "for lid,row in df_checkin[['business_id','categories']].reset_index(drop=True).drop_duplicates(subset=['business_id']).set_index('business_id').iterrows():\n",
    "    poi_cats[lid] = row.categories\n"
   ]
  },
  {
   "cell_type": "code",
   "execution_count": 8,
   "metadata": {},
   "outputs": [],
   "source": [
    "import geocat\n",
    "dict_alias_title,category_tree,dict_alias_depth=geocat.category_manipulation_utils()\n",
    "undirected_category_tree=category_tree.to_undirected()"
   ]
  },
  {
   "cell_type": "code",
   "execution_count": 9,
   "metadata": {},
   "outputs": [],
   "source": [
    "training_matrix = np.zeros((user_num, poi_num))\n"
   ]
  },
  {
   "cell_type": "code",
   "execution_count": 10,
   "metadata": {},
   "outputs": [],
   "source": [
    "for user_id,poi_id in df_checkin_train.business_id.iteritems():\n",
    "   # print(user_id,poi_id)\n",
    "    training_matrix[user_id,poi_id]=1"
   ]
  },
  {
   "cell_type": "code",
   "execution_count": 11,
   "metadata": {},
   "outputs": [],
   "source": [
    "social_relations = defaultdict(list)\n",
    "for user_id,friends in df_user_friends.set_index(\"user_id\").friends.iteritems():\n",
    "    social_relations[user_int_id[user_id]]=[user_int_id[uid] for uid in friends]"
   ]
  },
  {
   "cell_type": "code",
   "execution_count": 12,
   "metadata": {},
   "outputs": [
    {
     "name": "stdout",
     "output_type": "stream",
     "text": [
      "Training User-based Collaborative Filtering...\n",
      "Done. Elapsed time: 0.8136675357818604 s\n",
      "Precomputing similarity between friends...\n",
      "Done. Elapsed time: 0.0005125999450683594 s\n",
      "fitting distance distribution...\n",
      "done. elapsed time: 2.500680446624756 s\n"
     ]
    }
   ],
   "source": [
    "top_k = 100\n",
    "alpha = 0.1\n",
    "beta = 0.1\n",
    "\n",
    "U = UserBasedCF()\n",
    "S = FriendBasedCF(eta=0.05)\n",
    "G = PowerLaw()\n",
    "\n",
    "U.pre_compute_rec_scores(training_matrix)\n",
    "S.compute_friend_sim(social_relations, training_matrix)\n",
    "G.fit_distance_distribution(training_matrix, poi_coos)"
   ]
  },
  {
   "cell_type": "code",
   "execution_count": 13,
   "metadata": {},
   "outputs": [],
   "source": [
    "result_out = open(\"../data/result/sigir11_top_\" + str(top_k) + \".txt\", 'w')\n",
    "\n",
    "all_uids = list(range(user_num))\n",
    "all_lids = list(range(poi_num))\n",
    "\n"
   ]
  },
  {
   "cell_type": "code",
   "execution_count": 14,
   "metadata": {},
   "outputs": [],
   "source": [
    "np.random.shuffle(all_uids)"
   ]
  },
  {
   "cell_type": "code",
   "execution_count": 15,
   "metadata": {},
   "outputs": [],
   "source": [
    "precision, recall = [], []"
   ]
  },
  {
   "cell_type": "code",
   "execution_count": 16,
   "metadata": {},
   "outputs": [],
   "source": [
    "def normalize(scores):\n",
    "    max_score = max(scores)\n",
    "    if not max_score == 0:\n",
    "        scores = [s / max_score for s in scores]\n",
    "    return scores\n"
   ]
  },
  {
   "cell_type": "code",
   "execution_count": 17,
   "metadata": {},
   "outputs": [],
   "source": [
    "ild, gc = [],[]"
   ]
  },
  {
   "cell_type": "code",
   "execution_count": 18,
   "metadata": {},
   "outputs": [],
   "source": [
    "# df_poi_neighbor=pd.read_csv(\"../data/neighbor/\"+CITY+\".csv\",converters={'neighbors':string_to_array})\n",
    "# df_poi_neighbor=df_poi_neighbor.set_index(\"business_id\")"
   ]
  },
  {
   "cell_type": "code",
   "execution_count": 19,
   "metadata": {},
   "outputs": [],
   "source": [
    "# poi_neighbors={}\n",
    "# for lid,row in df_poi_neighbor.iterrows():\n",
    "#     neighbors=row['neighbors']\n",
    "#     poi_neighbors[lid]=neighbors"
   ]
  },
  {
   "cell_type": "code",
   "execution_count": 20,
   "metadata": {},
   "outputs": [],
   "source": [
    "#log_size=training_matrix[0,training_matrix[0,:].nonzero()[0]].sum()"
   ]
  },
  {
   "cell_type": "code",
   "execution_count": 21,
   "metadata": {},
   "outputs": [
    {
     "data": {
      "text/plain": [
       "array([   0,   22,   30,   38,  299,  346,  415,  432,  945, 1036, 1079,\n",
       "       1168, 1213, 1470, 1671, 1744, 1852, 2038, 2051, 2317, 2600, 2734,\n",
       "       2746, 3086])"
      ]
     },
     "execution_count": 21,
     "metadata": {},
     "output_type": "execute_result"
    }
   ],
   "source": [
    "training_matrix[0,:].nonzero()[0]"
   ]
  },
  {
   "cell_type": "code",
   "execution_count": 25,
   "metadata": {},
   "outputs": [
    {
     "name": "stdout",
     "output_type": "stream",
     "text": [
      "4.715236400634448e-12\n",
      "0 69 pre@10: 0.06857142857142857 rec@10: 0.0368612971639606 ild@10: 0.3271111111111112 gc@10: 0.45081594575104567\n",
      "0.004638003386817181\n",
      "1 59 pre@10: 0.06944444444444446 rec@10: 0.03625824766361489 ild@10: 0.32748971193415644 gc@10: 0.4463951324431463\n",
      "0.002550894336489344\n",
      "2 393 pre@10: 0.07567567567567568 rec@10: 0.039332349078111783 ild@10: 0.3278478478478479 gc@10: 0.44559166039513337\n",
      "0.005405465169173986\n",
      "3 627 pre@10: 0.0736842105263158 rec@10: 0.03829728726026674 ild@10: 0.3289668615984406 gc@10: 0.44601131305679986\n",
      "3.060518890261289e-09\n",
      "4 106 pre@10: 0.07435897435897437 rec@10: 0.04052043374077272 ild@10: 0.3281291547958215 gc@10: 0.4459711369385343\n",
      "0.001892457072198969\n",
      "5 515 pre@10: 0.07250000000000001 rec@10: 0.03950742289725341 ild@10: 0.32992592592592607 gc@10: 0.44419685851507096\n",
      "0.0025466787022591793\n",
      "6 596 pre@10: 0.07073170731707318 rec@10: 0.038543827216832596 ild@10: 0.3298283649503163 gc@10: 0.4447449026163293\n",
      "8.921662688916664e-12\n",
      "7 1021 pre@10: 0.06904761904761905 rec@10: 0.037626117045003245 ild@10: 0.33417989417989424 gc@10: 0.45456390153362763\n",
      "0.0031541643727883194\n",
      "8 177 pre@10: 0.07674418604651163 rec@10: 0.03769071991381807 ild@10: 0.3370887166236004 gc@10: 0.45133658925805975\n"
     ]
    },
    {
     "ename": "KeyboardInterrupt",
     "evalue": "",
     "output_type": "error",
     "traceback": [
      "\u001b[0;31m---------------------------------------------------------------------------\u001b[0m",
      "\u001b[0;31mKeyboardInterrupt\u001b[0m                         Traceback (most recent call last)",
      "\u001b[0;32m<ipython-input-25-34ea58f7c7e5>\u001b[0m in \u001b[0;36m<module>\u001b[0;34m\u001b[0m\n\u001b[1;32m      9\u001b[0m         G_scores = normalize([G.predict(uid, lid)\n\u001b[1;32m     10\u001b[0m                               \u001b[0;32mif\u001b[0m \u001b[0mtraining_matrix\u001b[0m\u001b[0;34m[\u001b[0m\u001b[0muid\u001b[0m\u001b[0;34m,\u001b[0m \u001b[0mlid\u001b[0m\u001b[0;34m]\u001b[0m \u001b[0;34m==\u001b[0m \u001b[0;36m0\u001b[0m \u001b[0;32melse\u001b[0m \u001b[0;34m-\u001b[0m\u001b[0;36m1\u001b[0m\u001b[0;34m\u001b[0m\u001b[0;34m\u001b[0m\u001b[0m\n\u001b[0;32m---> 11\u001b[0;31m                               for lid in all_lids])\n\u001b[0m\u001b[1;32m     12\u001b[0m \u001b[0;34m\u001b[0m\u001b[0m\n\u001b[1;32m     13\u001b[0m         \u001b[0mU_scores\u001b[0m \u001b[0;34m=\u001b[0m \u001b[0mnp\u001b[0m\u001b[0;34m.\u001b[0m\u001b[0marray\u001b[0m\u001b[0;34m(\u001b[0m\u001b[0mU_scores\u001b[0m\u001b[0;34m)\u001b[0m\u001b[0;34m\u001b[0m\u001b[0;34m\u001b[0m\u001b[0m\n",
      "\u001b[0;32m<ipython-input-25-34ea58f7c7e5>\u001b[0m in \u001b[0;36m<listcomp>\u001b[0;34m(.0)\u001b[0m\n\u001b[1;32m      9\u001b[0m         G_scores = normalize([G.predict(uid, lid)\n\u001b[1;32m     10\u001b[0m                               \u001b[0;32mif\u001b[0m \u001b[0mtraining_matrix\u001b[0m\u001b[0;34m[\u001b[0m\u001b[0muid\u001b[0m\u001b[0;34m,\u001b[0m \u001b[0mlid\u001b[0m\u001b[0;34m]\u001b[0m \u001b[0;34m==\u001b[0m \u001b[0;36m0\u001b[0m \u001b[0;32melse\u001b[0m \u001b[0;34m-\u001b[0m\u001b[0;36m1\u001b[0m\u001b[0;34m\u001b[0m\u001b[0;34m\u001b[0m\u001b[0m\n\u001b[0;32m---> 11\u001b[0;31m                               for lid in all_lids])\n\u001b[0m\u001b[1;32m     12\u001b[0m \u001b[0;34m\u001b[0m\u001b[0m\n\u001b[1;32m     13\u001b[0m         \u001b[0mU_scores\u001b[0m \u001b[0;34m=\u001b[0m \u001b[0mnp\u001b[0m\u001b[0;34m.\u001b[0m\u001b[0marray\u001b[0m\u001b[0;34m(\u001b[0m\u001b[0mU_scores\u001b[0m\u001b[0;34m)\u001b[0m\u001b[0;34m\u001b[0m\u001b[0;34m\u001b[0m\u001b[0m\n",
      "\u001b[0;32m~/recsys/algorithms/lib/PowerLaw.py\u001b[0m in \u001b[0;36mpredict\u001b[0;34m(self, uid, lj)\u001b[0m\n\u001b[1;32m     82\u001b[0m     \u001b[0;32mdef\u001b[0m \u001b[0mpredict\u001b[0m\u001b[0;34m(\u001b[0m\u001b[0mself\u001b[0m\u001b[0;34m,\u001b[0m \u001b[0muid\u001b[0m\u001b[0;34m,\u001b[0m \u001b[0mlj\u001b[0m\u001b[0;34m)\u001b[0m\u001b[0;34m:\u001b[0m\u001b[0;34m\u001b[0m\u001b[0;34m\u001b[0m\u001b[0m\n\u001b[1;32m     83\u001b[0m         \u001b[0mlj\u001b[0m \u001b[0;34m=\u001b[0m \u001b[0mself\u001b[0m\u001b[0;34m.\u001b[0m\u001b[0mpoi_coos\u001b[0m\u001b[0;34m[\u001b[0m\u001b[0mlj\u001b[0m\u001b[0;34m]\u001b[0m\u001b[0;34m\u001b[0m\u001b[0;34m\u001b[0m\u001b[0m\n\u001b[0;32m---> 84\u001b[0;31m         \u001b[0;32mreturn\u001b[0m \u001b[0mnp\u001b[0m\u001b[0;34m.\u001b[0m\u001b[0mprod\u001b[0m\u001b[0;34m(\u001b[0m\u001b[0;34m[\u001b[0m\u001b[0mself\u001b[0m\u001b[0;34m.\u001b[0m\u001b[0mpr_d\u001b[0m\u001b[0;34m(\u001b[0m\u001b[0mdist\u001b[0m\u001b[0;34m(\u001b[0m\u001b[0mself\u001b[0m\u001b[0;34m.\u001b[0m\u001b[0mpoi_coos\u001b[0m\u001b[0;34m[\u001b[0m\u001b[0mli\u001b[0m\u001b[0;34m]\u001b[0m\u001b[0;34m,\u001b[0m \u001b[0mlj\u001b[0m\u001b[0;34m)\u001b[0m\u001b[0;34m)\u001b[0m \u001b[0;32mfor\u001b[0m \u001b[0mli\u001b[0m \u001b[0;32min\u001b[0m \u001b[0mself\u001b[0m\u001b[0;34m.\u001b[0m\u001b[0mvisited_lids\u001b[0m\u001b[0;34m[\u001b[0m\u001b[0muid\u001b[0m\u001b[0;34m]\u001b[0m\u001b[0;34m]\u001b[0m\u001b[0;34m)\u001b[0m\u001b[0;34m\u001b[0m\u001b[0;34m\u001b[0m\u001b[0m\n\u001b[0m",
      "\u001b[0;32m~/recsys/algorithms/lib/PowerLaw.py\u001b[0m in \u001b[0;36m<listcomp>\u001b[0;34m(.0)\u001b[0m\n\u001b[1;32m     82\u001b[0m     \u001b[0;32mdef\u001b[0m \u001b[0mpredict\u001b[0m\u001b[0;34m(\u001b[0m\u001b[0mself\u001b[0m\u001b[0;34m,\u001b[0m \u001b[0muid\u001b[0m\u001b[0;34m,\u001b[0m \u001b[0mlj\u001b[0m\u001b[0;34m)\u001b[0m\u001b[0;34m:\u001b[0m\u001b[0;34m\u001b[0m\u001b[0;34m\u001b[0m\u001b[0m\n\u001b[1;32m     83\u001b[0m         \u001b[0mlj\u001b[0m \u001b[0;34m=\u001b[0m \u001b[0mself\u001b[0m\u001b[0;34m.\u001b[0m\u001b[0mpoi_coos\u001b[0m\u001b[0;34m[\u001b[0m\u001b[0mlj\u001b[0m\u001b[0;34m]\u001b[0m\u001b[0;34m\u001b[0m\u001b[0;34m\u001b[0m\u001b[0m\n\u001b[0;32m---> 84\u001b[0;31m         \u001b[0;32mreturn\u001b[0m \u001b[0mnp\u001b[0m\u001b[0;34m.\u001b[0m\u001b[0mprod\u001b[0m\u001b[0;34m(\u001b[0m\u001b[0;34m[\u001b[0m\u001b[0mself\u001b[0m\u001b[0;34m.\u001b[0m\u001b[0mpr_d\u001b[0m\u001b[0;34m(\u001b[0m\u001b[0mdist\u001b[0m\u001b[0;34m(\u001b[0m\u001b[0mself\u001b[0m\u001b[0;34m.\u001b[0m\u001b[0mpoi_coos\u001b[0m\u001b[0;34m[\u001b[0m\u001b[0mli\u001b[0m\u001b[0;34m]\u001b[0m\u001b[0;34m,\u001b[0m \u001b[0mlj\u001b[0m\u001b[0;34m)\u001b[0m\u001b[0;34m)\u001b[0m \u001b[0;32mfor\u001b[0m \u001b[0mli\u001b[0m \u001b[0;32min\u001b[0m \u001b[0mself\u001b[0m\u001b[0;34m.\u001b[0m\u001b[0mvisited_lids\u001b[0m\u001b[0;34m[\u001b[0m\u001b[0muid\u001b[0m\u001b[0;34m]\u001b[0m\u001b[0;34m]\u001b[0m\u001b[0;34m)\u001b[0m\u001b[0;34m\u001b[0m\u001b[0;34m\u001b[0m\u001b[0m\n\u001b[0m",
      "\u001b[0;31mKeyboardInterrupt\u001b[0m: "
     ]
    }
   ],
   "source": [
    "for cnt, uid in enumerate(all_uids):\n",
    "    if uid in ground_truth:\n",
    "        U_scores = normalize([U.predict(uid, lid)\n",
    "                              if training_matrix[uid, lid] == 0 else -1\n",
    "                              for lid in all_lids])\n",
    "        S_scores = normalize([S.predict(uid, lid)\n",
    "                              if training_matrix[uid, lid] == 0 else -1\n",
    "                              for lid in all_lids])\n",
    "        G_scores = normalize([G.predict(uid, lid)\n",
    "                              if training_matrix[uid, lid] == 0 else -1\n",
    "                              for lid in all_lids])\n",
    "        \n",
    "        U_scores = np.array(U_scores)\n",
    "        S_scores = np.array(S_scores)\n",
    "        G_scores = np.array(G_scores)\n",
    "        \n",
    "        overall_scores = (1.0 - alpha - beta) * U_scores + alpha * S_scores + beta * G_scores\n",
    "        \n",
    "        predicted = list(reversed(overall_scores.argsort()))[:top_k]\n",
    "        actual = ground_truth[uid]\n",
    "        \n",
    "        precision.append(precisionk(actual, predicted[:10]))\n",
    "        recall.append(recallk(actual, predicted[:10]))\n",
    "\n",
    "        \n",
    "        \n",
    "        ild.append(ildk(predicted[:10],poi_cats,undirected_category_tree))\n",
    "        gc.append(gck(uid,training_matrix,poi_cats,predicted[:10]))\n",
    "        print(cnt, uid, \"pre@10:\", np.mean(precision), \"rec@10:\", np.mean(recall),\"ild@10:\",np.mean(ild),\"gc@10:\",np.mean(gc))\n",
    "        result_out.write(str(uid)+',\"'+str(predicted)+'\"\\n')\n",
    "result_out.close()"
   ]
  },
  {
   "cell_type": "code",
   "execution_count": null,
   "metadata": {},
   "outputs": [],
   "source": []
  },
  {
   "cell_type": "code",
   "execution_count": null,
   "metadata": {},
   "outputs": [],
   "source": [
    "df_metrics=pd.DataFrame([ild,gc]).T\n",
    "df_metrics.columns=['ild','gc']"
   ]
  },
  {
   "cell_type": "code",
   "execution_count": null,
   "metadata": {},
   "outputs": [],
   "source": [
    "df_metrics=df_metrics.sort_values('ild')\n",
    "\n",
    "df_metrics=df_metrics.reset_index(drop=True)\n",
    "\n",
    "df_metrics.plot()"
   ]
  },
  {
   "cell_type": "code",
   "execution_count": null,
   "metadata": {},
   "outputs": [],
   "source": [
    "df_metrics.corr()"
   ]
  },
  {
   "cell_type": "code",
   "execution_count": null,
   "metadata": {},
   "outputs": [],
   "source": [
    "### df_metrics=df_metrics.sort_values('gc')\n",
    "\n",
    "df_metrics=df_metrics.reset_index(drop=True)\n",
    "\n",
    "df_metrics.plot()"
   ]
  }
 ],
 "metadata": {
  "kernelspec": {
   "display_name": "Python 3",
   "language": "python",
   "name": "python3"
  },
  "language_info": {
   "codemirror_mode": {
    "name": "ipython",
    "version": 3
   },
   "file_extension": ".py",
   "mimetype": "text/x-python",
   "name": "python",
   "nbconvert_exporter": "python",
   "pygments_lexer": "ipython3",
   "version": "3.7.4"
  },
  "name": "USG.ipynb"
 },
 "nbformat": 4,
 "nbformat_minor": 4
}
