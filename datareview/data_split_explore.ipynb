{
 "cells": [
  {
   "cell_type": "markdown",
   "metadata": {},
   "source": [
    "# Training and test set alternative split\n",
    "- Ano com mais permanência de usuário\n",
    "- season recommendation\n",
    "- bipartite block with most permanence\n",
    "\n",
    "$[2005,2017]$ training\n",
    "\n",
    "$2018$ test\n",
    "\n",
    "ou\n",
    "\n",
    "$[2005,2016]$ training\n",
    "\n",
    "$[2017,2018]$ test"
   ]
  },
  {
   "cell_type": "code",
   "execution_count": 46,
   "metadata": {},
   "outputs": [],
   "source": [
    "import pandas as pd\n",
    "import numpy as np"
   ]
  },
  {
   "cell_type": "markdown",
   "metadata": {},
   "source": [
    "## read phoenix.csv check-in file"
   ]
  },
  {
   "cell_type": "code",
   "execution_count": 2,
   "metadata": {},
   "outputs": [
    {
     "data": {
      "text/html": [
       "<div>\n",
       "<style scoped>\n",
       "    .dataframe tbody tr th:only-of-type {\n",
       "        vertical-align: middle;\n",
       "    }\n",
       "\n",
       "    .dataframe tbody tr th {\n",
       "        vertical-align: top;\n",
       "    }\n",
       "\n",
       "    .dataframe thead th {\n",
       "        text-align: right;\n",
       "    }\n",
       "</style>\n",
       "<table border=\"1\" class=\"dataframe\">\n",
       "  <thead>\n",
       "    <tr style=\"text-align: right;\">\n",
       "      <th></th>\n",
       "      <th>user_id</th>\n",
       "      <th>business_id</th>\n",
       "      <th>date</th>\n",
       "      <th>latitude</th>\n",
       "      <th>longitude</th>\n",
       "      <th>categories</th>\n",
       "      <th>subarea_id</th>\n",
       "    </tr>\n",
       "  </thead>\n",
       "  <tbody>\n",
       "    <tr>\n",
       "      <th>0</th>\n",
       "      <td>dUVOC_2EDF0sbA392RhfoQ</td>\n",
       "      <td>WTqjgwHlXbSFevF32_DJVw</td>\n",
       "      <td>2015-01-20 20:16:11</td>\n",
       "      <td>33.259702</td>\n",
       "      <td>-111.790203</td>\n",
       "      <td>[Cosmetic Dentists, Orthodontists, General Den...</td>\n",
       "      <td>12843.0</td>\n",
       "    </tr>\n",
       "    <tr>\n",
       "      <th>1</th>\n",
       "      <td>8Y_irXocZdZxLs_qgzpjBw</td>\n",
       "      <td>WTqjgwHlXbSFevF32_DJVw</td>\n",
       "      <td>2017-03-17 06:36:38</td>\n",
       "      <td>33.259702</td>\n",
       "      <td>-111.790203</td>\n",
       "      <td>[Cosmetic Dentists, Orthodontists, General Den...</td>\n",
       "      <td>12843.0</td>\n",
       "    </tr>\n",
       "    <tr>\n",
       "      <th>2</th>\n",
       "      <td>wM4yVwPDeMMUxwFvGLiREg</td>\n",
       "      <td>WTqjgwHlXbSFevF32_DJVw</td>\n",
       "      <td>2017-12-19 05:33:02</td>\n",
       "      <td>33.259702</td>\n",
       "      <td>-111.790203</td>\n",
       "      <td>[Cosmetic Dentists, Orthodontists, General Den...</td>\n",
       "      <td>12843.0</td>\n",
       "    </tr>\n",
       "    <tr>\n",
       "      <th>3</th>\n",
       "      <td>8-tL6MQbXPawMlaf8kbqHg</td>\n",
       "      <td>WTqjgwHlXbSFevF32_DJVw</td>\n",
       "      <td>2014-02-04 01:20:04</td>\n",
       "      <td>33.259702</td>\n",
       "      <td>-111.790203</td>\n",
       "      <td>[Cosmetic Dentists, Orthodontists, General Den...</td>\n",
       "      <td>12843.0</td>\n",
       "    </tr>\n",
       "    <tr>\n",
       "      <th>4</th>\n",
       "      <td>L8d61tDHFB5CemHBUvxn-g</td>\n",
       "      <td>WTqjgwHlXbSFevF32_DJVw</td>\n",
       "      <td>2016-07-12 20:49:43</td>\n",
       "      <td>33.259702</td>\n",
       "      <td>-111.790203</td>\n",
       "      <td>[Cosmetic Dentists, Orthodontists, General Den...</td>\n",
       "      <td>12843.0</td>\n",
       "    </tr>\n",
       "  </tbody>\n",
       "</table>\n",
       "</div>"
      ],
      "text/plain": [
       "                  user_id             business_id                date  \\\n",
       "0  dUVOC_2EDF0sbA392RhfoQ  WTqjgwHlXbSFevF32_DJVw 2015-01-20 20:16:11   \n",
       "1  8Y_irXocZdZxLs_qgzpjBw  WTqjgwHlXbSFevF32_DJVw 2017-03-17 06:36:38   \n",
       "2  wM4yVwPDeMMUxwFvGLiREg  WTqjgwHlXbSFevF32_DJVw 2017-12-19 05:33:02   \n",
       "3  8-tL6MQbXPawMlaf8kbqHg  WTqjgwHlXbSFevF32_DJVw 2014-02-04 01:20:04   \n",
       "4  L8d61tDHFB5CemHBUvxn-g  WTqjgwHlXbSFevF32_DJVw 2016-07-12 20:49:43   \n",
       "\n",
       "    latitude   longitude                                         categories  \\\n",
       "0  33.259702 -111.790203  [Cosmetic Dentists, Orthodontists, General Den...   \n",
       "1  33.259702 -111.790203  [Cosmetic Dentists, Orthodontists, General Den...   \n",
       "2  33.259702 -111.790203  [Cosmetic Dentists, Orthodontists, General Den...   \n",
       "3  33.259702 -111.790203  [Cosmetic Dentists, Orthodontists, General Den...   \n",
       "4  33.259702 -111.790203  [Cosmetic Dentists, Orthodontists, General Den...   \n",
       "\n",
       "   subarea_id  \n",
       "0     12843.0  \n",
       "1     12843.0  \n",
       "2     12843.0  \n",
       "3     12843.0  \n",
       "4     12843.0  "
      ]
     },
     "execution_count": 2,
     "metadata": {},
     "output_type": "execute_result"
    }
   ],
   "source": [
    "def string_to_array(string):\n",
    "    if string == '':\n",
    "        return list()\n",
    "    return eval(string)\n",
    "def string_to_date(string):\n",
    "    return pd.to_datetime(string)\n",
    "\n",
    "df_checkin_phoenix=pd.read_csv(\"../data/checkin/phoenix.csv\",converters={'categories':string_to_array})\n",
    "df_checkin_phoenix['date']=pd.to_datetime(df_checkin_phoenix['date'])\n",
    "df_checkin_phoenix.head()"
   ]
  },
  {
   "cell_type": "markdown",
   "metadata": {},
   "source": [
    "## create columns for year and month"
   ]
  },
  {
   "cell_type": "code",
   "execution_count": 3,
   "metadata": {},
   "outputs": [],
   "source": [
    "df_checkin_phoenix['year']=df_checkin_phoenix['date'].apply(lambda checkin: checkin.year)"
   ]
  },
  {
   "cell_type": "code",
   "execution_count": 4,
   "metadata": {},
   "outputs": [],
   "source": [
    "df_checkin_phoenix['month']=df_checkin_phoenix['date'].apply(lambda checkin: checkin.month)"
   ]
  },
  {
   "cell_type": "code",
   "execution_count": 5,
   "metadata": {},
   "outputs": [
    {
     "data": {
      "text/html": [
       "<div>\n",
       "<style scoped>\n",
       "    .dataframe tbody tr th:only-of-type {\n",
       "        vertical-align: middle;\n",
       "    }\n",
       "\n",
       "    .dataframe tbody tr th {\n",
       "        vertical-align: top;\n",
       "    }\n",
       "\n",
       "    .dataframe thead th {\n",
       "        text-align: right;\n",
       "    }\n",
       "</style>\n",
       "<table border=\"1\" class=\"dataframe\">\n",
       "  <thead>\n",
       "    <tr style=\"text-align: right;\">\n",
       "      <th></th>\n",
       "      <th>user_id</th>\n",
       "      <th>business_id</th>\n",
       "      <th>date</th>\n",
       "      <th>latitude</th>\n",
       "      <th>longitude</th>\n",
       "      <th>categories</th>\n",
       "      <th>subarea_id</th>\n",
       "      <th>year</th>\n",
       "      <th>month</th>\n",
       "    </tr>\n",
       "  </thead>\n",
       "  <tbody>\n",
       "    <tr>\n",
       "      <th>0</th>\n",
       "      <td>dUVOC_2EDF0sbA392RhfoQ</td>\n",
       "      <td>WTqjgwHlXbSFevF32_DJVw</td>\n",
       "      <td>2015-01-20 20:16:11</td>\n",
       "      <td>33.259702</td>\n",
       "      <td>-111.790203</td>\n",
       "      <td>[Cosmetic Dentists, Orthodontists, General Den...</td>\n",
       "      <td>12843.0</td>\n",
       "      <td>2015</td>\n",
       "      <td>1</td>\n",
       "    </tr>\n",
       "    <tr>\n",
       "      <th>1</th>\n",
       "      <td>8Y_irXocZdZxLs_qgzpjBw</td>\n",
       "      <td>WTqjgwHlXbSFevF32_DJVw</td>\n",
       "      <td>2017-03-17 06:36:38</td>\n",
       "      <td>33.259702</td>\n",
       "      <td>-111.790203</td>\n",
       "      <td>[Cosmetic Dentists, Orthodontists, General Den...</td>\n",
       "      <td>12843.0</td>\n",
       "      <td>2017</td>\n",
       "      <td>3</td>\n",
       "    </tr>\n",
       "    <tr>\n",
       "      <th>2</th>\n",
       "      <td>wM4yVwPDeMMUxwFvGLiREg</td>\n",
       "      <td>WTqjgwHlXbSFevF32_DJVw</td>\n",
       "      <td>2017-12-19 05:33:02</td>\n",
       "      <td>33.259702</td>\n",
       "      <td>-111.790203</td>\n",
       "      <td>[Cosmetic Dentists, Orthodontists, General Den...</td>\n",
       "      <td>12843.0</td>\n",
       "      <td>2017</td>\n",
       "      <td>12</td>\n",
       "    </tr>\n",
       "    <tr>\n",
       "      <th>3</th>\n",
       "      <td>8-tL6MQbXPawMlaf8kbqHg</td>\n",
       "      <td>WTqjgwHlXbSFevF32_DJVw</td>\n",
       "      <td>2014-02-04 01:20:04</td>\n",
       "      <td>33.259702</td>\n",
       "      <td>-111.790203</td>\n",
       "      <td>[Cosmetic Dentists, Orthodontists, General Den...</td>\n",
       "      <td>12843.0</td>\n",
       "      <td>2014</td>\n",
       "      <td>2</td>\n",
       "    </tr>\n",
       "    <tr>\n",
       "      <th>4</th>\n",
       "      <td>L8d61tDHFB5CemHBUvxn-g</td>\n",
       "      <td>WTqjgwHlXbSFevF32_DJVw</td>\n",
       "      <td>2016-07-12 20:49:43</td>\n",
       "      <td>33.259702</td>\n",
       "      <td>-111.790203</td>\n",
       "      <td>[Cosmetic Dentists, Orthodontists, General Den...</td>\n",
       "      <td>12843.0</td>\n",
       "      <td>2016</td>\n",
       "      <td>7</td>\n",
       "    </tr>\n",
       "  </tbody>\n",
       "</table>\n",
       "</div>"
      ],
      "text/plain": [
       "                  user_id             business_id                date  \\\n",
       "0  dUVOC_2EDF0sbA392RhfoQ  WTqjgwHlXbSFevF32_DJVw 2015-01-20 20:16:11   \n",
       "1  8Y_irXocZdZxLs_qgzpjBw  WTqjgwHlXbSFevF32_DJVw 2017-03-17 06:36:38   \n",
       "2  wM4yVwPDeMMUxwFvGLiREg  WTqjgwHlXbSFevF32_DJVw 2017-12-19 05:33:02   \n",
       "3  8-tL6MQbXPawMlaf8kbqHg  WTqjgwHlXbSFevF32_DJVw 2014-02-04 01:20:04   \n",
       "4  L8d61tDHFB5CemHBUvxn-g  WTqjgwHlXbSFevF32_DJVw 2016-07-12 20:49:43   \n",
       "\n",
       "    latitude   longitude                                         categories  \\\n",
       "0  33.259702 -111.790203  [Cosmetic Dentists, Orthodontists, General Den...   \n",
       "1  33.259702 -111.790203  [Cosmetic Dentists, Orthodontists, General Den...   \n",
       "2  33.259702 -111.790203  [Cosmetic Dentists, Orthodontists, General Den...   \n",
       "3  33.259702 -111.790203  [Cosmetic Dentists, Orthodontists, General Den...   \n",
       "4  33.259702 -111.790203  [Cosmetic Dentists, Orthodontists, General Den...   \n",
       "\n",
       "   subarea_id  year  month  \n",
       "0     12843.0  2015      1  \n",
       "1     12843.0  2017      3  \n",
       "2     12843.0  2017     12  \n",
       "3     12843.0  2014      2  \n",
       "4     12843.0  2016      7  "
      ]
     },
     "execution_count": 5,
     "metadata": {},
     "output_type": "execute_result"
    }
   ],
   "source": [
    "df_checkin_phoenix.head()"
   ]
  },
  {
   "cell_type": "markdown",
   "metadata": {},
   "source": [
    "## group by year and count check-ins in each year 2005-2018"
   ]
  },
  {
   "cell_type": "code",
   "execution_count": 7,
   "metadata": {},
   "outputs": [
    {
     "data": {
      "text/html": [
       "<div>\n",
       "<style scoped>\n",
       "    .dataframe tbody tr th:only-of-type {\n",
       "        vertical-align: middle;\n",
       "    }\n",
       "\n",
       "    .dataframe tbody tr th {\n",
       "        vertical-align: top;\n",
       "    }\n",
       "\n",
       "    .dataframe thead th {\n",
       "        text-align: right;\n",
       "    }\n",
       "</style>\n",
       "<table border=\"1\" class=\"dataframe\">\n",
       "  <thead>\n",
       "    <tr style=\"text-align: right;\">\n",
       "      <th></th>\n",
       "      <th>Check-ins</th>\n",
       "    </tr>\n",
       "    <tr>\n",
       "      <th>Ano</th>\n",
       "      <th></th>\n",
       "    </tr>\n",
       "  </thead>\n",
       "  <tbody>\n",
       "    <tr>\n",
       "      <th>2005</th>\n",
       "      <td>32</td>\n",
       "    </tr>\n",
       "    <tr>\n",
       "      <th>2006</th>\n",
       "      <td>945</td>\n",
       "    </tr>\n",
       "    <tr>\n",
       "      <th>2007</th>\n",
       "      <td>5524</td>\n",
       "    </tr>\n",
       "    <tr>\n",
       "      <th>2008</th>\n",
       "      <td>14407</td>\n",
       "    </tr>\n",
       "    <tr>\n",
       "      <th>2009</th>\n",
       "      <td>23199</td>\n",
       "    </tr>\n",
       "    <tr>\n",
       "      <th>2010</th>\n",
       "      <td>45568</td>\n",
       "    </tr>\n",
       "    <tr>\n",
       "      <th>2011</th>\n",
       "      <td>91418</td>\n",
       "    </tr>\n",
       "    <tr>\n",
       "      <th>2012</th>\n",
       "      <td>101620</td>\n",
       "    </tr>\n",
       "    <tr>\n",
       "      <th>2013</th>\n",
       "      <td>104009</td>\n",
       "    </tr>\n",
       "    <tr>\n",
       "      <th>2014</th>\n",
       "      <td>118955</td>\n",
       "    </tr>\n",
       "    <tr>\n",
       "      <th>2015</th>\n",
       "      <td>121588</td>\n",
       "    </tr>\n",
       "    <tr>\n",
       "      <th>2016</th>\n",
       "      <td>124477</td>\n",
       "    </tr>\n",
       "    <tr>\n",
       "      <th>2017</th>\n",
       "      <td>128320</td>\n",
       "    </tr>\n",
       "    <tr>\n",
       "      <th>2018</th>\n",
       "      <td>110252</td>\n",
       "    </tr>\n",
       "  </tbody>\n",
       "</table>\n",
       "</div>"
      ],
      "text/plain": [
       "      Check-ins\n",
       "Ano            \n",
       "2005         32\n",
       "2006        945\n",
       "2007       5524\n",
       "2008      14407\n",
       "2009      23199\n",
       "2010      45568\n",
       "2011      91418\n",
       "2012     101620\n",
       "2013     104009\n",
       "2014     118955\n",
       "2015     121588\n",
       "2016     124477\n",
       "2017     128320\n",
       "2018     110252"
      ]
     },
     "execution_count": 7,
     "metadata": {},
     "output_type": "execute_result"
    }
   ],
   "source": [
    "df_checkin_phoenix[['user_id','year']].groupby('year').count().rename(columns={'user_id':'Check-ins'}).rename_axis('Ano')"
   ]
  },
  {
   "cell_type": "code",
   "execution_count": 9,
   "metadata": {},
   "outputs": [
    {
     "data": {
      "text/plain": [
       "<matplotlib.axes._subplots.AxesSubplot at 0x7f2158dcd9d0>"
      ]
     },
     "execution_count": 9,
     "metadata": {},
     "output_type": "execute_result"
    },
    {
     "data": {
      "image/png": "[encoded data removed]",
      "text/plain": [
       "<Figure size 432x288 with 1 Axes>"
      ]
     },
     "metadata": {
      "needs_background": "light"
     },
     "output_type": "display_data"
    }
   ],
   "source": [
    "df_checkin_phoenix[['user_id','year']].groupby('year').count().rename(columns={'user_id':'Check-ins'}).rename_axis('Ano').plot()"
   ]
  },
  {
   "cell_type": "markdown",
   "metadata": {},
   "source": [
    "## plot graph of check-ins count of all months of all years except 2005 and 2018"
   ]
  },
  {
   "cell_type": "code",
   "execution_count": 26,
   "metadata": {},
   "outputs": [
    {
     "data": {
      "text/plain": [
       "<matplotlib.axes._subplots.AxesSubplot at 0x7f215916dd90>"
      ]
     },
     "execution_count": 26,
     "metadata": {},
     "output_type": "execute_result"
    },
    {
     "data": {
      "image/png": "[encoded data removed]",
      "text/plain": [
       "<Figure size 432x288 with 1 Axes>"
      ]
     },
     "metadata": {
      "needs_background": "light"
     },
     "output_type": "display_data"
    }
   ],
   "source": [
    "df_checkin_phoenix[~df_checkin_phoenix['year'].isin([2005,2018])][['user_id','month']].groupby('month').count().rename(columns={'user_id':'Check-ins'}).plot()"
   ]
  },
  {
   "cell_type": "markdown",
   "metadata": {},
   "source": [
    "## plot graph of check-ins grouping by year and month"
   ]
  },
  {
   "cell_type": "code",
   "execution_count": 29,
   "metadata": {},
   "outputs": [
    {
     "data": {
      "text/plain": [
       "<matplotlib.axes._subplots.AxesSubplot at 0x7f2154b05290>"
      ]
     },
     "execution_count": 29,
     "metadata": {},
     "output_type": "execute_result"
    },
    {
     "data": {
      "image/png": "[encoded data removed]",
      "text/plain": [
       "<Figure size 432x288 with 1 Axes>"
      ]
     },
     "metadata": {
      "needs_background": "light"
     },
     "output_type": "display_data"
    }
   ],
   "source": [
    "df_checkin_phoenix[['user_id','year','month']].groupby(['year','month']).count().rename(columns={'user_id':'Check-ins'}).plot()"
   ]
  },
  {
   "cell_type": "code",
   "execution_count": 33,
   "metadata": {},
   "outputs": [
    {
     "data": {
      "text/html": [
       "<div>\n",
       "<style scoped>\n",
       "    .dataframe tbody tr th:only-of-type {\n",
       "        vertical-align: middle;\n",
       "    }\n",
       "\n",
       "    .dataframe tbody tr th {\n",
       "        vertical-align: top;\n",
       "    }\n",
       "\n",
       "    .dataframe thead th {\n",
       "        text-align: right;\n",
       "    }\n",
       "</style>\n",
       "<table border=\"1\" class=\"dataframe\">\n",
       "  <thead>\n",
       "    <tr style=\"text-align: right;\">\n",
       "      <th></th>\n",
       "      <th>user_id</th>\n",
       "    </tr>\n",
       "  </thead>\n",
       "  <tbody>\n",
       "    <tr>\n",
       "      <th>count</th>\n",
       "      <td>158.000000</td>\n",
       "    </tr>\n",
       "    <tr>\n",
       "      <th>mean</th>\n",
       "      <td>6267.810127</td>\n",
       "    </tr>\n",
       "    <tr>\n",
       "      <th>std</th>\n",
       "      <td>4224.615146</td>\n",
       "    </tr>\n",
       "    <tr>\n",
       "      <th>min</th>\n",
       "      <td>6.000000</td>\n",
       "    </tr>\n",
       "    <tr>\n",
       "      <th>25%</th>\n",
       "      <td>1516.500000</td>\n",
       "    </tr>\n",
       "    <tr>\n",
       "      <th>50%</th>\n",
       "      <td>8007.000000</td>\n",
       "    </tr>\n",
       "    <tr>\n",
       "      <th>75%</th>\n",
       "      <td>9923.250000</td>\n",
       "    </tr>\n",
       "    <tr>\n",
       "      <th>max</th>\n",
       "      <td>11938.000000</td>\n",
       "    </tr>\n",
       "  </tbody>\n",
       "</table>\n",
       "</div>"
      ],
      "text/plain": [
       "            user_id\n",
       "count    158.000000\n",
       "mean    6267.810127\n",
       "std     4224.615146\n",
       "min        6.000000\n",
       "25%     1516.500000\n",
       "50%     8007.000000\n",
       "75%     9923.250000\n",
       "max    11938.000000"
      ]
     },
     "execution_count": 33,
     "metadata": {},
     "output_type": "execute_result"
    }
   ],
   "source": [
    "df_checkin_phoenix[['user_id','year','month']].groupby(['year','month']).count().describe()"
   ]
  },
  {
   "cell_type": "code",
   "execution_count": null,
   "metadata": {},
   "outputs": [],
   "source": [
    "for year in df_checkin_phoenix[['year']].nunique()"
   ]
  },
  {
   "cell_type": "code",
   "execution_count": 129,
   "metadata": {
    "scrolled": true
   },
   "outputs": [
    {
     "name": "stdout",
     "output_type": "stream",
     "text": [
      "Block border: 2005 - 2006\n",
      "[2005] | [2006, 2007, 2008, 2009, 2010, 2011, 2012, 2013, 2014, 2015, 2016, 2017, 2018]\n",
      "Users on training = 6; Users on test = 6; Rate of persistence: 1.0000; Persistence rate change: 1.0000.\n",
      "\n",
      "Block border: 2006 - 2007\n",
      "[2005, 2006] | [2007, 2008, 2009, 2010, 2011, 2012, 2013, 2014, 2015, 2016, 2017, 2018]\n",
      "Users on training = 50; Users on test = 49; Rate of persistence: 0.9800; Persistence rate change: -0.0200.\n",
      "\n",
      "Block border: 2007 - 2008\n",
      "[2005, 2006, 2007] | [2008, 2009, 2010, 2011, 2012, 2013, 2014, 2015, 2016, 2017, 2018]\n",
      "Users on training = 261; Users on test = 250; Rate of persistence: 0.9579; Persistence rate change: -0.0221.\n",
      "\n",
      "Block border: 2008 - 2009\n",
      "[2005, 2006, 2007, 2008] | [2009, 2010, 2011, 2012, 2013, 2014, 2015, 2016, 2017, 2018]\n",
      "Users on training = 851; Users on test = 822; Rate of persistence: 0.9659; Persistence rate change: 0.0081.\n",
      "\n",
      "Block border: 2009 - 2010\n",
      "[2005, 2006, 2007, 2008, 2009] | [2010, 2011, 2012, 2013, 2014, 2015, 2016, 2017, 2018]\n",
      "Users on training = 1940; Users on test = 1862; Rate of persistence: 0.9598; Persistence rate change: -0.0061.\n",
      "\n",
      "Block border: 2010 - 2011\n",
      "[2005, 2006, 2007, 2008, 2009, 2010] | [2011, 2012, 2013, 2014, 2015, 2016, 2017, 2018]\n",
      "Users on training = 3796; Users on test = 3621; Rate of persistence: 0.9539; Persistence rate change: -0.0059.\n",
      "\n",
      "Block border: 2011 - 2012\n",
      "[2005, 2006, 2007, 2008, 2009, 2010, 2011] | [2012, 2013, 2014, 2015, 2016, 2017, 2018]\n",
      "Users on training = 6581; Users on test = 6190; Rate of persistence: 0.9406; Persistence rate change: -0.0133.\n",
      "\n",
      "Block border: 2012 - 2013\n",
      "[2005, 2006, 2007, 2008, 2009, 2010, 2011, 2012] | [2013, 2014, 2015, 2016, 2017, 2018]\n",
      "Users on training = 9121; Users on test = 8417; Rate of persistence: 0.9228; Persistence rate change: -0.0178.\n",
      "\n",
      "Block border: 2013 - 2014\n",
      "[2005, 2006, 2007, 2008, 2009, 2010, 2011, 2012, 2013] | [2014, 2015, 2016, 2017, 2018]\n",
      "Users on training = 11781; Users on test = 10672; Rate of persistence: 0.9059; Persistence rate change: -0.0170.\n",
      "\n",
      "Block border: 2014 - 2015\n",
      "[2005, 2006, 2007, 2008, 2009, 2010, 2011, 2012, 2013, 2014] | [2015, 2016, 2017, 2018]\n",
      "Users on training = 14357; Users on test = 12684; Rate of persistence: 0.8835; Persistence rate change: -0.0224.\n",
      "\n",
      "Block border: 2015 - 2016\n",
      "[2005, 2006, 2007, 2008, 2009, 2010, 2011, 2012, 2013, 2014, 2015] | [2016, 2017, 2018]\n",
      "Users on training = 16405; Users on test = 13825; Rate of persistence: 0.8427; Persistence rate change: -0.0407.\n",
      "\n",
      "Block border: 2016 - 2017\n",
      "[2005, 2006, 2007, 2008, 2009, 2010, 2011, 2012, 2013, 2014, 2015, 2016] | [2017, 2018]\n",
      "Users on training = 17666; Users on test = 13777; Rate of persistence: 0.7799; Persistence rate change: -0.0629.\n",
      "\n",
      "Block border: 2017 - 2018\n",
      "[2005, 2006, 2007, 2008, 2009, 2010, 2011, 2012, 2013, 2014, 2015, 2016, 2017] | [2018]\n",
      "Users on training = 18326; Users on test = 11767; Rate of persistence: 0.6421; Persistence rate change: -0.1378.\n",
      "\n"
     ]
    }
   ],
   "source": [
    "df_persistence=pd.DataFrame(columns=['rate_of_persistence','persistence_rate_change'])\n",
    "\n",
    "\n",
    "years=df_checkin_phoenix['year'].unique()\n",
    "years.sort()\n",
    "years=years.tolist()\n",
    "# never include last item\n",
    "number_of_years=len(years)\n",
    "years_list=list()\n",
    "old_user_persistence_rate=0\n",
    "while len(years_list)<number_of_years-1:\n",
    "    years_list.append(years.pop(0))\n",
    "    df_checkin_training=df_checkin_phoenix[df_checkin_phoenix['year'].isin(years_list)]['user_id'].drop_duplicates()\n",
    "    df_checkin_test=df_checkin_phoenix[df_checkin_phoenix['year'].isin(years)][['user_id']].drop_duplicates()\n",
    "    users_training=len(df_checkin_training)\n",
    "    users_training_persist_on_test=len(pd.merge(df_checkin_training,df_checkin_test,how='inner'))\n",
    "    rate_of_persistence=users_training_persist_on_test/users_training\n",
    "    persistence_rate_change=rate_of_persistence-old_user_persistence_rate\n",
    "    df_persistence=df_persistence.append({'rate_of_persistence':rate_of_persistence,\n",
    "                           'persistence_rate_change':persistence_rate_change},ignore_index=True)\n",
    "    \n",
    "    print(\"Block border:\",years_list[-1],\"-\",years_list[-1]+1)\n",
    "    print(years_list,\"|\",years)\n",
    "    print(\"Users on training = %d; Users on test = %d; Rate of persistence: %.4f; Persistence rate change: %.4f.\"\n",
    "          % (users_training,users_training_persist_on_test,rate_of_persistence,persistence_rate_change))\n",
    "    print()\n",
    "    old_user_persistence_rate=rate_of_persistence"
   ]
  },
  {
   "cell_type": "code",
   "execution_count": 130,
   "metadata": {},
   "outputs": [
    {
     "data": {
      "text/html": [
       "<div>\n",
       "<style scoped>\n",
       "    .dataframe tbody tr th:only-of-type {\n",
       "        vertical-align: middle;\n",
       "    }\n",
       "\n",
       "    .dataframe tbody tr th {\n",
       "        vertical-align: top;\n",
       "    }\n",
       "\n",
       "    .dataframe thead th {\n",
       "        text-align: right;\n",
       "    }\n",
       "</style>\n",
       "<table border=\"1\" class=\"dataframe\">\n",
       "  <thead>\n",
       "    <tr style=\"text-align: right;\">\n",
       "      <th></th>\n",
       "      <th>rate_of_persistence</th>\n",
       "      <th>persistence_rate_change</th>\n",
       "    </tr>\n",
       "  </thead>\n",
       "  <tbody>\n",
       "    <tr>\n",
       "      <th>0</th>\n",
       "      <td>1.000000</td>\n",
       "      <td>1.000000</td>\n",
       "    </tr>\n",
       "    <tr>\n",
       "      <th>1</th>\n",
       "      <td>0.980000</td>\n",
       "      <td>-0.020000</td>\n",
       "    </tr>\n",
       "    <tr>\n",
       "      <th>2</th>\n",
       "      <td>0.957854</td>\n",
       "      <td>-0.022146</td>\n",
       "    </tr>\n",
       "    <tr>\n",
       "      <th>3</th>\n",
       "      <td>0.965922</td>\n",
       "      <td>0.008068</td>\n",
       "    </tr>\n",
       "    <tr>\n",
       "      <th>4</th>\n",
       "      <td>0.959794</td>\n",
       "      <td>-0.006129</td>\n",
       "    </tr>\n",
       "    <tr>\n",
       "      <th>5</th>\n",
       "      <td>0.953899</td>\n",
       "      <td>-0.005895</td>\n",
       "    </tr>\n",
       "    <tr>\n",
       "      <th>6</th>\n",
       "      <td>0.940587</td>\n",
       "      <td>-0.013312</td>\n",
       "    </tr>\n",
       "    <tr>\n",
       "      <th>7</th>\n",
       "      <td>0.922815</td>\n",
       "      <td>-0.017771</td>\n",
       "    </tr>\n",
       "    <tr>\n",
       "      <th>8</th>\n",
       "      <td>0.905865</td>\n",
       "      <td>-0.016950</td>\n",
       "    </tr>\n",
       "    <tr>\n",
       "      <th>9</th>\n",
       "      <td>0.883471</td>\n",
       "      <td>-0.022394</td>\n",
       "    </tr>\n",
       "    <tr>\n",
       "      <th>10</th>\n",
       "      <td>0.842731</td>\n",
       "      <td>-0.040741</td>\n",
       "    </tr>\n",
       "    <tr>\n",
       "      <th>11</th>\n",
       "      <td>0.779860</td>\n",
       "      <td>-0.062871</td>\n",
       "    </tr>\n",
       "    <tr>\n",
       "      <th>12</th>\n",
       "      <td>0.642093</td>\n",
       "      <td>-0.137766</td>\n",
       "    </tr>\n",
       "  </tbody>\n",
       "</table>\n",
       "</div>"
      ],
      "text/plain": [
       "    rate_of_persistence  persistence_rate_change\n",
       "0              1.000000                 1.000000\n",
       "1              0.980000                -0.020000\n",
       "2              0.957854                -0.022146\n",
       "3              0.965922                 0.008068\n",
       "4              0.959794                -0.006129\n",
       "5              0.953899                -0.005895\n",
       "6              0.940587                -0.013312\n",
       "7              0.922815                -0.017771\n",
       "8              0.905865                -0.016950\n",
       "9              0.883471                -0.022394\n",
       "10             0.842731                -0.040741\n",
       "11             0.779860                -0.062871\n",
       "12             0.642093                -0.137766"
      ]
     },
     "execution_count": 130,
     "metadata": {},
     "output_type": "execute_result"
    }
   ],
   "source": [
    "df_persistence"
   ]
  },
  {
   "cell_type": "code",
   "execution_count": 131,
   "metadata": {},
   "outputs": [
    {
     "data": {
      "text/plain": [
       "<matplotlib.axes._subplots.AxesSubplot at 0x7f21542e7ed0>"
      ]
     },
     "execution_count": 131,
     "metadata": {},
     "output_type": "execute_result"
    },
    {
     "data": {
      "image/png": "[encoded data removed]",
      "text/plain": [
       "<Figure size 432x288 with 1 Axes>"
      ]
     },
     "metadata": {
      "needs_background": "light"
     },
     "output_type": "display_data"
    }
   ],
   "source": [
    "df_persistence.rate_of_persistence.plot()"
   ]
  },
  {
   "cell_type": "code",
   "execution_count": 103,
   "metadata": {},
   "outputs": [
    {
     "data": {
      "text/plain": [
       "<matplotlib.axes._subplots.AxesSubplot at 0x7f2153eeba10>"
      ]
     },
     "execution_count": 103,
     "metadata": {},
     "output_type": "execute_result"
    },
    {
     "data": {
      "image/png": "[encoded data removed]",
      "text/plain": [
       "<Figure size 432x288 with 1 Axes>"
      ]
     },
     "metadata": {
      "needs_background": "light"
     },
     "output_type": "display_data"
    }
   ],
   "source": [
    "df_checkin_phoenix[['user_id','year']].drop_duplicates(['user_id','year']).groupby('year').count().rename(columns={'user_id':'Users'}).plot()"
   ]
  },
  {
   "cell_type": "code",
   "execution_count": 137,
   "metadata": {},
   "outputs": [
    {
     "data": {
      "text/html": [
       "<div>\n",
       "<style scoped>\n",
       "    .dataframe tbody tr th:only-of-type {\n",
       "        vertical-align: middle;\n",
       "    }\n",
       "\n",
       "    .dataframe tbody tr th {\n",
       "        vertical-align: top;\n",
       "    }\n",
       "\n",
       "    .dataframe thead th {\n",
       "        text-align: right;\n",
       "    }\n",
       "</style>\n",
       "<table border=\"1\" class=\"dataframe\">\n",
       "  <thead>\n",
       "    <tr style=\"text-align: right;\">\n",
       "      <th></th>\n",
       "      <th>rate_of_persistence</th>\n",
       "      <th>persistence_rate_change</th>\n",
       "    </tr>\n",
       "    <tr>\n",
       "      <th>datesplit</th>\n",
       "      <th></th>\n",
       "      <th></th>\n",
       "    </tr>\n",
       "  </thead>\n",
       "  <tbody>\n",
       "    <tr>\n",
       "      <th>2014 2015</th>\n",
       "      <td>0.642093</td>\n",
       "      <td>-0.137766</td>\n",
       "    </tr>\n",
       "  </tbody>\n",
       "</table>\n",
       "</div>"
      ],
      "text/plain": [
       "           rate_of_persistence  persistence_rate_change\n",
       "datesplit                                              \n",
       "2014 2015             0.642093                -0.137766"
      ]
     },
     "execution_count": 137,
     "metadata": {},
     "output_type": "execute_result"
    }
   ],
   "source": [
    "df_persistence=pd.DataFrame(columns=['rate_of_persistence','persistence_rate_change'])\n",
    "df_persistence.index.name=\"datesplit\"\n",
    "df_persistence.loc[2014]=[rate_of_persistence,persistence_rate_change]\n",
    "df_persistence"
   ]
  }
 ],
 "metadata": {
  "kernelspec": {
   "display_name": "Python 3",
   "language": "python",
   "name": "python3"
  },
  "language_info": {
   "codemirror_mode": {
    "name": "ipython",
    "version": 3
   },
   "file_extension": ".py",
   "mimetype": "text/x-python",
   "name": "python",
   "nbconvert_exporter": "python",
   "pygments_lexer": "ipython3",
   "version": "3.7.4"
  }
 },
 "nbformat": 4,
 "nbformat_minor": 2
}
