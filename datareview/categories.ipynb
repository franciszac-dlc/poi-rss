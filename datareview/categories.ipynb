{
 "cells": [
  {
   "cell_type": "markdown",
   "metadata": {},
   "source": [
    "# Caracterização categorias\n",
    "\n",
    "- https://www.yelp.com/developers/documentation/v3/all_category_list\n",
    "- https://www.yelp.com/developers/documentation/v3/all_category_list/categories.json\n",
    "- https://www.yelp.com/developers/documentation/v3/category"
   ]
  },
  {
   "cell_type": "markdown",
   "metadata": {},
   "source": [
    "<table class=\"table table-bordered\">\n",
    "            <thead>\n",
    "                <tr>\n",
    "                    <th>Name</th>\n",
    "                    <th>Type</th>\n",
    "                    <th>Description</th>\n",
    "                </tr>\n",
    "            </thead>\n",
    "            <tbody>\n",
    "                <tr>\n",
    "                    <td>alias</td>\n",
    "                    <td>string</td>\n",
    "                    <td>Category alias.</td>\n",
    "                </tr>\n",
    "                <tr>\n",
    "                    <td>title</td>\n",
    "                    <td>string</td>\n",
    "                    <td>Title of this category.</td>\n",
    "                </tr>\n",
    "                <tr>\n",
    "                    <td>parent_aliases</td>\n",
    "                    <td>string[]</td>\n",
    "                    <td>List of aliases of parent categories.</td>\n",
    "                </tr>\n",
    "                <tr>\n",
    "                    <td>country_whitelist</td>\n",
    "                    <td>string[]</td>\n",
    "                    <td>Countries for which this category is whitelisted.</td>\n",
    "                </tr>\n",
    "                <tr>\n",
    "                    <td>country_blacklist</td>\n",
    "                    <td>string[]</td>\n",
    "                    <td>Countries for which this category is blacklisted.</td>\n",
    "                </tr>\n",
    "            </tbody>\n",
    "        </table>"
   ]
  },
  {
   "cell_type": "code",
   "execution_count": 1,
   "metadata": {},
   "outputs": [],
   "source": [
    "import json\n",
    "import pandas as pd\n",
    "\n",
    "df=pd.read_json(\"../data/categories.json\")"
   ]
  },
  {
   "cell_type": "code",
   "execution_count": 2,
   "metadata": {},
   "outputs": [
    {
     "data": {
      "text/html": [
       "<div>\n",
       "<style scoped>\n",
       "    .dataframe tbody tr th:only-of-type {\n",
       "        vertical-align: middle;\n",
       "    }\n",
       "\n",
       "    .dataframe tbody tr th {\n",
       "        vertical-align: top;\n",
       "    }\n",
       "\n",
       "    .dataframe thead th {\n",
       "        text-align: right;\n",
       "    }\n",
       "</style>\n",
       "<table border=\"1\" class=\"dataframe\">\n",
       "  <thead>\n",
       "    <tr style=\"text-align: right;\">\n",
       "      <th></th>\n",
       "      <th>alias</th>\n",
       "      <th>title</th>\n",
       "      <th>parents</th>\n",
       "      <th>country_whitelist</th>\n",
       "      <th>country_blacklist</th>\n",
       "    </tr>\n",
       "  </thead>\n",
       "  <tbody>\n",
       "    <tr>\n",
       "      <th>0</th>\n",
       "      <td>3dprinting</td>\n",
       "      <td>3D Printing</td>\n",
       "      <td>[localservices]</td>\n",
       "      <td>NaN</td>\n",
       "      <td>NaN</td>\n",
       "    </tr>\n",
       "    <tr>\n",
       "      <th>1</th>\n",
       "      <td>abruzzese</td>\n",
       "      <td>Abruzzese</td>\n",
       "      <td>[italian]</td>\n",
       "      <td>[IT]</td>\n",
       "      <td>NaN</td>\n",
       "    </tr>\n",
       "    <tr>\n",
       "      <th>2</th>\n",
       "      <td>absinthebars</td>\n",
       "      <td>Absinthe Bars</td>\n",
       "      <td>[bars]</td>\n",
       "      <td>[CZ]</td>\n",
       "      <td>NaN</td>\n",
       "    </tr>\n",
       "    <tr>\n",
       "      <th>3</th>\n",
       "      <td>acaibowls</td>\n",
       "      <td>Acai Bowls</td>\n",
       "      <td>[food]</td>\n",
       "      <td>NaN</td>\n",
       "      <td>[MX, IT, PL, CL, TR, AR]</td>\n",
       "    </tr>\n",
       "    <tr>\n",
       "      <th>4</th>\n",
       "      <td>accessories</td>\n",
       "      <td>Accessories</td>\n",
       "      <td>[fashion]</td>\n",
       "      <td>NaN</td>\n",
       "      <td>NaN</td>\n",
       "    </tr>\n",
       "  </tbody>\n",
       "</table>\n",
       "</div>"
      ],
      "text/plain": [
       "          alias          title          parents country_whitelist  \\\n",
       "0    3dprinting    3D Printing  [localservices]               NaN   \n",
       "1     abruzzese      Abruzzese        [italian]              [IT]   \n",
       "2  absinthebars  Absinthe Bars           [bars]              [CZ]   \n",
       "3     acaibowls     Acai Bowls           [food]               NaN   \n",
       "4   accessories    Accessories        [fashion]               NaN   \n",
       "\n",
       "          country_blacklist  \n",
       "0                       NaN  \n",
       "1                       NaN  \n",
       "2                       NaN  \n",
       "3  [MX, IT, PL, CL, TR, AR]  \n",
       "4                       NaN  "
      ]
     },
     "execution_count": 2,
     "metadata": {},
     "output_type": "execute_result"
    }
   ],
   "source": [
    "df.head()"
   ]
  },
  {
   "cell_type": "code",
   "execution_count": 3,
   "metadata": {},
   "outputs": [
    {
     "data": {
      "text/html": [
       "<div>\n",
       "<style scoped>\n",
       "    .dataframe tbody tr th:only-of-type {\n",
       "        vertical-align: middle;\n",
       "    }\n",
       "\n",
       "    .dataframe tbody tr th {\n",
       "        vertical-align: top;\n",
       "    }\n",
       "\n",
       "    .dataframe thead th {\n",
       "        text-align: right;\n",
       "    }\n",
       "</style>\n",
       "<table border=\"1\" class=\"dataframe\">\n",
       "  <thead>\n",
       "    <tr style=\"text-align: right;\">\n",
       "      <th></th>\n",
       "      <th>alias</th>\n",
       "      <th>title</th>\n",
       "    </tr>\n",
       "  </thead>\n",
       "  <tbody>\n",
       "    <tr>\n",
       "      <th>0</th>\n",
       "      <td>3dprinting</td>\n",
       "      <td>3D Printing</td>\n",
       "    </tr>\n",
       "    <tr>\n",
       "      <th>1</th>\n",
       "      <td>abruzzese</td>\n",
       "      <td>Abruzzese</td>\n",
       "    </tr>\n",
       "    <tr>\n",
       "      <th>2</th>\n",
       "      <td>absinthebars</td>\n",
       "      <td>Absinthe Bars</td>\n",
       "    </tr>\n",
       "    <tr>\n",
       "      <th>3</th>\n",
       "      <td>acaibowls</td>\n",
       "      <td>Acai Bowls</td>\n",
       "    </tr>\n",
       "    <tr>\n",
       "      <th>4</th>\n",
       "      <td>accessories</td>\n",
       "      <td>Accessories</td>\n",
       "    </tr>\n",
       "  </tbody>\n",
       "</table>\n",
       "</div>"
      ],
      "text/plain": [
       "          alias          title\n",
       "0    3dprinting    3D Printing\n",
       "1     abruzzese      Abruzzese\n",
       "2  absinthebars  Absinthe Bars\n",
       "3     acaibowls     Acai Bowls\n",
       "4   accessories    Accessories"
      ]
     },
     "execution_count": 3,
     "metadata": {},
     "output_type": "execute_result"
    }
   ],
   "source": [
    "df[['alias','title']].head()"
   ]
  },
  {
   "cell_type": "code",
   "execution_count": 4,
   "metadata": {},
   "outputs": [],
   "source": [
    "# dicionario alias title 2 way\n",
    "dict_alias_title={}\n",
    "for index, row in df.iterrows():\n",
    "    dict_alias_title[row['alias']]=row['title']\n",
    "    dict_alias_title[row['title']]=row['alias']"
   ]
  },
  {
   "cell_type": "code",
   "execution_count": 5,
   "metadata": {},
   "outputs": [],
   "source": [
    "# criação da árvore de categorias\n",
    "\n",
    "import networkx as nx\n",
    "import matplotlib.pyplot as plt\n",
    "%matplotlib inline\n",
    "\n",
    "category_tree= nx.DiGraph()\n",
    "for index, row in df.iterrows():\n",
    "    for parent_label in row['parents']:\n",
    "        category_tree.add_edge(row['alias'],parent_label)\n"
   ]
  },
  {
   "cell_type": "code",
   "execution_count": 13,
   "metadata": {},
   "outputs": [
    {
     "data": {
      "text/plain": [
       "2"
      ]
     },
     "execution_count": 13,
     "metadata": {},
     "output_type": "execute_result"
    }
   ],
   "source": [
    "nx.shortest_path_length(category_tree.to_undirected(),'brazilianjiujitsu','chinesemartialarts')"
   ]
  }
 ],
 "metadata": {
  "kernelspec": {
   "display_name": "Python 3",
   "language": "python",
   "name": "python3"
  },
  "language_info": {
   "codemirror_mode": {
    "name": "ipython",
    "version": 3
   },
   "file_extension": ".py",
   "mimetype": "text/x-python",
   "name": "python",
   "nbconvert_exporter": "python",
   "pygments_lexer": "ipython3",
   "version": "3.7.4"
  }
 },
 "nbformat": 4,
 "nbformat_minor": 4
}
