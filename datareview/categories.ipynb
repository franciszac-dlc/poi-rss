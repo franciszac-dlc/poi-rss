{
 "cells": [
  {
   "cell_type": "markdown",
   "metadata": {},
   "source": [
    "# Caracterização categorias\n",
    "\n",
    "- https://www.yelp.com/developers/documentation/v3/all_category_list\n",
    "- https://www.yelp.com/developers/documentation/v3/all_category_list/categories.json\n",
    "- https://www.yelp.com/developers/documentation/v3/category\n",
    "\n",
    "Problemas:\n",
    "- Existem categorias não listadas. "
   ]
  },
  {
   "cell_type": "markdown",
   "metadata": {},
   "source": [
    "<table class=\"table table-bordered\">\n",
    "            <thead>\n",
    "                <tr>\n",
    "                    <th>Name</th>\n",
    "                    <th>Type</th>\n",
    "                    <th>Description</th>\n",
    "                </tr>\n",
    "            </thead>\n",
    "            <tbody>\n",
    "                <tr>\n",
    "                    <td>alias</td>\n",
    "                    <td>string</td>\n",
    "                    <td>Category alias.</td>\n",
    "                </tr>\n",
    "                <tr>\n",
    "                    <td>title</td>\n",
    "                    <td>string</td>\n",
    "                    <td>Title of this category.</td>\n",
    "                </tr>\n",
    "                <tr>\n",
    "                    <td>parent_aliases</td>\n",
    "                    <td>string[]</td>\n",
    "                    <td>List of aliases of parent categories.</td>\n",
    "                </tr>\n",
    "                <tr>\n",
    "                    <td>country_whitelist</td>\n",
    "                    <td>string[]</td>\n",
    "                    <td>Countries for which this category is whitelisted.</td>\n",
    "                </tr>\n",
    "                <tr>\n",
    "                    <td>country_blacklist</td>\n",
    "                    <td>string[]</td>\n",
    "                    <td>Countries for which this category is blacklisted.</td>\n",
    "                </tr>\n",
    "            </tbody>\n",
    "        </table>"
   ]
  },
  {
   "cell_type": "code",
   "execution_count": 1,
   "metadata": {},
   "outputs": [],
   "source": [
    "\n",
    "import pandas as pd\n",
    "\n",
    "df=pd.read_json(\"../data/categories.json\")"
   ]
  },
  {
   "cell_type": "code",
   "execution_count": 2,
   "metadata": {},
   "outputs": [
    {
     "data": {
      "text/html": [
       "<div>\n",
       "<style scoped>\n",
       "    .dataframe tbody tr th:only-of-type {\n",
       "        vertical-align: middle;\n",
       "    }\n",
       "\n",
       "    .dataframe tbody tr th {\n",
       "        vertical-align: top;\n",
       "    }\n",
       "\n",
       "    .dataframe thead th {\n",
       "        text-align: right;\n",
       "    }\n",
       "</style>\n",
       "<table border=\"1\" class=\"dataframe\">\n",
       "  <thead>\n",
       "    <tr style=\"text-align: right;\">\n",
       "      <th></th>\n",
       "      <th>alias</th>\n",
       "      <th>title</th>\n",
       "      <th>parents</th>\n",
       "      <th>country_whitelist</th>\n",
       "      <th>country_blacklist</th>\n",
       "    </tr>\n",
       "  </thead>\n",
       "  <tbody>\n",
       "    <tr>\n",
       "      <th>0</th>\n",
       "      <td>3dprinting</td>\n",
       "      <td>3D Printing</td>\n",
       "      <td>[localservices]</td>\n",
       "      <td>NaN</td>\n",
       "      <td>NaN</td>\n",
       "    </tr>\n",
       "    <tr>\n",
       "      <th>1</th>\n",
       "      <td>abruzzese</td>\n",
       "      <td>Abruzzese</td>\n",
       "      <td>[italian]</td>\n",
       "      <td>[IT]</td>\n",
       "      <td>NaN</td>\n",
       "    </tr>\n",
       "    <tr>\n",
       "      <th>2</th>\n",
       "      <td>absinthebars</td>\n",
       "      <td>Absinthe Bars</td>\n",
       "      <td>[bars]</td>\n",
       "      <td>[CZ]</td>\n",
       "      <td>NaN</td>\n",
       "    </tr>\n",
       "    <tr>\n",
       "      <th>3</th>\n",
       "      <td>acaibowls</td>\n",
       "      <td>Acai Bowls</td>\n",
       "      <td>[food]</td>\n",
       "      <td>NaN</td>\n",
       "      <td>[MX, IT, PL, CL, TR, AR]</td>\n",
       "    </tr>\n",
       "    <tr>\n",
       "      <th>4</th>\n",
       "      <td>accessories</td>\n",
       "      <td>Accessories</td>\n",
       "      <td>[fashion]</td>\n",
       "      <td>NaN</td>\n",
       "      <td>NaN</td>\n",
       "    </tr>\n",
       "  </tbody>\n",
       "</table>\n",
       "</div>"
      ],
      "text/plain": [
       "          alias          title          parents country_whitelist  \\\n",
       "0    3dprinting    3D Printing  [localservices]               NaN   \n",
       "1     abruzzese      Abruzzese        [italian]              [IT]   \n",
       "2  absinthebars  Absinthe Bars           [bars]              [CZ]   \n",
       "3     acaibowls     Acai Bowls           [food]               NaN   \n",
       "4   accessories    Accessories        [fashion]               NaN   \n",
       "\n",
       "          country_blacklist  \n",
       "0                       NaN  \n",
       "1                       NaN  \n",
       "2                       NaN  \n",
       "3  [MX, IT, PL, CL, TR, AR]  \n",
       "4                       NaN  "
      ]
     },
     "execution_count": 2,
     "metadata": {},
     "output_type": "execute_result"
    }
   ],
   "source": [
    "df.head()"
   ]
  },
  {
   "cell_type": "code",
   "execution_count": 3,
   "metadata": {},
   "outputs": [],
   "source": [
    "# dicionario alias title 2 way\n",
    "dict_alias_title={}\n",
    "for index, row in df.iterrows():\n",
    "    dict_alias_title[row['alias']]=row['title']\n",
    "    dict_alias_title[row['title']]=row['alias']"
   ]
  },
  {
   "cell_type": "code",
   "execution_count": 4,
   "metadata": {},
   "outputs": [],
   "source": [
    "# criação da árvore de categorias\n",
    "\n",
    "import networkx as nx\n",
    "import matplotlib.pyplot as plt\n",
    "%matplotlib inline\n",
    "\n",
    "category_tree= nx.DiGraph()\n",
    "for index, row in df.iterrows():\n",
    "    if not row['parents']:\n",
    "        category_tree.add_edge(row['alias'],'root')\n",
    "    else:\n",
    "        for parent_label in row['parents']:\n",
    "            category_tree.add_edge(row['alias'],parent_label)\n"
   ]
  },
  {
   "cell_type": "code",
   "execution_count": 5,
   "metadata": {},
   "outputs": [
    {
     "data": {
      "text/plain": [
       "2"
      ]
     },
     "execution_count": 5,
     "metadata": {},
     "output_type": "execute_result"
    }
   ],
   "source": [
    "nx.shortest_path_length(category_tree.to_undirected(),'brazilianjiujitsu','chinesemartialarts')"
   ]
  },
  {
   "cell_type": "markdown",
   "metadata": {},
   "source": [
    "# depth filtering"
   ]
  },
  {
   "cell_type": "code",
   "execution_count": 6,
   "metadata": {},
   "outputs": [
    {
     "data": {
      "text/plain": [
       "2"
      ]
     },
     "execution_count": 6,
     "metadata": {},
     "output_type": "execute_result"
    }
   ],
   "source": [
    "nx.shortest_path_length(category_tree,'beaches','root')"
   ]
  },
  {
   "cell_type": "code",
   "execution_count": null,
   "metadata": {},
   "outputs": [],
   "source": [
    "dict_alias_depth=dict()\n",
    "for index, row in df.iterrows():\n",
    "    dict_alias_depth[row['alias']]=nx.shortest_path_length(category_tree,row['alias'],'root')"
   ]
  },
  {
   "cell_type": "code",
   "execution_count": 44,
   "metadata": {},
   "outputs": [
    {
     "data": {
      "text/html": [
       "<div>\n",
       "<style scoped>\n",
       "    .dataframe tbody tr th:only-of-type {\n",
       "        vertical-align: middle;\n",
       "    }\n",
       "\n",
       "    .dataframe tbody tr th {\n",
       "        vertical-align: top;\n",
       "    }\n",
       "\n",
       "    .dataframe thead th {\n",
       "        text-align: right;\n",
       "    }\n",
       "</style>\n",
       "<table border=\"1\" class=\"dataframe\">\n",
       "  <thead>\n",
       "    <tr style=\"text-align: right;\">\n",
       "      <th></th>\n",
       "      <th>business_id</th>\n",
       "      <th>name</th>\n",
       "      <th>city</th>\n",
       "      <th>latitude</th>\n",
       "      <th>longitude</th>\n",
       "      <th>stars</th>\n",
       "      <th>categories</th>\n",
       "    </tr>\n",
       "  </thead>\n",
       "  <tbody>\n",
       "    <tr>\n",
       "      <th>0</th>\n",
       "      <td>1SWheh84yJXfytovILXOAQ</td>\n",
       "      <td>Arizona Biltmore Golf Club</td>\n",
       "      <td>Phoenix</td>\n",
       "      <td>33.522143</td>\n",
       "      <td>-112.018481</td>\n",
       "      <td>3.0</td>\n",
       "      <td>[Golf, Active Life]</td>\n",
       "    </tr>\n",
       "    <tr>\n",
       "      <th>1</th>\n",
       "      <td>QXAEGFB4oINsVuTFxEYKFQ</td>\n",
       "      <td>Emerald Chinese Restaurant</td>\n",
       "      <td>Mississauga</td>\n",
       "      <td>43.605499</td>\n",
       "      <td>-79.652289</td>\n",
       "      <td>2.5</td>\n",
       "      <td>[Specialty Food, Restaurants, Dim Sum, Importe...</td>\n",
       "    </tr>\n",
       "    <tr>\n",
       "      <th>2</th>\n",
       "      <td>gnKjwL_1w79qoiV3IC_xQQ</td>\n",
       "      <td>Musashi Japanese Restaurant</td>\n",
       "      <td>Charlotte</td>\n",
       "      <td>35.092564</td>\n",
       "      <td>-80.859132</td>\n",
       "      <td>4.0</td>\n",
       "      <td>[Sushi Bars, Restaurants, Japanese]</td>\n",
       "    </tr>\n",
       "    <tr>\n",
       "      <th>3</th>\n",
       "      <td>xvX2CttrVhyG2z1dFg_0xw</td>\n",
       "      <td>Farmers Insurance - Paul Lorenz</td>\n",
       "      <td>Goodyear</td>\n",
       "      <td>33.455613</td>\n",
       "      <td>-112.395596</td>\n",
       "      <td>5.0</td>\n",
       "      <td>[Insurance, Financial Services]</td>\n",
       "    </tr>\n",
       "    <tr>\n",
       "      <th>4</th>\n",
       "      <td>HhyxOkGAM07SRYtlQ4wMFQ</td>\n",
       "      <td>Queen City Plumbing</td>\n",
       "      <td>Charlotte</td>\n",
       "      <td>35.190012</td>\n",
       "      <td>-80.887223</td>\n",
       "      <td>4.0</td>\n",
       "      <td>[Plumbing, Shopping, Local Services, Home Serv...</td>\n",
       "    </tr>\n",
       "  </tbody>\n",
       "</table>\n",
       "</div>"
      ],
      "text/plain": [
       "              business_id                             name         city  \\\n",
       "0  1SWheh84yJXfytovILXOAQ       Arizona Biltmore Golf Club      Phoenix   \n",
       "1  QXAEGFB4oINsVuTFxEYKFQ       Emerald Chinese Restaurant  Mississauga   \n",
       "2  gnKjwL_1w79qoiV3IC_xQQ      Musashi Japanese Restaurant    Charlotte   \n",
       "3  xvX2CttrVhyG2z1dFg_0xw  Farmers Insurance - Paul Lorenz     Goodyear   \n",
       "4  HhyxOkGAM07SRYtlQ4wMFQ              Queen City Plumbing    Charlotte   \n",
       "\n",
       "    latitude   longitude  stars  \\\n",
       "0  33.522143 -112.018481    3.0   \n",
       "1  43.605499  -79.652289    2.5   \n",
       "2  35.092564  -80.859132    4.0   \n",
       "3  33.455613 -112.395596    5.0   \n",
       "4  35.190012  -80.887223    4.0   \n",
       "\n",
       "                                          categories  \n",
       "0                                [Golf, Active Life]  \n",
       "1  [Specialty Food, Restaurants, Dim Sum, Importe...  \n",
       "2                [Sushi Bars, Restaurants, Japanese]  \n",
       "3                    [Insurance, Financial Services]  \n",
       "4  [Plumbing, Shopping, Local Services, Home Serv...  "
      ]
     },
     "execution_count": 44,
     "metadata": {},
     "output_type": "execute_result"
    }
   ],
   "source": [
    "def string_to_array(string):\n",
    "    return eval(string)\n",
    "df_business=pd.read_csv(\"../data/business.csv\",nrows=5,index_col=0,converters={'categories':string_to_array})"
   ]
  },
  {
   "cell_type": "code",
   "execution_count": 46,
   "metadata": {},
   "outputs": [
    {
     "data": {
      "text/plain": [
       "'Active Life'"
      ]
     },
     "execution_count": 46,
     "metadata": {},
     "output_type": "execute_result"
    }
   ],
   "source": [
    "df_business.categories[0][1]"
   ]
  },
  {
   "cell_type": "code",
   "execution_count": 47,
   "metadata": {},
   "outputs": [
    {
     "name": "stdout",
     "output_type": "stream",
     "text": [
      "['Golf', 'Active Life']\n",
      "['Golf']\n",
      "['Specialty Food', 'Restaurants', 'Dim Sum', 'Imported Food', 'Food', 'Chinese', 'Ethnic Food', 'Seafood']\n",
      "Error: Category \"Ethnic Food\" without alias name.\n",
      "['Specialty Food', 'Dim Sum', 'Imported Food', 'Chinese', 'Seafood']\n",
      "['Sushi Bars', 'Restaurants', 'Japanese']\n",
      "['Sushi Bars', 'Japanese']\n",
      "['Insurance', 'Financial Services']\n",
      "['Insurance']\n",
      "['Plumbing', 'Shopping', 'Local Services', 'Home Services', 'Kitchen & Bath', 'Home & Garden', 'Water Heater Installation/Repair']\n",
      "['Plumbing', 'Kitchen & Bath', 'Home & Garden', 'Water Heater Installation/Repair']\n"
     ]
    }
   ],
   "source": [
    "for index,row in df_business.iterrows():\n",
    "    tmp_cat_list=list()\n",
    "    print(row['categories'])\n",
    "    for category in row['categories']:\n",
    "        try:\n",
    "            if dict_alias_depth[dict_alias_title[category]] >= 2:\n",
    "                tmp_cat_list.append(category)\n",
    "        except:\n",
    "            print(\"Error: Category \\\"\"+category+\"\\\" without alias name.\")\n",
    "    print(tmp_cat_list)\n",
    "            "
   ]
  },
  {
   "cell_type": "code",
   "execution_count": 54,
   "metadata": {},
   "outputs": [
    {
     "name": "stdout",
     "output_type": "stream",
     "text": [
      "['Golf', 'Active Life']\n",
      "['Golf']\n",
      "['Specialty Food', 'Restaurants', 'Dim Sum', 'Imported Food', 'Food', 'Chinese', 'Ethnic Food', 'Seafood']\n",
      "Error: Category \"Ethnic Food\" without alias name.\n",
      "['Specialty Food', 'Dim Sum', 'Imported Food', 'Chinese', 'Seafood']\n",
      "['Sushi Bars', 'Restaurants', 'Japanese']\n",
      "['Sushi Bars', 'Japanese']\n",
      "['Insurance', 'Financial Services']\n",
      "['Insurance']\n",
      "['Plumbing', 'Shopping', 'Local Services', 'Home Services', 'Kitchen & Bath', 'Home & Garden', 'Water Heater Installation/Repair']\n",
      "['Plumbing', 'Kitchen & Bath', 'Home & Garden', 'Water Heater Installation/Repair']\n"
     ]
    }
   ],
   "source": [
    "def category_filter(categories):\n",
    "    tmp_cat_list=list()\n",
    "    print(categories)\n",
    "    for category in categories:\n",
    "        try:\n",
    "            if dict_alias_depth[dict_alias_title[category]] >= 2:\n",
    "                tmp_cat_list.append(category)\n",
    "        except:\n",
    "            print(\"Error: Category \\\"\"+category+\"\\\" without alias name.\")\n",
    "    print(tmp_cat_list)\n",
    "    return tmp_cat_list\n",
    "\n",
    "\n",
    "df_business.categories=df_business.categories.apply(category_filter)"
   ]
  },
  {
   "cell_type": "code",
   "execution_count": 55,
   "metadata": {},
   "outputs": [
    {
     "data": {
      "text/html": [
       "<div>\n",
       "<style scoped>\n",
       "    .dataframe tbody tr th:only-of-type {\n",
       "        vertical-align: middle;\n",
       "    }\n",
       "\n",
       "    .dataframe tbody tr th {\n",
       "        vertical-align: top;\n",
       "    }\n",
       "\n",
       "    .dataframe thead th {\n",
       "        text-align: right;\n",
       "    }\n",
       "</style>\n",
       "<table border=\"1\" class=\"dataframe\">\n",
       "  <thead>\n",
       "    <tr style=\"text-align: right;\">\n",
       "      <th></th>\n",
       "      <th>business_id</th>\n",
       "      <th>name</th>\n",
       "      <th>city</th>\n",
       "      <th>latitude</th>\n",
       "      <th>longitude</th>\n",
       "      <th>stars</th>\n",
       "      <th>categories</th>\n",
       "    </tr>\n",
       "  </thead>\n",
       "  <tbody>\n",
       "    <tr>\n",
       "      <th>0</th>\n",
       "      <td>1SWheh84yJXfytovILXOAQ</td>\n",
       "      <td>Arizona Biltmore Golf Club</td>\n",
       "      <td>Phoenix</td>\n",
       "      <td>33.522143</td>\n",
       "      <td>-112.018481</td>\n",
       "      <td>3.0</td>\n",
       "      <td>[Golf]</td>\n",
       "    </tr>\n",
       "    <tr>\n",
       "      <th>1</th>\n",
       "      <td>QXAEGFB4oINsVuTFxEYKFQ</td>\n",
       "      <td>Emerald Chinese Restaurant</td>\n",
       "      <td>Mississauga</td>\n",
       "      <td>43.605499</td>\n",
       "      <td>-79.652289</td>\n",
       "      <td>2.5</td>\n",
       "      <td>[Specialty Food, Dim Sum, Imported Food, Chine...</td>\n",
       "    </tr>\n",
       "    <tr>\n",
       "      <th>2</th>\n",
       "      <td>gnKjwL_1w79qoiV3IC_xQQ</td>\n",
       "      <td>Musashi Japanese Restaurant</td>\n",
       "      <td>Charlotte</td>\n",
       "      <td>35.092564</td>\n",
       "      <td>-80.859132</td>\n",
       "      <td>4.0</td>\n",
       "      <td>[Sushi Bars, Japanese]</td>\n",
       "    </tr>\n",
       "    <tr>\n",
       "      <th>3</th>\n",
       "      <td>xvX2CttrVhyG2z1dFg_0xw</td>\n",
       "      <td>Farmers Insurance - Paul Lorenz</td>\n",
       "      <td>Goodyear</td>\n",
       "      <td>33.455613</td>\n",
       "      <td>-112.395596</td>\n",
       "      <td>5.0</td>\n",
       "      <td>[Insurance]</td>\n",
       "    </tr>\n",
       "    <tr>\n",
       "      <th>4</th>\n",
       "      <td>HhyxOkGAM07SRYtlQ4wMFQ</td>\n",
       "      <td>Queen City Plumbing</td>\n",
       "      <td>Charlotte</td>\n",
       "      <td>35.190012</td>\n",
       "      <td>-80.887223</td>\n",
       "      <td>4.0</td>\n",
       "      <td>[Plumbing, Kitchen &amp; Bath, Home &amp; Garden, Wate...</td>\n",
       "    </tr>\n",
       "  </tbody>\n",
       "</table>\n",
       "</div>"
      ],
      "text/plain": [
       "              business_id                             name         city  \\\n",
       "0  1SWheh84yJXfytovILXOAQ       Arizona Biltmore Golf Club      Phoenix   \n",
       "1  QXAEGFB4oINsVuTFxEYKFQ       Emerald Chinese Restaurant  Mississauga   \n",
       "2  gnKjwL_1w79qoiV3IC_xQQ      Musashi Japanese Restaurant    Charlotte   \n",
       "3  xvX2CttrVhyG2z1dFg_0xw  Farmers Insurance - Paul Lorenz     Goodyear   \n",
       "4  HhyxOkGAM07SRYtlQ4wMFQ              Queen City Plumbing    Charlotte   \n",
       "\n",
       "    latitude   longitude  stars  \\\n",
       "0  33.522143 -112.018481    3.0   \n",
       "1  43.605499  -79.652289    2.5   \n",
       "2  35.092564  -80.859132    4.0   \n",
       "3  33.455613 -112.395596    5.0   \n",
       "4  35.190012  -80.887223    4.0   \n",
       "\n",
       "                                          categories  \n",
       "0                                             [Golf]  \n",
       "1  [Specialty Food, Dim Sum, Imported Food, Chine...  \n",
       "2                             [Sushi Bars, Japanese]  \n",
       "3                                        [Insurance]  \n",
       "4  [Plumbing, Kitchen & Bath, Home & Garden, Wate...  "
      ]
     },
     "execution_count": 55,
     "metadata": {},
     "output_type": "execute_result"
    }
   ],
   "source": [
    "df_business"
   ]
  }
 ],
 "metadata": {
  "kernelspec": {
   "display_name": "Python 3",
   "language": "python",
   "name": "python3"
  },
  "language_info": {
   "codemirror_mode": {
    "name": "ipython",
    "version": 3
   },
   "file_extension": ".py",
   "mimetype": "text/x-python",
   "name": "python",
   "nbconvert_exporter": "python",
   "pygments_lexer": "ipython3",
   "version": "3.7.4"
  }
 },
 "nbformat": 4,
 "nbformat_minor": 4
}
