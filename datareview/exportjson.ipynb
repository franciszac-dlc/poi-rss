{
 "cells": [
  {
   "cell_type": "markdown",
   "metadata": {
    "ein.tags": "worksheet-0",
    "slideshow": {
     "slide_type": "-"
    }
   },
   "source": [
    "# Exportar os json com os dados mais importantes/relevantes\n",
    "- business: business_id; name; city; latitude; longitude; stars; categories\n",
    "- review: review_id; user_id; business_id; stars; date; # texto não será utilizado provavelmente, se for so mudar\n",
    "- user: nada\n",
    "- checkin: nada\n",
    "- tip: user_id; business_id; date # não será utilizado pois não tem stars\n",
    "\n",
    "categories não será transformado em feather pois o formato json é valido.\n",
    "\n",
    "em https://www.yelp.com/dataset/documentation/main a yelp diz que o categories é uma array de string, porém isso é falso, no json que eles dispõem o categories é uma string somente. 2019-08-11 02:16:40\n",
    "\n",
    "Existe business com categorias nulas."
   ]
  },
  {
   "cell_type": "code",
   "execution_count": 54,
   "metadata": {
    "autoscroll": false,
    "collapsed": false,
    "ein.hycell": false,
    "ein.tags": "worksheet-0",
    "slideshow": {
     "slide_type": "-"
    }
   },
   "outputs": [],
   "source": [
    "import sys\n",
    "sys.path.append('../')\n",
    "import json\n",
    "import pandas as pd\n",
    "import networkx as nx\n",
    "import algorithms.areamanager as areamanager\n",
    "import numpy as np\n",
    "import pyarrow\n",
    "cities_name=['madison']#,'lasvegas','phoenix','charllote']\n",
    "df_categories=pd.read_json(\"../data/categories.json\")\n",
    "\n",
    "# dicionário alias title 2 way\n",
    "dict_alias_title=dict()\n",
    "for index, row in df_categories.iterrows():\n",
    "    dict_alias_title[row['alias']]=row['title']\n",
    "    dict_alias_title[row['title']]=row['alias']\n",
    "\n",
    "\n",
    "category_tree= nx.DiGraph()\n",
    "for index, row in df_categories.iterrows():\n",
    "    if not row['parents']:\n",
    "        category_tree.add_edge(row['alias'],'root') # root node if no parents\n",
    "    else:\n",
    "        for parent_label in row['parents']:\n",
    "            category_tree.add_edge(row['alias'],parent_label)\n",
    "\n",
    "undirected_category_tree=category_tree.to_undirected()\n",
    "# dict alias depth\n",
    "dict_alias_depth=dict()\n",
    "for index, row in df_categories.iterrows():\n",
    "    dict_alias_depth[row['alias']]=nx.shortest_path_length(category_tree,row['alias'],'root')\n",
    "df_categories=None\n",
    "\n",
    "\n",
    "def string_to_array(string):\n",
    "    if string == '':\n",
    "        return list()\n",
    "    return eval(string)\n",
    "def category_filter(categories):\n",
    "    tmp_cat_list=list()\n",
    "    for category in categories:\n",
    "        try:\n",
    "            if dict_alias_depth[dict_alias_title[category]] <= 2:\n",
    "                tmp_cat_list.append(category)\n",
    "        except:\n",
    "            pass\n",
    "    tmp_cat_list=geocat.get_most_detailed_categories(tmp_cat_list)\n",
    "#             print(\"Error: Category \\\"\"+category+\"\\\" without alias name.\")\n",
    "    return tmp_cat_list"
   ]
  },
  {
   "cell_type": "code",
   "execution_count": 2,
   "metadata": {
    "autoscroll": false,
    "collapsed": false,
    "ein.hycell": false,
    "ein.tags": "worksheet-0",
    "slideshow": {
     "slide_type": "-"
    }
   },
   "outputs": [
    {
     "data": {
      "text/html": [
       "<div>\n",
       "<style scoped>\n",
       "    .dataframe tbody tr th:only-of-type {\n",
       "        vertical-align: middle;\n",
       "    }\n",
       "\n",
       "    .dataframe tbody tr th {\n",
       "        vertical-align: top;\n",
       "    }\n",
       "\n",
       "    .dataframe thead th {\n",
       "        text-align: right;\n",
       "    }\n",
       "</style>\n",
       "<table border=\"1\" class=\"dataframe\">\n",
       "  <thead>\n",
       "    <tr style=\"text-align: right;\">\n",
       "      <th></th>\n",
       "      <th>business_id</th>\n",
       "      <th>name</th>\n",
       "      <th>city</th>\n",
       "      <th>latitude</th>\n",
       "      <th>longitude</th>\n",
       "      <th>stars</th>\n",
       "      <th>categories</th>\n",
       "    </tr>\n",
       "  </thead>\n",
       "  <tbody>\n",
       "    <tr>\n",
       "      <th>0</th>\n",
       "      <td>1SWheh84yJXfytovILXOAQ</td>\n",
       "      <td>Arizona Biltmore Golf Club</td>\n",
       "      <td>Phoenix</td>\n",
       "      <td>33.522143</td>\n",
       "      <td>-112.018481</td>\n",
       "      <td>3.0</td>\n",
       "      <td>[Golf, Active Life]</td>\n",
       "    </tr>\n",
       "    <tr>\n",
       "      <th>1</th>\n",
       "      <td>QXAEGFB4oINsVuTFxEYKFQ</td>\n",
       "      <td>Emerald Chinese Restaurant</td>\n",
       "      <td>Mississauga</td>\n",
       "      <td>43.605499</td>\n",
       "      <td>-79.652289</td>\n",
       "      <td>2.5</td>\n",
       "      <td>[Specialty Food, Restaurants, Dim Sum, Importe...</td>\n",
       "    </tr>\n",
       "    <tr>\n",
       "      <th>2</th>\n",
       "      <td>gnKjwL_1w79qoiV3IC_xQQ</td>\n",
       "      <td>Musashi Japanese Restaurant</td>\n",
       "      <td>Charlotte</td>\n",
       "      <td>35.092564</td>\n",
       "      <td>-80.859132</td>\n",
       "      <td>4.0</td>\n",
       "      <td>[Sushi Bars, Restaurants, Japanese]</td>\n",
       "    </tr>\n",
       "    <tr>\n",
       "      <th>3</th>\n",
       "      <td>xvX2CttrVhyG2z1dFg_0xw</td>\n",
       "      <td>Farmers Insurance - Paul Lorenz</td>\n",
       "      <td>Goodyear</td>\n",
       "      <td>33.455613</td>\n",
       "      <td>-112.395596</td>\n",
       "      <td>5.0</td>\n",
       "      <td>[Insurance, Financial Services]</td>\n",
       "    </tr>\n",
       "    <tr>\n",
       "      <th>4</th>\n",
       "      <td>HhyxOkGAM07SRYtlQ4wMFQ</td>\n",
       "      <td>Queen City Plumbing</td>\n",
       "      <td>Charlotte</td>\n",
       "      <td>35.190012</td>\n",
       "      <td>-80.887223</td>\n",
       "      <td>4.0</td>\n",
       "      <td>[Plumbing, Shopping, Local Services, Home Serv...</td>\n",
       "    </tr>\n",
       "  </tbody>\n",
       "</table>\n",
       "</div>"
      ],
      "text/plain": [
       "              business_id                             name         city  \\\n",
       "0  1SWheh84yJXfytovILXOAQ       Arizona Biltmore Golf Club      Phoenix   \n",
       "1  QXAEGFB4oINsVuTFxEYKFQ       Emerald Chinese Restaurant  Mississauga   \n",
       "2  gnKjwL_1w79qoiV3IC_xQQ      Musashi Japanese Restaurant    Charlotte   \n",
       "3  xvX2CttrVhyG2z1dFg_0xw  Farmers Insurance - Paul Lorenz     Goodyear   \n",
       "4  HhyxOkGAM07SRYtlQ4wMFQ              Queen City Plumbing    Charlotte   \n",
       "\n",
       "    latitude   longitude  stars  \\\n",
       "0  33.522143 -112.018481    3.0   \n",
       "1  43.605499  -79.652289    2.5   \n",
       "2  35.092564  -80.859132    4.0   \n",
       "3  33.455613 -112.395596    5.0   \n",
       "4  35.190012  -80.887223    4.0   \n",
       "\n",
       "                                          categories  \n",
       "0                                [Golf, Active Life]  \n",
       "1  [Specialty Food, Restaurants, Dim Sum, Importe...  \n",
       "2                [Sushi Bars, Restaurants, Japanese]  \n",
       "3                    [Insurance, Financial Services]  \n",
       "4  [Plumbing, Shopping, Local Services, Home Serv...  "
      ]
     },
     "execution_count": 2,
     "metadata": {},
     "output_type": "execute_result"
    }
   ],
   "source": [
    "fbusiness=open(\"../data/business.json\")\n",
    "all_data = list()\n",
    "for i, line in enumerate(fbusiness):  \n",
    "    # json to dict\n",
    "    business_json = json.loads(line)\n",
    "    # add to the data collection\n",
    "    if business_json['categories'] != None:\n",
    "        all_data.append([business_json['business_id'],\n",
    "                         business_json['name'],\n",
    "                         business_json['city'],\n",
    "                         business_json['latitude'],\n",
    "                         business_json['longitude'],\n",
    "                         business_json['stars'],\n",
    "                         business_json['categories'].split(', ')])\n",
    "    else:\n",
    "        all_data.append([business_json['business_id'],\n",
    "                 business_json['name'],\n",
    "                 business_json['city'],\n",
    "                 business_json['latitude'],\n",
    "                 business_json['longitude'],\n",
    "                 business_json['stars'],\n",
    "                 business_json['categories']])\n",
    "# create the DataFrame\n",
    "df = pd.DataFrame(all_data, columns=['business_id', 'name', 'city','latitude', 'longitude', 'stars', 'categories'])\n",
    "\n",
    "df.head()"
   ]
  },
  {
   "cell_type": "code",
   "execution_count": 3,
   "metadata": {
    "autoscroll": false,
    "collapsed": false,
    "ein.hycell": false,
    "ein.tags": "worksheet-0",
    "slideshow": {
     "slide_type": "-"
    }
   },
   "outputs": [],
   "source": [
    "df.to_csv('../data/business.csv',index=False)\n",
    "#df.to_pickle('../data/business.pickle')\n",
    "#df.to_feather('../data/business.feather')\n",
    "#df.to_parquet('../data/business.parquet')\n",
    "df=None"
   ]
  },
  {
   "cell_type": "code",
   "execution_count": 4,
   "metadata": {
    "autoscroll": false,
    "collapsed": false,
    "ein.hycell": false,
    "ein.tags": "worksheet-0",
    "slideshow": {
     "slide_type": "-"
    }
   },
   "outputs": [],
   "source": [
    "freview=open(\"../data/review.json\")\n",
    "all_data = list()\n",
    "df = pd.DataFrame(columns=['review_id', 'user_id', 'business_id', 'date'])\n",
    "df.to_csv('../data/review.csv',index=False)\n",
    "\n",
    "for i, line in enumerate(freview):  \n",
    "    # json to dict\n",
    "    business_json = json.loads(line)\n",
    "    # add to the data collection\n",
    "    all_data.append([business_json['review_id'],\n",
    "                     business_json['user_id'],\n",
    "                     business_json['business_id'],\n",
    "                     business_json['date']])\n",
    "    if i % 1000000==0:\n",
    "        df = pd.DataFrame(all_data, columns=['review_id', 'user_id', 'business_id', 'date'])\n",
    "        df.to_csv('../data/review.csv',header=False,index=False,mode='a')\n",
    "        df=None\n",
    "        all_data = list()\n",
    "# create the DataFrame\n",
    "\n",
    "df = pd.DataFrame(all_data, columns=['review_id', 'user_id', 'business_id', 'date'])\n",
    "df.to_csv('../data/review.csv',header=False,index=False,mode='a')\n",
    "df=None\n",
    "all_data = list()\n"
   ]
  },
  {
   "cell_type": "code",
   "execution_count": 5,
   "metadata": {
    "autoscroll": false,
    "collapsed": false,
    "ein.hycell": false,
    "ein.tags": "worksheet-0",
    "slideshow": {
     "slide_type": "-"
    }
   },
   "outputs": [],
   "source": [
    "\n",
    "#df.to_csv('../data/review.csv')\n",
    "#df.to_pickle('../data/review.pickle')\n",
    "#df.to_feather('../data/review.feather')\n",
    "#df.to_parquet('../data/review.parquet')"
   ]
  },
  {
   "cell_type": "code",
   "execution_count": 6,
   "metadata": {
    "autoscroll": false,
    "collapsed": false,
    "ein.hycell": false,
    "ein.tags": "worksheet-0",
    "slideshow": {
     "slide_type": "-"
    }
   },
   "outputs": [],
   "source": [
    "ftip=open(\"../data/tip.json\")\n",
    "all_data = list()\n",
    "df = pd.DataFrame(columns=['user_id', 'business_id', 'date'])\n",
    "df.to_csv('../data/tip.csv',index=False)\n",
    "\n",
    "\n",
    "for i, line in enumerate(ftip):  \n",
    "    # json to dict\n",
    "    tip_json = json.loads(line)\n",
    "    # add to the data collection\n",
    "    all_data.append([tip_json['user_id'],\n",
    "                     tip_json['business_id'],\n",
    "                     tip_json['date']])\n",
    "    if i % 100000==0:\n",
    "        df = pd.DataFrame(all_data, columns=['user_id', 'business_id','date'])\n",
    "        df.to_csv(\"../data/tip.csv\",header=False,index=False,mode='a')\n",
    "        df=None\n",
    "        all_data = list()\n",
    "# create the DataFrame\n",
    "\n",
    "df = pd.DataFrame(all_data, columns=['user_id', 'business_id', 'date'])\n",
    "df.to_csv(\"../data/tip.csv\",header=False,index=False, mode='a')\n",
    "df=None\n",
    "all_data = list()\n"
   ]
  },
  {
   "cell_type": "markdown",
   "metadata": {
    "ein.tags": "worksheet-0",
    "slideshow": {
     "slide_type": "-"
    }
   },
   "source": [
    "# Export checkin and poi"
   ]
  },
  {
   "cell_type": "code",
   "execution_count": 47,
   "metadata": {
    "autoscroll": false,
    "collapsed": false,
    "ein.hycell": false,
    "ein.tags": "worksheet-0",
    "slideshow": {
     "slide_type": "-"
    }
   },
   "outputs": [
    {
     "data": {
      "text/html": [
       "<div>\n",
       "<style scoped>\n",
       "    .dataframe tbody tr th:only-of-type {\n",
       "        vertical-align: middle;\n",
       "    }\n",
       "\n",
       "    .dataframe tbody tr th {\n",
       "        vertical-align: top;\n",
       "    }\n",
       "\n",
       "    .dataframe thead th {\n",
       "        text-align: right;\n",
       "    }\n",
       "</style>\n",
       "<table border=\"1\" class=\"dataframe\">\n",
       "  <thead>\n",
       "    <tr style=\"text-align: right;\">\n",
       "      <th></th>\n",
       "      <th>business_id</th>\n",
       "      <th>latitude</th>\n",
       "      <th>longitude</th>\n",
       "      <th>categories</th>\n",
       "    </tr>\n",
       "  </thead>\n",
       "  <tbody>\n",
       "    <tr>\n",
       "      <th>0</th>\n",
       "      <td>1SWheh84yJXfytovILXOAQ</td>\n",
       "      <td>33.522143</td>\n",
       "      <td>-112.018481</td>\n",
       "      <td>[Golf, Active Life]</td>\n",
       "    </tr>\n",
       "    <tr>\n",
       "      <th>1</th>\n",
       "      <td>QXAEGFB4oINsVuTFxEYKFQ</td>\n",
       "      <td>43.605499</td>\n",
       "      <td>-79.652289</td>\n",
       "      <td>[Specialty Food, Restaurants, Imported Food, F...</td>\n",
       "    </tr>\n",
       "    <tr>\n",
       "      <th>2</th>\n",
       "      <td>gnKjwL_1w79qoiV3IC_xQQ</td>\n",
       "      <td>35.092564</td>\n",
       "      <td>-80.859132</td>\n",
       "      <td>[Sushi Bars, Restaurants, Japanese]</td>\n",
       "    </tr>\n",
       "    <tr>\n",
       "      <th>3</th>\n",
       "      <td>xvX2CttrVhyG2z1dFg_0xw</td>\n",
       "      <td>33.455613</td>\n",
       "      <td>-112.395596</td>\n",
       "      <td>[Insurance, Financial Services]</td>\n",
       "    </tr>\n",
       "    <tr>\n",
       "      <th>4</th>\n",
       "      <td>HhyxOkGAM07SRYtlQ4wMFQ</td>\n",
       "      <td>35.190012</td>\n",
       "      <td>-80.887223</td>\n",
       "      <td>[Plumbing, Shopping, Local Services, Home Serv...</td>\n",
       "    </tr>\n",
       "  </tbody>\n",
       "</table>\n",
       "</div>"
      ],
      "text/plain": [
       "              business_id   latitude   longitude  \\\n",
       "0  1SWheh84yJXfytovILXOAQ  33.522143 -112.018481   \n",
       "1  QXAEGFB4oINsVuTFxEYKFQ  43.605499  -79.652289   \n",
       "2  gnKjwL_1w79qoiV3IC_xQQ  35.092564  -80.859132   \n",
       "3  xvX2CttrVhyG2z1dFg_0xw  33.455613 -112.395596   \n",
       "4  HhyxOkGAM07SRYtlQ4wMFQ  35.190012  -80.887223   \n",
       "\n",
       "                                          categories  \n",
       "0                                [Golf, Active Life]  \n",
       "1  [Specialty Food, Restaurants, Imported Food, F...  \n",
       "2                [Sushi Bars, Restaurants, Japanese]  \n",
       "3                    [Insurance, Financial Services]  \n",
       "4  [Plumbing, Shopping, Local Services, Home Serv...  "
      ]
     },
     "execution_count": 47,
     "metadata": {},
     "output_type": "execute_result"
    }
   ],
   "source": [
    "df_business=pd.read_csv(\"../data/business.csv\",usecols=['business_id','latitude','longitude','categories'],converters={'categories':string_to_array})\n",
    "df_business['categories']=df_business.categories.apply(category_filter)\n",
    "df_business.head()"
   ]
  },
  {
   "cell_type": "code",
   "execution_count": 48,
   "metadata": {
    "autoscroll": false,
    "collapsed": false,
    "ein.hycell": false,
    "ein.tags": "worksheet-0",
    "slideshow": {
     "slide_type": "-"
    }
   },
   "outputs": [],
   "source": [
    "df_business.to_csv(\"../data/poi.csv\",index=False)"
   ]
  },
  {
   "cell_type": "code",
   "execution_count": 49,
   "metadata": {
    "autoscroll": false,
    "collapsed": false,
    "ein.hycell": false,
    "ein.tags": "worksheet-0",
    "slideshow": {
     "slide_type": "-"
    }
   },
   "outputs": [
    {
     "data": {
      "text/html": [
       "<div>\n",
       "<style scoped>\n",
       "    .dataframe tbody tr th:only-of-type {\n",
       "        vertical-align: middle;\n",
       "    }\n",
       "\n",
       "    .dataframe tbody tr th {\n",
       "        vertical-align: top;\n",
       "    }\n",
       "\n",
       "    .dataframe thead th {\n",
       "        text-align: right;\n",
       "    }\n",
       "</style>\n",
       "<table border=\"1\" class=\"dataframe\">\n",
       "  <thead>\n",
       "    <tr style=\"text-align: right;\">\n",
       "      <th></th>\n",
       "      <th>user_id</th>\n",
       "      <th>business_id</th>\n",
       "      <th>date</th>\n",
       "      <th>latitude</th>\n",
       "      <th>longitude</th>\n",
       "      <th>categories</th>\n",
       "    </tr>\n",
       "  </thead>\n",
       "  <tbody>\n",
       "    <tr>\n",
       "      <th>0</th>\n",
       "      <td>hG7b0MtEbXx5QzbzE6C_VA</td>\n",
       "      <td>ujmEBvifdJM6h6RLv4wQIg</td>\n",
       "      <td>2013-05-07 04:34:36</td>\n",
       "      <td>36.215546</td>\n",
       "      <td>-115.248798</td>\n",
       "      <td>[Fitness &amp; Instruction, Doctors, Health &amp; Medi...</td>\n",
       "    </tr>\n",
       "    <tr>\n",
       "      <th>1</th>\n",
       "      <td>RBXSJA372ilErzNwz0jXvQ</td>\n",
       "      <td>ujmEBvifdJM6h6RLv4wQIg</td>\n",
       "      <td>2017-02-09 06:45:18</td>\n",
       "      <td>36.215546</td>\n",
       "      <td>-115.248798</td>\n",
       "      <td>[Fitness &amp; Instruction, Doctors, Health &amp; Medi...</td>\n",
       "    </tr>\n",
       "    <tr>\n",
       "      <th>2</th>\n",
       "      <td>x3brMMbJrAW9PwW5A6YL5w</td>\n",
       "      <td>ujmEBvifdJM6h6RLv4wQIg</td>\n",
       "      <td>2018-08-14 05:25:33</td>\n",
       "      <td>36.215546</td>\n",
       "      <td>-115.248798</td>\n",
       "      <td>[Fitness &amp; Instruction, Doctors, Health &amp; Medi...</td>\n",
       "    </tr>\n",
       "    <tr>\n",
       "      <th>3</th>\n",
       "      <td>Skzdl0sWhW88525a1vr59g</td>\n",
       "      <td>ujmEBvifdJM6h6RLv4wQIg</td>\n",
       "      <td>2018-05-08 19:27:59</td>\n",
       "      <td>36.215546</td>\n",
       "      <td>-115.248798</td>\n",
       "      <td>[Fitness &amp; Instruction, Doctors, Health &amp; Medi...</td>\n",
       "    </tr>\n",
       "    <tr>\n",
       "      <th>4</th>\n",
       "      <td>3Y25VDfnQVcuc33T-U3Z6A</td>\n",
       "      <td>ujmEBvifdJM6h6RLv4wQIg</td>\n",
       "      <td>2014-10-11 06:57:18</td>\n",
       "      <td>36.215546</td>\n",
       "      <td>-115.248798</td>\n",
       "      <td>[Fitness &amp; Instruction, Doctors, Health &amp; Medi...</td>\n",
       "    </tr>\n",
       "  </tbody>\n",
       "</table>\n",
       "</div>"
      ],
      "text/plain": [
       "                  user_id             business_id                date  \\\n",
       "0  hG7b0MtEbXx5QzbzE6C_VA  ujmEBvifdJM6h6RLv4wQIg 2013-05-07 04:34:36   \n",
       "1  RBXSJA372ilErzNwz0jXvQ  ujmEBvifdJM6h6RLv4wQIg 2017-02-09 06:45:18   \n",
       "2  x3brMMbJrAW9PwW5A6YL5w  ujmEBvifdJM6h6RLv4wQIg 2018-08-14 05:25:33   \n",
       "3  Skzdl0sWhW88525a1vr59g  ujmEBvifdJM6h6RLv4wQIg 2018-05-08 19:27:59   \n",
       "4  3Y25VDfnQVcuc33T-U3Z6A  ujmEBvifdJM6h6RLv4wQIg 2014-10-11 06:57:18   \n",
       "\n",
       "    latitude   longitude                                         categories  \n",
       "0  36.215546 -115.248798  [Fitness & Instruction, Doctors, Health & Medi...  \n",
       "1  36.215546 -115.248798  [Fitness & Instruction, Doctors, Health & Medi...  \n",
       "2  36.215546 -115.248798  [Fitness & Instruction, Doctors, Health & Medi...  \n",
       "3  36.215546 -115.248798  [Fitness & Instruction, Doctors, Health & Medi...  \n",
       "4  36.215546 -115.248798  [Fitness & Instruction, Doctors, Health & Medi...  "
      ]
     },
     "execution_count": 49,
     "metadata": {},
     "output_type": "execute_result"
    }
   ],
   "source": [
    "# read review and merge with business\n",
    "df_review=pd.read_csv(\"../data/review.csv\",usecols=['business_id','user_id','date'])\n",
    "df_tip=pd.read_csv(\"../data/tip.csv\",usecols=['business_id','user_id','date'])\n",
    "df_checkin=pd.concat([df_review, df_tip], ignore_index=True)\n",
    "df_review=None\n",
    "df_tip=None\n",
    "df_checkin=pd.merge(df_checkin,df_business,on='business_id')\n",
    "df_checkin['date']=pd.to_datetime(df_checkin['date'])\n",
    "df_checkin.head()"
   ]
  },
  {
   "cell_type": "code",
   "execution_count": 50,
   "metadata": {
    "autoscroll": false,
    "collapsed": false,
    "ein.hycell": false,
    "ein.tags": "worksheet-0",
    "slideshow": {
     "slide_type": "-"
    }
   },
   "outputs": [],
   "source": [
    "df_checkin.to_csv(\"../data/checkin.csv\",index=False)"
   ]
  },
  {
   "cell_type": "markdown",
   "metadata": {
    "ein.tags": "worksheet-0",
    "slideshow": {
     "slide_type": "-"
    }
   },
   "source": [
    "# Export cities dataset"
   ]
  },
  {
   "cell_type": "code",
   "execution_count": 4,
   "metadata": {
    "autoscroll": false,
    "collapsed": false,
    "ein.hycell": false,
    "ein.tags": "worksheet-0",
    "slideshow": {
     "slide_type": "-"
    }
   },
   "outputs": [],
   "source": [
    "def export_city(area_case):\n",
    "\n",
    "    city_area=areamanager.delimiter_area(area_case)\n",
    "    # read business and do some filterings\n",
    "    df_business=pd.read_csv(\"../data/business.csv\",usecols=['business_id','latitude','longitude','categories'],converters={'categories':string_to_array})\n",
    "    df_business=areamanager.pois_in_area(city_area,df_business)\n",
    "    df_business['categories']=df_business.categories.apply(category_filter)\n",
    "    # read review and merge with business\n",
    "    df_review=pd.read_csv(\"../data/review.csv\",usecols=['business_id','user_id','date'])\n",
    "    df_tip=pd.read_csv(\"../data/tip.csv\",usecols=['business_id','user_id','date'])\n",
    "    df_checkin=pd.concat([df_review, df_tip], ignore_index=True)\n",
    "    df_review=None\n",
    "    df_tip=None\n",
    "    df_checkin=pd.merge(df_checkin,df_business,on='business_id')\n",
    "    df_checkin['date']=pd.to_datetime(df_checkin['date'])\n",
    "    df_checkin.head()\n",
    "\n",
    "\n",
    "    df_diff_users_visited=df_checkin[['user_id','business_id']].drop_duplicates().reset_index(drop=True).\\\n",
    "    groupby('business_id').count().reset_index().rename(columns={\"user_id\":\"diffusersvisited\"})\n",
    "\n",
    "    df_diff_users_visited=df_diff_users_visited[df_diff_users_visited['diffusersvisited']>=5]\n",
    "    del df_diff_users_visited['diffusersvisited']\n",
    "    df_checkin=pd.merge(df_checkin,df_diff_users_visited,on='business_id',how='inner')\n",
    "    df_checkin.count()\n",
    "\n",
    "\n",
    "    df_checkin['Count']=df_checkin.groupby(['user_id'])['user_id'].transform('count')\n",
    "    df_checkin=df_checkin[df_checkin['Count']>=20]\n",
    "    del df_checkin['Count']\n",
    "    df_checkin.count()\n",
    "\n",
    "    areamanager.poi_set_subarea(city_area,df_checkin,0.5)\n",
    "\n",
    "    return df_checkin\n"
   ]
  },
  {
   "cell_type": "code",
   "execution_count": 5,
   "metadata": {
    "autoscroll": false,
    "collapsed": false,
    "ein.hycell": false,
    "ein.tags": "worksheet-0",
    "slideshow": {
     "slide_type": "-"
    }
   },
   "outputs": [
    {
     "name": "stdout",
     "output_type": "stream",
     "text": [
      "Area selected: Las Vegas\n"
     ]
    }
   ],
   "source": [
    "export_city(\"lasvegas\").to_csv(\"../data/checkin/lasvegas.csv\",index=False)"
   ]
  },
  {
   "cell_type": "code",
   "execution_count": 6,
   "metadata": {
    "autoscroll": false,
    "collapsed": false,
    "ein.hycell": false,
    "ein.tags": "worksheet-0",
    "slideshow": {
     "slide_type": "-"
    }
   },
   "outputs": [
    {
     "name": "stdout",
     "output_type": "stream",
     "text": [
      "Area selected: Phoenix\n"
     ]
    }
   ],
   "source": [
    "export_city(\"phoenix\").to_csv(\"../data/checkin/phoenix.csv\",index=False)"
   ]
  },
  {
   "cell_type": "code",
   "execution_count": 7,
   "metadata": {
    "autoscroll": false,
    "collapsed": false,
    "ein.hycell": false,
    "ein.tags": "worksheet-0",
    "slideshow": {
     "slide_type": "-"
    }
   },
   "outputs": [
    {
     "name": "stdout",
     "output_type": "stream",
     "text": [
      "Area selected: Charlotte\n"
     ]
    }
   ],
   "source": [
    "export_city(\"charlotte\").to_csv(\"../data/checkin/charlotte.csv\",index=False)"
   ]
  },
  {
   "cell_type": "code",
   "execution_count": 8,
   "metadata": {
    "autoscroll": false,
    "collapsed": false,
    "ein.hycell": false,
    "ein.tags": "worksheet-0",
    "slideshow": {
     "slide_type": "-"
    }
   },
   "outputs": [
    {
     "name": "stdout",
     "output_type": "stream",
     "text": [
      "Area selected: Madison\n"
     ]
    }
   ],
   "source": [
    "export_city(\"madison\").to_csv(\"../data/checkin/madison.csv\",index=False)"
   ]
  },
  {
   "cell_type": "code",
   "execution_count": 9,
   "metadata": {
    "autoscroll": false,
    "collapsed": false,
    "ein.hycell": false,
    "ein.tags": "worksheet-0",
    "slideshow": {
     "slide_type": "-"
    }
   },
   "outputs": [],
   "source": [
    "def city_pois(area_case):\n",
    "    \n",
    "    city_area=areamanager.delimiter_area(area_case)\n",
    "\n",
    "    # read business and do some filterings\n",
    "    df_business=pd.read_csv(\"../data/business.csv\",usecols=['business_id','latitude','longitude','categories'],converters={'categories':string_to_array})\n",
    "    df_business=areamanager.pois_in_area(city_area,df_business)\n",
    "    df_business['categories']=df_business.categories.apply(category_filter)\n",
    "    areamanager.poi_set_subarea(city_area,df_business,0.5)\n",
    "    return df_business"
   ]
  },
  {
   "cell_type": "code",
   "execution_count": 10,
   "metadata": {
    "autoscroll": false,
    "collapsed": false,
    "ein.hycell": false,
    "ein.tags": "worksheet-0",
    "slideshow": {
     "slide_type": "-"
    }
   },
   "outputs": [
    {
     "name": "stdout",
     "output_type": "stream",
     "text": [
      "Area selected: Las Vegas\n"
     ]
    }
   ],
   "source": [
    "city_pois(\"lasvegas\").to_csv(\"../data/poi/lasvegas.csv\",index=False)"
   ]
  },
  {
   "cell_type": "code",
   "execution_count": 11,
   "metadata": {
    "autoscroll": false,
    "collapsed": false,
    "ein.hycell": false,
    "ein.tags": "worksheet-0",
    "slideshow": {
     "slide_type": "-"
    }
   },
   "outputs": [
    {
     "name": "stdout",
     "output_type": "stream",
     "text": [
      "Area selected: Phoenix\n"
     ]
    }
   ],
   "source": [
    "city_pois(\"phoenix\").to_csv(\"../data/poi/phoenix.csv\",index=False)"
   ]
  },
  {
   "cell_type": "code",
   "execution_count": 12,
   "metadata": {
    "autoscroll": false,
    "collapsed": false,
    "ein.hycell": false,
    "ein.tags": "worksheet-0",
    "slideshow": {
     "slide_type": "-"
    }
   },
   "outputs": [
    {
     "name": "stdout",
     "output_type": "stream",
     "text": [
      "Area selected: Charlotte\n"
     ]
    }
   ],
   "source": [
    "city_pois(\"charlotte\").to_csv(\"../data/poi/charlotte.csv\",index=False)"
   ]
  },
  {
   "cell_type": "code",
   "execution_count": 13,
   "metadata": {
    "autoscroll": false,
    "collapsed": false,
    "ein.hycell": false,
    "ein.tags": "worksheet-0",
    "slideshow": {
     "slide_type": "-"
    }
   },
   "outputs": [
    {
     "name": "stdout",
     "output_type": "stream",
     "text": [
      "Area selected: Madison\n"
     ]
    }
   ],
   "source": [
    "city_pois(\"madison\").to_csv(\"../data/poi/madison.csv\",index=False)"
   ]
  },
  {
   "cell_type": "markdown",
   "metadata": {
    "ein.tags": "worksheet-0",
    "slideshow": {
     "slide_type": "-"
    }
   },
   "source": [
    "Users json to csv with only user_id and friends"
   ]
  },
  {
   "cell_type": "code",
   "execution_count": 14,
   "metadata": {
    "autoscroll": false,
    "collapsed": false,
    "ein.hycell": false,
    "ein.tags": "worksheet-0",
    "slideshow": {
     "slide_type": "-"
    }
   },
   "outputs": [],
   "source": [
    "fuser=open(\"../data/user.json\")\n",
    "all_data = list()\n",
    "df = pd.DataFrame(columns=['user_id', 'friends'])\n",
    "df.to_csv('../data/user.csv',index=False)\n",
    "\n",
    "for i, line in enumerate(fuser):  \n",
    "    # json to dict\n",
    "    obj_json = json.loads(line)\n",
    "    # add to the data collection\n",
    "    all_data.append([obj_json['user_id'],\n",
    "                     obj_json['friends'].split(', ')])\n",
    "    \n",
    "    if i % 100000==0:\n",
    "        df = pd.DataFrame(all_data, columns=['user_id', 'friends'])\n",
    "        df.to_csv('../data/user.csv',header=False,index=False,mode='a')\n",
    "        df=None\n",
    "        all_data = list()\n",
    "# create the DataFrame\n",
    "\n",
    "df = pd.DataFrame(all_data, columns=['user_id', 'friends'])\n",
    "df.to_csv('../data/user.csv',header=False,index=False,mode='a')\n",
    "df=None\n",
    "all_data = list()"
   ]
  },
  {
   "cell_type": "code",
   "execution_count": 14,
   "metadata": {
    "autoscroll": false,
    "collapsed": false,
    "ein.hycell": false,
    "ein.tags": "worksheet-0",
    "slideshow": {
     "slide_type": "-"
    }
   },
   "outputs": [],
   "source": [
    "def string_to_array(string):\n",
    "    if string == '':\n",
    "        return list()\n",
    "    return eval(string)\n",
    "df_user=pd.read_csv(\"../data/user.csv\",converters={'friends':string_to_array})"
   ]
  },
  {
   "cell_type": "markdown",
   "metadata": {
    "ein.tags": "worksheet-0",
    "slideshow": {
     "slide_type": "-"
    }
   },
   "source": [
    "Export cities users with their friends that are in the city"
   ]
  },
  {
   "cell_type": "code",
   "execution_count": 52,
   "metadata": {
    "autoscroll": false,
    "collapsed": false,
    "ein.hycell": false,
    "ein.tags": "worksheet-0",
    "slideshow": {
     "slide_type": "-"
    }
   },
   "outputs": [],
   "source": [
    "def friend_filter_city(friends,df_city_users):\n",
    "    return pd.merge(pd.DataFrame(friends,columns=['user_id']),df_city_users,on='user_id').loc[:,'user_id'].tolist()\n",
    "\n",
    "for city_name in cities_name:\n",
    "    df_city_users=pd.read_csv(\"../data/checkin/\"+city_name+\".csv\",usecols=['user_id']).drop_duplicates().reset_index(drop=True)\n",
    "    df_city_user=pd.merge(df_user,df_city_users,on='user_id')\n",
    "    df_city_user['friends']=df_city_user.friends.apply(lambda friends: friend_filter_city(friends,df_city_users))\n",
    "    df_city_user.to_csv(\"../data/user/\"+city_name+\".csv\",index=False)"
   ]
  },
  {
   "cell_type": "markdown",
   "metadata": {
    "ein.tags": "worksheet-0",
    "slideshow": {
     "slide_type": "-"
    }
   },
   "source": [
    "### Export cities with checkin from others cities"
   ]
  },
  {
   "cell_type": "code",
   "execution_count": 51,
   "metadata": {
    "autoscroll": false,
    "collapsed": false,
    "ein.hycell": false,
    "ein.tags": "worksheet-0",
    "slideshow": {
     "slide_type": "-"
    }
   },
   "outputs": [
    {
     "data": {
      "text/plain": [
       "user_id        7908994\n",
       "business_id    7908994\n",
       "date           7908994\n",
       "latitude       7908994\n",
       "longitude      7908994\n",
       "categories     7908994\n",
       "dtype: int64"
      ]
     },
     "execution_count": 51,
     "metadata": {},
     "output_type": "execute_result"
    }
   ],
   "source": [
    "df_checkin=pd.read_csv(\"../data/checkin.csv\")\n",
    "\n",
    "df_checkin.count()"
   ]
  },
  {
   "cell_type": "code",
   "execution_count": 52,
   "metadata": {
    "autoscroll": false,
    "collapsed": false,
    "ein.hycell": false,
    "ein.tags": "worksheet-0",
    "slideshow": {
     "slide_type": "-"
    }
   },
   "outputs": [],
   "source": [
    "# df_diff_users_visited=df_checkin[['user_id','business_id']].drop_duplicates().reset_index(drop=True).\\\n",
    "# groupby('business_id').count().reset_index().rename(columns={\"user_id\":\"diffusersvisited\"})\n",
    "\n",
    "# df_diff_users_visited=df_diff_users_visited[df_diff_users_visited['diffusersvisited']>=5]\n",
    "# del df_diff_users_visited['diffusersvisited']\n",
    "# df_checkin=pd.merge(df_checkin,df_diff_users_visited,on='business_id',how='inner')\n",
    "# #df_checkin_city.count()\n",
    "\n",
    "# df_checkin['Count']=df_checkin.groupby(['user_id'])['user_id'].transform('count')\n",
    "# df_checkin=df_checkin[df_checkin['Count']>=20]\n",
    "# del df_checkin['Count']"
   ]
  },
  {
   "cell_type": "code",
   "execution_count": 53,
   "metadata": {
    "autoscroll": false,
    "collapsed": false,
    "ein.hycell": false,
    "ein.tags": "worksheet-0",
    "slideshow": {
     "slide_type": "-"
    }
   },
   "outputs": [],
   "source": [
    "df_checkin=df_checkin.set_index(\"user_id\")"
   ]
  },
  {
   "cell_type": "code",
   "execution_count": 55,
   "metadata": {
    "autoscroll": false,
    "collapsed": false,
    "ein.hycell": false,
    "ein.tags": "worksheet-0",
    "slideshow": {
     "slide_type": "-"
    }
   },
   "outputs": [
    {
     "name": "stdout",
     "output_type": "stream",
     "text": [
      "Area selected: Madison\n"
     ]
    }
   ],
   "source": [
    "for city_name in cities_name:\n",
    "    ##users_id=pd.read_csv(\"../data/user/\"+city_name+\".csv\")['user_id']\n",
    "    ##df_checkin.loc[users_id].to_csv(\"../data/checkin/cities/\"+city_name+\".csv\")\n",
    "    #users_id=pd.read_csv(\"../data/user/\"+city_name+\".csv\")['user_id']\n",
    "    city_area=areamanager.delimiter_area(city_name)\n",
    "    df_checkin_city=areamanager.pois_in_area(city_area,df_checkin.reset_index())\n",
    "    df_diff_users_visited=df_checkin_city[['user_id','business_id']].drop_duplicates().reset_index(drop=True).\\\n",
    "    groupby('business_id').count().reset_index().rename(columns={\"user_id\":\"diffusersvisited\"})\n",
    "\n",
    "    df_diff_users_visited=df_diff_users_visited[df_diff_users_visited['diffusersvisited']>=5]\n",
    "    \n",
    "    del df_diff_users_visited['diffusersvisited']\n",
    "    df_checkin_city=pd.merge(df_checkin_city,df_diff_users_visited,on='business_id',how='inner')\n",
    "    df_checkin_city['Count']=df_checkin_city.groupby(['user_id'])['user_id'].transform('count')\n",
    "    df_checkin_city=df_checkin_city[df_checkin_city['Count']>=20]\n",
    "    del df_checkin_city['Count']\n",
    "    #df_checkin.loc[users_id].to_csv(\"../data/checkin/cities/\"+city_name+\".csv\")\n",
    "    df_checkin_city.to_csv(\"../data/checkin/cities/\"+city_name+\".csv\",index=False)"
   ]
  },
  {
   "cell_type": "code",
   "execution_count": 56,
   "metadata": {
    "autoscroll": false,
    "collapsed": false,
    "ein.hycell": false,
    "ein.tags": "worksheet-0",
    "slideshow": {
     "slide_type": "-"
    }
   },
   "outputs": [
    {
     "data": {
      "text/html": [
       "<div>\n",
       "<style scoped>\n",
       "    .dataframe tbody tr th:only-of-type {\n",
       "        vertical-align: middle;\n",
       "    }\n",
       "\n",
       "    .dataframe tbody tr th {\n",
       "        vertical-align: top;\n",
       "    }\n",
       "\n",
       "    .dataframe thead th {\n",
       "        text-align: right;\n",
       "    }\n",
       "</style>\n",
       "<table border=\"1\" class=\"dataframe\">\n",
       "  <thead>\n",
       "    <tr style=\"text-align: right;\">\n",
       "      <th></th>\n",
       "      <th>user_id</th>\n",
       "      <th>business_id</th>\n",
       "      <th>date</th>\n",
       "      <th>latitude</th>\n",
       "      <th>longitude</th>\n",
       "      <th>categories</th>\n",
       "    </tr>\n",
       "  </thead>\n",
       "  <tbody>\n",
       "    <tr>\n",
       "      <th>0</th>\n",
       "      <td>MB7Z80PJxNyQM7keDpR2XQ</td>\n",
       "      <td>br1uQbc3YU5jCpYi46nIgQ</td>\n",
       "      <td>2018-04-04 00:09:03</td>\n",
       "      <td>43.069425</td>\n",
       "      <td>-89.389567</td>\n",
       "      <td>['Food', 'Coffee &amp; Tea', 'Cafes', 'Restaurants']</td>\n",
       "    </tr>\n",
       "    <tr>\n",
       "      <th>1</th>\n",
       "      <td>4HwS2oCVQ1-f_kzHCv5X3A</td>\n",
       "      <td>br1uQbc3YU5jCpYi46nIgQ</td>\n",
       "      <td>2018-02-16 20:40:41</td>\n",
       "      <td>43.069425</td>\n",
       "      <td>-89.389567</td>\n",
       "      <td>['Food', 'Coffee &amp; Tea', 'Cafes', 'Restaurants']</td>\n",
       "    </tr>\n",
       "    <tr>\n",
       "      <th>2</th>\n",
       "      <td>OLBH2Ds1wllrzpHlyojzJQ</td>\n",
       "      <td>br1uQbc3YU5jCpYi46nIgQ</td>\n",
       "      <td>2018-04-12 11:31:03</td>\n",
       "      <td>43.069425</td>\n",
       "      <td>-89.389567</td>\n",
       "      <td>['Food', 'Coffee &amp; Tea', 'Cafes', 'Restaurants']</td>\n",
       "    </tr>\n",
       "    <tr>\n",
       "      <th>3</th>\n",
       "      <td>wd3xoNaDLib8dhQ7BxUl6g</td>\n",
       "      <td>br1uQbc3YU5jCpYi46nIgQ</td>\n",
       "      <td>2018-03-07 14:08:41</td>\n",
       "      <td>43.069425</td>\n",
       "      <td>-89.389567</td>\n",
       "      <td>['Food', 'Coffee &amp; Tea', 'Cafes', 'Restaurants']</td>\n",
       "    </tr>\n",
       "    <tr>\n",
       "      <th>4</th>\n",
       "      <td>4HwS2oCVQ1-f_kzHCv5X3A</td>\n",
       "      <td>br1uQbc3YU5jCpYi46nIgQ</td>\n",
       "      <td>2018-02-16 20:48:49</td>\n",
       "      <td>43.069425</td>\n",
       "      <td>-89.389567</td>\n",
       "      <td>['Food', 'Coffee &amp; Tea', 'Cafes', 'Restaurants']</td>\n",
       "    </tr>\n",
       "    <tr>\n",
       "      <th>5</th>\n",
       "      <td>qp-z1copnYQq7NPubYlNLw</td>\n",
       "      <td>uLnPW9K1yhNpgzvodCumbQ</td>\n",
       "      <td>2014-10-27 04:19:36</td>\n",
       "      <td>42.979252</td>\n",
       "      <td>-89.516184</td>\n",
       "      <td>['Breweries', 'Restaurants', 'Food', 'Bars', '...</td>\n",
       "    </tr>\n",
       "    <tr>\n",
       "      <th>6</th>\n",
       "      <td>e9bVxMuG-1NIJWqT_pDEmQ</td>\n",
       "      <td>uLnPW9K1yhNpgzvodCumbQ</td>\n",
       "      <td>2014-10-27 20:54:54</td>\n",
       "      <td>42.979252</td>\n",
       "      <td>-89.516184</td>\n",
       "      <td>['Breweries', 'Restaurants', 'Food', 'Bars', '...</td>\n",
       "    </tr>\n",
       "    <tr>\n",
       "      <th>7</th>\n",
       "      <td>SDsVaBzPJr8fdY4-m5bjdw</td>\n",
       "      <td>uLnPW9K1yhNpgzvodCumbQ</td>\n",
       "      <td>2013-07-14 19:51:15</td>\n",
       "      <td>42.979252</td>\n",
       "      <td>-89.516184</td>\n",
       "      <td>['Breweries', 'Restaurants', 'Food', 'Bars', '...</td>\n",
       "    </tr>\n",
       "    <tr>\n",
       "      <th>8</th>\n",
       "      <td>tBZ8UAQFooesK_kst774ug</td>\n",
       "      <td>uLnPW9K1yhNpgzvodCumbQ</td>\n",
       "      <td>2013-08-16 21:37:22</td>\n",
       "      <td>42.979252</td>\n",
       "      <td>-89.516184</td>\n",
       "      <td>['Breweries', 'Restaurants', 'Food', 'Bars', '...</td>\n",
       "    </tr>\n",
       "    <tr>\n",
       "      <th>9</th>\n",
       "      <td>tbycp0aRhRsiAVYUAVR_uQ</td>\n",
       "      <td>uLnPW9K1yhNpgzvodCumbQ</td>\n",
       "      <td>2014-10-28 19:50:38</td>\n",
       "      <td>42.979252</td>\n",
       "      <td>-89.516184</td>\n",
       "      <td>['Breweries', 'Restaurants', 'Food', 'Bars', '...</td>\n",
       "    </tr>\n",
       "    <tr>\n",
       "      <th>10</th>\n",
       "      <td>tbycp0aRhRsiAVYUAVR_uQ</td>\n",
       "      <td>uLnPW9K1yhNpgzvodCumbQ</td>\n",
       "      <td>2015-03-06 16:57:44</td>\n",
       "      <td>42.979252</td>\n",
       "      <td>-89.516184</td>\n",
       "      <td>['Breweries', 'Restaurants', 'Food', 'Bars', '...</td>\n",
       "    </tr>\n",
       "    <tr>\n",
       "      <th>11</th>\n",
       "      <td>bf4JWlkcOf_UTwhAumrIJg</td>\n",
       "      <td>uLnPW9K1yhNpgzvodCumbQ</td>\n",
       "      <td>2014-10-14 02:05:04</td>\n",
       "      <td>42.979252</td>\n",
       "      <td>-89.516184</td>\n",
       "      <td>['Breweries', 'Restaurants', 'Food', 'Bars', '...</td>\n",
       "    </tr>\n",
       "    <tr>\n",
       "      <th>12</th>\n",
       "      <td>w7FqbR6nPEpyeqy-mYhfcQ</td>\n",
       "      <td>uLnPW9K1yhNpgzvodCumbQ</td>\n",
       "      <td>2018-01-02 00:39:45</td>\n",
       "      <td>42.979252</td>\n",
       "      <td>-89.516184</td>\n",
       "      <td>['Breweries', 'Restaurants', 'Food', 'Bars', '...</td>\n",
       "    </tr>\n",
       "    <tr>\n",
       "      <th>13</th>\n",
       "      <td>5MKqkzDbludCpSqBlZU3Kg</td>\n",
       "      <td>uLnPW9K1yhNpgzvodCumbQ</td>\n",
       "      <td>2017-10-28 19:30:52</td>\n",
       "      <td>42.979252</td>\n",
       "      <td>-89.516184</td>\n",
       "      <td>['Breweries', 'Restaurants', 'Food', 'Bars', '...</td>\n",
       "    </tr>\n",
       "    <tr>\n",
       "      <th>14</th>\n",
       "      <td>ErI3UkM6SCoOVQK6ycDiIg</td>\n",
       "      <td>uLnPW9K1yhNpgzvodCumbQ</td>\n",
       "      <td>2015-02-21 20:20:14</td>\n",
       "      <td>42.979252</td>\n",
       "      <td>-89.516184</td>\n",
       "      <td>['Breweries', 'Restaurants', 'Food', 'Bars', '...</td>\n",
       "    </tr>\n",
       "    <tr>\n",
       "      <th>15</th>\n",
       "      <td>pWkjOMGcImS_Ta0LSZxydw</td>\n",
       "      <td>uLnPW9K1yhNpgzvodCumbQ</td>\n",
       "      <td>2017-05-19 22:02:48</td>\n",
       "      <td>42.979252</td>\n",
       "      <td>-89.516184</td>\n",
       "      <td>['Breweries', 'Restaurants', 'Food', 'Bars', '...</td>\n",
       "    </tr>\n",
       "    <tr>\n",
       "      <th>16</th>\n",
       "      <td>pUyhN_23nFMGLtNWRmdHoA</td>\n",
       "      <td>uLnPW9K1yhNpgzvodCumbQ</td>\n",
       "      <td>2016-04-03 14:56:01</td>\n",
       "      <td>42.979252</td>\n",
       "      <td>-89.516184</td>\n",
       "      <td>['Breweries', 'Restaurants', 'Food', 'Bars', '...</td>\n",
       "    </tr>\n",
       "    <tr>\n",
       "      <th>17</th>\n",
       "      <td>reN-Y7lIjv3VW21I4Z8WHQ</td>\n",
       "      <td>uLnPW9K1yhNpgzvodCumbQ</td>\n",
       "      <td>2012-07-08 15:06:41</td>\n",
       "      <td>42.979252</td>\n",
       "      <td>-89.516184</td>\n",
       "      <td>['Breweries', 'Restaurants', 'Food', 'Bars', '...</td>\n",
       "    </tr>\n",
       "    <tr>\n",
       "      <th>18</th>\n",
       "      <td>btwW4jGa1zFCBu5q5cCnEg</td>\n",
       "      <td>uLnPW9K1yhNpgzvodCumbQ</td>\n",
       "      <td>2015-06-14 00:53:53</td>\n",
       "      <td>42.979252</td>\n",
       "      <td>-89.516184</td>\n",
       "      <td>['Breweries', 'Restaurants', 'Food', 'Bars', '...</td>\n",
       "    </tr>\n",
       "    <tr>\n",
       "      <th>19</th>\n",
       "      <td>_SW65mmuHNhwXM7Q3mTh1g</td>\n",
       "      <td>uLnPW9K1yhNpgzvodCumbQ</td>\n",
       "      <td>2015-08-01 18:56:09</td>\n",
       "      <td>42.979252</td>\n",
       "      <td>-89.516184</td>\n",
       "      <td>['Breweries', 'Restaurants', 'Food', 'Bars', '...</td>\n",
       "    </tr>\n",
       "    <tr>\n",
       "      <th>20</th>\n",
       "      <td>9SWtEX1k9AjRg93BAzMCpg</td>\n",
       "      <td>uLnPW9K1yhNpgzvodCumbQ</td>\n",
       "      <td>2013-07-23 00:31:41</td>\n",
       "      <td>42.979252</td>\n",
       "      <td>-89.516184</td>\n",
       "      <td>['Breweries', 'Restaurants', 'Food', 'Bars', '...</td>\n",
       "    </tr>\n",
       "    <tr>\n",
       "      <th>21</th>\n",
       "      <td>lmM7OAC-ZRGJJu_ICXplfg</td>\n",
       "      <td>uLnPW9K1yhNpgzvodCumbQ</td>\n",
       "      <td>2015-08-03 01:38:48</td>\n",
       "      <td>42.979252</td>\n",
       "      <td>-89.516184</td>\n",
       "      <td>['Breweries', 'Restaurants', 'Food', 'Bars', '...</td>\n",
       "    </tr>\n",
       "    <tr>\n",
       "      <th>22</th>\n",
       "      <td>NB2JGf4DS4VGP6fKx5S_Fw</td>\n",
       "      <td>uLnPW9K1yhNpgzvodCumbQ</td>\n",
       "      <td>2013-12-13 20:25:08</td>\n",
       "      <td>42.979252</td>\n",
       "      <td>-89.516184</td>\n",
       "      <td>['Breweries', 'Restaurants', 'Food', 'Bars', '...</td>\n",
       "    </tr>\n",
       "    <tr>\n",
       "      <th>23</th>\n",
       "      <td>TqV1SNqvGKwbZ_2aez2Y6g</td>\n",
       "      <td>uLnPW9K1yhNpgzvodCumbQ</td>\n",
       "      <td>2013-04-25 00:46:43</td>\n",
       "      <td>42.979252</td>\n",
       "      <td>-89.516184</td>\n",
       "      <td>['Breweries', 'Restaurants', 'Food', 'Bars', '...</td>\n",
       "    </tr>\n",
       "    <tr>\n",
       "      <th>24</th>\n",
       "      <td>GrUCjpll6wTlcEhjuabHTA</td>\n",
       "      <td>uLnPW9K1yhNpgzvodCumbQ</td>\n",
       "      <td>2010-02-03 01:43:45</td>\n",
       "      <td>42.979252</td>\n",
       "      <td>-89.516184</td>\n",
       "      <td>['Breweries', 'Restaurants', 'Food', 'Bars', '...</td>\n",
       "    </tr>\n",
       "    <tr>\n",
       "      <th>25</th>\n",
       "      <td>fVoInJ-1ofo0c8d2EZzpFw</td>\n",
       "      <td>uLnPW9K1yhNpgzvodCumbQ</td>\n",
       "      <td>2016-12-27 01:48:37</td>\n",
       "      <td>42.979252</td>\n",
       "      <td>-89.516184</td>\n",
       "      <td>['Breweries', 'Restaurants', 'Food', 'Bars', '...</td>\n",
       "    </tr>\n",
       "    <tr>\n",
       "      <th>26</th>\n",
       "      <td>_906LXcXYGZdipHhKY3E5g</td>\n",
       "      <td>uLnPW9K1yhNpgzvodCumbQ</td>\n",
       "      <td>2015-01-25 23:25:33</td>\n",
       "      <td>42.979252</td>\n",
       "      <td>-89.516184</td>\n",
       "      <td>['Breweries', 'Restaurants', 'Food', 'Bars', '...</td>\n",
       "    </tr>\n",
       "    <tr>\n",
       "      <th>27</th>\n",
       "      <td>N_fPdyj_jwHOnMe1uKeHxQ</td>\n",
       "      <td>uLnPW9K1yhNpgzvodCumbQ</td>\n",
       "      <td>2014-06-23 01:00:04</td>\n",
       "      <td>42.979252</td>\n",
       "      <td>-89.516184</td>\n",
       "      <td>['Breweries', 'Restaurants', 'Food', 'Bars', '...</td>\n",
       "    </tr>\n",
       "    <tr>\n",
       "      <th>28</th>\n",
       "      <td>HI3-AURbeVDI8nQaXclHxw</td>\n",
       "      <td>uLnPW9K1yhNpgzvodCumbQ</td>\n",
       "      <td>2012-06-18 13:21:20</td>\n",
       "      <td>42.979252</td>\n",
       "      <td>-89.516184</td>\n",
       "      <td>['Breweries', 'Restaurants', 'Food', 'Bars', '...</td>\n",
       "    </tr>\n",
       "    <tr>\n",
       "      <th>29</th>\n",
       "      <td>8EipJXehR14DD9x9N7RSSw</td>\n",
       "      <td>uLnPW9K1yhNpgzvodCumbQ</td>\n",
       "      <td>2016-09-03 11:41:12</td>\n",
       "      <td>42.979252</td>\n",
       "      <td>-89.516184</td>\n",
       "      <td>['Breweries', 'Restaurants', 'Food', 'Bars', '...</td>\n",
       "    </tr>\n",
       "    <tr>\n",
       "      <th>...</th>\n",
       "      <td>...</td>\n",
       "      <td>...</td>\n",
       "      <td>...</td>\n",
       "      <td>...</td>\n",
       "      <td>...</td>\n",
       "      <td>...</td>\n",
       "    </tr>\n",
       "    <tr>\n",
       "      <th>52733</th>\n",
       "      <td>r-zUIQPaHzvIyL93wQaoiQ</td>\n",
       "      <td>alUQ8F8tom1kTsk4353I2A</td>\n",
       "      <td>2012-10-25 03:35:30</td>\n",
       "      <td>43.112943</td>\n",
       "      <td>-89.349625</td>\n",
       "      <td>['Specialty Food', 'Grocery', 'Food', 'Restaur...</td>\n",
       "    </tr>\n",
       "    <tr>\n",
       "      <th>52734</th>\n",
       "      <td>t8vDCPg-8z-d9ePghOTXWQ</td>\n",
       "      <td>alUQ8F8tom1kTsk4353I2A</td>\n",
       "      <td>2015-04-19 22:44:13</td>\n",
       "      <td>43.112943</td>\n",
       "      <td>-89.349625</td>\n",
       "      <td>['Specialty Food', 'Grocery', 'Food', 'Restaur...</td>\n",
       "    </tr>\n",
       "    <tr>\n",
       "      <th>52735</th>\n",
       "      <td>M1UrTf3PH-st3Q6u8VovTQ</td>\n",
       "      <td>alUQ8F8tom1kTsk4353I2A</td>\n",
       "      <td>2013-02-22 05:57:35</td>\n",
       "      <td>43.112943</td>\n",
       "      <td>-89.349625</td>\n",
       "      <td>['Specialty Food', 'Grocery', 'Food', 'Restaur...</td>\n",
       "    </tr>\n",
       "    <tr>\n",
       "      <th>52736</th>\n",
       "      <td>M1UrTf3PH-st3Q6u8VovTQ</td>\n",
       "      <td>alUQ8F8tom1kTsk4353I2A</td>\n",
       "      <td>2014-11-12 03:59:33</td>\n",
       "      <td>43.112943</td>\n",
       "      <td>-89.349625</td>\n",
       "      <td>['Specialty Food', 'Grocery', 'Food', 'Restaur...</td>\n",
       "    </tr>\n",
       "    <tr>\n",
       "      <th>52737</th>\n",
       "      <td>PPtxWUqQzEI3sp5cLOD0aw</td>\n",
       "      <td>7wZgquJ30qkVQbvbJo92ow</td>\n",
       "      <td>2018-10-23 13:30:57</td>\n",
       "      <td>43.073254</td>\n",
       "      <td>-89.526650</td>\n",
       "      <td>['Middle Eastern', 'Mediterranean', 'Restauran...</td>\n",
       "    </tr>\n",
       "    <tr>\n",
       "      <th>52738</th>\n",
       "      <td>HwfvrBP4ELHgFVx-1v_TQg</td>\n",
       "      <td>7wZgquJ30qkVQbvbJo92ow</td>\n",
       "      <td>2018-09-23 00:37:39</td>\n",
       "      <td>43.073254</td>\n",
       "      <td>-89.526650</td>\n",
       "      <td>['Middle Eastern', 'Mediterranean', 'Restauran...</td>\n",
       "    </tr>\n",
       "    <tr>\n",
       "      <th>52739</th>\n",
       "      <td>8teQ4Zc9jpl_ffaPJUn6Ew</td>\n",
       "      <td>7wZgquJ30qkVQbvbJo92ow</td>\n",
       "      <td>2018-10-16 14:41:26</td>\n",
       "      <td>43.073254</td>\n",
       "      <td>-89.526650</td>\n",
       "      <td>['Middle Eastern', 'Mediterranean', 'Restauran...</td>\n",
       "    </tr>\n",
       "    <tr>\n",
       "      <th>52740</th>\n",
       "      <td>KImDfKRpLV1vv7in15gehg</td>\n",
       "      <td>a2WtA_9HkxKe7OJ7NVA0dQ</td>\n",
       "      <td>2018-09-10 03:31:45</td>\n",
       "      <td>43.103736</td>\n",
       "      <td>-89.493081</td>\n",
       "      <td>['Cafes', 'Restaurants', 'Venues &amp; Event Space...</td>\n",
       "    </tr>\n",
       "    <tr>\n",
       "      <th>52741</th>\n",
       "      <td>HwfvrBP4ELHgFVx-1v_TQg</td>\n",
       "      <td>a2WtA_9HkxKe7OJ7NVA0dQ</td>\n",
       "      <td>2018-06-17 21:30:17</td>\n",
       "      <td>43.103736</td>\n",
       "      <td>-89.493081</td>\n",
       "      <td>['Cafes', 'Restaurants', 'Venues &amp; Event Space...</td>\n",
       "    </tr>\n",
       "    <tr>\n",
       "      <th>52742</th>\n",
       "      <td>iEy2zChmzGTdv9n0t_jEPw</td>\n",
       "      <td>a2WtA_9HkxKe7OJ7NVA0dQ</td>\n",
       "      <td>2018-08-18 22:18:49</td>\n",
       "      <td>43.103736</td>\n",
       "      <td>-89.493081</td>\n",
       "      <td>['Cafes', 'Restaurants', 'Venues &amp; Event Space...</td>\n",
       "    </tr>\n",
       "    <tr>\n",
       "      <th>52743</th>\n",
       "      <td>PPtxWUqQzEI3sp5cLOD0aw</td>\n",
       "      <td>a2WtA_9HkxKe7OJ7NVA0dQ</td>\n",
       "      <td>2018-09-01 16:46:57</td>\n",
       "      <td>43.103736</td>\n",
       "      <td>-89.493081</td>\n",
       "      <td>['Cafes', 'Restaurants', 'Venues &amp; Event Space...</td>\n",
       "    </tr>\n",
       "    <tr>\n",
       "      <th>52744</th>\n",
       "      <td>g0p-672JYknu-uvr0tJwHA</td>\n",
       "      <td>a2WtA_9HkxKe7OJ7NVA0dQ</td>\n",
       "      <td>2018-09-05 12:40:39</td>\n",
       "      <td>43.103736</td>\n",
       "      <td>-89.493081</td>\n",
       "      <td>['Cafes', 'Restaurants', 'Venues &amp; Event Space...</td>\n",
       "    </tr>\n",
       "    <tr>\n",
       "      <th>52745</th>\n",
       "      <td>M7LTyzbRK1M3RsMllbf3Og</td>\n",
       "      <td>a2WtA_9HkxKe7OJ7NVA0dQ</td>\n",
       "      <td>2018-04-17 14:58:47</td>\n",
       "      <td>43.103736</td>\n",
       "      <td>-89.493081</td>\n",
       "      <td>['Cafes', 'Restaurants', 'Venues &amp; Event Space...</td>\n",
       "    </tr>\n",
       "    <tr>\n",
       "      <th>52746</th>\n",
       "      <td>8LbHzV6Rh-6QOrD9j12TFg</td>\n",
       "      <td>-urPlVvPdWIfVtAZuZqkrQ</td>\n",
       "      <td>2016-02-10 22:28:21</td>\n",
       "      <td>43.063059</td>\n",
       "      <td>-89.310431</td>\n",
       "      <td>['Automotive', 'Car Dealers', 'Auto Repair']</td>\n",
       "    </tr>\n",
       "    <tr>\n",
       "      <th>52747</th>\n",
       "      <td>7c8OBUBnYL3U_4NxWQC79Q</td>\n",
       "      <td>-urPlVvPdWIfVtAZuZqkrQ</td>\n",
       "      <td>2011-04-27 20:30:29</td>\n",
       "      <td>43.063059</td>\n",
       "      <td>-89.310431</td>\n",
       "      <td>['Automotive', 'Car Dealers', 'Auto Repair']</td>\n",
       "    </tr>\n",
       "    <tr>\n",
       "      <th>52748</th>\n",
       "      <td>I9pkQyDb2G8YEKtVYGkqFA</td>\n",
       "      <td>f9x-F-l8STEgt9yJCKa5uA</td>\n",
       "      <td>2014-08-05 18:12:05</td>\n",
       "      <td>43.016555</td>\n",
       "      <td>-89.423431</td>\n",
       "      <td>['Hotels &amp; Travel', 'Hotels', 'Event Planning ...</td>\n",
       "    </tr>\n",
       "    <tr>\n",
       "      <th>52749</th>\n",
       "      <td>JKzqdJ8Xe7uHHcQo5vthNA</td>\n",
       "      <td>7z6Cm0JTo6U1Z66kipmkUA</td>\n",
       "      <td>2012-09-20 23:27:42</td>\n",
       "      <td>43.129879</td>\n",
       "      <td>-89.361528</td>\n",
       "      <td>['Massage', 'Beauty &amp; Spas', 'Hair Salons']</td>\n",
       "    </tr>\n",
       "    <tr>\n",
       "      <th>52750</th>\n",
       "      <td>QEkgYrrUEPJJbiUCLqf0fg</td>\n",
       "      <td>7z6Cm0JTo6U1Z66kipmkUA</td>\n",
       "      <td>2016-12-30 16:36:59</td>\n",
       "      <td>43.129879</td>\n",
       "      <td>-89.361528</td>\n",
       "      <td>['Massage', 'Beauty &amp; Spas', 'Hair Salons']</td>\n",
       "    </tr>\n",
       "    <tr>\n",
       "      <th>52751</th>\n",
       "      <td>vDvjF9-zKJuYRDqGPjtfeg</td>\n",
       "      <td>7z6Cm0JTo6U1Z66kipmkUA</td>\n",
       "      <td>2011-02-04 03:08:31</td>\n",
       "      <td>43.129879</td>\n",
       "      <td>-89.361528</td>\n",
       "      <td>['Massage', 'Beauty &amp; Spas', 'Hair Salons']</td>\n",
       "    </tr>\n",
       "    <tr>\n",
       "      <th>52752</th>\n",
       "      <td>TBld0yjxnopCz_faRFIuxA</td>\n",
       "      <td>w5eLKjDBu8N_tHtXKe4j-g</td>\n",
       "      <td>2009-09-07 13:00:36</td>\n",
       "      <td>43.074791</td>\n",
       "      <td>-89.390816</td>\n",
       "      <td>['Food', 'Restaurants', 'Food Stands']</td>\n",
       "    </tr>\n",
       "    <tr>\n",
       "      <th>52753</th>\n",
       "      <td>3E-0Sv6Cy_i0YAj3SPg9Yw</td>\n",
       "      <td>w5eLKjDBu8N_tHtXKe4j-g</td>\n",
       "      <td>2010-06-06 05:19:10</td>\n",
       "      <td>43.074791</td>\n",
       "      <td>-89.390816</td>\n",
       "      <td>['Food', 'Restaurants', 'Food Stands']</td>\n",
       "    </tr>\n",
       "    <tr>\n",
       "      <th>52754</th>\n",
       "      <td>z3WHx5PVY6BglO4d6Uo9Ww</td>\n",
       "      <td>w5eLKjDBu8N_tHtXKe4j-g</td>\n",
       "      <td>2009-09-07 15:56:58</td>\n",
       "      <td>43.074791</td>\n",
       "      <td>-89.390816</td>\n",
       "      <td>['Food', 'Restaurants', 'Food Stands']</td>\n",
       "    </tr>\n",
       "    <tr>\n",
       "      <th>52755</th>\n",
       "      <td>aCaWGbG_xNc0Kjz-GvnF0w</td>\n",
       "      <td>w5eLKjDBu8N_tHtXKe4j-g</td>\n",
       "      <td>2009-09-14 00:11:12</td>\n",
       "      <td>43.074791</td>\n",
       "      <td>-89.390816</td>\n",
       "      <td>['Food', 'Restaurants', 'Food Stands']</td>\n",
       "    </tr>\n",
       "    <tr>\n",
       "      <th>52756</th>\n",
       "      <td>rBYkDNESKXorIlc5j_TSbg</td>\n",
       "      <td>w5eLKjDBu8N_tHtXKe4j-g</td>\n",
       "      <td>2014-06-19 15:03:56</td>\n",
       "      <td>43.074791</td>\n",
       "      <td>-89.390816</td>\n",
       "      <td>['Food', 'Restaurants', 'Food Stands']</td>\n",
       "    </tr>\n",
       "    <tr>\n",
       "      <th>52757</th>\n",
       "      <td>G5BqF32PyIQ5IvplDvpKnA</td>\n",
       "      <td>SOZEWF0722AG1kFg78BRvg</td>\n",
       "      <td>2011-10-19 20:09:21</td>\n",
       "      <td>42.988663</td>\n",
       "      <td>-89.540106</td>\n",
       "      <td>['Active Life', 'Bowling', 'Restaurants']</td>\n",
       "    </tr>\n",
       "    <tr>\n",
       "      <th>52758</th>\n",
       "      <td>6xi9tBoZ6r_v41u_XFsSnA</td>\n",
       "      <td>SOZEWF0722AG1kFg78BRvg</td>\n",
       "      <td>2012-09-01 15:38:28</td>\n",
       "      <td>42.988663</td>\n",
       "      <td>-89.540106</td>\n",
       "      <td>['Active Life', 'Bowling', 'Restaurants']</td>\n",
       "    </tr>\n",
       "    <tr>\n",
       "      <th>52759</th>\n",
       "      <td>7c8OBUBnYL3U_4NxWQC79Q</td>\n",
       "      <td>SOZEWF0722AG1kFg78BRvg</td>\n",
       "      <td>2011-05-16 03:09:37</td>\n",
       "      <td>42.988663</td>\n",
       "      <td>-89.540106</td>\n",
       "      <td>['Active Life', 'Bowling', 'Restaurants']</td>\n",
       "    </tr>\n",
       "    <tr>\n",
       "      <th>52760</th>\n",
       "      <td>sQblfI5c5HBfbE8Nmf7Eqg</td>\n",
       "      <td>nJKEHfaN5RfAvWfH3YbmcQ</td>\n",
       "      <td>2018-02-18 00:12:37</td>\n",
       "      <td>43.109164</td>\n",
       "      <td>-89.335099</td>\n",
       "      <td>['Chiropractors', 'Health &amp; Medical']</td>\n",
       "    </tr>\n",
       "    <tr>\n",
       "      <th>52761</th>\n",
       "      <td>F73jTCeI1gE6HZfd3FWdRg</td>\n",
       "      <td>nJKEHfaN5RfAvWfH3YbmcQ</td>\n",
       "      <td>2018-04-23 15:33:57</td>\n",
       "      <td>43.109164</td>\n",
       "      <td>-89.335099</td>\n",
       "      <td>['Chiropractors', 'Health &amp; Medical']</td>\n",
       "    </tr>\n",
       "    <tr>\n",
       "      <th>52762</th>\n",
       "      <td>sQblfI5c5HBfbE8Nmf7Eqg</td>\n",
       "      <td>nJKEHfaN5RfAvWfH3YbmcQ</td>\n",
       "      <td>2018-02-17 17:31:51</td>\n",
       "      <td>43.109164</td>\n",
       "      <td>-89.335099</td>\n",
       "      <td>['Chiropractors', 'Health &amp; Medical']</td>\n",
       "    </tr>\n",
       "  </tbody>\n",
       "</table>\n",
       "<p>52763 rows × 6 columns</p>\n",
       "</div>"
      ],
      "text/plain": [
       "                      user_id             business_id                 date  \\\n",
       "0      MB7Z80PJxNyQM7keDpR2XQ  br1uQbc3YU5jCpYi46nIgQ  2018-04-04 00:09:03   \n",
       "1      4HwS2oCVQ1-f_kzHCv5X3A  br1uQbc3YU5jCpYi46nIgQ  2018-02-16 20:40:41   \n",
       "2      OLBH2Ds1wllrzpHlyojzJQ  br1uQbc3YU5jCpYi46nIgQ  2018-04-12 11:31:03   \n",
       "3      wd3xoNaDLib8dhQ7BxUl6g  br1uQbc3YU5jCpYi46nIgQ  2018-03-07 14:08:41   \n",
       "4      4HwS2oCVQ1-f_kzHCv5X3A  br1uQbc3YU5jCpYi46nIgQ  2018-02-16 20:48:49   \n",
       "...                       ...                     ...                  ...   \n",
       "52758  6xi9tBoZ6r_v41u_XFsSnA  SOZEWF0722AG1kFg78BRvg  2012-09-01 15:38:28   \n",
       "52759  7c8OBUBnYL3U_4NxWQC79Q  SOZEWF0722AG1kFg78BRvg  2011-05-16 03:09:37   \n",
       "52760  sQblfI5c5HBfbE8Nmf7Eqg  nJKEHfaN5RfAvWfH3YbmcQ  2018-02-18 00:12:37   \n",
       "52761  F73jTCeI1gE6HZfd3FWdRg  nJKEHfaN5RfAvWfH3YbmcQ  2018-04-23 15:33:57   \n",
       "52762  sQblfI5c5HBfbE8Nmf7Eqg  nJKEHfaN5RfAvWfH3YbmcQ  2018-02-17 17:31:51   \n",
       "\n",
       "        latitude  longitude                                        categories  \n",
       "0      43.069425 -89.389567  ['Food', 'Coffee & Tea', 'Cafes', 'Restaurants']  \n",
       "1      43.069425 -89.389567  ['Food', 'Coffee & Tea', 'Cafes', 'Restaurants']  \n",
       "2      43.069425 -89.389567  ['Food', 'Coffee & Tea', 'Cafes', 'Restaurants']  \n",
       "3      43.069425 -89.389567  ['Food', 'Coffee & Tea', 'Cafes', 'Restaurants']  \n",
       "4      43.069425 -89.389567  ['Food', 'Coffee & Tea', 'Cafes', 'Restaurants']  \n",
       "...          ...        ...                                               ...  \n",
       "52758  42.988663 -89.540106         ['Active Life', 'Bowling', 'Restaurants']  \n",
       "52759  42.988663 -89.540106         ['Active Life', 'Bowling', 'Restaurants']  \n",
       "52760  43.109164 -89.335099             ['Chiropractors', 'Health & Medical']  \n",
       "52761  43.109164 -89.335099             ['Chiropractors', 'Health & Medical']  \n",
       "52762  43.109164 -89.335099             ['Chiropractors', 'Health & Medical']  \n",
       "\n",
       "[52763 rows x 6 columns]"
      ]
     },
     "execution_count": 56,
     "metadata": {},
     "output_type": "execute_result"
    }
   ],
   "source": [
    "pd.read_csv(\"../data/checkin/cities/\"+city_name+\".csv\")"
   ]
  }
 ],
 "metadata": {
  "kernelspec": {
   "argv": [
    "python",
    "-m",
    "ipykernel_launcher",
    "-f",
    "{connection_file}"
   ],
   "display_name": "Python 3",
   "env": null,
   "interrupt_mode": "signal",
   "language": "python",
   "metadata": null,
   "name": "python3"
  },
  "language_info": {
   "codemirror_mode": {
    "name": "ipython",
    "version": 3
   },
   "file_extension": ".py",
   "mimetype": "text/x-python",
   "name": "python",
   "nbconvert_exporter": "python",
   "pygments_lexer": "ipython3",
   "version": "3.7.4"
  },
  "name": "exportjson.ipynb"
 },
 "nbformat": 4,
 "nbformat_minor": 4
}
