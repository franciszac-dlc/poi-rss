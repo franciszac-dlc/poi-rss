{
 "cells": [
  {
   "cell_type": "code",
   "execution_count": 21,
   "metadata": {},
   "outputs": [],
   "source": [
    "import sys\n",
    "sys.path.append('../')\n",
    "import numpy as np\n",
    "import pandas as pd\n",
    "import networkx as nx\n",
    "import matplotlib.pyplot as plt\n",
    "import math\n",
    "import timeit\n",
    "import algorithms.geo_utils as geo_utils\n",
    "from IPython.core.debugger import set_trace\n",
    "%matplotlib inline\n",
    "def string_to_array(string):\n",
    "    if string == '':\n",
    "        return list()\n",
    "    return eval(string)\n",
    "\n",
    "CITY=\"madison\"\n"
   ]
  },
  {
   "cell_type": "code",
   "execution_count": 22,
   "metadata": {},
   "outputs": [
    {
     "data": {
      "text/html": [
       "<div>\n",
       "<style scoped>\n",
       "    .dataframe tbody tr th:only-of-type {\n",
       "        vertical-align: middle;\n",
       "    }\n",
       "\n",
       "    .dataframe tbody tr th {\n",
       "        vertical-align: top;\n",
       "    }\n",
       "\n",
       "    .dataframe thead th {\n",
       "        text-align: right;\n",
       "    }\n",
       "</style>\n",
       "<table border=\"1\" class=\"dataframe\">\n",
       "  <thead>\n",
       "    <tr style=\"text-align: right;\">\n",
       "      <th></th>\n",
       "      <th>business_id</th>\n",
       "      <th>date</th>\n",
       "      <th>latitude</th>\n",
       "      <th>longitude</th>\n",
       "      <th>categories</th>\n",
       "      <th>subarea_id</th>\n",
       "    </tr>\n",
       "    <tr>\n",
       "      <th>user_id</th>\n",
       "      <th></th>\n",
       "      <th></th>\n",
       "      <th></th>\n",
       "      <th></th>\n",
       "      <th></th>\n",
       "      <th></th>\n",
       "    </tr>\n",
       "  </thead>\n",
       "  <tbody>\n",
       "    <tr>\n",
       "      <th>MB7Z80PJxNyQM7keDpR2XQ</th>\n",
       "      <td>br1uQbc3YU5jCpYi46nIgQ</td>\n",
       "      <td>2018-04-04 00:09:03</td>\n",
       "      <td>43.069425</td>\n",
       "      <td>-89.389567</td>\n",
       "      <td>[Coffee &amp; Tea, Cafes]</td>\n",
       "      <td>2064.0</td>\n",
       "    </tr>\n",
       "    <tr>\n",
       "      <th>4HwS2oCVQ1-f_kzHCv5X3A</th>\n",
       "      <td>br1uQbc3YU5jCpYi46nIgQ</td>\n",
       "      <td>2018-02-16 20:40:41</td>\n",
       "      <td>43.069425</td>\n",
       "      <td>-89.389567</td>\n",
       "      <td>[Coffee &amp; Tea, Cafes]</td>\n",
       "      <td>2064.0</td>\n",
       "    </tr>\n",
       "    <tr>\n",
       "      <th>OLBH2Ds1wllrzpHlyojzJQ</th>\n",
       "      <td>br1uQbc3YU5jCpYi46nIgQ</td>\n",
       "      <td>2018-04-12 11:31:03</td>\n",
       "      <td>43.069425</td>\n",
       "      <td>-89.389567</td>\n",
       "      <td>[Coffee &amp; Tea, Cafes]</td>\n",
       "      <td>2064.0</td>\n",
       "    </tr>\n",
       "    <tr>\n",
       "      <th>wd3xoNaDLib8dhQ7BxUl6g</th>\n",
       "      <td>br1uQbc3YU5jCpYi46nIgQ</td>\n",
       "      <td>2018-03-07 14:08:41</td>\n",
       "      <td>43.069425</td>\n",
       "      <td>-89.389567</td>\n",
       "      <td>[Coffee &amp; Tea, Cafes]</td>\n",
       "      <td>2064.0</td>\n",
       "    </tr>\n",
       "    <tr>\n",
       "      <th>4HwS2oCVQ1-f_kzHCv5X3A</th>\n",
       "      <td>br1uQbc3YU5jCpYi46nIgQ</td>\n",
       "      <td>2018-02-16 20:48:49</td>\n",
       "      <td>43.069425</td>\n",
       "      <td>-89.389567</td>\n",
       "      <td>[Coffee &amp; Tea, Cafes]</td>\n",
       "      <td>2064.0</td>\n",
       "    </tr>\n",
       "  </tbody>\n",
       "</table>\n",
       "</div>"
      ],
      "text/plain": [
       "                                   business_id                date   latitude  \\\n",
       "user_id                                                                         \n",
       "MB7Z80PJxNyQM7keDpR2XQ  br1uQbc3YU5jCpYi46nIgQ 2018-04-04 00:09:03  43.069425   \n",
       "4HwS2oCVQ1-f_kzHCv5X3A  br1uQbc3YU5jCpYi46nIgQ 2018-02-16 20:40:41  43.069425   \n",
       "OLBH2Ds1wllrzpHlyojzJQ  br1uQbc3YU5jCpYi46nIgQ 2018-04-12 11:31:03  43.069425   \n",
       "wd3xoNaDLib8dhQ7BxUl6g  br1uQbc3YU5jCpYi46nIgQ 2018-03-07 14:08:41  43.069425   \n",
       "4HwS2oCVQ1-f_kzHCv5X3A  br1uQbc3YU5jCpYi46nIgQ 2018-02-16 20:48:49  43.069425   \n",
       "\n",
       "                        longitude             categories  subarea_id  \n",
       "user_id                                                               \n",
       "MB7Z80PJxNyQM7keDpR2XQ -89.389567  [Coffee & Tea, Cafes]      2064.0  \n",
       "4HwS2oCVQ1-f_kzHCv5X3A -89.389567  [Coffee & Tea, Cafes]      2064.0  \n",
       "OLBH2Ds1wllrzpHlyojzJQ -89.389567  [Coffee & Tea, Cafes]      2064.0  \n",
       "wd3xoNaDLib8dhQ7BxUl6g -89.389567  [Coffee & Tea, Cafes]      2064.0  \n",
       "4HwS2oCVQ1-f_kzHCv5X3A -89.389567  [Coffee & Tea, Cafes]      2064.0  "
      ]
     },
     "execution_count": 22,
     "metadata": {},
     "output_type": "execute_result"
    }
   ],
   "source": [
    "df_checkin=pd.read_csv(\"../data/checkin/\"+CITY+\".csv\",converters={'categories':string_to_array})\n",
    "df_checkin['date']=pd.to_datetime(df_checkin['date'])\n",
    "# users=df_checkin['user_id'].drop_duplicates().reset_index(drop=True)\n",
    "# num_users=len(users)\n",
    "df_checkin.set_index(\"user_id\",inplace=True)\n",
    "df_checkin.head()"
   ]
  },
  {
   "cell_type": "code",
   "execution_count": 23,
   "metadata": {},
   "outputs": [],
   "source": [
    "df_poi=pd.read_csv(\"../data/poi/\"+CITY+\".csv\",converters={'categories':string_to_array})\n",
    "df_poi=df_poi.set_index(\"business_id\")"
   ]
  },
  {
   "cell_type": "markdown",
   "metadata": {},
   "source": [
    "### Centroide"
   ]
  },
  {
   "cell_type": "code",
   "execution_count": 24,
   "metadata": {},
   "outputs": [],
   "source": [
    "df_checkin=df_checkin.reset_index().drop_duplicates(subset=['user_id','business_id']).set_index('user_id')"
   ]
  },
  {
   "cell_type": "code",
   "execution_count": 25,
   "metadata": {},
   "outputs": [
    {
     "data": {
      "text/html": [
       "<div>\n",
       "<style scoped>\n",
       "    .dataframe tbody tr th:only-of-type {\n",
       "        vertical-align: middle;\n",
       "    }\n",
       "\n",
       "    .dataframe tbody tr th {\n",
       "        vertical-align: top;\n",
       "    }\n",
       "\n",
       "    .dataframe thead th {\n",
       "        text-align: right;\n",
       "    }\n",
       "</style>\n",
       "<table border=\"1\" class=\"dataframe\">\n",
       "  <thead>\n",
       "    <tr style=\"text-align: right;\">\n",
       "      <th></th>\n",
       "      <th>user_id</th>\n",
       "      <th>dist_mean</th>\n",
       "      <th>subareas</th>\n",
       "    </tr>\n",
       "  </thead>\n",
       "  <tbody>\n",
       "    <tr>\n",
       "      <th>0</th>\n",
       "      <td>MB7Z80PJxNyQM7keDpR2XQ</td>\n",
       "      <td>4.151365</td>\n",
       "      <td>21</td>\n",
       "    </tr>\n",
       "    <tr>\n",
       "      <th>1</th>\n",
       "      <td>4HwS2oCVQ1-f_kzHCv5X3A</td>\n",
       "      <td>1.643125</td>\n",
       "      <td>26</td>\n",
       "    </tr>\n",
       "  </tbody>\n",
       "</table>\n",
       "</div>"
      ],
      "text/plain": [
       "                  user_id  dist_mean subareas\n",
       "0  MB7Z80PJxNyQM7keDpR2XQ   4.151365       21\n",
       "1  4HwS2oCVQ1-f_kzHCv5X3A   1.643125       26"
      ]
     },
     "execution_count": 25,
     "metadata": {},
     "output_type": "execute_result"
    }
   ],
   "source": [
    "df_user_dist_mean=pd.DataFrame(columns=['user_id','dist_mean','subareas'])\n",
    "for user_id in df_checkin.index.drop_duplicates():\n",
    "    subareas_id=set()\n",
    "    df_user_checkin=df_checkin.loc[user_id]\n",
    "    latitude,longitude=df_user_checkin[['latitude','longitude']].mean()\n",
    "    dist_ac=0\n",
    "    for index,row in df_user_checkin[['latitude','longitude','subarea_id']].iterrows():\n",
    "        dist=geo_utils.haversine(latitude,longitude,row.latitude,row.longitude)\n",
    "        dist_ac+=dist\n",
    "        subareas_id.add(row['subarea_id'])\n",
    "    \n",
    "    dist_mean=dist_ac/len(df_user_checkin)\n",
    "    df_user_dist_mean=df_user_dist_mean.append({'user_id':user_id,'dist_mean':dist_mean,'subareas':len(subareas_id)},ignore_index=True)\n",
    "df_user_dist_mean.head(2)"
   ]
  },
  {
   "cell_type": "code",
   "execution_count": 26,
   "metadata": {},
   "outputs": [
    {
     "data": {
      "text/html": [
       "<div>\n",
       "<style scoped>\n",
       "    .dataframe tbody tr th:only-of-type {\n",
       "        vertical-align: middle;\n",
       "    }\n",
       "\n",
       "    .dataframe tbody tr th {\n",
       "        vertical-align: top;\n",
       "    }\n",
       "\n",
       "    .dataframe thead th {\n",
       "        text-align: right;\n",
       "    }\n",
       "</style>\n",
       "<table border=\"1\" class=\"dataframe\">\n",
       "  <thead>\n",
       "    <tr style=\"text-align: right;\">\n",
       "      <th></th>\n",
       "      <th>dist_mean</th>\n",
       "    </tr>\n",
       "  </thead>\n",
       "  <tbody>\n",
       "    <tr>\n",
       "      <th>count</th>\n",
       "      <td>1022.000000</td>\n",
       "    </tr>\n",
       "    <tr>\n",
       "      <th>mean</th>\n",
       "      <td>4.589336</td>\n",
       "    </tr>\n",
       "    <tr>\n",
       "      <th>std</th>\n",
       "      <td>1.777380</td>\n",
       "    </tr>\n",
       "    <tr>\n",
       "      <th>min</th>\n",
       "      <td>0.326515</td>\n",
       "    </tr>\n",
       "    <tr>\n",
       "      <th>25%</th>\n",
       "      <td>3.293402</td>\n",
       "    </tr>\n",
       "    <tr>\n",
       "      <th>50%</th>\n",
       "      <td>4.637066</td>\n",
       "    </tr>\n",
       "    <tr>\n",
       "      <th>75%</th>\n",
       "      <td>5.758750</td>\n",
       "    </tr>\n",
       "    <tr>\n",
       "      <th>max</th>\n",
       "      <td>10.729046</td>\n",
       "    </tr>\n",
       "  </tbody>\n",
       "</table>\n",
       "</div>"
      ],
      "text/plain": [
       "         dist_mean\n",
       "count  1022.000000\n",
       "mean      4.589336\n",
       "std       1.777380\n",
       "min       0.326515\n",
       "25%       3.293402\n",
       "50%       4.637066\n",
       "75%       5.758750\n",
       "max      10.729046"
      ]
     },
     "execution_count": 26,
     "metadata": {},
     "output_type": "execute_result"
    }
   ],
   "source": [
    "df_user_dist_mean.describe()"
   ]
  },
  {
   "cell_type": "code",
   "execution_count": 27,
   "metadata": {
    "scrolled": true
   },
   "outputs": [
    {
     "data": {
      "text/plain": [
       "<matplotlib.axes._subplots.AxesSubplot at 0x7f6790b214d0>"
      ]
     },
     "execution_count": 27,
     "metadata": {},
     "output_type": "execute_result"
    },
    {
     "data": {
      "image/png": "[encoded data removed]",
      "text/plain": [
       "<Figure size 432x288 with 1 Axes>"
      ]
     },
     "metadata": {
      "needs_background": "light"
     },
     "output_type": "display_data"
    }
   ],
   "source": [
    "df_user_dist_mean['dist_mean'].sort_values().reset_index(drop=True).plot(title='distancia de um centroide a todos pontos visitados pelo usuario')"
   ]
  },
  {
   "cell_type": "code",
   "execution_count": 28,
   "metadata": {},
   "outputs": [
    {
     "data": {
      "text/plain": [
       "<matplotlib.axes._subplots.AxesSubplot at 0x7f6790627bd0>"
      ]
     },
     "execution_count": 28,
     "metadata": {},
     "output_type": "execute_result"
    },
    {
     "data": {
      "image/png": "[encoded data removed]",
      "text/plain": [
       "<Figure size 432x288 with 1 Axes>"
      ]
     },
     "metadata": {
      "needs_background": "light"
     },
     "output_type": "display_data"
    }
   ],
   "source": [
    "df_user_dist_mean['subareas'].sort_values().reset_index(drop=True).plot(title='subareas diferentes visitadas')"
   ]
  },
  {
   "cell_type": "code",
   "execution_count": 29,
   "metadata": {},
   "outputs": [],
   "source": [
    "#df_user_dist_mean[['dist_mean','subareas']].sort_values(by='dist_mean').reset_index(drop=True).plot.bar()"
   ]
  },
  {
   "cell_type": "code",
   "execution_count": 30,
   "metadata": {},
   "outputs": [
    {
     "data": {
      "text/html": [
       "<div>\n",
       "<style scoped>\n",
       "    .dataframe tbody tr th:only-of-type {\n",
       "        vertical-align: middle;\n",
       "    }\n",
       "\n",
       "    .dataframe tbody tr th {\n",
       "        vertical-align: top;\n",
       "    }\n",
       "\n",
       "    .dataframe thead th {\n",
       "        text-align: right;\n",
       "    }\n",
       "</style>\n",
       "<table border=\"1\" class=\"dataframe\">\n",
       "  <thead>\n",
       "    <tr style=\"text-align: right;\">\n",
       "      <th></th>\n",
       "      <th>dist_mean</th>\n",
       "      <th>subareas</th>\n",
       "    </tr>\n",
       "  </thead>\n",
       "  <tbody>\n",
       "    <tr>\n",
       "      <th>0</th>\n",
       "      <td>0.326515</td>\n",
       "      <td>5</td>\n",
       "    </tr>\n",
       "    <tr>\n",
       "      <th>1</th>\n",
       "      <td>0.645192</td>\n",
       "      <td>8</td>\n",
       "    </tr>\n",
       "  </tbody>\n",
       "</table>\n",
       "</div>"
      ],
      "text/plain": [
       "   dist_mean subareas\n",
       "0   0.326515        5\n",
       "1   0.645192        8"
      ]
     },
     "execution_count": 30,
     "metadata": {},
     "output_type": "execute_result"
    }
   ],
   "source": [
    "tmp=df_user_dist_mean[['dist_mean','subareas']].sort_values(by='dist_mean').reset_index(drop=True)\n",
    "\n",
    "tmp.head(2)"
   ]
  },
  {
   "cell_type": "code",
   "execution_count": 76,
   "metadata": {},
   "outputs": [],
   "source": [
    "df_group_mean=pd.DataFrame(columns=['subareas'])\n",
    "i=0\n",
    "for subareas in tmp['subareas']:\n",
    "    if i % 50==49:\n",
    "        df_group_mean=df_group_mean.append({'user_id':user_id,'dist_mean':dist_mean,'subareas':len(subareas_id)},ignore_index=True)\n",
    "        \n",
    "    i+=1"
   ]
  },
  {
   "cell_type": "code",
   "execution_count": 33,
   "metadata": {},
   "outputs": [
    {
     "data": {
      "text/plain": [
       "0.2589552777649776"
      ]
     },
     "execution_count": 33,
     "metadata": {},
     "output_type": "execute_result"
    }
   ],
   "source": [
    "# correlação entre distancia e subareas\n",
    "tmp['dist_mean'].corr(tmp['subareas'].apply(lambda x: np.float64(x)))"
   ]
  },
  {
   "cell_type": "code",
   "execution_count": 12,
   "metadata": {},
   "outputs": [
    {
     "data": {
      "text/plain": [
       "<matplotlib.axes._subplots.AxesSubplot at 0x7f6790ace6d0>"
      ]
     },
     "execution_count": 12,
     "metadata": {},
     "output_type": "execute_result"
    },
    {
     "data": {
      "image/png": "[encoded data removed]",
      "text/plain": [
       "<Figure size 432x288 with 1 Axes>"
      ]
     },
     "metadata": {
      "needs_background": "light"
     },
     "output_type": "display_data"
    }
   ],
   "source": [
    "quantile_argument=[0.05, 0.25, 0.5, 0.6,0.75,0.9]\n",
    "tmp.quantile(quantile_argument)\n",
    "tmp['subareas'].quantile(quantile_argument)\n",
    "pd.concat([tmp.quantile(quantile_argument),tmp['subareas'].quantile([0.05, 0.25, 0.5, 0.6,0.75,0.9])],axis=1).plot()"
   ]
  },
  {
   "cell_type": "code",
   "execution_count": 13,
   "metadata": {},
   "outputs": [
    {
     "data": {
      "text/plain": [
       "<matplotlib.axes._subplots.AxesSubplot at 0x7f6790a5bed0>"
      ]
     },
     "execution_count": 13,
     "metadata": {},
     "output_type": "execute_result"
    },
    {
     "data": {
      "image/png": "[encoded data removed]",
      "text/plain": [
       "<Figure size 432x288 with 1 Axes>"
      ]
     },
     "metadata": {
      "needs_background": "light"
     },
     "output_type": "display_data"
    }
   ],
   "source": [
    "tmp=(tmp-tmp.mean())/tmp.std()\n",
    "tmp.quantile(quantile_argument)\n",
    "tmp['subareas'].quantile(quantile_argument)\n",
    "pd.concat([tmp.quantile(quantile_argument),tmp['subareas'].quantile([0.05, 0.25, 0.5, 0.6,0.75,0.9])],axis=1).plot(title='normalizado')"
   ]
  },
  {
   "cell_type": "code",
   "execution_count": 54,
   "metadata": {},
   "outputs": [
    {
     "data": {
      "text/plain": [
       "Text(0.5, 1.0, 'Kernel Density Estimate usando Gaussian kernels, Distância média.')"
      ]
     },
     "execution_count": 54,
     "metadata": {},
     "output_type": "execute_result"
    },
    {
     "data": {
      "image/png": "[encoded data removed]",
      "text/plain": [
       "<Figure size 432x288 with 1 Axes>"
      ]
     },
     "metadata": {
      "needs_background": "light"
     },
     "output_type": "display_data"
    }
   ],
   "source": [
    "plt=tmp['dist_mean'].plot.kde()\n",
    "plt.set_xlim(0,15)\n",
    "plt.set_title(\"Kernel Density Estimate usando Gaussian kernels, Distância média.\")"
   ]
  },
  {
   "cell_type": "code",
   "execution_count": 55,
   "metadata": {},
   "outputs": [
    {
     "data": {
      "text/plain": [
       "(0, 100)"
      ]
     },
     "execution_count": 55,
     "metadata": {},
     "output_type": "execute_result"
    },
    {
     "data": {
      "image/png": "[encoded data removed]",
      "text/plain": [
       "<Figure size 432x288 with 1 Axes>"
      ]
     },
     "metadata": {
      "needs_background": "light"
     },
     "output_type": "display_data"
    }
   ],
   "source": [
    "plt=tmp['subareas'].plot.kde()\n",
    "plt.set_xlim(0,100)"
   ]
  },
  {
   "cell_type": "code",
   "execution_count": null,
   "metadata": {},
   "outputs": [],
   "source": []
  }
 ],
 "metadata": {
  "kernelspec": {
   "display_name": "Python 3",
   "language": "python",
   "name": "python3"
  },
  "language_info": {
   "codemirror_mode": {
    "name": "ipython",
    "version": 3
   },
   "file_extension": ".py",
   "mimetype": "text/x-python",
   "name": "python",
   "nbconvert_exporter": "python",
   "pygments_lexer": "ipython3",
   "version": "3.7.4"
  }
 },
 "nbformat": 4,
 "nbformat_minor": 2
}
