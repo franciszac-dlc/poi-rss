{
 "cells": [
  {
   "cell_type": "code",
   "execution_count": 1,
   "metadata": {},
   "outputs": [],
   "source": [
    "import sys\n",
    "sys.path.append('../')\n",
    "import numpy as np\n",
    "import pandas as pd\n",
    "import networkx as nx\n",
    "import matplotlib.pyplot as plt\n",
    "import algorithms.areamanager\n",
    "%matplotlib inline"
   ]
  },
  {
   "cell_type": "code",
   "execution_count": 2,
   "metadata": {},
   "outputs": [
    {
     "data": {
      "text/html": [
       "<div>\n",
       "<style scoped>\n",
       "    .dataframe tbody tr th:only-of-type {\n",
       "        vertical-align: middle;\n",
       "    }\n",
       "\n",
       "    .dataframe tbody tr th {\n",
       "        vertical-align: top;\n",
       "    }\n",
       "\n",
       "    .dataframe thead th {\n",
       "        text-align: right;\n",
       "    }\n",
       "</style>\n",
       "<table border=\"1\" class=\"dataframe\">\n",
       "  <thead>\n",
       "    <tr style=\"text-align: right;\">\n",
       "      <th></th>\n",
       "      <th>user_id</th>\n",
       "      <th>business_id</th>\n",
       "      <th>date</th>\n",
       "      <th>latitude</th>\n",
       "      <th>longitude</th>\n",
       "      <th>categories</th>\n",
       "      <th>subarea_id</th>\n",
       "    </tr>\n",
       "  </thead>\n",
       "  <tbody>\n",
       "    <tr>\n",
       "      <th>237970</th>\n",
       "      <td>---1lKK3aKOuomHnwAkAow</td>\n",
       "      <td>5cbsjFtrntUAeUx51FaFTg</td>\n",
       "      <td>2008-11-11 04:31:46</td>\n",
       "      <td>36.160854</td>\n",
       "      <td>-115.331527</td>\n",
       "      <td>[Mexican]</td>\n",
       "      <td>602.0</td>\n",
       "    </tr>\n",
       "    <tr>\n",
       "      <th>207138</th>\n",
       "      <td>---1lKK3aKOuomHnwAkAow</td>\n",
       "      <td>ifEHr-ZnGFSKgJVsywiAFg</td>\n",
       "      <td>2009-01-16 21:49:36</td>\n",
       "      <td>36.160224</td>\n",
       "      <td>-115.291511</td>\n",
       "      <td>[Wineries, Italian, Bars, Wine Bars, Seafood]</td>\n",
       "      <td>595.0</td>\n",
       "    </tr>\n",
       "    <tr>\n",
       "      <th>133863</th>\n",
       "      <td>---1lKK3aKOuomHnwAkAow</td>\n",
       "      <td>kosTPb88O4Q0XGbVbEOGCA</td>\n",
       "      <td>2010-10-16 23:27:02</td>\n",
       "      <td>36.145053</td>\n",
       "      <td>-115.232838</td>\n",
       "      <td>[Thai]</td>\n",
       "      <td>309.0</td>\n",
       "    </tr>\n",
       "    <tr>\n",
       "      <th>31937</th>\n",
       "      <td>---1lKK3aKOuomHnwAkAow</td>\n",
       "      <td>rq5dgoksPHkJwJNQKlGQ7w</td>\n",
       "      <td>2010-10-16 23:31:28</td>\n",
       "      <td>36.164180</td>\n",
       "      <td>-115.289630</td>\n",
       "      <td>[Breakfast &amp; Brunch, Coffee &amp; Tea, American (N...</td>\n",
       "      <td>595.0</td>\n",
       "    </tr>\n",
       "    <tr>\n",
       "      <th>178307</th>\n",
       "      <td>---1lKK3aKOuomHnwAkAow</td>\n",
       "      <td>2BbFeotL85cIaBjSq1SWiA</td>\n",
       "      <td>2010-10-17 04:19:01</td>\n",
       "      <td>36.168099</td>\n",
       "      <td>-115.192230</td>\n",
       "      <td>[American (New)]</td>\n",
       "      <td>646.0</td>\n",
       "    </tr>\n",
       "  </tbody>\n",
       "</table>\n",
       "</div>"
      ],
      "text/plain": [
       "                       user_id             business_id                 date  \\\n",
       "237970  ---1lKK3aKOuomHnwAkAow  5cbsjFtrntUAeUx51FaFTg  2008-11-11 04:31:46   \n",
       "207138  ---1lKK3aKOuomHnwAkAow  ifEHr-ZnGFSKgJVsywiAFg  2009-01-16 21:49:36   \n",
       "133863  ---1lKK3aKOuomHnwAkAow  kosTPb88O4Q0XGbVbEOGCA  2010-10-16 23:27:02   \n",
       "31937   ---1lKK3aKOuomHnwAkAow  rq5dgoksPHkJwJNQKlGQ7w  2010-10-16 23:31:28   \n",
       "178307  ---1lKK3aKOuomHnwAkAow  2BbFeotL85cIaBjSq1SWiA  2010-10-17 04:19:01   \n",
       "\n",
       "         latitude   longitude  \\\n",
       "237970  36.160854 -115.331527   \n",
       "207138  36.160224 -115.291511   \n",
       "133863  36.145053 -115.232838   \n",
       "31937   36.164180 -115.289630   \n",
       "178307  36.168099 -115.192230   \n",
       "\n",
       "                                               categories  subarea_id  \n",
       "237970                                          [Mexican]       602.0  \n",
       "207138      [Wineries, Italian, Bars, Wine Bars, Seafood]       595.0  \n",
       "133863                                             [Thai]       309.0  \n",
       "31937   [Breakfast & Brunch, Coffee & Tea, American (N...       595.0  \n",
       "178307                                   [American (New)]       646.0  "
      ]
     },
     "execution_count": 2,
     "metadata": {},
     "output_type": "execute_result"
    }
   ],
   "source": [
    "# Check-ins sequenciais\n",
    "\n",
    "def string_to_array(string):\n",
    "    if string == '':\n",
    "        return list()\n",
    "    return eval(string)\n",
    "df_city_checkin=pd.read_csv(\"../data/checkin/lasvegas.csv\",converters={'categories':string_to_array})\n",
    "df_city_checkin.sort_values(by=['user_id','date'],inplace=True)\n",
    "series_city_user=df_city_checkin['user_id'].drop_duplicates().reset_index(drop=True)\n",
    "df_city_checkin.head()"
   ]
  },
  {
   "cell_type": "code",
   "execution_count": 6,
   "metadata": {},
   "outputs": [
    {
     "name": "stdout",
     "output_type": "stream",
     "text": [
      "0\n",
      "1000\n",
      "2000\n",
      "3000\n",
      "4000\n",
      "5000\n",
      "6000\n"
     ]
    },
    {
     "data": {
      "text/html": [
       "<div>\n",
       "<style scoped>\n",
       "    .dataframe tbody tr th:only-of-type {\n",
       "        vertical-align: middle;\n",
       "    }\n",
       "\n",
       "    .dataframe tbody tr th {\n",
       "        vertical-align: top;\n",
       "    }\n",
       "\n",
       "    .dataframe thead th {\n",
       "        text-align: right;\n",
       "    }\n",
       "</style>\n",
       "<table border=\"1\" class=\"dataframe\">\n",
       "  <thead>\n",
       "    <tr style=\"text-align: right;\">\n",
       "      <th></th>\n",
       "      <th>user_id</th>\n",
       "      <th>mean_seq_dist_km</th>\n",
       "      <th>std_seq_dist_km</th>\n",
       "    </tr>\n",
       "  </thead>\n",
       "  <tbody>\n",
       "    <tr>\n",
       "      <th>0</th>\n",
       "      <td>---1lKK3aKOuomHnwAkAow</td>\n",
       "      <td>7.869527</td>\n",
       "      <td>5.467270</td>\n",
       "    </tr>\n",
       "    <tr>\n",
       "      <th>1</th>\n",
       "      <td>--RlSfc-QmcHFGHyX6aVjA</td>\n",
       "      <td>4.291019</td>\n",
       "      <td>4.036746</td>\n",
       "    </tr>\n",
       "    <tr>\n",
       "      <th>2</th>\n",
       "      <td>-0HhZbPBlB1YZx3BhAfaEA</td>\n",
       "      <td>7.801927</td>\n",
       "      <td>5.554867</td>\n",
       "    </tr>\n",
       "    <tr>\n",
       "      <th>3</th>\n",
       "      <td>-1x8gXJnrI-FeZPNvnfbRg</td>\n",
       "      <td>4.579563</td>\n",
       "      <td>3.970821</td>\n",
       "    </tr>\n",
       "    <tr>\n",
       "      <th>4</th>\n",
       "      <td>-267Yx8RmdP6io2-qI4UcQ</td>\n",
       "      <td>8.797991</td>\n",
       "      <td>5.430945</td>\n",
       "    </tr>\n",
       "  </tbody>\n",
       "</table>\n",
       "</div>"
      ],
      "text/plain": [
       "                  user_id  mean_seq_dist_km  std_seq_dist_km\n",
       "0  ---1lKK3aKOuomHnwAkAow          7.869527         5.467270\n",
       "1  --RlSfc-QmcHFGHyX6aVjA          4.291019         4.036746\n",
       "2  -0HhZbPBlB1YZx3BhAfaEA          7.801927         5.554867\n",
       "3  -1x8gXJnrI-FeZPNvnfbRg          4.579563         3.970821\n",
       "4  -267Yx8RmdP6io2-qI4UcQ          8.797991         5.430945"
      ]
     },
     "execution_count": 6,
     "metadata": {},
     "output_type": "execute_result"
    }
   ],
   "source": [
    "df_user_mean_seq_km_visited= pd.DataFrame(columns=['user_id','mean_seq_dist_km','std_seq_dist_km'])\n",
    "def haversine(lat1,lon1, lat2, lon2):\n",
    "    # deg to rad\n",
    "    lon1, lat1, lon2, lat2 = map(np.radians, [lon1, lat1, lon2, lat2])\n",
    "    dlon = lon2-lon1\n",
    "    dlat = lat2-lat1\n",
    "    a = np.sin(dlat/2)**2 + np.cos(lat1)*np.cos(lat2)*np.sin(dlon/2)**2\n",
    "    c = 2*np.arcsin(np.sqrt(a))\n",
    "    r = 6371 # km\n",
    "    return c*r\n",
    "i=0\n",
    "for user_id in series_city_user:\n",
    "    \n",
    "    # Choose one user\n",
    "    \n",
    "    df_user_checkin=df_city_checkin[df_city_checkin['user_id']==user_id].reset_index(drop=True)\n",
    "        \n",
    "    df_user_checkin[['latitude','longitude']].drop(df_user_checkin.tail(1).index).reset_index(drop=True).tail()\n",
    "    \n",
    "    df_user_checkin[['latitude','longitude']].drop(df_user_checkin.head(1).index).reset_index(drop=True).tail()\n",
    "    \n",
    "    df_tmp=df_user_checkin[['latitude','longitude']].drop(df_user_checkin.head(1).index).reset_index(drop=True)\n",
    "    df_tmp=df_tmp.join(df_user_checkin[['latitude','longitude']].drop(df_user_checkin.tail(1).index).reset_index(drop=True),rsuffix='_next')\n",
    "    dists=df_tmp.apply(lambda locations: haversine(*locations),axis=1)\n",
    "    mean_seq_dist_km=dists.mean()\n",
    "    std_seq_dist_km=dists.std()\n",
    "    \n",
    "    \n",
    "    \n",
    "    \n",
    "    df_user_mean_seq_km_visited=df_user_mean_seq_km_visited.append({'user_id':user_id,'mean_seq_dist_km':mean_seq_dist_km,'std_seq_dist_km':std_seq_dist_km},ignore_index=True)\n",
    "    if i%1000==0:\n",
    "        print(i)\n",
    "    i=i+1\n",
    "    \n",
    "df_user_mean_seq_km_visited.head()"
   ]
  },
  {
   "cell_type": "code",
   "execution_count": 7,
   "metadata": {},
   "outputs": [
    {
     "data": {
      "text/plain": [
       "<matplotlib.axes._subplots.AxesSubplot at 0x7f83e6b01b50>"
      ]
     },
     "execution_count": 7,
     "metadata": {},
     "output_type": "execute_result"
    },
    {
     "data": {
      "image/png": "[encoded data removed]",
      "text/plain": [
       "<Figure size 432x288 with 1 Axes>"
      ]
     },
     "metadata": {
      "needs_background": "light"
     },
     "output_type": "display_data"
    }
   ],
   "source": [
    "p=df_user_mean_seq_km_visited['mean_seq_dist_km'].describe().drop('count').plot.bar(title='Média de quilômetros andandos entre visitas de POI pelos usuários em Las Vegas')\n",
    "p.set_ylabel(\"Quilômetros\")\n",
    "p"
   ]
  }
 ],
 "metadata": {
  "kernelspec": {
   "display_name": "Python 3",
   "language": "python",
   "name": "python3"
  },
  "language_info": {
   "codemirror_mode": {
    "name": "ipython",
    "version": 3
   },
   "file_extension": ".py",
   "mimetype": "text/x-python",
   "name": "python",
   "nbconvert_exporter": "python",
   "pygments_lexer": "ipython3",
   "version": "3.7.4"
  }
 },
 "nbformat": 4,
 "nbformat_minor": 2
}
