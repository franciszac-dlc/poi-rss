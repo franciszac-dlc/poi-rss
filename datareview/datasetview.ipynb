{
 "cells": [
  {
   "cell_type": "markdown",
   "metadata": {
    "ein.tags": "worksheet-0",
    "slideshow": {
     "slide_type": "-"
    }
   },
   "source": [
    "# Caracterização dos dados\n",
    "## Yelp Dataset Challenge 2019\n",
    "### Autor: Heitor L. Werneck\n",
    "\n",
    "- https://www.yelp.com/dataset\n",
    "- https://www.yelp.com/dataset/documentation/main\n",
    "\n",
    "Problemas\n",
    "\n",
    "- par de amigos com redundancia. tabela friend. resolvido $\\checkmark$\n",
    "- business pode não ter categoria. resolvido $\\checkmark$\n",
    "- usuarios podem ter amigos que nao existem.\n",
    "- so é possivel pegar o dia (não a hora) que uma pessoa deu review ou tip em um poi. Em check-in existe a hora porém não existe relacionamento com o usuário. $\\checkmark$\n",
    "\n",
    "Futuramente serão salvos os dataframes respectivos de todos objetos(json) na memória secundária em feather ou parquet.(foi salvo em csv)\n",
    "\n",
    "As informações disponíveis do usuário estão listadas na primeira tabela abaixo.\n",
    "\n",
    "As principais características dos pois disponiveis são: $<latitude,longitude,stars,categories,address,hours,is\\_open>$\n",
    "\n",
    "Os atributos que efetivamente serão importantes no trabalho e serão pegos do json e transformados em outro formato:\n",
    "\n",
    "- business: business_id; name; city; latitude; longitude; stars; categories\n",
    "- review: review_id; user_id; business_id; stars; date; # texto não será utilizado provavelmente, se for so mudar\n",
    "- user: nada\n",
    "- checkin: nada\n",
    "- tip: user_id; business_id; date # não será utilizado pois não tem stars\n",
    "\n",
    "O campo attributes pode dar informações por exemplo se existe uma garagem no local, está validado e entre outros. Esse tipo de dado pode ser utilizado em requeriment-awareness POI recommendation.\n",
    "\n",
    "Tipos de informações sociais disponíveis do usuário:\n",
    "- fans, número de fans que um usuário possui.\n",
    "- friends, os amigos do usuário.\n",
    "- compliments_xxxx elogios de diversos tipos feito pela comunidade a um usuário. Pode ser visto mais detalhadamente na tabela abaixo.\n",
    "- votos useful, funny, cool. Caracterizações da comunidade a um review. O usuário também guarda um contador de votos de cada tipo.\n",
    "- elite. Uma pessoa que faz bons reviews; tips de qualidade; perfil pessoal bem descrito; ativamente votando e elogiando; se da bem com as pessoas.\n"
   ]
  },
  {
   "cell_type": "markdown",
   "metadata": {},
   "source": [
    "<table id=\"org4eb9158\" border=\"2\" cellspacing=\"0\" cellpadding=\"6\" rules=\"groups\" frame=\"hsides\">\n",
    "<caption class=\"t-above\"><span class=\"table-number\">Table 1:</span> Arquivos e campo.</caption>\n",
    "\n",
    "<colgroup>\n",
    "<col  class=\"org-left\" />\n",
    "\n",
    "<col  class=\"org-left\" />\n",
    "\n",
    "<col  class=\"org-left\" />\n",
    "</colgroup>\n",
    "<thead>\n",
    "<tr>\n",
    "<th scope=\"col\" class=\"org-left\">Arquivo/Objeto</th>\n",
    "<th scope=\"col\" class=\"org-left\">Campo</th>\n",
    "<th scope=\"col\" class=\"org-left\">Descrição</th>\n",
    "</tr>\n",
    "</thead>\n",
    "\n",
    "<tbody>\n",
    "<tr>\n",
    "<td class=\"org-left\">business.json</td>\n",
    "<td class=\"org-left\">business\\_id</td>\n",
    "<td class=\"org-left\">string, 22 character unique string business id</td>\n",
    "</tr>\n",
    "\n",
    "\n",
    "<tr>\n",
    "<td class=\"org-left\">business.json</td>\n",
    "<td class=\"org-left\">name</td>\n",
    "<td class=\"org-left\">string, the business's name</td>\n",
    "</tr>\n",
    "\n",
    "\n",
    "<tr>\n",
    "<td class=\"org-left\">business.json</td>\n",
    "<td class=\"org-left\">address</td>\n",
    "<td class=\"org-left\">string, the full address of the business</td>\n",
    "</tr>\n",
    "\n",
    "\n",
    "<tr>\n",
    "<td class=\"org-left\">business.json</td>\n",
    "<td class=\"org-left\">city</td>\n",
    "<td class=\"org-left\">string, the city</td>\n",
    "</tr>\n",
    "\n",
    "\n",
    "<tr>\n",
    "<td class=\"org-left\">business.json</td>\n",
    "<td class=\"org-left\">state</td>\n",
    "<td class=\"org-left\">string, 2 character state code, if applicable</td>\n",
    "</tr>\n",
    "\n",
    "\n",
    "<tr>\n",
    "<td class=\"org-left\">business.json</td>\n",
    "<td class=\"org-left\">postal code</td>\n",
    "<td class=\"org-left\">string, the postal code</td>\n",
    "</tr>\n",
    "\n",
    "\n",
    "<tr>\n",
    "<td class=\"org-left\">business.json</td>\n",
    "<td class=\"org-left\">latitude</td>\n",
    "<td class=\"org-left\">float, latitude</td>\n",
    "</tr>\n",
    "\n",
    "\n",
    "<tr>\n",
    "<td class=\"org-left\">business.json</td>\n",
    "<td class=\"org-left\">longitude</td>\n",
    "<td class=\"org-left\">float, longitude</td>\n",
    "</tr>\n",
    "\n",
    "\n",
    "<tr>\n",
    "<td class=\"org-left\">business.json</td>\n",
    "<td class=\"org-left\">stars</td>\n",
    "<td class=\"org-left\">float, star rating, rounded to half-stars</td>\n",
    "</tr>\n",
    "\n",
    "\n",
    "<tr>\n",
    "<td class=\"org-left\">business.json</td>\n",
    "<td class=\"org-left\">review\\_count</td>\n",
    "<td class=\"org-left\">integer, number of reviews</td>\n",
    "</tr>\n",
    "\n",
    "\n",
    "<tr>\n",
    "<td class=\"org-left\">business.json</td>\n",
    "<td class=\"org-left\">is\\_open</td>\n",
    "<td class=\"org-left\">integer, 0 or 1 for closed or open, respectively</td>\n",
    "</tr>\n",
    "\n",
    "\n",
    "<tr>\n",
    "<td class=\"org-left\">business.json</td>\n",
    "<td class=\"org-left\">attributes</td>\n",
    "<td class=\"org-left\">object, business attributes to values. note: some attribute values might be objects</td>\n",
    "</tr>\n",
    "\n",
    "\n",
    "<tr>\n",
    "<td class=\"org-left\">business.json</td>\n",
    "<td class=\"org-left\">categories</td>\n",
    "<td class=\"org-left\">an array of strings of business categories</td>\n",
    "</tr>\n",
    "\n",
    "\n",
    "<tr>\n",
    "<td class=\"org-left\">business.json</td>\n",
    "<td class=\"org-left\">hours</td>\n",
    "<td class=\"org-left\">an object of key day to value hours, hours are using a 24hr clock</td>\n",
    "</tr>\n",
    "\n",
    "\n",
    "<tr>\n",
    "<td class=\"org-left\">review.json</td>\n",
    "<td class=\"org-left\">review\\_id</td>\n",
    "<td class=\"org-left\">string, 22 character unique review id</td>\n",
    "</tr>\n",
    "\n",
    "\n",
    "<tr>\n",
    "<td class=\"org-left\">review.json</td>\n",
    "<td class=\"org-left\">user\\_id</td>\n",
    "<td class=\"org-left\">string, 22 character unique user id, maps to the user in user.json</td>\n",
    "</tr>\n",
    "\n",
    "\n",
    "<tr>\n",
    "<td class=\"org-left\">review.json</td>\n",
    "<td class=\"org-left\">business\\_id</td>\n",
    "<td class=\"org-left\">string, 22 character business id, maps to business in business.json</td>\n",
    "</tr>\n",
    "\n",
    "\n",
    "<tr>\n",
    "<td class=\"org-left\">review.json</td>\n",
    "<td class=\"org-left\">stars</td>\n",
    "<td class=\"org-left\">integer, star rating</td>\n",
    "</tr>\n",
    "\n",
    "\n",
    "<tr>\n",
    "<td class=\"org-left\">review.json</td>\n",
    "<td class=\"org-left\">date</td>\n",
    "<td class=\"org-left\">string, date formatted YYYY-MM-DD</td>\n",
    "</tr>\n",
    "\n",
    "\n",
    "<tr>\n",
    "<td class=\"org-left\">review.json</td>\n",
    "<td class=\"org-left\">text</td>\n",
    "<td class=\"org-left\">string, the review itself</td>\n",
    "</tr>\n",
    "\n",
    "\n",
    "<tr>\n",
    "<td class=\"org-left\">review.json</td>\n",
    "<td class=\"org-left\">useful</td>\n",
    "<td class=\"org-left\">integer, number of useful votes received</td>\n",
    "</tr>\n",
    "\n",
    "\n",
    "<tr>\n",
    "<td class=\"org-left\">review.json</td>\n",
    "<td class=\"org-left\">funny</td>\n",
    "<td class=\"org-left\">integer, number of funny votes received</td>\n",
    "</tr>\n",
    "\n",
    "\n",
    "<tr>\n",
    "<td class=\"org-left\">review.json</td>\n",
    "<td class=\"org-left\">cool</td>\n",
    "<td class=\"org-left\">integer, number of cool votes received</td>\n",
    "</tr>\n",
    "\n",
    "\n",
    "<tr>\n",
    "<td class=\"org-left\">user.json</td>\n",
    "<td class=\"org-left\">user\\_id</td>\n",
    "<td class=\"org-left\">string, 22 character unique user id, maps to the user in user.json</td>\n",
    "</tr>\n",
    "\n",
    "\n",
    "<tr>\n",
    "<td class=\"org-left\">user.json</td>\n",
    "<td class=\"org-left\">name</td>\n",
    "<td class=\"org-left\">string, the user's first name</td>\n",
    "</tr>\n",
    "\n",
    "\n",
    "<tr>\n",
    "<td class=\"org-left\">user.json</td>\n",
    "<td class=\"org-left\">review\\_count</td>\n",
    "<td class=\"org-left\">integer, the number of reviews they've written</td>\n",
    "</tr>\n",
    "\n",
    "\n",
    "<tr>\n",
    "<td class=\"org-left\">user.json</td>\n",
    "<td class=\"org-left\">yelping\\_since</td>\n",
    "<td class=\"org-left\">string, when the user joined Yelp, formatted like YYYY-MM-DD</td>\n",
    "</tr>\n",
    "\n",
    "\n",
    "<tr>\n",
    "<td class=\"org-left\">user.json</td>\n",
    "<td class=\"org-left\">friends</td>\n",
    "<td class=\"org-left\">array of strings, an array of the user's friend as user\\_ids</td>\n",
    "</tr>\n",
    "\n",
    "\n",
    "<tr>\n",
    "<td class=\"org-left\">user.json</td>\n",
    "<td class=\"org-left\">useful</td>\n",
    "<td class=\"org-left\">integer, number of useful votes sent by the user</td>\n",
    "</tr>\n",
    "\n",
    "\n",
    "<tr>\n",
    "<td class=\"org-left\">user.json</td>\n",
    "<td class=\"org-left\">funny</td>\n",
    "<td class=\"org-left\">integer, number of funny votes sent by the user</td>\n",
    "</tr>\n",
    "\n",
    "\n",
    "<tr>\n",
    "<td class=\"org-left\">user.json</td>\n",
    "<td class=\"org-left\">cool</td>\n",
    "<td class=\"org-left\">integer, number of cool votes sent by the user</td>\n",
    "</tr>\n",
    "\n",
    "\n",
    "<tr>\n",
    "<td class=\"org-left\">user.json</td>\n",
    "<td class=\"org-left\">fans</td>\n",
    "<td class=\"org-left\">integer, number of fans the user has</td>\n",
    "</tr>\n",
    "\n",
    "\n",
    "<tr>\n",
    "<td class=\"org-left\">user.json</td>\n",
    "<td class=\"org-left\">elite</td>\n",
    "<td class=\"org-left\">array of integers, the years the user was elite</td>\n",
    "</tr>\n",
    "\n",
    "\n",
    "<tr>\n",
    "<td class=\"org-left\">user.json</td>\n",
    "<td class=\"org-left\">average\\_stars</td>\n",
    "<td class=\"org-left\">float, average rating of all reviews</td>\n",
    "</tr>\n",
    "\n",
    "\n",
    "<tr>\n",
    "<td class=\"org-left\">user.json</td>\n",
    "<td class=\"org-left\">compliment\\_hot</td>\n",
    "<td class=\"org-left\">integer, number of hot compliments received by the user</td>\n",
    "</tr>\n",
    "\n",
    "\n",
    "<tr>\n",
    "<td class=\"org-left\">user.json</td>\n",
    "<td class=\"org-left\">compliment\\_more</td>\n",
    "<td class=\"org-left\">integer, number of more compliments received by the user</td>\n",
    "</tr>\n",
    "\n",
    "\n",
    "<tr>\n",
    "<td class=\"org-left\">user.json</td>\n",
    "<td class=\"org-left\">compliment\\_profile</td>\n",
    "<td class=\"org-left\">integer, number of profile compliments received by the user</td>\n",
    "</tr>\n",
    "\n",
    "\n",
    "<tr>\n",
    "<td class=\"org-left\">user.json</td>\n",
    "<td class=\"org-left\">compliment\\_cute</td>\n",
    "<td class=\"org-left\">integer, number of cute compliments received by the user</td>\n",
    "</tr>\n",
    "\n",
    "\n",
    "<tr>\n",
    "<td class=\"org-left\">user.json</td>\n",
    "<td class=\"org-left\">compliment\\_list</td>\n",
    "<td class=\"org-left\">integer, number of list compliments received by the user</td>\n",
    "</tr>\n",
    "\n",
    "\n",
    "<tr>\n",
    "<td class=\"org-left\">user.json</td>\n",
    "<td class=\"org-left\">compliment\\_note</td>\n",
    "<td class=\"org-left\">integer, number of note compliments received by the user</td>\n",
    "</tr>\n",
    "\n",
    "\n",
    "<tr>\n",
    "<td class=\"org-left\">user.json</td>\n",
    "<td class=\"org-left\">compliment\\_plain</td>\n",
    "<td class=\"org-left\">integer, number of plain compliments received by the user</td>\n",
    "</tr>\n",
    "\n",
    "\n",
    "<tr>\n",
    "<td class=\"org-left\">user.json</td>\n",
    "<td class=\"org-left\">compliment\\_cool</td>\n",
    "<td class=\"org-left\">integer, number of cool compliments received by the user</td>\n",
    "</tr>\n",
    "\n",
    "\n",
    "<tr>\n",
    "<td class=\"org-left\">user.json</td>\n",
    "<td class=\"org-left\">compliment\\_funny</td>\n",
    "<td class=\"org-left\">integer, number of funny compliments received by the user</td>\n",
    "</tr>\n",
    "\n",
    "\n",
    "<tr>\n",
    "<td class=\"org-left\">user.json</td>\n",
    "<td class=\"org-left\">compliment\\_writer</td>\n",
    "<td class=\"org-left\">integer, number of writer compliments received by the user</td>\n",
    "</tr>\n",
    "\n",
    "\n",
    "<tr>\n",
    "<td class=\"org-left\">user.json</td>\n",
    "<td class=\"org-left\">compliment\\_photos</td>\n",
    "<td class=\"org-left\">integer, number of photo compliments received by the user</td>\n",
    "</tr>\n",
    "\n",
    "\n",
    "<tr>\n",
    "<td class=\"org-left\">checkin.json</td>\n",
    "<td class=\"org-left\">business\\_id</td>\n",
    "<td class=\"org-left\">string, 22 character business id, maps to business in business.json</td>\n",
    "</tr>\n",
    "\n",
    "\n",
    "<tr>\n",
    "<td class=\"org-left\">checkin.json</td>\n",
    "<td class=\"org-left\">date</td>\n",
    "<td class=\"org-left\">string which is a comma-separated list of timestamps for each checkin, each with format YYYY-MM-DD HH:MM:SS</td>\n",
    "</tr>\n",
    "\n",
    "\n",
    "<tr>\n",
    "<td class=\"org-left\">tip.json</td>\n",
    "<td class=\"org-left\">text</td>\n",
    "<td class=\"org-left\">string, text of the tip</td>\n",
    "</tr>\n",
    "\n",
    "\n",
    "<tr>\n",
    "<td class=\"org-left\">tip.json</td>\n",
    "<td class=\"org-left\">date</td>\n",
    "<td class=\"org-left\">string, when the tip was written, formatted like YYYY-MM-DD</td>\n",
    "</tr>\n",
    "\n",
    "\n",
    "<tr>\n",
    "<td class=\"org-left\">tip.json</td>\n",
    "<td class=\"org-left\">compliment\\_count</td>\n",
    "<td class=\"org-left\">integer, how many compliments it has</td>\n",
    "</tr>\n",
    "\n",
    "\n",
    "<tr>\n",
    "<td class=\"org-left\">tip.json</td>\n",
    "<td class=\"org-left\">business\\_id</td>\n",
    "<td class=\"org-left\">string, 22 character business id, maps to business in business.json</td>\n",
    "</tr>\n",
    "\n",
    "\n",
    "<tr>\n",
    "<td class=\"org-left\">tip.json</td>\n",
    "<td class=\"org-left\">user\\_id</td>\n",
    "<td class=\"org-left\">string, 22 character unique user id, maps to the user in user.json</td>\n",
    "</tr>\n",
    "\n",
    "\n",
    "<tr>\n",
    "<td class=\"org-left\">photo.json</td>\n",
    "<td class=\"org-left\">photo\\_id</td>\n",
    "<td class=\"org-left\">string, 22 character unique photo id</td>\n",
    "</tr>\n",
    "\n",
    "\n",
    "<tr>\n",
    "<td class=\"org-left\">photo.json</td>\n",
    "<td class=\"org-left\">business\\_id</td>\n",
    "<td class=\"org-left\">string, 22 character business id, maps to business in business.json</td>\n",
    "</tr>\n",
    "\n",
    "\n",
    "<tr>\n",
    "<td class=\"org-left\">photo.json</td>\n",
    "<td class=\"org-left\">caption</td>\n",
    "<td class=\"org-left\">string, the photo caption, if any</td>\n",
    "</tr>\n",
    "\n",
    "\n",
    "<tr>\n",
    "<td class=\"org-left\">photo.json</td>\n",
    "<td class=\"org-left\">label</td>\n",
    "<td class=\"org-left\">string, the category the photo belongs to, if any</td>\n",
    "</tr>\n",
    "</tbody>\n",
    "</table>\n"
   ]
  },
  {
   "cell_type": "code",
   "execution_count": 1,
   "metadata": {
    "autoscroll": false,
    "ein.hycell": false,
    "ein.tags": "worksheet-0",
    "slideshow": {
     "slide_type": "-"
    }
   },
   "outputs": [],
   "source": [
    "import json\n",
    "import pandas as pd\n",
    "import numpy as np\n",
    "fbusiness=open(\"../data/business.json\")\n",
    "fcheckin=open(\"../data/checkin.json\")\n",
    "fuser=open(\"../data/user.json\")\n",
    "freview=open(\"../data/review.json\")\n",
    "ftip=open(\"../data/tip.json\")\n",
    "fphoto=open(\"../data/photo.json\")\n",
    "featured_cities=[\"Las Vegas\",\"Phoenix\",\"Charlotte\"]\n",
    "df= pd.DataFrame()"
   ]
  },
  {
   "cell_type": "markdown",
   "metadata": {
    "ein.tags": "worksheet-0",
    "slideshow": {
     "slide_type": "-"
    }
   },
   "source": [
    "# Número de cidades"
   ]
  },
  {
   "cell_type": "code",
   "execution_count": 2,
   "metadata": {
    "autoscroll": false,
    "ein.hycell": false,
    "ein.tags": "worksheet-0",
    "slideshow": {
     "slide_type": "-"
    }
   },
   "outputs": [
    {
     "name": "stdout",
     "output_type": "stream",
     "text": [
      "Número de cidades:  1204\n"
     ]
    }
   ],
   "source": [
    "all_data = list()\n",
    "for i, line in enumerate(fbusiness):  \n",
    "    # json to dict\n",
    "    business_json = json.loads(line)\n",
    "    # add to the data collection\n",
    "    all_data.append(business_json['city'])\n",
    "# create the DataFrame\n",
    "df = pd.DataFrame(all_data, columns=['city'])\n",
    "print(\"Número de cidades: \",len(df.city.unique()))\n",
    "# free memory\n",
    "df=[]\n",
    "all_data=[]"
   ]
  },
  {
   "cell_type": "markdown",
   "metadata": {
    "ein.tags": "worksheet-0",
    "slideshow": {
     "slide_type": "-"
    }
   },
   "source": [
    "# business and user dataframe"
   ]
  },
  {
   "cell_type": "code",
   "execution_count": 3,
   "metadata": {
    "autoscroll": false,
    "ein.hycell": false,
    "ein.tags": "worksheet-0",
    "slideshow": {
     "slide_type": "-"
    }
   },
   "outputs": [],
   "source": [
    "all_data = list()\n",
    "fbusiness.seek(0)\n",
    "for i, line in enumerate(fbusiness):  \n",
    "    # json to dict\n",
    "    business_json = json.loads(line)\n",
    "    # add to the data collection\n",
    "    all_data.append(business_json['business_id'])\n",
    "# create the DataFrame\n",
    "df_business = pd.DataFrame(all_data, columns=['business_id'])\n",
    "\n",
    "all_data = list()\n",
    "for i, line in enumerate(fuser):  \n",
    "    # json to dict\n",
    "    user_json = json.loads(line)\n",
    "    # add to the data collection\n",
    "    all_data.append(user_json['user_id'])\n",
    "df_user = pd.DataFrame(all_data, columns=['user_id'])"
   ]
  },
  {
   "cell_type": "markdown",
   "metadata": {
    "ein.tags": "worksheet-0",
    "slideshow": {
     "slide_type": "-"
    }
   },
   "source": [
    "# Número de usuários e business"
   ]
  },
  {
   "cell_type": "code",
   "execution_count": 4,
   "metadata": {
    "autoscroll": false,
    "ein.hycell": false,
    "ein.tags": "worksheet-0",
    "slideshow": {
     "slide_type": "-"
    }
   },
   "outputs": [
    {
     "name": "stdout",
     "output_type": "stream",
     "text": [
      "business_id    192609\n",
      "dtype: int64\n"
     ]
    }
   ],
   "source": [
    "print(df_business.count())\n",
    "df_business=[]"
   ]
  },
  {
   "cell_type": "code",
   "execution_count": 5,
   "metadata": {
    "autoscroll": false,
    "ein.hycell": false,
    "ein.tags": "worksheet-0",
    "slideshow": {
     "slide_type": "-"
    }
   },
   "outputs": [
    {
     "name": "stdout",
     "output_type": "stream",
     "text": [
      "user_id    1637138\n",
      "dtype: int64\n"
     ]
    }
   ],
   "source": [
    "print(df_user.count())\n",
    "df_user=[]"
   ]
  },
  {
   "cell_type": "markdown",
   "metadata": {
    "ein.tags": "worksheet-0",
    "slideshow": {
     "slide_type": "-"
    }
   },
   "source": [
    "# dataframe com user\\_id,business\\_id e city.\n",
    "# Primeiro pega os usuários dos pois através do review"
   ]
  },
  {
   "cell_type": "code",
   "execution_count": 6,
   "metadata": {
    "autoscroll": false,
    "ein.hycell": false,
    "ein.tags": "worksheet-0",
    "slideshow": {
     "slide_type": "-"
    }
   },
   "outputs": [
    {
     "name": "stdout",
     "output_type": "stream",
     "text": [
      "0\n",
      "300000\n",
      "600000\n",
      "900000\n",
      "1200000\n",
      "1500000\n",
      "1800000\n",
      "2100000\n",
      "2400000\n",
      "2700000\n",
      "3000000\n",
      "3300000\n",
      "3600000\n",
      "3900000\n",
      "4200000\n",
      "4500000\n",
      "4800000\n",
      "5100000\n",
      "5400000\n",
      "5700000\n",
      "6000000\n",
      "6300000\n",
      "6600000\n"
     ]
    }
   ],
   "source": [
    "df = pd.DataFrame(columns=['user_id','business_id'])\n",
    "all_data = list()\n",
    "freview.seek(0)\n",
    "for i, line in enumerate(freview):  \n",
    "    if i%300000==0:\n",
    "        print(i)\n",
    "    # json to dict\n",
    "    review_json = json.loads(line)\n",
    "    # add to the data collection\n",
    "    all_data.append([review_json['user_id'],review_json['business_id']])\n",
    "\n",
    "all_data=pd.DataFrame(all_data, columns=['user_id','business_id'])\n",
    "## append all users of review\n",
    "df = df.append(all_data).drop_duplicates().reset_index(drop=True)\n",
    "all_data=[]"
   ]
  },
  {
   "cell_type": "code",
   "execution_count": 7,
   "metadata": {
    "autoscroll": false,
    "ein.hycell": false,
    "ein.tags": "worksheet-0",
    "slideshow": {
     "slide_type": "-"
    }
   },
   "outputs": [
    {
     "name": "stdout",
     "output_type": "stream",
     "text": [
      "                  user_id             business_id\n",
      "0  hG7b0MtEbXx5QzbzE6C_VA  ujmEBvifdJM6h6RLv4wQIg\n",
      "1  yXQM5uF2jS6es16SJzNHfg  NZnhc2sEQy3RmzKTZnqtwQ\n",
      "2  n6-Gk65cPZL6Uz8qRm3NYw  WTqjgwHlXbSFevF32_DJVw\n",
      "3  dacAIZ6fTM6mqwW5uxkskg  ikCg8xy5JIg_NGPx-MSIDA\n",
      "4  ssoyf2_x0EQMed6fgHeMyQ  b1b1eb3uo-w561D0ZfCEiQ\n",
      "user_id        6461396\n",
      "business_id    6461396\n",
      "dtype: int64\n"
     ]
    }
   ],
   "source": [
    "print(df.head())\n",
    "print(df.count())"
   ]
  },
  {
   "cell_type": "markdown",
   "metadata": {
    "ein.tags": "worksheet-0",
    "slideshow": {
     "slide_type": "-"
    }
   },
   "source": [
    "# Pega usuários através dos tips"
   ]
  },
  {
   "cell_type": "code",
   "execution_count": 8,
   "metadata": {
    "autoscroll": false,
    "ein.hycell": false,
    "ein.tags": "worksheet-0",
    "slideshow": {
     "slide_type": "-"
    }
   },
   "outputs": [
    {
     "name": "stdout",
     "output_type": "stream",
     "text": [
      "0\n",
      "300000\n",
      "600000\n",
      "900000\n",
      "1200000\n"
     ]
    }
   ],
   "source": [
    "all_data = list()\n",
    "for i, line in enumerate(ftip):  \n",
    "    if i%300000==0:\n",
    "        print(i)\n",
    "    # json to dict\n",
    "    tip_json = json.loads(line)\n",
    "    # add to the data collection\n",
    "    all_data.append([tip_json['user_id'],tip_json['business_id']])\n",
    "\n",
    "all_data=pd.DataFrame(all_data, columns=['user_id','business_id'])\n",
    "## append all users of tip\n",
    "df = df.append(all_data).drop_duplicates().reset_index(drop=True)\n",
    "\n",
    "all_data=[]"
   ]
  },
  {
   "cell_type": "code",
   "execution_count": 9,
   "metadata": {
    "autoscroll": false,
    "ein.hycell": false,
    "ein.tags": "worksheet-0",
    "slideshow": {
     "slide_type": "-"
    }
   },
   "outputs": [
    {
     "name": "stdout",
     "output_type": "stream",
     "text": [
      "                  user_id             business_id\n",
      "0  hG7b0MtEbXx5QzbzE6C_VA  ujmEBvifdJM6h6RLv4wQIg\n",
      "1  yXQM5uF2jS6es16SJzNHfg  NZnhc2sEQy3RmzKTZnqtwQ\n",
      "2  n6-Gk65cPZL6Uz8qRm3NYw  WTqjgwHlXbSFevF32_DJVw\n",
      "3  dacAIZ6fTM6mqwW5uxkskg  ikCg8xy5JIg_NGPx-MSIDA\n",
      "4  ssoyf2_x0EQMed6fgHeMyQ  b1b1eb3uo-w561D0ZfCEiQ\n",
      "user_id        7118613\n",
      "business_id    7118613\n",
      "dtype: int64\n"
     ]
    }
   ],
   "source": [
    "print(df.head())\n",
    "print(df.count())\n"
   ]
  },
  {
   "cell_type": "markdown",
   "metadata": {
    "ein.tags": "worksheet-0",
    "slideshow": {
     "slide_type": "-"
    }
   },
   "source": [
    "# Cria efetivamente a tripla mencionada anteriormente através da função merge"
   ]
  },
  {
   "cell_type": "code",
   "execution_count": 10,
   "metadata": {
    "autoscroll": false,
    "ein.hycell": false,
    "ein.tags": "worksheet-0",
    "slideshow": {
     "slide_type": "-"
    }
   },
   "outputs": [
    {
     "data": {
      "text/html": [
       "<div>\n",
       "<style scoped>\n",
       "    .dataframe tbody tr th:only-of-type {\n",
       "        vertical-align: middle;\n",
       "    }\n",
       "\n",
       "    .dataframe tbody tr th {\n",
       "        vertical-align: top;\n",
       "    }\n",
       "\n",
       "    .dataframe thead th {\n",
       "        text-align: right;\n",
       "    }\n",
       "</style>\n",
       "<table border=\"1\" class=\"dataframe\">\n",
       "  <thead>\n",
       "    <tr style=\"text-align: right;\">\n",
       "      <th></th>\n",
       "      <th>user_id</th>\n",
       "      <th>business_id</th>\n",
       "      <th>city</th>\n",
       "    </tr>\n",
       "  </thead>\n",
       "  <tbody>\n",
       "    <tr>\n",
       "      <th>0</th>\n",
       "      <td>hG7b0MtEbXx5QzbzE6C_VA</td>\n",
       "      <td>ujmEBvifdJM6h6RLv4wQIg</td>\n",
       "      <td>Las Vegas</td>\n",
       "    </tr>\n",
       "    <tr>\n",
       "      <th>1</th>\n",
       "      <td>RBXSJA372ilErzNwz0jXvQ</td>\n",
       "      <td>ujmEBvifdJM6h6RLv4wQIg</td>\n",
       "      <td>Las Vegas</td>\n",
       "    </tr>\n",
       "    <tr>\n",
       "      <th>2</th>\n",
       "      <td>x3brMMbJrAW9PwW5A6YL5w</td>\n",
       "      <td>ujmEBvifdJM6h6RLv4wQIg</td>\n",
       "      <td>Las Vegas</td>\n",
       "    </tr>\n",
       "    <tr>\n",
       "      <th>3</th>\n",
       "      <td>Skzdl0sWhW88525a1vr59g</td>\n",
       "      <td>ujmEBvifdJM6h6RLv4wQIg</td>\n",
       "      <td>Las Vegas</td>\n",
       "    </tr>\n",
       "    <tr>\n",
       "      <th>4</th>\n",
       "      <td>3Y25VDfnQVcuc33T-U3Z6A</td>\n",
       "      <td>ujmEBvifdJM6h6RLv4wQIg</td>\n",
       "      <td>Las Vegas</td>\n",
       "    </tr>\n",
       "  </tbody>\n",
       "</table>\n",
       "</div>"
      ],
      "text/plain": [
       "                  user_id             business_id       city\n",
       "0  hG7b0MtEbXx5QzbzE6C_VA  ujmEBvifdJM6h6RLv4wQIg  Las Vegas\n",
       "1  RBXSJA372ilErzNwz0jXvQ  ujmEBvifdJM6h6RLv4wQIg  Las Vegas\n",
       "2  x3brMMbJrAW9PwW5A6YL5w  ujmEBvifdJM6h6RLv4wQIg  Las Vegas\n",
       "3  Skzdl0sWhW88525a1vr59g  ujmEBvifdJM6h6RLv4wQIg  Las Vegas\n",
       "4  3Y25VDfnQVcuc33T-U3Z6A  ujmEBvifdJM6h6RLv4wQIg  Las Vegas"
      ]
     },
     "execution_count": 10,
     "metadata": {},
     "output_type": "execute_result"
    }
   ],
   "source": [
    "all_data = list()\n",
    "fbusiness.seek(0)\n",
    "for i, line in enumerate(fbusiness):  \n",
    "    # json to dict\n",
    "    business_json = json.loads(line)\n",
    "    # add to the data collection\n",
    "    all_data.append([business_json['business_id'],business_json['city']])\n",
    "\n",
    "df_business=pd.DataFrame(all_data, columns=['business_id','city'])\n",
    "\n",
    "df = pd.merge(df,df_business,left_on='business_id',right_on='business_id').drop_duplicates().reset_index(drop=True)\n",
    "df_business=[]\n",
    "\n",
    "df.head()"
   ]
  },
  {
   "cell_type": "markdown",
   "metadata": {
    "ein.tags": "worksheet-0",
    "slideshow": {
     "slide_type": "-"
    }
   },
   "source": [
    "# Quantidade de usuários em cada cidade"
   ]
  },
  {
   "cell_type": "code",
   "execution_count": 11,
   "metadata": {
    "autoscroll": false,
    "ein.hycell": false,
    "ein.tags": "worksheet-0",
    "slideshow": {
     "slide_type": "-"
    }
   },
   "outputs": [
    {
     "data": {
      "text/html": [
       "<div>\n",
       "<style scoped>\n",
       "    .dataframe tbody tr th:only-of-type {\n",
       "        vertical-align: middle;\n",
       "    }\n",
       "\n",
       "    .dataframe tbody tr th {\n",
       "        vertical-align: top;\n",
       "    }\n",
       "\n",
       "    .dataframe thead th {\n",
       "        text-align: right;\n",
       "    }\n",
       "</style>\n",
       "<table border=\"1\" class=\"dataframe\">\n",
       "  <thead>\n",
       "    <tr style=\"text-align: right;\">\n",
       "      <th></th>\n",
       "      <th>Users</th>\n",
       "    </tr>\n",
       "    <tr>\n",
       "      <th>city</th>\n",
       "      <th></th>\n",
       "    </tr>\n",
       "  </thead>\n",
       "  <tbody>\n",
       "    <tr>\n",
       "      <th></th>\n",
       "      <td>3</td>\n",
       "    </tr>\n",
       "    <tr>\n",
       "      <th>110 Las Vegas</th>\n",
       "      <td>74</td>\n",
       "    </tr>\n",
       "    <tr>\n",
       "      <th>AGINCOURT</th>\n",
       "      <td>10</td>\n",
       "    </tr>\n",
       "    <tr>\n",
       "      <th>AVON</th>\n",
       "      <td>17</td>\n",
       "    </tr>\n",
       "    <tr>\n",
       "      <th>AZ</th>\n",
       "      <td>3</td>\n",
       "    </tr>\n",
       "  </tbody>\n",
       "</table>\n",
       "</div>"
      ],
      "text/plain": [
       "               Users\n",
       "city                \n",
       "                   3\n",
       "110 Las Vegas     74\n",
       "AGINCOURT         10\n",
       "AVON              17\n",
       "AZ                 3"
      ]
     },
     "execution_count": 11,
     "metadata": {},
     "output_type": "execute_result"
    }
   ],
   "source": [
    "df_user_city = df[['user_id','city']].drop_duplicates().groupby('city').count().rename(columns={'user_id':'Users'})\n",
    "df_user_city.head()"
   ]
  },
  {
   "cell_type": "markdown",
   "metadata": {
    "ein.tags": "worksheet-0",
    "slideshow": {
     "slide_type": "-"
    }
   },
   "source": [
    "# Quantidade de pois em cada cidade"
   ]
  },
  {
   "cell_type": "code",
   "execution_count": 12,
   "metadata": {
    "autoscroll": false,
    "ein.hycell": false,
    "ein.tags": "worksheet-0",
    "slideshow": {
     "slide_type": "-"
    }
   },
   "outputs": [
    {
     "data": {
      "text/html": [
       "<div>\n",
       "<style scoped>\n",
       "    .dataframe tbody tr th:only-of-type {\n",
       "        vertical-align: middle;\n",
       "    }\n",
       "\n",
       "    .dataframe tbody tr th {\n",
       "        vertical-align: top;\n",
       "    }\n",
       "\n",
       "    .dataframe thead th {\n",
       "        text-align: right;\n",
       "    }\n",
       "</style>\n",
       "<table border=\"1\" class=\"dataframe\">\n",
       "  <thead>\n",
       "    <tr style=\"text-align: right;\">\n",
       "      <th></th>\n",
       "      <th>POIs</th>\n",
       "    </tr>\n",
       "    <tr>\n",
       "      <th>city</th>\n",
       "      <th></th>\n",
       "    </tr>\n",
       "  </thead>\n",
       "  <tbody>\n",
       "    <tr>\n",
       "      <th></th>\n",
       "      <td>1</td>\n",
       "    </tr>\n",
       "    <tr>\n",
       "      <th>110 Las Vegas</th>\n",
       "      <td>1</td>\n",
       "    </tr>\n",
       "    <tr>\n",
       "      <th>AGINCOURT</th>\n",
       "      <td>1</td>\n",
       "    </tr>\n",
       "    <tr>\n",
       "      <th>AVON</th>\n",
       "      <td>1</td>\n",
       "    </tr>\n",
       "    <tr>\n",
       "      <th>AZ</th>\n",
       "      <td>1</td>\n",
       "    </tr>\n",
       "  </tbody>\n",
       "</table>\n",
       "</div>"
      ],
      "text/plain": [
       "               POIs\n",
       "city               \n",
       "                  1\n",
       "110 Las Vegas     1\n",
       "AGINCOURT         1\n",
       "AVON              1\n",
       "AZ                1"
      ]
     },
     "execution_count": 12,
     "metadata": {},
     "output_type": "execute_result"
    }
   ],
   "source": [
    "df_poi_city= df[['business_id','city']].drop_duplicates().groupby('city').count().rename(columns={'business_id':'POIs'})\n",
    "df_poi_city.head()"
   ]
  },
  {
   "cell_type": "markdown",
   "metadata": {
    "ein.tags": "worksheet-0",
    "slideshow": {
     "slide_type": "-"
    }
   },
   "source": [
    "# Esparsidade das cidades.\n",
    "Primeiro é pego a quantidade máxima de \"células\" de uma matriz virtual $USER\\times POI$ WHERE POI.city=\"city_name\". Depois disso basta usar a fórmula $1-\\frac{CelulasPreenchidas}{MaxCelulas}$."
   ]
  },
  {
   "cell_type": "code",
   "execution_count": 13,
   "metadata": {
    "autoscroll": false,
    "ein.hycell": false,
    "ein.tags": "worksheet-0",
    "slideshow": {
     "slide_type": "-"
    }
   },
   "outputs": [
    {
     "name": "stdout",
     "output_type": "stream",
     "text": [
      "                Max\n",
      "city               \n",
      "                  3\n",
      "110 Las Vegas    74\n",
      "AGINCOURT        10\n",
      "AVON             17\n",
      "AZ                3\n",
      "...             ...\n",
      "toronto          66\n",
      "verdun            9\n",
      "Île des Soeurs   48\n",
      "Île-des-Soeurs    5\n",
      "​Chandler        20\n",
      "\n",
      "[1204 rows x 1 columns]\n",
      "                Users\n",
      "city                 \n",
      "                    3\n",
      "110 Las Vegas      74\n",
      "AGINCOURT          10\n",
      "AVON               17\n",
      "AZ                  3\n",
      "...               ...\n",
      "toronto            22\n",
      "verdun              9\n",
      "Île des Soeurs     48\n",
      "Île-des-Soeurs      5\n",
      "​Chandler          20\n",
      "\n",
      "[1204 rows x 1 columns]\n",
      "                Sparsity\n",
      "city                    \n",
      "                0.000000\n",
      "110 Las Vegas   0.000000\n",
      "AGINCOURT       0.000000\n",
      "AVON            0.000000\n",
      "AZ              0.000000\n",
      "...                  ...\n",
      "toronto         0.666667\n",
      "verdun          0.000000\n",
      "Île des Soeurs  0.000000\n",
      "Île-des-Soeurs  0.000000\n",
      "​Chandler       0.000000\n",
      "\n",
      "[1204 rows x 1 columns]\n"
     ]
    }
   ],
   "source": [
    "temp1=pd.DataFrame(df_poi_city.values*df_user_city.values, columns=df_poi_city.columns, index=df_poi_city.index).rename(columns={'POIs':'Max'})\n",
    "\n",
    "print(temp1)\n",
    "\n",
    "temp2=df[['user_id','city']].drop_duplicates().reset_index(drop=True)\\\n",
    ".groupby('city').count().rename(columns={'user_id':'Users'})\n",
    "\n",
    "print(temp2)\n",
    "city_sparsity=pd.DataFrame(1-temp2.values/temp1.values,columns=[\"Sparsity\"],index=temp1.index)\n",
    "print(city_sparsity)\n",
    "\n",
    "temp1=None\n",
    "temp2=None\n",
    "# desaloca dataframe city,poi,user\n",
    "df=[]\n",
    "#df[['business_id','city']].drop_duplicates().groupby('city').count().rename(columns={'user_id':'Users'})"
   ]
  },
  {
   "cell_type": "markdown",
   "metadata": {
    "ein.tags": "worksheet-0",
    "slideshow": {
     "slide_type": "-"
    }
   },
   "source": [
    "# Esparsidades de algumas cidades"
   ]
  },
  {
   "cell_type": "code",
   "execution_count": 14,
   "metadata": {
    "autoscroll": false,
    "ein.hycell": false,
    "ein.tags": "worksheet-0",
    "slideshow": {
     "slide_type": "-"
    }
   },
   "outputs": [
    {
     "name": "stdout",
     "output_type": "stream",
     "text": [
      "Sparsity    0.999966\n",
      "Name: Las Vegas, dtype: float64\n",
      "Sparsity    0.999947\n",
      "Name: Phoenix, dtype: float64\n",
      "Sparsity    0.999895\n",
      "Name: Charlotte, dtype: float64\n"
     ]
    }
   ],
   "source": [
    "print(city_sparsity.loc['Las Vegas'],\n",
    "city_sparsity.loc['Phoenix'],\n",
    "city_sparsity.loc['Charlotte'],sep='\\n')"
   ]
  },
  {
   "cell_type": "markdown",
   "metadata": {},
   "source": [
    "# Conteúdo extra\n",
    "Aqui os dados serão explorados para auxiliar na criação de um programa para recomendação. Ou seja, os dados que são necessários para uma recomendação serão colocados no formato de dataframe."
   ]
  },
  {
   "cell_type": "markdown",
   "metadata": {},
   "source": [
    "## Check-in e POIS\n",
    "O check-in foi obtido usando os reviews e tips em um poi(business).\n",
    "\n",
    "Foi feito um dataframe que possui o id do usuário, o id do poi(business) e a quantidade de reviews e tips.\n",
    "\n",
    "É importante notar que o usuário pode ter dado um tip e review no mesmo dia. Poderia contar como 1 check-in um tip e review no mesmo dia. Mas será que o usuário não foi uma vez e deu review depois um tip? É dificil saber o que aconteceu. Pode ter ocorrido realmente 2 check-ins."
   ]
  },
  {
   "cell_type": "code",
   "execution_count": 1,
   "metadata": {},
   "outputs": [
    {
     "name": "stdout",
     "output_type": "stream",
     "text": [
      "0\n",
      "600000\n",
      "1200000\n",
      "1800000\n",
      "2400000\n",
      "3000000\n",
      "3600000\n",
      "4200000\n",
      "4800000\n",
      "5400000\n",
      "6000000\n",
      "6600000\n",
      "Count: user_id        6685900\n",
      "business_id    6685900\n",
      "dtype: int64\n",
      "0\n",
      "600000\n",
      "1200000\n",
      "Count: user_id        7908994\n",
      "business_id    7908994\n",
      "dtype: int64\n",
      "                  user_id             business_id  Count\n",
      "0  hG7b0MtEbXx5QzbzE6C_VA  ujmEBvifdJM6h6RLv4wQIg      2\n",
      "1  yXQM5uF2jS6es16SJzNHfg  NZnhc2sEQy3RmzKTZnqtwQ      1\n",
      "2  n6-Gk65cPZL6Uz8qRm3NYw  WTqjgwHlXbSFevF32_DJVw      1\n",
      "3  dacAIZ6fTM6mqwW5uxkskg  ikCg8xy5JIg_NGPx-MSIDA      1\n",
      "4  ssoyf2_x0EQMed6fgHeMyQ  b1b1eb3uo-w561D0ZfCEiQ      1\n"
     ]
    }
   ],
   "source": [
    "import json\n",
    "import pandas as pd\n",
    "import numpy as np\n",
    "fbusiness=open(\"business.json\")\n",
    "fcheckin=open(\"checkin.json\")\n",
    "fuser=open(\"user.json\")\n",
    "freview=open(\"review.json\")\n",
    "ftip=open(\"tip.json\")\n",
    "fphoto=open(\"photo.json\")\n",
    "featured_cities=[\"Las Vegas\",\"Phoenix\",\"Charlotte\"]\n",
    "df= pd.DataFrame()\n",
    "\n",
    "df = pd.DataFrame(columns=['user_id','business_id'])\n",
    "all_data = list()\n",
    "freview.seek(0)\n",
    "for i, line in enumerate(freview):  \n",
    "    if i%600000==0:\n",
    "        print(i)\n",
    "    # json to dict\n",
    "    review_json = json.loads(line)\n",
    "    # add to the data collection\n",
    "    all_data.append([review_json['user_id'],review_json['business_id']])\n",
    "\n",
    "all_data=pd.DataFrame(all_data, columns=['user_id','business_id'])\n",
    "## append all users of review\n",
    "df = df.append(all_data)\n",
    "print(\"Count:\",df.count())\n",
    "\n",
    "all_data = list()\n",
    "for i, line in enumerate(ftip):  \n",
    "    if i%600000==0:\n",
    "        print(i)\n",
    "    # json to dict\n",
    "    tip_json = json.loads(line)\n",
    "    # add to the data collection\n",
    "    all_data.append([tip_json['user_id'],tip_json['business_id']])\n",
    "\n",
    "all_data=pd.DataFrame(all_data, columns=['user_id','business_id'])\n",
    "## append all users of tip\n",
    "df = df.append(all_data)\n",
    "print(\"Count:\",df.count())\n",
    "\n",
    "df['Count']=df.groupby(['business_id','user_id'])['user_id'].transform('count')\n",
    "\n",
    "print(df.head())\n",
    "all_data=[]\n"
   ]
  },
  {
   "cell_type": "code",
   "execution_count": 4,
   "metadata": {},
   "outputs": [
    {
     "data": {
      "image/png": "[encoded data removed]",
      "text/plain": [
       "<Figure size 432x288 with 1 Axes>"
      ]
     },
     "metadata": {
      "needs_background": "light"
     },
     "output_type": "display_data"
    }
   ],
   "source": [
    "pl = df['Count'].plot(title='Quantidade de check-ins de usuários em POIs.')\n",
    "pl.set_ylabel('Tips e reviews/Check-ins')\n",
    "pl.set_xlabel('index')\n",
    "\n",
    "pl=[]"
   ]
  },
  {
   "cell_type": "code",
   "execution_count": 7,
   "metadata": {},
   "outputs": [
    {
     "data": {
      "text/plain": [
       "count    7.908994e+06\n",
       "mean     1.424507e+00\n",
       "std      3.834914e+00\n",
       "min      1.000000e+00\n",
       "25%      1.000000e+00\n",
       "50%      1.000000e+00\n",
       "75%      1.000000e+00\n",
       "max      2.840000e+02\n",
       "Name: Count, dtype: float64"
      ]
     },
     "execution_count": 7,
     "metadata": {},
     "output_type": "execute_result"
    }
   ],
   "source": [
    "# \n",
    "df['Count'].describe()"
   ]
  },
  {
   "cell_type": "markdown",
   "metadata": {},
   "source": [
    "## Número de 'check-ins'(tips e reviews) dos POIs."
   ]
  },
  {
   "cell_type": "code",
   "execution_count": 7,
   "metadata": {
    "scrolled": true
   },
   "outputs": [
    {
     "data": {
      "text/html": [
       "<div>\n",
       "<style scoped>\n",
       "    .dataframe tbody tr th:only-of-type {\n",
       "        vertical-align: middle;\n",
       "    }\n",
       "\n",
       "    .dataframe tbody tr th {\n",
       "        vertical-align: top;\n",
       "    }\n",
       "\n",
       "    .dataframe thead th {\n",
       "        text-align: right;\n",
       "    }\n",
       "</style>\n",
       "<table border=\"1\" class=\"dataframe\">\n",
       "  <thead>\n",
       "    <tr style=\"text-align: right;\">\n",
       "      <th></th>\n",
       "      <th>business_id</th>\n",
       "      <th>Count</th>\n",
       "    </tr>\n",
       "  </thead>\n",
       "  <tbody>\n",
       "    <tr>\n",
       "      <th>0</th>\n",
       "      <td>--1UhMGODdWsrMastO9DZw</td>\n",
       "      <td>33</td>\n",
       "    </tr>\n",
       "    <tr>\n",
       "      <th>1</th>\n",
       "      <td>--6MefnULPED_I942VcFNA</td>\n",
       "      <td>84</td>\n",
       "    </tr>\n",
       "    <tr>\n",
       "      <th>2</th>\n",
       "      <td>--7zmmkVg-IMGaXbuVd0SQ</td>\n",
       "      <td>84</td>\n",
       "    </tr>\n",
       "    <tr>\n",
       "      <th>3</th>\n",
       "      <td>--8LPVSo5i0Oo61X01sV9A</td>\n",
       "      <td>4</td>\n",
       "    </tr>\n",
       "    <tr>\n",
       "      <th>4</th>\n",
       "      <td>--9QQLMTbFzLJ_oT-ON3Xw</td>\n",
       "      <td>27</td>\n",
       "    </tr>\n",
       "  </tbody>\n",
       "</table>\n",
       "</div>"
      ],
      "text/plain": [
       "              business_id  Count\n",
       "0  --1UhMGODdWsrMastO9DZw     33\n",
       "1  --6MefnULPED_I942VcFNA     84\n",
       "2  --7zmmkVg-IMGaXbuVd0SQ     84\n",
       "3  --8LPVSo5i0Oo61X01sV9A      4\n",
       "4  --9QQLMTbFzLJ_oT-ON3Xw     27"
      ]
     },
     "execution_count": 7,
     "metadata": {},
     "output_type": "execute_result"
    }
   ],
   "source": [
    "# muito lento, poderia ser feito lá atrás sendo executado mais rápido porém não séria possivel explorar os dados linearmente' como está sendo feito. << Isso que foi escrito talvez seja verdade\n",
    "df[['business_id','Count']].groupby('business_id').sum().reset_index(level=0).head()"
   ]
  },
  {
   "cell_type": "markdown",
   "metadata": {},
   "source": [
    "## Número de 'check-ins'(tips e reviews) das cidades."
   ]
  },
  {
   "cell_type": "code",
   "execution_count": 8,
   "metadata": {
    "scrolled": true
   },
   "outputs": [
    {
     "name": "stdout",
     "output_type": "stream",
     "text": [
      "              Count\n",
      "city               \n",
      "Las Vegas   3746876\n",
      "Phoenix     1216025\n",
      "Toronto      768417\n",
      "Scottsdale   663185\n",
      "Charlotte    476125\n"
     ]
    }
   ],
   "source": [
    "all_data = list()\n",
    "fbusiness.seek(0)\n",
    "for i, line in enumerate(fbusiness):  \n",
    "    # json to dict\n",
    "    business_json = json.loads(line)\n",
    "    # add to the data collection\n",
    "    all_data.append([business_json['business_id'],business_json['city']])\n",
    "\n",
    "df_business=pd.DataFrame(all_data, columns=['business_id','city'])\n",
    "\n",
    "df_temp = pd.merge(df[['business_id','Count']].groupby('business_id').sum().reset_index(level=0),df_business,left_on='business_id',right_on='business_id')[['Count','city']].groupby('city').sum()\n",
    "df_business=[]\n",
    "print(df_temp.sort_values(by=['Count'],ascending=[0]).head())\n",
    "df_temp=[]"
   ]
  },
  {
   "cell_type": "markdown",
   "metadata": {},
   "source": [
    "## Most-Popular aplicado a base."
   ]
  },
  {
   "cell_type": "code",
   "execution_count": 16,
   "metadata": {},
   "outputs": [],
   "source": [
    "base=df[['business_id','Count']].groupby('business_id').sum().reset_index(level=0)\n",
    "df=[]\n",
    "\n",
    "\n"
   ]
  },
  {
   "cell_type": "code",
   "execution_count": 17,
   "metadata": {
    "scrolled": true
   },
   "outputs": [
    {
     "data": {
      "text/html": [
       "<div>\n",
       "<style scoped>\n",
       "    .dataframe tbody tr th:only-of-type {\n",
       "        vertical-align: middle;\n",
       "    }\n",
       "\n",
       "    .dataframe tbody tr th {\n",
       "        vertical-align: top;\n",
       "    }\n",
       "\n",
       "    .dataframe thead th {\n",
       "        text-align: right;\n",
       "    }\n",
       "</style>\n",
       "<table border=\"1\" class=\"dataframe\">\n",
       "  <thead>\n",
       "    <tr style=\"text-align: right;\">\n",
       "      <th></th>\n",
       "      <th>business_id</th>\n",
       "      <th>Count</th>\n",
       "    </tr>\n",
       "  </thead>\n",
       "  <tbody>\n",
       "    <tr>\n",
       "      <th>98230</th>\n",
       "      <td>V_TxEdzeEs8P5nGPANOY7A</td>\n",
       "      <td>80865</td>\n",
       "    </tr>\n",
       "    <tr>\n",
       "      <th>89867</th>\n",
       "      <td>Somjllgzu0BxzsSck9V2wQ</td>\n",
       "      <td>48858</td>\n",
       "    </tr>\n",
       "    <tr>\n",
       "      <th>95633</th>\n",
       "      <td>Ujn9v6liwPXOBA2wYzaS1A</td>\n",
       "      <td>39376</td>\n",
       "    </tr>\n",
       "    <tr>\n",
       "      <th>185734</th>\n",
       "      <td>xiNJk32NYbXdL-T3PzE3lQ</td>\n",
       "      <td>32806</td>\n",
       "    </tr>\n",
       "    <tr>\n",
       "      <th>34461</th>\n",
       "      <td>AV6weBrZFFBfRGCbcRGO4g</td>\n",
       "      <td>31430</td>\n",
       "    </tr>\n",
       "    <tr>\n",
       "      <th>161829</th>\n",
       "      <td>pjG0x0xAyaq92KP8ycg4jQ</td>\n",
       "      <td>27901</td>\n",
       "    </tr>\n",
       "    <tr>\n",
       "      <th>178591</th>\n",
       "      <td>vMRWkz0wb3g4HjW_OeAppA</td>\n",
       "      <td>27559</td>\n",
       "    </tr>\n",
       "    <tr>\n",
       "      <th>149815</th>\n",
       "      <td>llZrbubcGWC-kXShnJLyQg</td>\n",
       "      <td>26288</td>\n",
       "    </tr>\n",
       "    <tr>\n",
       "      <th>8573</th>\n",
       "      <td>1s3WA23Cac_p0xWu7mB18A</td>\n",
       "      <td>24072</td>\n",
       "    </tr>\n",
       "    <tr>\n",
       "      <th>106047</th>\n",
       "      <td>YBLVD61RFdP5H-RGLSIPUw</td>\n",
       "      <td>19021</td>\n",
       "    </tr>\n",
       "  </tbody>\n",
       "</table>\n",
       "</div>"
      ],
      "text/plain": [
       "                   business_id  Count\n",
       "98230   V_TxEdzeEs8P5nGPANOY7A  80865\n",
       "89867   Somjllgzu0BxzsSck9V2wQ  48858\n",
       "95633   Ujn9v6liwPXOBA2wYzaS1A  39376\n",
       "185734  xiNJk32NYbXdL-T3PzE3lQ  32806\n",
       "34461   AV6weBrZFFBfRGCbcRGO4g  31430\n",
       "161829  pjG0x0xAyaq92KP8ycg4jQ  27901\n",
       "178591  vMRWkz0wb3g4HjW_OeAppA  27559\n",
       "149815  llZrbubcGWC-kXShnJLyQg  26288\n",
       "8573    1s3WA23Cac_p0xWu7mB18A  24072\n",
       "106047  YBLVD61RFdP5H-RGLSIPUw  19021"
      ]
     },
     "execution_count": 17,
     "metadata": {},
     "output_type": "execute_result"
    }
   ],
   "source": [
    "def mostpopular(dataset):\n",
    "    return dataset.sort_values(['Count'],ascending=[0]).head(10)\n",
    "rec_list=mostpopular(base)\n",
    "rec_list"
   ]
  },
  {
   "cell_type": "code",
   "execution_count": 23,
   "metadata": {},
   "outputs": [
    {
     "data": {
      "text/html": [
       "<div>\n",
       "<style scoped>\n",
       "    .dataframe tbody tr th:only-of-type {\n",
       "        vertical-align: middle;\n",
       "    }\n",
       "\n",
       "    .dataframe tbody tr th {\n",
       "        vertical-align: top;\n",
       "    }\n",
       "\n",
       "    .dataframe thead th {\n",
       "        text-align: right;\n",
       "    }\n",
       "</style>\n",
       "<table border=\"1\" class=\"dataframe\">\n",
       "  <thead>\n",
       "    <tr style=\"text-align: right;\">\n",
       "      <th></th>\n",
       "      <th>business_id</th>\n",
       "      <th>Count</th>\n",
       "    </tr>\n",
       "  </thead>\n",
       "  <tbody>\n",
       "    <tr>\n",
       "      <th>0</th>\n",
       "      <td>V_TxEdzeEs8P5nGPANOY7A</td>\n",
       "      <td>80865</td>\n",
       "    </tr>\n",
       "    <tr>\n",
       "      <th>1</th>\n",
       "      <td>Somjllgzu0BxzsSck9V2wQ</td>\n",
       "      <td>48858</td>\n",
       "    </tr>\n",
       "    <tr>\n",
       "      <th>2</th>\n",
       "      <td>Ujn9v6liwPXOBA2wYzaS1A</td>\n",
       "      <td>39376</td>\n",
       "    </tr>\n",
       "    <tr>\n",
       "      <th>3</th>\n",
       "      <td>xiNJk32NYbXdL-T3PzE3lQ</td>\n",
       "      <td>32806</td>\n",
       "    </tr>\n",
       "    <tr>\n",
       "      <th>4</th>\n",
       "      <td>AV6weBrZFFBfRGCbcRGO4g</td>\n",
       "      <td>31430</td>\n",
       "    </tr>\n",
       "    <tr>\n",
       "      <th>5</th>\n",
       "      <td>pjG0x0xAyaq92KP8ycg4jQ</td>\n",
       "      <td>27901</td>\n",
       "    </tr>\n",
       "    <tr>\n",
       "      <th>6</th>\n",
       "      <td>vMRWkz0wb3g4HjW_OeAppA</td>\n",
       "      <td>27559</td>\n",
       "    </tr>\n",
       "    <tr>\n",
       "      <th>7</th>\n",
       "      <td>llZrbubcGWC-kXShnJLyQg</td>\n",
       "      <td>26288</td>\n",
       "    </tr>\n",
       "    <tr>\n",
       "      <th>8</th>\n",
       "      <td>1s3WA23Cac_p0xWu7mB18A</td>\n",
       "      <td>24072</td>\n",
       "    </tr>\n",
       "    <tr>\n",
       "      <th>9</th>\n",
       "      <td>YBLVD61RFdP5H-RGLSIPUw</td>\n",
       "      <td>19021</td>\n",
       "    </tr>\n",
       "  </tbody>\n",
       "</table>\n",
       "</div>"
      ],
      "text/plain": [
       "              business_id  Count\n",
       "0  V_TxEdzeEs8P5nGPANOY7A  80865\n",
       "1  Somjllgzu0BxzsSck9V2wQ  48858\n",
       "2  Ujn9v6liwPXOBA2wYzaS1A  39376\n",
       "3  xiNJk32NYbXdL-T3PzE3lQ  32806\n",
       "4  AV6weBrZFFBfRGCbcRGO4g  31430\n",
       "5  pjG0x0xAyaq92KP8ycg4jQ  27901\n",
       "6  vMRWkz0wb3g4HjW_OeAppA  27559\n",
       "7  llZrbubcGWC-kXShnJLyQg  26288\n",
       "8  1s3WA23Cac_p0xWu7mB18A  24072\n",
       "9  YBLVD61RFdP5H-RGLSIPUw  19021"
      ]
     },
     "execution_count": 23,
     "metadata": {},
     "output_type": "execute_result"
    }
   ],
   "source": [
    "rec_list=_\n",
    "rec_list.reset_index(drop=True,inplace=True)\n",
    "rec_list"
   ]
  },
  {
   "cell_type": "markdown",
   "metadata": {},
   "source": [
    "# Número médio de vezes que um usuário visita um POI"
   ]
  },
  {
   "cell_type": "code",
   "execution_count": 1,
   "metadata": {},
   "outputs": [],
   "source": [
    "import pandas as pd\n",
    "df=pd.read_csv('../data/review.csv',usecols=['user_id','business_id'])"
   ]
  },
  {
   "cell_type": "code",
   "execution_count": 2,
   "metadata": {},
   "outputs": [],
   "source": [
    "df['Count']=df.groupby(['business_id','user_id'])['user_id'].transform('count')"
   ]
  },
  {
   "cell_type": "code",
   "execution_count": 3,
   "metadata": {},
   "outputs": [
    {
     "data": {
      "text/html": [
       "<div>\n",
       "<style scoped>\n",
       "    .dataframe tbody tr th:only-of-type {\n",
       "        vertical-align: middle;\n",
       "    }\n",
       "\n",
       "    .dataframe tbody tr th {\n",
       "        vertical-align: top;\n",
       "    }\n",
       "\n",
       "    .dataframe thead th {\n",
       "        text-align: right;\n",
       "    }\n",
       "</style>\n",
       "<table border=\"1\" class=\"dataframe\">\n",
       "  <thead>\n",
       "    <tr style=\"text-align: right;\">\n",
       "      <th></th>\n",
       "      <th>user_id</th>\n",
       "      <th>business_id</th>\n",
       "      <th>Count</th>\n",
       "    </tr>\n",
       "  </thead>\n",
       "  <tbody>\n",
       "    <tr>\n",
       "      <th>0</th>\n",
       "      <td>hG7b0MtEbXx5QzbzE6C_VA</td>\n",
       "      <td>ujmEBvifdJM6h6RLv4wQIg</td>\n",
       "      <td>2</td>\n",
       "    </tr>\n",
       "    <tr>\n",
       "      <th>1</th>\n",
       "      <td>yXQM5uF2jS6es16SJzNHfg</td>\n",
       "      <td>NZnhc2sEQy3RmzKTZnqtwQ</td>\n",
       "      <td>1</td>\n",
       "    </tr>\n",
       "    <tr>\n",
       "      <th>2</th>\n",
       "      <td>n6-Gk65cPZL6Uz8qRm3NYw</td>\n",
       "      <td>WTqjgwHlXbSFevF32_DJVw</td>\n",
       "      <td>1</td>\n",
       "    </tr>\n",
       "    <tr>\n",
       "      <th>3</th>\n",
       "      <td>dacAIZ6fTM6mqwW5uxkskg</td>\n",
       "      <td>ikCg8xy5JIg_NGPx-MSIDA</td>\n",
       "      <td>1</td>\n",
       "    </tr>\n",
       "    <tr>\n",
       "      <th>4</th>\n",
       "      <td>ssoyf2_x0EQMed6fgHeMyQ</td>\n",
       "      <td>b1b1eb3uo-w561D0ZfCEiQ</td>\n",
       "      <td>1</td>\n",
       "    </tr>\n",
       "  </tbody>\n",
       "</table>\n",
       "</div>"
      ],
      "text/plain": [
       "                  user_id             business_id  Count\n",
       "0  hG7b0MtEbXx5QzbzE6C_VA  ujmEBvifdJM6h6RLv4wQIg      2\n",
       "1  yXQM5uF2jS6es16SJzNHfg  NZnhc2sEQy3RmzKTZnqtwQ      1\n",
       "2  n6-Gk65cPZL6Uz8qRm3NYw  WTqjgwHlXbSFevF32_DJVw      1\n",
       "3  dacAIZ6fTM6mqwW5uxkskg  ikCg8xy5JIg_NGPx-MSIDA      1\n",
       "4  ssoyf2_x0EQMed6fgHeMyQ  b1b1eb3uo-w561D0ZfCEiQ      1"
      ]
     },
     "execution_count": 3,
     "metadata": {},
     "output_type": "execute_result"
    }
   ],
   "source": [
    "df.head()"
   ]
  },
  {
   "cell_type": "code",
   "execution_count": 5,
   "metadata": {},
   "outputs": [
    {
     "data": {
      "text/html": [
       "<div>\n",
       "<style scoped>\n",
       "    .dataframe tbody tr th:only-of-type {\n",
       "        vertical-align: middle;\n",
       "    }\n",
       "\n",
       "    .dataframe tbody tr th {\n",
       "        vertical-align: top;\n",
       "    }\n",
       "\n",
       "    .dataframe thead th {\n",
       "        text-align: right;\n",
       "    }\n",
       "</style>\n",
       "<table border=\"1\" class=\"dataframe\">\n",
       "  <thead>\n",
       "    <tr style=\"text-align: right;\">\n",
       "      <th></th>\n",
       "      <th>user_id</th>\n",
       "      <th>Count</th>\n",
       "      <th>diffpoisvisited</th>\n",
       "    </tr>\n",
       "  </thead>\n",
       "  <tbody>\n",
       "    <tr>\n",
       "      <th>0</th>\n",
       "      <td>---1lKK3aKOuomHnwAkAow</td>\n",
       "      <td>138</td>\n",
       "      <td>128</td>\n",
       "    </tr>\n",
       "    <tr>\n",
       "      <th>1</th>\n",
       "      <td>---89pEy_h9PvHwcHNbpyg</td>\n",
       "      <td>1</td>\n",
       "      <td>1</td>\n",
       "    </tr>\n",
       "    <tr>\n",
       "      <th>2</th>\n",
       "      <td>---94vtJ_5o_nikEs6hUjg</td>\n",
       "      <td>4</td>\n",
       "      <td>4</td>\n",
       "    </tr>\n",
       "    <tr>\n",
       "      <th>3</th>\n",
       "      <td>---PLwSf5gKdIoVnyRHgBA</td>\n",
       "      <td>2</td>\n",
       "      <td>2</td>\n",
       "    </tr>\n",
       "    <tr>\n",
       "      <th>4</th>\n",
       "      <td>---cu1hq55BP9DWVXXKHZg</td>\n",
       "      <td>3</td>\n",
       "      <td>3</td>\n",
       "    </tr>\n",
       "    <tr>\n",
       "      <th>5</th>\n",
       "      <td>---fhiwiwBYrvqhpXgcWDQ</td>\n",
       "      <td>1</td>\n",
       "      <td>1</td>\n",
       "    </tr>\n",
       "    <tr>\n",
       "      <th>6</th>\n",
       "      <td>---udAKDsn0yQXmzbWQNSw</td>\n",
       "      <td>2</td>\n",
       "      <td>2</td>\n",
       "    </tr>\n",
       "    <tr>\n",
       "      <th>7</th>\n",
       "      <td>--0LlX_UcypHnxW-4BUAdA</td>\n",
       "      <td>1</td>\n",
       "      <td>1</td>\n",
       "    </tr>\n",
       "    <tr>\n",
       "      <th>8</th>\n",
       "      <td>--0RtXvcOIE4XbErYca6Rw</td>\n",
       "      <td>1</td>\n",
       "      <td>1</td>\n",
       "    </tr>\n",
       "    <tr>\n",
       "      <th>9</th>\n",
       "      <td>--0VhLFv2XfEKHL0YSCSuw</td>\n",
       "      <td>1</td>\n",
       "      <td>1</td>\n",
       "    </tr>\n",
       "  </tbody>\n",
       "</table>\n",
       "</div>"
      ],
      "text/plain": [
       "                  user_id  Count  diffpoisvisited\n",
       "0  ---1lKK3aKOuomHnwAkAow    138              128\n",
       "1  ---89pEy_h9PvHwcHNbpyg      1                1\n",
       "2  ---94vtJ_5o_nikEs6hUjg      4                4\n",
       "3  ---PLwSf5gKdIoVnyRHgBA      2                2\n",
       "4  ---cu1hq55BP9DWVXXKHZg      3                3\n",
       "5  ---fhiwiwBYrvqhpXgcWDQ      1                1\n",
       "6  ---udAKDsn0yQXmzbWQNSw      2                2\n",
       "7  --0LlX_UcypHnxW-4BUAdA      1                1\n",
       "8  --0RtXvcOIE4XbErYca6Rw      1                1\n",
       "9  --0VhLFv2XfEKHL0YSCSuw      1                1"
      ]
     },
     "execution_count": 5,
     "metadata": {},
     "output_type": "execute_result"
    }
   ],
   "source": [
    "tmp_merge=pd.merge(\\\n",
    "df[['user_id','Count']].groupby('user_id').sum().reset_index(level=0),\\\n",
    "df[['user_id','business_id']].groupby('user_id').count().reset_index(level=0).rename(columns={\"business_id\":\"diffpoisvisited\"}),\\\n",
    "left_on='user_id',right_on='user_id')\n",
    "tmp_merge.head(10)"
   ]
  },
  {
   "cell_type": "code",
   "execution_count": 6,
   "metadata": {},
   "outputs": [
    {
     "data": {
      "text/html": [
       "<div>\n",
       "<style scoped>\n",
       "    .dataframe tbody tr th:only-of-type {\n",
       "        vertical-align: middle;\n",
       "    }\n",
       "\n",
       "    .dataframe tbody tr th {\n",
       "        vertical-align: top;\n",
       "    }\n",
       "\n",
       "    .dataframe thead th {\n",
       "        text-align: right;\n",
       "    }\n",
       "</style>\n",
       "<table border=\"1\" class=\"dataframe\">\n",
       "  <thead>\n",
       "    <tr style=\"text-align: right;\">\n",
       "      <th></th>\n",
       "      <th>user_id</th>\n",
       "      <th>meanpoivisits</th>\n",
       "    </tr>\n",
       "  </thead>\n",
       "  <tbody>\n",
       "    <tr>\n",
       "      <th>0</th>\n",
       "      <td>---1lKK3aKOuomHnwAkAow</td>\n",
       "      <td>1.078125</td>\n",
       "    </tr>\n",
       "    <tr>\n",
       "      <th>1</th>\n",
       "      <td>---89pEy_h9PvHwcHNbpyg</td>\n",
       "      <td>1.000000</td>\n",
       "    </tr>\n",
       "    <tr>\n",
       "      <th>2</th>\n",
       "      <td>---94vtJ_5o_nikEs6hUjg</td>\n",
       "      <td>1.000000</td>\n",
       "    </tr>\n",
       "    <tr>\n",
       "      <th>3</th>\n",
       "      <td>---PLwSf5gKdIoVnyRHgBA</td>\n",
       "      <td>1.000000</td>\n",
       "    </tr>\n",
       "    <tr>\n",
       "      <th>4</th>\n",
       "      <td>---cu1hq55BP9DWVXXKHZg</td>\n",
       "      <td>1.000000</td>\n",
       "    </tr>\n",
       "    <tr>\n",
       "      <th>5</th>\n",
       "      <td>---fhiwiwBYrvqhpXgcWDQ</td>\n",
       "      <td>1.000000</td>\n",
       "    </tr>\n",
       "    <tr>\n",
       "      <th>6</th>\n",
       "      <td>---udAKDsn0yQXmzbWQNSw</td>\n",
       "      <td>1.000000</td>\n",
       "    </tr>\n",
       "    <tr>\n",
       "      <th>7</th>\n",
       "      <td>--0LlX_UcypHnxW-4BUAdA</td>\n",
       "      <td>1.000000</td>\n",
       "    </tr>\n",
       "    <tr>\n",
       "      <th>8</th>\n",
       "      <td>--0RtXvcOIE4XbErYca6Rw</td>\n",
       "      <td>1.000000</td>\n",
       "    </tr>\n",
       "    <tr>\n",
       "      <th>9</th>\n",
       "      <td>--0VhLFv2XfEKHL0YSCSuw</td>\n",
       "      <td>1.000000</td>\n",
       "    </tr>\n",
       "  </tbody>\n",
       "</table>\n",
       "</div>"
      ],
      "text/plain": [
       "                  user_id  meanpoivisits\n",
       "0  ---1lKK3aKOuomHnwAkAow       1.078125\n",
       "1  ---89pEy_h9PvHwcHNbpyg       1.000000\n",
       "2  ---94vtJ_5o_nikEs6hUjg       1.000000\n",
       "3  ---PLwSf5gKdIoVnyRHgBA       1.000000\n",
       "4  ---cu1hq55BP9DWVXXKHZg       1.000000\n",
       "5  ---fhiwiwBYrvqhpXgcWDQ       1.000000\n",
       "6  ---udAKDsn0yQXmzbWQNSw       1.000000\n",
       "7  --0LlX_UcypHnxW-4BUAdA       1.000000\n",
       "8  --0RtXvcOIE4XbErYca6Rw       1.000000\n",
       "9  --0VhLFv2XfEKHL0YSCSuw       1.000000"
      ]
     },
     "execution_count": 6,
     "metadata": {},
     "output_type": "execute_result"
    }
   ],
   "source": [
    "tmp_merge['meanpoivisits']=tmp_merge['Count']/tmp_merge['diffpoisvisited']\n",
    "tmp_merge[['user_id','meanpoivisits']].head(10)"
   ]
  },
  {
   "cell_type": "code",
   "execution_count": 7,
   "metadata": {},
   "outputs": [
    {
     "data": {
      "text/html": [
       "<div>\n",
       "<style scoped>\n",
       "    .dataframe tbody tr th:only-of-type {\n",
       "        vertical-align: middle;\n",
       "    }\n",
       "\n",
       "    .dataframe tbody tr th {\n",
       "        vertical-align: top;\n",
       "    }\n",
       "\n",
       "    .dataframe thead th {\n",
       "        text-align: right;\n",
       "    }\n",
       "</style>\n",
       "<table border=\"1\" class=\"dataframe\">\n",
       "  <thead>\n",
       "    <tr style=\"text-align: right;\">\n",
       "      <th></th>\n",
       "      <th>user_id</th>\n",
       "      <th>meanpoivisits</th>\n",
       "    </tr>\n",
       "  </thead>\n",
       "  <tbody>\n",
       "    <tr>\n",
       "      <th>530812</th>\n",
       "      <td>JlQ-9fc61X9lbzZN6ZjORQ</td>\n",
       "      <td>16.182131</td>\n",
       "    </tr>\n",
       "    <tr>\n",
       "      <th>1428464</th>\n",
       "      <td>rpVSDBaeDEDhFNQHZIxg8w</td>\n",
       "      <td>12.375000</td>\n",
       "    </tr>\n",
       "    <tr>\n",
       "      <th>945386</th>\n",
       "      <td>ZwfAsk83HofYTimNA7wrvQ</td>\n",
       "      <td>11.636364</td>\n",
       "    </tr>\n",
       "    <tr>\n",
       "      <th>377087</th>\n",
       "      <td>Dl05etq6qzMf5NOskjb7Ag</td>\n",
       "      <td>11.576923</td>\n",
       "    </tr>\n",
       "    <tr>\n",
       "      <th>1614321</th>\n",
       "      <td>z60tKk_Fw6toEbu_s-v7aA</td>\n",
       "      <td>11.000000</td>\n",
       "    </tr>\n",
       "    <tr>\n",
       "      <th>1407904</th>\n",
       "      <td>r1idJyayfkJoDwfkMWJKqQ</td>\n",
       "      <td>11.000000</td>\n",
       "    </tr>\n",
       "    <tr>\n",
       "      <th>637450</th>\n",
       "      <td>Nws4zPJP1n40BtufBUaI7Q</td>\n",
       "      <td>10.571429</td>\n",
       "    </tr>\n",
       "    <tr>\n",
       "      <th>1237408</th>\n",
       "      <td>kLT95trAg0r0irSALdnJog</td>\n",
       "      <td>10.166667</td>\n",
       "    </tr>\n",
       "    <tr>\n",
       "      <th>461717</th>\n",
       "      <td>H3FZ4chGpdm1GzkwUWK3Ng</td>\n",
       "      <td>9.666667</td>\n",
       "    </tr>\n",
       "    <tr>\n",
       "      <th>1522755</th>\n",
       "      <td>vWOc4cnPchZILKsEQ9cxcg</td>\n",
       "      <td>9.461538</td>\n",
       "    </tr>\n",
       "  </tbody>\n",
       "</table>\n",
       "</div>"
      ],
      "text/plain": [
       "                        user_id  meanpoivisits\n",
       "530812   JlQ-9fc61X9lbzZN6ZjORQ      16.182131\n",
       "1428464  rpVSDBaeDEDhFNQHZIxg8w      12.375000\n",
       "945386   ZwfAsk83HofYTimNA7wrvQ      11.636364\n",
       "377087   Dl05etq6qzMf5NOskjb7Ag      11.576923\n",
       "1614321  z60tKk_Fw6toEbu_s-v7aA      11.000000\n",
       "1407904  r1idJyayfkJoDwfkMWJKqQ      11.000000\n",
       "637450   Nws4zPJP1n40BtufBUaI7Q      10.571429\n",
       "1237408  kLT95trAg0r0irSALdnJog      10.166667\n",
       "461717   H3FZ4chGpdm1GzkwUWK3Ng       9.666667\n",
       "1522755  vWOc4cnPchZILKsEQ9cxcg       9.461538"
      ]
     },
     "execution_count": 7,
     "metadata": {},
     "output_type": "execute_result"
    }
   ],
   "source": [
    "tmp_merge[['user_id','meanpoivisits']].sort_values(by='meanpoivisits',ascending=False).head(10)"
   ]
  },
  {
   "cell_type": "markdown",
   "metadata": {},
   "source": [
    "# Pré-processamento para filtragem dos dados\n",
    "\n",
    "Perguntas: qual a ordem de filtragem?"
   ]
  },
  {
   "cell_type": "code",
   "execution_count": 1,
   "metadata": {},
   "outputs": [],
   "source": [
    "import pandas as pd\n",
    "\n",
    "df_review=pd.read_csv(\"../data/review.csv\",usecols=['user_id','business_id'])"
   ]
  },
  {
   "cell_type": "code",
   "execution_count": 2,
   "metadata": {},
   "outputs": [
    {
     "data": {
      "text/plain": [
       "user_id        6685900\n",
       "business_id    6685900\n",
       "dtype: int64"
      ]
     },
     "execution_count": 2,
     "metadata": {},
     "output_type": "execute_result"
    }
   ],
   "source": [
    "df_review.count()"
   ]
  },
  {
   "cell_type": "code",
   "execution_count": 3,
   "metadata": {},
   "outputs": [
    {
     "data": {
      "text/plain": [
       "business_id    140162\n",
       "dtype: int64"
      ]
     },
     "execution_count": 3,
     "metadata": {},
     "output_type": "execute_result"
    }
   ],
   "source": [
    "# df_diff_users_visited contain pois visited by 5>= different users\n",
    "df_diff_users_visited=df_review.drop_duplicates().reset_index(drop=True).groupby('business_id').count().reset_index().rename(columns={\"user_id\":\"diffusersvisited\"})\n",
    "df_diff_users_visited=df_diff_users_visited[df_diff_users_visited['diffusersvisited']>=5]\n",
    "del df_diff_users_visited['diffusersvisited']\n",
    "df_diff_users_visited.count()"
   ]
  },
  {
   "cell_type": "code",
   "execution_count": 4,
   "metadata": {},
   "outputs": [],
   "source": [
    "# filtering in df_review\n",
    "df_review=pd.merge(df_review,df_diff_users_visited,on='business_id',how='inner')\n",
    "df_diff_users_visited=None\n",
    "#df_review=df_review[df_review['business_id']==df_diff_users_visited['business_id']]"
   ]
  },
  {
   "cell_type": "code",
   "execution_count": 8,
   "metadata": {},
   "outputs": [
    {
     "data": {
      "text/html": [
       "<div>\n",
       "<style scoped>\n",
       "    .dataframe tbody tr th:only-of-type {\n",
       "        vertical-align: middle;\n",
       "    }\n",
       "\n",
       "    .dataframe tbody tr th {\n",
       "        vertical-align: top;\n",
       "    }\n",
       "\n",
       "    .dataframe thead th {\n",
       "        text-align: right;\n",
       "    }\n",
       "</style>\n",
       "<table border=\"1\" class=\"dataframe\">\n",
       "  <thead>\n",
       "    <tr style=\"text-align: right;\">\n",
       "      <th></th>\n",
       "      <th>user_id</th>\n",
       "      <th>business_id</th>\n",
       "    </tr>\n",
       "  </thead>\n",
       "  <tbody>\n",
       "    <tr>\n",
       "      <th>0</th>\n",
       "      <td>hG7b0MtEbXx5QzbzE6C_VA</td>\n",
       "      <td>ujmEBvifdJM6h6RLv4wQIg</td>\n",
       "    </tr>\n",
       "    <tr>\n",
       "      <th>1</th>\n",
       "      <td>RBXSJA372ilErzNwz0jXvQ</td>\n",
       "      <td>ujmEBvifdJM6h6RLv4wQIg</td>\n",
       "    </tr>\n",
       "    <tr>\n",
       "      <th>2</th>\n",
       "      <td>x3brMMbJrAW9PwW5A6YL5w</td>\n",
       "      <td>ujmEBvifdJM6h6RLv4wQIg</td>\n",
       "    </tr>\n",
       "    <tr>\n",
       "      <th>3</th>\n",
       "      <td>Skzdl0sWhW88525a1vr59g</td>\n",
       "      <td>ujmEBvifdJM6h6RLv4wQIg</td>\n",
       "    </tr>\n",
       "    <tr>\n",
       "      <th>4</th>\n",
       "      <td>3Y25VDfnQVcuc33T-U3Z6A</td>\n",
       "      <td>ujmEBvifdJM6h6RLv4wQIg</td>\n",
       "    </tr>\n",
       "  </tbody>\n",
       "</table>\n",
       "</div>"
      ],
      "text/plain": [
       "                  user_id             business_id\n",
       "0  hG7b0MtEbXx5QzbzE6C_VA  ujmEBvifdJM6h6RLv4wQIg\n",
       "1  RBXSJA372ilErzNwz0jXvQ  ujmEBvifdJM6h6RLv4wQIg\n",
       "2  x3brMMbJrAW9PwW5A6YL5w  ujmEBvifdJM6h6RLv4wQIg\n",
       "3  Skzdl0sWhW88525a1vr59g  ujmEBvifdJM6h6RLv4wQIg\n",
       "4  3Y25VDfnQVcuc33T-U3Z6A  ujmEBvifdJM6h6RLv4wQIg"
      ]
     },
     "execution_count": 8,
     "metadata": {},
     "output_type": "execute_result"
    }
   ],
   "source": [
    "df_review.head()"
   ]
  },
  {
   "cell_type": "code",
   "execution_count": 6,
   "metadata": {},
   "outputs": [
    {
     "data": {
      "text/plain": [
       "user_id        6505673\n",
       "business_id    6505673\n",
       "dtype: int64"
      ]
     },
     "execution_count": 6,
     "metadata": {},
     "output_type": "execute_result"
    }
   ],
   "source": [
    "df_review.count()"
   ]
  },
  {
   "cell_type": "code",
   "execution_count": 9,
   "metadata": {},
   "outputs": [],
   "source": [
    "df_business=pd.read_csv(\"../data/business.csv\",usecols=['business_id','city'])"
   ]
  },
  {
   "cell_type": "code",
   "execution_count": 10,
   "metadata": {},
   "outputs": [],
   "source": [
    "df = pd.merge(df_review,df_business,on='business_id').drop_duplicates().reset_index(drop=True)\n",
    "df_business=None\n",
    "\n",
    "\n",
    "\n",
    "df_review=None\n",
    "del df['business_id']"
   ]
  },
  {
   "cell_type": "code",
   "execution_count": 11,
   "metadata": {},
   "outputs": [
    {
     "data": {
      "text/html": [
       "<div>\n",
       "<style scoped>\n",
       "    .dataframe tbody tr th:only-of-type {\n",
       "        vertical-align: middle;\n",
       "    }\n",
       "\n",
       "    .dataframe tbody tr th {\n",
       "        vertical-align: top;\n",
       "    }\n",
       "\n",
       "    .dataframe thead th {\n",
       "        text-align: right;\n",
       "    }\n",
       "</style>\n",
       "<table border=\"1\" class=\"dataframe\">\n",
       "  <thead>\n",
       "    <tr style=\"text-align: right;\">\n",
       "      <th></th>\n",
       "      <th>user_id</th>\n",
       "      <th>city</th>\n",
       "    </tr>\n",
       "  </thead>\n",
       "  <tbody>\n",
       "    <tr>\n",
       "      <th>0</th>\n",
       "      <td>hG7b0MtEbXx5QzbzE6C_VA</td>\n",
       "      <td>Las Vegas</td>\n",
       "    </tr>\n",
       "    <tr>\n",
       "      <th>1</th>\n",
       "      <td>RBXSJA372ilErzNwz0jXvQ</td>\n",
       "      <td>Las Vegas</td>\n",
       "    </tr>\n",
       "    <tr>\n",
       "      <th>2</th>\n",
       "      <td>x3brMMbJrAW9PwW5A6YL5w</td>\n",
       "      <td>Las Vegas</td>\n",
       "    </tr>\n",
       "    <tr>\n",
       "      <th>3</th>\n",
       "      <td>Skzdl0sWhW88525a1vr59g</td>\n",
       "      <td>Las Vegas</td>\n",
       "    </tr>\n",
       "    <tr>\n",
       "      <th>4</th>\n",
       "      <td>3Y25VDfnQVcuc33T-U3Z6A</td>\n",
       "      <td>Las Vegas</td>\n",
       "    </tr>\n",
       "  </tbody>\n",
       "</table>\n",
       "</div>"
      ],
      "text/plain": [
       "                  user_id       city\n",
       "0  hG7b0MtEbXx5QzbzE6C_VA  Las Vegas\n",
       "1  RBXSJA372ilErzNwz0jXvQ  Las Vegas\n",
       "2  x3brMMbJrAW9PwW5A6YL5w  Las Vegas\n",
       "3  Skzdl0sWhW88525a1vr59g  Las Vegas\n",
       "4  3Y25VDfnQVcuc33T-U3Z6A  Las Vegas"
      ]
     },
     "execution_count": 11,
     "metadata": {},
     "output_type": "execute_result"
    }
   ],
   "source": [
    "df.head()"
   ]
  },
  {
   "cell_type": "code",
   "execution_count": 12,
   "metadata": {},
   "outputs": [
    {
     "data": {
      "text/html": [
       "<div>\n",
       "<style scoped>\n",
       "    .dataframe tbody tr th:only-of-type {\n",
       "        vertical-align: middle;\n",
       "    }\n",
       "\n",
       "    .dataframe tbody tr th {\n",
       "        vertical-align: top;\n",
       "    }\n",
       "\n",
       "    .dataframe thead th {\n",
       "        text-align: right;\n",
       "    }\n",
       "</style>\n",
       "<table border=\"1\" class=\"dataframe\">\n",
       "  <thead>\n",
       "    <tr style=\"text-align: right;\">\n",
       "      <th></th>\n",
       "      <th>user_id</th>\n",
       "      <th>city</th>\n",
       "    </tr>\n",
       "  </thead>\n",
       "  <tbody>\n",
       "    <tr>\n",
       "      <th>9</th>\n",
       "      <td>46TNf-5T5EcNFRJPYv_nrw</td>\n",
       "      <td>Las Vegas</td>\n",
       "    </tr>\n",
       "    <tr>\n",
       "      <th>10</th>\n",
       "      <td>56iEnLi8jR--2ranjPSQ4w</td>\n",
       "      <td>Las Vegas</td>\n",
       "    </tr>\n",
       "    <tr>\n",
       "      <th>11</th>\n",
       "      <td>i5aJIiQk91PK9Z0aYJpOrg</td>\n",
       "      <td>Las Vegas</td>\n",
       "    </tr>\n",
       "    <tr>\n",
       "      <th>20</th>\n",
       "      <td>Nw6Jza_cb0aqd4PT769Vzw</td>\n",
       "      <td>Las Vegas</td>\n",
       "    </tr>\n",
       "    <tr>\n",
       "      <th>26</th>\n",
       "      <td>3b5EsiTkqgdbxPXz7LfBpA</td>\n",
       "      <td>Las Vegas</td>\n",
       "    </tr>\n",
       "  </tbody>\n",
       "</table>\n",
       "</div>"
      ],
      "text/plain": [
       "                   user_id       city\n",
       "9   46TNf-5T5EcNFRJPYv_nrw  Las Vegas\n",
       "10  56iEnLi8jR--2ranjPSQ4w  Las Vegas\n",
       "11  i5aJIiQk91PK9Z0aYJpOrg  Las Vegas\n",
       "20  Nw6Jza_cb0aqd4PT769Vzw  Las Vegas\n",
       "26  3b5EsiTkqgdbxPXz7LfBpA  Las Vegas"
      ]
     },
     "execution_count": 12,
     "metadata": {},
     "output_type": "execute_result"
    }
   ],
   "source": [
    "# usuarios que fizeram 20 ou mais check-ins na cidade alvo\n",
    "df['Count']=df.groupby(['city','user_id'])['user_id'].transform('count')\n",
    "df=df[df['Count']>=20]\n",
    "del df['Count']\n",
    "df.head()"
   ]
  },
  {
   "cell_type": "code",
   "execution_count": null,
   "metadata": {},
   "outputs": [],
   "source": []
  }
 ],
 "metadata": {
  "kernelspec": {
   "display_name": "Python 3",
   "language": "python",
   "name": "python3"
  },
  "language_info": {
   "codemirror_mode": {
    "name": "ipython",
    "version": 3
   },
   "file_extension": ".py",
   "mimetype": "text/x-python",
   "name": "python",
   "nbconvert_exporter": "python",
   "pygments_lexer": "ipython3",
   "version": "3.7.4"
  },
  "name": "datasetview.ipynb"
 },
 "nbformat": 4,
 "nbformat_minor": 4
}
