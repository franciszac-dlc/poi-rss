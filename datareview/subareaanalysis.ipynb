{
 "cells": [
  {
   "cell_type": "markdown",
   "metadata": {
    "ein.tags": "worksheet-0",
    "slideshow": {
     "slide_type": "-"
    }
   },
   "source": [
    "# Análise de sub-regiões"
   ]
  },
  {
   "cell_type": "code",
   "execution_count": 1,
   "metadata": {
    "autoscroll": false,
    "ein.hycell": false,
    "ein.tags": "worksheet-0",
    "slideshow": {
     "slide_type": "-"
    }
   },
   "outputs": [],
   "source": [
    "import math\n",
    "las_vegas_lat=36.114647\n",
    "las_vegas_long=-115.172813\n",
    "las_vegas_area=351.90 # km^2\n",
    "lat_degree_to_km=110.567# km\n",
    "long_degree_to_km=111.699# km"
   ]
  },
  {
   "cell_type": "code",
   "execution_count": 2,
   "metadata": {
    "autoscroll": false,
    "ein.hycell": false,
    "ein.tags": "worksheet-0",
    "slideshow": {
     "slide_type": "-"
    }
   },
   "outputs": [],
   "source": [
    "from math import radians, cos, sin, asin, sqrt\n",
    "\n",
    "def haversine(lon1, lat1, lon2, lat2):\n",
    "    # deg to rad\n",
    "    lon1, lat1, lon2, lat2 = map(radians, [lon1, lat1, lon2, lat2])\n",
    "    dlon = lon2-lon1\n",
    "    dlat = lat2-lat1\n",
    "    a = sin(dlat/2)**2 + cos(lat1)*cos(lat2)*sin(dlon/2)**2\n",
    "    c = 2*asin(sqrt(a))\n",
    "    r = 6371 # km\n",
    "    return c*r\n",
    "def km_to_deg(value):\n",
    "    return value/haversine(0,0,0,1)"
   ]
  },
  {
   "cell_type": "code",
   "execution_count": 39,
   "metadata": {
    "autoscroll": false,
    "ein.hycell": false,
    "ein.tags": "worksheet-0",
    "slideshow": {
     "slide_type": "-"
    }
   },
   "outputs": [
    {
     "data": {
      "text/plain": [
       "111.19492664455873"
      ]
     },
     "execution_count": 39,
     "metadata": {},
     "output_type": "execute_result"
    }
   ],
   "source": [
    "haversine(0,0,0,1)"
   ]
  },
  {
   "cell_type": "code",
   "execution_count": 3,
   "metadata": {
    "autoscroll": false,
    "ein.hycell": false,
    "ein.tags": "worksheet-0",
    "slideshow": {
     "slide_type": "-"
    }
   },
   "outputs": [
    {
     "data": {
      "text/plain": [
       "36.114647"
      ]
     },
     "execution_count": 3,
     "metadata": {},
     "output_type": "execute_result"
    }
   ],
   "source": [
    "las_vegas_lat"
   ]
  },
  {
   "cell_type": "code",
   "execution_count": 4,
   "metadata": {
    "autoscroll": false,
    "ein.hycell": false,
    "ein.tags": "worksheet-0",
    "slideshow": {
     "slide_type": "-"
    }
   },
   "outputs": [
    {
     "data": {
      "text/plain": [
       "36.28335072063827"
      ]
     },
     "execution_count": 4,
     "metadata": {},
     "output_type": "execute_result"
    }
   ],
   "source": [
    "las_vegas_lat+km_to_deg(math.sqrt(las_vegas_area))"
   ]
  },
  {
   "cell_type": "code",
   "execution_count": 5,
   "metadata": {
    "autoscroll": false,
    "ein.hycell": false,
    "ein.tags": "worksheet-0",
    "slideshow": {
     "slide_type": "-"
    }
   },
   "outputs": [
    {
     "data": {
      "text/plain": [
       "35.94594327936173"
      ]
     },
     "execution_count": 5,
     "metadata": {},
     "output_type": "execute_result"
    }
   ],
   "source": [
    "las_vegas_lat-km_to_deg(math.sqrt(las_vegas_area))"
   ]
  },
  {
   "cell_type": "code",
   "execution_count": 6,
   "metadata": {
    "autoscroll": false,
    "ein.hycell": false,
    "ein.tags": "worksheet-0",
    "slideshow": {
     "slide_type": "-"
    }
   },
   "outputs": [
    {
     "data": {
      "text/plain": [
       "29.51013277712499"
      ]
     },
     "execution_count": 6,
     "metadata": {},
     "output_type": "execute_result"
    }
   ],
   "source": [
    "haversine(0,36.389326,0,36.123935)"
   ]
  },
  {
   "cell_type": "code",
   "execution_count": 7,
   "metadata": {
    "autoscroll": false,
    "ein.hycell": false,
    "ein.tags": "worksheet-0",
    "slideshow": {
     "slide_type": "-"
    }
   },
   "outputs": [
    {
     "data": {
      "text/plain": [
       "42.11763594993774"
      ]
     },
     "execution_count": 7,
     "metadata": {},
     "output_type": "execute_result"
    }
   ],
   "source": [
    "haversine(-115.427600,0,-115.048827,0)"
   ]
  },
  {
   "cell_type": "code",
   "execution_count": 8,
   "metadata": {
    "autoscroll": false,
    "ein.hycell": false,
    "ein.tags": "worksheet-0",
    "slideshow": {
     "slide_type": "-"
    }
   },
   "outputs": [
    {
     "name": "stdout",
     "output_type": "stream",
     "text": [
      "42.11763594993774 * 29.51013277712499 = 1242.8970291412757\n"
     ]
    }
   ],
   "source": [
    "print(_,\"*\",__,\"=\",_*__)\n"
   ]
  },
  {
   "cell_type": "code",
   "execution_count": 10,
   "metadata": {
    "autoscroll": false,
    "ein.hycell": false,
    "ein.tags": "worksheet-0",
    "slideshow": {
     "slide_type": "-"
    }
   },
   "outputs": [
    {
     "data": {
      "text/plain": [
       "{'long': [-115.25716486031914, -115.08846113968087],\n",
       " 'lat': [36.03029513968087, 36.19899886031913]}"
      ]
     },
     "execution_count": 10,
     "metadata": {},
     "output_type": "execute_result"
    }
   ],
   "source": [
    "# lat degree\n",
    "# long degree\n",
    "# area km^2\n",
    "def define_area(lat,long,area):\n",
    "    distance_from_origin=math.sqrt(area)/2\n",
    "    degree_from_origin=km_to_deg(distance_from_origin)\n",
    "    return {\"long\":[long-degree_from_origin,long+degree_from_origin],\n",
    "            \"lat\":[lat-degree_from_origin,lat+degree_from_origin]}\n",
    "define_area(las_vegas_lat,las_vegas_long,las_vegas_area)"
   ]
  },
  {
   "cell_type": "markdown",
   "metadata": {
    "ein.tags": "worksheet-0",
    "slideshow": {
     "slide_type": "-"
    }
   },
   "source": [
    "Resultados imprecisos\n",
    "\n",
    "usar a padrão"
   ]
  },
  {
   "cell_type": "markdown",
   "metadata": {
    "ein.tags": "worksheet-0",
    "slideshow": {
     "slide_type": "-"
    }
   },
   "source": [
    "# Algoritmos sobre área e subárea"
   ]
  },
  {
   "cell_type": "code",
   "execution_count": 33,
   "metadata": {
    "autoscroll": false,
    "ein.hycell": false,
    "ein.tags": "worksheet-0",
    "slideshow": {
     "slide_type": "-"
    }
   },
   "outputs": [
    {
     "name": "stdout",
     "output_type": "stream",
     "text": [
      "Area selected: Las Vegas\n"
     ]
    }
   ],
   "source": [
    "def delimiter_area(case):\n",
    "    if case == 1:\n",
    "        print('Area selected: Las Vegas')\n",
    "        city = \"LasVegas\"\n",
    "        area = {}\n",
    "        area['city'] = city.lower()\n",
    "        area['final_latitude'] = 36.389326\n",
    "        area['initial_latitude'] = 36.123935\n",
    "        area['initial_longitude'] = -115.427600\n",
    "        area['final_longitude'] = -115.048827\n",
    "    elif case == 2: \n",
    "        print('Area selected: Phoenix')\n",
    "        city = \"Phoenix\"\n",
    "        area = {}\n",
    "        area['city'] = city.lower()\n",
    "        area['final_latitude'] = 34.003012\n",
    "        area['initial_latitude'] = 33.006796\n",
    "        area['initial_longitude'] = -112.606674\n",
    "        area['final_longitude'] = -111.381699\n",
    "    #34.995653, -81.034521 35.400766, -80.651372\n",
    "    elif case == 3: \n",
    "        print('Area selected: Charlotte')\n",
    "        city = \"Charlotte\"\n",
    "        area = {}\n",
    "        area['city'] = city.lower()\n",
    "        area['final_latitude'] = 35.400766\n",
    "        area['initial_latitude'] = 34.995653\n",
    "        area['initial_longitude'] = -81.034521\n",
    "        area['final_longitude'] = -80.651372\n",
    "    elif case == 4:\n",
    "        print('Area selected: Madison')\n",
    "        city = \"Madison\"\n",
    "        area = {}\n",
    "        area['city'] = city.lower()\n",
    "        area['final_latitude'] = 43.215156\n",
    "        area['initial_latitude'] = 42.936791\n",
    "        area['initial_longitude'] = -89.608990\n",
    "        area['final_longitude'] = -89.179837\n",
    "    return area\n",
    "\n",
    "area=delimiter_area(1)"
   ]
  },
  {
   "cell_type": "code",
   "execution_count": 35,
   "metadata": {
    "autoscroll": false,
    "ein.hycell": false,
    "ein.tags": "worksheet-0",
    "slideshow": {
     "slide_type": "-"
    }
   },
   "outputs": [],
   "source": [
    "import pandas as pd\n",
    "\n",
    "df_business=pd.read_csv(\"../data/business.csv\",usecols=['business_id','latitude','longitude','city'])"
   ]
  },
  {
   "cell_type": "code",
   "execution_count": 37,
   "metadata": {
    "autoscroll": false,
    "ein.hycell": false,
    "ein.tags": "worksheet-0",
    "slideshow": {
     "slide_type": "-"
    }
   },
   "outputs": [
    {
     "data": {
      "text/html": [
       "<div>\n",
       "<style scoped>\n",
       "    .dataframe tbody tr th:only-of-type {\n",
       "        vertical-align: middle;\n",
       "    }\n",
       "\n",
       "    .dataframe tbody tr th {\n",
       "        vertical-align: top;\n",
       "    }\n",
       "\n",
       "    .dataframe thead th {\n",
       "        text-align: right;\n",
       "    }\n",
       "</style>\n",
       "<table border=\"1\" class=\"dataframe\">\n",
       "  <thead>\n",
       "    <tr style=\"text-align: right;\">\n",
       "      <th></th>\n",
       "      <th>business_id</th>\n",
       "      <th>city</th>\n",
       "      <th>latitude</th>\n",
       "      <th>longitude</th>\n",
       "    </tr>\n",
       "  </thead>\n",
       "  <tbody>\n",
       "    <tr>\n",
       "      <th>20</th>\n",
       "      <td>dFMxzHygTy6F873843dHAA</td>\n",
       "      <td>Las Vegas</td>\n",
       "      <td>36.169993</td>\n",
       "      <td>-115.140685</td>\n",
       "    </tr>\n",
       "    <tr>\n",
       "      <th>21</th>\n",
       "      <td>lxnuq9wJiwLOPJ4uZU2ljg</td>\n",
       "      <td>North Las Vegas</td>\n",
       "      <td>36.225852</td>\n",
       "      <td>-115.132800</td>\n",
       "    </tr>\n",
       "    <tr>\n",
       "      <th>24</th>\n",
       "      <td>BsMdebN4nZySpGTfXr-7yg</td>\n",
       "      <td>Las Vegas</td>\n",
       "      <td>36.271546</td>\n",
       "      <td>-115.264484</td>\n",
       "    </tr>\n",
       "    <tr>\n",
       "      <th>28</th>\n",
       "      <td>iojTeSaoPuxm4WeCzDUA6w</td>\n",
       "      <td>Las Vegas</td>\n",
       "      <td>36.129424</td>\n",
       "      <td>-115.184443</td>\n",
       "    </tr>\n",
       "    <tr>\n",
       "      <th>30</th>\n",
       "      <td>LB6ZyCfUzeX9OLdunHhnOQ</td>\n",
       "      <td>Las Vegas</td>\n",
       "      <td>36.161805</td>\n",
       "      <td>-115.287277</td>\n",
       "    </tr>\n",
       "  </tbody>\n",
       "</table>\n",
       "</div>"
      ],
      "text/plain": [
       "               business_id             city   latitude   longitude\n",
       "20  dFMxzHygTy6F873843dHAA        Las Vegas  36.169993 -115.140685\n",
       "21  lxnuq9wJiwLOPJ4uZU2ljg  North Las Vegas  36.225852 -115.132800\n",
       "24  BsMdebN4nZySpGTfXr-7yg        Las Vegas  36.271546 -115.264484\n",
       "28  iojTeSaoPuxm4WeCzDUA6w        Las Vegas  36.129424 -115.184443\n",
       "30  LB6ZyCfUzeX9OLdunHhnOQ        Las Vegas  36.161805 -115.287277"
      ]
     },
     "execution_count": 37,
     "metadata": {},
     "output_type": "execute_result"
    }
   ],
   "source": [
    "def pois_in_area(area,df_business):\n",
    "    return df_business[(df_business['latitude']>=area['initial_latitude']) &\\\n",
    "                (df_business['latitude']<=area['final_latitude'])&\\\n",
    "                (df_business['longitude']>=area['initial_longitude']) &\\\n",
    "                (df_business['longitude']<=area['final_longitude'])]\n",
    "\n",
    "df_business_in_area=pois_in_area(area,df_business)\n",
    "df_business=None\n",
    "df_business_in_area.head()"
   ]
  },
  {
   "cell_type": "code",
   "execution_count": null,
   "metadata": {
    "autoscroll": false,
    "ein.hycell": false,
    "ein.tags": "worksheet-0",
    "slideshow": {
     "slide_type": "-"
    }
   },
   "outputs": [],
   "source": []
  },
  {
   "cell_type": "code",
   "execution_count": 38,
   "metadata": {
    "autoscroll": false,
    "ein.hycell": false,
    "ein.tags": "worksheet-0",
    "slideshow": {
     "slide_type": "-"
    }
   },
   "outputs": [],
   "source": [
    "del df_business_in_area['city']"
   ]
  },
  {
   "cell_type": "code",
   "execution_count": 80,
   "metadata": {
    "autoscroll": false,
    "ein.hycell": false,
    "ein.tags": "worksheet-0",
    "slideshow": {
     "slide_type": "-"
    }
   },
   "outputs": [
    {
     "data": {
      "text/html": [
       "<div>\n",
       "<style scoped>\n",
       "    .dataframe tbody tr th:only-of-type {\n",
       "        vertical-align: middle;\n",
       "    }\n",
       "\n",
       "    .dataframe tbody tr th {\n",
       "        vertical-align: top;\n",
       "    }\n",
       "\n",
       "    .dataframe thead th {\n",
       "        text-align: right;\n",
       "    }\n",
       "</style>\n",
       "<table border=\"1\" class=\"dataframe\">\n",
       "  <thead>\n",
       "    <tr style=\"text-align: right;\">\n",
       "      <th></th>\n",
       "      <th>business_id</th>\n",
       "      <th>latitude</th>\n",
       "      <th>longitude</th>\n",
       "      <th>subarea_id</th>\n",
       "    </tr>\n",
       "  </thead>\n",
       "  <tbody>\n",
       "    <tr>\n",
       "      <th>20</th>\n",
       "      <td>dFMxzHygTy6F873843dHAA</td>\n",
       "      <td>36.169993</td>\n",
       "      <td>-115.140685</td>\n",
       "      <td>706.0</td>\n",
       "    </tr>\n",
       "    <tr>\n",
       "      <th>21</th>\n",
       "      <td>lxnuq9wJiwLOPJ4uZU2ljg</td>\n",
       "      <td>36.225852</td>\n",
       "      <td>-115.132800</td>\n",
       "      <td>1533.0</td>\n",
       "    </tr>\n",
       "    <tr>\n",
       "      <th>24</th>\n",
       "      <td>BsMdebN4nZySpGTfXr-7yg</td>\n",
       "      <td>36.271546</td>\n",
       "      <td>-115.264484</td>\n",
       "      <td>2246.0</td>\n",
       "    </tr>\n",
       "    <tr>\n",
       "      <th>28</th>\n",
       "      <td>iojTeSaoPuxm4WeCzDUA6w</td>\n",
       "      <td>36.129424</td>\n",
       "      <td>-115.184443</td>\n",
       "      <td>93.0</td>\n",
       "    </tr>\n",
       "    <tr>\n",
       "      <th>30</th>\n",
       "      <td>LB6ZyCfUzeX9OLdunHhnOQ</td>\n",
       "      <td>36.161805</td>\n",
       "      <td>-115.287277</td>\n",
       "      <td>594.0</td>\n",
       "    </tr>\n",
       "  </tbody>\n",
       "</table>\n",
       "</div>"
      ],
      "text/plain": [
       "               business_id   latitude   longitude  subarea_id\n",
       "20  dFMxzHygTy6F873843dHAA  36.169993 -115.140685       706.0\n",
       "21  lxnuq9wJiwLOPJ4uZU2ljg  36.225852 -115.132800      1533.0\n",
       "24  BsMdebN4nZySpGTfXr-7yg  36.271546 -115.264484      2246.0\n",
       "28  iojTeSaoPuxm4WeCzDUA6w  36.129424 -115.184443        93.0\n",
       "30  LB6ZyCfUzeX9OLdunHhnOQ  36.161805 -115.287277       594.0"
      ]
     },
     "execution_count": 80,
     "metadata": {},
     "output_type": "execute_result"
    }
   ],
   "source": [
    "def poi_set_subarea(area,df_business_in_area,distance_km):\n",
    "    '''\n",
    "        area: is for example a city like phoenix, las vegas, new york, etc.\n",
    "        df_business_in_area: is a dataframe of business filtered in a area\n",
    "        distance_km: is the distance of subareas or area in km^2\n",
    "    '''\n",
    "    longitude_delta = abs(area['final_longitude']-area['initial_longitude'])\n",
    "    latitude_delta = abs(area['final_latitude']-area['initial_latitude'])\n",
    "    avg_latitude = (area['initial_latitude']+area['final_latitude'])/2.0\n",
    "    LAT_DEGREE_KM_EQUATOR=111.0 # 110.57\n",
    "    LONG_DEGREE_KM_EQUATOR=111.321 # 111.32\n",
    "    # define step degree in latitude\n",
    "    subarea_latitude_delta_degree = distance_km/LAT_DEGREE_KM_EQUATOR\n",
    "    # define step degree in longitude\n",
    "    subarea_longitude_delta_degree = distance_km/(LONG_DEGREE_KM_EQUATOR * math.cos(avg_latitude * math.pi/180))\n",
    "    # number of subareas\n",
    "    num_subareas = math.ceil(longitude_delta/subarea_longitude_delta_degree) * math.ceil(latitude_delta/subarea_latitude_delta_degree)\n",
    "    \n",
    "    df_business_in_area['subarea_id']=\\\n",
    "    np.abs(np.ceil((df_business_in_area['longitude']-area['final_longitude'])/subarea_longitude_delta_degree))+\\\n",
    "    (np.abs(np.ceil((df_business_in_area['latitude']-area['initial_latitude'])/subarea_latitude_delta_degree))-1)\\\n",
    "    * (np.ceil(longitude_delta/subarea_longitude_delta_degree))\n",
    "#    Code that explains the above logic \n",
    "#\n",
    "#     for index,row in df_business_in_area.iterrows():\n",
    "#         latitude_poi_in_subarea = (row['latitude']-area['initial_latitude'])/subarea_latitude_delta_degree\n",
    "#         longitude_poi_in_subarea = (row['longitude']-area['final_longitude'])/subarea_longitude_delta_degree\n",
    "#         line = abs(math.ceil(latitude_poi_in_subarea))            \n",
    "#         column = abs(math.ceil(longitude_poi_in_subarea))\n",
    "#         subarea_id = column + (line -1) * (math.ceil(longitude_delta/subarea_longitude_delta_degree))\n",
    "#         row['subarea_id']=subarea_id\n",
    "    return df_business_in_area\n",
    "\n",
    "poi_set_subarea(area,df_business_in_area,0.5).head()\n"
   ]
  }
 ],
 "metadata": {
  "kernelspec": {
   "display_name": "Python 3",
   "language": "python",
   "name": "python3"
  },
  "language_info": {
   "codemirror_mode": {
    "name": "ipython",
    "version": 3
   },
   "file_extension": ".py",
   "mimetype": "text/x-python",
   "name": "python",
   "nbconvert_exporter": "python",
   "pygments_lexer": "ipython3",
   "version": "3.7.4"
  },
  "name": "subareaanalysis.ipynb"
 },
 "nbformat": 4,
 "nbformat_minor": 4
}
