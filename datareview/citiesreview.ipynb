{
 "cells": [
  {
   "cell_type": "code",
   "execution_count": 1,
   "metadata": {
    "autoscroll": false,
    "ein.hycell": false,
    "ein.tags": "worksheet-0",
    "slideshow": {
     "slide_type": "-"
    }
   },
   "outputs": [],
   "source": [
    "import sys\n",
    "sys.path.append('../')\n",
    "import numpy as np\n",
    "import pandas as pd\n",
    "import networkx as nx\n",
    "import matplotlib.pyplot as plt\n",
    "import algorithms.areamanager\n",
    "%matplotlib inline\n"
   ]
  },
  {
   "cell_type": "markdown",
   "metadata": {
    "ein.tags": "worksheet-0",
    "slideshow": {
     "slide_type": "-"
    }
   },
   "source": [
    "# Categories analysis"
   ]
  },
  {
   "cell_type": "code",
   "execution_count": 4,
   "metadata": {
    "autoscroll": false,
    "ein.hycell": false,
    "ein.tags": "worksheet-0",
    "slideshow": {
     "slide_type": "-"
    }
   },
   "outputs": [],
   "source": [
    "df_categories=pd.read_json(\"../data/categories.json\")\n",
    "\n",
    "# dicionário alias title 2 way\n",
    "dict_alias_title=dict()\n",
    "for index, row in df_categories.iterrows():\n",
    "    dict_alias_title[row['alias']]=row['title']\n",
    "    dict_alias_title[row['title']]=row['alias']\n",
    "\n",
    "\n",
    "category_tree= nx.DiGraph()\n",
    "for index, row in df_categories.iterrows():\n",
    "    if not row['parents']:\n",
    "        category_tree.add_edge(row['alias'],'root') # root node if no parents\n",
    "    else:\n",
    "        for parent_label in row['parents']:\n",
    "            category_tree.add_edge(row['alias'],parent_label)\n",
    "\n",
    "undirected_category_tree=category_tree.to_undirected()\n",
    "# dict alias depth\n",
    "dict_alias_depth=dict()\n",
    "for index, row in df_categories.iterrows():\n",
    "    dict_alias_depth[row['alias']]=nx.shortest_path_length(category_tree,row['alias'],'root')\n",
    "dict_alias_depth['root']=0\n",
    "df_categories=None"
   ]
  },
  {
   "cell_type": "code",
   "execution_count": 5,
   "metadata": {
    "autoscroll": false,
    "ein.hycell": false,
    "ein.tags": "worksheet-0",
    "slideshow": {
     "slide_type": "-"
    }
   },
   "outputs": [
    {
     "name": "stdout",
     "output_type": "stream",
     "text": [
      "Número de categorias sem filtragem: 1566\n"
     ]
    }
   ],
   "source": [
    "print(\"Número de categorias sem filtragem:\",len(category_tree))"
   ]
  },
  {
   "cell_type": "code",
   "execution_count": 6,
   "metadata": {
    "autoscroll": false,
    "ein.hycell": false,
    "ein.tags": "worksheet-0",
    "slideshow": {
     "slide_type": "-"
    }
   },
   "outputs": [
    {
     "data": {
      "text/plain": [
       "[1, 22, 997, 527, 19]"
      ]
     },
     "execution_count": 6,
     "metadata": {},
     "output_type": "execute_result"
    }
   ],
   "source": [
    "count_nodes_in_depth=[0,0,0,0,0]\n",
    "for category in category_tree.nodes:\n",
    "    if count_nodes_in_depth[dict_alias_depth[category]] is None:\n",
    "        count_nodes_in_depth[dict_alias_depth[category]]\n",
    "    else:\n",
    "        count_nodes_in_depth[dict_alias_depth[category]]=count_nodes_in_depth[dict_alias_depth[category]]+1\n",
    "count_nodes_in_depth"
   ]
  },
  {
   "cell_type": "code",
   "execution_count": 20,
   "metadata": {
    "autoscroll": false,
    "ein.hycell": false,
    "ein.tags": "worksheet-0",
    "slideshow": {
     "slide_type": "-"
    }
   },
   "outputs": [
    {
     "data": {
      "text/plain": [
       "<matplotlib.axes._subplots.AxesSubplot at 0x7fec2baab390>"
      ]
     },
     "execution_count": 20,
     "metadata": {},
     "output_type": "execute_result"
    },
    {
     "data": {
      "image/png": "[encoded data removed]",
      "text/plain": [
       "<Figure size 432x288 with 1 Axes>"
      ]
     },
     "metadata": {},
     "output_type": "display_data"
    }
   ],
   "source": [
    "df=pd.DataFrame(count_nodes_in_depth,columns=['Quantidade de categorias'])\n",
    "df.index.names=['Nivel']\n",
    "df.plot(kind='bar')"
   ]
  },
  {
   "cell_type": "code",
   "execution_count": 23,
   "metadata": {
    "autoscroll": false,
    "ein.hycell": false,
    "ein.tags": "worksheet-0",
    "slideshow": {
     "slide_type": "-"
    }
   },
   "outputs": [
    {
     "data": {
      "text/html": [
       "<div>\n",
       "<style scoped>\n",
       "    .dataframe tbody tr th:only-of-type {\n",
       "        vertical-align: middle;\n",
       "    }\n",
       "\n",
       "    .dataframe tbody tr th {\n",
       "        vertical-align: top;\n",
       "    }\n",
       "\n",
       "    .dataframe thead th {\n",
       "        text-align: right;\n",
       "    }\n",
       "</style>\n",
       "<table border=\"1\" class=\"dataframe\">\n",
       "  <thead>\n",
       "    <tr style=\"text-align: right;\">\n",
       "      <th></th>\n",
       "      <th>Quantidade de categorias</th>\n",
       "    </tr>\n",
       "    <tr>\n",
       "      <th>Nivel</th>\n",
       "      <th></th>\n",
       "    </tr>\n",
       "  </thead>\n",
       "  <tbody>\n",
       "    <tr>\n",
       "      <th>0</th>\n",
       "      <td>1</td>\n",
       "    </tr>\n",
       "    <tr>\n",
       "      <th>1</th>\n",
       "      <td>22</td>\n",
       "    </tr>\n",
       "    <tr>\n",
       "      <th>2</th>\n",
       "      <td>997</td>\n",
       "    </tr>\n",
       "    <tr>\n",
       "      <th>3</th>\n",
       "      <td>527</td>\n",
       "    </tr>\n",
       "    <tr>\n",
       "      <th>4</th>\n",
       "      <td>19</td>\n",
       "    </tr>\n",
       "  </tbody>\n",
       "</table>\n",
       "</div>"
      ],
      "text/plain": [
       "       Quantidade de categorias\n",
       "Nivel                          \n",
       "0                             1\n",
       "1                            22\n",
       "2                           997\n",
       "3                           527\n",
       "4                            19"
      ]
     },
     "execution_count": 23,
     "metadata": {},
     "output_type": "execute_result"
    }
   ],
   "source": [
    "df"
   ]
  },
  {
   "cell_type": "markdown",
   "metadata": {
    "ein.tags": "worksheet-0",
    "slideshow": {
     "slide_type": "-"
    }
   },
   "source": [
    "# Review and tip dataset "
   ]
  },
  {
   "cell_type": "code",
   "execution_count": 2,
   "metadata": {
    "autoscroll": false,
    "ein.hycell": false,
    "ein.tags": "worksheet-0",
    "slideshow": {
     "slide_type": "-"
    }
   },
   "outputs": [],
   "source": [
    "columns=[('general','users'),\n",
    "         ('general','pois'),\n",
    "         ('general','checkins'),\n",
    "         ('general','categories'),\n",
    "         ('general','subareas'),\n",
    "         ('general','pois/users'),\n",
    "         ('general','checkins/users'),\n",
    "         ('general','checkins/pois'),\n",
    "         ('general','pois/subareas'),\n",
    "         ('user_diff_checkins','mean'),\n",
    "         ('user_diff_checkins','std'),\n",
    "         ('user_diff_checkins','25%'),\n",
    "         ('user_diff_checkins','50%'),\n",
    "         ('user_diff_checkins','75%'),\n",
    "         ('user_checkins','mean'),\n",
    "         ('user_checkins','std'),\n",
    "         ('user_checkins','25%'),\n",
    "         ('user_checkins','50%'),\n",
    "         ('user_checkins','75%'),\n",
    "         ('subareas_poi','count'),\n",
    "         ('subareas_poi','mean'),\n",
    "         ('subareas_poi','std'),\n",
    "         ('subareas_poi','25%'),\n",
    "         ('subareas_poi','50%'),\n",
    "         ('subareas_poi','75%'),\n",
    "         ('subareas_checkin','count'),\n",
    "         ('subareas_checkin','mean'),\n",
    "         ('subareas_checkin','std'),\n",
    "         ('subareas_checkin','25%'),\n",
    "         ('subareas_checkin','50%'),\n",
    "         ('subareas_checkin','75%')]\n",
    "\n",
    "df_city_info=pd.DataFrame(columns=pd.MultiIndex.from_tuples(columns))\n",
    "df_city_info.index.name=\"city\"\n"
   ]
  },
  {
   "cell_type": "code",
   "execution_count": 3,
   "metadata": {
    "autoscroll": false,
    "ein.hycell": false,
    "ein.tags": "worksheet-0",
    "slideshow": {
     "slide_type": "-"
    }
   },
   "outputs": [],
   "source": [
    "def string_to_array(string):\n",
    "    if string == '':\n",
    "        return list()\n",
    "    return eval(string)\n",
    "def cities_info_generator(city_name):\n",
    "    df_city_checkin=pd.read_csv(\"../data/checkin/\"+city_name+\".csv\",converters={'categories':string_to_array})\n",
    "    df_city_checkin.head()\n",
    "    df_city_poi=pd.read_csv(\"../data/poi/\"+city_name+\".csv\",converters={'categories':string_to_array})\n",
    "    df_city_poi.head()\n",
    "    # number of users\n",
    "    users=df_city_checkin['user_id'].nunique()\n",
    "    # number of pois\n",
    "    pois=df_city_poi['business_id'].count()\n",
    "    # number of check-ins\n",
    "    checkins=df_city_checkin['date'].count()\n",
    "    # number of categories\n",
    "    categories_in_city=set()\n",
    "    df_city_checkin.apply(lambda checkin: categories_in_city.update(checkin['categories']),axis=1)\n",
    "    categories=len(categories_in_city)\n",
    "\n",
    "    subareas=df_city_poi['subarea_id'].nunique()\n",
    "    pois_per_users=pois/users\n",
    "    checkins_per_users=checkins/users\n",
    "    checkins_per_pois=checkins/pois\n",
    "    poi_per_subarea=pois/subareas\n",
    "\n",
    "    # diff pois visited, mean of diff pois visited of users\n",
    "    user_diff_checkins=df_city_checkin[['user_id','business_id','date']].groupby(['user_id','business_id']).count().groupby('user_id').count()['date'].describe()\n",
    "    # number check-ins of a user, mean of users check-ins on pois\n",
    "    user_checkins=df_city_checkin[['user_id','business_id','date']].groupby(['user_id','business_id']).count().groupby('user_id').sum()['date'].describe()\n",
    "\n",
    "    # subareas poi\n",
    "    subareas_poi=df_city_poi[['subarea_id','business_id']].groupby('subarea_id').count().describe()['business_id']\n",
    "    subareas_checkin=df_city_checkin[['subarea_id','user_id']].groupby('subarea_id').count().describe()['user_id']\n",
    "    p=df_city_poi[['subarea_id','business_id']].groupby('subarea_id').count().sort_values(by='business_id',ascending=False).reset_index(drop=True).reset_index().plot.scatter(\n",
    "        x=0,y=\"business_id\")\n",
    "    p.set_ylabel(\"Número de POIs\")\n",
    "    p.set_xlabel(\"ID subárea\")\n",
    "\n",
    "    p=df_city_checkin[['subarea_id','user_id']].groupby('subarea_id').count().sort_values(by='user_id',ascending=False).reset_index(drop=True).reset_index().plot.scatter(x=0,y=\"user_id\")\n",
    "    p.set_ylabel(\"Número de check-ins\")\n",
    "    p.set_xlabel(\"ID subárea\")\n",
    "\n",
    "    df_city_info.loc[city_name]= [users,pois,checkins,categories,subareas,\n",
    "                                pois_per_users,checkins_per_users,checkins_per_pois,poi_per_subarea,\n",
    "                                user_diff_checkins['mean'],\n",
    "                                user_diff_checkins['std'],\n",
    "                                user_diff_checkins['25%'],\n",
    "                                user_diff_checkins['50%'],\n",
    "                                user_diff_checkins['75%'],\n",
    "                                user_checkins['mean'],user_checkins['std'],\n",
    "                                user_checkins['25%'],user_checkins['50%'],\n",
    "                                user_checkins['75%'],\n",
    "                                subareas_poi['count'],\n",
    "                                subareas_poi['mean'],\n",
    "                                subareas_poi['std'],\n",
    "                                subareas_poi['25%'],\n",
    "                                subareas_poi['50%'],\n",
    "                                subareas_poi['75%'],\n",
    "                                subareas_checkin['count'],\n",
    "                                subareas_checkin['mean'],\n",
    "                                subareas_checkin['std'],\n",
    "                                subareas_checkin['25%'],\n",
    "                                subareas_checkin['50%'],\n",
    "                                subareas_checkin['75%']]\n"
   ]
  },
  {
   "cell_type": "code",
   "execution_count": 4,
   "metadata": {
    "autoscroll": false,
    "ein.hycell": false,
    "ein.tags": "worksheet-0",
    "slideshow": {
     "slide_type": "-"
    }
   },
   "outputs": [
    {
     "data": {
      "image/png": "[encoded data removed]",
      "text/plain": [
       "<Figure size 432x288 with 1 Axes>"
      ]
     },
     "metadata": {},
     "output_type": "display_data"
    },
    {
     "data": {
      "image/png": "[encoded data removed]",
      "text/plain": [
       "<Figure size 432x288 with 1 Axes>"
      ]
     },
     "metadata": {},
     "output_type": "display_data"
    }
   ],
   "source": [
    "cities_info_generator(\"lasvegas\")"
   ]
  },
  {
   "cell_type": "code",
   "execution_count": 5,
   "metadata": {
    "autoscroll": false,
    "ein.hycell": false,
    "ein.tags": "worksheet-0",
    "slideshow": {
     "slide_type": "-"
    }
   },
   "outputs": [
    {
     "data": {
      "image/png": "[encoded data removed]",
      "text/plain": [
       "<Figure size 432x288 with 1 Axes>"
      ]
     },
     "metadata": {},
     "output_type": "display_data"
    },
    {
     "data": {
      "image/png": "[encoded data removed]",
      "text/plain": [
       "<Figure size 432x288 with 1 Axes>"
      ]
     },
     "metadata": {},
     "output_type": "display_data"
    }
   ],
   "source": [
    "cities_info_generator(\"phoenix\")"
   ]
  },
  {
   "cell_type": "code",
   "execution_count": 6,
   "metadata": {
    "autoscroll": false,
    "ein.hycell": false,
    "ein.tags": "worksheet-0",
    "slideshow": {
     "slide_type": "-"
    }
   },
   "outputs": [
    {
     "data": {
      "image/png": "[encoded data removed]",
      "text/plain": [
       "<Figure size 432x288 with 1 Axes>"
      ]
     },
     "metadata": {},
     "output_type": "display_data"
    },
    {
     "data": {
      "image/png": "[encoded data removed]",
      "text/plain": [
       "<Figure size 432x288 with 1 Axes>"
      ]
     },
     "metadata": {},
     "output_type": "display_data"
    }
   ],
   "source": [
    "cities_info_generator(\"charlotte\")"
   ]
  },
  {
   "cell_type": "code",
   "execution_count": 7,
   "metadata": {
    "autoscroll": false,
    "ein.hycell": false,
    "ein.tags": "worksheet-0",
    "slideshow": {
     "slide_type": "-"
    }
   },
   "outputs": [
    {
     "data": {
      "image/png": "[encoded data removed]",
      "text/plain": [
       "<Figure size 432x288 with 1 Axes>"
      ]
     },
     "metadata": {},
     "output_type": "display_data"
    },
    {
     "data": {
      "image/png": "[encoded data removed]",
      "text/plain": [
       "<Figure size 432x288 with 1 Axes>"
      ]
     },
     "metadata": {},
     "output_type": "display_data"
    }
   ],
   "source": [
    "cities_info_generator(\"madison\")"
   ]
  },
  {
   "cell_type": "code",
   "execution_count": 8,
   "metadata": {
    "autoscroll": false,
    "ein.hycell": false,
    "ein.tags": "worksheet-0",
    "slideshow": {
     "slide_type": "-"
    }
   },
   "outputs": [
    {
     "data": {
      "text/html": [
       "<div>\n",
       "<style scoped>\n",
       "    .dataframe tbody tr th:only-of-type {\n",
       "        vertical-align: middle;\n",
       "    }\n",
       "\n",
       "    .dataframe tbody tr th {\n",
       "        vertical-align: top;\n",
       "    }\n",
       "\n",
       "    .dataframe thead tr th {\n",
       "        text-align: left;\n",
       "    }\n",
       "\n",
       "    .dataframe thead tr:last-of-type th {\n",
       "        text-align: right;\n",
       "    }\n",
       "</style>\n",
       "<table border=\"1\" class=\"dataframe\">\n",
       "  <thead>\n",
       "    <tr>\n",
       "      <th></th>\n",
       "      <th colspan=\"9\" halign=\"left\">general</th>\n",
       "      <th>user_diff_checkins</th>\n",
       "      <th>...</th>\n",
       "      <th colspan=\"4\" halign=\"left\">subareas_poi</th>\n",
       "      <th colspan=\"6\" halign=\"left\">subareas_checkin</th>\n",
       "    </tr>\n",
       "    <tr>\n",
       "      <th></th>\n",
       "      <th>users</th>\n",
       "      <th>pois</th>\n",
       "      <th>checkins</th>\n",
       "      <th>categories</th>\n",
       "      <th>subareas</th>\n",
       "      <th>pois/users</th>\n",
       "      <th>checkins/users</th>\n",
       "      <th>checkins/pois</th>\n",
       "      <th>pois/subareas</th>\n",
       "      <th>mean</th>\n",
       "      <th>...</th>\n",
       "      <th>std</th>\n",
       "      <th>25%</th>\n",
       "      <th>50%</th>\n",
       "      <th>75%</th>\n",
       "      <th>count</th>\n",
       "      <th>mean</th>\n",
       "      <th>std</th>\n",
       "      <th>25%</th>\n",
       "      <th>50%</th>\n",
       "      <th>75%</th>\n",
       "    </tr>\n",
       "    <tr>\n",
       "      <th>city</th>\n",
       "      <th></th>\n",
       "      <th></th>\n",
       "      <th></th>\n",
       "      <th></th>\n",
       "      <th></th>\n",
       "      <th></th>\n",
       "      <th></th>\n",
       "      <th></th>\n",
       "      <th></th>\n",
       "      <th></th>\n",
       "      <th></th>\n",
       "      <th></th>\n",
       "      <th></th>\n",
       "      <th></th>\n",
       "      <th></th>\n",
       "      <th></th>\n",
       "      <th></th>\n",
       "      <th></th>\n",
       "      <th></th>\n",
       "      <th></th>\n",
       "      <th></th>\n",
       "    </tr>\n",
       "  </thead>\n",
       "  <tbody>\n",
       "    <tr>\n",
       "      <th>lasvegas</th>\n",
       "      <td>6189.0</td>\n",
       "      <td>17011.0</td>\n",
       "      <td>311191.0</td>\n",
       "      <td>1013.0</td>\n",
       "      <td>1322.0</td>\n",
       "      <td>2.748586</td>\n",
       "      <td>50.281306</td>\n",
       "      <td>18.293516</td>\n",
       "      <td>12.867625</td>\n",
       "      <td>39.555825</td>\n",
       "      <td>...</td>\n",
       "      <td>21.936041</td>\n",
       "      <td>1.0</td>\n",
       "      <td>4.0</td>\n",
       "      <td>15.0</td>\n",
       "      <td>1115.0</td>\n",
       "      <td>279.095067</td>\n",
       "      <td>739.281447</td>\n",
       "      <td>7.0</td>\n",
       "      <td>35.0</td>\n",
       "      <td>217.0</td>\n",
       "    </tr>\n",
       "    <tr>\n",
       "      <th>phoenix</th>\n",
       "      <td>18507.0</td>\n",
       "      <td>56712.0</td>\n",
       "      <td>990314.0</td>\n",
       "      <td>1141.0</td>\n",
       "      <td>6066.0</td>\n",
       "      <td>3.064354</td>\n",
       "      <td>53.510239</td>\n",
       "      <td>17.462160</td>\n",
       "      <td>9.349159</td>\n",
       "      <td>44.916680</td>\n",
       "      <td>...</td>\n",
       "      <td>16.527987</td>\n",
       "      <td>1.0</td>\n",
       "      <td>3.0</td>\n",
       "      <td>11.0</td>\n",
       "      <td>5087.0</td>\n",
       "      <td>194.675447</td>\n",
       "      <td>532.287609</td>\n",
       "      <td>6.0</td>\n",
       "      <td>28.0</td>\n",
       "      <td>146.0</td>\n",
       "    </tr>\n",
       "    <tr>\n",
       "      <th>charlotte</th>\n",
       "      <td>2721.0</td>\n",
       "      <td>12100.0</td>\n",
       "      <td>159879.0</td>\n",
       "      <td>864.0</td>\n",
       "      <td>1663.0</td>\n",
       "      <td>4.446895</td>\n",
       "      <td>58.757442</td>\n",
       "      <td>13.213140</td>\n",
       "      <td>7.276007</td>\n",
       "      <td>49.356487</td>\n",
       "      <td>...</td>\n",
       "      <td>13.657366</td>\n",
       "      <td>1.0</td>\n",
       "      <td>2.0</td>\n",
       "      <td>8.0</td>\n",
       "      <td>1256.0</td>\n",
       "      <td>127.292197</td>\n",
       "      <td>378.609866</td>\n",
       "      <td>5.0</td>\n",
       "      <td>20.0</td>\n",
       "      <td>93.0</td>\n",
       "    </tr>\n",
       "    <tr>\n",
       "      <th>madison</th>\n",
       "      <td>1022.0</td>\n",
       "      <td>4815.0</td>\n",
       "      <td>52763.0</td>\n",
       "      <td>678.0</td>\n",
       "      <td>711.0</td>\n",
       "      <td>4.711350</td>\n",
       "      <td>51.627202</td>\n",
       "      <td>10.958048</td>\n",
       "      <td>6.772152</td>\n",
       "      <td>44.302348</td>\n",
       "      <td>...</td>\n",
       "      <td>13.940471</td>\n",
       "      <td>1.0</td>\n",
       "      <td>2.0</td>\n",
       "      <td>7.0</td>\n",
       "      <td>545.0</td>\n",
       "      <td>96.812844</td>\n",
       "      <td>300.596548</td>\n",
       "      <td>6.0</td>\n",
       "      <td>20.0</td>\n",
       "      <td>75.0</td>\n",
       "    </tr>\n",
       "  </tbody>\n",
       "</table>\n",
       "<p>4 rows × 31 columns</p>\n",
       "</div>"
      ],
      "text/plain": [
       "           general                                                    \\\n",
       "             users     pois  checkins categories subareas pois/users   \n",
       "city                                                                   \n",
       "lasvegas    6189.0  17011.0  311191.0     1013.0   1322.0   2.748586   \n",
       "phoenix    18507.0  56712.0  990314.0     1141.0   6066.0   3.064354   \n",
       "charlotte   2721.0  12100.0  159879.0      864.0   1663.0   4.446895   \n",
       "madison     1022.0   4815.0   52763.0      678.0    711.0   4.711350   \n",
       "\n",
       "                                                     user_diff_checkins  ...  \\\n",
       "          checkins/users checkins/pois pois/subareas               mean  ...   \n",
       "city                                                                     ...   \n",
       "lasvegas       50.281306     18.293516     12.867625          39.555825  ...   \n",
       "phoenix        53.510239     17.462160      9.349159          44.916680  ...   \n",
       "charlotte      58.757442     13.213140      7.276007          49.356487  ...   \n",
       "madison        51.627202     10.958048      6.772152          44.302348  ...   \n",
       "\n",
       "          subareas_poi                 subareas_checkin              \\\n",
       "                   std  25%  50%   75%            count        mean   \n",
       "city                                                                  \n",
       "lasvegas     21.936041  1.0  4.0  15.0           1115.0  279.095067   \n",
       "phoenix      16.527987  1.0  3.0  11.0           5087.0  194.675447   \n",
       "charlotte    13.657366  1.0  2.0   8.0           1256.0  127.292197   \n",
       "madison      13.940471  1.0  2.0   7.0            545.0   96.812844   \n",
       "\n",
       "                                         \n",
       "                  std  25%   50%    75%  \n",
       "city                                     \n",
       "lasvegas   739.281447  7.0  35.0  217.0  \n",
       "phoenix    532.287609  6.0  28.0  146.0  \n",
       "charlotte  378.609866  5.0  20.0   93.0  \n",
       "madison    300.596548  6.0  20.0   75.0  \n",
       "\n",
       "[4 rows x 31 columns]"
      ]
     },
     "execution_count": 8,
     "metadata": {},
     "output_type": "execute_result"
    }
   ],
   "source": [
    "df_city_info"
   ]
  },
  {
   "cell_type": "code",
   "execution_count": 98,
   "metadata": {
    "autoscroll": false,
    "ein.hycell": false,
    "ein.tags": "worksheet-0",
    "slideshow": {
     "slide_type": "-"
    }
   },
   "outputs": [
    {
     "data": {
      "text/html": [
       "<div>\n",
       "<style scoped>\n",
       "    .dataframe tbody tr th:only-of-type {\n",
       "        vertical-align: middle;\n",
       "    }\n",
       "\n",
       "    .dataframe tbody tr th {\n",
       "        vertical-align: top;\n",
       "    }\n",
       "\n",
       "    .dataframe thead th {\n",
       "        text-align: right;\n",
       "    }\n",
       "</style>\n",
       "<table border=\"1\" class=\"dataframe\">\n",
       "  <thead>\n",
       "    <tr style=\"text-align: right;\">\n",
       "      <th></th>\n",
       "      <th>Usuários</th>\n",
       "      <th>POIs</th>\n",
       "      <th>Check-ins</th>\n",
       "    </tr>\n",
       "    <tr>\n",
       "      <th>city</th>\n",
       "      <th></th>\n",
       "      <th></th>\n",
       "      <th></th>\n",
       "    </tr>\n",
       "  </thead>\n",
       "  <tbody>\n",
       "    <tr>\n",
       "      <th>lasvegas</th>\n",
       "      <td>6189.0</td>\n",
       "      <td>17011.0</td>\n",
       "      <td>311191.0</td>\n",
       "    </tr>\n",
       "    <tr>\n",
       "      <th>phoenix</th>\n",
       "      <td>18507.0</td>\n",
       "      <td>56712.0</td>\n",
       "      <td>990314.0</td>\n",
       "    </tr>\n",
       "    <tr>\n",
       "      <th>charlotte</th>\n",
       "      <td>2721.0</td>\n",
       "      <td>12100.0</td>\n",
       "      <td>159879.0</td>\n",
       "    </tr>\n",
       "    <tr>\n",
       "      <th>madison</th>\n",
       "      <td>1022.0</td>\n",
       "      <td>4815.0</td>\n",
       "      <td>52763.0</td>\n",
       "    </tr>\n",
       "  </tbody>\n",
       "</table>\n",
       "</div>"
      ],
      "text/plain": [
       "           Usuários     POIs  Check-ins\n",
       "city                                   \n",
       "lasvegas     6189.0  17011.0   311191.0\n",
       "phoenix     18507.0  56712.0   990314.0\n",
       "charlotte    2721.0  12100.0   159879.0\n",
       "madison      1022.0   4815.0    52763.0"
      ]
     },
     "execution_count": 98,
     "metadata": {},
     "output_type": "execute_result"
    },
    {
     "data": {
      "image/png": "[encoded data removed]",
      "text/plain": [
       "<Figure size 432x288 with 1 Axes>"
      ]
     },
     "metadata": {},
     "output_type": "display_data"
    }
   ],
   "source": [
    "df_tmp=df_city_info.copy()\n",
    "df_tmp=df_tmp[[('general','users'),('general','pois'),('general','checkins')]]\n",
    "df_tmp.columns=df_tmp.columns.droplevel()\n",
    "df_tmp.rename(columns={'users':'Usuários','pois':'POIs','checkins':'Check-ins'},inplace=True)\n",
    "p=df_tmp.plot.bar()\n",
    "p.set_xlabel(\"Cidades\")\n",
    "p.set_ylabel(\"Quantidade\")\n",
    "df_tmp"
   ]
  },
  {
   "cell_type": "code",
   "execution_count": 11,
   "metadata": {
    "autoscroll": false,
    "ein.hycell": false,
    "ein.tags": "worksheet-0",
    "slideshow": {
     "slide_type": "-"
    }
   },
   "outputs": [
    {
     "data": {
      "text/html": [
       "<div>\n",
       "<style scoped>\n",
       "    .dataframe tbody tr th:only-of-type {\n",
       "        vertical-align: middle;\n",
       "    }\n",
       "\n",
       "    .dataframe tbody tr th {\n",
       "        vertical-align: top;\n",
       "    }\n",
       "\n",
       "    .dataframe thead th {\n",
       "        text-align: right;\n",
       "    }\n",
       "</style>\n",
       "<table border=\"1\" class=\"dataframe\">\n",
       "  <thead>\n",
       "    <tr style=\"text-align: right;\">\n",
       "      <th></th>\n",
       "      <th>Usuários</th>\n",
       "      <th>POIs</th>\n",
       "    </tr>\n",
       "    <tr>\n",
       "      <th>city</th>\n",
       "      <th></th>\n",
       "      <th></th>\n",
       "    </tr>\n",
       "  </thead>\n",
       "  <tbody>\n",
       "    <tr>\n",
       "      <th>lasvegas</th>\n",
       "      <td>6189.0</td>\n",
       "      <td>17011.0</td>\n",
       "    </tr>\n",
       "    <tr>\n",
       "      <th>phoenix</th>\n",
       "      <td>18507.0</td>\n",
       "      <td>56712.0</td>\n",
       "    </tr>\n",
       "    <tr>\n",
       "      <th>charlotte</th>\n",
       "      <td>2721.0</td>\n",
       "      <td>12100.0</td>\n",
       "    </tr>\n",
       "    <tr>\n",
       "      <th>madison</th>\n",
       "      <td>1022.0</td>\n",
       "      <td>4815.0</td>\n",
       "    </tr>\n",
       "  </tbody>\n",
       "</table>\n",
       "</div>"
      ],
      "text/plain": [
       "           Usuários     POIs\n",
       "city                        \n",
       "lasvegas     6189.0  17011.0\n",
       "phoenix     18507.0  56712.0\n",
       "charlotte    2721.0  12100.0\n",
       "madison      1022.0   4815.0"
      ]
     },
     "execution_count": 11,
     "metadata": {},
     "output_type": "execute_result"
    },
    {
     "data": {
      "image/png": "[encoded data removed]",
      "text/plain": [
       "<Figure size 432x288 with 1 Axes>"
      ]
     },
     "metadata": {},
     "output_type": "display_data"
    }
   ],
   "source": [
    "df_tmp=df_city_info.copy()\n",
    "df_tmp=df_tmp[[('general','users'),('general','pois')]]\n",
    "df_tmp.columns=df_tmp.columns.droplevel()\n",
    "df_tmp.rename(columns={'users':'Usuários','pois':'POIs'},inplace=True)\n",
    "p=df_tmp.plot.bar()\n",
    "p.set_xlabel(\"Cidades\")\n",
    "p.set_ylabel(\"Quantidade\")\n",
    "df_tmp"
   ]
  },
  {
   "cell_type": "code",
   "execution_count": 99,
   "metadata": {
    "autoscroll": false,
    "ein.hycell": false,
    "ein.tags": "worksheet-0",
    "slideshow": {
     "slide_type": "-"
    }
   },
   "outputs": [
    {
     "data": {
      "text/html": [
       "<div>\n",
       "<style scoped>\n",
       "    .dataframe tbody tr th:only-of-type {\n",
       "        vertical-align: middle;\n",
       "    }\n",
       "\n",
       "    .dataframe tbody tr th {\n",
       "        vertical-align: top;\n",
       "    }\n",
       "\n",
       "    .dataframe thead th {\n",
       "        text-align: right;\n",
       "    }\n",
       "</style>\n",
       "<table border=\"1\" class=\"dataframe\">\n",
       "  <thead>\n",
       "    <tr style=\"text-align: right;\">\n",
       "      <th></th>\n",
       "      <th>Categorias</th>\n",
       "      <th>Subáreas</th>\n",
       "    </tr>\n",
       "    <tr>\n",
       "      <th>city</th>\n",
       "      <th></th>\n",
       "      <th></th>\n",
       "    </tr>\n",
       "  </thead>\n",
       "  <tbody>\n",
       "    <tr>\n",
       "      <th>lasvegas</th>\n",
       "      <td>1013.0</td>\n",
       "      <td>1322.0</td>\n",
       "    </tr>\n",
       "    <tr>\n",
       "      <th>phoenix</th>\n",
       "      <td>1141.0</td>\n",
       "      <td>6066.0</td>\n",
       "    </tr>\n",
       "    <tr>\n",
       "      <th>charlotte</th>\n",
       "      <td>864.0</td>\n",
       "      <td>1663.0</td>\n",
       "    </tr>\n",
       "    <tr>\n",
       "      <th>madison</th>\n",
       "      <td>678.0</td>\n",
       "      <td>711.0</td>\n",
       "    </tr>\n",
       "  </tbody>\n",
       "</table>\n",
       "</div>"
      ],
      "text/plain": [
       "           Categorias  Subáreas\n",
       "city                           \n",
       "lasvegas       1013.0    1322.0\n",
       "phoenix        1141.0    6066.0\n",
       "charlotte       864.0    1663.0\n",
       "madison         678.0     711.0"
      ]
     },
     "execution_count": 99,
     "metadata": {},
     "output_type": "execute_result"
    },
    {
     "data": {
      "image/png": "[encoded data removed]",
      "text/plain": [
       "<Figure size 432x288 with 1 Axes>"
      ]
     },
     "metadata": {},
     "output_type": "display_data"
    }
   ],
   "source": [
    "df_tmp=df_city_info.copy()\n",
    "df_tmp=df_tmp[[('general','categories'),('general','subareas')]]\n",
    "df_tmp.columns=df_tmp.columns.droplevel()\n",
    "df_tmp.rename(columns={'categories':'Categorias','subareas':'Subáreas'},inplace=True)\n",
    "p=df_tmp.plot.bar()\n",
    "p.set_xlabel(\"Cidades\")\n",
    "p.set_ylabel(\"Quantidade\")\n",
    "df_tmp\n"
   ]
  },
  {
   "cell_type": "code",
   "execution_count": 102,
   "metadata": {
    "autoscroll": false,
    "ein.hycell": false,
    "ein.tags": "worksheet-0",
    "slideshow": {
     "slide_type": "-"
    }
   },
   "outputs": [
    {
     "data": {
      "text/html": [
       "<div>\n",
       "<style scoped>\n",
       "    .dataframe tbody tr th:only-of-type {\n",
       "        vertical-align: middle;\n",
       "    }\n",
       "\n",
       "    .dataframe tbody tr th {\n",
       "        vertical-align: top;\n",
       "    }\n",
       "\n",
       "    .dataframe thead th {\n",
       "        text-align: right;\n",
       "    }\n",
       "</style>\n",
       "<table border=\"1\" class=\"dataframe\">\n",
       "  <thead>\n",
       "    <tr style=\"text-align: right;\">\n",
       "      <th></th>\n",
       "      <th>POIs/Usuários</th>\n",
       "      <th>Check-ins/Usuários</th>\n",
       "      <th>Check-ins/POIs</th>\n",
       "      <th>POIs/Subáreas</th>\n",
       "    </tr>\n",
       "    <tr>\n",
       "      <th>city</th>\n",
       "      <th></th>\n",
       "      <th></th>\n",
       "      <th></th>\n",
       "      <th></th>\n",
       "    </tr>\n",
       "  </thead>\n",
       "  <tbody>\n",
       "    <tr>\n",
       "      <th>lasvegas</th>\n",
       "      <td>2.748586</td>\n",
       "      <td>50.281306</td>\n",
       "      <td>18.293516</td>\n",
       "      <td>12.867625</td>\n",
       "    </tr>\n",
       "    <tr>\n",
       "      <th>phoenix</th>\n",
       "      <td>3.064354</td>\n",
       "      <td>53.510239</td>\n",
       "      <td>17.462160</td>\n",
       "      <td>9.349159</td>\n",
       "    </tr>\n",
       "    <tr>\n",
       "      <th>charlotte</th>\n",
       "      <td>4.446895</td>\n",
       "      <td>58.757442</td>\n",
       "      <td>13.213140</td>\n",
       "      <td>7.276007</td>\n",
       "    </tr>\n",
       "    <tr>\n",
       "      <th>madison</th>\n",
       "      <td>4.711350</td>\n",
       "      <td>51.627202</td>\n",
       "      <td>10.958048</td>\n",
       "      <td>6.772152</td>\n",
       "    </tr>\n",
       "  </tbody>\n",
       "</table>\n",
       "</div>"
      ],
      "text/plain": [
       "           POIs/Usuários  Check-ins/Usuários  Check-ins/POIs  POIs/Subáreas\n",
       "city                                                                       \n",
       "lasvegas        2.748586           50.281306       18.293516      12.867625\n",
       "phoenix         3.064354           53.510239       17.462160       9.349159\n",
       "charlotte       4.446895           58.757442       13.213140       7.276007\n",
       "madison         4.711350           51.627202       10.958048       6.772152"
      ]
     },
     "execution_count": 102,
     "metadata": {},
     "output_type": "execute_result"
    },
    {
     "data": {
      "image/png": "[encoded data removed]",
      "text/plain": [
       "<Figure size 432x288 with 1 Axes>"
      ]
     },
     "metadata": {},
     "output_type": "display_data"
    }
   ],
   "source": [
    "df_tmp=df_city_info.copy()\n",
    "df_tmp=df_tmp[[('general','pois/users'),('general','checkins/users'),('general','checkins/pois'),('general','pois/subareas')]]\n",
    "df_tmp.columns=df_tmp.columns.droplevel()\n",
    "df_tmp.rename(columns={'pois/users':'POIs/Usuários','checkins/users':'Check-ins/Usuários','checkins/pois':'Check-ins/POIs','pois/subareas':'POIs/Subáreas'},inplace=True)\n",
    "p=df_tmp.plot.bar()\n",
    "p.set_xlabel(\"Cidades\")\n",
    "p.set_ylabel(\"Quantidade\")\n",
    "df_tmp\n"
   ]
  },
  {
   "cell_type": "code",
   "execution_count": 113,
   "metadata": {
    "autoscroll": false,
    "ein.hycell": false,
    "ein.tags": "worksheet-0",
    "slideshow": {
     "slide_type": "-"
    }
   },
   "outputs": [
    {
     "data": {
      "text/html": [
       "<div>\n",
       "<style scoped>\n",
       "    .dataframe tbody tr th:only-of-type {\n",
       "        vertical-align: middle;\n",
       "    }\n",
       "\n",
       "    .dataframe tbody tr th {\n",
       "        vertical-align: top;\n",
       "    }\n",
       "\n",
       "    .dataframe thead th {\n",
       "        text-align: right;\n",
       "    }\n",
       "</style>\n",
       "<table border=\"1\" class=\"dataframe\">\n",
       "  <thead>\n",
       "    <tr style=\"text-align: right;\">\n",
       "      <th></th>\n",
       "      <th>Check-ins únicos</th>\n",
       "      <th>Check-ins</th>\n",
       "    </tr>\n",
       "    <tr>\n",
       "      <th>city</th>\n",
       "      <th></th>\n",
       "      <th></th>\n",
       "    </tr>\n",
       "  </thead>\n",
       "  <tbody>\n",
       "    <tr>\n",
       "      <th>lasvegas</th>\n",
       "      <td>39.555825</td>\n",
       "      <td>50.281306</td>\n",
       "    </tr>\n",
       "    <tr>\n",
       "      <th>phoenix</th>\n",
       "      <td>44.916680</td>\n",
       "      <td>53.510239</td>\n",
       "    </tr>\n",
       "    <tr>\n",
       "      <th>charlotte</th>\n",
       "      <td>49.356487</td>\n",
       "      <td>58.757442</td>\n",
       "    </tr>\n",
       "    <tr>\n",
       "      <th>madison</th>\n",
       "      <td>44.302348</td>\n",
       "      <td>51.627202</td>\n",
       "    </tr>\n",
       "  </tbody>\n",
       "</table>\n",
       "</div>"
      ],
      "text/plain": [
       "           Check-ins únicos  Check-ins\n",
       "city                                  \n",
       "lasvegas          39.555825  50.281306\n",
       "phoenix           44.916680  53.510239\n",
       "charlotte         49.356487  58.757442\n",
       "madison           44.302348  51.627202"
      ]
     },
     "execution_count": 113,
     "metadata": {},
     "output_type": "execute_result"
    },
    {
     "data": {
      "image/png": "[encoded data removed]",
      "text/plain": [
       "<Figure size 432x288 with 1 Axes>"
      ]
     },
     "metadata": {},
     "output_type": "display_data"
    }
   ],
   "source": [
    "df_tmp=df_city_info.copy()\n",
    "df_tmp=df_tmp[[\n",
    "    ('user_diff_checkins','mean'),\n",
    "    ('user_checkins','mean')]]\n",
    "df_tmp.columns=df_tmp.columns.droplevel()\n",
    "df_tmp.columns=[0,1]\n",
    "df_tmp.rename(columns={0:'Check-ins únicos',1:'Check-ins'},inplace=True)\n",
    "p=df_tmp.plot.bar()\n",
    "p.set_xlabel(\"Cidades\")\n",
    "p.set_ylabel(\"Quantidade\")\n",
    "df_tmp\n"
   ]
  },
  {
   "cell_type": "code",
   "execution_count": 120,
   "metadata": {
    "autoscroll": false,
    "ein.hycell": false,
    "ein.tags": "worksheet-0",
    "slideshow": {
     "slide_type": "-"
    }
   },
   "outputs": [
    {
     "data": {
      "text/html": [
       "<div>\n",
       "<style scoped>\n",
       "    .dataframe tbody tr th:only-of-type {\n",
       "        vertical-align: middle;\n",
       "    }\n",
       "\n",
       "    .dataframe tbody tr th {\n",
       "        vertical-align: top;\n",
       "    }\n",
       "\n",
       "    .dataframe thead th {\n",
       "        text-align: right;\n",
       "    }\n",
       "</style>\n",
       "<table border=\"1\" class=\"dataframe\">\n",
       "  <thead>\n",
       "    <tr style=\"text-align: right;\">\n",
       "      <th></th>\n",
       "      <th>Média de POIs nas subáreas</th>\n",
       "      <th>Desvio padrão de POIs nas subáreas</th>\n",
       "    </tr>\n",
       "    <tr>\n",
       "      <th>city</th>\n",
       "      <th></th>\n",
       "      <th></th>\n",
       "    </tr>\n",
       "  </thead>\n",
       "  <tbody>\n",
       "    <tr>\n",
       "      <th>lasvegas</th>\n",
       "      <td>12.867625</td>\n",
       "      <td>21.936041</td>\n",
       "    </tr>\n",
       "    <tr>\n",
       "      <th>phoenix</th>\n",
       "      <td>9.349159</td>\n",
       "      <td>16.527987</td>\n",
       "    </tr>\n",
       "    <tr>\n",
       "      <th>charlotte</th>\n",
       "      <td>7.276007</td>\n",
       "      <td>13.657366</td>\n",
       "    </tr>\n",
       "    <tr>\n",
       "      <th>madison</th>\n",
       "      <td>6.772152</td>\n",
       "      <td>13.940471</td>\n",
       "    </tr>\n",
       "  </tbody>\n",
       "</table>\n",
       "</div>"
      ],
      "text/plain": [
       "           Média de POIs nas subáreas  Desvio padrão de POIs nas subáreas\n",
       "city                                                                     \n",
       "lasvegas                    12.867625                           21.936041\n",
       "phoenix                      9.349159                           16.527987\n",
       "charlotte                    7.276007                           13.657366\n",
       "madison                      6.772152                           13.940471"
      ]
     },
     "execution_count": 120,
     "metadata": {},
     "output_type": "execute_result"
    },
    {
     "data": {
      "image/png": "[encoded data removed]",
      "text/plain": [
       "<Figure size 432x288 with 1 Axes>"
      ]
     },
     "metadata": {},
     "output_type": "display_data"
    }
   ],
   "source": [
    "df_tmp=df_city_info.copy()\n",
    "df_tmp=df_tmp[[\n",
    "    ('subareas_poi','mean'),\n",
    "    ('subareas_poi','std')]]\n",
    "df_tmp.columns=df_tmp.columns.droplevel()\n",
    "df_tmp.columns=[0,1]\n",
    "df_tmp.rename(columns={0:'Média de POIs nas subáreas',1:'Desvio padrão de POIs nas subáreas'},inplace=True)\n",
    "p=df_tmp.plot.bar()\n",
    "p.set_xlabel(\"Cidades\")\n",
    "p.set_ylabel(\"Quantidade\")\n",
    "df_tmp\n"
   ]
  },
  {
   "cell_type": "code",
   "execution_count": 15,
   "metadata": {
    "autoscroll": false,
    "ein.hycell": false,
    "ein.tags": "worksheet-0",
    "slideshow": {
     "slide_type": "-"
    }
   },
   "outputs": [
    {
     "data": {
      "text/html": [
       "<div>\n",
       "<style scoped>\n",
       "    .dataframe tbody tr th:only-of-type {\n",
       "        vertical-align: middle;\n",
       "    }\n",
       "\n",
       "    .dataframe tbody tr th {\n",
       "        vertical-align: top;\n",
       "    }\n",
       "\n",
       "    .dataframe thead th {\n",
       "        text-align: right;\n",
       "    }\n",
       "</style>\n",
       "<table border=\"1\" class=\"dataframe\">\n",
       "  <thead>\n",
       "    <tr style=\"text-align: right;\">\n",
       "      <th></th>\n",
       "      <th>Média de check-ins nas subáreas</th>\n",
       "      <th>Desvio padrão de check-ins nas subáreas</th>\n",
       "    </tr>\n",
       "    <tr>\n",
       "      <th>city</th>\n",
       "      <th></th>\n",
       "      <th></th>\n",
       "    </tr>\n",
       "  </thead>\n",
       "  <tbody>\n",
       "    <tr>\n",
       "      <th>lasvegas</th>\n",
       "      <td>279.095067</td>\n",
       "      <td>739.281447</td>\n",
       "    </tr>\n",
       "    <tr>\n",
       "      <th>phoenix</th>\n",
       "      <td>194.675447</td>\n",
       "      <td>532.287609</td>\n",
       "    </tr>\n",
       "    <tr>\n",
       "      <th>charlotte</th>\n",
       "      <td>127.292197</td>\n",
       "      <td>378.609866</td>\n",
       "    </tr>\n",
       "    <tr>\n",
       "      <th>madison</th>\n",
       "      <td>96.812844</td>\n",
       "      <td>300.596548</td>\n",
       "    </tr>\n",
       "  </tbody>\n",
       "</table>\n",
       "</div>"
      ],
      "text/plain": [
       "           Média de check-ins nas subáreas  \\\n",
       "city                                         \n",
       "lasvegas                        279.095067   \n",
       "phoenix                         194.675447   \n",
       "charlotte                       127.292197   \n",
       "madison                          96.812844   \n",
       "\n",
       "           Desvio padrão de check-ins nas subáreas  \n",
       "city                                                \n",
       "lasvegas                                739.281447  \n",
       "phoenix                                 532.287609  \n",
       "charlotte                               378.609866  \n",
       "madison                                 300.596548  "
      ]
     },
     "execution_count": 15,
     "metadata": {},
     "output_type": "execute_result"
    },
    {
     "data": {
      "image/png": "[encoded data removed]",
      "text/plain": [
       "<Figure size 432x288 with 1 Axes>"
      ]
     },
     "metadata": {},
     "output_type": "display_data"
    }
   ],
   "source": [
    "df_tmp=df_city_info.copy()\n",
    "df_tmp=df_tmp[[\n",
    "    ('subareas_checkin','mean'),\n",
    "    ('subareas_checkin','std')]]\n",
    "df_tmp.columns=df_tmp.columns.droplevel()\n",
    "df_tmp.columns=[0,1]\n",
    "df_tmp.rename(columns={0:'Média de check-ins nas subáreas',1:'Desvio padrão de check-ins nas subáreas'},inplace=True)\n",
    "p=df_tmp.plot.bar()\n",
    "p.set_xlabel(\"Cidades\")\n",
    "p.set_ylabel(\"Quantidade\")\n",
    "df_tmp\n"
   ]
  },
  {
   "cell_type": "code",
   "execution_count": 23,
   "metadata": {
    "autoscroll": false,
    "ein.hycell": false,
    "ein.tags": "worksheet-0",
    "slideshow": {
     "slide_type": "-"
    }
   },
   "outputs": [
    {
     "data": {
      "text/html": [
       "<div>\n",
       "<style scoped>\n",
       "    .dataframe tbody tr th:only-of-type {\n",
       "        vertical-align: middle;\n",
       "    }\n",
       "\n",
       "    .dataframe tbody tr th {\n",
       "        vertical-align: top;\n",
       "    }\n",
       "\n",
       "    .dataframe thead th {\n",
       "        text-align: right;\n",
       "    }\n",
       "</style>\n",
       "<table border=\"1\" class=\"dataframe\">\n",
       "  <thead>\n",
       "    <tr style=\"text-align: right;\">\n",
       "      <th></th>\n",
       "      <th>25%</th>\n",
       "      <th>50%</th>\n",
       "      <th>75%</th>\n",
       "      <th>std</th>\n",
       "    </tr>\n",
       "    <tr>\n",
       "      <th>city</th>\n",
       "      <th></th>\n",
       "      <th></th>\n",
       "      <th></th>\n",
       "      <th></th>\n",
       "    </tr>\n",
       "  </thead>\n",
       "  <tbody>\n",
       "    <tr>\n",
       "      <th>lasvegas</th>\n",
       "      <td>24.0</td>\n",
       "      <td>32.0</td>\n",
       "      <td>51.0</td>\n",
       "      <td>65.443585</td>\n",
       "    </tr>\n",
       "    <tr>\n",
       "      <th>phoenix</th>\n",
       "      <td>24.0</td>\n",
       "      <td>32.0</td>\n",
       "      <td>53.0</td>\n",
       "      <td>73.494052</td>\n",
       "    </tr>\n",
       "    <tr>\n",
       "      <th>charlotte</th>\n",
       "      <td>24.0</td>\n",
       "      <td>33.0</td>\n",
       "      <td>59.0</td>\n",
       "      <td>81.424545</td>\n",
       "    </tr>\n",
       "    <tr>\n",
       "      <th>madison</th>\n",
       "      <td>24.0</td>\n",
       "      <td>33.0</td>\n",
       "      <td>57.0</td>\n",
       "      <td>53.835231</td>\n",
       "    </tr>\n",
       "  </tbody>\n",
       "</table>\n",
       "</div>"
      ],
      "text/plain": [
       "            25%   50%   75%        std\n",
       "city                                  \n",
       "lasvegas   24.0  32.0  51.0  65.443585\n",
       "phoenix    24.0  32.0  53.0  73.494052\n",
       "charlotte  24.0  33.0  59.0  81.424545\n",
       "madison    24.0  33.0  57.0  53.835231"
      ]
     },
     "execution_count": 23,
     "metadata": {},
     "output_type": "execute_result"
    },
    {
     "data": {
      "image/png": "[encoded data removed]",
      "text/plain": [
       "<Figure size 432x288 with 1 Axes>"
      ]
     },
     "metadata": {},
     "output_type": "display_data"
    }
   ],
   "source": [
    "# porcentagem de subareas com pois\n",
    "df_tmp=df_city_info.copy()\n",
    "df_tmp=df_tmp[[\n",
    "    ('user_checkins','25%'),\n",
    "    ('user_checkins','50%'),\n",
    "    ('user_checkins','75%'),\n",
    "    ('user_checkins','std')\n",
    "]]\n",
    "df_tmp.columns=df_tmp.columns.droplevel()\n",
    "p=df_tmp.plot.bar(title=\"Percentis e desvio padrão de check-ins de usuários\")\n",
    "p.set_xlabel(\"Cidades\")\n",
    "p.set_ylabel(\"Quantidade\")\n",
    "df_tmp\n"
   ]
  },
  {
   "cell_type": "code",
   "execution_count": 24,
   "metadata": {
    "autoscroll": false,
    "ein.hycell": false,
    "ein.tags": "worksheet-0",
    "slideshow": {
     "slide_type": "-"
    }
   },
   "outputs": [
    {
     "data": {
      "text/html": [
       "<div>\n",
       "<style scoped>\n",
       "    .dataframe tbody tr th:only-of-type {\n",
       "        vertical-align: middle;\n",
       "    }\n",
       "\n",
       "    .dataframe tbody tr th {\n",
       "        vertical-align: top;\n",
       "    }\n",
       "\n",
       "    .dataframe thead th {\n",
       "        text-align: right;\n",
       "    }\n",
       "</style>\n",
       "<table border=\"1\" class=\"dataframe\">\n",
       "  <thead>\n",
       "    <tr style=\"text-align: right;\">\n",
       "      <th></th>\n",
       "      <th>25%</th>\n",
       "      <th>50%</th>\n",
       "      <th>75%</th>\n",
       "      <th>std</th>\n",
       "    </tr>\n",
       "    <tr>\n",
       "      <th>city</th>\n",
       "      <th></th>\n",
       "      <th></th>\n",
       "      <th></th>\n",
       "      <th></th>\n",
       "    </tr>\n",
       "  </thead>\n",
       "  <tbody>\n",
       "    <tr>\n",
       "      <th>lasvegas</th>\n",
       "      <td>21.0</td>\n",
       "      <td>27.0</td>\n",
       "      <td>41.0</td>\n",
       "      <td>44.142893</td>\n",
       "    </tr>\n",
       "    <tr>\n",
       "      <th>phoenix</th>\n",
       "      <td>22.0</td>\n",
       "      <td>29.0</td>\n",
       "      <td>46.0</td>\n",
       "      <td>54.019896</td>\n",
       "    </tr>\n",
       "    <tr>\n",
       "      <th>charlotte</th>\n",
       "      <td>22.0</td>\n",
       "      <td>29.0</td>\n",
       "      <td>50.0</td>\n",
       "      <td>63.362758</td>\n",
       "    </tr>\n",
       "    <tr>\n",
       "      <th>madison</th>\n",
       "      <td>23.0</td>\n",
       "      <td>30.5</td>\n",
       "      <td>51.0</td>\n",
       "      <td>38.920064</td>\n",
       "    </tr>\n",
       "  </tbody>\n",
       "</table>\n",
       "</div>"
      ],
      "text/plain": [
       "            25%   50%   75%        std\n",
       "city                                  \n",
       "lasvegas   21.0  27.0  41.0  44.142893\n",
       "phoenix    22.0  29.0  46.0  54.019896\n",
       "charlotte  22.0  29.0  50.0  63.362758\n",
       "madison    23.0  30.5  51.0  38.920064"
      ]
     },
     "execution_count": 24,
     "metadata": {},
     "output_type": "execute_result"
    },
    {
     "data": {
      "image/png": "[encoded data removed]",
      "text/plain": [
       "<Figure size 432x288 with 1 Axes>"
      ]
     },
     "metadata": {},
     "output_type": "display_data"
    }
   ],
   "source": [
    "# porcentagem de subareas com pois\n",
    "df_tmp=df_city_info.copy()\n",
    "df_tmp=df_tmp[[\n",
    "    ('user_diff_checkins','25%'),\n",
    "    ('user_diff_checkins','50%'),\n",
    "    ('user_diff_checkins','75%'),\n",
    "    ('user_diff_checkins','std')\n",
    "]]\n",
    "df_tmp.columns=df_tmp.columns.droplevel()\n",
    "p=df_tmp.plot.bar(title=\"Percentis e desvio padrão de check-ins únicos de usuários\")\n",
    "p.set_xlabel(\"Cidades\")\n",
    "p.set_ylabel(\"Quantidade\")\n",
    "df_tmp\n"
   ]
  },
  {
   "cell_type": "code",
   "execution_count": 25,
   "metadata": {
    "autoscroll": false,
    "ein.hycell": false,
    "ein.tags": "worksheet-0",
    "slideshow": {
     "slide_type": "-"
    }
   },
   "outputs": [
    {
     "data": {
      "text/html": [
       "<div>\n",
       "<style scoped>\n",
       "    .dataframe tbody tr th:only-of-type {\n",
       "        vertical-align: middle;\n",
       "    }\n",
       "\n",
       "    .dataframe tbody tr th {\n",
       "        vertical-align: top;\n",
       "    }\n",
       "\n",
       "    .dataframe thead th {\n",
       "        text-align: right;\n",
       "    }\n",
       "</style>\n",
       "<table border=\"1\" class=\"dataframe\">\n",
       "  <thead>\n",
       "    <tr style=\"text-align: right;\">\n",
       "      <th></th>\n",
       "      <th>25%</th>\n",
       "      <th>50%</th>\n",
       "      <th>75%</th>\n",
       "      <th>std</th>\n",
       "    </tr>\n",
       "    <tr>\n",
       "      <th>city</th>\n",
       "      <th></th>\n",
       "      <th></th>\n",
       "      <th></th>\n",
       "      <th></th>\n",
       "    </tr>\n",
       "  </thead>\n",
       "  <tbody>\n",
       "    <tr>\n",
       "      <th>lasvegas</th>\n",
       "      <td>1.0</td>\n",
       "      <td>4.0</td>\n",
       "      <td>15.0</td>\n",
       "      <td>21.936041</td>\n",
       "    </tr>\n",
       "    <tr>\n",
       "      <th>phoenix</th>\n",
       "      <td>1.0</td>\n",
       "      <td>3.0</td>\n",
       "      <td>11.0</td>\n",
       "      <td>16.527987</td>\n",
       "    </tr>\n",
       "    <tr>\n",
       "      <th>charlotte</th>\n",
       "      <td>1.0</td>\n",
       "      <td>2.0</td>\n",
       "      <td>8.0</td>\n",
       "      <td>13.657366</td>\n",
       "    </tr>\n",
       "    <tr>\n",
       "      <th>madison</th>\n",
       "      <td>1.0</td>\n",
       "      <td>2.0</td>\n",
       "      <td>7.0</td>\n",
       "      <td>13.940471</td>\n",
       "    </tr>\n",
       "  </tbody>\n",
       "</table>\n",
       "</div>"
      ],
      "text/plain": [
       "           25%  50%   75%        std\n",
       "city                                \n",
       "lasvegas   1.0  4.0  15.0  21.936041\n",
       "phoenix    1.0  3.0  11.0  16.527987\n",
       "charlotte  1.0  2.0   8.0  13.657366\n",
       "madison    1.0  2.0   7.0  13.940471"
      ]
     },
     "execution_count": 25,
     "metadata": {},
     "output_type": "execute_result"
    },
    {
     "data": {
      "image/png": "[encoded data removed]",
      "text/plain": [
       "<Figure size 432x288 with 1 Axes>"
      ]
     },
     "metadata": {},
     "output_type": "display_data"
    }
   ],
   "source": [
    "# porcentagem de subareas com pois\n",
    "df_tmp=df_city_info.copy()\n",
    "df_tmp=df_tmp[[\n",
    "    ('subareas_poi','25%'),\n",
    "    ('subareas_poi','50%'),\n",
    "    ('subareas_poi','75%'),\n",
    "    ('subareas_poi','std')\n",
    "]]\n",
    "df_tmp.columns=df_tmp.columns.droplevel()\n",
    "p=df_tmp.plot.bar(title=\"Percentis e desvio padrão de POIs em subáreas\")\n",
    "p.set_xlabel(\"Cidades\")\n",
    "p.set_ylabel(\"Quantidade\")\n",
    "df_tmp\n"
   ]
  },
  {
   "cell_type": "code",
   "execution_count": 26,
   "metadata": {
    "autoscroll": false,
    "ein.hycell": false,
    "ein.tags": "worksheet-0",
    "slideshow": {
     "slide_type": "-"
    }
   },
   "outputs": [
    {
     "data": {
      "text/html": [
       "<div>\n",
       "<style scoped>\n",
       "    .dataframe tbody tr th:only-of-type {\n",
       "        vertical-align: middle;\n",
       "    }\n",
       "\n",
       "    .dataframe tbody tr th {\n",
       "        vertical-align: top;\n",
       "    }\n",
       "\n",
       "    .dataframe thead th {\n",
       "        text-align: right;\n",
       "    }\n",
       "</style>\n",
       "<table border=\"1\" class=\"dataframe\">\n",
       "  <thead>\n",
       "    <tr style=\"text-align: right;\">\n",
       "      <th></th>\n",
       "      <th>25%</th>\n",
       "      <th>50%</th>\n",
       "      <th>75%</th>\n",
       "      <th>std</th>\n",
       "    </tr>\n",
       "    <tr>\n",
       "      <th>city</th>\n",
       "      <th></th>\n",
       "      <th></th>\n",
       "      <th></th>\n",
       "      <th></th>\n",
       "    </tr>\n",
       "  </thead>\n",
       "  <tbody>\n",
       "    <tr>\n",
       "      <th>lasvegas</th>\n",
       "      <td>7.0</td>\n",
       "      <td>35.0</td>\n",
       "      <td>217.0</td>\n",
       "      <td>739.281447</td>\n",
       "    </tr>\n",
       "    <tr>\n",
       "      <th>phoenix</th>\n",
       "      <td>6.0</td>\n",
       "      <td>28.0</td>\n",
       "      <td>146.0</td>\n",
       "      <td>532.287609</td>\n",
       "    </tr>\n",
       "    <tr>\n",
       "      <th>charlotte</th>\n",
       "      <td>5.0</td>\n",
       "      <td>20.0</td>\n",
       "      <td>93.0</td>\n",
       "      <td>378.609866</td>\n",
       "    </tr>\n",
       "    <tr>\n",
       "      <th>madison</th>\n",
       "      <td>6.0</td>\n",
       "      <td>20.0</td>\n",
       "      <td>75.0</td>\n",
       "      <td>300.596548</td>\n",
       "    </tr>\n",
       "  </tbody>\n",
       "</table>\n",
       "</div>"
      ],
      "text/plain": [
       "           25%   50%    75%         std\n",
       "city                                   \n",
       "lasvegas   7.0  35.0  217.0  739.281447\n",
       "phoenix    6.0  28.0  146.0  532.287609\n",
       "charlotte  5.0  20.0   93.0  378.609866\n",
       "madison    6.0  20.0   75.0  300.596548"
      ]
     },
     "execution_count": 26,
     "metadata": {},
     "output_type": "execute_result"
    },
    {
     "data": {
      "image/png": "[encoded data removed]",
      "text/plain": [
       "<Figure size 432x288 with 1 Axes>"
      ]
     },
     "metadata": {},
     "output_type": "display_data"
    }
   ],
   "source": [
    "# porcentagem de subareas com pois\n",
    "df_tmp=df_city_info.copy()\n",
    "df_tmp=df_tmp[[\n",
    "    ('subareas_checkin','25%'),\n",
    "    ('subareas_checkin','50%'),\n",
    "    ('subareas_checkin','75%'),\n",
    "    ('subareas_checkin','std')\n",
    "]]\n",
    "df_tmp.columns=df_tmp.columns.droplevel()\n",
    "p=df_tmp.plot.bar(title=\"Percentis e desvio padrão de check-ins em subáreas\")\n",
    "p.set_xlabel(\"Cidades\")\n",
    "p.set_ylabel(\"Quantidade\")\n",
    "df_tmp\n"
   ]
  }
 ],
 "metadata": {
  "kernelspec": {
   "display_name": "Python 3",
   "language": "python",
   "name": "python3"
  },
  "language_info": {
   "codemirror_mode": {
    "name": "ipython",
    "version": 3
   },
   "file_extension": ".py",
   "mimetype": "text/x-python",
   "name": "python",
   "nbconvert_exporter": "python",
   "pygments_lexer": "ipython3",
   "version": "3.7.4"
  },
  "name": "citiesreview.ipynb"
 },
 "nbformat": 4,
 "nbformat_minor": 2
}
