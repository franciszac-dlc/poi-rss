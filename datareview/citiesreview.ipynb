{
 "cells": [
  {
   "cell_type": "code",
   "execution_count": 2,
   "metadata": {
    "autoscroll": false,
    "collapsed": false,
    "ein.hycell": false,
    "ein.tags": "worksheet-0",
    "slideshow": {
     "slide_type": "-"
    }
   },
   "outputs": [],
   "source": [
    "import sys\n",
    "sys.path.append('../')\n",
    "import numpy as np\n",
    "import pandas as pd\n",
    "import networkx as nx\n",
    "import matplotlib.pyplot as plt\n",
    "import algorithms.areamanager\n",
    "%matplotlib inline\n"
   ]
  },
  {
   "cell_type": "markdown",
   "metadata": {
    "ein.tags": "worksheet-0",
    "slideshow": {
     "slide_type": "-"
    }
   },
   "source": [
    "# Categories analysis"
   ]
  },
  {
   "cell_type": "code",
   "execution_count": 4,
   "metadata": {
    "autoscroll": false,
    "collapsed": false,
    "ein.hycell": false,
    "ein.tags": "worksheet-0",
    "slideshow": {
     "slide_type": "-"
    }
   },
   "outputs": [],
   "source": [
    "df_categories=pd.read_json(\"../data/categories.json\")\n",
    "\n",
    "# dicionário alias title 2 way\n",
    "dict_alias_title=dict()\n",
    "for index, row in df_categories.iterrows():\n",
    "    dict_alias_title[row['alias']]=row['title']\n",
    "    dict_alias_title[row['title']]=row['alias']\n",
    "\n",
    "\n",
    "category_tree= nx.DiGraph()\n",
    "for index, row in df_categories.iterrows():\n",
    "    if not row['parents']:\n",
    "        category_tree.add_edge(row['alias'],'root') # root node if no parents\n",
    "    else:\n",
    "        for parent_label in row['parents']:\n",
    "            category_tree.add_edge(row['alias'],parent_label)\n",
    "\n",
    "undirected_category_tree=category_tree.to_undirected()\n",
    "# dict alias depth\n",
    "dict_alias_depth=dict()\n",
    "for index, row in df_categories.iterrows():\n",
    "    dict_alias_depth[row['alias']]=nx.shortest_path_length(category_tree,row['alias'],'root')\n",
    "dict_alias_depth['root']=0\n",
    "df_categories=None"
   ]
  },
  {
   "cell_type": "code",
   "execution_count": 5,
   "metadata": {
    "autoscroll": false,
    "collapsed": false,
    "ein.hycell": false,
    "ein.tags": "worksheet-0",
    "slideshow": {
     "slide_type": "-"
    }
   },
   "outputs": [
    {
     "name": "stdout",
     "output_type": "stream",
     "text": [
      "Número de categorias sem filtragem: 1566\n"
     ]
    }
   ],
   "source": [
    "print(\"Número de categorias sem filtragem:\",len(category_tree))"
   ]
  },
  {
   "cell_type": "code",
   "execution_count": 6,
   "metadata": {
    "autoscroll": false,
    "collapsed": false,
    "ein.hycell": false,
    "ein.tags": "worksheet-0",
    "slideshow": {
     "slide_type": "-"
    }
   },
   "outputs": [
    {
     "data": {
      "text/plain": [
       "[1, 22, 997, 527, 19]"
      ]
     },
     "execution_count": 6,
     "metadata": {},
     "output_type": "execute_result"
    }
   ],
   "source": [
    "count_nodes_in_depth=[0,0,0,0,0]\n",
    "for category in category_tree.nodes:\n",
    "    if count_nodes_in_depth[dict_alias_depth[category]] is None:\n",
    "        count_nodes_in_depth[dict_alias_depth[category]]\n",
    "    else:\n",
    "        count_nodes_in_depth[dict_alias_depth[category]]=count_nodes_in_depth[dict_alias_depth[category]]+1\n",
    "count_nodes_in_depth"
   ]
  },
  {
   "cell_type": "code",
   "execution_count": 20,
   "metadata": {
    "autoscroll": false,
    "collapsed": false,
    "ein.hycell": false,
    "ein.tags": "worksheet-0",
    "slideshow": {
     "slide_type": "-"
    }
   },
   "outputs": [
    {
     "data": {
      "text/plain": [
       "<matplotlib.axes._subplots.AxesSubplot at 0x7fec2baab390>"
      ]
     },
     "execution_count": 20,
     "metadata": {},
     "output_type": "execute_result"
    },
    {
     "data": {
      "image/png": "[encoded data removed]",
      "text/plain": [
       "<Figure size 432x288 with 1 Axes>"
      ]
     },
     "metadata": {},
     "output_type": "display_data"
    }
   ],
   "source": [
    "df=pd.DataFrame(count_nodes_in_depth,columns=['Quantidade de categorias'])\n",
    "df.index.names=['Nivel']\n",
    "df.plot(kind='bar')"
   ]
  },
  {
   "cell_type": "code",
   "execution_count": 23,
   "metadata": {
    "autoscroll": false,
    "collapsed": false,
    "ein.hycell": false,
    "ein.tags": "worksheet-0",
    "slideshow": {
     "slide_type": "-"
    }
   },
   "outputs": [
    {
     "data": {
      "text/html": [
       "<div>\n",
       "<style scoped>\n",
       "    .dataframe tbody tr th:only-of-type {\n",
       "        vertical-align: middle;\n",
       "    }\n",
       "\n",
       "    .dataframe tbody tr th {\n",
       "        vertical-align: top;\n",
       "    }\n",
       "\n",
       "    .dataframe thead th {\n",
       "        text-align: right;\n",
       "    }\n",
       "</style>\n",
       "<table border=\"1\" class=\"dataframe\">\n",
       "  <thead>\n",
       "    <tr style=\"text-align: right;\">\n",
       "      <th></th>\n",
       "      <th>Quantidade de categorias</th>\n",
       "    </tr>\n",
       "    <tr>\n",
       "      <th>Nivel</th>\n",
       "      <th></th>\n",
       "    </tr>\n",
       "  </thead>\n",
       "  <tbody>\n",
       "    <tr>\n",
       "      <th>0</th>\n",
       "      <td>1</td>\n",
       "    </tr>\n",
       "    <tr>\n",
       "      <th>1</th>\n",
       "      <td>22</td>\n",
       "    </tr>\n",
       "    <tr>\n",
       "      <th>2</th>\n",
       "      <td>997</td>\n",
       "    </tr>\n",
       "    <tr>\n",
       "      <th>3</th>\n",
       "      <td>527</td>\n",
       "    </tr>\n",
       "    <tr>\n",
       "      <th>4</th>\n",
       "      <td>19</td>\n",
       "    </tr>\n",
       "  </tbody>\n",
       "</table>\n",
       "</div>"
      ],
      "text/plain": [
       "       Quantidade de categorias\n",
       "Nivel                          \n",
       "0                             1\n",
       "1                            22\n",
       "2                           997\n",
       "3                           527\n",
       "4                            19"
      ]
     },
     "execution_count": 23,
     "metadata": {},
     "output_type": "execute_result"
    }
   ],
   "source": [
    "df"
   ]
  },
  {
   "cell_type": "markdown",
   "metadata": {
    "ein.tags": "worksheet-0",
    "slideshow": {
     "slide_type": "-"
    }
   },
   "source": [
    "# Review and tip dataset "
   ]
  },
  {
   "cell_type": "code",
   "execution_count": 114,
   "metadata": {
    "autoscroll": false,
    "collapsed": false,
    "ein.hycell": false,
    "ein.tags": "worksheet-0",
    "slideshow": {
     "slide_type": "-"
    }
   },
   "outputs": [],
   "source": [
    "columns=[('categoriaaa','users'),\n",
    "         ('categoriaaa','pois'),\n",
    "         ('categoriaaa','checkins'),\n",
    "         ('categoriaaa','categories'),\n",
    "         ('categoriaaa','subareas'),\n",
    "         ('categoriaaa','pois/users'),\n",
    "         ('categoriaaa','checkins/users'),\n",
    "         ('categoriaaa','checkins/pois'),\n",
    "         ('categoriaaa','pois/subareas'),\n",
    "         ('user_diff_checkins','mean'),\n",
    "         ('user_diff_checkins','std'),\n",
    "         ('user_diff_checkins','25%'),\n",
    "         ('user_diff_checkins','50%'),\n",
    "         ('user_diff_checkins','75%'),\n",
    "         ('user_checkins','mean'),\n",
    "         ('user_checkins','std'),\n",
    "         ('user_checkins','25%'),\n",
    "         ('user_checkins','50%'),\n",
    "         ('user_checkins','75%'),\n",
    "         ('subareas_poi','count'),\n",
    "         ('subareas_poi','mean'),\n",
    "         ('subareas_poi','std'),\n",
    "         ('subareas_poi','25%'),\n",
    "         ('subareas_poi','50%'),\n",
    "         ('subareas_poi','75%'),\n",
    "         ('subareas_checkin','count'),\n",
    "         ('subareas_checkin','mean'),\n",
    "         ('subareas_checkin','std'),\n",
    "         ('subareas_checkin','25%'),\n",
    "         ('subareas_checkin','50%'),\n",
    "         ('subareas_checkin','75%')]\n",
    "\n",
    "df_city_info=pd.DataFrame(columns=pd.MultiIndex.from_tuples(columns))\n",
    "df_city_info.index.name=\"city\"\n"
   ]
  },
  {
   "cell_type": "code",
   "execution_count": 115,
   "metadata": {
    "autoscroll": false,
    "collapsed": false,
    "ein.hycell": false,
    "ein.tags": "worksheet-0",
    "slideshow": {
     "slide_type": "-"
    }
   },
   "outputs": [],
   "source": [
    "def string_to_array(string):\n",
    "    if string == '':\n",
    "        return list()\n",
    "    return eval(string)\n",
    "\n",
    "def cities_info_generator(city_name):\n",
    "    df_city_checkin=pd.read_csv(\"../data/checkin/\"+city_name+\".csv\",converters={'categories':string_to_array})\n",
    "    df_city_checkin.head()\n",
    "    df_city_poi=pd.read_csv(\"../data/poi/\"+city_name+\".csv\",converters={'categories':string_to_array})\n",
    "    df_city_poi.head()\n",
    "    # number of users\n",
    "    users=df_city_checkin['user_id'].nunique()\n",
    "    # number of pois\n",
    "    pois=df_city_poi['business_id'].count()\n",
    "    # number of check-ins\n",
    "    checkins=df_city_checkin['date'].count()\n",
    "    # number of categories\n",
    "    categories_in_city=set()\n",
    "    df_city_checkin.apply(lambda checkin: categories_in_city.update(checkin['categories']),axis=1)\n",
    "    categories=len(categories_in_city)\n",
    "\n",
    "    subareas=df_city_poi['subarea_id'].nunique()\n",
    "    pois_per_users=pois/users\n",
    "    checkins_per_users=checkins/users\n",
    "    checkins_per_pois=checkins/pois\n",
    "    poi_per_subarea=pois/subareas\n",
    "\n",
    "    # diff pois visited, mean of diff pois visited of users\n",
    "    user_diff_checkins=df_city_checkin[['user_id','business_id','date']].groupby(['user_id','business_id']).count().groupby('user_id').count()['date'].describe()\n",
    "    # number check-ins of a user, mean of users check-ins on pois\n",
    "    user_checkins=df_city_checkin[['user_id','business_id','date']].groupby(['user_id','business_id']).count().groupby('user_id').sum()['date'].describe()\n",
    "\n",
    "    # subareas poi\n",
    "    subareas_poi=df_city_poi[['subarea_id','business_id']].groupby('subarea_id').count().describe()['business_id']\n",
    "    subareas_checkin=df_city_checkin[['subarea_id','user_id']].groupby('subarea_id').count().describe()['user_id']\n",
    "    df_city_poi[['subarea_id','business_id']].groupby('subarea_id').count().sort_values(by='business_id',ascending=False).reset_index(drop=True).reset_index().plot.scatter(\n",
    "        x=0,y=\"business_id\")\n",
    "\n",
    "    df_city_checkin[['subarea_id','user_id']].groupby('subarea_id').count().sort_values(by='user_id',ascending=False).reset_index(drop=True).reset_index().plot.scatter(x=0,y=\"user_id\")\n",
    "    df_city_info.loc[city_name]= [users,pois,checkins,categories,subareas,\n",
    "                                pois_per_users,checkins_per_users,checkins_per_pois,poi_per_subarea,\n",
    "                                user_diff_checkins['mean'],\n",
    "                                user_diff_checkins['std'],\n",
    "                                user_diff_checkins['25%'],\n",
    "                                user_diff_checkins['50%'],\n",
    "                                user_diff_checkins['75%'],\n",
    "                                user_checkins['mean'],user_checkins['std'],\n",
    "                                user_checkins['25%'],user_checkins['50%'],\n",
    "                                user_checkins['75%'],\n",
    "                                subareas_poi['count'],\n",
    "                                subareas_poi['mean'],\n",
    "                                subareas_poi['std'],\n",
    "                                subareas_poi['25%'],\n",
    "                                subareas_poi['50%'],\n",
    "                                subareas_poi['75%'],\n",
    "                                subareas_checkin['count'],\n",
    "                                subareas_checkin['mean'],\n",
    "                                subareas_checkin['std'],\n",
    "                                subareas_checkin['25%'],\n",
    "                                subareas_checkin['50%'],\n",
    "                                subareas_checkin['75%']]\n",
    "    return df_city_info"
   ]
  }
 ],
 "metadata": {
  "kernelspec": {
   "argv": [
    "python",
    "-m",
    "ipykernel_launcher",
    "-f",
    "{connection_file}"
   ],
   "display_name": "Python 3",
   "env": null,
   "interrupt_mode": "signal",
   "language": "python",
   "metadata": null,
   "name": "python3"
  },
  "language_info": {
   "codemirror_mode": {
    "name": "ipython",
    "version": 3
   },
   "file_extension": ".py",
   "mimetype": "text/x-python",
   "name": "python",
   "nbconvert_exporter": "python",
   "pygments_lexer": "ipython3",
   "version": "3.7.4"
  },
  "name": "citiesreview.ipynb"
 },
 "nbformat": 4,
 "nbformat_minor": 2
}
